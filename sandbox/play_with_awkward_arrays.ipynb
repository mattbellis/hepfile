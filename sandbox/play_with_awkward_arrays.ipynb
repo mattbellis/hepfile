{
 "cells": [
  {
   "cell_type": "code",
   "execution_count": null,
   "id": "8810278d-96ec-4a7f-af4a-aac3955bbbf2",
   "metadata": {},
   "outputs": [],
   "source": [
    "# imports\n",
    "\n",
    "import numpy as np\n",
    "import awkward as ak\n",
    "\n",
    "import hepfile as hf"
   ]
  },
  {
   "cell_type": "code",
   "execution_count": null,
   "id": "795df400-0b2d-43d2-80eb-e346c6539bc8",
   "metadata": {},
   "outputs": [],
   "source": [
    "L1 = [[1,2,3],\n",
    "      [4,5],\n",
    "      [6]]\n",
    "\n",
    "awk = ak.Array(L1)\n",
    "\n",
    "print(awk)"
   ]
  },
  {
   "cell_type": "code",
   "execution_count": null,
   "id": "720bb622-8531-46fe-a389-7f1cb4f2ef7f",
   "metadata": {},
   "outputs": [],
   "source": [
    "ak.sum(awk, axis=0)"
   ]
  },
  {
   "cell_type": "code",
   "execution_count": null,
   "id": "afa1768a-55f2-4dd0-95e1-a7360615dc63",
   "metadata": {},
   "outputs": [],
   "source": [
    "infile = '/home/nfranz/research/hepfile/docs/example_nb/output_from_dict.hdf5'\n",
    "data, _ = hf.read.load(infile)"
   ]
  },
  {
   "cell_type": "code",
   "execution_count": null,
   "id": "4c7ceae7-d071-4108-ae55-d703a5ec537b",
   "metadata": {},
   "outputs": [],
   "source": [
    "dataAwk = hf.awkward_tools.hepfile_to_awkward(data)"
   ]
  },
  {
   "cell_type": "code",
   "execution_count": null,
   "id": "e9cf5303-106f-4cf1-a72a-3812c4e6fb8b",
   "metadata": {
    "tags": []
   },
   "outputs": [],
   "source": [
    "data"
   ]
  },
  {
   "cell_type": "code",
   "execution_count": null,
   "id": "8e0292c5-af8c-45e1-b758-f38c28f1ef6f",
   "metadata": {},
   "outputs": [],
   "source": [
    "dataAwk"
   ]
  },
  {
   "cell_type": "markdown",
   "id": "60f461d8-2bcb-4cc4-b27f-2238c982fb9a",
   "metadata": {},
   "source": [
    "# testing new load functionality"
   ]
  },
  {
   "cell_type": "code",
   "execution_count": null,
   "id": "a2630b9c-1552-45ac-9a57-e1ed77ea99a7",
   "metadata": {},
   "outputs": [],
   "source": [
    "data, _ = hf.read.load(infile, return_awkward=True)"
   ]
  },
  {
   "cell_type": "code",
   "execution_count": null,
   "id": "12b63239-787f-410b-9131-3e037221ce49",
   "metadata": {},
   "outputs": [],
   "source": [
    "data"
   ]
  },
  {
   "cell_type": "code",
   "execution_count": null,
   "id": "9b138883-d790-40b2-8785-847f4c1830ff",
   "metadata": {},
   "outputs": [],
   "source": [
    "for group in data:\n",
    "    print(group)"
   ]
  },
  {
   "cell_type": "code",
   "execution_count": null,
   "id": "ed8fe6ec-f01f-43bc-b436-a60d98f1e875",
   "metadata": {},
   "outputs": [],
   "source": [
    "data"
   ]
  },
  {
   "cell_type": "code",
   "execution_count": null,
   "id": "eea80938-ba12-4952-92f2-d14bf5aa421f",
   "metadata": {},
   "outputs": [],
   "source": []
  }
 ],
 "metadata": {
  "kernelspec": {
   "display_name": "Python 3 (ipykernel)",
   "language": "python",
   "name": "python3"
  },
  "language_info": {
   "codemirror_mode": {
    "name": "ipython",
    "version": 3
   },
   "file_extension": ".py",
   "mimetype": "text/x-python",
   "name": "python",
   "nbconvert_exporter": "python",
   "pygments_lexer": "ipython3",
   "version": "3.9.16"
  }
 },
 "nbformat": 4,
 "nbformat_minor": 5
}
