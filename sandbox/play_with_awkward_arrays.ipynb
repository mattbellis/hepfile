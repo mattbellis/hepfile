{
 "cells": [
  {
   "cell_type": "code",
   "execution_count": 1,
   "id": "d3e7cc24-dd20-4f13-a38e-bc835f411bdf",
   "metadata": {},
   "outputs": [],
   "source": [
    "# imports\n",
    "\n",
    "import numpy as np\n",
    "import awkward as ak\n",
    "\n",
    "import hepfile as hf"
   ]
  },
  {
   "cell_type": "code",
   "execution_count": 2,
   "id": "2c650385-792c-4b06-a4c5-bc0fe46b6bac",
   "metadata": {},
   "outputs": [
    {
     "name": "stdout",
     "output_type": "stream",
     "text": [
      "[[1, 2, 3], [4, 5], [6]]\n"
     ]
    }
   ],
   "source": [
    "L1 = [[1,2,3],\n",
    "      [4,5],\n",
    "      [6]]\n",
    "\n",
    "awk = ak.Array(L1)\n",
    "\n",
    "print(awk)"
   ]
  },
  {
   "cell_type": "code",
   "execution_count": 3,
   "id": "bab90dda-f1f0-4379-a1ed-3df585d4dea7",
   "metadata": {},
   "outputs": [
    {
     "data": {
      "text/html": [
       "<pre>[11,\n",
       " 7,\n",
       " 3]\n",
       "---------------\n",
       "type: 3 * int64</pre>"
      ],
      "text/plain": [
       "<Array [11, 7, 3] type='3 * int64'>"
      ]
     },
     "execution_count": 3,
     "metadata": {},
     "output_type": "execute_result"
    }
   ],
   "source": [
    "\n",
    "ak.sum(awk, axis=0)"
   ]
  },
  {
   "cell_type": "code",
   "execution_count": 4,
   "id": "3ed7d7e3-cff6-42e7-9128-9a1970a4e014",
   "metadata": {},
   "outputs": [
    {
     "name": "stdout",
     "output_type": "stream",
     "text": [
      "Building the indices...\n",
      "\n",
      "Built the indices!\n",
      "Data is read in and input file is closed.\n"
     ]
    },
    {
     "name": "stderr",
     "output_type": "stream",
     "text": [
      "/home/nfranz/research/hepfile/src/hepfile/read.py:290: FutureWarning: No metadata found for the group, this must be an old file structure!\n",
      "  warnings.warn('No metadata found for the group, this must be an old file structure!',\n"
     ]
    }
   ],
   "source": [
    "infile = '/home/nfranz/research/hepfile/docs/example_nb/output_from_dict.hdf5'\n",
    "data, _ = hf.read.load(infile)"
   ]
  },
  {
   "cell_type": "code",
   "execution_count": 5,
   "id": "0002f293-94cb-42b6-990f-8efc70d2af71",
   "metadata": {},
   "outputs": [],
   "source": [
    "dataAwk = hf.awkward_tools.hepfile_to_awkward(data)"
   ]
  },
  {
   "cell_type": "code",
   "execution_count": 6,
   "id": "43e49daf-1bf9-430b-9980-888c4c0509ba",
   "metadata": {
    "collapsed": true,
    "jupyter": {
     "outputs_hidden": true
    },
    "tags": []
   },
   "outputs": [
    {
     "data": {
      "text/plain": [
       "{'_MAP_DATASETS_TO_COUNTERS_': {'_SINGLETONS_GROUP_': '_SINGLETONS_GROUP_/COUNTER',\n",
       "  'jet': 'jet/njet',\n",
       "  'jet/px': 'jet/njet',\n",
       "  'jet/py': 'jet/njet',\n",
       "  'muons': 'muons/nmuons',\n",
       "  'muons/px': 'muons/nmuons',\n",
       "  'muons/py': 'muons/nmuons',\n",
       "  'nParticles': '_SINGLETONS_GROUP_/COUNTER'},\n",
       " '_MAP_DATASETS_TO_INDEX_': {'_SINGLETONS_GROUP_': '_SINGLETONS_GROUP_/COUNTER_INDEX',\n",
       "  'jet': 'jet/njet_INDEX',\n",
       "  'jet/px': 'jet/njet_INDEX',\n",
       "  'jet/py': 'jet/njet_INDEX',\n",
       "  'muons': 'muons/nmuons_INDEX',\n",
       "  'muons/px': 'muons/nmuons_INDEX',\n",
       "  'muons/py': 'muons/nmuons_INDEX',\n",
       "  'nParticles': '_SINGLETONS_GROUP_/COUNTER_INDEX'},\n",
       " '_LIST_OF_COUNTERS_': ['_SINGLETONS_GROUP_/COUNTER',\n",
       "  'jet/njet',\n",
       "  'muons/nmuons'],\n",
       " '_LIST_OF_DATASETS_': ['_SINGLETONS_GROUP_',\n",
       "  '_SINGLETONS_GROUP_/COUNTER',\n",
       "  'jet',\n",
       "  'jet/njet',\n",
       "  'jet/px',\n",
       "  'jet/py',\n",
       "  'muons',\n",
       "  'muons/nmuons',\n",
       "  'muons/px',\n",
       "  'muons/py',\n",
       "  'nParticles'],\n",
       " '_META_': {},\n",
       " '_NUMBER_OF_BUCKETS_': 2,\n",
       " '_SINGLETONS_GROUP_': array(['nParticles'], dtype='<U10'),\n",
       " '_SINGLETONS_GROUP_/COUNTER': array([1, 1]),\n",
       " '_SINGLETONS_GROUP_/COUNTER_INDEX': array([0, 1]),\n",
       " 'jet/njet': array([3, 4]),\n",
       " 'jet/njet_INDEX': array([0, 3]),\n",
       " 'muons/nmuons': array([3, 4]),\n",
       " 'muons/nmuons_INDEX': array([0, 3]),\n",
       " 'jet/px': array([1, 2, 3, 3, 4, 6, 7]),\n",
       " 'jet/py': array([1, 2, 3, 3, 4, 6, 7]),\n",
       " 'muons/px': array([1, 2, 3, 3, 4, 6, 7]),\n",
       " 'muons/py': array([1, 2, 3, 3, 4, 6, 7]),\n",
       " 'nParticles': array([3, 4]),\n",
       " '_GROUPS_': {'_SINGLETONS_GROUP_': ['nParticles'],\n",
       "  'jet': ['njet', 'px', 'py'],\n",
       "  'muons': ['nmuons', 'px', 'py']},\n",
       " '_MAP_DATASETS_TO_DATA_TYPES_': {'_SINGLETONS_GROUP_': dtype('<U10'),\n",
       "  '_SINGLETONS_GROUP_/COUNTER': dtype('int64'),\n",
       "  'jet/njet': dtype('int64'),\n",
       "  'jet/px': dtype('int64'),\n",
       "  'jet/py': dtype('int64'),\n",
       "  'muons/nmuons': dtype('int64'),\n",
       "  'muons/px': dtype('int64'),\n",
       "  'muons/py': dtype('int64'),\n",
       "  'nParticles': dtype('int64')},\n",
       " '_PROTECTED_NAMES_': {'_GROUPS_',\n",
       "  '_MAP_DATASETS_TO_COUNTERS_',\n",
       "  '_MAP_DATASETS_TO_DATA_TYPES__LIST_OF_COUNTERS_',\n",
       "  '_META_',\n",
       "  '_PROTECTED_NAMES_',\n",
       "  '_SINGLETONSGROUPFORSTORAGE_',\n",
       "  '_SINGLETONS_GROUP_',\n",
       "  '_SINGLETONS_GROUP_/COUNTER'}}"
      ]
     },
     "execution_count": 6,
     "metadata": {},
     "output_type": "execute_result"
    }
   ],
   "source": [
    "\n",
    "data"
   ]
  },
  {
   "cell_type": "code",
   "execution_count": 7,
   "id": "a7a9187f-1d48-4e6a-b79f-cdca0ce50712",
   "metadata": {},
   "outputs": [
    {
     "data": {
      "text/html": [
       "<pre>[{nParticles: 3, jet: {px: [1, ...], ...}, muons: {...}},\n",
       " {nParticles: 4, jet: {px: [3, ...], ...}, muons: {...}}]\n",
       "---------------------------------------------------------\n",
       "type: 2 * {\n",
       "    nParticles: int64,\n",
       "    jet: {\n",
       "        px: var * int64,\n",
       "        py: var * int64\n",
       "    },\n",
       "    muons: {\n",
       "        px: var * int64,\n",
       "        py: var * int64\n",
       "    }\n",
       "}</pre>"
      ],
      "text/plain": [
       "<Array [{nParticles: 3, jet: {...}, ...}, ...] type='2 * {nParticles: int64...'>"
      ]
     },
     "execution_count": 7,
     "metadata": {},
     "output_type": "execute_result"
    }
   ],
   "source": [
    "dataAwk"
   ]
  },
  {
   "cell_type": "markdown",
   "id": "6ce108d6-fb43-4cc0-9de9-3c7e9963008e",
   "metadata": {},
   "source": [
    "# testing new load functionality"
   ]
  },
  {
   "cell_type": "code",
   "execution_count": 8,
   "id": "7453ee2c-309b-4bd2-bb6e-c5954d1c5772",
   "metadata": {},
   "outputs": [
    {
     "name": "stdout",
     "output_type": "stream",
     "text": [
      "Building the indices...\n",
      "\n",
      "Built the indices!\n",
      "Data is read in and input file is closed.\n"
     ]
    }
   ],
   "source": [
    "data, _ = hf.read.load(infile, return_awkward=True)"
   ]
  },
  {
   "cell_type": "code",
   "execution_count": 9,
   "id": "83ad1453-6271-480f-b30b-be741dd96806",
   "metadata": {},
   "outputs": [
    {
     "data": {
      "text/html": [
       "<pre>[{nParticles: 3, jet: {px: [1, ...], ...}, muons: {...}},\n",
       " {nParticles: 4, jet: {px: [3, ...], ...}, muons: {...}}]\n",
       "---------------------------------------------------------\n",
       "type: 2 * {\n",
       "    nParticles: int64,\n",
       "    jet: {\n",
       "        px: var * int64,\n",
       "        py: var * int64\n",
       "    },\n",
       "    muons: {\n",
       "        px: var * int64,\n",
       "        py: var * int64\n",
       "    }\n",
       "}</pre>"
      ],
      "text/plain": [
       "<Array [{nParticles: 3, jet: {...}, ...}, ...] type='2 * {nParticles: int64...'>"
      ]
     },
     "execution_count": 9,
     "metadata": {},
     "output_type": "execute_result"
    }
   ],
   "source": [
    "\n",
    "data"
   ]
  },
  {
   "cell_type": "code",
   "execution_count": 10,
   "id": "569b351d-5de6-4ee6-9934-b9da00539b13",
   "metadata": {},
   "outputs": [
    {
     "name": "stdout",
     "output_type": "stream",
     "text": [
      "{nParticles: 3, jet: {px: [1, ...], ...}, muons: {...}}\n",
      "{nParticles: 4, jet: {px: [3, ...], ...}, muons: {...}}\n"
     ]
    }
   ],
   "source": [
    "for group in data:\n",
    "    print(group)"
   ]
  },
  {
   "cell_type": "code",
   "execution_count": 11,
   "id": "f1979f12-6e26-4ec4-b1a2-f80f880cdc7a",
   "metadata": {},
   "outputs": [
    {
     "data": {
      "text/html": [
       "<pre>[{nParticles: 3, jet: {px: [1, ...], ...}, muons: {...}},\n",
       " {nParticles: 4, jet: {px: [3, ...], ...}, muons: {...}}]\n",
       "---------------------------------------------------------\n",
       "type: 2 * {\n",
       "    nParticles: int64,\n",
       "    jet: {\n",
       "        px: var * int64,\n",
       "        py: var * int64\n",
       "    },\n",
       "    muons: {\n",
       "        px: var * int64,\n",
       "        py: var * int64\n",
       "    }\n",
       "}</pre>"
      ],
      "text/plain": [
       "<Array [{nParticles: 3, jet: {...}, ...}, ...] type='2 * {nParticles: int64...'>"
      ]
     },
     "execution_count": 11,
     "metadata": {},
     "output_type": "execute_result"
    }
   ],
   "source": [
    "data"
   ]
  },
  {
   "cell_type": "code",
   "execution_count": null,
   "id": "7f791917-9ff3-4a24-81d6-b9ba68649e7b",
   "metadata": {},
   "outputs": [],
   "source": []
  }
 ],
 "metadata": {
  "kernelspec": {
   "display_name": "Python 3 (ipykernel)",
   "language": "python",
   "name": "python3"
  },
  "language_info": {
   "codemirror_mode": {
    "name": "ipython",
    "version": 3
   },
   "file_extension": ".py",
   "mimetype": "text/x-python",
   "name": "python",
   "nbconvert_exporter": "python",
   "pygments_lexer": "ipython3",
   "version": "3.9.16"
  }
 },
 "nbformat": 4,
 "nbformat_minor": 5
}
