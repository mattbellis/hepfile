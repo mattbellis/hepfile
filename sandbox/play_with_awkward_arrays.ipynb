{
 "cells": [
  {
   "cell_type": "code",
   "execution_count": null,
   "id": "d3e7cc24-dd20-4f13-a38e-bc835f411bdf",
   "metadata": {},
   "outputs": [],
   "source": [
    "# imports\n",
    "\n",
    "import numpy as np\n",
    "import awkward as ak\n",
    "\n",
    "import hepfile as hf"
   ]
  },
  {
   "cell_type": "code",
   "execution_count": null,
   "id": "2c650385-792c-4b06-a4c5-bc0fe46b6bac",
   "metadata": {},
   "outputs": [],
   "source": [
    "L1 = [[1,2,3],\n",
    "      [4,5],\n",
    "      [6]]\n",
    "\n",
    "awk = ak.Array(L1)\n",
    "\n",
    "print(awk)"
   ]
  },
  {
   "cell_type": "code",
   "execution_count": null,
   "id": "bab90dda-f1f0-4379-a1ed-3df585d4dea7",
   "metadata": {},
   "outputs": [],
   "source": [
    "\n",
    "ak.sum(awk, axis=0)"
   ]
  },
  {
   "cell_type": "code",
   "execution_count": null,
   "id": "3ed7d7e3-cff6-42e7-9128-9a1970a4e014",
   "metadata": {},
   "outputs": [],
   "source": [
    "infile = '/home/nfranz/research/hepfile/docs/example_nb/output_from_dict.hdf5'\n",
    "data, _ = hf.read.load(infile)"
   ]
  },
  {
   "cell_type": "code",
   "execution_count": null,
   "id": "0002f293-94cb-42b6-990f-8efc70d2af71",
   "metadata": {},
   "outputs": [],
   "source": [
    "dataAwk = hf.awkward_tools.hepfile_to_awkward(data)"
   ]
  },
  {
   "cell_type": "code",
   "execution_count": null,
   "id": "43e49daf-1bf9-430b-9980-888c4c0509ba",
   "metadata": {
    "tags": []
   },
   "outputs": [],
   "source": [
    "\n",
    "data"
   ]
  },
  {
   "cell_type": "code",
   "execution_count": null,
   "id": "a7a9187f-1d48-4e6a-b79f-cdca0ce50712",
   "metadata": {},
   "outputs": [],
   "source": [
    "dataAwk"
   ]
  },
  {
   "cell_type": "markdown",
   "id": "6ce108d6-fb43-4cc0-9de9-3c7e9963008e",
   "metadata": {},
   "source": [
    "# testing new load functionality"
   ]
  },
  {
   "cell_type": "code",
   "execution_count": null,
   "id": "7453ee2c-309b-4bd2-bb6e-c5954d1c5772",
   "metadata": {},
   "outputs": [],
   "source": [
    "data, _ = hf.read.load(infile, return_awkward=True)"
   ]
  },
  {
   "cell_type": "code",
   "execution_count": null,
   "id": "83ad1453-6271-480f-b30b-be741dd96806",
   "metadata": {},
   "outputs": [],
   "source": [
    "\n",
    "data"
   ]
  },
  {
   "cell_type": "code",
   "execution_count": null,
   "id": "569b351d-5de6-4ee6-9934-b9da00539b13",
   "metadata": {},
   "outputs": [],
   "source": [
    "for group in data:\n",
    "    print(group)"
   ]
  },
  {
   "cell_type": "code",
   "execution_count": null,
   "id": "f1979f12-6e26-4ec4-b1a2-f80f880cdc7a",
   "metadata": {},
   "outputs": [],
   "source": [
    "data"
   ]
  },
  {
   "cell_type": "code",
   "execution_count": null,
   "id": "7f791917-9ff3-4a24-81d6-b9ba68649e7b",
   "metadata": {},
   "outputs": [],
   "source": [
    "x = ak.Array([[1,2], [3,5,6,87]])"
   ]
  },
  {
   "cell_type": "code",
   "execution_count": null,
   "id": "5b18db74",
   "metadata": {},
   "outputs": [],
   "source": [
    "x"
   ]
  },
  {
   "cell_type": "code",
   "execution_count": null,
   "id": "bfab88e6",
   "metadata": {},
   "outputs": [],
   "source": [
    "ak.num(x)"
   ]
  },
  {
   "cell_type": "code",
   "execution_count": null,
   "id": "a5244fe4",
   "metadata": {},
   "outputs": [],
   "source": [
    "ak.flatten(x)"
   ]
  },
  {
   "cell_type": "code",
   "execution_count": null,
   "id": "bda092e2",
   "metadata": {},
   "outputs": [],
   "source": []
  }
 ],
 "metadata": {
  "kernelspec": {
   "display_name": "Python 3 (ipykernel)",
   "language": "python",
   "name": "python3"
  },
  "language_info": {
   "codemirror_mode": {
    "name": "ipython",
    "version": 3
   },
   "file_extension": ".py",
   "mimetype": "text/x-python",
   "name": "python",
   "nbconvert_exporter": "python",
   "pygments_lexer": "ipython3",
   "version": "3.9.17"
  }
 },
 "nbformat": 4,
 "nbformat_minor": 5
}
