{
 "cells": [
  {
   "cell_type": "code",
   "execution_count": 1,
   "id": "8810278d-96ec-4a7f-af4a-aac3955bbbf2",
   "metadata": {},
   "outputs": [],
   "source": [
    "# imports\n",
    "\n",
    "import numpy as np\n",
    "import awkward as ak\n",
    "\n",
    "import hepfile as hf"
   ]
  },
  {
   "cell_type": "code",
   "execution_count": 2,
   "id": "795df400-0b2d-43d2-80eb-e346c6539bc8",
   "metadata": {},
   "outputs": [
    {
     "name": "stdout",
     "output_type": "stream",
     "text": [
      "[[1, 2, 3], [4, 5], [6]]\n"
     ]
    }
   ],
   "source": [
    "L1 = [[1,2,3],\n",
    "      [4,5],\n",
    "      [6]]\n",
    "\n",
    "awk = ak.Array(L1)\n",
    "\n",
    "print(awk)"
   ]
  },
  {
   "cell_type": "code",
   "execution_count": 3,
   "id": "720bb622-8531-46fe-a389-7f1cb4f2ef7f",
   "metadata": {},
   "outputs": [
    {
     "data": {
      "text/html": [
       "<pre>[11,\n",
       " 7,\n",
       " 3]\n",
       "---------------\n",
       "type: 3 * int64</pre>"
      ],
      "text/plain": [
       "<Array [11, 7, 3] type='3 * int64'>"
      ]
     },
     "execution_count": 3,
     "metadata": {},
     "output_type": "execute_result"
    }
   ],
   "source": [
    "ak.sum(awk, axis=0)"
   ]
  },
  {
   "cell_type": "code",
   "execution_count": 4,
   "id": "afa1768a-55f2-4dd0-95e1-a7360615dc63",
   "metadata": {},
   "outputs": [
    {
     "name": "stdout",
     "output_type": "stream",
     "text": [
      "Building the indices...\n",
      "\n",
      "Built the indices!\n",
      "Data is read in and input file is closed.\n"
     ]
    }
   ],
   "source": [
    "infile = '/home/nfranz/research/hepfile/docs/example_nb/output_from_dict.hdf5'\n",
    "data, _ = hf.read.load(infile)"
   ]
  },
  {
   "cell_type": "code",
   "execution_count": 5,
   "id": "4c7ceae7-d071-4108-ae55-d703a5ec537b",
   "metadata": {},
   "outputs": [
    {
     "name": "stdout",
     "output_type": "stream",
     "text": [
      "['jet' 'muons' 'nParticles'] ['_SINGLETONS_GROUP_', '_SINGLETONS_GROUP_/COUNTER', 'jet', 'jet/njet', 'jet/px', 'jet/py', 'muons', 'muons/nmuons', 'muons/px', 'muons/py', 'nParticles']\n"
     ]
    }
   ],
   "source": [
    "dataAwk = hf.awkward_tools.hepfile_to_awkward(data)"
   ]
  },
  {
   "cell_type": "code",
   "execution_count": 6,
   "id": "e9cf5303-106f-4cf1-a72a-3812c4e6fb8b",
   "metadata": {
    "tags": []
   },
   "outputs": [
    {
     "data": {
      "text/plain": [
       "{'_MAP_DATASETS_TO_COUNTERS_': {'_SINGLETONS_GROUP_': '_SINGLETONS_GROUP_/COUNTER',\n",
       "  'jet': 'jet/njet',\n",
       "  'jet/px': 'jet/njet',\n",
       "  'jet/py': 'jet/njet',\n",
       "  'muons': 'muons/nmuons',\n",
       "  'muons/px': 'muons/nmuons',\n",
       "  'muons/py': 'muons/nmuons',\n",
       "  'nParticles': '_SINGLETONS_GROUP_/COUNTER'},\n",
       " '_MAP_DATASETS_TO_INDEX_': {'_SINGLETONS_GROUP_': '_SINGLETONS_GROUP_/COUNTER_INDEX',\n",
       "  'jet': 'jet/njet_INDEX',\n",
       "  'jet/px': 'jet/njet_INDEX',\n",
       "  'jet/py': 'jet/njet_INDEX',\n",
       "  'muons': 'muons/nmuons_INDEX',\n",
       "  'muons/px': 'muons/nmuons_INDEX',\n",
       "  'muons/py': 'muons/nmuons_INDEX',\n",
       "  'nParticles': '_SINGLETONS_GROUP_/COUNTER_INDEX'},\n",
       " '_LIST_OF_COUNTERS_': ['_SINGLETONS_GROUP_/COUNTER',\n",
       "  'jet/njet',\n",
       "  'muons/nmuons'],\n",
       " '_LIST_OF_DATASETS_': ['_SINGLETONS_GROUP_',\n",
       "  '_SINGLETONS_GROUP_/COUNTER',\n",
       "  'jet',\n",
       "  'jet/njet',\n",
       "  'jet/px',\n",
       "  'jet/py',\n",
       "  'muons',\n",
       "  'muons/nmuons',\n",
       "  'muons/px',\n",
       "  'muons/py',\n",
       "  'nParticles'],\n",
       " '_NUMBER_OF_BUCKETS_': 2,\n",
       " '_SINGLETONS_GROUP_': ['nParticles'],\n",
       " '_SINGLETONS_GROUP_/COUNTER': array([1, 1]),\n",
       " '_SINGLETONS_GROUP_/COUNTER_INDEX': array([0, 1]),\n",
       " 'jet/njet': array([3, 4]),\n",
       " 'jet/njet_INDEX': array([0, 3]),\n",
       " 'muons/nmuons': array([3, 4]),\n",
       " 'muons/nmuons_INDEX': array([0, 3]),\n",
       " 'jet/px': array([1., 2., 3., 3., 4., 6., 7.]),\n",
       " 'jet/py': array([1., 2., 3., 3., 4., 6., 7.]),\n",
       " 'muons/px': array([1., 2., 3., 3., 4., 6., 7.]),\n",
       " 'muons/py': array([1., 2., 3., 3., 4., 6., 7.]),\n",
       " 'nParticles': array([3., 4.])}"
      ]
     },
     "execution_count": 6,
     "metadata": {},
     "output_type": "execute_result"
    }
   ],
   "source": [
    "data"
   ]
  },
  {
   "cell_type": "code",
   "execution_count": 7,
   "id": "8e0292c5-af8c-45e1-b758-f38c28f1ef6f",
   "metadata": {},
   "outputs": [
    {
     "data": {
      "text/html": [
       "<pre>[{jet: {px: [1, ..., 3], py: [...]}, muons: {px: ..., ...}, ...},\n",
       " {jet: {px: [3, ..., 7], py: [...]}, muons: {px: ..., ...}, ...}]\n",
       "-----------------------------------------------------------------\n",
       "type: 2 * {\n",
       "    jet: {\n",
       "        px: var * float64,\n",
       "        py: var * float64\n",
       "    },\n",
       "    muons: {\n",
       "        px: var * float64,\n",
       "        py: var * float64\n",
       "    },\n",
       "    nParticles: float64\n",
       "}</pre>"
      ],
      "text/plain": [
       "<Array [{jet: {...}, muons: {...}, ...}, ...] type='2 * {jet: {px: var * fl...'>"
      ]
     },
     "execution_count": 7,
     "metadata": {},
     "output_type": "execute_result"
    }
   ],
   "source": [
    "dataAwk"
   ]
  },
  {
   "cell_type": "markdown",
   "id": "60f461d8-2bcb-4cc4-b27f-2238c982fb9a",
   "metadata": {},
   "source": [
    "# testing new load functionality"
   ]
  },
  {
   "cell_type": "code",
   "execution_count": 8,
   "id": "a2630b9c-1552-45ac-9a57-e1ed77ea99a7",
   "metadata": {},
   "outputs": [
    {
     "name": "stdout",
     "output_type": "stream",
     "text": [
      "Building the indices...\n",
      "\n",
      "Built the indices!\n",
      "Data is read in and input file is closed.\n",
      "['jet' 'muons' 'nParticles'] ['_SINGLETONS_GROUP_', '_SINGLETONS_GROUP_/COUNTER', 'jet', 'jet/njet', 'jet/px', 'jet/py', 'muons', 'muons/nmuons', 'muons/px', 'muons/py', 'nParticles']\n"
     ]
    }
   ],
   "source": [
    "data, _ = hf.read.load(infile, return_awkward=True)"
   ]
  },
  {
   "cell_type": "code",
   "execution_count": 9,
   "id": "12b63239-787f-410b-9131-3e037221ce49",
   "metadata": {},
   "outputs": [
    {
     "data": {
      "text/html": [
       "<pre>[{jet: {px: [1, ..., 3], py: [...]}, muons: {px: ..., ...}, ...},\n",
       " {jet: {px: [3, ..., 7], py: [...]}, muons: {px: ..., ...}, ...}]\n",
       "-----------------------------------------------------------------\n",
       "type: 2 * {\n",
       "    jet: {\n",
       "        px: var * float64,\n",
       "        py: var * float64\n",
       "    },\n",
       "    muons: {\n",
       "        px: var * float64,\n",
       "        py: var * float64\n",
       "    },\n",
       "    nParticles: float64\n",
       "}</pre>"
      ],
      "text/plain": [
       "<Array [{jet: {...}, muons: {...}, ...}, ...] type='2 * {jet: {px: var * fl...'>"
      ]
     },
     "execution_count": 9,
     "metadata": {},
     "output_type": "execute_result"
    }
   ],
   "source": [
    "data"
   ]
  },
  {
   "cell_type": "code",
   "execution_count": 10,
   "id": "9b138883-d790-40b2-8785-847f4c1830ff",
   "metadata": {},
   "outputs": [
    {
     "name": "stdout",
     "output_type": "stream",
     "text": [
      "{jet: {px: [1, ..., 3], py: [...]}, muons: {px: [...], ...}, ...}\n",
      "{jet: {px: [3, ..., 7], py: [...]}, muons: {px: [...], ...}, ...}\n"
     ]
    }
   ],
   "source": [
    "for group in data:\n",
    "    print(group)"
   ]
  },
  {
   "cell_type": "code",
   "execution_count": 11,
   "id": "ed8fe6ec-f01f-43bc-b436-a60d98f1e875",
   "metadata": {},
   "outputs": [
    {
     "data": {
      "text/html": [
       "<pre>[{jet: {px: [1, ..., 3], py: [...]}, muons: {px: ..., ...}, ...},\n",
       " {jet: {px: [3, ..., 7], py: [...]}, muons: {px: ..., ...}, ...}]\n",
       "-----------------------------------------------------------------\n",
       "type: 2 * {\n",
       "    jet: {\n",
       "        px: var * float64,\n",
       "        py: var * float64\n",
       "    },\n",
       "    muons: {\n",
       "        px: var * float64,\n",
       "        py: var * float64\n",
       "    },\n",
       "    nParticles: float64\n",
       "}</pre>"
      ],
      "text/plain": [
       "<Array [{jet: {...}, muons: {...}, ...}, ...] type='2 * {jet: {px: var * fl...'>"
      ]
     },
     "execution_count": 11,
     "metadata": {},
     "output_type": "execute_result"
    }
   ],
   "source": [
    "data"
   ]
  },
  {
   "cell_type": "code",
   "execution_count": null,
   "id": "eea80938-ba12-4952-92f2-d14bf5aa421f",
   "metadata": {},
   "outputs": [],
   "source": []
  }
 ],
 "metadata": {
  "kernelspec": {
   "display_name": "Python 3 (ipykernel)",
   "language": "python",
   "name": "python3"
  },
  "language_info": {
   "codemirror_mode": {
    "name": "ipython",
    "version": 3
   },
   "file_extension": ".py",
   "mimetype": "text/x-python",
   "name": "python",
   "nbconvert_exporter": "python",
   "pygments_lexer": "ipython3",
   "version": "3.9.16"
  }
 },
 "nbformat": 4,
 "nbformat_minor": 5
}
