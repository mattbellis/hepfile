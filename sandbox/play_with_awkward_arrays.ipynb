{
 "cells": [
  {
   "cell_type": "code",
   "execution_count": 1,
   "id": "8810278d-96ec-4a7f-af4a-aac3955bbbf2",
   "metadata": {},
   "outputs": [],
   "source": [
    "# imports\n",
    "\n",
    "import numpy as np\n",
    "import awkward as ak\n",
    "\n",
    "import hepfile as hf"
   ]
  },
  {
   "cell_type": "code",
   "execution_count": 2,
   "id": "795df400-0b2d-43d2-80eb-e346c6539bc8",
   "metadata": {},
   "outputs": [
    {
     "name": "stdout",
     "output_type": "stream",
     "text": [
      "[[1, 2, 3], [4, 5], [6]]\n"
     ]
    }
   ],
   "source": [
    "L1 = [[1,2,3],\n",
    "      [4,5],\n",
    "      [6]]\n",
    "\n",
    "awk = ak.Array(L1)\n",
    "\n",
    "print(awk)"
   ]
  },
  {
   "cell_type": "code",
   "execution_count": 3,
   "id": "720bb622-8531-46fe-a389-7f1cb4f2ef7f",
   "metadata": {},
   "outputs": [
    {
     "data": {
      "text/html": [
       "<pre>[11,\n",
       " 7,\n",
       " 3]\n",
       "---------------\n",
       "type: 3 * int64</pre>"
      ],
      "text/plain": [
       "<Array [11, 7, 3] type='3 * int64'>"
      ]
     },
     "execution_count": 3,
     "metadata": {},
     "output_type": "execute_result"
    }
   ],
   "source": [
    "ak.sum(awk, axis=0)"
   ]
  },
  {
   "cell_type": "code",
   "execution_count": 4,
   "id": "afa1768a-55f2-4dd0-95e1-a7360615dc63",
   "metadata": {},
   "outputs": [
    {
     "name": "stdout",
     "output_type": "stream",
     "text": [
      "Building the indices...\n",
      "\n",
      "Built the indices!\n",
      "Data is read in and input file is closed.\n"
     ]
    }
   ],
   "source": [
    "infile = '/home/nfranz/research/hepfile/docs/example_nb/output.hdf5'\n",
    "data, _ = hf.read.load(infile)"
   ]
  },
  {
   "cell_type": "code",
   "execution_count": 5,
   "id": "4c7ceae7-d071-4108-ae55-d703a5ec537b",
   "metadata": {},
   "outputs": [
    {
     "name": "stdout",
     "output_type": "stream",
     "text": [
      "['METpx' 'METpy' 'jet' 'muons'] ['METpx', 'METpy', '_SINGLETONS_GROUP_', '_SINGLETONS_GROUP_/COUNTER', 'jet', 'jet/algorithm', 'jet/e', 'jet/njet', 'jet/px', 'jet/py', 'jet/pz', 'jet/words', 'muons', 'muons/e', 'muons/nmuon', 'muons/px', 'muons/py', 'muons/pz']\n"
     ]
    }
   ],
   "source": [
    "dataAwk = hf.awkward_tools.hepfile_to_awkward(data)"
   ]
  },
  {
   "cell_type": "code",
   "execution_count": 6,
   "id": "e9cf5303-106f-4cf1-a72a-3812c4e6fb8b",
   "metadata": {},
   "outputs": [
    {
     "data": {
      "text/plain": [
       "{'_MAP_DATASETS_TO_COUNTERS_': {'_SINGLETONS_GROUP_': '_SINGLETONS_GROUP_/COUNTER',\n",
       "  'jet': 'jet/njet',\n",
       "  'muons': 'muons/nmuon',\n",
       "  'jet/e': 'jet/njet',\n",
       "  'jet/px': 'jet/njet',\n",
       "  'jet/py': 'jet/njet',\n",
       "  'jet/pz': 'jet/njet',\n",
       "  'jet/algorithm': 'jet/njet',\n",
       "  'jet/words': 'jet/njet',\n",
       "  'muons/e': 'muons/nmuon',\n",
       "  'muons/px': 'muons/nmuon',\n",
       "  'muons/py': 'muons/nmuon',\n",
       "  'muons/pz': 'muons/nmuon',\n",
       "  'METpx': '_SINGLETONS_GROUP_/COUNTER',\n",
       "  'METpy': '_SINGLETONS_GROUP_/COUNTER'},\n",
       " '_MAP_DATASETS_TO_INDEX_': {'_SINGLETONS_GROUP_': '_SINGLETONS_GROUP_/COUNTER_INDEX',\n",
       "  'jet': 'jet/njet_INDEX',\n",
       "  'muons': 'muons/nmuon_INDEX',\n",
       "  'jet/e': 'jet/njet_INDEX',\n",
       "  'jet/px': 'jet/njet_INDEX',\n",
       "  'jet/py': 'jet/njet_INDEX',\n",
       "  'jet/pz': 'jet/njet_INDEX',\n",
       "  'jet/algorithm': 'jet/njet_INDEX',\n",
       "  'jet/words': 'jet/njet_INDEX',\n",
       "  'muons/e': 'muons/nmuon_INDEX',\n",
       "  'muons/px': 'muons/nmuon_INDEX',\n",
       "  'muons/py': 'muons/nmuon_INDEX',\n",
       "  'muons/pz': 'muons/nmuon_INDEX',\n",
       "  'METpx': '_SINGLETONS_GROUP_/COUNTER_INDEX',\n",
       "  'METpy': '_SINGLETONS_GROUP_/COUNTER_INDEX'},\n",
       " '_LIST_OF_COUNTERS_': ['_SINGLETONS_GROUP_/COUNTER',\n",
       "  'jet/njet',\n",
       "  'muons/nmuon'],\n",
       " '_LIST_OF_DATASETS_': ['METpx',\n",
       "  'METpy',\n",
       "  '_SINGLETONS_GROUP_',\n",
       "  '_SINGLETONS_GROUP_/COUNTER',\n",
       "  'jet',\n",
       "  'jet/algorithm',\n",
       "  'jet/e',\n",
       "  'jet/njet',\n",
       "  'jet/px',\n",
       "  'jet/py',\n",
       "  'jet/pz',\n",
       "  'jet/words',\n",
       "  'muons',\n",
       "  'muons/e',\n",
       "  'muons/nmuon',\n",
       "  'muons/px',\n",
       "  'muons/py',\n",
       "  'muons/pz'],\n",
       " '_NUMBER_OF_BUCKETS_': 10000,\n",
       " '_SINGLETONS_GROUP_': ['METpx', 'METpy'],\n",
       " '_SINGLETONS_GROUP_/COUNTER': array([1, 1, 1, ..., 1, 1, 1]),\n",
       " '_SINGLETONS_GROUP_/COUNTER_INDEX': array([   0,    1,    2, ..., 9997, 9998, 9999]),\n",
       " 'jet/njet': array([17, 17, 17, ..., 17, 17, 17]),\n",
       " 'jet/njet_INDEX': array([     0,     17,     34, ..., 169949, 169966, 169983]),\n",
       " 'muons/nmuon': array([0, 0, 0, ..., 0, 0, 0]),\n",
       " 'muons/nmuon_INDEX': array([0, 0, 0, ..., 0, 0, 0]),\n",
       " 'METpx': array([0.44125745, 0.15070671, 0.6197607 , ..., 0.83879787, 0.9236757 ,\n",
       "        0.9540496 ], dtype=float32),\n",
       " 'METpy': array([0.87833226, 0.94605803, 0.5774483 , ..., 0.67220175, 0.40127063,\n",
       "        0.11414216], dtype=float32),\n",
       " 'jet/algorithm': array([ 0,  0,  0, ...,  0, -1,  0]),\n",
       " 'jet/e': array([0.1050427 , 0.68544906, 0.38168567, ..., 0.23080784, 0.9133774 ,\n",
       "        0.23705031], dtype=float32),\n",
       " 'jet/px': array([0.5658318 , 0.91656125, 0.81564593, ..., 0.31631318, 0.16502044,\n",
       "        0.4729447 ], dtype=float32),\n",
       " 'jet/py': array([0.4317692 , 0.7362337 , 0.8329566 , ..., 0.35332403, 0.8968365 ,\n",
       "        0.7163083 ], dtype=float32),\n",
       " 'jet/pz': array([0.05745669, 0.02776118, 0.7279578 , ..., 0.6685287 , 0.6334902 ,\n",
       "        0.3632453 ], dtype=float32),\n",
       " 'jet/words': array([b'bye', b'bye', b'bye', ..., b'aloha', b'hi', b'aloha'],\n",
       "       dtype=object),\n",
       " 'muons/e': array([], dtype=float32),\n",
       " 'muons/px': array([], dtype=float32),\n",
       " 'muons/py': array([], dtype=float32),\n",
       " 'muons/pz': array([], dtype=float32)}"
      ]
     },
     "execution_count": 6,
     "metadata": {},
     "output_type": "execute_result"
    }
   ],
   "source": [
    "data"
   ]
  },
  {
   "cell_type": "code",
   "execution_count": 7,
   "id": "8e0292c5-af8c-45e1-b758-f38c28f1ef6f",
   "metadata": {},
   "outputs": [
    {
     "data": {
      "text/plain": [
       "{'METpx': <Array [0.441, 0.151, 0.62, ..., 0.839, 0.924, 0.954] type='10000 * float32'>,\n",
       " 'METpy': <Array [0.878, 0.946, 0.577, ..., 0.672, 0.401, 0.114] type='10000 * float32'>,\n",
       " 'jet': {'algorithm': <Array [[0, 0, 0, -1, 0, ..., 0, 0, -1, -1], ...] type='10000 * var * int64'>,\n",
       "  'e': <Array [[0.105, 0.685, ..., 0.41, 0.498], ...] type='10000 * var * float64'>,\n",
       "  'px': <Array [[0.566, 0.917, ..., 0.886, 0.00574], ...] type='10000 * var * float64'>,\n",
       "  'py': <Array [[0.432, 0.736, ..., 0.996, 0.827], ...] type='10000 * var * float64'>,\n",
       "  'pz': <Array [[0.0575, 0.0278, ..., 0.811, 0.11], ...] type='10000 * var * float64'>,\n",
       "  'words': <Array [[b'bye', b'bye', ..., b'aloha'], ..., [...]] type='10000 * var * bytes'>},\n",
       " 'muons': {'e': <Array [[], [], [], [], [], ..., [], [], [], []] type='10000 * var * unknown'>,\n",
       "  'px': <Array [[], [], [], [], [], ..., [], [], [], []] type='10000 * var * unknown'>,\n",
       "  'py': <Array [[], [], [], [], [], ..., [], [], [], []] type='10000 * var * unknown'>,\n",
       "  'pz': <Array [[], [], [], [], [], ..., [], [], [], []] type='10000 * var * unknown'>}}"
      ]
     },
     "execution_count": 7,
     "metadata": {},
     "output_type": "execute_result"
    }
   ],
   "source": [
    "dataAwk"
   ]
  },
  {
   "cell_type": "code",
   "execution_count": null,
   "id": "488441cf-e0b3-41de-96e7-ada602759b90",
   "metadata": {},
   "outputs": [],
   "source": []
  }
 ],
 "metadata": {
  "kernelspec": {
   "display_name": "Python 3 (ipykernel)",
   "language": "python",
   "name": "python3"
  },
  "language_info": {
   "codemirror_mode": {
    "name": "ipython",
    "version": 3
   },
   "file_extension": ".py",
   "mimetype": "text/x-python",
   "name": "python",
   "nbconvert_exporter": "python",
   "pygments_lexer": "ipython3",
   "version": "3.9.16"
  }
 },
 "nbformat": 4,
 "nbformat_minor": 5
}
