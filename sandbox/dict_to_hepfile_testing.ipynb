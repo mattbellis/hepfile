{
 "cells": [
  {
   "cell_type": "code",
   "execution_count": null,
   "id": "77dcda82-38c3-414a-803b-3400c7610138",
   "metadata": {},
   "outputs": [],
   "source": [
    "import hepfile as hf\n",
    "import awkward as ak\n",
    "import numpy as np"
   ]
  },
  {
   "cell_type": "code",
   "execution_count": null,
   "id": "6dab2a2c-f3b7-47ef-8bd9-c62552d68565",
   "metadata": {},
   "outputs": [],
   "source": [
    "# test dictionary\n",
    "d = [\n",
    "    {\n",
    "    'jet': {\n",
    "        'px': [1,2,3],\n",
    "        'py': [1,2,3]\n",
    "     },\n",
    "    'muons': {\n",
    "        'px': [1,2,3],\n",
    "        'py': [1,2,3]\n",
    "     },\n",
    "    'other': 'this'\n",
    "    },\n",
    "    {\n",
    "    'jet': {\n",
    "        'px': [3,4,6,7],\n",
    "        'py': [3,4,6,7]\n",
    "     },\n",
    "    'muons': {\n",
    "        'px': [3,4,6,7],\n",
    "        'py': [3,4,6,7],\n",
    "        },\n",
    "    'other': 'this'\n",
    "    }\n",
    "]"
   ]
  },
  {
   "cell_type": "code",
   "execution_count": null,
   "id": "302544e7-eb53-4ad3-8b7b-c3422274098e",
   "metadata": {},
   "outputs": [],
   "source": [
    "awk = ak.Array(d)"
   ]
  },
  {
   "cell_type": "code",
   "execution_count": null,
   "id": "2b6bf1af-596d-4303-abda-1c0ac1d0be2c",
   "metadata": {},
   "outputs": [],
   "source": [
    "out = 'test.hdf5'\n",
    "ak_dict = hf.dict_tools.dictlike_to_hepfile(d, out)\n",
    "ak_dict"
   ]
  },
  {
   "cell_type": "code",
   "execution_count": null,
   "id": "eec5a84a-5be7-4617-bef5-7e2531546f19",
   "metadata": {},
   "outputs": [],
   "source": [
    "new_dict = {'jet': {'px': [10, 100], 'py': [0, 0]},\n",
    "            'muons': {'px': [5, 1000], 'py': [0, -1]},\n",
    "            'other': 2\n",
    "            }\n",
    "\n",
    "mod = hf.dict_tools.append(ak_dict, new_dict)"
   ]
  },
  {
   "cell_type": "code",
   "execution_count": null,
   "id": "7b04d97c-10c0-4581-8bfb-1a29f6b78734",
   "metadata": {},
   "outputs": [],
   "source": [
    "help(hf.dict_tools.append)"
   ]
  },
  {
   "cell_type": "code",
   "execution_count": null,
   "id": "63cfb98b-bc79-4d3b-af42-b53c7f682c97",
   "metadata": {},
   "outputs": [],
   "source": []
  },
  {
   "cell_type": "code",
   "execution_count": null,
   "id": "1a01a4cb-226b-4196-b50b-48acec7bd357",
   "metadata": {},
   "outputs": [],
   "source": []
  }
 ],
 "metadata": {
  "kernelspec": {
   "display_name": "Python 3 (ipykernel)",
   "language": "python",
   "name": "python3"
  },
  "language_info": {
   "codemirror_mode": {
    "name": "ipython",
    "version": 3
   },
   "file_extension": ".py",
   "mimetype": "text/x-python",
   "name": "python",
   "nbconvert_exporter": "python",
   "pygments_lexer": "ipython3",
   "version": "3.9.16"
  }
 },
 "nbformat": 4,
 "nbformat_minor": 5
}
