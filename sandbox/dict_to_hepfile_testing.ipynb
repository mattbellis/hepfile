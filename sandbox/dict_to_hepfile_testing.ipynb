{
 "cells": [
  {
   "cell_type": "code",
   "execution_count": 1,
   "id": "77dcda82-38c3-414a-803b-3400c7610138",
   "metadata": {},
   "outputs": [],
   "source": [
    "import hepfile as hf\n",
    "import awkward as ak\n",
    "import numpy as np"
   ]
  },
  {
   "cell_type": "code",
   "execution_count": 8,
   "id": "6dab2a2c-f3b7-47ef-8bd9-c62552d68565",
   "metadata": {},
   "outputs": [],
   "source": [
    "# test dictionary\n",
    "d = [\n",
    "    {\n",
    "    'jet': {\n",
    "        'px': [1,2,3],\n",
    "        'py': [1,2,3]\n",
    "     },\n",
    "    'muons': {\n",
    "        'px': [1,2,3],\n",
    "        'py': [1,2,3]\n",
    "     },\n",
    "    'other': 'this',\n",
    "    'other2': 5.0\n",
    "    },\n",
    "    {\n",
    "    'jet': {\n",
    "        'px': [3,4,6,7],\n",
    "        'py': [3,4,6,7]\n",
    "     },\n",
    "    'muons': {\n",
    "        'px': [3,4,6,7],\n",
    "        'py': [3,4,6,7],\n",
    "        },\n",
    "    'other': 'this',\n",
    "    'other2': 7.1\n",
    "    }\n",
    "]"
   ]
  },
  {
   "cell_type": "code",
   "execution_count": 9,
   "id": "302544e7-eb53-4ad3-8b7b-c3422274098e",
   "metadata": {},
   "outputs": [],
   "source": [
    "awk = ak.Array(d)"
   ]
  },
  {
   "cell_type": "code",
   "execution_count": 10,
   "id": "2b6bf1af-596d-4303-abda-1c0ac1d0be2c",
   "metadata": {},
   "outputs": [
    {
     "name": "stdout",
     "output_type": "stream",
     "text": [
      "Adding group \u001b[1mjet\u001b[0m\n",
      "Adding a counter for \u001b[1mjet\u001b[0m as \u001b[1mnjet\u001b[0m\n",
      "Adding dataset \u001b[1mpx\u001b[0m to the dictionary under group \u001b[1mjet\u001b[0m.\n",
      "Adding dataset \u001b[1mpy\u001b[0m to the dictionary under group \u001b[1mjet\u001b[0m.\n",
      "Adding group \u001b[1mmuons\u001b[0m\n",
      "Adding a counter for \u001b[1mmuons\u001b[0m as \u001b[1mnmuons\u001b[0m\n",
      "Adding dataset \u001b[1mpx\u001b[0m to the dictionary under group \u001b[1mmuons\u001b[0m.\n",
      "Adding dataset \u001b[1mpy\u001b[0m to the dictionary under group \u001b[1mmuons\u001b[0m.\n",
      "Adding dataset \u001b[1mother\u001b[0m to the dictionary as a SINGLETON.\n",
      "Adding dataset \u001b[1mother2\u001b[0m to the dictionary as a SINGLETON.\n",
      "Writing the hdf5 file from the awkward array...\n",
      "{'_SINGLETONS_GROUP_/COUNTER': <class 'int'>, 'jet/njet': <class 'int'>, 'jet/px': <class 'numpy.int64'>, 'jet/py': <class 'numpy.int64'>, 'muons/nmuons': <class 'int'>, 'muons/px': <class 'numpy.int64'>, 'muons/py': <class 'numpy.int64'>, 'other': <class 'str'>, 'other2': <class 'numpy.float64'>}\n",
      "_SINGLETONS_GROUP_/COUNTER       has 2            entries\n",
      "jet/njet                         has 2            entries\n",
      "muons/nmuons                     has 2            entries\n",
      "Metadata added\n"
     ]
    },
    {
     "data": {
      "text/html": [
       "<pre>[{jet: {px: [1, ..., 3], py: [...]}, muons: {px: ..., ...}, other: &#x27;this&#x27;, ...},\n",
       " {jet: {px: [3, ..., 7], py: [...]}, muons: {px: ..., ...}, other: &#x27;this&#x27;, ...}]\n",
       "--------------------------------------------------------------------------------\n",
       "type: 2 * {\n",
       "    jet: {\n",
       "        px: var * int64,\n",
       "        py: var * int64\n",
       "    },\n",
       "    muons: {\n",
       "        px: var * int64,\n",
       "        py: var * int64\n",
       "    },\n",
       "    other: string,\n",
       "    other2: float64\n",
       "}</pre>"
      ],
      "text/plain": [
       "<Array [{jet: {...}, muons: {...}, ...}, ...] type='2 * {jet: {px: var * in...'>"
      ]
     },
     "execution_count": 10,
     "metadata": {},
     "output_type": "execute_result"
    }
   ],
   "source": [
    "out = 'test.hdf5'\n",
    "ak_dict = hf.dict_tools.dictlike_to_hepfile(d, out)\n",
    "ak_dict"
   ]
  },
  {
   "cell_type": "code",
   "execution_count": 12,
   "id": "eec5a84a-5be7-4617-bef5-7e2531546f19",
   "metadata": {},
   "outputs": [],
   "source": [
    "new_dict = {'jet': {'px': [10, 100], 'py': [0, 0]},\n",
    "            'muons': {'px': [5, 1000], 'py': [0, -1]},\n",
    "            'other': 'thismod',\n",
    "            'other2': 10\n",
    "            }\n",
    "\n",
    "mod = hf.dict_tools.append(ak_dict, new_dict)"
   ]
  },
  {
   "cell_type": "code",
   "execution_count": 14,
   "id": "7b04d97c-10c0-4581-8bfb-1a29f6b78734",
   "metadata": {},
   "outputs": [
    {
     "name": "stdout",
     "output_type": "stream",
     "text": [
      "Adding group \u001b[1mjet\u001b[0m\n",
      "Adding a counter for \u001b[1mjet\u001b[0m as \u001b[1mnjet\u001b[0m\n",
      "Adding dataset \u001b[1mpx\u001b[0m to the dictionary under group \u001b[1mjet\u001b[0m.\n",
      "Adding dataset \u001b[1mpy\u001b[0m to the dictionary under group \u001b[1mjet\u001b[0m.\n",
      "Adding group \u001b[1mmuons\u001b[0m\n",
      "Adding a counter for \u001b[1mmuons\u001b[0m as \u001b[1mnmuons\u001b[0m\n",
      "Adding dataset \u001b[1mpx\u001b[0m to the dictionary under group \u001b[1mmuons\u001b[0m.\n",
      "Adding dataset \u001b[1mpy\u001b[0m to the dictionary under group \u001b[1mmuons\u001b[0m.\n",
      "Adding dataset \u001b[1mother\u001b[0m to the dictionary as a SINGLETON.\n",
      "Adding dataset \u001b[1mother2\u001b[0m to the dictionary as a SINGLETON.\n"
     ]
    },
    {
     "data": {
      "text/plain": [
       "{'_GROUPS_': {'_SINGLETONS_GROUP_': ['COUNTER', 'other', 'other2'],\n",
       "  'jet': ['njet', 'px', 'py'],\n",
       "  'muons': ['nmuons', 'px', 'py']},\n",
       " '_MAP_DATASETS_TO_COUNTERS_': {'_SINGLETONS_GROUP_': '_SINGLETONS_GROUP_/COUNTER',\n",
       "  'jet': 'jet/njet',\n",
       "  'jet/px': 'jet/njet',\n",
       "  'jet/py': 'jet/njet',\n",
       "  'muons': 'muons/nmuons',\n",
       "  'muons/px': 'muons/nmuons',\n",
       "  'muons/py': 'muons/nmuons',\n",
       "  'other': '_SINGLETONS_GROUP_/COUNTER',\n",
       "  'other2': '_SINGLETONS_GROUP_/COUNTER'},\n",
       " '_LIST_OF_COUNTERS_': ['_SINGLETONS_GROUP_/COUNTER',\n",
       "  'jet/njet',\n",
       "  'muons/nmuons'],\n",
       " '_SINGLETONS_GROUP_/COUNTER': [1, 1, 1],\n",
       " '_MAP_DATASETS_TO_DATA_TYPES_': {'_SINGLETONS_GROUP_/COUNTER': int,\n",
       "  'jet/njet': int,\n",
       "  'jet/px': numpy.int64,\n",
       "  'jet/py': numpy.int64,\n",
       "  'muons/nmuons': int,\n",
       "  'muons/px': numpy.int64,\n",
       "  'muons/py': numpy.int64,\n",
       "  'other': str,\n",
       "  'other2': numpy.float64},\n",
       " '_PROTECTED_NAMES_': ['_PROTECTED_NAMES_',\n",
       "  '_GROUPS_',\n",
       "  '_MAP_DATASETS_TO_COUNTERS_',\n",
       "  '_MAP_DATASETS_TO_DATA_TYPES__LIST_OF_COUNTERS_',\n",
       "  '_SINGLETONS_GROUP_/COUNTER'],\n",
       " 'jet/njet': <Array [3, 4, 2] type='3 * int64'>,\n",
       " 'jet/px': <Array [1, 2, 3, 3, 4, 6, 7, 10, 100] type='9 * int64'>,\n",
       " 'jet/py': <Array [1, 2, 3, 3, 4, 6, 7, 0, 0] type='9 * int64'>,\n",
       " 'muons/nmuons': <Array [3, 4, 2] type='3 * int64'>,\n",
       " 'muons/px': <Array [1, 2, 3, 3, 4, 6, 7, 5, 1000] type='9 * int64'>,\n",
       " 'muons/py': <Array [1, 2, 3, 3, 4, 6, 7, 0, -1] type='9 * int64'>,\n",
       " 'other': <Array ['this', 'this', 'thismod'] type='3 * string'>,\n",
       " 'other2': <Array [5, 7.1, 10] type='3 * float64'>}"
      ]
     },
     "execution_count": 14,
     "metadata": {},
     "output_type": "execute_result"
    }
   ],
   "source": [
    "hf.awkward_tools.awkward_to_hepfile(mod, write_hepfile=False)"
   ]
  },
  {
   "cell_type": "code",
   "execution_count": null,
   "id": "63cfb98b-bc79-4d3b-af42-b53c7f682c97",
   "metadata": {},
   "outputs": [],
   "source": []
  },
  {
   "cell_type": "code",
   "execution_count": null,
   "id": "1a01a4cb-226b-4196-b50b-48acec7bd357",
   "metadata": {},
   "outputs": [],
   "source": []
  }
 ],
 "metadata": {
  "kernelspec": {
   "display_name": "Python 3 (ipykernel)",
   "language": "python",
   "name": "python3"
  },
  "language_info": {
   "codemirror_mode": {
    "name": "ipython",
    "version": 3
   },
   "file_extension": ".py",
   "mimetype": "text/x-python",
   "name": "python",
   "nbconvert_exporter": "python",
   "pygments_lexer": "ipython3",
   "version": "3.9.16"
  }
 },
 "nbformat": 4,
 "nbformat_minor": 5
}
