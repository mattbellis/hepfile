{
 "cells": [
  {
   "cell_type": "code",
   "execution_count": 1,
   "id": "77dcda82-38c3-414a-803b-3400c7610138",
   "metadata": {},
   "outputs": [
    {
     "ename": "SyntaxError",
     "evalue": "EOL while scanning string literal (awkward_tools.py, line 89)",
     "output_type": "error",
     "traceback": [
      "Traceback \u001b[0;36m(most recent call last)\u001b[0m:\n",
      "\u001b[0m  File \u001b[1;32m~/anaconda3/lib/python3.9/site-packages/IPython/core/interactiveshell.py:3460\u001b[0m in \u001b[1;35mrun_code\u001b[0m\n    exec(code_obj, self.user_global_ns, self.user_ns)\u001b[0m\n",
      "\u001b[0m  Cell \u001b[1;32mIn[1], line 1\u001b[0m\n    import hepfile as hf\u001b[0m\n",
      "\u001b[0;36m  File \u001b[0;32m~/anaconda3/lib/python3.9/site-packages/hepfile/__init__.py:11\u001b[0;36m\n\u001b[0;31m    from hepfile.awkward_tools import *\u001b[0;36m\n",
      "\u001b[0;36m  File \u001b[0;32m~/anaconda3/lib/python3.9/site-packages/hepfile/awkward_tools.py:89\u001b[0;36m\u001b[0m\n\u001b[0;31m    raise IOError('Hepfile only supports awkward arrays with a depth <= 2! Please ensure your input follows this guideline.)\u001b[0m\n\u001b[0m                                                                                                                            ^\u001b[0m\n\u001b[0;31mSyntaxError\u001b[0m\u001b[0;31m:\u001b[0m EOL while scanning string literal\n"
     ]
    }
   ],
   "source": [
    "import hepfile as hf\n",
    "import awkward as ak\n",
    "import numpy as np"
   ]
  },
  {
   "cell_type": "code",
   "execution_count": 2,
   "id": "6dab2a2c-f3b7-47ef-8bd9-c62552d68565",
   "metadata": {},
   "outputs": [],
   "source": [
    "# test dictionary\n",
    "d = [\n",
    "    {\n",
    "    'jet': {\n",
    "        'px': [1,2,3],\n",
    "        'py': [1,2,3]\n",
    "     },\n",
    "    'muons': {\n",
    "        'px': [1,2,3],\n",
    "        'py': [1,2,3]\n",
    "     },\n",
    "    'other': 9\n",
    "    },\n",
    "    {\n",
    "    'jet': {\n",
    "        'px': [3,4,6,7],\n",
    "        'py': [3,4,6,7]\n",
    "     },\n",
    "    'muons': {\n",
    "        'px': [3,4,6,7],\n",
    "        'py': [3,4,6,7],\n",
    "        },\n",
    "    'other': 1\n",
    "    }\n",
    "]"
   ]
  },
  {
   "cell_type": "code",
   "execution_count": 20,
   "id": "2b6bf1af-596d-4303-abda-1c0ac1d0be2c",
   "metadata": {},
   "outputs": [
    {
     "name": "stdout",
     "output_type": "stream",
     "text": [
      "Adding group \u001b[1mjet\u001b[0m\n",
      "Adding a counter for \u001b[1mjet\u001b[0m as \u001b[1mnjet\u001b[0m\n",
      "Adding dataset \u001b[1mpx\u001b[0m to the dictionary under group \u001b[1mjet\u001b[0m.\n",
      "Adding dataset \u001b[1mpy\u001b[0m to the dictionary under group \u001b[1mjet\u001b[0m.\n",
      "Adding group \u001b[1mmuons\u001b[0m\n",
      "Adding a counter for \u001b[1mmuons\u001b[0m as \u001b[1mnmuons\u001b[0m\n",
      "Adding dataset \u001b[1mpx\u001b[0m to the dictionary under group \u001b[1mmuons\u001b[0m.\n",
      "Adding dataset \u001b[1mpy\u001b[0m to the dictionary under group \u001b[1mmuons\u001b[0m.\n"
     ]
    },
    {
     "ename": "TypeError",
     "evalue": "object of type 'Record' has no len()",
     "output_type": "error",
     "traceback": [
      "\u001b[0;31m---------------------------------------------------------------------------\u001b[0m",
      "\u001b[0;31mTypeError\u001b[0m                                 Traceback (most recent call last)",
      "Cell \u001b[0;32mIn[20], line 2\u001b[0m\n\u001b[1;32m      1\u001b[0m out \u001b[38;5;241m=\u001b[39m \u001b[38;5;124m'\u001b[39m\u001b[38;5;124mtest.hdf5\u001b[39m\u001b[38;5;124m'\u001b[39m\n\u001b[0;32m----> 2\u001b[0m ak_dict \u001b[38;5;241m=\u001b[39m \u001b[43mhf\u001b[49m\u001b[38;5;241;43m.\u001b[39;49m\u001b[43mdictlike_to_hepfile\u001b[49m\u001b[43m(\u001b[49m\u001b[43md\u001b[49m\u001b[43m,\u001b[49m\u001b[43m \u001b[49m\u001b[43mout\u001b[49m\u001b[43m)\u001b[49m \u001b[38;5;66;03m#hf.dict_tools.dictlike_to_hepfile(d, out)\u001b[39;00m\n\u001b[1;32m      3\u001b[0m ak_dict\n",
      "File \u001b[0;32m~/anaconda3/lib/python3.9/site-packages/hepfile/dict_tools.py:35\u001b[0m, in \u001b[0;36mdictlike_to_hepfile\u001b[0;34m(dict_list, outfile, **kwargs)\u001b[0m\n\u001b[1;32m     33\u001b[0m out_ak \u001b[38;5;241m=\u001b[39m ak\u001b[38;5;241m.\u001b[39mArray(dict_list)\n\u001b[1;32m     34\u001b[0m \u001b[38;5;66;03m#hf.awkward_tools.awkward_to_hepfile(out_ak, outfile, **kwargs)\u001b[39;00m\n\u001b[0;32m---> 35\u001b[0m \u001b[43mhf\u001b[49m\u001b[38;5;241;43m.\u001b[39;49m\u001b[43mawkward_tools\u001b[49m\u001b[38;5;241;43m.\u001b[39;49m\u001b[43mawkward_to_hepfile\u001b[49m\u001b[43m(\u001b[49m\u001b[43mout_ak\u001b[49m\u001b[43m,\u001b[49m\u001b[43m \u001b[49m\u001b[43moutfile\u001b[49m\u001b[43m,\u001b[49m\u001b[43m \u001b[49m\u001b[38;5;241;43m*\u001b[39;49m\u001b[38;5;241;43m*\u001b[39;49m\u001b[43mkwargs\u001b[49m\u001b[43m)\u001b[49m\n\u001b[1;32m     36\u001b[0m \u001b[38;5;28;01mreturn\u001b[39;00m out_ak\n",
      "File \u001b[0;32m~/anaconda3/lib/python3.9/site-packages/hepfile/awkward_tools.py:113\u001b[0m, in \u001b[0;36mawkward_to_hepfile\u001b[0;34m(ak_array, outfile, **kwargs)\u001b[0m\n\u001b[1;32m    109\u001b[0m \u001b[38;5;28;01mfor\u001b[39;00m ii, dataset \u001b[38;5;129;01min\u001b[39;00m \u001b[38;5;28menumerate\u001b[39m(ak_array[group]\u001b[38;5;241m.\u001b[39mfields):\n\u001b[1;32m    110\u001b[0m \n\u001b[1;32m    111\u001b[0m     \u001b[38;5;66;03m# check if dataset name has /'s in it\u001b[39;00m\n\u001b[1;32m    112\u001b[0m     \u001b[38;5;28;01mif\u001b[39;00m dataset\u001b[38;5;241m.\u001b[39mfind(\u001b[38;5;124m'\u001b[39m\u001b[38;5;124m/\u001b[39m\u001b[38;5;124m'\u001b[39m) \u001b[38;5;241m>\u001b[39m\u001b[38;5;241m=\u001b[39m \u001b[38;5;241m0\u001b[39m:\n\u001b[0;32m--> 113\u001b[0m         dataset_name \u001b[38;5;241m=\u001b[39m dataset\u001b[38;5;241m.\u001b[39mreplace(\u001b[38;5;124m'\u001b[39m\u001b[38;5;124m/\u001b[39m\u001b[38;5;124m'\u001b[39m, \u001b[38;5;124m'\u001b[39m\u001b[38;5;124m-\u001b[39m\u001b[38;5;124m'\u001b[39m)\n\u001b[1;32m    114\u001b[0m     \u001b[38;5;28;01melse\u001b[39;00m:\n\u001b[1;32m    115\u001b[0m         dataset_name \u001b[38;5;241m=\u001b[39m dataset\n",
      "\u001b[0;31mTypeError\u001b[0m: object of type 'Record' has no len()"
     ]
    }
   ],
   "source": [
    "out = 'test.hdf5'\n",
    "ak_dict = hf.dictlike_to_hepfile(d, out) #hf.dict_tools.dictlike_to_hepfile(d, out)\n",
    "ak_dict"
   ]
  },
  {
   "cell_type": "code",
   "execution_count": 15,
   "id": "eec5a84a-5be7-4617-bef5-7e2531546f19",
   "metadata": {},
   "outputs": [],
   "source": [
    "new_dict = {'jet': {'px': [10, 100], 'py': [0, 0]},\n",
    "            'muons': {'px': [5, 1000], 'py': [0, -1]},\n",
    "            'other': 2\n",
    "            }\n",
    "\n",
    "mod = hf.dict_tools.append(ak_dict, new_dict)"
   ]
  },
  {
   "cell_type": "code",
   "execution_count": 16,
   "id": "7b04d97c-10c0-4581-8bfb-1a29f6b78734",
   "metadata": {},
   "outputs": [
    {
     "data": {
      "text/html": [
       "<pre>[{jet: {px: [1, ..., 3], py: [...]}, muons: {px: ..., ...}, other: 9},\n",
       " {jet: {px: [3, ..., 7], py: [...]}, muons: {px: ..., ...}, other: 1},\n",
       " {jet: {px: [10, ...], py: [...]}, muons: {px: [...], ...}, other: 2}]\n",
       "----------------------------------------------------------------------\n",
       "type: 3 * {\n",
       "    jet: {\n",
       "        px: var * int64,\n",
       "        py: var * int64\n",
       "    },\n",
       "    muons: {\n",
       "        px: var * int64,\n",
       "        py: var * int64\n",
       "    },\n",
       "    other: int64\n",
       "}</pre>"
      ],
      "text/plain": [
       "<Array [{jet: {...}, muons: {...}, ...}, ...] type='3 * {jet: {px: var * in...'>"
      ]
     },
     "execution_count": 16,
     "metadata": {},
     "output_type": "execute_result"
    }
   ],
   "source": [
    "mod"
   ]
  },
  {
   "cell_type": "code",
   "execution_count": null,
   "id": "0398c710-d663-426e-a140-b76ac03eadf3",
   "metadata": {},
   "outputs": [],
   "source": []
  }
 ],
 "metadata": {
  "kernelspec": {
   "display_name": "Python 3 (ipykernel)",
   "language": "python",
   "name": "python3"
  },
  "language_info": {
   "codemirror_mode": {
    "name": "ipython",
    "version": 3
   },
   "file_extension": ".py",
   "mimetype": "text/x-python",
   "name": "python",
   "nbconvert_exporter": "python",
   "pygments_lexer": "ipython3",
   "version": "3.9.16"
  }
 },
 "nbformat": 4,
 "nbformat_minor": 5
}
