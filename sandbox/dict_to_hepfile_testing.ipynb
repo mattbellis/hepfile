{
 "cells": [
  {
   "cell_type": "code",
   "execution_count": 1,
   "id": "77dcda82-38c3-414a-803b-3400c7610138",
   "metadata": {},
   "outputs": [],
   "source": [
    "import hepfile as hf\n",
    "import awkward as ak\n",
    "import numpy as np"
   ]
  },
  {
   "cell_type": "code",
   "execution_count": 2,
   "id": "6dab2a2c-f3b7-47ef-8bd9-c62552d68565",
   "metadata": {},
   "outputs": [],
   "source": [
    "# test dictionary\n",
    "d = [\n",
    "    {\n",
    "    'jet': {\n",
    "        'px': [1,2,3],\n",
    "        'py': [1,2,3]\n",
    "     },\n",
    "    'muons': {\n",
    "        'px': [1,2,3],\n",
    "        'py': [1,2,3]\n",
    "     },\n",
    "    'other': 9\n",
    "    },\n",
    "    {\n",
    "    'jet': {\n",
    "        'px': [3,4,6,7],\n",
    "        'py': [3,4,6,7]\n",
    "     },\n",
    "    'muons': {\n",
    "        'px': [3,4,6,7],\n",
    "        'py': [3,4,6,7],\n",
    "        },\n",
    "    'other': 1\n",
    "    }\n",
    "]"
   ]
  },
  {
   "cell_type": "code",
   "execution_count": 3,
   "id": "15672a94-6218-44e2-aa5c-1f4eb0b6d9d3",
   "metadata": {},
   "outputs": [
    {
     "name": "stdout",
     "output_type": "stream",
     "text": [
      "Adding group \u001b[1mjet\u001b[0m\n",
      "Adding a counter for \u001b[1mjet\u001b[0m as \u001b[1mnjet\u001b[0m\n",
      "Adding dataset \u001b[1mpx\u001b[0m to the dictionary under group \u001b[1mjet\u001b[0m.\n",
      "Adding dataset \u001b[1mpy\u001b[0m to the dictionary under group \u001b[1mjet\u001b[0m.\n",
      "Adding group \u001b[1mmuons\u001b[0m\n",
      "Adding a counter for \u001b[1mmuons\u001b[0m as \u001b[1mnmuons\u001b[0m\n",
      "Adding dataset \u001b[1mpx\u001b[0m to the dictionary under group \u001b[1mmuons\u001b[0m.\n",
      "Adding dataset \u001b[1mpy\u001b[0m to the dictionary under group \u001b[1mmuons\u001b[0m.\n",
      "Adding dataset \u001b[1mother\u001b[0m to the dictionary as a SINGLETON.\n",
      "Writing the hdf5 file from the awkward array...\n",
      "_SINGLETONS_GROUP_/COUNTER       has 2            entries\n",
      "jet/njet                         has 2            entries\n",
      "muons/nmuons                     has 2            entries\n",
      "Metadata added\n"
     ]
    }
   ],
   "source": [
    "out = 'test.hdf5'\n",
    "hf.dict_tools.dictlike_to_hepfile(d, out)"
   ]
  },
  {
   "cell_type": "code",
   "execution_count": 7,
   "id": "8ff59825-393c-4f1b-9d22-86f68c9654b8",
   "metadata": {},
   "outputs": [
    {
     "name": "stdout",
     "output_type": "stream",
     "text": [
      "Building the indices...\n",
      "\n",
      "Built the indices!\n",
      "Data is read in and input file is closed.\n"
     ]
    }
   ],
   "source": [
    "data, _ = hf.read.load('test.hdf5')"
   ]
  },
  {
   "cell_type": "code",
   "execution_count": 8,
   "id": "f33593a7-5743-437c-a6ef-f86c702f563c",
   "metadata": {},
   "outputs": [
    {
     "data": {
      "text/plain": [
       "{'_MAP_DATASETS_TO_COUNTERS_': {'_SINGLETONS_GROUP_': '_SINGLETONS_GROUP_/COUNTER',\n",
       "  'jet': 'jet/njet',\n",
       "  'jet/px': 'jet/njet',\n",
       "  'jet/py': 'jet/njet',\n",
       "  'muons': 'muons/nmuons',\n",
       "  'muons/px': 'muons/nmuons',\n",
       "  'muons/py': 'muons/nmuons',\n",
       "  'other': '_SINGLETONS_GROUP_/COUNTER'},\n",
       " '_MAP_DATASETS_TO_INDEX_': {'_SINGLETONS_GROUP_': '_SINGLETONS_GROUP_/COUNTER_INDEX',\n",
       "  'jet': 'jet/njet_INDEX',\n",
       "  'jet/px': 'jet/njet_INDEX',\n",
       "  'jet/py': 'jet/njet_INDEX',\n",
       "  'muons': 'muons/nmuons_INDEX',\n",
       "  'muons/px': 'muons/nmuons_INDEX',\n",
       "  'muons/py': 'muons/nmuons_INDEX',\n",
       "  'other': '_SINGLETONS_GROUP_/COUNTER_INDEX'},\n",
       " '_LIST_OF_COUNTERS_': ['_SINGLETONS_GROUP_/COUNTER',\n",
       "  'jet/njet',\n",
       "  'muons/nmuons'],\n",
       " '_LIST_OF_DATASETS_': ['_SINGLETONS_GROUP_',\n",
       "  '_SINGLETONS_GROUP_/COUNTER',\n",
       "  'jet',\n",
       "  'jet/njet',\n",
       "  'jet/px',\n",
       "  'jet/py',\n",
       "  'muons',\n",
       "  'muons/nmuons',\n",
       "  'muons/px',\n",
       "  'muons/py',\n",
       "  'other'],\n",
       " '_NUMBER_OF_BUCKETS_': 2,\n",
       " '_SINGLETONS_GROUP_': ['other'],\n",
       " '_SINGLETONS_GROUP_/COUNTER': array([1, 1]),\n",
       " '_SINGLETONS_GROUP_/COUNTER_INDEX': array([0, 1]),\n",
       " 'jet/njet': array([3, 4]),\n",
       " 'jet/njet_INDEX': array([0, 3]),\n",
       " 'muons/nmuons': array([3, 4]),\n",
       " 'muons/nmuons_INDEX': array([0, 3]),\n",
       " 'jet/px': array([1., 2., 3., 3., 4., 6., 7.]),\n",
       " 'jet/py': array([1., 2., 3., 3., 4., 6., 7.]),\n",
       " 'muons/px': array([1., 2., 3., 3., 4., 6., 7.]),\n",
       " 'muons/py': array([1., 2., 3., 3., 4., 6., 7.]),\n",
       " 'other': array([9., 1.])}"
      ]
     },
     "execution_count": 8,
     "metadata": {},
     "output_type": "execute_result"
    }
   ],
   "source": [
    "data"
   ]
  },
  {
   "cell_type": "code",
   "execution_count": 9,
   "id": "870bc997-7958-4fa1-b11f-3e0cace27bd9",
   "metadata": {},
   "outputs": [
    {
     "data": {
      "text/plain": [
       "{'_SINGLETONS_GROUP_': {},\n",
       " 'jet': {'px': <Array [[1, 2, 3], [3, 4, 6, 7]] type='2 * var * float64'>,\n",
       "  'py': <Array [[1, 2, 3], [3, 4, 6, 7]] type='2 * var * float64'>},\n",
       " 'muons': {'px': <Array [[1, 2, 3], [3, 4, 6, 7]] type='2 * var * float64'>,\n",
       "  'py': <Array [[1, 2, 3], [3, 4, 6, 7]] type='2 * var * float64'>},\n",
       " 'other': {}}"
      ]
     },
     "execution_count": 9,
     "metadata": {},
     "output_type": "execute_result"
    }
   ],
   "source": [
    "hf.awkward_tools.hepfile_to_awkward(data)"
   ]
  },
  {
   "cell_type": "code",
   "execution_count": null,
   "id": "804b18cf-26bc-451a-b733-08a2355b476d",
   "metadata": {},
   "outputs": [],
   "source": []
  }
 ],
 "metadata": {
  "kernelspec": {
   "display_name": "Python 3 (ipykernel)",
   "language": "python",
   "name": "python3"
  },
  "language_info": {
   "codemirror_mode": {
    "name": "ipython",
    "version": 3
   },
   "file_extension": ".py",
   "mimetype": "text/x-python",
   "name": "python",
   "nbconvert_exporter": "python",
   "pygments_lexer": "ipython3",
   "version": "3.9.16"
  }
 },
 "nbformat": 4,
 "nbformat_minor": 5
}
