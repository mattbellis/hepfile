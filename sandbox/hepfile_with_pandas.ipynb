{
 "cells": [
  {
   "cell_type": "markdown",
   "id": "75271386-afe8-4ff8-a786-90186ac89ba7",
   "metadata": {},
   "source": [
    "# Working with Pandas DataFrames\n",
    "\n",
    "We can also convert from hepfile's dictionary structure to a dictionary of pandas dataframes that are organized into the groups that were in the hepfile. This is possible because the datasets under each group are the same length even though the datasets across groups are not necessarily the same length.\n",
    "\n",
    "First, make sure that you have installed hepfile using one of the following commands. The base installation does not have these pandas tools built in!\n",
    "1. `python -m pip install hepfile[all]`, or\n",
    "2. `python -m pip install hepfile[pandas]`"
   ]
  },
  {
   "cell_type": "code",
   "execution_count": 1,
   "id": "4efc2cb5-b82f-4c5d-afeb-439f3873479e",
   "metadata": {},
   "outputs": [],
   "source": [
    "import hepfile as hf\n",
    "import pandas as pd"
   ]
  },
  {
   "cell_type": "code",
   "execution_count": null,
   "id": "5e7b216d-1318-4aed-9228-c647e7aa507d",
   "metadata": {},
   "outputs": [],
   "source": []
  }
 ],
 "metadata": {
  "kernelspec": {
   "display_name": "Python 3 (ipykernel)",
   "language": "python",
   "name": "python3"
  },
  "language_info": {
   "codemirror_mode": {
    "name": "ipython",
    "version": 3
   },
   "file_extension": ".py",
   "mimetype": "text/x-python",
   "name": "python",
   "nbconvert_exporter": "python",
   "pygments_lexer": "ipython3",
   "version": "3.9.17"
  }
 },
 "nbformat": 4,
 "nbformat_minor": 5
}
