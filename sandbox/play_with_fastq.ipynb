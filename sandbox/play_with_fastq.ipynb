{
 "cells": [
  {
   "cell_type": "code",
   "execution_count": null,
   "id": "1594b1a0-c5a6-470b-8b3d-90c17b6c6f36",
   "metadata": {},
   "outputs": [],
   "source": [
    "import hepfile as hf\n",
    "import fastq as fq"
   ]
  },
  {
   "cell_type": "code",
   "execution_count": null,
   "id": "3be67f33-3c9c-43af-9ec9-1473f9384c44",
   "metadata": {},
   "outputs": [],
   "source": [
    "filepath = '1_control_18S_2019_minq7.fastq'\n",
    "#filepath = 'fastq-test-input.fastq'"
   ]
  },
  {
   "cell_type": "code",
   "execution_count": null,
   "id": "275365b8-8c1f-458f-bea9-76f7bdf468ab",
   "metadata": {},
   "outputs": [],
   "source": [
    "fastq = fq.read(filepath)\n",
    "fos = list(fastq)"
   ]
  },
  {
   "cell_type": "code",
   "execution_count": null,
   "id": "401c1ffe-cd44-4bdc-a7f0-be336721dc67",
   "metadata": {
    "tags": []
   },
   "outputs": [],
   "source": [
    "import cProfile\n",
    "with cProfile.Profile() as profile:\n",
    "    hepfile = hf.initialize()\n",
    "    for fo in fos:\n",
    "        meta = fo.getHead().split()\n",
    "\n",
    "        # get the sample id, read, and ch as group name b/c I think that is unique \n",
    "        group = f\"{meta[2].split('=')[-1]}_{meta[3].split('=')[-1]}_{meta[4].split('=')[-1]}\"\n",
    "\n",
    "        # create the group and add metadata for that group\n",
    "        hf.create_group(hepfile, group, counter=f'n_{group}')\n",
    "        hf.add_meta(hepfile, group, meta)\n",
    "\n",
    "        # create a dataset underneath that group\n",
    "        hf.create_dataset(hepfile, 'sequence', group=group, dtype=str)\n",
    "        hf.create_dataset(hepfile, 'quality', group=group, dtype=str)\n",
    "        hf.add_meta(hepfile, f'{group}/sequence', 'units')\n",
    "\n",
    "    bucket = hf.create_single_bucket(hepfile)\n",
    "    for fo in fos:\n",
    "\n",
    "        meta = fo.getHead().split()\n",
    "        group = f\"{meta[2].split('=')[-1]}_{meta[3].split('=')[-1]}_{meta[4].split('=')[-1]}\"\n",
    "\n",
    "        seq = list(fo.getSeq())\n",
    "        qual = list(fo.getQual())\n",
    "        bucket[f'{group}/sequence'] = seq\n",
    "        bucket[f'{group}/quality'] = qual\n",
    "\n",
    "    return_value = hf.pack(hepfile,bucket,STRICT_CHECKING=True,verbose=False)  \n",
    "    \n",
    "    profile.print_stats()"
   ]
  },
  {
   "cell_type": "code",
   "execution_count": null,
   "id": "ca5ce0c1-00a7-4c9d-aa1d-6711e5f48100",
   "metadata": {
    "tags": []
   },
   "outputs": [],
   "source": [
    "outfile = 'fastq-test.h5'\n",
    "hf.write_to_file(outfile, hepfile)"
   ]
  },
  {
   "cell_type": "code",
   "execution_count": null,
   "id": "75de1bff-1e1e-4ee0-9036-32e4a98c4768",
   "metadata": {
    "scrolled": false,
    "tags": []
   },
   "outputs": [],
   "source": [
    "import cProfile\n",
    "with cProfile.Profile() as profile:\n",
    "    awk, bucket = hf.load(outfile) #, return_awkward=True)\n",
    "    profile.print_stats()"
   ]
  },
  {
   "cell_type": "code",
   "execution_count": null,
   "id": "c1cf5e25-d684-4b52-b59e-a51a7312ecc7",
   "metadata": {},
   "outputs": [],
   "source": [
    "fos[0].head.split()"
   ]
  },
  {
   "cell_type": "code",
   "execution_count": null,
   "id": "b278ad6e",
   "metadata": {},
   "outputs": [],
   "source": [
    "fos[0].body"
   ]
  },
  {
   "cell_type": "code",
   "execution_count": null,
   "id": "942bd284",
   "metadata": {},
   "outputs": [],
   "source": [
    "for x in fos[0].qstr:\n",
    "    print(x)"
   ]
  },
  {
   "cell_type": "code",
   "execution_count": null,
   "id": "b55f925f",
   "metadata": {},
   "outputs": [],
   "source": []
  }
 ],
 "metadata": {
  "kernelspec": {
   "display_name": "Python 3 (ipykernel)",
   "language": "python",
   "name": "python3"
  },
  "language_info": {
   "codemirror_mode": {
    "name": "ipython",
    "version": 3
   },
   "file_extension": ".py",
   "mimetype": "text/x-python",
   "name": "python",
   "nbconvert_exporter": "python",
   "pygments_lexer": "ipython3",
   "version": "3.9.12"
  }
 },
 "nbformat": 4,
 "nbformat_minor": 5
}
