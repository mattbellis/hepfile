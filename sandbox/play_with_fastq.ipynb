{
 "cells": [
  {
   "cell_type": "code",
   "execution_count": 1,
   "id": "1594b1a0-c5a6-470b-8b3d-90c17b6c6f36",
   "metadata": {},
   "outputs": [],
   "source": [
    "import hepfile as hf\n",
    "import fastq as fq"
   ]
  },
  {
   "cell_type": "code",
   "execution_count": 2,
   "id": "3be67f33-3c9c-43af-9ec9-1473f9384c44",
   "metadata": {},
   "outputs": [],
   "source": [
    "filepath = '1_control_18S_2019_minq7.fastq'\n",
    "#filepath = 'fastq-test-input.fastq'"
   ]
  },
  {
   "cell_type": "code",
   "execution_count": 3,
   "id": "275365b8-8c1f-458f-bea9-76f7bdf468ab",
   "metadata": {},
   "outputs": [],
   "source": [
    "fastq = fq.read(filepath)\n",
    "fos = list(fastq)"
   ]
  },
  {
   "cell_type": "code",
   "execution_count": 4,
   "id": "401c1ffe-cd44-4bdc-a7f0-be336721dc67",
   "metadata": {
    "tags": []
   },
   "outputs": [
    {
     "name": "stdout",
     "output_type": "stream",
     "text": [
      "         734305 function calls in 3.813 seconds\n",
      "\n",
      "   Ordered by: standard name\n",
      "\n",
      "   ncalls  tottime  percall  cumtime  percall filename:lineno(function)\n",
      "    36714    0.005    0.000    0.005    0.000 _fastq.py:45(getHead)\n",
      "    18357    0.003    0.000    0.005    0.000 _fastq.py:51(getSeq)\n",
      "    18357    0.003    0.000    0.004    0.000 _fastq.py:57(getQual)\n",
      "    18357    0.002    0.000    0.002    0.000 _fastq.py:69(body)\n",
      "    18357    0.001    0.000    0.001    0.000 _fastq.py:85(qstr)\n",
      "        1    0.000    0.000    0.000    0.000 cProfile.py:40(print_stats)\n",
      "        1    0.000    0.000    0.000    0.000 cProfile.py:50(create_stats)\n",
      "        1    0.000    0.000    0.000    0.000 pstats.py:107(__init__)\n",
      "        1    0.000    0.000    0.000    0.000 pstats.py:117(init)\n",
      "        1    0.000    0.000    0.000    0.000 pstats.py:136(load_stats)\n",
      "        1    0.000    0.000    0.000    0.000 write.py:13(initialize)\n",
      "    36714    0.093    0.000    0.139    0.000 write.py:182(create_dataset)\n",
      "    36714    0.023    0.000    0.025    0.000 write.py:280(add_meta)\n",
      "        1    0.080    0.080    1.773    1.773 write.py:298(pack)\n",
      "        1    1.669    1.669    1.690    1.690 write.py:42(clear_bucket)\n",
      "        1    0.001    0.001    0.069    0.069 write.py:74(create_single_bucket)\n",
      "        1    0.012    0.012    0.068    0.068 write.py:86(<dictcomp>)\n",
      "    18357    1.757    0.000    1.762    0.000 write.py:97(create_group)\n",
      "        1    0.000    0.000    0.000    0.000 {built-in method builtins.hasattr}\n",
      "        1    0.000    0.000    0.000    0.000 {built-in method builtins.isinstance}\n",
      "   110143    0.005    0.000    0.005    0.000 {built-in method builtins.len}\n",
      "    91787    0.008    0.000    0.008    0.000 {method 'append' of 'list' objects}\n",
      "    36714    0.021    0.000    0.021    0.000 {method 'clear' of 'list' objects}\n",
      "        4    0.004    0.001    0.004    0.001 {method 'copy' of 'dict' objects}\n",
      "    55073    0.052    0.000    0.052    0.000 {method 'copy' of 'list' objects}\n",
      "        1    0.000    0.000    0.000    0.000 {method 'disable' of '_lsprof.Profiler' objects}\n",
      "    91788    0.045    0.000    0.045    0.000 {method 'keys' of 'dict' objects}\n",
      "   146856    0.031    0.000    0.031    0.000 {method 'split' of 'str' objects}\n",
      "\n",
      "\n"
     ]
    }
   ],
   "source": [
    "import cProfile\n",
    "with cProfile.Profile() as profile:\n",
    "    hepfile = hf.initialize()\n",
    "    for fo in fos:\n",
    "        meta = fo.getHead().split()\n",
    "\n",
    "        # get the sample id, read, and ch as group name b/c I think that is unique \n",
    "        group = f\"{meta[2].split('=')[-1]}_{meta[3].split('=')[-1]}_{meta[4].split('=')[-1]}\"\n",
    "\n",
    "        # create the group and add metadata for that group\n",
    "        hf.create_group(hepfile, group, counter=f'n_{group}')\n",
    "        hf.add_meta(hepfile, group, meta)\n",
    "\n",
    "        # create a dataset underneath that group\n",
    "        hf.create_dataset(hepfile, 'sequence', group=group, dtype=str)\n",
    "        hf.create_dataset(hepfile, 'quality', group=group, dtype=str)\n",
    "        hf.add_meta(hepfile, f'{group}/sequence', 'units')\n",
    "\n",
    "    bucket = hf.create_single_bucket(hepfile)\n",
    "    for fo in fos:\n",
    "\n",
    "        meta = fo.getHead().split()\n",
    "        group = f\"{meta[2].split('=')[-1]}_{meta[3].split('=')[-1]}_{meta[4].split('=')[-1]}\"\n",
    "\n",
    "        seq = list(fo.getSeq())\n",
    "        qual = list(fo.getQual())\n",
    "        bucket[f'{group}/sequence'] = seq\n",
    "        bucket[f'{group}/quality'] = qual\n",
    "\n",
    "    return_value = hf.pack(hepfile,bucket,STRICT_CHECKING=True,verbose=False)  \n",
    "    \n",
    "    profile.print_stats()"
   ]
  },
  {
   "cell_type": "code",
   "execution_count": 5,
   "id": "ca5ce0c1-00a7-4c9d-aa1d-6711e5f48100",
   "metadata": {
    "tags": []
   },
   "outputs": [
    {
     "name": "stdout",
     "output_type": "stream",
     "text": [
      "Metadata added\n"
     ]
    },
    {
     "data": {
      "text/plain": [
       "<Closed HDF5 file>"
      ]
     },
     "execution_count": 5,
     "metadata": {},
     "output_type": "execute_result"
    }
   ],
   "source": [
    "outfile = 'fastq-test.h5'\n",
    "hf.write_to_file(outfile, hepfile)"
   ]
  },
  {
   "cell_type": "code",
   "execution_count": 6,
   "id": "75de1bff-1e1e-4ee0-9036-32e4a98c4768",
   "metadata": {
    "tags": []
   },
   "outputs": [
    {
     "name": "stdout",
     "output_type": "stream",
     "text": [
      "Building the indices...\n",
      "\n",
      "Built the indices!\n"
     ]
    },
    {
     "ename": "KeyboardInterrupt",
     "evalue": "",
     "output_type": "error",
     "traceback": [
      "\u001b[0;31m---------------------------------------------------------------------------\u001b[0m",
      "\u001b[0;31mKeyboardInterrupt\u001b[0m                         Traceback (most recent call last)",
      "Cell \u001b[0;32mIn[6], line 3\u001b[0m\n\u001b[1;32m      1\u001b[0m \u001b[38;5;28;01mimport\u001b[39;00m \u001b[38;5;21;01mcProfile\u001b[39;00m\n\u001b[1;32m      2\u001b[0m \u001b[38;5;28;01mwith\u001b[39;00m cProfile\u001b[38;5;241m.\u001b[39mProfile() \u001b[38;5;28;01mas\u001b[39;00m profile:\n\u001b[0;32m----> 3\u001b[0m     awk, bucket \u001b[38;5;241m=\u001b[39m \u001b[43mhf\u001b[49m\u001b[38;5;241;43m.\u001b[39;49m\u001b[43mload\u001b[49m\u001b[43m(\u001b[49m\u001b[43moutfile\u001b[49m\u001b[43m)\u001b[49m\u001b[38;5;66;03m#, return_awkward=True)\u001b[39;00m\n\u001b[1;32m      4\u001b[0m     profile\u001b[38;5;241m.\u001b[39mprint_stats()\n",
      "File \u001b[0;32m~/research/hepfile/src/hepfile/read.py:257\u001b[0m, in \u001b[0;36mload\u001b[0;34m(filename, verbose, desired_groups, subset, return_awkward)\u001b[0m\n\u001b[1;32m    254\u001b[0m     \u001b[38;5;28mprint\u001b[39m(\u001b[38;5;124mf\u001b[39m\u001b[38;5;124m\"\u001b[39m\u001b[38;5;124m------ \u001b[39m\u001b[38;5;132;01m{\u001b[39;00mname\u001b[38;5;132;01m}\u001b[39;00m\u001b[38;5;124m\"\u001b[39m)\n\u001b[1;32m    255\u001b[0m     \u001b[38;5;28mprint\u001b[39m(\u001b[38;5;124mf\u001b[39m\u001b[38;5;124m\"\u001b[39m\u001b[38;5;124mindex_name: \u001b[39m\u001b[38;5;132;01m{\u001b[39;00mindex_name\u001b[38;5;132;01m}\u001b[39;00m\u001b[38;5;130;01m\\n\u001b[39;00m\u001b[38;5;124m\"\u001b[39m)\n\u001b[0;32m--> 257\u001b[0m dataset \u001b[38;5;241m=\u001b[39m \u001b[43minfile\u001b[49m\u001b[43m[\u001b[49m\u001b[43mname\u001b[49m\u001b[43m]\u001b[49m\n\u001b[1;32m    259\u001b[0m \u001b[38;5;28;01mif\u001b[39;00m verbose:\n\u001b[1;32m    260\u001b[0m     \u001b[38;5;28mprint\u001b[39m(\u001b[38;5;124mf\u001b[39m\u001b[38;5;124m\"\u001b[39m\u001b[38;5;124mdataset type: \u001b[39m\u001b[38;5;132;01m{\u001b[39;00m\u001b[38;5;28mtype\u001b[39m(dataset)\u001b[38;5;132;01m}\u001b[39;00m\u001b[38;5;124m\"\u001b[39m)\n",
      "File \u001b[0;32mh5py/_objects.pyx:54\u001b[0m, in \u001b[0;36mh5py._objects.with_phil.wrapper\u001b[0;34m()\u001b[0m\n",
      "File \u001b[0;32mh5py/_objects.pyx:55\u001b[0m, in \u001b[0;36mh5py._objects.with_phil.wrapper\u001b[0;34m()\u001b[0m\n",
      "File \u001b[0;32m~/anaconda3/lib/python3.9/site-packages/h5py/_hl/group.py:328\u001b[0m, in \u001b[0;36mGroup.__getitem__\u001b[0;34m(self, name)\u001b[0m\n\u001b[1;32m    326\u001b[0m         \u001b[38;5;28;01mraise\u001b[39;00m \u001b[38;5;167;01mValueError\u001b[39;00m(\u001b[38;5;124m\"\u001b[39m\u001b[38;5;124mInvalid HDF5 object reference\u001b[39m\u001b[38;5;124m\"\u001b[39m)\n\u001b[1;32m    327\u001b[0m \u001b[38;5;28;01melif\u001b[39;00m \u001b[38;5;28misinstance\u001b[39m(name, (\u001b[38;5;28mbytes\u001b[39m, \u001b[38;5;28mstr\u001b[39m)):\n\u001b[0;32m--> 328\u001b[0m     oid \u001b[38;5;241m=\u001b[39m \u001b[43mh5o\u001b[49m\u001b[38;5;241;43m.\u001b[39;49m\u001b[43mopen\u001b[49m\u001b[43m(\u001b[49m\u001b[38;5;28;43mself\u001b[39;49m\u001b[38;5;241;43m.\u001b[39;49m\u001b[43mid\u001b[49m\u001b[43m,\u001b[49m\u001b[43m \u001b[49m\u001b[38;5;28;43mself\u001b[39;49m\u001b[38;5;241;43m.\u001b[39;49m\u001b[43m_e\u001b[49m\u001b[43m(\u001b[49m\u001b[43mname\u001b[49m\u001b[43m)\u001b[49m\u001b[43m,\u001b[49m\u001b[43m \u001b[49m\u001b[43mlapl\u001b[49m\u001b[38;5;241;43m=\u001b[39;49m\u001b[38;5;28;43mself\u001b[39;49m\u001b[38;5;241;43m.\u001b[39;49m\u001b[43m_lapl\u001b[49m\u001b[43m)\u001b[49m\n\u001b[1;32m    329\u001b[0m \u001b[38;5;28;01melse\u001b[39;00m:\n\u001b[1;32m    330\u001b[0m     \u001b[38;5;28;01mraise\u001b[39;00m \u001b[38;5;167;01mTypeError\u001b[39;00m(\u001b[38;5;124m\"\u001b[39m\u001b[38;5;124mAccessing a group is done with bytes or str, \u001b[39m\u001b[38;5;124m\"\u001b[39m\n\u001b[1;32m    331\u001b[0m                     \u001b[38;5;124m\"\u001b[39m\u001b[38;5;124m not \u001b[39m\u001b[38;5;132;01m{}\u001b[39;00m\u001b[38;5;124m\"\u001b[39m\u001b[38;5;241m.\u001b[39mformat(\u001b[38;5;28mtype\u001b[39m(name)))\n",
      "\u001b[0;31mKeyboardInterrupt\u001b[0m: "
     ]
    }
   ],
   "source": [
    "import cProfile\n",
    "with cProfile.Profile() as profile:\n",
    "    awk, bucket = hf.load(outfile)#, return_awkward=True)\n",
    "    profile.print_stats()"
   ]
  },
  {
   "cell_type": "code",
   "execution_count": null,
   "id": "c1cf5e25-d684-4b52-b59e-a51a7312ecc7",
   "metadata": {},
   "outputs": [],
   "source": []
  }
 ],
 "metadata": {
  "kernelspec": {
   "display_name": "Python 3 (ipykernel)",
   "language": "python",
   "name": "python3"
  },
  "language_info": {
   "codemirror_mode": {
    "name": "ipython",
    "version": 3
   },
   "file_extension": ".py",
   "mimetype": "text/x-python",
   "name": "python",
   "nbconvert_exporter": "python",
   "pygments_lexer": "ipython3",
   "version": "3.9.16"
  }
 },
 "nbformat": 4,
 "nbformat_minor": 5
}
