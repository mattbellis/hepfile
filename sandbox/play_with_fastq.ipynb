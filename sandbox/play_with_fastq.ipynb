{
 "cells": [
  {
   "cell_type": "code",
   "execution_count": 1,
   "id": "1594b1a0-c5a6-470b-8b3d-90c17b6c6f36",
   "metadata": {},
   "outputs": [],
   "source": [
    "import hepfile as hf\n",
    "import fastq as fq"
   ]
  },
  {
   "cell_type": "code",
   "execution_count": 2,
   "id": "3be67f33-3c9c-43af-9ec9-1473f9384c44",
   "metadata": {},
   "outputs": [],
   "source": [
    "filepath = '1_control_18S_2019_minq7.fastq'\n",
    "#filepath = 'fastq-test-input.fastq'"
   ]
  },
  {
   "cell_type": "code",
   "execution_count": 3,
   "id": "275365b8-8c1f-458f-bea9-76f7bdf468ab",
   "metadata": {},
   "outputs": [],
   "source": [
    "fastq = fq.read(filepath)\n",
    "fos = list(fastq)"
   ]
  },
  {
   "cell_type": "code",
   "execution_count": 4,
   "id": "401c1ffe-cd44-4bdc-a7f0-be336721dc67",
   "metadata": {
    "tags": []
   },
   "outputs": [
    {
     "name": "stdout",
     "output_type": "stream",
     "text": [
      "         862822 function calls in 3.925 seconds\n",
      "\n",
      "   Ordered by: standard name\n",
      "\n",
      "   ncalls  tottime  percall  cumtime  percall filename:lineno(function)\n",
      "    36714    0.005    0.000    0.005    0.000 _fastq.py:45(getHead)\n",
      "    18357    0.003    0.000    0.004    0.000 _fastq.py:51(getSeq)\n",
      "    18357    0.003    0.000    0.004    0.000 _fastq.py:57(getQual)\n",
      "    18357    0.001    0.000    0.001    0.000 _fastq.py:69(body)\n",
      "    18357    0.002    0.000    0.002    0.000 _fastq.py:85(qstr)\n",
      "        1    0.000    0.000    0.000    0.000 cProfile.py:40(print_stats)\n",
      "        1    0.000    0.000    0.000    0.000 cProfile.py:50(create_stats)\n",
      "        1    0.000    0.000    0.000    0.000 pstats.py:107(__init__)\n",
      "        1    0.000    0.000    0.000    0.000 pstats.py:117(init)\n",
      "        1    0.000    0.000    0.000    0.000 pstats.py:136(load_stats)\n",
      "    18357    1.828    0.000    1.833    0.000 write.py:106(create_group)\n",
      "    36714    0.079    0.000    0.088    0.000 write.py:195(create_dataset)\n",
      "        1    0.000    0.000    0.000    0.000 write.py:21(initialize)\n",
      "    36714    0.021    0.000    0.058    0.000 write.py:308(add_meta)\n",
      "        1    0.073    0.073    1.837    1.837 write.py:329(pack)\n",
      "        1    1.728    1.728    1.757    1.757 write.py:52(clear_bucket)\n",
      "        1    0.001    0.001    0.065    0.065 write.py:83(create_single_bucket)\n",
      "        1    0.011    0.011    0.064    0.064 write.py:95(<dictcomp>)\n",
      "        1    0.000    0.000    0.000    0.000 {built-in method builtins.hasattr}\n",
      "   165232    0.012    0.000    0.012    0.000 {built-in method builtins.isinstance}\n",
      "    73429    0.003    0.000    0.003    0.000 {built-in method builtins.len}\n",
      "    91787    0.007    0.000    0.007    0.000 {method 'append' of 'list' objects}\n",
      "    36714    0.024    0.000    0.024    0.000 {method 'clear' of 'list' objects}\n",
      "        4    0.003    0.001    0.003    0.001 {method 'copy' of 'dict' objects}\n",
      "    55073    0.049    0.000    0.049    0.000 {method 'copy' of 'list' objects}\n",
      "        1    0.000    0.000    0.000    0.000 {method 'disable' of '_lsprof.Profiler' objects}\n",
      "    91788    0.041    0.000    0.041    0.000 {method 'keys' of 'dict' objects}\n",
      "   146856    0.030    0.000    0.030    0.000 {method 'split' of 'str' objects}\n",
      "\n",
      "\n"
     ]
    }
   ],
   "source": [
    "import cProfile\n",
    "with cProfile.Profile() as profile:\n",
    "    hepfile = hf.initialize()\n",
    "    for fo in fos:\n",
    "        meta = fo.getHead().split()\n",
    "\n",
    "        # get the sample id, read, and ch as group name b/c I think that is unique \n",
    "        group = f\"{meta[2].split('=')[-1]}_{meta[3].split('=')[-1]}_{meta[4].split('=')[-1]}\"\n",
    "\n",
    "        # create the group and add metadata for that group\n",
    "        hf.create_group(hepfile, group, counter=f'n_{group}')\n",
    "        hf.add_meta(hepfile, group, meta)\n",
    "\n",
    "        # create a dataset underneath that group\n",
    "        hf.create_dataset(hepfile, 'sequence', group=group, dtype=str)\n",
    "        hf.create_dataset(hepfile, 'quality', group=group, dtype=str)\n",
    "        hf.add_meta(hepfile, f'{group}/sequence', 'units')\n",
    "\n",
    "    bucket = hf.create_single_bucket(hepfile)\n",
    "    for fo in fos:\n",
    "\n",
    "        meta = fo.getHead().split()\n",
    "        group = f\"{meta[2].split('=')[-1]}_{meta[3].split('=')[-1]}_{meta[4].split('=')[-1]}\"\n",
    "\n",
    "        seq = list(fo.getSeq())\n",
    "        qual = list(fo.getQual())\n",
    "        bucket[f'{group}/sequence'] = seq\n",
    "        bucket[f'{group}/quality'] = qual\n",
    "\n",
    "    return_value = hf.pack(hepfile,bucket,STRICT_CHECKING=True,verbose=False)  \n",
    "    \n",
    "    profile.print_stats()"
   ]
  },
  {
   "cell_type": "code",
   "execution_count": 5,
   "id": "ca5ce0c1-00a7-4c9d-aa1d-6711e5f48100",
   "metadata": {
    "tags": []
   },
   "outputs": [
    {
     "name": "stdout",
     "output_type": "stream",
     "text": [
      "Metadata added\n"
     ]
    },
    {
     "data": {
      "text/plain": [
       "<Closed HDF5 file>"
      ]
     },
     "execution_count": 5,
     "metadata": {},
     "output_type": "execute_result"
    }
   ],
   "source": [
    "outfile = 'fastq-test.h5'\n",
    "hf.write_to_file(outfile, hepfile)"
   ]
  },
  {
   "cell_type": "code",
   "execution_count": 7,
   "id": "75de1bff-1e1e-4ee0-9036-32e4a98c4768",
   "metadata": {
    "tags": []
   },
   "outputs": [
    {
     "name": "stdout",
     "output_type": "stream",
     "text": [
      "Building the indices...\n",
      "\n",
      "Built the indices!\n",
      "Data is read in and input file is closed.\n",
      "         15163695 function calls (15035189 primitive calls) in 61.855 seconds\n",
      "\n",
      "   Ordered by: standard name\n",
      "\n",
      "   ncalls  tottime  percall  cumtime  percall filename:lineno(function)\n",
      "   128503    0.092    0.000    1.285    0.000 <__array_function__ internals>:2(prod)\n",
      "    36716    0.028    0.000    0.404    0.000 <__array_function__ internals>:2(product)\n",
      "        3    0.000    0.000    0.105    0.035 <__array_function__ internals>:2(unique)\n",
      "    18357    0.036    0.000    0.216    0.000 <__array_function__ internals>:2(where)\n",
      "   514028    0.246    0.000    0.345    0.000 <frozen importlib._bootstrap>:1033(_handle_fromlist)\n",
      "   605815    0.260    0.000    0.361    0.000 <frozen importlib._bootstrap>:398(parent)\n",
      "    36714    0.013    0.000    0.027    0.000 <string>:1(<lambda>)\n",
      "    73428    0.023    0.000    0.023    0.000 _collections_abc.py:802(__init__)\n",
      "    73428    0.065    0.000    0.440    0.000 _collections_abc.py:822(__contains__)\n",
      "        3    0.000    0.000    0.000    0.000 arraysetops.py:125(_unpack_tuple)\n",
      "        3    0.000    0.000    0.000    0.000 arraysetops.py:133(_unique_dispatcher)\n",
      "        3    0.000    0.000    0.105    0.035 arraysetops.py:138(unique)\n",
      "        3    0.014    0.005    0.080    0.027 arraysetops.py:320(_unique1d)\n",
      "    73428    0.281    0.000    0.375    0.000 attrs.py:278(__contains__)\n",
      "   110143    0.076    0.000    0.089    0.000 attrs.py:47(__init__)\n",
      "    36715    0.990    0.000    1.456    0.000 attrs.py:52(__getitem__)\n",
      "    36715    0.140    0.000    0.140    0.000 base.py:148(is_empty_dataspace)\n",
      "   110151    0.012    0.000    0.012    0.000 base.py:165(_lapl)\n",
      "   220294    0.170    0.000    0.238    0.000 base.py:177(_e)\n",
      "    91791    0.222    0.000    1.218    0.000 base.py:280(file)\n",
      "  1431913    0.158    0.000    0.158    0.000 base.py:305(id)\n",
      "   110142    0.230    0.000    0.490    0.000 base.py:331(attrs)\n",
      "   201943    0.046    0.000    0.046    0.000 base.py:338(__init__)\n",
      "    73428    0.041    0.000    0.064    0.000 base.py:453(keys)\n",
      "    36716    0.012    0.000    0.012    0.000 base.py:504(product)\n",
      "220296/128506    0.183    0.000    0.926    0.000 base.py:530(__get__)\n",
      "        1    0.000    0.000    0.000    0.000 cProfile.py:40(print_stats)\n",
      "        1    0.000    0.000    0.000    0.000 cProfile.py:50(create_stats)\n",
      "        1    0.000    0.000    0.000    0.000 compat.py:11(filename_encode)\n",
      "    36716    0.272    0.000    2.708    0.000 dataset.py:1034(__array__)\n",
      "   385510    1.613    0.000    1.686    0.000 dataset.py:440(shape)\n",
      "    91787    0.115    0.000    1.530    0.000 dataset.py:461(size)\n",
      "    91787    0.236    0.000    0.245    0.000 dataset.py:486(_selector)\n",
      "    36716    0.500    0.000    0.503    0.000 dataset.py:500(_fast_reader)\n",
      "   128503    0.562    0.000    0.574    0.000 dataset.py:514(dtype)\n",
      "    91790    0.352    0.000    0.362    0.000 dataset.py:603(_extent_type)\n",
      "    55074    0.020    0.000    0.102    0.000 dataset.py:609(_is_empty)\n",
      "    91791    2.260    0.000    2.531    0.000 dataset.py:614(__init__)\n",
      "    55073    0.218    0.000    3.259    0.000 dataset.py:685(__iter__)\n",
      "    73432    0.343    0.000    0.733    0.000 dataset.py:714(_fast_read_ok)\n",
      "   128503    5.814    0.000   12.390    0.000 dataset.py:722(__getitem__)\n",
      "    91787    0.029    0.000    0.036    0.000 dataset.py:753(<genexpr>)\n",
      "    36716    0.652    0.000    1.497    0.000 dataset.py:984(read_direct)\n",
      "        1    0.000    0.000    0.000    0.000 files.py:115(make_fapl)\n",
      "        1    0.000    0.000    0.000    0.000 files.py:177(make_fcpl)\n",
      "        1    0.002    0.002    0.002    0.002 files.py:206(make_fid)\n",
      "        1    0.000    0.000    0.000    0.000 files.py:274(attrs)\n",
      "    91791    0.162    0.000    0.172    0.000 files.py:307(mode)\n",
      "    91792    0.531    0.000    0.880    0.000 files.py:363(__init__)\n",
      "        1    0.053    0.053    0.053    0.053 files.py:542(close)\n",
      "        1    0.000    0.000    0.000    0.000 files.py:563(__enter__)\n",
      "        1    0.000    0.000    0.053    0.053 files.py:567(__exit__)\n",
      "    91791    0.234    0.000    0.234    0.000 filters.py:293(get_filters)\n",
      "   165219    0.022    0.000    0.022    0.000 fromnumeric.py:2928(_prod_dispatcher)\n",
      "   128503    0.107    0.000    1.098    0.000 fromnumeric.py:2933(prod)\n",
      "    36716    0.017    0.000    0.346    0.000 fromnumeric.py:3742(product)\n",
      "   128503    0.250    0.000    0.990    0.000 fromnumeric.py:69(_wrapreduction)\n",
      "   128503    0.055    0.000    0.055    0.000 fromnumeric.py:70(<dictcomp>)\n",
      "   110151    4.607    0.000    8.977    0.000 group.py:319(__getitem__)\n",
      "   110152    0.161    0.000    0.205    0.000 group.py:34(__init__)\n",
      "        3    0.000    0.000    0.000    0.000 iostream.py:202(schedule)\n",
      "        6    0.000    0.000    0.000    0.000 iostream.py:437(_is_master_process)\n",
      "        6    0.000    0.000    0.000    0.000 iostream.py:456(_schedule_flush)\n",
      "        6    0.000    0.000    0.000    0.000 iostream.py:526(write)\n",
      "        3    0.000    0.000    0.000    0.000 iostream.py:90(_event_pipe)\n",
      "    18357    0.008    0.000    0.008    0.000 multiarray.py:341(where)\n",
      "        1    0.000    0.000    0.000    0.000 os.py:804(fsencode)\n",
      "        1    0.000    0.000    0.000    0.000 pstats.py:107(__init__)\n",
      "        1    0.000    0.000    0.000    0.000 pstats.py:117(init)\n",
      "        1    0.000    0.000    0.000    0.000 pstats.py:136(load_stats)\n",
      "        1   34.271   34.271   61.855   61.855 read.py:17(load)\n",
      "        1    0.037    0.037    0.045    0.045 read.py:312(<listcomp>)\n",
      "    18357    0.110    0.000    0.135    0.000 read.py:325(<listcomp>)\n",
      "    18358    0.103    0.000    2.899    0.000 read.py:355(calculate_index_from_counters)\n",
      "   165219    0.392    0.000    0.399    0.000 selections.py:112(__init__)\n",
      "   128503    0.015    0.000    0.015    0.000 selections.py:123(id)\n",
      "   183580    0.016    0.000    0.016    0.000 selections.py:128(shape)\n",
      "    91787    0.069    0.000    0.069    0.000 selections.py:133(nselect)\n",
      "    91787    0.136    0.000    1.581    0.000 selections.py:19(select)\n",
      "   220290    0.025    0.000    0.025    0.000 selections.py:217(mshape)\n",
      "   128503    0.154    0.000    0.214    0.000 selections.py:222(array_shape)\n",
      "   257006    0.045    0.000    0.045    0.000 selections.py:225(<genexpr>)\n",
      "   165219    0.154    0.000    0.570    0.000 selections.py:227(__init__)\n",
      "    36716    0.089    0.000    0.114    0.000 selections.py:236(expand_shape)\n",
      "    36716    0.005    0.000    0.005    0.000 selections.py:266(<listcomp>)\n",
      "    73432    0.080    0.000    0.221    0.000 selections.py:275(broadcast)\n",
      "    73432    0.011    0.000    0.011    0.000 selections.py:293(<genexpr>)\n",
      "        3    0.000    0.000    0.000    0.000 socket.py:613(send)\n",
      "        3    0.000    0.000    0.000    0.000 threading.py:1066(_wait_for_tstate_lock)\n",
      "        3    0.000    0.000    0.000    0.000 threading.py:1133(is_alive)\n",
      "        3    0.000    0.000    0.000    0.000 threading.py:536(is_set)\n",
      "    36714    0.014    0.000    0.014    0.000 {built-in method __new__ of type object at 0x7372a0}\n",
      "    36716    0.006    0.000    0.006    0.000 {built-in method builtins.any}\n",
      "   257006    0.073    0.000    0.073    0.000 {built-in method builtins.getattr}\n",
      "   514030    0.064    0.000    0.064    0.000 {built-in method builtins.hasattr}\n",
      "  2129528    0.191    0.000    0.191    0.000 {built-in method builtins.isinstance}\n",
      "   495670    0.044    0.000    0.044    0.000 {built-in method builtins.len}\n",
      "        3    0.000    0.000    0.000    0.000 {built-in method builtins.print}\n",
      "        1    0.000    0.000    0.000    0.000 {built-in method h5py.h5.get_config}\n",
      "   128502    0.399    0.000    0.399    0.000 {built-in method h5py.h5t.py_create}\n",
      "        3    0.023    0.008    0.023    0.008 {built-in method numpy.array}\n",
      "        6    0.025    0.004    0.025    0.004 {built-in method numpy.asanyarray}\n",
      "183579/146863    0.275    0.000    1.517    0.000 {built-in method numpy.core._multiarray_umath.implement_array_function}\n",
      "        3    0.000    0.000    0.000    0.000 {built-in method numpy.empty}\n",
      "   165218    0.151    0.000    0.151    0.000 {built-in method numpy.zeros}\n",
      "        2    0.000    0.000    0.000    0.000 {built-in method posix.fspath}\n",
      "        6    0.000    0.000    0.000    0.000 {built-in method posix.getpid}\n",
      "    36715    0.067    0.000    0.094    0.000 {h5py.h5t.check_string_dtype}\n",
      "        6    0.000    0.000    0.000    0.000 {method '__exit__' of '_thread.RLock' objects}\n",
      "   826105    0.080    0.000    0.080    0.000 {method '__exit__' of 'h5py._objects.FastRLock' objects}\n",
      "    18358    0.088    0.000    1.745    0.000 {method 'accumulate' of 'numpy.ufunc' objects}\n",
      "        3    0.000    0.000    0.000    0.000 {method 'acquire' of '_thread.lock' objects}\n",
      "        3    0.000    0.000    0.000    0.000 {method 'append' of 'collections.deque' objects}\n",
      "   201932    0.020    0.000    0.020    0.000 {method 'append' of 'list' objects}\n",
      "   330433    0.034    0.000    0.034    0.000 {method 'decode' of 'bytes' objects}\n",
      "        1    0.000    0.000    0.000    0.000 {method 'disable' of '_lsprof.Profiler' objects}\n",
      "   220295    0.046    0.000    0.046    0.000 {method 'encode' of 'str' objects}\n",
      "        3    0.011    0.004    0.011    0.004 {method 'flatten' of 'numpy.ndarray' objects}\n",
      "   128503    0.016    0.000    0.016    0.000 {method 'items' of 'dict' objects}\n",
      "    91787    0.825    0.000    1.166    0.000 {method 'make_selection' of 'h5py._selector.Selector' objects}\n",
      "    36716    0.004    0.000    0.004    0.000 {method 'pop' of 'list' objects}\n",
      "    36716    0.335    0.000    0.335    0.000 {method 'read' of 'h5py._selector.Reader' objects}\n",
      "   128503    0.622    0.000    0.622    0.000 {method 'reduce' of 'numpy.ufunc' objects}\n",
      "        1    0.000    0.000    0.000    0.000 {method 'remove' of 'list' objects}\n",
      "   605815    0.102    0.000    0.102    0.000 {method 'rpartition' of 'str' objects}\n",
      "        1    0.000    0.000    0.000    0.000 {method 'set_alignment' of 'h5py.h5p.PropFAID' objects}\n",
      "        3    0.055    0.018    0.055    0.018 {method 'sort' of 'numpy.ndarray' objects}\n",
      "   128502    0.032    0.000    0.032    0.000 {method 'split' of 'str' objects}\n",
      "        2    0.007    0.003    0.007    0.003 {method 'tolist' of 'numpy.ndarray' objects}\n",
      "        6    0.000    0.000    0.000    0.000 {method 'write' of '_io.StringIO' objects}\n",
      "\n",
      "\n"
     ]
    }
   ],
   "source": [
    "import cProfile\n",
    "with cProfile.Profile() as profile:\n",
    "    awk, bucket = hf.load(outfile) #, return_awkward=True)\n",
    "    profile.print_stats()"
   ]
  },
  {
   "cell_type": "code",
   "execution_count": null,
   "id": "c1cf5e25-d684-4b52-b59e-a51a7312ecc7",
   "metadata": {},
   "outputs": [],
   "source": []
  }
 ],
 "metadata": {
  "kernelspec": {
   "display_name": "Python 3 (ipykernel)",
   "language": "python",
   "name": "python3"
  },
  "language_info": {
   "codemirror_mode": {
    "name": "ipython",
    "version": 3
   },
   "file_extension": ".py",
   "mimetype": "text/x-python",
   "name": "python",
   "nbconvert_exporter": "python",
   "pygments_lexer": "ipython3",
   "version": "3.9.16"
  }
 },
 "nbformat": 4,
 "nbformat_minor": 5
}
