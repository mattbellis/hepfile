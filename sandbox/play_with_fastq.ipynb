{
 "cells": [
  {
   "cell_type": "code",
   "execution_count": 1,
   "id": "1594b1a0-c5a6-470b-8b3d-90c17b6c6f36",
   "metadata": {},
   "outputs": [],
   "source": [
    "import hepfile as hf\n",
    "import fastq as fq"
   ]
  },
  {
   "cell_type": "code",
   "execution_count": 2,
   "id": "3be67f33-3c9c-43af-9ec9-1473f9384c44",
   "metadata": {},
   "outputs": [],
   "source": [
    "filepath = '1_control_18S_2019_minq7.fastq'\n",
    "#filepath = 'fastq-test-input.fastq'"
   ]
  },
  {
   "cell_type": "code",
   "execution_count": 3,
   "id": "275365b8-8c1f-458f-bea9-76f7bdf468ab",
   "metadata": {},
   "outputs": [],
   "source": [
    "fastq = fq.read(filepath)\n",
    "fos = list(fastq)"
   ]
  },
  {
   "cell_type": "code",
   "execution_count": 4,
   "id": "401c1ffe-cd44-4bdc-a7f0-be336721dc67",
   "metadata": {
    "tags": []
   },
   "outputs": [
    {
     "name": "stdout",
     "output_type": "stream",
     "text": [
      "         697593 function calls in 3.722 seconds\n",
      "\n",
      "   Ordered by: standard name\n",
      "\n",
      "   ncalls  tottime  percall  cumtime  percall filename:lineno(function)\n",
      "    36714    0.004    0.000    0.004    0.000 _fastq.py:45(getHead)\n",
      "    18357    0.002    0.000    0.004    0.000 _fastq.py:51(getSeq)\n",
      "    18357    0.002    0.000    0.003    0.000 _fastq.py:57(getQual)\n",
      "    18357    0.001    0.000    0.001    0.000 _fastq.py:69(body)\n",
      "    18357    0.001    0.000    0.001    0.000 _fastq.py:85(qstr)\n",
      "        1    0.000    0.000    0.000    0.000 cProfile.py:40(print_stats)\n",
      "        1    0.000    0.000    0.000    0.000 cProfile.py:50(create_stats)\n",
      "        1    0.000    0.000    0.000    0.000 pstats.py:107(__init__)\n",
      "        1    0.000    0.000    0.000    0.000 pstats.py:117(init)\n",
      "        1    0.000    0.000    0.000    0.000 pstats.py:136(load_stats)\n",
      "        1    0.000    0.000    0.000    0.000 write.py:13(initialize)\n",
      "    36714    0.068    0.000    0.113    0.000 write.py:181(create_dataset)\n",
      "    18357    0.010    0.000    0.011    0.000 write.py:270(add_group_meta)\n",
      "        1    0.057    0.057    1.755    1.755 write.py:286(pack)\n",
      "        1    1.677    1.677    1.695    1.695 write.py:44(clear_bucket)\n",
      "        1    0.001    0.001    0.064    0.064 write.py:76(create_single_bucket)\n",
      "        1    0.011    0.011    0.063    0.063 write.py:88(<dictcomp>)\n",
      "    18357    1.739    0.000    1.744    0.000 write.py:99(create_group)\n",
      "        1    0.000    0.000    0.000    0.000 {built-in method builtins.hasattr}\n",
      "        1    0.000    0.000    0.000    0.000 {built-in method builtins.isinstance}\n",
      "   110143    0.005    0.000    0.005    0.000 {built-in method builtins.len}\n",
      "    91787    0.006    0.000    0.006    0.000 {method 'append' of 'list' objects}\n",
      "    36715    0.018    0.000    0.018    0.000 {method 'clear' of 'list' objects}\n",
      "        4    0.003    0.001    0.003    0.001 {method 'copy' of 'dict' objects}\n",
      "    55074    0.049    0.000    0.049    0.000 {method 'copy' of 'list' objects}\n",
      "        1    0.000    0.000    0.000    0.000 {method 'disable' of '_lsprof.Profiler' objects}\n",
      "    73431    0.043    0.000    0.043    0.000 {method 'keys' of 'dict' objects}\n",
      "   146856    0.023    0.000    0.023    0.000 {method 'split' of 'str' objects}\n",
      "\n",
      "\n"
     ]
    }
   ],
   "source": [
    "import cProfile\n",
    "with cProfile.Profile() as profile:\n",
    "    hepfile = hf.initialize()\n",
    "    for fo in fos:\n",
    "        meta = fo.getHead().split()\n",
    "\n",
    "        # get the sample id, read, and ch as group name b/c I think that is unique \n",
    "        group = f\"{meta[2].split('=')[-1]}_{meta[3].split('=')[-1]}_{meta[4].split('=')[-1]}\"\n",
    "\n",
    "        # create the group and add metadata for that group\n",
    "        hf.create_group(hepfile, group, counter=f'n_{group}')\n",
    "        hf.add_group_meta(hepfile, group, meta)\n",
    "\n",
    "        # create a dataset underneath that group\n",
    "        hf.create_dataset(hepfile, 'sequence', group=group, dtype=str)\n",
    "        hf.create_dataset(hepfile, 'quality', group=group, dtype=str)\n",
    "\n",
    "    bucket = hf.create_single_bucket(hepfile)\n",
    "    for fo in fos:\n",
    "\n",
    "        meta = fo.getHead().split()\n",
    "        group = f\"{meta[2].split('=')[-1]}_{meta[3].split('=')[-1]}_{meta[4].split('=')[-1]}\"\n",
    "\n",
    "        seq = list(fo.getSeq())\n",
    "        qual = list(fo.getQual())\n",
    "        bucket[f'{group}/sequence'] = seq\n",
    "        bucket[f'{group}/quality'] = qual\n",
    "\n",
    "    return_value = hf.pack(hepfile,bucket,STRICT_CHECKING=True,verbose=False)  \n",
    "    \n",
    "    profile.print_stats()"
   ]
  },
  {
   "cell_type": "code",
   "execution_count": 5,
   "id": "ca5ce0c1-00a7-4c9d-aa1d-6711e5f48100",
   "metadata": {
    "tags": []
   },
   "outputs": [
    {
     "name": "stdout",
     "output_type": "stream",
     "text": [
      "Metadata added\n"
     ]
    },
    {
     "data": {
      "text/plain": [
       "<Closed HDF5 file>"
      ]
     },
     "execution_count": 5,
     "metadata": {},
     "output_type": "execute_result"
    }
   ],
   "source": [
    "outfile = 'fastq-test.h5'\n",
    "hf.write_to_file(outfile, hepfile)"
   ]
  },
  {
   "cell_type": "code",
   "execution_count": 6,
   "id": "75de1bff-1e1e-4ee0-9036-32e4a98c4768",
   "metadata": {
    "tags": []
   },
   "outputs": [
    {
     "name": "stdout",
     "output_type": "stream",
     "text": [
      "Building the indices...\n",
      "\n",
      "Built the indices!\n",
      "Data is read in and input file is closed.\n",
      "         13621709 function calls (13493203 primitive calls) in 53.592 seconds\n",
      "\n",
      "   Ordered by: standard name\n",
      "\n",
      "   ncalls  tottime  percall  cumtime  percall filename:lineno(function)\n",
      "   128503    0.082    0.000    1.095    0.000 <__array_function__ internals>:2(prod)\n",
      "    36716    0.023    0.000    0.352    0.000 <__array_function__ internals>:2(product)\n",
      "        3    0.000    0.000    0.076    0.025 <__array_function__ internals>:2(unique)\n",
      "    18357    0.027    0.000    0.190    0.000 <__array_function__ internals>:2(where)\n",
      "   422243    0.181    0.000    0.251    0.000 <frozen importlib._bootstrap>:1033(_handle_fromlist)\n",
      "   514030    0.184    0.000    0.260    0.000 <frozen importlib._bootstrap>:398(parent)\n",
      "    18357    0.007    0.000    0.015    0.000 <string>:1(<lambda>)\n",
      "        1    0.000    0.000    0.000    0.000 __init__.py:1424(debug)\n",
      "        1    0.000    0.000    0.000    0.000 __init__.py:1689(isEnabledFor)\n",
      "        3    0.000    0.000    0.000    0.000 arraysetops.py:125(_unpack_tuple)\n",
      "        3    0.000    0.000    0.000    0.000 arraysetops.py:133(_unique_dispatcher)\n",
      "        3    0.000    0.000    0.076    0.025 arraysetops.py:138(unique)\n",
      "        3    0.006    0.002    0.060    0.020 arraysetops.py:320(_unique1d)\n",
      "    18358    0.013    0.000    0.014    0.000 attrs.py:47(__init__)\n",
      "    18358    0.531    0.000    0.778    0.000 attrs.py:52(__getitem__)\n",
      "    18358    0.072    0.000    0.072    0.000 base.py:148(is_empty_dataspace)\n",
      "   110151    0.014    0.000    0.014    0.000 base.py:165(_lapl)\n",
      "   128509    0.111    0.000    0.151    0.000 base.py:177(_e)\n",
      "    91791    0.204    0.000    1.068    0.000 base.py:280(file)\n",
      "  1340128    0.127    0.000    0.127    0.000 base.py:305(id)\n",
      "    18357    0.037    0.000    0.075    0.000 base.py:331(attrs)\n",
      "   201943    0.044    0.000    0.044    0.000 base.py:338(__init__)\n",
      "    36716    0.011    0.000    0.011    0.000 base.py:504(product)\n",
      "220296/128506    0.165    0.000    0.819    0.000 base.py:530(__get__)\n",
      "        1    0.000    0.000    0.000    0.000 cProfile.py:40(print_stats)\n",
      "        1    0.000    0.000    0.000    0.000 cProfile.py:50(create_stats)\n",
      "        1    0.000    0.000    0.000    0.000 compat.py:11(filename_encode)\n",
      "    36716    0.236    0.000    2.316    0.000 dataset.py:1034(__array__)\n",
      "   385510    1.390    0.000    1.453    0.000 dataset.py:440(shape)\n",
      "    91787    0.101    0.000    1.297    0.000 dataset.py:461(size)\n",
      "    91787    0.195    0.000    0.203    0.000 dataset.py:486(_selector)\n",
      "    36716    0.445    0.000    0.447    0.000 dataset.py:500(_fast_reader)\n",
      "   128503    0.484    0.000    0.495    0.000 dataset.py:514(dtype)\n",
      "    91790    0.302    0.000    0.311    0.000 dataset.py:603(_extent_type)\n",
      "    55074    0.019    0.000    0.089    0.000 dataset.py:609(_is_empty)\n",
      "    91791    2.024    0.000    2.265    0.000 dataset.py:614(__init__)\n",
      "    55073    0.181    0.000    2.571    0.000 dataset.py:685(__iter__)\n",
      "    73432    0.309    0.000    0.649    0.000 dataset.py:714(_fast_read_ok)\n",
      "   128503    5.061    0.000   10.718    0.000 dataset.py:722(__getitem__)\n",
      "    91787    0.025    0.000    0.031    0.000 dataset.py:753(<genexpr>)\n",
      "    36716    0.527    0.000    1.275    0.000 dataset.py:984(read_direct)\n",
      "        1    0.000    0.000    0.000    0.000 files.py:115(make_fapl)\n",
      "        1    0.000    0.000    0.000    0.000 files.py:177(make_fcpl)\n",
      "        1    0.000    0.000    0.000    0.000 files.py:206(make_fid)\n",
      "        1    0.000    0.000    0.000    0.000 files.py:274(attrs)\n",
      "    91791    0.142    0.000    0.151    0.000 files.py:307(mode)\n",
      "    91792    0.451    0.000    0.758    0.000 files.py:363(__init__)\n",
      "        1    0.038    0.038    0.038    0.038 files.py:542(close)\n",
      "        1    0.000    0.000    0.000    0.000 files.py:563(__enter__)\n",
      "        1    0.000    0.000    0.038    0.038 files.py:567(__exit__)\n",
      "    91791    0.206    0.000    0.206    0.000 filters.py:293(get_filters)\n",
      "   165219    0.021    0.000    0.021    0.000 fromnumeric.py:2928(_prod_dispatcher)\n",
      "   128503    0.096    0.000    0.924    0.000 fromnumeric.py:2933(prod)\n",
      "    36716    0.015    0.000    0.304    0.000 fromnumeric.py:3742(product)\n",
      "   128503    0.214    0.000    0.828    0.000 fromnumeric.py:69(_wrapreduction)\n",
      "   128503    0.048    0.000    0.048    0.000 fromnumeric.py:70(<dictcomp>)\n",
      "   110151    4.055    0.000    7.976    0.000 group.py:319(__getitem__)\n",
      "   110152    0.138    0.000    0.180    0.000 group.py:34(__init__)\n",
      "        3    0.000    0.000    0.000    0.000 iostream.py:202(schedule)\n",
      "        6    0.000    0.000    0.000    0.000 iostream.py:437(_is_master_process)\n",
      "        6    0.000    0.000    0.000    0.000 iostream.py:456(_schedule_flush)\n",
      "        6    0.000    0.000    0.000    0.000 iostream.py:526(write)\n",
      "        3    0.000    0.000    0.000    0.000 iostream.py:90(_event_pipe)\n",
      "    18357    0.008    0.000    0.008    0.000 multiarray.py:341(where)\n",
      "        1    0.000    0.000    0.000    0.000 os.py:804(fsencode)\n",
      "        1    0.000    0.000    0.000    0.000 pstats.py:107(__init__)\n",
      "        1    0.000    0.000    0.000    0.000 pstats.py:117(init)\n",
      "        1    0.000    0.000    0.000    0.000 pstats.py:136(load_stats)\n",
      "        1    0.032    0.032    0.038    0.038 read.py:295(<listcomp>)\n",
      "    18357    0.099    0.000    0.119    0.000 read.py:309(<listcomp>)\n",
      "    18358    0.089    0.000    2.476    0.000 read.py:340(calculate_index_from_counters)\n",
      "        1   30.864   30.864   53.592   53.592 read.py:8(load)\n",
      "   165219    0.406    0.000    0.412    0.000 selections.py:112(__init__)\n",
      "   128503    0.014    0.000    0.014    0.000 selections.py:123(id)\n",
      "   183580    0.015    0.000    0.015    0.000 selections.py:128(shape)\n",
      "    91787    0.060    0.000    0.060    0.000 selections.py:133(nselect)\n",
      "    91787    0.122    0.000    1.350    0.000 selections.py:19(select)\n",
      "   220290    0.025    0.000    0.025    0.000 selections.py:217(mshape)\n",
      "   128503    0.135    0.000    0.189    0.000 selections.py:222(array_shape)\n",
      "   257006    0.040    0.000    0.040    0.000 selections.py:225(<genexpr>)\n",
      "   165219    0.134    0.000    0.563    0.000 selections.py:227(__init__)\n",
      "    36716    0.077    0.000    0.099    0.000 selections.py:236(expand_shape)\n",
      "    36716    0.005    0.000    0.005    0.000 selections.py:266(<listcomp>)\n",
      "    73432    0.070    0.000    0.195    0.000 selections.py:275(broadcast)\n",
      "    73432    0.010    0.000    0.010    0.000 selections.py:293(<genexpr>)\n",
      "        3    0.000    0.000    0.000    0.000 socket.py:613(send)\n",
      "        3    0.000    0.000    0.000    0.000 threading.py:1066(_wait_for_tstate_lock)\n",
      "        3    0.000    0.000    0.000    0.000 threading.py:1133(is_alive)\n",
      "        3    0.000    0.000    0.000    0.000 threading.py:536(is_set)\n",
      "    18357    0.008    0.000    0.008    0.000 {built-in method __new__ of type object at 0x7372a0}\n",
      "    36716    0.005    0.000    0.005    0.000 {built-in method builtins.any}\n",
      "   257006    0.072    0.000    0.072    0.000 {built-in method builtins.getattr}\n",
      "   422245    0.045    0.000    0.045    0.000 {built-in method builtins.hasattr}\n",
      "  1872528    0.149    0.000    0.149    0.000 {built-in method builtins.isinstance}\n",
      "   477313    0.038    0.000    0.038    0.000 {built-in method builtins.len}\n",
      "        3    0.000    0.000    0.000    0.000 {built-in method builtins.print}\n",
      "        1    0.000    0.000    0.000    0.000 {built-in method h5py.h5.get_config}\n",
      "   110145    0.272    0.000    0.272    0.000 {built-in method h5py.h5t.py_create}\n",
      "        3    0.016    0.005    0.016    0.005 {built-in method numpy.array}\n",
      "        6    0.016    0.003    0.016    0.003 {built-in method numpy.asanyarray}\n",
      "183579/146863    0.248    0.000    1.283    0.000 {built-in method numpy.core._multiarray_umath.implement_array_function}\n",
      "        3    0.000    0.000    0.000    0.000 {built-in method numpy.empty}\n",
      "   146861    0.115    0.000    0.115    0.000 {built-in method numpy.zeros}\n",
      "        2    0.000    0.000    0.000    0.000 {built-in method posix.fspath}\n",
      "        6    0.000    0.000    0.000    0.000 {built-in method posix.getpid}\n",
      "    18358    0.038    0.000    0.054    0.000 {h5py.h5t.check_string_dtype}\n",
      "        6    0.000    0.000    0.000    0.000 {method '__exit__' of '_thread.RLock' objects}\n",
      "   734320    0.061    0.000    0.061    0.000 {method '__exit__' of 'h5py._objects.FastRLock' objects}\n",
      "    18358    0.072    0.000    1.471    0.000 {method 'accumulate' of 'numpy.ufunc' objects}\n",
      "        3    0.000    0.000    0.000    0.000 {method 'acquire' of '_thread.lock' objects}\n",
      "        3    0.000    0.000    0.000    0.000 {method 'append' of 'collections.deque' objects}\n",
      "   201932    0.014    0.000    0.014    0.000 {method 'append' of 'list' objects}\n",
      "   330433    0.025    0.000    0.025    0.000 {method 'decode' of 'bytes' objects}\n",
      "        1    0.000    0.000    0.000    0.000 {method 'disable' of '_lsprof.Profiler' objects}\n",
      "   128510    0.031    0.000    0.031    0.000 {method 'encode' of 'str' objects}\n",
      "        3    0.007    0.002    0.007    0.002 {method 'flatten' of 'numpy.ndarray' objects}\n",
      "   128503    0.015    0.000    0.015    0.000 {method 'items' of 'dict' objects}\n",
      "    73430    0.003    0.000    0.003    0.000 {method 'keys' of 'dict' objects}\n",
      "    91787    0.636    0.000    0.994    0.000 {method 'make_selection' of 'h5py._selector.Selector' objects}\n",
      "    36716    0.004    0.000    0.004    0.000 {method 'pop' of 'list' objects}\n",
      "    36716    0.282    0.000    0.282    0.000 {method 'read' of 'h5py._selector.Reader' objects}\n",
      "   128503    0.501    0.000    0.501    0.000 {method 'reduce' of 'numpy.ufunc' objects}\n",
      "        1    0.000    0.000    0.000    0.000 {method 'remove' of 'list' objects}\n",
      "   514030    0.077    0.000    0.077    0.000 {method 'rpartition' of 'str' objects}\n",
      "        1    0.000    0.000    0.000    0.000 {method 'set_alignment' of 'h5py.h5p.PropFAID' objects}\n",
      "        3    0.046    0.015    0.046    0.015 {method 'sort' of 'numpy.ndarray' objects}\n",
      "   128502    0.026    0.000    0.026    0.000 {method 'split' of 'str' objects}\n",
      "        2    0.004    0.002    0.004    0.002 {method 'tolist' of 'numpy.ndarray' objects}\n",
      "        6    0.000    0.000    0.000    0.000 {method 'write' of '_io.StringIO' objects}\n",
      "\n",
      "\n"
     ]
    }
   ],
   "source": [
    "import cProfile\n",
    "with cProfile.Profile() as profile:\n",
    "    awk, bucket = hf.load(outfile)#, return_awkward=True)\n",
    "    profile.print_stats()"
   ]
  },
  {
   "cell_type": "code",
   "execution_count": null,
   "id": "c1cf5e25-d684-4b52-b59e-a51a7312ecc7",
   "metadata": {},
   "outputs": [],
   "source": []
  }
 ],
 "metadata": {
  "kernelspec": {
   "display_name": "Python 3 (ipykernel)",
   "language": "python",
   "name": "python3"
  },
  "language_info": {
   "codemirror_mode": {
    "name": "ipython",
    "version": 3
   },
   "file_extension": ".py",
   "mimetype": "text/x-python",
   "name": "python",
   "nbconvert_exporter": "python",
   "pygments_lexer": "ipython3",
   "version": "3.9.16"
  }
 },
 "nbformat": 4,
 "nbformat_minor": 5
}
