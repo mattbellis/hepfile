{
 "cells": [
  {
   "cell_type": "code",
   "execution_count": 1,
   "id": "1594b1a0-c5a6-470b-8b3d-90c17b6c6f36",
   "metadata": {},
   "outputs": [],
   "source": [
    "import hepfile as hf\n",
    "import fastq as fq"
   ]
  },
  {
   "cell_type": "code",
   "execution_count": 2,
   "id": "3be67f33-3c9c-43af-9ec9-1473f9384c44",
   "metadata": {},
   "outputs": [],
   "source": [
    "filepath = '1_control_18S_2019_minq7.fastq'\n",
    "#filepath = 'fastq-test-input.fastq'"
   ]
  },
  {
   "cell_type": "code",
   "execution_count": 3,
   "id": "275365b8-8c1f-458f-bea9-76f7bdf468ab",
   "metadata": {},
   "outputs": [],
   "source": [
    "fastq = fq.read(filepath)\n",
    "fos = list(fastq)"
   ]
  },
  {
   "cell_type": "code",
   "execution_count": 4,
   "id": "401c1ffe-cd44-4bdc-a7f0-be336721dc67",
   "metadata": {
    "tags": []
   },
   "outputs": [
    {
     "name": "stdout",
     "output_type": "stream",
     "text": [
      "         752662 function calls in 40.544 seconds\n",
      "\n",
      "   Ordered by: standard name\n",
      "\n",
      "   ncalls  tottime  percall  cumtime  percall filename:lineno(function)\n",
      "    36714    0.007    0.000    0.007    0.000 _fastq.py:45(getHead)\n",
      "    18357    0.003    0.000    0.004    0.000 _fastq.py:51(getSeq)\n",
      "    18357    0.003    0.000    0.004    0.000 _fastq.py:57(getQual)\n",
      "    18357    0.001    0.000    0.001    0.000 _fastq.py:69(body)\n",
      "    18357    0.001    0.000    0.001    0.000 _fastq.py:85(qstr)\n",
      "        1    0.000    0.000    0.000    0.000 cProfile.py:40(print_stats)\n",
      "        1    0.000    0.000    0.000    0.000 cProfile.py:50(create_stats)\n",
      "        1    0.000    0.000    0.000    0.000 pstats.py:107(__init__)\n",
      "        1    0.000    0.000    0.000    0.000 pstats.py:117(init)\n",
      "        1    0.000    0.000    0.000    0.000 pstats.py:136(load_stats)\n",
      "    18357    9.231    0.001    9.248    0.001 write.py:103(create_group)\n",
      "        1    0.000    0.000    0.000    0.000 write.py:13(initialize)\n",
      "    36714   22.985    0.001   23.045    0.001 write.py:187(create_dataset)\n",
      "    18357    0.022    0.000    0.024    0.000 write.py:281(add_group_meta)\n",
      "        1    0.058    0.058    1.643    1.643 write.py:297(pack)\n",
      "        1    1.564    1.564    1.582    1.582 write.py:44(clear_bucket)\n",
      "        1    6.511    6.511    6.526    6.526 write.py:76(create_single_bucket)\n",
      "        1    0.000    0.000    0.000    0.000 {built-in method builtins.hasattr}\n",
      "        1    0.000    0.000    0.000    0.000 {built-in method builtins.isinstance}\n",
      "   110143    0.009    0.000    0.009    0.000 {built-in method builtins.len}\n",
      "    91787    0.012    0.000    0.012    0.000 {method 'append' of 'list' objects}\n",
      "    36715    0.018    0.000    0.018    0.000 {method 'clear' of 'list' objects}\n",
      "        4    0.003    0.001    0.003    0.001 {method 'copy' of 'dict' objects}\n",
      "    36716    0.012    0.000    0.012    0.000 {method 'copy' of 'list' objects}\n",
      "        1    0.000    0.000    0.000    0.000 {method 'disable' of '_lsprof.Profiler' objects}\n",
      "    73428    0.017    0.000    0.017    0.000 {method 'find' of 'str' objects}\n",
      "    73431    0.045    0.000    0.045    0.000 {method 'keys' of 'dict' objects}\n",
      "   146856    0.043    0.000    0.043    0.000 {method 'split' of 'str' objects}\n",
      "\n",
      "\n"
     ]
    }
   ],
   "source": [
    "import cProfile\n",
    "with cProfile.Profile() as profile:\n",
    "    hepfile = hf.initialize()\n",
    "    for fo in fos:\n",
    "        meta = fo.getHead().split()\n",
    "\n",
    "        # get the sample id, read, and ch as group name b/c I think that is unique \n",
    "        group = f\"{meta[2].split('=')[-1]}_{meta[3].split('=')[-1]}_{meta[4].split('=')[-1]}\"\n",
    "\n",
    "        # create the group and add metadata for that group\n",
    "        hf.create_group(hepfile, group, counter=f'n_{group}')\n",
    "        hf.add_group_meta(hepfile, group, meta)\n",
    "\n",
    "        # create a dataset underneath that group\n",
    "        hf.create_dataset(hepfile, 'sequence', group=group, dtype=str)\n",
    "        hf.create_dataset(hepfile, 'quality', group=group, dtype=str)\n",
    "\n",
    "    bucket = hf.create_single_bucket(hepfile)\n",
    "    for fo in fos:\n",
    "\n",
    "        meta = fo.getHead().split()\n",
    "        group = f\"{meta[2].split('=')[-1]}_{meta[3].split('=')[-1]}_{meta[4].split('=')[-1]}\"\n",
    "\n",
    "        seq = list(fo.getSeq())\n",
    "        qual = list(fo.getQual())\n",
    "        bucket[f'{group}/sequence'] = seq\n",
    "        bucket[f'{group}/quality'] = qual\n",
    "\n",
    "    return_value = hf.pack(hepfile,bucket,STRICT_CHECKING=True,verbose=False)  \n",
    "    \n",
    "    profile.print_stats()"
   ]
  },
  {
   "cell_type": "code",
   "execution_count": 5,
   "id": "ca5ce0c1-00a7-4c9d-aa1d-6711e5f48100",
   "metadata": {
    "tags": []
   },
   "outputs": [
    {
     "name": "stdout",
     "output_type": "stream",
     "text": [
      "Metadata added\n"
     ]
    },
    {
     "data": {
      "text/plain": [
       "<Closed HDF5 file>"
      ]
     },
     "execution_count": 5,
     "metadata": {},
     "output_type": "execute_result"
    }
   ],
   "source": [
    "outfile = 'fastq-test.h5'\n",
    "hf.write_to_file(outfile, hepfile)"
   ]
  },
  {
   "cell_type": "code",
   "execution_count": null,
   "id": "75de1bff-1e1e-4ee0-9036-32e4a98c4768",
   "metadata": {
    "tags": []
   },
   "outputs": [
    {
     "name": "stdout",
     "output_type": "stream",
     "text": [
      "Building the indices...\n",
      "\n",
      "Built the indices!\n",
      "Data is read in and input file is closed.\n"
     ]
    }
   ],
   "source": [
    "import cProfile\n",
    "with cProfile.Profile() as profile:\n",
    "    awk, bucket = hf.load(outfile, return_awkward=True)\n",
    "    profile.print_stats()"
   ]
  },
  {
   "cell_type": "code",
   "execution_count": null,
   "id": "ad912163-6681-45e9-abaf-b563fa20c709",
   "metadata": {},
   "outputs": [],
   "source": [
    "awk['_GROUPS_']"
   ]
  },
  {
   "cell_type": "code",
   "execution_count": null,
   "id": "4d8b467f-4b7e-4b4c-a6c2-742963bcf630",
   "metadata": {},
   "outputs": [],
   "source": []
  }
 ],
 "metadata": {
  "kernelspec": {
   "display_name": "Python 3 (ipykernel)",
   "language": "python",
   "name": "python3"
  },
  "language_info": {
   "codemirror_mode": {
    "name": "ipython",
    "version": 3
   },
   "file_extension": ".py",
   "mimetype": "text/x-python",
   "name": "python",
   "nbconvert_exporter": "python",
   "pygments_lexer": "ipython3",
   "version": "3.9.16"
  }
 },
 "nbformat": 4,
 "nbformat_minor": 5
}
