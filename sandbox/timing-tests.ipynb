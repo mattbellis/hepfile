{
 "cells": [
  {
   "cell_type": "markdown",
   "id": "833f7a54-de23-42c3-9539-7f867fbfaf18",
   "metadata": {},
   "source": [
    "# Writing a hepfile from Scratch\n",
    "\n",
    "The method shown in this tutorial is what is done under the hood in the `hepfile.dict_tools.dictlike_to_hepfile` method. This may be preferable for those users who want more control over the structure of their hepfile."
   ]
  },
  {
   "cell_type": "code",
   "execution_count": 1,
   "id": "4f2fb291-9793-4f9c-a12d-84e60fe7e0d3",
   "metadata": {},
   "outputs": [],
   "source": [
    "# imports\n",
    "import time\n",
    "import numpy as np\n",
    "import sys\n",
    "\n",
    "from hepfile import write as writer\n",
    "from hepfile import load"
   ]
  },
  {
   "cell_type": "markdown",
   "id": "0220bb75-f076-4066-a201-d73c81af7389",
   "metadata": {},
   "source": [
    "Once hepfile.write is imported, we need to start by initializing the empty data structure."
   ]
  },
  {
   "cell_type": "code",
   "execution_count": 2,
   "id": "21fffe4e-de19-4a1d-9b2c-d4da9b49b506",
   "metadata": {},
   "outputs": [],
   "source": [
    "start = time.time()\n",
    "data = writer.initialize()"
   ]
  },
  {
   "cell_type": "markdown",
   "id": "515cf60c-9fe5-430d-ab8a-1503ede01b21",
   "metadata": {},
   "source": [
    "Now that the empty data structure is initialized, we must set up groups and datasets. Groups hold datasets and datasets hold data about that group. You can also just create higher level datasets that are considered \"singletons\" which do not correspond to a specific group."
   ]
  },
  {
   "cell_type": "code",
   "execution_count": 3,
   "id": "3ea1fd13-ce7a-44f8-a6ac-6e49b895e833",
   "metadata": {},
   "outputs": [
    {
     "data": {
      "text/plain": [
       "0"
      ]
     },
     "execution_count": 3,
     "metadata": {},
     "output_type": "execute_result"
    }
   ],
   "source": [
    "# create the groups\n",
    "writer.create_group(data,'jet',counter='njet')\n",
    "writer.create_group(data,'muons',counter='nmuon')\n",
    "\n",
    "# add datasets to different groups\n",
    "writer.create_dataset(data,['e','px','py','pz'],group='jet',dtype=float)\n",
    "writer.create_dataset(data,['algorithm'],group='jet',dtype=int)\n",
    "writer.create_dataset(data,['words'],group='jet',dtype=str)\n",
    "writer.create_dataset(data,['e','px','py','pz'],group='muons',dtype=float)\n",
    "\n",
    "# add a higher level dataset that doesn't have a group, a \"singleton\"\n",
    "writer.create_dataset(data,['METpx','METpy'],dtype=float)"
   ]
  },
  {
   "cell_type": "markdown",
   "id": "be90305e-33d3-42c6-bad8-76712703f63b",
   "metadata": {},
   "source": [
    "To start adding data to the groups and datasets we have to generate an empty bucket."
   ]
  },
  {
   "cell_type": "code",
   "execution_count": 4,
   "id": "d4a24843-e480-4df2-a4d6-e027db36bb26",
   "metadata": {},
   "outputs": [],
   "source": [
    "bucket = writer.create_single_bucket(data)"
   ]
  },
  {
   "cell_type": "markdown",
   "id": "457380e2-d7f8-43bd-bb35-c367c8781636",
   "metadata": {},
   "source": [
    "Now that we have the hepfile structure set up, we can generate random data and insert it into the hepfile."
   ]
  },
  {
   "cell_type": "code",
   "execution_count": 5,
   "id": "2ed60a79-aebc-494b-b78d-c351c2b39a5e",
   "metadata": {},
   "outputs": [],
   "source": [
    "rando_words = [\"hi\", \"bye\", \"ciao\", \"aloha\"]\n",
    "\n",
    "for i in range(0,10000):\n",
    "\n",
    "    #hepfile.clear_event(event)\n",
    "\n",
    "    njet = 17\n",
    "    bucket['jet/njet'] = njet\n",
    "\n",
    "    for n in range(njet):\n",
    "        bucket['jet/e'].append(np.random.random())\n",
    "        bucket['jet/px'].append(np.random.random())\n",
    "        bucket['jet/py'].append(np.random.random())\n",
    "        bucket['jet/pz'].append(np.random.random())\n",
    "\n",
    "        bucket['jet/algorithm'].append(np.random.randint(-1,1))\n",
    "\n",
    "        bucket['jet/words'].append(np.random.choice(rando_words))\n",
    "\n",
    "    bucket['METpx'] = np.random.random()\n",
    "    bucket['METpy'] = np.random.random()\n",
    "\n",
    "    #hepfile.pack(data,event,EMPTY_OUT_BUCKET=False)\n",
    "    return_value = writer.pack(data,bucket,STRICT_CHECKING=True)\n",
    "    if return_value != 0:\n",
    "        exit()"
   ]
  },
  {
   "cell_type": "markdown",
   "id": "210e08af-966d-4420-af65-6a5a0619cb0d",
   "metadata": {},
   "source": [
    "Finally, we are ready to write this random data to a file called `output.hdf5`!"
   ]
  },
  {
   "cell_type": "code",
   "execution_count": 6,
   "id": "79ab1dbd-054c-4628-8939-65227f52dc5c",
   "metadata": {},
   "outputs": [
    {
     "name": "stdout",
     "output_type": "stream",
     "text": [
      "Writing the file...\n",
      "Writing _SINGLETONS_GROUP_/COUNTER to file\n",
      "\tConverting list to array...\n",
      "\tWriting to file...\n",
      "Writing to file _SINGLETONS_GROUP_/COUNTER as type <class 'int'>\n",
      "Writing METpx to file\n",
      "\tConverting list to array...\n",
      "\tConverting array to single precision...\n",
      "\tWriting to file...\n",
      "Writing to file METpx as type <class 'numpy.float32'>\n",
      "Writing METpy to file\n",
      "\tConverting list to array...\n",
      "\tConverting array to single precision...\n",
      "\tWriting to file...\n",
      "Writing to file METpy as type <class 'numpy.float32'>\n",
      "Writing jet/njet to file\n",
      "\tConverting list to array...\n",
      "\tWriting to file...\n",
      "Writing to file jet/njet as type <class 'int'>\n",
      "Writing jet/e to file\n",
      "\tConverting list to array...\n",
      "\tConverting array to single precision...\n",
      "\tWriting to file...\n",
      "Writing to file jet/e as type <class 'numpy.float32'>\n",
      "Writing jet/px to file\n",
      "\tConverting list to array...\n",
      "\tConverting array to single precision...\n",
      "\tWriting to file...\n",
      "Writing to file jet/px as type <class 'numpy.float32'>\n",
      "Writing jet/py to file\n",
      "\tConverting list to array...\n",
      "\tConverting array to single precision...\n",
      "\tWriting to file...\n",
      "Writing to file jet/py as type <class 'numpy.float32'>\n",
      "Writing jet/pz to file\n",
      "\tConverting list to array...\n",
      "\tConverting array to single precision...\n",
      "\tWriting to file...\n",
      "Writing to file jet/pz as type <class 'numpy.float32'>\n",
      "Writing jet/algorithm to file\n",
      "\tConverting list to array...\n",
      "\tWriting to file...\n",
      "Writing to file jet/algorithm as type <class 'int'>\n",
      "Writing jet/words to file\n",
      "\tConverting list to array...\n",
      "Writing to file jet/words as type object\n",
      "Writing muons/nmuon to file\n",
      "\tConverting list to array...\n",
      "\tWriting to file...\n",
      "Writing to file muons/nmuon as type <class 'int'>\n",
      "Writing muons/e to file\n",
      "\tConverting list to array...\n",
      "\tConverting array to single precision...\n",
      "\tWriting to file...\n",
      "Writing to file muons/e as type <class 'numpy.float32'>\n",
      "Writing muons/px to file\n",
      "\tConverting list to array...\n",
      "\tConverting array to single precision...\n",
      "\tWriting to file...\n",
      "Writing to file muons/px as type <class 'numpy.float32'>\n",
      "Writing muons/py to file\n",
      "\tConverting list to array...\n",
      "\tConverting array to single precision...\n",
      "\tWriting to file...\n",
      "Writing to file muons/py as type <class 'numpy.float32'>\n",
      "Writing muons/pz to file\n",
      "\tConverting list to array...\n",
      "\tConverting array to single precision...\n",
      "\tWriting to file...\n",
      "Writing to file muons/pz as type <class 'numpy.float32'>\n",
      "_SINGLETONS_GROUP_/COUNTER       has 10000        entries\n",
      "jet/njet                         has 10000        entries\n",
      "muons/nmuon                      has 10000        entries\n",
      "Metadata added\n"
     ]
    }
   ],
   "source": [
    "print(\"Writing the file...\")\n",
    "#hdfile = hepfile.write_to_file('output.hdf5',data)\n",
    "hdfile = writer.write_to_file('output_from_scratch.hdf5',data,comp_type='gzip',comp_opts=9,verbose=True)"
   ]
  },
  {
   "cell_type": "code",
   "execution_count": 7,
   "id": "cd304590-9d2f-4b2b-9d7d-563d139410b8",
   "metadata": {},
   "outputs": [
    {
     "name": "stdout",
     "output_type": "stream",
     "text": [
      "Time it took to write: 2.295724868774414\n"
     ]
    }
   ],
   "source": [
    "# output time it took to run write the file\n",
    "write_time = time.time()\n",
    "print(f'Time it took to write: {write_time-start}')"
   ]
  },
  {
   "cell_type": "code",
   "execution_count": 8,
   "id": "55add264-c7d2-4c47-a5d5-8a279d0a21d8",
   "metadata": {},
   "outputs": [
    {
     "name": "stdout",
     "output_type": "stream",
     "text": [
      "Building the indices...\n",
      "\n",
      "Built the indices!\n",
      "Data is read in and input file is closed.\n"
     ]
    },
    {
     "data": {
      "text/plain": [
       "({'_MAP_DATASETS_TO_COUNTERS_': {'_SINGLETONS_GROUP_': '_SINGLETONS_GROUP_/COUNTER',\n",
       "   'jet': 'jet/njet',\n",
       "   'muons': 'muons/nmuon',\n",
       "   'jet/e': 'jet/njet',\n",
       "   'jet/px': 'jet/njet',\n",
       "   'jet/py': 'jet/njet',\n",
       "   'jet/pz': 'jet/njet',\n",
       "   'jet/algorithm': 'jet/njet',\n",
       "   'jet/words': 'jet/njet',\n",
       "   'muons/e': 'muons/nmuon',\n",
       "   'muons/px': 'muons/nmuon',\n",
       "   'muons/py': 'muons/nmuon',\n",
       "   'muons/pz': 'muons/nmuon',\n",
       "   'METpx': '_SINGLETONS_GROUP_/COUNTER',\n",
       "   'METpy': '_SINGLETONS_GROUP_/COUNTER'},\n",
       "  '_MAP_DATASETS_TO_INDEX_': {'_SINGLETONS_GROUP_': '_SINGLETONS_GROUP_/COUNTER_INDEX',\n",
       "   'jet': 'jet/njet_INDEX',\n",
       "   'muons': 'muons/nmuon_INDEX',\n",
       "   'jet/e': 'jet/njet_INDEX',\n",
       "   'jet/px': 'jet/njet_INDEX',\n",
       "   'jet/py': 'jet/njet_INDEX',\n",
       "   'jet/pz': 'jet/njet_INDEX',\n",
       "   'jet/algorithm': 'jet/njet_INDEX',\n",
       "   'jet/words': 'jet/njet_INDEX',\n",
       "   'muons/e': 'muons/nmuon_INDEX',\n",
       "   'muons/px': 'muons/nmuon_INDEX',\n",
       "   'muons/py': 'muons/nmuon_INDEX',\n",
       "   'muons/pz': 'muons/nmuon_INDEX',\n",
       "   'METpx': '_SINGLETONS_GROUP_/COUNTER_INDEX',\n",
       "   'METpy': '_SINGLETONS_GROUP_/COUNTER_INDEX'},\n",
       "  '_LIST_OF_COUNTERS_': ['_SINGLETONS_GROUP_/COUNTER',\n",
       "   'jet/njet',\n",
       "   'muons/nmuon'],\n",
       "  '_LIST_OF_DATASETS_': ['METpx',\n",
       "   'METpy',\n",
       "   '_SINGLETONS_GROUP_',\n",
       "   '_SINGLETONS_GROUP_/COUNTER',\n",
       "   'jet',\n",
       "   'jet/algorithm',\n",
       "   'jet/e',\n",
       "   'jet/njet',\n",
       "   'jet/px',\n",
       "   'jet/py',\n",
       "   'jet/pz',\n",
       "   'jet/words',\n",
       "   'muons',\n",
       "   'muons/e',\n",
       "   'muons/nmuon',\n",
       "   'muons/px',\n",
       "   'muons/py',\n",
       "   'muons/pz'],\n",
       "  '_META_': {},\n",
       "  '_NUMBER_OF_BUCKETS_': 10000,\n",
       "  '_SINGLETONS_GROUP_': array(['METpx', 'METpy'], dtype='<U5'),\n",
       "  '_SINGLETONS_GROUP_/COUNTER': array([1, 1, 1, ..., 1, 1, 1]),\n",
       "  '_SINGLETONS_GROUP_/COUNTER_INDEX': array([   0,    1,    2, ..., 9997, 9998, 9999]),\n",
       "  'jet/njet': array([17, 17, 17, ..., 17, 17, 17]),\n",
       "  'jet/njet_INDEX': array([     0,     17,     34, ..., 169949, 169966, 169983]),\n",
       "  'muons/nmuon': array([0, 0, 0, ..., 0, 0, 0]),\n",
       "  'muons/nmuon_INDEX': array([0, 0, 0, ..., 0, 0, 0]),\n",
       "  'METpx': array([0.4117561 , 0.26806313, 0.94290614, ..., 0.5691867 , 0.01710582,\n",
       "         0.78684306], dtype=float32),\n",
       "  'METpy': array([0.8701093 , 0.02790351, 0.7626528 , ..., 0.56528234, 0.14043295,\n",
       "         0.1332355 ], dtype=float32),\n",
       "  'jet/algorithm': array([-1,  0, -1, ..., -1,  0,  0]),\n",
       "  'jet/e': array([0.7650644 , 0.8549845 , 0.1636688 , ..., 0.389313  , 0.77041924,\n",
       "         0.25153935], dtype=float32),\n",
       "  'jet/px': array([0.79439276, 0.337557  , 0.8940421 , ..., 0.68800306, 0.11490607,\n",
       "         0.41775548], dtype=float32),\n",
       "  'jet/py': array([0.4465621 , 0.831369  , 0.08632947, ..., 0.93992007, 0.6790551 ,\n",
       "         0.79082644], dtype=float32),\n",
       "  'jet/pz': array([0.05397605, 0.88010055, 0.5369967 , ..., 0.4505292 , 0.59574175,\n",
       "         0.20945533], dtype=float32),\n",
       "  'jet/words': array([b'aloha', b'ciao', b'ciao', ..., b'aloha', b'ciao', b'bye'],\n",
       "        dtype=object),\n",
       "  'muons/e': array([], dtype=float32),\n",
       "  'muons/px': array([], dtype=float32),\n",
       "  'muons/py': array([], dtype=float32),\n",
       "  'muons/pz': array([], dtype=float32),\n",
       "  '_GROUPS_': {'_SINGLETONS_GROUP_': ['METpx', 'METpy'],\n",
       "   'jet': ['algorithm', 'e', 'njet', 'px', 'py', 'pz', 'words'],\n",
       "   'muons': ['e', 'nmuon', 'px', 'py', 'pz']},\n",
       "  '_MAP_DATASETS_TO_DATA_TYPES_': {'METpx': dtype('float32'),\n",
       "   'METpy': dtype('float32'),\n",
       "   '_SINGLETONS_GROUP_': dtype('<U5'),\n",
       "   '_SINGLETONS_GROUP_/COUNTER': dtype('int64'),\n",
       "   'jet/algorithm': dtype('int64'),\n",
       "   'jet/e': dtype('float32'),\n",
       "   'jet/njet': dtype('int64'),\n",
       "   'jet/px': dtype('float32'),\n",
       "   'jet/py': dtype('float32'),\n",
       "   'jet/pz': dtype('float32'),\n",
       "   'jet/words': dtype('O'),\n",
       "   'muons/e': dtype('float32'),\n",
       "   'muons/nmuon': dtype('int64'),\n",
       "   'muons/px': dtype('float32'),\n",
       "   'muons/py': dtype('float32'),\n",
       "   'muons/pz': dtype('float32')},\n",
       "  '_PROTECTED_NAMES_': {'_GROUPS_',\n",
       "   '_HEADER_',\n",
       "   '_LIST_OF_COUNTERS_',\n",
       "   '_MAP_DATASETS_TO_COUNTERS_',\n",
       "   '_MAP_DATASETS_TO_DATA_TYPES_',\n",
       "   '_META_',\n",
       "   '_PROTECTED_NAMES_',\n",
       "   '_SINGLETONSGROUPFORSTORAGE_',\n",
       "   '_SINGLETONS_GROUP_',\n",
       "   '_SINGLETONS_GROUP_/COUNTER'}},\n",
       " {'METpx': None,\n",
       "  'METpy': None,\n",
       "  '_SINGLETONS_GROUP_/COUNTER': None,\n",
       "  'jet/algorithm': None,\n",
       "  'jet/e': None,\n",
       "  'jet/njet': None,\n",
       "  'jet/px': None,\n",
       "  'jet/py': None,\n",
       "  'jet/pz': None,\n",
       "  'jet/words': None,\n",
       "  'muons/e': None,\n",
       "  'muons/nmuon': None,\n",
       "  'muons/px': None,\n",
       "  'muons/py': None,\n",
       "  'muons/pz': None})"
      ]
     },
     "execution_count": 8,
     "metadata": {},
     "output_type": "execute_result"
    }
   ],
   "source": [
    "load('output_from_scratch.hdf5')"
   ]
  },
  {
   "cell_type": "code",
   "execution_count": 9,
   "id": "62d6c41e-fe01-4c38-ae7e-0ff49bfffe0e",
   "metadata": {},
   "outputs": [
    {
     "name": "stdout",
     "output_type": "stream",
     "text": [
      "Time it took to read: 0.07789897918701172\n"
     ]
    }
   ],
   "source": [
    "read_time = time.time()\n",
    "print(f'Time it took to read: {read_time-write_time}')"
   ]
  }
 ],
 "metadata": {
  "kernelspec": {
   "display_name": "Python 3 (ipykernel)",
   "language": "python",
   "name": "python3"
  },
  "language_info": {
   "codemirror_mode": {
    "name": "ipython",
    "version": 3
   },
   "file_extension": ".py",
   "mimetype": "text/x-python",
   "name": "python",
   "nbconvert_exporter": "python",
   "pygments_lexer": "ipython3",
   "version": "3.9.16"
  }
 },
 "nbformat": 4,
 "nbformat_minor": 5
}
