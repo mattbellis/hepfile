{
 "cells": [
  {
   "cell_type": "code",
   "execution_count": 1,
   "id": "f1bd1ae3-2730-42a3-9f10-a4c2d36ef58c",
   "metadata": {},
   "outputs": [],
   "source": [
    "import hepfile as hf\n",
    "import awkward as ak\n",
    "import numpy as np"
   ]
  },
  {
   "cell_type": "code",
   "execution_count": 2,
   "id": "093ee6af-101e-46ed-a8d0-31ad17bdfa88",
   "metadata": {},
   "outputs": [],
   "source": [
    "# test dictionary\n",
    "d = [\n",
    "    {\n",
    "    'jet': {\n",
    "        'px': [1,2,3],\n",
    "        'py': [1,2,3]\n",
    "     },\n",
    "    'muons': {\n",
    "        'px': [1,2,3],\n",
    "        'py': [1,2,3]\n",
    "     },\n",
    "    'other': 'this'\n",
    "    },\n",
    "    {\n",
    "    'jet': {\n",
    "        'px': [3,4,6,7],\n",
    "        'py': [3,4,6,7]\n",
    "     },\n",
    "    'muons': {\n",
    "        'px': [3,4,6,7],\n",
    "        'py': [3,4,6,7],\n",
    "        },\n",
    "    'other': 'this'\n",
    "    }\n",
    "]"
   ]
  },
  {
   "cell_type": "code",
   "execution_count": 3,
   "id": "2ac7b056-44b4-4940-8f91-a5f520d948b0",
   "metadata": {},
   "outputs": [],
   "source": [
    "awk = ak.Array(d)"
   ]
  },
  {
   "cell_type": "code",
   "execution_count": 4,
   "id": "7fe00558-2cb7-4b30-b8fb-9adb8fe2d27e",
   "metadata": {},
   "outputs": [
    {
     "name": "stdout",
     "output_type": "stream",
     "text": [
      "Writing the hdf5 file from the awkward array...\n",
      "Metadata added\n"
     ]
    },
    {
     "data": {
      "text/html": [
       "<pre>[{jet: {px: [1, ..., 3], py: [...]}, muons: {px: ..., ...}, other: &#x27;this&#x27;},\n",
       " {jet: {px: [3, ..., 7], py: [...]}, muons: {px: ..., ...}, other: &#x27;this&#x27;}]\n",
       "---------------------------------------------------------------------------\n",
       "type: 2 * {\n",
       "    jet: {\n",
       "        px: var * int64,\n",
       "        py: var * int64\n",
       "    },\n",
       "    muons: {\n",
       "        px: var * int64,\n",
       "        py: var * int64\n",
       "    },\n",
       "    other: string\n",
       "}</pre>"
      ],
      "text/plain": [
       "<Array [{jet: {...}, muons: {...}, ...}, ...] type='2 * {jet: {px: var * in...'>"
      ]
     },
     "execution_count": 4,
     "metadata": {},
     "output_type": "execute_result"
    }
   ],
   "source": [
    "out = 'test.hdf5'\n",
    "ak_dict = hf.dict_tools.dictlike_to_hepfile(d, out)\n",
    "ak_dict"
   ]
  },
  {
   "cell_type": "code",
   "execution_count": 5,
   "id": "e063bcf6-5e63-4134-9d1a-276c4f2f8b43",
   "metadata": {},
   "outputs": [],
   "source": [
    "new_dict = {'jet': {'px': [10, 100], 'py': [0, 0]},\n",
    "            'muons': {'px': [5, 1000], 'py': [0, -1]},\n",
    "            'other': 2\n",
    "            }\n",
    "\n",
    "mod = hf.dict_tools.append(ak_dict, new_dict)"
   ]
  },
  {
   "cell_type": "code",
   "execution_count": 6,
   "id": "58d66be1-1672-40e0-af53-6c5c7cb85435",
   "metadata": {},
   "outputs": [
    {
     "name": "stdout",
     "output_type": "stream",
     "text": [
      "Help on function append in module hepfile.dict_tools:\n",
      "\n",
      "append(ak_dict: 'ak.Record', new_dict: 'dict') -> 'ak.Record'\n",
      "    Append a new event to an existing awkward dictionary with events\n",
      "    \n",
      "    Args:\n",
      "        ak_dict (ak.Record): awkward Record of data\n",
      "        new_dict (dict): Dictionary of value to append to ak_dict. All keys must match ak_dict!\n",
      "    Return:\n",
      "        Awkward Record of awkward arrays with the new_dict appended\n",
      "\n"
     ]
    }
   ],
   "source": [
    "help(hf.dict_tools.append)"
   ]
  },
  {
   "cell_type": "code",
   "execution_count": null,
   "id": "7d6d9212-5d45-44e5-accb-300c1c9b7fa4",
   "metadata": {},
   "outputs": [],
   "source": []
  }
 ],
 "metadata": {
  "kernelspec": {
   "display_name": "Python 3 (ipykernel)",
   "language": "python",
   "name": "python3"
  },
  "language_info": {
   "codemirror_mode": {
    "name": "ipython",
    "version": 3
   },
   "file_extension": ".py",
   "mimetype": "text/x-python",
   "name": "python",
   "nbconvert_exporter": "python",
   "pygments_lexer": "ipython3",
   "version": "3.9.16"
  }
 },
 "nbformat": 4,
 "nbformat_minor": 5
}
