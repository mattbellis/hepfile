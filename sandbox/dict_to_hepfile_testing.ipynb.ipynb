{
 "cells": [
  {
   "cell_type": "code",
   "execution_count": 1,
   "id": "f1bd1ae3-2730-42a3-9f10-a4c2d36ef58c",
   "metadata": {},
   "outputs": [],
   "source": [
    "import hepfile as hf\n",
    "import awkward as ak\n",
    "import numpy as np"
   ]
  },
  {
   "cell_type": "code",
   "execution_count": 2,
   "id": "093ee6af-101e-46ed-a8d0-31ad17bdfa88",
   "metadata": {},
   "outputs": [],
   "source": [
    "# test dictionary\n",
    "d = [\n",
    "    {\n",
    "    'jet': {\n",
    "        'px': [1,2,3],\n",
    "        'py': [1,2,3]\n",
    "     },\n",
    "    'muons': {\n",
    "        'px': [1,2,3],\n",
    "        'py': [1,2,3]\n",
    "     },\n",
    "    'other': 'this'\n",
    "    },\n",
    "    {\n",
    "    'jet': {\n",
    "        'px': [3,4,6,7],\n",
    "        'py': [3,4,6,7]\n",
    "     },\n",
    "    'muons': {\n",
    "        'px': [3,4,6,7],\n",
    "        'py': [3,4,6,7],\n",
    "        },\n",
    "    'other': 'this'\n",
    "    }\n",
    "]"
   ]
  },
  {
   "cell_type": "code",
   "execution_count": 3,
   "id": "2ac7b056-44b4-4940-8f91-a5f520d948b0",
   "metadata": {},
   "outputs": [],
   "source": [
    "awk = ak.Array(d)"
   ]
  },
  {
   "cell_type": "code",
   "execution_count": 4,
   "id": "7fe00558-2cb7-4b30-b8fb-9adb8fe2d27e",
   "metadata": {},
   "outputs": [
    {
     "name": "stdout",
     "output_type": "stream",
     "text": [
      "jet px int64\n",
      "jet py int64\n",
      "muons px int64\n",
      "muons py int64\n",
      "other <class 'str'>\n",
      "Writing the hdf5 file from the awkward array...\n",
      "Metadata added\n"
     ]
    },
    {
     "data": {
      "text/html": [
       "<pre>[{jet: {px: [1, ..., 3], py: [...]}, muons: {px: ..., ...}, other: &#x27;this&#x27;},\n",
       " {jet: {px: [3, ..., 7], py: [...]}, muons: {px: ..., ...}, other: &#x27;this&#x27;}]\n",
       "---------------------------------------------------------------------------\n",
       "type: 2 * {\n",
       "    jet: {\n",
       "        px: var * int64,\n",
       "        py: var * int64\n",
       "    },\n",
       "    muons: {\n",
       "        px: var * int64,\n",
       "        py: var * int64\n",
       "    },\n",
       "    other: string\n",
       "}</pre>"
      ],
      "text/plain": [
       "<Array [{jet: {...}, muons: {...}, ...}, ...] type='2 * {jet: {px: var * in...'>"
      ]
     },
     "execution_count": 4,
     "metadata": {},
     "output_type": "execute_result"
    }
   ],
   "source": [
    "out = 'test.hdf5'\n",
    "ak_dict = hf.dict_tools.dictlike_to_hepfile(d, out)\n",
    "ak_dict"
   ]
  },
  {
   "cell_type": "code",
   "execution_count": 5,
   "id": "e063bcf6-5e63-4134-9d1a-276c4f2f8b43",
   "metadata": {},
   "outputs": [],
   "source": [
    "new_dict = {'jet': {'px': [10, 100], 'py': [0, 0]},\n",
    "            'muons': {'px': [5, 1000], 'py': [0, -1]},\n",
    "            'other': 2\n",
    "            }\n",
    "\n",
    "mod = hf.dict_tools.append(ak_dict, new_dict)"
   ]
  },
  {
   "cell_type": "code",
   "execution_count": 6,
   "id": "d3f6feb5-07b6-4c72-b45f-cde2d61dad59",
   "metadata": {},
   "outputs": [
    {
     "name": "stdout",
     "output_type": "stream",
     "text": [
      "jet\n",
      "[[1, 2, 3], [3, 4, 6, 7], [10, 100]]\n",
      "[[1, 2, 3], [3, 4, 6, 7], [0, 0]]\n",
      "muons\n",
      "[[1, 2, 3], [3, 4, 6, 7], [5, 1000]]\n",
      "[[1, 2, 3], [3, 4, 6, 7], [0, -1]]\n",
      "other\n",
      "singleton\n"
     ]
    }
   ],
   "source": [
    "for group in mod.fields:\n",
    "    print(group)\n",
    "    if len(mod[group].fields) == 0:\n",
    "        print('singleton')\n",
    "        continue\n",
    "    for dataset in mod[group].fields:\n",
    "        print(mod[group][dataset])"
   ]
  },
  {
   "cell_type": "code",
   "execution_count": 7,
   "id": "58d66be1-1672-40e0-af53-6c5c7cb85435",
   "metadata": {},
   "outputs": [
    {
     "name": "stdout",
     "output_type": "stream",
     "text": [
      "Help on function append in module hepfile.dict_tools:\n",
      "\n",
      "append(ak_dict: 'ak.Record', new_dict: 'dict') -> 'ak.Record'\n",
      "    Append a new event to an existing awkward dictionary with events\n",
      "    \n",
      "    Args:\n",
      "        ak_dict (ak.Record): awkward Record of data\n",
      "        new_dict (dict): Dictionary of value to append to ak_dict. All keys must match ak_dict!\n",
      "    Return:\n",
      "        Awkward Record of awkward arrays with the new_dict appended\n",
      "\n"
     ]
    }
   ],
   "source": [
    "help(hf.dict_tools.append)"
   ]
  },
  {
   "cell_type": "markdown",
   "id": "9b5a3075-7bc5-4640-b61f-ae7806d1e157",
   "metadata": {},
   "source": [
    "# test with pandas"
   ]
  },
  {
   "cell_type": "code",
   "execution_count": 8,
   "id": "2424d583-f84c-4794-8ab5-95c7c0d45d8c",
   "metadata": {},
   "outputs": [],
   "source": [
    "import pandas as pd"
   ]
  },
  {
   "cell_type": "code",
   "execution_count": 9,
   "id": "28d78da5-2e75-415c-aa45-62f7b4eba33e",
   "metadata": {},
   "outputs": [],
   "source": [
    "d = { 'event1' : \n",
    "    {\n",
    "    'jet': {\n",
    "        'px': [1,2,3],\n",
    "        'py': [1,2,3]\n",
    "     },\n",
    "    'muons': {\n",
    "        'px': [1,2,3],\n",
    "        'py': [1,2,3]\n",
    "     },\n",
    "    'other': 'this'\n",
    "    },\n",
    "     'event2' : \n",
    "    {\n",
    "    'jet': {\n",
    "        'px': [3,4,6,7],\n",
    "        'py': [3,4,6,7]\n",
    "     },\n",
    "    'muons': {\n",
    "        'px': [3,4,6,7],\n",
    "        'py': [3,4,6,7],\n",
    "        },\n",
    "    'other': 'this'\n",
    "    }\n",
    "    }\n",
    "\n",
    "df = pd.DataFrame(d)"
   ]
  },
  {
   "cell_type": "code",
   "execution_count": 10,
   "id": "54562609-53b5-4e01-ba7a-f922044ac1ef",
   "metadata": {},
   "outputs": [
    {
     "name": "stdout",
     "output_type": "stream",
     "text": [
      "Metadata added\n"
     ]
    }
   ],
   "source": [
    "awk = hf.dict_tools.dictlike_to_hepfile(df, 'dataframe-to-hepfile.h5', how_to_pack='classic', write_hepfile=False)"
   ]
  },
  {
   "cell_type": "code",
   "execution_count": 12,
   "id": "b85d5176-4d95-4c02-81ca-e235384f0a5c",
   "metadata": {},
   "outputs": [
    {
     "name": "stdout",
     "output_type": "stream",
     "text": [
      "Building the indices...\n",
      "\n",
      "Built the indices!\n",
      "Data is read in and input file is closed.\n"
     ]
    }
   ],
   "source": [
    "data, bucket = hf.load('dataframe-to-hepfile.h5')"
   ]
  },
  {
   "cell_type": "code",
   "execution_count": 20,
   "id": "abef0bbf-9e99-461a-a3f1-7de0b4bb63f1",
   "metadata": {},
   "outputs": [
    {
     "data": {
      "text/plain": [
       "{'_GROUPS_': {'_SINGLETONS_GROUP_': ['COUNTER', 'other'],\n",
       "  'jet': ['njet', 'px', 'py'],\n",
       "  'muons': ['nmuons', 'px', 'py']},\n",
       " '_MAP_DATASETS_TO_COUNTERS_': {'_SINGLETONS_GROUP_': '_SINGLETONS_GROUP_/COUNTER',\n",
       "  'jet': 'jet/njet',\n",
       "  'jet/px': 'jet/njet',\n",
       "  'jet/py': 'jet/njet',\n",
       "  'muons': 'muons/nmuons',\n",
       "  'muons/px': 'muons/nmuons',\n",
       "  'muons/py': 'muons/nmuons',\n",
       "  'other': '_SINGLETONS_GROUP_/COUNTER'},\n",
       " '_LIST_OF_COUNTERS_': ['_SINGLETONS_GROUP_/COUNTER',\n",
       "  'jet/njet',\n",
       "  'muons/nmuons'],\n",
       " '_SINGLETONS_GROUP_/COUNTER': [1, 1],\n",
       " '_MAP_DATASETS_TO_DATA_TYPES_': {'_SINGLETONS_GROUP_/COUNTER': int,\n",
       "  'jet/njet': int,\n",
       "  'jet/px': int,\n",
       "  'jet/py': int,\n",
       "  'muons/nmuons': int,\n",
       "  'muons/px': int,\n",
       "  'muons/py': int,\n",
       "  'other': str},\n",
       " '_META_': {},\n",
       " 'jet/njet': [3, 4],\n",
       " 'jet/px': [1, 2, 3, 3, 4, 6, 7],\n",
       " 'jet/py': [1, 2, 3, 3, 4, 6, 7],\n",
       " 'muons/nmuons': [3, 4],\n",
       " 'muons/px': [1, 2, 3, 3, 4, 6, 7],\n",
       " 'muons/py': [1, 2, 3, 3, 4, 6, 7],\n",
       " 'other': ['this', 'this']}"
      ]
     },
     "execution_count": 20,
     "metadata": {},
     "output_type": "execute_result"
    }
   ],
   "source": [
    "awk"
   ]
  },
  {
   "cell_type": "code",
   "execution_count": 22,
   "id": "9d3025a2-3028-4da9-87d1-8a27c87f6225",
   "metadata": {},
   "outputs": [
    {
     "data": {
      "text/plain": [
       "{'_LIST_OF_DATASETS_',\n",
       " '_MAP_DATASETS_TO_INDEX_',\n",
       " '_NUMBER_OF_BUCKETS_',\n",
       " '_PROTECTED_NAMES_',\n",
       " '_SINGLETONS_GROUP_',\n",
       " '_SINGLETONS_GROUP_/COUNTER_INDEX',\n",
       " 'jet/njet_INDEX',\n",
       " 'muons/nmuons_INDEX'}"
      ]
     },
     "execution_count": 22,
     "metadata": {},
     "output_type": "execute_result"
    }
   ],
   "source": [
    "data.keys() - awk.keys()"
   ]
  },
  {
   "cell_type": "code",
   "execution_count": null,
   "id": "3f76e502-c7fd-47b2-ba0a-aaa91baad8db",
   "metadata": {},
   "outputs": [],
   "source": []
  }
 ],
 "metadata": {
  "kernelspec": {
   "display_name": "Python 3 (ipykernel)",
   "language": "python",
   "name": "python3"
  },
  "language_info": {
   "codemirror_mode": {
    "name": "ipython",
    "version": 3
   },
   "file_extension": ".py",
   "mimetype": "text/x-python",
   "name": "python",
   "nbconvert_exporter": "python",
   "pygments_lexer": "ipython3",
   "version": "3.9.16"
  }
 },
 "nbformat": 4,
 "nbformat_minor": 5
}
