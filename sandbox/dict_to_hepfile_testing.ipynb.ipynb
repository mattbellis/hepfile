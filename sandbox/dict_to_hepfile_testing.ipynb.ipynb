{
 "cells": [
  {
   "cell_type": "code",
   "execution_count": 1,
   "id": "f1bd1ae3-2730-42a3-9f10-a4c2d36ef58c",
   "metadata": {},
   "outputs": [],
   "source": [
    "import hepfile as hf\n",
    "import awkward as ak\n",
    "import numpy as np"
   ]
  },
  {
   "cell_type": "code",
   "execution_count": 2,
   "id": "093ee6af-101e-46ed-a8d0-31ad17bdfa88",
   "metadata": {},
   "outputs": [],
   "source": [
    "# test dictionary\n",
    "d = [\n",
    "    {\n",
    "    'jet': {\n",
    "        'px': [1,2,3],\n",
    "        'py': [1,2,3]\n",
    "     },\n",
    "    'muons': {\n",
    "        'px': [1,2,3],\n",
    "        'py': [1,2,3]\n",
    "     },\n",
    "    'other': 'this'\n",
    "    },\n",
    "    {\n",
    "    'jet': {\n",
    "        'px': [3,4,6,7],\n",
    "        'py': [3,4,6,7]\n",
    "     },\n",
    "    'muons': {\n",
    "        'px': [3,4,6,7],\n",
    "        'py': [3,4,6,7],\n",
    "        },\n",
    "    'other': 'this'\n",
    "    }\n",
    "]"
   ]
  },
  {
   "cell_type": "code",
   "execution_count": 3,
   "id": "2ac7b056-44b4-4940-8f91-a5f520d948b0",
   "metadata": {},
   "outputs": [],
   "source": [
    "awk = ak.Array(d)"
   ]
  },
  {
   "cell_type": "code",
   "execution_count": 4,
   "id": "7fe00558-2cb7-4b30-b8fb-9adb8fe2d27e",
   "metadata": {},
   "outputs": [
    {
     "name": "stdout",
     "output_type": "stream",
     "text": [
      "Metadata added\n"
     ]
    },
    {
     "data": {
      "text/plain": [
       "{'_GROUPS_': {'_SINGLETONS_GROUP_': ['COUNTER', 'other'],\n",
       "  'jet': ['n_jet', 'px', 'py'],\n",
       "  'muons': ['n_muons', 'px', 'py']},\n",
       " '_MAP_DATASETS_TO_COUNTERS_': {'_SINGLETONS_GROUP_': '_SINGLETONS_GROUP_/COUNTER',\n",
       "  'jet': 'jet/n_jet',\n",
       "  'jet/px': 'jet/n_jet',\n",
       "  'jet/py': 'jet/n_jet',\n",
       "  'muons': 'muons/n_muons',\n",
       "  'muons/px': 'muons/n_muons',\n",
       "  'muons/py': 'muons/n_muons',\n",
       "  'other': '_SINGLETONS_GROUP_/COUNTER'},\n",
       " '_LIST_OF_COUNTERS_': ['_SINGLETONS_GROUP_/COUNTER',\n",
       "  'jet/n_jet',\n",
       "  'muons/n_muons'],\n",
       " '_SINGLETONS_GROUP_/COUNTER': [1, 1],\n",
       " '_MAP_DATASETS_TO_DATA_TYPES_': {'_SINGLETONS_GROUP_/COUNTER': int,\n",
       "  'jet/n_jet': int,\n",
       "  'jet/px': int,\n",
       "  'jet/py': int,\n",
       "  'muons/n_muons': int,\n",
       "  'muons/px': int,\n",
       "  'muons/py': int,\n",
       "  'other': str},\n",
       " '_META_': {},\n",
       " 'jet/n_jet': [3, 4],\n",
       " 'jet/px': [1, 2, 3, 3, 4, 6, 7],\n",
       " 'jet/py': [1, 2, 3, 3, 4, 6, 7],\n",
       " 'muons/n_muons': [3, 4],\n",
       " 'muons/px': [1, 2, 3, 3, 4, 6, 7],\n",
       " 'muons/py': [1, 2, 3, 3, 4, 6, 7],\n",
       " 'other': ['this', 'this']}"
      ]
     },
     "execution_count": 4,
     "metadata": {},
     "output_type": "execute_result"
    }
   ],
   "source": [
    "out = 'test.hdf5'\n",
    "ak_dict = hf.dict_tools.dictlike_to_hepfile(d, out, how_to_pack='classic')\n",
    "ak_dict"
   ]
  },
  {
   "cell_type": "code",
   "execution_count": 5,
   "id": "e063bcf6-5e63-4134-9d1a-276c4f2f8b43",
   "metadata": {},
   "outputs": [
    {
     "ename": "AwkwardStructureError",
     "evalue": "Please input an Awkward Array or Awkward Record",
     "output_type": "error",
     "traceback": [
      "\u001b[0;31m---------------------------------------------------------------------------\u001b[0m",
      "\u001b[0;31mAwkwardStructureError\u001b[0m                     Traceback (most recent call last)",
      "Cell \u001b[0;32mIn[5], line 6\u001b[0m\n\u001b[1;32m      1\u001b[0m new_dict \u001b[38;5;241m=\u001b[39m {\u001b[38;5;124m'\u001b[39m\u001b[38;5;124mjet\u001b[39m\u001b[38;5;124m'\u001b[39m: {\u001b[38;5;124m'\u001b[39m\u001b[38;5;124mpx\u001b[39m\u001b[38;5;124m'\u001b[39m: [\u001b[38;5;241m10\u001b[39m, \u001b[38;5;241m100\u001b[39m], \u001b[38;5;124m'\u001b[39m\u001b[38;5;124mpy\u001b[39m\u001b[38;5;124m'\u001b[39m: [\u001b[38;5;241m0\u001b[39m, \u001b[38;5;241m0\u001b[39m]},\n\u001b[1;32m      2\u001b[0m             \u001b[38;5;124m'\u001b[39m\u001b[38;5;124mmuons\u001b[39m\u001b[38;5;124m'\u001b[39m: {\u001b[38;5;124m'\u001b[39m\u001b[38;5;124mpx\u001b[39m\u001b[38;5;124m'\u001b[39m: [\u001b[38;5;241m5\u001b[39m, \u001b[38;5;241m1000\u001b[39m], \u001b[38;5;124m'\u001b[39m\u001b[38;5;124mpy\u001b[39m\u001b[38;5;124m'\u001b[39m: [\u001b[38;5;241m0\u001b[39m, \u001b[38;5;241m-\u001b[39m\u001b[38;5;241m1\u001b[39m]},\n\u001b[1;32m      3\u001b[0m             \u001b[38;5;124m'\u001b[39m\u001b[38;5;124mother\u001b[39m\u001b[38;5;124m'\u001b[39m: \u001b[38;5;241m2\u001b[39m\n\u001b[1;32m      4\u001b[0m             }\n\u001b[0;32m----> 6\u001b[0m mod \u001b[38;5;241m=\u001b[39m \u001b[43mhf\u001b[49m\u001b[38;5;241;43m.\u001b[39;49m\u001b[43mdict_tools\u001b[49m\u001b[38;5;241;43m.\u001b[39;49m\u001b[43mappend\u001b[49m\u001b[43m(\u001b[49m\u001b[43mak_dict\u001b[49m\u001b[43m,\u001b[49m\u001b[43m \u001b[49m\u001b[43mnew_dict\u001b[49m\u001b[43m)\u001b[49m\n",
      "File \u001b[0;32m~/research/hepfile/src/hepfile/dict_tools.py:136\u001b[0m, in \u001b[0;36mappend\u001b[0;34m(ak_dict, new_dict)\u001b[0m\n\u001b[1;32m    125\u001b[0m \u001b[38;5;28;01mdef\u001b[39;00m \u001b[38;5;21mappend\u001b[39m(ak_dict: ak\u001b[38;5;241m.\u001b[39mRecord, new_dict: \u001b[38;5;28mdict\u001b[39m) \u001b[38;5;241m-\u001b[39m\u001b[38;5;241m>\u001b[39m ak\u001b[38;5;241m.\u001b[39mRecord:\n\u001b[1;32m    126\u001b[0m     \u001b[38;5;124;03m\"\"\"\u001b[39;00m\n\u001b[1;32m    127\u001b[0m \u001b[38;5;124;03m    Append a new event to an existing awkward dictionary with events\u001b[39;00m\n\u001b[1;32m    128\u001b[0m \n\u001b[0;32m   (...)\u001b[0m\n\u001b[1;32m    133\u001b[0m \u001b[38;5;124;03m        Awkward Record of awkward arrays with the new_dict appended\u001b[39;00m\n\u001b[1;32m    134\u001b[0m \u001b[38;5;124;03m    \"\"\"\u001b[39;00m\n\u001b[0;32m--> 136\u001b[0m     \u001b[43m_is_valid_awkward\u001b[49m\u001b[43m(\u001b[49m\u001b[43mak_dict\u001b[49m\u001b[43m)\u001b[49m\n\u001b[1;32m    138\u001b[0m     \u001b[38;5;28;01mif\u001b[39;00m \u001b[38;5;28msorted\u001b[39m(\u001b[38;5;28mlist\u001b[39m(new_dict\u001b[38;5;241m.\u001b[39mkeys())) \u001b[38;5;241m!=\u001b[39m \u001b[38;5;28msorted\u001b[39m(ak_dict\u001b[38;5;241m.\u001b[39mfields):\n\u001b[1;32m    139\u001b[0m         \u001b[38;5;28;01mraise\u001b[39;00m InputError(\n\u001b[1;32m    140\u001b[0m             \u001b[38;5;124mf\u001b[39m\u001b[38;5;124m\"\u001b[39m\u001b[38;5;124mKeys of new array do not match keys of existing array!\u001b[39m\u001b[38;5;130;01m\\n\u001b[39;00m\u001b[38;5;124mExisting \u001b[39m\u001b[38;5;130;01m\\\u001b[39;00m\n\u001b[1;32m    141\u001b[0m \u001b[38;5;124m            Array Keys: \u001b[39m\u001b[38;5;132;01m{\u001b[39;00mak_dict\u001b[38;5;241m.\u001b[39mfields\u001b[38;5;132;01m}\u001b[39;00m\u001b[38;5;130;01m\\n\u001b[39;00m\u001b[38;5;124mNew Dictionary Keys: \u001b[39m\u001b[38;5;132;01m{\u001b[39;00mnew_dict\u001b[38;5;241m.\u001b[39mkeys()\u001b[38;5;132;01m}\u001b[39;00m\u001b[38;5;124m\"\u001b[39m\n\u001b[1;32m    142\u001b[0m         )\n",
      "File \u001b[0;32m~/research/hepfile/src/hepfile/awkward_tools.py:207\u001b[0m, in \u001b[0;36m_is_valid_awkward\u001b[0;34m(ak_array)\u001b[0m\n\u001b[1;32m    205\u001b[0m \u001b[38;5;66;03m# validate input array\u001b[39;00m\n\u001b[1;32m    206\u001b[0m \u001b[38;5;28;01mif\u001b[39;00m \u001b[38;5;129;01mnot\u001b[39;00m \u001b[38;5;28misinstance\u001b[39m(ak_array, ak\u001b[38;5;241m.\u001b[39mArray) \u001b[38;5;129;01mand\u001b[39;00m \u001b[38;5;129;01mnot\u001b[39;00m \u001b[38;5;28misinstance\u001b[39m(ak_array, ak\u001b[38;5;241m.\u001b[39mRecord):\n\u001b[0;32m--> 207\u001b[0m     \u001b[38;5;28;01mraise\u001b[39;00m AwkwardStructureError(\u001b[38;5;124m\"\u001b[39m\u001b[38;5;124mPlease input an Awkward Array or Awkward Record\u001b[39m\u001b[38;5;124m\"\u001b[39m)\n\u001b[1;32m    209\u001b[0m \u001b[38;5;28;01mif\u001b[39;00m ak_array\u001b[38;5;241m.\u001b[39mfields \u001b[38;5;241m==\u001b[39m \u001b[38;5;241m0\u001b[39m:\n\u001b[1;32m    210\u001b[0m     \u001b[38;5;28;01mraise\u001b[39;00m AwkwardStructureError(\n\u001b[1;32m    211\u001b[0m         \u001b[38;5;124m\"\u001b[39m\u001b[38;5;124mYour input Awkward Array must be a Record. \u001b[39m\u001b[38;5;130;01m\\\u001b[39;00m\n\u001b[1;32m    212\u001b[0m \u001b[38;5;124m        This means it needs to have fields in it.\u001b[39m\u001b[38;5;124m\"\u001b[39m\n\u001b[1;32m    213\u001b[0m     )\n",
      "\u001b[0;31mAwkwardStructureError\u001b[0m: Please input an Awkward Array or Awkward Record"
     ]
    }
   ],
   "source": [
    "new_dict = {'jet': {'px': [10, 100], 'py': [0, 0]},\n",
    "            'muons': {'px': [5, 1000], 'py': [0, -1]},\n",
    "            'other': 2\n",
    "            }\n",
    "\n",
    "mod = hf.dict_tools.append(ak_dict, new_dict)"
   ]
  },
  {
   "cell_type": "code",
   "execution_count": 6,
   "id": "58d66be1-1672-40e0-af53-6c5c7cb85435",
   "metadata": {},
   "outputs": [
    {
     "name": "stdout",
     "output_type": "stream",
     "text": [
      "Help on function append in module hepfile.dict_tools:\n",
      "\n",
      "append(ak_dict: 'ak.Record', new_dict: 'dict') -> 'ak.Record'\n",
      "    Append a new event to an existing awkward dictionary with events\n",
      "    \n",
      "    Args:\n",
      "        ak_dict (ak.Record): awkward Record of data\n",
      "        new_dict (dict): Dictionary of value to append to ak_dict. All keys must match ak_dict!\n",
      "    Return:\n",
      "        Awkward Record of awkward arrays with the new_dict appended\n",
      "\n"
     ]
    }
   ],
   "source": [
    "help(hf.dict_tools.append)"
   ]
  },
  {
   "cell_type": "markdown",
   "id": "9b5a3075-7bc5-4640-b61f-ae7806d1e157",
   "metadata": {},
   "source": [
    "# test with pandas"
   ]
  },
  {
   "cell_type": "code",
   "execution_count": 7,
   "id": "2424d583-f84c-4794-8ab5-95c7c0d45d8c",
   "metadata": {},
   "outputs": [],
   "source": [
    "import pandas as pd"
   ]
  },
  {
   "cell_type": "code",
   "execution_count": 8,
   "id": "28d78da5-2e75-415c-aa45-62f7b4eba33e",
   "metadata": {},
   "outputs": [],
   "source": [
    "d = { 'event1' : \n",
    "    {\n",
    "    'jet': {\n",
    "        'px': [1,2,3],\n",
    "        'py': [1,2,3]\n",
    "     },\n",
    "    'muons': {\n",
    "        'px': [1,2,3],\n",
    "        'py': [1,2,3]\n",
    "     },\n",
    "    'other': 'this'\n",
    "    },\n",
    "     'event2' : \n",
    "    {\n",
    "    'jet': {\n",
    "        'px': [3,4,6,7],\n",
    "        'py': [3,4,6,7]\n",
    "     },\n",
    "    'muons': {\n",
    "        'px': [3,4,6,7],\n",
    "        'py': [3,4,6,7],\n",
    "        },\n",
    "    'other': 'this'\n",
    "    }\n",
    "    }\n",
    "\n",
    "df = pd.DataFrame(d)"
   ]
  },
  {
   "cell_type": "code",
   "execution_count": 10,
   "id": "54562609-53b5-4e01-ba7a-f922044ac1ef",
   "metadata": {},
   "outputs": [
    {
     "name": "stdout",
     "output_type": "stream",
     "text": [
      "Metadata added\n"
     ]
    }
   ],
   "source": [
    "awk = hf.dict_tools.dictlike_to_hepfile(df, 'dataframe-to-hepfile.h5', how_to_pack='classic', write_hepfile=False)"
   ]
  },
  {
   "cell_type": "code",
   "execution_count": 11,
   "id": "759d897f-a2b5-4055-a7fa-163942abea67",
   "metadata": {},
   "outputs": [
    {
     "data": {
      "text/plain": [
       "{'_GROUPS_': {'_SINGLETONS_GROUP_': ['COUNTER', 'other'],\n",
       "  'jet': ['n_jet', 'px', 'py'],\n",
       "  'muons': ['n_muons', 'px', 'py']},\n",
       " '_MAP_DATASETS_TO_COUNTERS_': {'_SINGLETONS_GROUP_': '_SINGLETONS_GROUP_/COUNTER',\n",
       "  'jet': 'jet/n_jet',\n",
       "  'jet/px': 'jet/n_jet',\n",
       "  'jet/py': 'jet/n_jet',\n",
       "  'muons': 'muons/n_muons',\n",
       "  'muons/px': 'muons/n_muons',\n",
       "  'muons/py': 'muons/n_muons',\n",
       "  'other': '_SINGLETONS_GROUP_/COUNTER'},\n",
       " '_LIST_OF_COUNTERS_': ['_SINGLETONS_GROUP_/COUNTER',\n",
       "  'jet/n_jet',\n",
       "  'muons/n_muons'],\n",
       " '_SINGLETONS_GROUP_/COUNTER': [1, 1],\n",
       " '_MAP_DATASETS_TO_DATA_TYPES_': {'_SINGLETONS_GROUP_/COUNTER': int,\n",
       "  'jet/n_jet': int,\n",
       "  'jet/px': int,\n",
       "  'jet/py': int,\n",
       "  'muons/n_muons': int,\n",
       "  'muons/px': int,\n",
       "  'muons/py': int,\n",
       "  'other': str},\n",
       " '_META_': {},\n",
       " 'jet/n_jet': [3, 4],\n",
       " 'jet/px': [1, 2, 3, 3, 4, 6, 7],\n",
       " 'jet/py': [1, 2, 3, 3, 4, 6, 7],\n",
       " 'muons/n_muons': [3, 4],\n",
       " 'muons/px': [1, 2, 3, 3, 4, 6, 7],\n",
       " 'muons/py': [1, 2, 3, 3, 4, 6, 7],\n",
       " 'other': ['this', 'this']}"
      ]
     },
     "execution_count": 11,
     "metadata": {},
     "output_type": "execute_result"
    }
   ],
   "source": [
    "awk"
   ]
  },
  {
   "cell_type": "code",
   "execution_count": null,
   "id": "418d34d9-367f-4b94-a38c-cfe816c420d7",
   "metadata": {},
   "outputs": [],
   "source": []
  }
 ],
 "metadata": {
  "kernelspec": {
   "display_name": "Python 3 (ipykernel)",
   "language": "python",
   "name": "python3"
  },
  "language_info": {
   "codemirror_mode": {
    "name": "ipython",
    "version": 3
   },
   "file_extension": ".py",
   "mimetype": "text/x-python",
   "name": "python",
   "nbconvert_exporter": "python",
   "pygments_lexer": "ipython3",
   "version": "3.9.16"
  }
 },
 "nbformat": 4,
 "nbformat_minor": 5
}
