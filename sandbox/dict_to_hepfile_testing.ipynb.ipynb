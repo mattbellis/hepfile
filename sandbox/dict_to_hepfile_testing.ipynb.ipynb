{
 "cells": [
  {
   "cell_type": "code",
   "execution_count": null,
   "id": "f1bd1ae3-2730-42a3-9f10-a4c2d36ef58c",
   "metadata": {},
   "outputs": [],
   "source": [
    "import hepfile as hf\n",
    "import awkward as ak\n",
    "import numpy as np"
   ]
  },
  {
   "cell_type": "code",
   "execution_count": null,
   "id": "093ee6af-101e-46ed-a8d0-31ad17bdfa88",
   "metadata": {},
   "outputs": [],
   "source": [
    "# test dictionary\n",
    "d = [\n",
    "    {\n",
    "    'jet': {\n",
    "        'px': [1,2,3],\n",
    "        'py': [1,2,3]\n",
    "     },\n",
    "    'muons': {\n",
    "        'px': [1,2,3],\n",
    "        'py': [1,2,3]\n",
    "     },\n",
    "    'other': 'this'\n",
    "    },\n",
    "    {\n",
    "    'jet': {\n",
    "        'px': [3,4,6,7],\n",
    "        'py': [3,4,6,7]\n",
    "     },\n",
    "    'muons': {\n",
    "        'px': [3,4,6,7],\n",
    "        'py': [3,4,6,7],\n",
    "        },\n",
    "    'other': 'this'\n",
    "    }\n",
    "]"
   ]
  },
  {
   "cell_type": "code",
   "execution_count": null,
   "id": "2ac7b056-44b4-4940-8f91-a5f520d948b0",
   "metadata": {},
   "outputs": [],
   "source": [
    "awk = ak.Array(d)"
   ]
  },
  {
   "cell_type": "code",
   "execution_count": null,
   "id": "7fe00558-2cb7-4b30-b8fb-9adb8fe2d27e",
   "metadata": {},
   "outputs": [],
   "source": [
    "out = 'test.hdf5'\n",
    "ak_dict = hf.dict_tools.dictlike_to_hepfile(d, out)\n",
    "ak_dict"
   ]
  },
  {
   "cell_type": "code",
   "execution_count": null,
   "id": "e063bcf6-5e63-4134-9d1a-276c4f2f8b43",
   "metadata": {},
   "outputs": [],
   "source": [
    "new_dict = {'jet': {'px': [10, 100], 'py': [0, 0]},\n",
    "            'muons': {'px': [5, 1000], 'py': [0, -1]},\n",
    "            'other': 2\n",
    "            }\n",
    "\n",
    "mod = hf.dict_tools.append(ak_dict, new_dict)"
   ]
  },
  {
   "cell_type": "code",
   "execution_count": null,
   "id": "d3f6feb5-07b6-4c72-b45f-cde2d61dad59",
   "metadata": {},
   "outputs": [],
   "source": [
    "for group in mod.fields:\n",
    "    print(group)\n",
    "    if len(mod[group].fields) == 0:\n",
    "        print('singleton')\n",
    "        continue\n",
    "    for dataset in mod[group].fields:\n",
    "        print(mod[group][dataset])"
   ]
  },
  {
   "cell_type": "code",
   "execution_count": null,
   "id": "58d66be1-1672-40e0-af53-6c5c7cb85435",
   "metadata": {},
   "outputs": [],
   "source": [
    "help(hf.dict_tools.append)"
   ]
  },
  {
   "cell_type": "markdown",
   "id": "9b5a3075-7bc5-4640-b61f-ae7806d1e157",
   "metadata": {},
   "source": [
    "# test with pandas"
   ]
  },
  {
   "cell_type": "code",
   "execution_count": null,
   "id": "2424d583-f84c-4794-8ab5-95c7c0d45d8c",
   "metadata": {},
   "outputs": [],
   "source": [
    "import pandas as pd"
   ]
  },
  {
   "cell_type": "code",
   "execution_count": null,
   "id": "28d78da5-2e75-415c-aa45-62f7b4eba33e",
   "metadata": {},
   "outputs": [],
   "source": [
    "d = { 'event1' : \n",
    "    {\n",
    "    'jet': {\n",
    "        'px': [1,2,3],\n",
    "        'py': [1,2,3]\n",
    "     },\n",
    "    'muons': {\n",
    "        'px': [1,2,3],\n",
    "        'py': [1,2,3]\n",
    "     },\n",
    "    'other': 'this'\n",
    "    },\n",
    "     'event2' : \n",
    "    {\n",
    "    'jet': {\n",
    "        'px': [3,4,6,7],\n",
    "        'py': [3,4,6,7]\n",
    "     },\n",
    "    'muons': {\n",
    "        'px': [3,4,6,7],\n",
    "        'py': [3,4,6,7],\n",
    "        },\n",
    "    'other': 'this'\n",
    "    }\n",
    "    }\n",
    "\n",
    "df = pd.DataFrame(d)"
   ]
  },
  {
   "cell_type": "code",
   "execution_count": null,
   "id": "54562609-53b5-4e01-ba7a-f922044ac1ef",
   "metadata": {},
   "outputs": [],
   "source": [
    "awk = hf.dict_tools.dictlike_to_hepfile(df, 'dataframe-to-hepfile.h5', how_to_pack='classic', write_hepfile=False)"
   ]
  },
  {
   "cell_type": "code",
   "execution_count": null,
   "id": "b85d5176-4d95-4c02-81ca-e235384f0a5c",
   "metadata": {},
   "outputs": [],
   "source": [
    "data, bucket = hf.load('dataframe-to-hepfile.h5')"
   ]
  },
  {
   "cell_type": "code",
   "execution_count": null,
   "id": "abef0bbf-9e99-461a-a3f1-7de0b4bb63f1",
   "metadata": {},
   "outputs": [],
   "source": [
    "awk"
   ]
  },
  {
   "cell_type": "code",
   "execution_count": null,
   "id": "9d3025a2-3028-4da9-87d1-8a27c87f6225",
   "metadata": {},
   "outputs": [],
   "source": [
    "data.keys() - awk.keys()"
   ]
  },
  {
   "cell_type": "code",
   "execution_count": null,
   "id": "3f76e502-c7fd-47b2-ba0a-aaa91baad8db",
   "metadata": {},
   "outputs": [],
   "source": []
  }
 ],
 "metadata": {
  "kernelspec": {
   "display_name": "Python 3 (ipykernel)",
   "language": "python",
   "name": "python3"
  },
  "language_info": {
   "codemirror_mode": {
    "name": "ipython",
    "version": 3
   },
   "file_extension": ".py",
   "mimetype": "text/x-python",
   "name": "python",
   "nbconvert_exporter": "python",
   "pygments_lexer": "ipython3",
   "version": "3.9.12"
  }
 },
 "nbformat": 4,
 "nbformat_minor": 5
}
