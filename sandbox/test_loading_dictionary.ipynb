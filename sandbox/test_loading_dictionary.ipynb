{
 "cells": [
  {
   "cell_type": "code",
   "execution_count": null,
   "id": "c58e03c7",
   "metadata": {},
   "outputs": [],
   "source": [
    "import numpy as np\n",
    "import hepfile as hf"
   ]
  },
  {
   "cell_type": "code",
   "execution_count": null,
   "id": "d2cdb958",
   "metadata": {},
   "outputs": [],
   "source": [
    "event1 = {\n",
    "    'jet': {\n",
    "        'px': [1,2,3],\n",
    "        'py': [1,2,3]\n",
    "     },\n",
    "    'muons': {\n",
    "        'px': [1,2,3],\n",
    "        'py': [1,2,3]\n",
    "     },\n",
    "    }\n",
    "\n",
    "event2 = {\n",
    "    'jet': {\n",
    "        'px': [3,4,6,7],\n",
    "        'py': [3,4,6,7]\n",
    "     },\n",
    "    'muons': {\n",
    "        'px': [3,4,6,7],\n",
    "        'py': [3,4,6,7],\n",
    "        },\n",
    "    }"
   ]
  },
  {
   "cell_type": "code",
   "execution_count": null,
   "id": "3c5fcff8",
   "metadata": {},
   "outputs": [],
   "source": [
    "event1"
   ]
  },
  {
   "cell_type": "code",
   "execution_count": null,
   "id": "c1481829",
   "metadata": {},
   "outputs": [],
   "source": [
    "data = hf.initialize()"
   ]
  },
  {
   "cell_type": "code",
   "execution_count": null,
   "id": "b23796b4",
   "metadata": {},
   "outputs": [],
   "source": [
    "hf.create_group(data,'jet',counter='njet')\n",
    "hf.create_dataset(data,['px','py'],group='jet')\n",
    "\n",
    "hf.create_group(data,'muon',counter='nmuon')\n",
    "hf.create_dataset(data,['px','py'],group='muon')"
   ]
  },
  {
   "cell_type": "code",
   "execution_count": null,
   "id": "6afb0296",
   "metadata": {},
   "outputs": [],
   "source": [
    "data"
   ]
  },
  {
   "cell_type": "code",
   "execution_count": null,
   "id": "25f623b8",
   "metadata": {},
   "outputs": [],
   "source": [
    "bucket = hf.create_single_bucket(data)\n",
    "\n",
    "bucket"
   ]
  },
  {
   "cell_type": "code",
   "execution_count": null,
   "id": "ba40f9d8",
   "metadata": {},
   "outputs": [],
   "source": [
    "for event in [event1, event2]:\n",
    "\n",
    "    hf.pack(data, event1)"
   ]
  },
  {
   "cell_type": "code",
   "execution_count": null,
   "id": "8948bd4a",
   "metadata": {},
   "outputs": [],
   "source": []
  }
 ],
 "metadata": {
  "kernelspec": {
   "display_name": "Python 3 (ipykernel)",
   "language": "python",
   "name": "python3"
  },
  "language_info": {
   "codemirror_mode": {
    "name": "ipython",
    "version": 3
   },
   "file_extension": ".py",
   "mimetype": "text/x-python",
   "name": "python",
   "nbconvert_exporter": "python",
   "pygments_lexer": "ipython3",
   "version": "3.9.16"
  }
 },
 "nbformat": 4,
 "nbformat_minor": 5
}
