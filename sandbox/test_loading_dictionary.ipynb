{
 "cells": [
  {
   "cell_type": "code",
   "execution_count": null,
   "id": "ecdc12e5-5fc5-4430-8084-57fb323d7164",
   "metadata": {},
   "outputs": [],
   "source": [
    "import numpy as np\n",
    "import hepfile as hf"
   ]
  },
  {
   "cell_type": "code",
   "execution_count": null,
   "id": "3eba8e39-d244-43fa-b2a1-0f92d08d3702",
   "metadata": {},
   "outputs": [],
   "source": [
    "event1 = {\n",
    "    'jet': {\n",
    "        'px': [1,2,3],\n",
    "        'py': [1,2,3]\n",
    "     },\n",
    "    'muons': {\n",
    "        'px': [1,2,3],\n",
    "        'py': [1,2,3]\n",
    "     },\n",
    "    }\n",
    "\n",
    "event2 = {\n",
    "    'jet': {\n",
    "        'px': [3,4,6,7],\n",
    "        'py': [3,4,6,7]\n",
    "     },\n",
    "    'muons': {\n",
    "        'px': [3,4,6,7],\n",
    "        'py': [3,4,6,7],\n",
    "        },\n",
    "    }"
   ]
  },
  {
   "cell_type": "code",
   "execution_count": null,
   "id": "3cf30e62-4291-4039-9f9f-b4112ce27f0a",
   "metadata": {},
   "outputs": [],
   "source": [
    "event1"
   ]
  },
  {
   "cell_type": "code",
   "execution_count": null,
   "id": "33153076-642f-4d6d-afea-5373bf2654d4",
   "metadata": {},
   "outputs": [],
   "source": [
    "\n",
    "data = hf.initialize()"
   ]
  },
  {
   "cell_type": "code",
   "execution_count": null,
   "id": "b84e6d69-0871-4c1e-b665-0e2fe789f6c0",
   "metadata": {},
   "outputs": [],
   "source": [
    "hf.create_group(data,'jet',counter='njet')\n",
    "hf.create_dataset(data,['px','py'],group='jet')\n",
    "\n",
    "hf.create_group(data,'muon',counter='nmuon')\n",
    "hf.create_dataset(data,['px','py'],group='muon')"
   ]
  },
  {
   "cell_type": "code",
   "execution_count": null,
   "id": "28c4fb82-bae2-46a6-8196-380b141d424e",
   "metadata": {},
   "outputs": [],
   "source": [
    "data"
   ]
  },
  {
   "cell_type": "code",
   "execution_count": null,
   "id": "89369ddb-77ef-471a-ad51-54d8a0f18879",
   "metadata": {},
   "outputs": [],
   "source": [
    "bucket = hf.create_single_bucket(data)\n",
    "\n",
    "bucket"
   ]
  },
  {
   "cell_type": "code",
   "execution_count": null,
   "id": "40ef0303-b9a4-47fe-8ef2-dc43b45f56dc",
   "metadata": {},
   "outputs": [],
   "source": [
    "\n",
    "for event in [event1, event2]:\n",
    "\n",
    "    hf.pack(data, event1)"
   ]
  },
  {
   "cell_type": "code",
   "execution_count": null,
   "id": "28ee43ba-3e07-43a5-9c45-3ca7abe814da",
   "metadata": {},
   "outputs": [],
   "source": []
  }
 ],
 "metadata": {
  "kernelspec": {
   "display_name": "Python 3 (ipykernel)",
   "language": "python",
   "name": "python3"
  },
  "language_info": {
   "codemirror_mode": {
    "name": "ipython",
    "version": 3
   },
   "file_extension": ".py",
   "mimetype": "text/x-python",
   "name": "python",
   "nbconvert_exporter": "python",
   "pygments_lexer": "ipython3",
   "version": "3.9.17"
  }
 },
 "nbformat": 4,
 "nbformat_minor": 5
}
