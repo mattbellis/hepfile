{
 "cells": [
  {
   "cell_type": "code",
   "execution_count": 1,
   "id": "ecdc12e5-5fc5-4430-8084-57fb323d7164",
   "metadata": {},
   "outputs": [],
   "source": [
    "import numpy as np\n",
    "import hepfile as hf"
   ]
  },
  {
   "cell_type": "code",
   "execution_count": 2,
   "id": "3eba8e39-d244-43fa-b2a1-0f92d08d3702",
   "metadata": {},
   "outputs": [],
   "source": [
    "event1 = {\n",
    "    'jet': {\n",
    "        'px': [1,2,3],\n",
    "        'py': [1,2,3]\n",
    "     },\n",
    "    'muons': {\n",
    "        'px': [1,2,3],\n",
    "        'py': [1,2,3]\n",
    "     },\n",
    "    }\n",
    "\n",
    "event2 = {\n",
    "    'jet': {\n",
    "        'px': [3,4,6,7],\n",
    "        'py': [3,4,6,7]\n",
    "     },\n",
    "    'muons': {\n",
    "        'px': [3,4,6,7],\n",
    "        'py': [3,4,6,7],\n",
    "        },\n",
    "    }"
   ]
  },
  {
   "cell_type": "code",
   "execution_count": 3,
   "id": "3cf30e62-4291-4039-9f9f-b4112ce27f0a",
   "metadata": {},
   "outputs": [
    {
     "data": {
      "text/plain": [
       "{'jet': {'px': [1, 2, 3], 'py': [1, 2, 3]},\n",
       " 'muons': {'px': [1, 2, 3], 'py': [1, 2, 3]}}"
      ]
     },
     "execution_count": 3,
     "metadata": {},
     "output_type": "execute_result"
    }
   ],
   "source": [
    "event1"
   ]
  },
  {
   "cell_type": "code",
   "execution_count": 4,
   "id": "33153076-642f-4d6d-afea-5373bf2654d4",
   "metadata": {},
   "outputs": [],
   "source": [
    "\n",
    "data = hf.initialize()"
   ]
  },
  {
   "cell_type": "code",
   "execution_count": 5,
   "id": "b84e6d69-0871-4c1e-b665-0e2fe789f6c0",
   "metadata": {},
   "outputs": [
    {
     "data": {
      "text/plain": [
       "0"
      ]
     },
     "execution_count": 5,
     "metadata": {},
     "output_type": "execute_result"
    }
   ],
   "source": [
    "hf.create_group(data,'jet',counter='njet')\n",
    "hf.create_dataset(data,['px','py'],group='jet')\n",
    "\n",
    "hf.create_group(data,'muon',counter='nmuon')\n",
    "hf.create_dataset(data,['px','py'],group='muon')"
   ]
  },
  {
   "cell_type": "code",
   "execution_count": 6,
   "id": "28c4fb82-bae2-46a6-8196-380b141d424e",
   "metadata": {},
   "outputs": [
    {
     "data": {
      "text/plain": [
       "{'_GROUPS_': {'_SINGLETONS_GROUP_': ['COUNTER'],\n",
       "  'jet': ['njet', 'px', 'py'],\n",
       "  'muon': ['nmuon', 'px', 'py']},\n",
       " '_MAP_DATASETS_TO_COUNTERS_': {'_SINGLETONS_GROUP_': '_SINGLETONS_GROUP_/COUNTER',\n",
       "  'jet': 'jet/njet',\n",
       "  'jet/px': 'jet/njet',\n",
       "  'jet/py': 'jet/njet',\n",
       "  'muon': 'muon/nmuon',\n",
       "  'muon/px': 'muon/nmuon',\n",
       "  'muon/py': 'muon/nmuon'},\n",
       " '_LIST_OF_COUNTERS_': ['_SINGLETONS_GROUP_/COUNTER',\n",
       "  'jet/njet',\n",
       "  'muon/nmuon'],\n",
       " '_SINGLETONS_GROUP_/COUNTER': [],\n",
       " '_MAP_DATASETS_TO_DATA_TYPES_': {'_SINGLETONS_GROUP_/COUNTER': int,\n",
       "  'jet/njet': int,\n",
       "  'jet/px': float,\n",
       "  'jet/py': float,\n",
       "  'muon/nmuon': int,\n",
       "  'muon/px': float,\n",
       "  'muon/py': float},\n",
       " '_META_': {},\n",
       " 'jet/njet': [],\n",
       " 'jet/px': [],\n",
       " 'jet/py': [],\n",
       " 'muon/nmuon': [],\n",
       " 'muon/px': [],\n",
       " 'muon/py': []}"
      ]
     },
     "execution_count": 6,
     "metadata": {},
     "output_type": "execute_result"
    }
   ],
   "source": [
    "data"
   ]
  },
  {
   "cell_type": "code",
   "execution_count": 7,
   "id": "89369ddb-77ef-471a-ad51-54d8a0f18879",
   "metadata": {},
   "outputs": [
    {
     "data": {
      "text/plain": [
       "{'_GROUPS_': {'_SINGLETONS_GROUP_': ['COUNTER'],\n",
       "  'jet': ['njet', 'px', 'py'],\n",
       "  'muon': ['nmuon', 'px', 'py']},\n",
       " '_MAP_DATASETS_TO_COUNTERS_': {'_SINGLETONS_GROUP_': '_SINGLETONS_GROUP_/COUNTER',\n",
       "  'jet': 'jet/njet',\n",
       "  'jet/px': 'jet/njet',\n",
       "  'jet/py': 'jet/njet',\n",
       "  'muon': 'muon/nmuon',\n",
       "  'muon/px': 'muon/nmuon',\n",
       "  'muon/py': 'muon/nmuon'},\n",
       " '_LIST_OF_COUNTERS_': ['_SINGLETONS_GROUP_/COUNTER',\n",
       "  'jet/njet',\n",
       "  'muon/nmuon'],\n",
       " '_SINGLETONS_GROUP_/COUNTER': 0,\n",
       " '_MAP_DATASETS_TO_DATA_TYPES_': {'_SINGLETONS_GROUP_/COUNTER': int,\n",
       "  'jet/njet': int,\n",
       "  'jet/px': float,\n",
       "  'jet/py': float,\n",
       "  'muon/nmuon': int,\n",
       "  'muon/px': float,\n",
       "  'muon/py': float},\n",
       " '_META_': {},\n",
       " 'jet/njet': 0,\n",
       " 'jet/px': [],\n",
       " 'jet/py': [],\n",
       " 'muon/nmuon': 0,\n",
       " 'muon/px': [],\n",
       " 'muon/py': []}"
      ]
     },
     "execution_count": 7,
     "metadata": {},
     "output_type": "execute_result"
    }
   ],
   "source": [
    "bucket = hf.create_single_bucket(data)\n",
    "\n",
    "bucket"
   ]
  },
  {
   "cell_type": "code",
   "execution_count": 8,
   "id": "40ef0303-b9a4-47fe-8ef2-dc43b45f56dc",
   "metadata": {},
   "outputs": [
    {
     "ename": "KeyError",
     "evalue": "'jet/px'",
     "output_type": "error",
     "traceback": [
      "\u001b[0;31m---------------------------------------------------------------------------\u001b[0m",
      "\u001b[0;31mKeyError\u001b[0m                                  Traceback (most recent call last)",
      "Cell \u001b[0;32mIn[8], line 3\u001b[0m\n\u001b[1;32m      1\u001b[0m \u001b[38;5;28;01mfor\u001b[39;00m event \u001b[38;5;129;01min\u001b[39;00m [event1, event2]:\n\u001b[0;32m----> 3\u001b[0m     \u001b[43mhf\u001b[49m\u001b[38;5;241;43m.\u001b[39;49m\u001b[43mpack\u001b[49m\u001b[43m(\u001b[49m\u001b[43mdata\u001b[49m\u001b[43m,\u001b[49m\u001b[43m \u001b[49m\u001b[43mevent1\u001b[49m\u001b[43m)\u001b[49m\n",
      "File \u001b[0;32m~/research/hepfile/src/hepfile/write.py:339\u001b[0m, in \u001b[0;36mpack\u001b[0;34m(data, bucket, AUTO_SET_COUNTER, EMPTY_OUT_BUCKET, STRICT_CHECKING, verbose)\u001b[0m\n\u001b[1;32m    336\u001b[0m     \u001b[38;5;28;01mcontinue\u001b[39;00m\n\u001b[1;32m    337\u001b[0m \u001b[38;5;28;01melse\u001b[39;00m:\n\u001b[1;32m    338\u001b[0m     \u001b[38;5;66;03m# Grab the size of the first dataset\u001b[39;00m\n\u001b[0;32m--> 339\u001b[0m     temp_counter_value \u001b[38;5;241m=\u001b[39m \u001b[38;5;28mlen\u001b[39m(\u001b[43mbucket\u001b[49m\u001b[43m[\u001b[49m\u001b[43mfull_dataset_name\u001b[49m\u001b[43m]\u001b[49m)\n\u001b[1;32m    341\u001b[0m     \u001b[38;5;66;03m# If we're not STRICT_CHECKING, then use that value for the\u001b[39;00m\n\u001b[1;32m    342\u001b[0m     \u001b[38;5;66;03m# counter and break the loop over the datasets, moving on\u001b[39;00m\n\u001b[1;32m    343\u001b[0m     \u001b[38;5;66;03m# to the next group.\u001b[39;00m\n\u001b[1;32m    344\u001b[0m     \u001b[38;5;28;01mif\u001b[39;00m STRICT_CHECKING \u001b[38;5;129;01mis\u001b[39;00m \u001b[38;5;28;01mFalse\u001b[39;00m:\n",
      "\u001b[0;31mKeyError\u001b[0m: 'jet/px'"
     ]
    }
   ],
   "source": [
    "\n",
    "for event in [event1, event2]:\n",
    "\n",
    "    hf.pack(data, event1)"
   ]
  },
  {
   "cell_type": "code",
   "execution_count": null,
   "id": "28ee43ba-3e07-43a5-9c45-3ca7abe814da",
   "metadata": {},
   "outputs": [],
   "source": []
  }
 ],
 "metadata": {
  "kernelspec": {
   "display_name": "Python 3 (ipykernel)",
   "language": "python",
   "name": "python3"
  },
  "language_info": {
   "codemirror_mode": {
    "name": "ipython",
    "version": 3
   },
   "file_extension": ".py",
   "mimetype": "text/x-python",
   "name": "python",
   "nbconvert_exporter": "python",
   "pygments_lexer": "ipython3",
   "version": "3.9.16"
  }
 },
 "nbformat": 4,
 "nbformat_minor": 5
}
