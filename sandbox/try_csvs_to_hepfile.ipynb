{
 "cells": [
  {
   "cell_type": "markdown",
   "id": "7a158213-b057-487f-abf8-f92bf7623f8a",
   "metadata": {},
   "source": [
    "# CSVS to Hepfile\n",
    "\n",
    "Imagine we have a database like structure with multiple csvs all connected by a common ID. See the household exmaple here: https://hepfile.readthedocs.io/en/latest/fundamentals.html#a-toy-example "
   ]
  },
  {
   "cell_type": "code",
   "execution_count": 1,
   "id": "5e2b0b71-fbfe-422c-b2a0-c9b9d84a248b",
   "metadata": {},
   "outputs": [],
   "source": [
    "import os, glob\n",
    "import pandas as pd\n",
    "import numpy as np\n",
    "import awkward as ak\n",
    "import hepfile as hf"
   ]
  },
  {
   "cell_type": "code",
   "execution_count": 2,
   "id": "7ee4d028-519a-4429-87dc-fde0a2d5e102",
   "metadata": {},
   "outputs": [],
   "source": [
    "def csv_to_awkward(csvpaths:list[str], common_key:str, group_names:list=None) -> ak.Record:\n",
    "    \n",
    "    if group_names is None:\n",
    "        group_names = [os.path.split(file) for file in files]\n",
    "\n",
    "    for_ak = {}\n",
    "    for f, group_name in zip(files, group_names):\n",
    "\n",
    "        csv = pd.read_csv(f)\n",
    "\n",
    "        groups = csv.groupby(common_key)\n",
    "        split_groups = []\n",
    "        for item in groups.groups:\n",
    "            split_groups.append(groups.get_group(item))\n",
    "\n",
    "        subdict = {}\n",
    "        for grouping in split_groups:\n",
    "            for colname in grouping.columns:\n",
    "                if colname in subdict.keys():\n",
    "                    subdict[colname].append(list(grouping[colname].values))\n",
    "                else:\n",
    "                    subdict[colname] = [list(grouping[colname].values)]\n",
    "\n",
    "        for key in subdict.keys():\n",
    "            subdict[key] = ak.Array(subdict[key])\n",
    "\n",
    "        for_ak[group_name] = subdict\n",
    "        print(subdict)\n",
    "        print()\n",
    "        \n",
    "    return ak.Record(for_ak)"
   ]
  },
  {
   "cell_type": "code",
   "execution_count": 3,
   "id": "3e23dae1-98ac-44ee-a904-43fed1bc7bb5",
   "metadata": {},
   "outputs": [
    {
     "name": "stdout",
     "output_type": "stream",
     "text": [
      "{'Household ID': <Array [[0], [1], [2], [3]] type='4 * var * int64'>, 'House/apartment/condo': <Array [['House'], ['Apartment'], ..., ['House']] type='4 * var * string'>, '# of bedrooms': <Array [[4], [2], [2], [6]] type='4 * var * int64'>, '# of bathrooms': <Array [[2.5], [2], [1], [4.5]] type='4 * var * float64'>, 'Square footage': <Array [[1500], [1200], [1000], [4500]] type='4 * var * int64'>, 'Year built': <Array [[1955], [2002], [2014], [1998]] type='4 * var * int64'>, 'Estimate': <Array [[250000], [1400], [325000], [500000]] type='4 * var * int64'>}\n",
      "\n",
      "{'Household ID': <Array [[0, 0, 0, 0], [...], ..., [3, 3, 3, 3, 3, 3, 3]] type='4 * var * int64'>, 'First name': <Array [['blah', 'blah', 'blah', 'blah'], ..., [...]] type='4 * var * string'>, 'Last name': <Array [['blah', 'blah', 'blah', 'blah'], ..., [...]] type='4 * var * string'>, 'Gender ID': <Array [['M', 'F', 'NB', 'F'], ..., ['M', ..., 'F']] type='4 * var * string'>, 'Age': <Array [[54, 52, 18, 14], ..., [54, 52, ..., 11, 65]] type='4 * var * int64'>, 'Height': <Array [[159, 140, 168, 150], ..., [159, 140, ..., 140]] type='4 * var * int64'>, 'Yearly income': <Array [[75000, 80000, 0, 0], ..., [75000, ..., 0]] type='4 * var * int64'>, 'Highest degree/grade': <Array [['BS', 'MS', '12', '9'], ..., ['BS', ...]] type='4 * var * string'>}\n",
      "\n",
      "{'Household ID': <Array [[0, 0, 0, 0, 0, 0], [2], [3, 3]] type='3 * var * int64'>, 'Type of vehicle': <Array [['Car', 'Car', ..., 'Bike', 'Bike'], ...] type='3 * var * string'>, '# of riders': <Array [[4, 5, 1, 1, 1, 1], [7], [2, 7]] type='3 * var * int64'>, 'Gas/electric/human powered': <Array [['Gas', 'Electric', ..., 'Human'], ..., [...]] type='3 * var * string'>, 'Year': <Array [[2005, 2018, 2015, 2015, 2015, 2015], ...] type='3 * var * int64'>, 'Cost': <Array [[25000, 40000, 500, 500, 500, 500], ..., [...]] type='3 * var * int64'>}\n",
      "\n"
     ]
    }
   ],
   "source": [
    "datapath = os.path.join('/', 'home', 'nfranz', 'research', 'hepfile', 'docs', 'example_nb', '*.csv')\n",
    "files = glob.glob(datapath)\n",
    "common_key = 'Household ID'\n",
    "group_names = ['Residences', 'People', 'Vehicles']\n",
    "awk = csv_to_awkward(files, common_key, group_names=group_names)"
   ]
  },
  {
   "cell_type": "code",
   "execution_count": 7,
   "id": "53f2a7c7-3c94-4db5-af8e-c99f70d184ca",
   "metadata": {
    "collapsed": true,
    "jupyter": {
     "outputs_hidden": true
    },
    "tags": []
   },
   "outputs": [
    {
     "name": "stdout",
     "output_type": "stream",
     "text": [
      "Adding group \u001b[1mResidences\u001b[0m\n",
      "Adding a counter for \u001b[1mResidences\u001b[0m as \u001b[1mnResidences\u001b[0m\n",
      "Adding dataset \u001b[1mHousehold ID\u001b[0m to the dictionary under group \u001b[1mResidences\u001b[0m.\n",
      "----------------------------------------------------\n",
      "Slashes / are not allowed in dataset names\n",
      "Replacing / with - in dataset name House/apartment/condo\n",
      "The new name will be House-apartment-condo\n",
      "----------------------------------------------------\n",
      "Adding dataset \u001b[1mHouse-apartment-condo\u001b[0m to the dictionary under group \u001b[1mResidences\u001b[0m.\n",
      "Adding dataset \u001b[1m# of bedrooms\u001b[0m to the dictionary under group \u001b[1mResidences\u001b[0m.\n",
      "Adding dataset \u001b[1m# of bathrooms\u001b[0m to the dictionary under group \u001b[1mResidences\u001b[0m.\n",
      "Adding dataset \u001b[1mSquare footage\u001b[0m to the dictionary under group \u001b[1mResidences\u001b[0m.\n",
      "Adding dataset \u001b[1mYear built\u001b[0m to the dictionary under group \u001b[1mResidences\u001b[0m.\n",
      "Adding dataset \u001b[1mEstimate\u001b[0m to the dictionary under group \u001b[1mResidences\u001b[0m.\n",
      "Adding group \u001b[1mPeople\u001b[0m\n",
      "Adding a counter for \u001b[1mPeople\u001b[0m as \u001b[1mnPeople\u001b[0m\n",
      "Adding dataset \u001b[1mHousehold ID\u001b[0m to the dictionary under group \u001b[1mPeople\u001b[0m.\n",
      "Adding dataset \u001b[1mFirst name\u001b[0m to the dictionary under group \u001b[1mPeople\u001b[0m.\n",
      "Adding dataset \u001b[1mLast name\u001b[0m to the dictionary under group \u001b[1mPeople\u001b[0m.\n",
      "Adding dataset \u001b[1mGender ID\u001b[0m to the dictionary under group \u001b[1mPeople\u001b[0m.\n",
      "Adding dataset \u001b[1mAge\u001b[0m to the dictionary under group \u001b[1mPeople\u001b[0m.\n",
      "Adding dataset \u001b[1mHeight\u001b[0m to the dictionary under group \u001b[1mPeople\u001b[0m.\n",
      "Adding dataset \u001b[1mYearly income\u001b[0m to the dictionary under group \u001b[1mPeople\u001b[0m.\n",
      "----------------------------------------------------\n",
      "Slashes / are not allowed in dataset names\n",
      "Replacing / with - in dataset name Highest degree/grade\n",
      "The new name will be Highest degree-grade\n",
      "----------------------------------------------------\n",
      "Adding dataset \u001b[1mHighest degree-grade\u001b[0m to the dictionary under group \u001b[1mPeople\u001b[0m.\n",
      "Adding group \u001b[1mVehicles\u001b[0m\n",
      "Adding a counter for \u001b[1mVehicles\u001b[0m as \u001b[1mnVehicles\u001b[0m\n",
      "Adding dataset \u001b[1mHousehold ID\u001b[0m to the dictionary under group \u001b[1mVehicles\u001b[0m.\n",
      "Adding dataset \u001b[1mType of vehicle\u001b[0m to the dictionary under group \u001b[1mVehicles\u001b[0m.\n",
      "Adding dataset \u001b[1m# of riders\u001b[0m to the dictionary under group \u001b[1mVehicles\u001b[0m.\n",
      "----------------------------------------------------\n",
      "Slashes / are not allowed in dataset names\n",
      "Replacing / with - in dataset name Gas/electric/human powered\n",
      "The new name will be Gas-electric-human powered\n",
      "----------------------------------------------------\n",
      "Adding dataset \u001b[1mGas-electric-human powered\u001b[0m to the dictionary under group \u001b[1mVehicles\u001b[0m.\n",
      "Adding dataset \u001b[1mYear\u001b[0m to the dictionary under group \u001b[1mVehicles\u001b[0m.\n",
      "Adding dataset \u001b[1mCost\u001b[0m to the dictionary under group \u001b[1mVehicles\u001b[0m.\n",
      "Writing the hdf5 file from the awkward array...\n",
      "{'_SINGLETONS_GROUP_/COUNTER': <class 'int'>, 'Residences/nResidences': <class 'int'>, 'Residences/Household ID': <class 'numpy.int64'>, 'Residences/House-apartment-condo': <class 'str'>, 'Residences/# of bedrooms': <class 'numpy.int64'>, 'Residences/# of bathrooms': <class 'numpy.float64'>, 'Residences/Square footage': <class 'numpy.int64'>, 'Residences/Year built': <class 'numpy.int64'>, 'Residences/Estimate': <class 'numpy.int64'>, 'People/nPeople': <class 'int'>, 'People/Household ID': <class 'numpy.int64'>, 'People/First name': <class 'str'>, 'People/Last name': <class 'str'>, 'People/Gender ID': <class 'str'>, 'People/Age': <class 'numpy.int64'>, 'People/Height': <class 'numpy.int64'>, 'People/Yearly income': <class 'numpy.int64'>, 'People/Highest degree-grade': <class 'str'>, 'Vehicles/nVehicles': <class 'int'>, 'Vehicles/Household ID': <class 'numpy.int64'>, 'Vehicles/Type of vehicle': <class 'str'>, 'Vehicles/# of riders': <class 'numpy.int64'>, 'Vehicles/Gas-electric-human powered': <class 'str'>, 'Vehicles/Year': <class 'numpy.int64'>, 'Vehicles/Cost': <class 'numpy.int64'>}\n",
      "_SINGLETONS_GROUP_/COUNTER       has 0            entries\n",
      "Residences/nResidences           has 4            entries\n",
      "-------- WARNING -----------\n",
      "Residences/nResidences and _SINGLETONS_GROUP_/COUNTER have differing numbers of entries!\n",
      "-------- WARNING -----------\n",
      "People/nPeople                   has 4            entries\n",
      "Vehicles/nVehicles               has 3            entries\n",
      "-------- WARNING -----------\n",
      "Vehicles/nVehicles and People/nPeople have differing numbers of entries!\n",
      "-------- WARNING -----------\n",
      "Metadata added\n"
     ]
    },
    {
     "data": {
      "text/plain": [
       "{'_GROUPS_': {'_SINGLETONS_GROUP_': ['COUNTER'],\n",
       "  'Residences': ['nResidences',\n",
       "   'Household ID',\n",
       "   'House-apartment-condo',\n",
       "   '# of bedrooms',\n",
       "   '# of bathrooms',\n",
       "   'Square footage',\n",
       "   'Year built',\n",
       "   'Estimate'],\n",
       "  'People': ['nPeople',\n",
       "   'Household ID',\n",
       "   'First name',\n",
       "   'Last name',\n",
       "   'Gender ID',\n",
       "   'Age',\n",
       "   'Height',\n",
       "   'Yearly income',\n",
       "   'Highest degree-grade'],\n",
       "  'Vehicles': ['nVehicles',\n",
       "   'Household ID',\n",
       "   'Type of vehicle',\n",
       "   '# of riders',\n",
       "   'Gas-electric-human powered',\n",
       "   'Year',\n",
       "   'Cost']},\n",
       " '_MAP_DATASETS_TO_COUNTERS_': {'_SINGLETONS_GROUP_': '_SINGLETONS_GROUP_/COUNTER',\n",
       "  'Residences': 'Residences/nResidences',\n",
       "  'Residences/Household ID': 'Residences/nResidences',\n",
       "  'Residences/House-apartment-condo': 'Residences/nResidences',\n",
       "  'Residences/# of bedrooms': 'Residences/nResidences',\n",
       "  'Residences/# of bathrooms': 'Residences/nResidences',\n",
       "  'Residences/Square footage': 'Residences/nResidences',\n",
       "  'Residences/Year built': 'Residences/nResidences',\n",
       "  'Residences/Estimate': 'Residences/nResidences',\n",
       "  'People': 'People/nPeople',\n",
       "  'People/Household ID': 'People/nPeople',\n",
       "  'People/First name': 'People/nPeople',\n",
       "  'People/Last name': 'People/nPeople',\n",
       "  'People/Gender ID': 'People/nPeople',\n",
       "  'People/Age': 'People/nPeople',\n",
       "  'People/Height': 'People/nPeople',\n",
       "  'People/Yearly income': 'People/nPeople',\n",
       "  'People/Highest degree-grade': 'People/nPeople',\n",
       "  'Vehicles': 'Vehicles/nVehicles',\n",
       "  'Vehicles/Household ID': 'Vehicles/nVehicles',\n",
       "  'Vehicles/Type of vehicle': 'Vehicles/nVehicles',\n",
       "  'Vehicles/# of riders': 'Vehicles/nVehicles',\n",
       "  'Vehicles/Gas-electric-human powered': 'Vehicles/nVehicles',\n",
       "  'Vehicles/Year': 'Vehicles/nVehicles',\n",
       "  'Vehicles/Cost': 'Vehicles/nVehicles'},\n",
       " '_LIST_OF_COUNTERS_': ['_SINGLETONS_GROUP_/COUNTER',\n",
       "  'Residences/nResidences',\n",
       "  'People/nPeople',\n",
       "  'Vehicles/nVehicles'],\n",
       " '_SINGLETONS_GROUP_/COUNTER': [],\n",
       " '_MAP_DATASETS_TO_DATA_TYPES_': {'_SINGLETONS_GROUP_/COUNTER': int,\n",
       "  'Residences/nResidences': int,\n",
       "  'Residences/Household ID': numpy.int64,\n",
       "  'Residences/House-apartment-condo': str,\n",
       "  'Residences/# of bedrooms': numpy.int64,\n",
       "  'Residences/# of bathrooms': numpy.float64,\n",
       "  'Residences/Square footage': numpy.int64,\n",
       "  'Residences/Year built': numpy.int64,\n",
       "  'Residences/Estimate': numpy.int64,\n",
       "  'People/nPeople': int,\n",
       "  'People/Household ID': numpy.int64,\n",
       "  'People/First name': str,\n",
       "  'People/Last name': str,\n",
       "  'People/Gender ID': str,\n",
       "  'People/Age': numpy.int64,\n",
       "  'People/Height': numpy.int64,\n",
       "  'People/Yearly income': numpy.int64,\n",
       "  'People/Highest degree-grade': str,\n",
       "  'Vehicles/nVehicles': int,\n",
       "  'Vehicles/Household ID': numpy.int64,\n",
       "  'Vehicles/Type of vehicle': str,\n",
       "  'Vehicles/# of riders': numpy.int64,\n",
       "  'Vehicles/Gas-electric-human powered': str,\n",
       "  'Vehicles/Year': numpy.int64,\n",
       "  'Vehicles/Cost': numpy.int64},\n",
       " '_PROTECTED_NAMES_': ['_PROTECTED_NAMES_',\n",
       "  '_GROUPS_',\n",
       "  '_MAP_DATASETS_TO_COUNTERS_',\n",
       "  '_MAP_DATASETS_TO_DATA_TYPES__LIST_OF_COUNTERS_',\n",
       "  '_SINGLETONS_GROUP_/COUNTER'],\n",
       " 'Residences/nResidences': <Array [1, 1, 1, 1] type='4 * int64'>,\n",
       " 'Residences/Household ID': <Array [0, 1, 2, 3] type='4 * int64'>,\n",
       " 'Residences/House-apartment-condo': <Array ['House', 'Apartment', 'Condo', 'House'] type='4 * string'>,\n",
       " 'Residences/# of bedrooms': <Array [4, 2, 2, 6] type='4 * int64'>,\n",
       " 'Residences/# of bathrooms': <Array [2.5, 2, 1, 4.5] type='4 * float64'>,\n",
       " 'Residences/Square footage': <Array [1500, 1200, 1000, 4500] type='4 * int64'>,\n",
       " 'Residences/Year built': <Array [1955, 2002, 2014, 1998] type='4 * int64'>,\n",
       " 'Residences/Estimate': <Array [250000, 1400, 325000, 500000] type='4 * int64'>,\n",
       " 'People/nPeople': <Array [4, 2, 1, 7] type='4 * int64'>,\n",
       " 'People/Household ID': <Array [0, 0, 0, 0, 1, 1, 2, 3, 3, 3, 3, 3, 3, 3] type='14 * int64'>,\n",
       " 'People/First name': <Array ['blah', 'blah', 'blah', ..., 'blah', 'blah', 'blah'] type='14 * string'>,\n",
       " 'People/Last name': <Array ['blah', 'blah', 'blah', ..., 'blah', 'blah', 'blah'] type='14 * string'>,\n",
       " 'People/Gender ID': <Array ['M', 'F', 'NB', 'F', 'M', ..., 'F', 'M', 'M', 'F'] type='14 * string'>,\n",
       " 'People/Age': <Array [54, 52, 18, 14, 32, 27, ..., 52, 18, 14, 12, 11, 65] type='14 * int64'>,\n",
       " 'People/Height': <Array [159, 140, 168, 150, 159, ..., 150, 159, 140, 140] type='14 * int64'>,\n",
       " 'People/Yearly income': <Array [75000, 80000, 0, 0, 49000, 40000, ..., 0, 0, 0, 0, 0] type='14 * int64'>,\n",
       " 'People/Highest degree-grade': <Array ['BS', 'MS', '12', '9', ..., '9', '8', '7', '12'] type='14 * string'>,\n",
       " 'Vehicles/nVehicles': <Array [6, 1, 2] type='3 * int64'>,\n",
       " 'Vehicles/Household ID': <Array [0, 0, 0, 0, 0, 0, 2, 3, 3] type='9 * int64'>,\n",
       " 'Vehicles/Type of vehicle': <Array ['Car', 'Car', 'Bike', ..., 'Car', 'Car', 'Car'] type='9 * string'>,\n",
       " 'Vehicles/# of riders': <Array [4, 5, 1, 1, 1, 1, 7, 2, 7] type='9 * int64'>,\n",
       " 'Vehicles/Gas-electric-human powered': <Array ['Gas', 'Electric', 'Human', ..., 'Gas', 'Gas', 'Gas'] type='9 * string'>,\n",
       " 'Vehicles/Year': <Array [2005, 2018, 2015, 2015, ..., 2015, 2012, 2005, 2018] type='9 * int64'>,\n",
       " 'Vehicles/Cost': <Array [25000, 40000, 500, 500, ..., 500, 45000, 25000, 40000] type='9 * int64'>}"
      ]
     },
     "execution_count": 7,
     "metadata": {},
     "output_type": "execute_result"
    }
   ],
   "source": [
    "hf.awkward_tools.awkward_to_hepfile(awk, 'testing_csv_translation.h5')"
   ]
  },
  {
   "cell_type": "code",
   "execution_count": 10,
   "id": "333279de-04ab-4710-a176-cb9b30b81e8b",
   "metadata": {},
   "outputs": [
    {
     "name": "stdout",
     "output_type": "stream",
     "text": [
      "Building the indices...\n",
      "\n",
      "Built the indices!\n",
      "Data is read in and input file is closed.\n",
      "['People' 'Residences' 'Vehicles'] ['People', 'People/Age', 'People/First name', 'People/Gender ID', 'People/Height', 'People/Highest degree-grade', 'People/Household ID', 'People/Last name', 'People/Yearly income', 'People/nPeople', 'Residences', 'Residences/# of bathrooms', 'Residences/# of bedrooms', 'Residences/Estimate', 'Residences/House-apartment-condo', 'Residences/Household ID', 'Residences/Square footage', 'Residences/Year built', 'Residences/nResidences', 'Vehicles', 'Vehicles/# of riders', 'Vehicles/Cost', 'Vehicles/Gas-electric-human powered', 'Vehicles/Household ID', 'Vehicles/Type of vehicle', 'Vehicles/Year', 'Vehicles/nVehicles', '_SINGLETONS_GROUP_', '_SINGLETONS_GROUP_/COUNTER']\n"
     ]
    }
   ],
   "source": [
    "data, _ = hf.load('testing_csv_translation.h5', return_awkward=True)"
   ]
  },
  {
   "cell_type": "code",
   "execution_count": 11,
   "id": "e222f6fc-ae8b-46b0-a7a4-4aa9de844c98",
   "metadata": {},
   "outputs": [
    {
     "data": {
      "text/html": [
       "<pre>{People: [{Age: [54, 52, 18, 14], &#x27;First name&#x27;: [...], ...}, {...}, ..., {...}],\n",
       " Residences: [{&#x27;# of bathrooms&#x27;: [2.5], &#x27;# of bedrooms&#x27;: [4], ...}, ..., {...}],\n",
       " Vehicles: [{&#x27;# of riders&#x27;: [4, 5, 1, ..., 1, 1], Cost: [...], ...}, ...]}\n",
       "--------------------------------------------------------------------------------\n",
       "type: {\n",
       "    People: 4 * {\n",
       "        Age: var * int64,\n",
       "        &quot;First name&quot;: var * bytes,\n",
       "        &quot;Gender ID&quot;: var * bytes,\n",
       "        Height: var * int64,\n",
       "        &quot;Highest degree-grade&quot;: var * bytes,\n",
       "        &quot;Household ID&quot;: var * int64,\n",
       "        &quot;Last name&quot;: var * bytes,\n",
       "        &quot;Yearly income&quot;: var * int64\n",
       "    },\n",
       "    Residences: 4 * {\n",
       "        &quot;# of bathrooms&quot;: var * float64,\n",
       "        &quot;# of bedrooms&quot;: var * int64,\n",
       "        Estimate: var * int64,\n",
       "        &quot;House-apartment-condo&quot;: var * bytes,\n",
       "        &quot;Household ID&quot;: var * int64,\n",
       "        &quot;Square footage&quot;: var * int64,\n",
       "        &quot;Year built&quot;: var * int64\n",
       "    },\n",
       "    Vehicles: 3 * {\n",
       "        &quot;# of riders&quot;: var * int64,\n",
       "        Cost: var * int64,\n",
       "        &quot;Gas-electric-human powered&quot;: var * bytes,\n",
       "        &quot;Household ID&quot;: var * int64,\n",
       "        &quot;Type of vehicle&quot;: var * bytes,\n",
       "        Year: var * int64\n",
       "    }\n",
       "}</pre>"
      ],
      "text/plain": [
       "<Record {People: [{...}, ...], ...} type='{People: 4 * {Age: var * int64, \"...'>"
      ]
     },
     "execution_count": 11,
     "metadata": {},
     "output_type": "execute_result"
    }
   ],
   "source": [
    "data"
   ]
  },
  {
   "cell_type": "code",
   "execution_count": null,
   "id": "22c43fcb-9829-4920-9a7f-7b5a5d70a8a8",
   "metadata": {},
   "outputs": [],
   "source": []
  }
 ],
 "metadata": {
  "kernelspec": {
   "display_name": "Python 3 (ipykernel)",
   "language": "python",
   "name": "python3"
  },
  "language_info": {
   "codemirror_mode": {
    "name": "ipython",
    "version": 3
   },
   "file_extension": ".py",
   "mimetype": "text/x-python",
   "name": "python",
   "nbconvert_exporter": "python",
   "pygments_lexer": "ipython3",
   "version": "3.9.16"
  }
 },
 "nbformat": 4,
 "nbformat_minor": 5
}
