{
 "cells": [
  {
   "cell_type": "markdown",
   "id": "7a158213-b057-487f-abf8-f92bf7623f8a",
   "metadata": {},
   "source": [
    "# CSVS to Hepfile\n",
    "\n",
    "Imagine we have a database like structure with multiple csvs all connected by a common ID. See the household exmaple here: https://hepfile.readthedocs.io/en/latest/fundamentals.html#a-toy-example "
   ]
  },
  {
   "cell_type": "code",
   "execution_count": null,
   "id": "5e2b0b71-fbfe-422c-b2a0-c9b9d84a248b",
   "metadata": {},
   "outputs": [],
   "source": [
    "import os, glob\n",
    "import pandas as pd\n",
    "import numpy as np\n",
    "import awkward as ak\n",
    "import hepfile as hf"
   ]
  },
  {
   "cell_type": "code",
   "execution_count": null,
   "id": "7ee4d028-519a-4429-87dc-fde0a2d5e102",
   "metadata": {},
   "outputs": [],
   "source": [
    "datapath = os.path.join('/', 'home', 'nfranz', 'research', 'hepfile', 'examples', '*.csv')\n",
    "files = glob.glob(datapath)\n",
    "common_key = 'Household ID'\n",
    "group_names = ['Residences', 'People', 'Vehicles']\n",
    "\n",
    "if group_names is None:\n",
    "    group_names = [os.path.split(file) for file in files]\n",
    "\n",
    "for_ak = {}\n",
    "for f, group_name in zip(files, group_names):\n",
    "    \n",
    "    csv = pd.read_csv(f)\n",
    "    \n",
    "    groups = csv.groupby(common_key)\n",
    "    split_groups = []\n",
    "    for item in groups.groups:\n",
    "        split_groups.append(groups.get_group(item))\n",
    "    \n",
    "    subdict = {}\n",
    "    for grouping in split_groups:\n",
    "        for colname in grouping.columns:\n",
    "            if colname in subdict.keys():\n",
    "                subdict[colname].append(list(grouping[colname].values))\n",
    "            else:\n",
    "                subdict[colname] = [list(grouping[colname].values)]\n",
    "                \n",
    "    for key in subdict.keys():\n",
    "        subdict[key] = ak.Array(subdict[key])\n",
    "        \n",
    "    \n",
    "    for_ak[group_name] = subdict\n",
    "for_ak"
   ]
  },
  {
   "cell_type": "code",
   "execution_count": null,
   "id": "53f2a7c7-3c94-4db5-af8e-c99f70d184ca",
   "metadata": {},
   "outputs": [],
   "source": [
    "hf.awkward_tools.awkward_to_hepfile(for_ak, 'testing_csv_translation.h5')"
   ]
  },
  {
   "cell_type": "code",
   "execution_count": null,
   "id": "333279de-04ab-4710-a176-cb9b30b81e8b",
   "metadata": {},
   "outputs": [],
   "source": []
  }
 ],
 "metadata": {
  "kernelspec": {
   "display_name": "Python 3 (ipykernel)",
   "language": "python",
   "name": "python3"
  },
  "language_info": {
   "codemirror_mode": {
    "name": "ipython",
    "version": 3
   },
   "file_extension": ".py",
   "mimetype": "text/x-python",
   "name": "python",
   "nbconvert_exporter": "python",
   "pygments_lexer": "ipython3",
   "version": "3.9.16"
  }
 },
 "nbformat": 4,
 "nbformat_minor": 5
}
