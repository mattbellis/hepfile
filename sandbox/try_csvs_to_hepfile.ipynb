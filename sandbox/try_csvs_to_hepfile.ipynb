{
 "cells": [
  {
   "cell_type": "markdown",
   "id": "625365c5-6ba4-474a-8927-85473ac2908a",
   "metadata": {},
   "source": [
    "# CSVS to Hepfile\n",
    "Imagine we have a database like structure with multiple csvs all connected by a common ID. See the household exmaple here: https://hepfile.readthedocs.io/en/latest/fundamentals.html#a-toy-example"
   ]
  },
  {
   "cell_type": "code",
   "execution_count": 1,
   "id": "ad3bfb6f-e279-4d98-b06b-1b61db157237",
   "metadata": {},
   "outputs": [],
   "source": [
    "import os, glob\n",
    "import numpy as np\n",
    "import pandas as pd\n",
    "import awkward as ak\n",
    "import hepfile as hf"
   ]
  },
  {
   "cell_type": "code",
   "execution_count": 2,
   "id": "95bdabd3-31a6-4aa1-9989-9d5f4a514ef2",
   "metadata": {},
   "outputs": [
    {
     "name": "stdout",
     "output_type": "stream",
     "text": [
      "----------------------------------------------------\n",
      "Slashes / are not allowed in dataset names\n",
      "Replacing / with - in dataset name Highest degree/grade\n",
      "The new name will be Highest degree-grade\n",
      "----------------------------------------------------\n",
      "----------------------------------------------------\n",
      "Slashes / are not allowed in dataset names\n",
      "Replacing / with - in dataset name Gas/electric/human powered\n",
      "The new name will be Gas-electric-human powered\n",
      "----------------------------------------------------\n",
      "----------------------------------------------------\n",
      "Slashes / are not allowed in dataset names\n",
      "Replacing / with - in dataset name House/apartment/condo\n",
      "The new name will be House-apartment-condo\n",
      "----------------------------------------------------\n",
      "Writing the hdf5 file from the awkward array...\n",
      "Metadata added\n"
     ]
    },
    {
     "name": "stderr",
     "output_type": "stream",
     "text": [
      "/home/nfranz/research/hepfile/src/hepfile/write.py:658: UserWarning: Residences/nResidences and _SINGLETONS_GROUP_/COUNTER have differing numbers of entries!\n",
      "  warnings.warn(f\"{countername} and {prevcounter} have differing numbers of entries!\")\n",
      "/home/nfranz/research/hepfile/src/hepfile/write.py:658: UserWarning: People/nPeople and Residences/nResidences have differing numbers of entries!\n",
      "  warnings.warn(f\"{countername} and {prevcounter} have differing numbers of entries!\")\n"
     ]
    }
   ],
   "source": [
    "\n",
    "datapath = os.path.join('/', 'home', 'nfranz', 'research', 'hepfile', 'docs', 'example_nb', '*.csv')\n",
    "files = glob.glob(datapath)\n",
    "common_key = 'Household ID'\n",
    "group_names = ['Residences', 'People', 'Vehicles']\n",
    "awk = hf.csv_tools.csv_to_hepfile(files, common_key, outfile='test-csv.h5', group_names=group_names)"
   ]
  },
  {
   "cell_type": "code",
   "execution_count": 3,
   "id": "ff2132ac-809e-4e9e-828c-2cd62b9e2758",
   "metadata": {},
   "outputs": [
    {
     "name": "stdout",
     "output_type": "stream",
     "text": [
      "Building the indices...\n",
      "\n",
      "Built the indices!\n",
      "Data is read in and input file is closed.\n"
     ]
    },
    {
     "name": "stderr",
     "output_type": "stream",
     "text": [
      "/home/nfranz/research/hepfile/src/hepfile/awkward_tools.py:63: UserWarning: Cannont convert to an Awkward Array because dict arrays have different lengths! Returning an Awkward Record instead.\n",
      "  warnings.warn('Cannont convert to an Awkward Array because dict arrays have different lengths! Returning an Awkward Record instead.')\n"
     ]
    },
    {
     "data": {
      "text/html": [
       "<pre>{People: [{&#x27;# of riders&#x27;: [4, 5, 1, ..., 1, 1], Cost: [...], ...}, ..., {...}],\n",
       " Residences: [{Age: [54, 52, 18, 14], &#x27;First name&#x27;: [...], ...}, ..., {...}],\n",
       " Vehicles: [{&#x27;# of bathrooms&#x27;: [2.5], &#x27;# of bedrooms&#x27;: [4], ...}, ..., {...}]}\n",
       "-------------------------------------------------------------------------------\n",
       "type: {\n",
       "    People: 3 * {\n",
       "        &quot;# of riders&quot;: var * int64,\n",
       "        Cost: var * int64,\n",
       "        &quot;Gas-electric-human powered&quot;: var * bytes,\n",
       "        &quot;Household ID&quot;: var * int64,\n",
       "        &quot;Type of vehicle&quot;: var * bytes,\n",
       "        Year: var * int64\n",
       "    },\n",
       "    Residences: 4 * {\n",
       "        Age: var * int64,\n",
       "        &quot;First name&quot;: var * bytes,\n",
       "        &quot;Gender ID&quot;: var * bytes,\n",
       "        Height: var * int64,\n",
       "        &quot;Highest degree-grade&quot;: var * bytes,\n",
       "        &quot;Household ID&quot;: var * int64,\n",
       "        &quot;Last name&quot;: var * bytes,\n",
       "        &quot;Yearly income&quot;: var * int64\n",
       "    },\n",
       "    Vehicles: 4 * {\n",
       "        &quot;# of bathrooms&quot;: var * float64,\n",
       "        &quot;# of bedrooms&quot;: var * int64,\n",
       "        Estimate: var * int64,\n",
       "        &quot;House-apartment-condo&quot;: var * bytes,\n",
       "        &quot;Household ID&quot;: var * int64,\n",
       "        &quot;Square footage&quot;: var * int64,\n",
       "        &quot;Year built&quot;: var * int64\n",
       "    }\n",
       "}</pre>"
      ],
      "text/plain": [
       "<Record {People: [{...}, ...], ...} type='{People: 3 * {\"# of riders\": var ...'>"
      ]
     },
     "execution_count": 3,
     "metadata": {},
     "output_type": "execute_result"
    }
   ],
   "source": [
    "data, _ = hf.load('test-csv.h5', return_awkward=True)\n",
    "\n",
    "data"
   ]
  },
  {
   "cell_type": "code",
   "execution_count": null,
   "id": "8230676f-529f-49cc-a8f3-4999259a2da4",
   "metadata": {},
   "outputs": [],
   "source": []
  }
 ],
 "metadata": {
  "kernelspec": {
   "display_name": "Python 3 (ipykernel)",
   "language": "python",
   "name": "python3"
  },
  "language_info": {
   "codemirror_mode": {
    "name": "ipython",
    "version": 3
   },
   "file_extension": ".py",
   "mimetype": "text/x-python",
   "name": "python",
   "nbconvert_exporter": "python",
   "pygments_lexer": "ipython3",
   "version": "3.9.16"
  }
 },
 "nbformat": 4,
 "nbformat_minor": 5
}
