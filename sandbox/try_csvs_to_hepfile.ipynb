{
 "cells": [
  {
   "cell_type": "markdown",
   "id": "7a158213-b057-487f-abf8-f92bf7623f8a",
   "metadata": {},
   "source": [
    "# CSVS to Hepfile\n",
    "\n",
    "Imagine we have a database like structure with multiple csvs all connected by a common ID. See the household exmaple here: https://hepfile.readthedocs.io/en/latest/fundamentals.html#a-toy-example "
   ]
  },
  {
   "cell_type": "code",
   "execution_count": 1,
   "id": "5e2b0b71-fbfe-422c-b2a0-c9b9d84a248b",
   "metadata": {},
   "outputs": [],
   "source": [
    "import os, glob\n",
    "import numpy as np\n",
    "import pandas as pd\n",
    "import awkward as ak\n",
    "import hepfile as hf"
   ]
  },
  {
   "cell_type": "code",
   "execution_count": 2,
   "id": "3e23dae1-98ac-44ee-a904-43fed1bc7bb5",
   "metadata": {},
   "outputs": [
    {
     "name": "stdout",
     "output_type": "stream",
     "text": [
      "Adding group \u001b[1mResidences\u001b[0m\n",
      "Adding a counter for \u001b[1mResidences\u001b[0m as \u001b[1mnResidences\u001b[0m\n",
      "Adding dataset \u001b[1mHousehold ID\u001b[0m to the dictionary under group \u001b[1mResidences\u001b[0m.\n",
      "----------------------------------------------------\n",
      "Slashes / are not allowed in dataset names\n",
      "Replacing / with - in dataset name House/apartment/condo\n",
      "The new name will be House-apartment-condo\n",
      "----------------------------------------------------\n",
      "Adding dataset \u001b[1mHouse-apartment-condo\u001b[0m to the dictionary under group \u001b[1mResidences\u001b[0m.\n",
      "Adding dataset \u001b[1m# of bedrooms\u001b[0m to the dictionary under group \u001b[1mResidences\u001b[0m.\n",
      "Adding dataset \u001b[1m# of bathrooms\u001b[0m to the dictionary under group \u001b[1mResidences\u001b[0m.\n",
      "Adding dataset \u001b[1mSquare footage\u001b[0m to the dictionary under group \u001b[1mResidences\u001b[0m.\n",
      "Adding dataset \u001b[1mYear built\u001b[0m to the dictionary under group \u001b[1mResidences\u001b[0m.\n",
      "Adding dataset \u001b[1mEstimate\u001b[0m to the dictionary under group \u001b[1mResidences\u001b[0m.\n",
      "Adding group \u001b[1mPeople\u001b[0m\n",
      "Adding a counter for \u001b[1mPeople\u001b[0m as \u001b[1mnPeople\u001b[0m\n",
      "Adding dataset \u001b[1mHousehold ID\u001b[0m to the dictionary under group \u001b[1mPeople\u001b[0m.\n",
      "Adding dataset \u001b[1mFirst name\u001b[0m to the dictionary under group \u001b[1mPeople\u001b[0m.\n",
      "Adding dataset \u001b[1mLast name\u001b[0m to the dictionary under group \u001b[1mPeople\u001b[0m.\n",
      "Adding dataset \u001b[1mGender ID\u001b[0m to the dictionary under group \u001b[1mPeople\u001b[0m.\n",
      "Adding dataset \u001b[1mAge\u001b[0m to the dictionary under group \u001b[1mPeople\u001b[0m.\n",
      "Adding dataset \u001b[1mHeight\u001b[0m to the dictionary under group \u001b[1mPeople\u001b[0m.\n",
      "Adding dataset \u001b[1mYearly income\u001b[0m to the dictionary under group \u001b[1mPeople\u001b[0m.\n",
      "----------------------------------------------------\n",
      "Slashes / are not allowed in dataset names\n",
      "Replacing / with - in dataset name Highest degree/grade\n",
      "The new name will be Highest degree-grade\n",
      "----------------------------------------------------\n",
      "Adding dataset \u001b[1mHighest degree-grade\u001b[0m to the dictionary under group \u001b[1mPeople\u001b[0m.\n",
      "Adding group \u001b[1mVehicles\u001b[0m\n",
      "Adding a counter for \u001b[1mVehicles\u001b[0m as \u001b[1mnVehicles\u001b[0m\n",
      "Adding dataset \u001b[1mHousehold ID\u001b[0m to the dictionary under group \u001b[1mVehicles\u001b[0m.\n",
      "Adding dataset \u001b[1mType of vehicle\u001b[0m to the dictionary under group \u001b[1mVehicles\u001b[0m.\n",
      "Adding dataset \u001b[1m# of riders\u001b[0m to the dictionary under group \u001b[1mVehicles\u001b[0m.\n",
      "----------------------------------------------------\n",
      "Slashes / are not allowed in dataset names\n",
      "Replacing / with - in dataset name Gas/electric/human powered\n",
      "The new name will be Gas-electric-human powered\n",
      "----------------------------------------------------\n",
      "Adding dataset \u001b[1mGas-electric-human powered\u001b[0m to the dictionary under group \u001b[1mVehicles\u001b[0m.\n",
      "Adding dataset \u001b[1mYear\u001b[0m to the dictionary under group \u001b[1mVehicles\u001b[0m.\n",
      "Adding dataset \u001b[1mCost\u001b[0m to the dictionary under group \u001b[1mVehicles\u001b[0m.\n",
      "Writing the hdf5 file from the awkward array...\n",
      "{'_SINGLETONS_GROUP_/COUNTER': <class 'int'>, 'Residences/nResidences': <class 'int'>, 'Residences/Household ID': <class 'numpy.int64'>, 'Residences/House-apartment-condo': <class 'str'>, 'Residences/# of bedrooms': <class 'numpy.int64'>, 'Residences/# of bathrooms': <class 'numpy.float64'>, 'Residences/Square footage': <class 'numpy.int64'>, 'Residences/Year built': <class 'numpy.int64'>, 'Residences/Estimate': <class 'numpy.int64'>, 'People/nPeople': <class 'int'>, 'People/Household ID': <class 'numpy.int64'>, 'People/First name': <class 'str'>, 'People/Last name': <class 'str'>, 'People/Gender ID': <class 'str'>, 'People/Age': <class 'numpy.int64'>, 'People/Height': <class 'numpy.int64'>, 'People/Yearly income': <class 'numpy.int64'>, 'People/Highest degree-grade': <class 'str'>, 'Vehicles/nVehicles': <class 'int'>, 'Vehicles/Household ID': <class 'numpy.int64'>, 'Vehicles/Type of vehicle': <class 'str'>, 'Vehicles/# of riders': <class 'numpy.int64'>, 'Vehicles/Gas-electric-human powered': <class 'str'>, 'Vehicles/Year': <class 'numpy.int64'>, 'Vehicles/Cost': <class 'numpy.int64'>}\n",
      "_SINGLETONS_GROUP_/COUNTER       has 0            entries\n",
      "Residences/nResidences           has 4            entries\n",
      "-------- WARNING -----------\n",
      "Residences/nResidences and _SINGLETONS_GROUP_/COUNTER have differing numbers of entries!\n",
      "-------- WARNING -----------\n",
      "People/nPeople                   has 4            entries\n",
      "Vehicles/nVehicles               has 3            entries\n",
      "-------- WARNING -----------\n",
      "Vehicles/nVehicles and People/nPeople have differing numbers of entries!\n",
      "-------- WARNING -----------\n",
      "Metadata added\n"
     ]
    }
   ],
   "source": [
    "datapath = os.path.join('/', 'home', 'nfranz', 'research', 'hepfile', 'docs', 'example_nb', '*.csv')\n",
    "files = glob.glob(datapath)\n",
    "common_key = 'Household ID'\n",
    "group_names = ['Residences', 'People', 'Vehicles']\n",
    "awk = hf.csv_to_hepfile(files, common_key, outfile='test-csv.h5', group_names=group_names)"
   ]
  },
  {
   "cell_type": "code",
   "execution_count": 3,
   "id": "22c43fcb-9829-4920-9a7f-7b5a5d70a8a8",
   "metadata": {},
   "outputs": [
    {
     "name": "stdout",
     "output_type": "stream",
     "text": [
      "Building the indices...\n",
      "\n",
      "Built the indices!\n",
      "Data is read in and input file is closed.\n",
      "['People' 'Residences' 'Vehicles'] ['People', 'People/Age', 'People/First name', 'People/Gender ID', 'People/Height', 'People/Highest degree-grade', 'People/Household ID', 'People/Last name', 'People/Yearly income', 'People/nPeople', 'Residences', 'Residences/# of bathrooms', 'Residences/# of bedrooms', 'Residences/Estimate', 'Residences/House-apartment-condo', 'Residences/Household ID', 'Residences/Square footage', 'Residences/Year built', 'Residences/nResidences', 'Vehicles', 'Vehicles/# of riders', 'Vehicles/Cost', 'Vehicles/Gas-electric-human powered', 'Vehicles/Household ID', 'Vehicles/Type of vehicle', 'Vehicles/Year', 'Vehicles/nVehicles', '_SINGLETONS_GROUP_', '_SINGLETONS_GROUP_/COUNTER']\n"
     ]
    },
    {
     "data": {
      "text/html": [
       "<pre>{People: [{Age: [54, 52, 18, 14], &#x27;First name&#x27;: [...], ...}, {...}, ..., {...}],\n",
       " Residences: [{&#x27;# of bathrooms&#x27;: [2.5], &#x27;# of bedrooms&#x27;: [4], ...}, ..., {...}],\n",
       " Vehicles: [{&#x27;# of riders&#x27;: [4, 5, 1, ..., 1, 1], Cost: [...], ...}, ...]}\n",
       "--------------------------------------------------------------------------------\n",
       "type: {\n",
       "    People: 4 * {\n",
       "        Age: var * int64,\n",
       "        &quot;First name&quot;: var * bytes,\n",
       "        &quot;Gender ID&quot;: var * bytes,\n",
       "        Height: var * int64,\n",
       "        &quot;Highest degree-grade&quot;: var * bytes,\n",
       "        &quot;Household ID&quot;: var * int64,\n",
       "        &quot;Last name&quot;: var * bytes,\n",
       "        &quot;Yearly income&quot;: var * int64\n",
       "    },\n",
       "    Residences: 4 * {\n",
       "        &quot;# of bathrooms&quot;: var * float64,\n",
       "        &quot;# of bedrooms&quot;: var * int64,\n",
       "        Estimate: var * int64,\n",
       "        &quot;House-apartment-condo&quot;: var * bytes,\n",
       "        &quot;Household ID&quot;: var * int64,\n",
       "        &quot;Square footage&quot;: var * int64,\n",
       "        &quot;Year built&quot;: var * int64\n",
       "    },\n",
       "    Vehicles: 3 * {\n",
       "        &quot;# of riders&quot;: var * int64,\n",
       "        Cost: var * int64,\n",
       "        &quot;Gas-electric-human powered&quot;: var * bytes,\n",
       "        &quot;Household ID&quot;: var * int64,\n",
       "        &quot;Type of vehicle&quot;: var * bytes,\n",
       "        Year: var * int64\n",
       "    }\n",
       "}</pre>"
      ],
      "text/plain": [
       "<Record {People: [{...}, ...], ...} type='{People: 4 * {Age: var * int64, \"...'>"
      ]
     },
     "execution_count": 3,
     "metadata": {},
     "output_type": "execute_result"
    }
   ],
   "source": [
    "data, _ = hf.load('test-csv.h5', return_awkward=True)\n",
    "\n",
    "data"
   ]
  },
  {
   "cell_type": "code",
   "execution_count": null,
   "id": "876ddcff-89dc-4e6f-b561-1c8433a708bd",
   "metadata": {},
   "outputs": [],
   "source": []
  }
 ],
 "metadata": {
  "kernelspec": {
   "display_name": "Python 3 (ipykernel)",
   "language": "python",
   "name": "python3"
  },
  "language_info": {
   "codemirror_mode": {
    "name": "ipython",
    "version": 3
   },
   "file_extension": ".py",
   "mimetype": "text/x-python",
   "name": "python",
   "nbconvert_exporter": "python",
   "pygments_lexer": "ipython3",
   "version": "3.9.16"
  }
 },
 "nbformat": 4,
 "nbformat_minor": 5
}
