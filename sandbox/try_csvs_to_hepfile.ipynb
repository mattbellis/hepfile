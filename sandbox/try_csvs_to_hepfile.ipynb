{
 "cells": [
  {
   "cell_type": "markdown",
   "id": "625365c5-6ba4-474a-8927-85473ac2908a",
   "metadata": {},
   "source": [
    "# CSVS to Hepfile\n",
    "Imagine we have a database like structure with multiple csvs all connected by a common ID. See the household exmaple here: https://hepfile.readthedocs.io/en/latest/fundamentals.html#a-toy-example"
   ]
  },
  {
   "cell_type": "code",
   "execution_count": null,
   "id": "ad3bfb6f-e279-4d98-b06b-1b61db157237",
   "metadata": {},
   "outputs": [],
   "source": [
    "import os, glob\n",
    "import numpy as np\n",
    "import pandas as pd\n",
    "import awkward as ak\n",
    "import hepfile as hf"
   ]
  },
  {
   "cell_type": "code",
   "execution_count": null,
   "id": "95bdabd3-31a6-4aa1-9989-9d5f4a514ef2",
   "metadata": {},
   "outputs": [],
   "source": [
    "\n",
    "#datapath = os.path.join('/', 'home', 'nfranz', 'research', 'hepfile', 'docs', 'examples', 'example_nb', '*.csv')\n",
    "datapath = os.path.join('/', 'home', 'bellis', 'hepfile', 'docs', 'examples', 'example_nb', '*.csv')\n",
    "\n",
    "print(datapath)\n",
    "\n",
    "files = glob.glob(datapath)\n",
    "common_key = 'Household ID'\n",
    "group_names = ['Residences', 'People', 'Vehicles']\n",
    "awk = hf.csv_tools.csv_to_hepfile(files, common_key, outfile='test-csv.h5', group_names=group_names)"
   ]
  },
  {
   "cell_type": "code",
   "execution_count": null,
   "id": "ff2132ac-809e-4e9e-828c-2cd62b9e2758",
   "metadata": {},
   "outputs": [],
   "source": [
    "data, _ = hf.load('test-csv.h5', return_awkward=True)\n",
    "\n",
    "data"
   ]
  },
  {
   "cell_type": "code",
   "execution_count": null,
   "id": "8230676f-529f-49cc-a8f3-4999259a2da4",
   "metadata": {},
   "outputs": [],
   "source": []
  }
 ],
 "metadata": {
  "kernelspec": {
   "display_name": "Python 3 (ipykernel)",
   "language": "python",
   "name": "python3"
  },
  "language_info": {
   "codemirror_mode": {
    "name": "ipython",
    "version": 3
   },
   "file_extension": ".py",
   "mimetype": "text/x-python",
   "name": "python",
   "nbconvert_exporter": "python",
   "pygments_lexer": "ipython3",
   "version": "3.9.17"
  }
 },
 "nbformat": 4,
 "nbformat_minor": 5
}
