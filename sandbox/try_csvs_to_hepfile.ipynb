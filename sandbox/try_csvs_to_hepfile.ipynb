{
 "cells": [
  {
   "cell_type": "markdown",
   "id": "7a158213-b057-487f-abf8-f92bf7623f8a",
   "metadata": {},
   "source": [
    "# CSVS to Hepfile\n",
    "\n",
    "Imagine we have a database like structure with multiple csvs all connected by a common ID. See the household exmaple here: https://hepfile.readthedocs.io/en/latest/fundamentals.html#a-toy-example "
   ]
  },
  {
   "cell_type": "code",
   "execution_count": null,
   "id": "5e2b0b71-fbfe-422c-b2a0-c9b9d84a248b",
   "metadata": {},
   "outputs": [],
   "source": [
    "import os, glob\n",
    "import numpy as np\n",
    "import pandas as pd\n",
    "import awkward as ak\n",
    "import hepfile as hf"
   ]
  },
  {
   "cell_type": "code",
   "execution_count": null,
   "id": "3e23dae1-98ac-44ee-a904-43fed1bc7bb5",
   "metadata": {},
   "outputs": [],
   "source": [
    "datapath = os.path.join('/', 'home', 'nfranz', 'research', 'hepfile', 'docs', 'example_nb', '*.csv')\n",
    "files = glob.glob(datapath)\n",
    "common_key = 'Household ID'\n",
    "group_names = ['Residences', 'People', 'Vehicles']\n",
    "awk = hf.csv_tools.csv_to_hepfile(files, common_key, outfile='test-csv.h5', group_names=group_names)"
   ]
  },
  {
   "cell_type": "code",
   "execution_count": null,
   "id": "22c43fcb-9829-4920-9a7f-7b5a5d70a8a8",
   "metadata": {},
   "outputs": [],
   "source": [
    "data, _ = hf.load('test-csv.h5', return_awkward=True)\n",
    "\n",
    "data"
   ]
  },
  {
   "cell_type": "code",
   "execution_count": null,
   "id": "876ddcff-89dc-4e6f-b561-1c8433a708bd",
   "metadata": {},
   "outputs": [],
   "source": []
  }
 ],
 "metadata": {
  "kernelspec": {
   "display_name": "Python 3 (ipykernel)",
   "language": "python",
   "name": "python3"
  },
  "language_info": {
   "codemirror_mode": {
    "name": "ipython",
    "version": 3
   },
   "file_extension": ".py",
   "mimetype": "text/x-python",
   "name": "python",
   "nbconvert_exporter": "python",
   "pygments_lexer": "ipython3",
   "version": "3.9.16"
  }
 },
 "nbformat": 4,
 "nbformat_minor": 5
}
