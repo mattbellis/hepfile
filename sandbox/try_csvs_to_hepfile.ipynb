{
 "cells": [
  {
   "cell_type": "markdown",
   "id": "625365c5-6ba4-474a-8927-85473ac2908a",
   "metadata": {},
   "source": [
    "# CSVS to Hepfile\n",
    "Imagine we have a database like structure with multiple csvs all connected by a common ID. See the household exmaple here: https://hepfile.readthedocs.io/en/latest/fundamentals.html#a-toy-example"
   ]
  },
  {
   "cell_type": "code",
   "execution_count": 1,
   "id": "ad3bfb6f-e279-4d98-b06b-1b61db157237",
   "metadata": {},
   "outputs": [],
   "source": [
    "import os, glob\n",
    "import numpy as np\n",
    "import pandas as pd\n",
    "import awkward as ak\n",
    "import hepfile as hf"
   ]
  },
  {
   "cell_type": "code",
   "execution_count": 2,
   "id": "95bdabd3-31a6-4aa1-9989-9d5f4a514ef2",
   "metadata": {},
   "outputs": [
    {
     "name": "stdout",
     "output_type": "stream",
     "text": [
      "----------------------------------------------------\n",
      "Slashes / are not allowed in dataset names\n",
      "Replacing / with - in dataset name Highest degree/grade\n",
      "The new name will be Highest degree-grade\n",
      "----------------------------------------------------\n",
      "----------------------------------------------------\n",
      "Slashes / are not allowed in dataset names\n",
      "Replacing / with - in dataset name Gas/electric/human powered\n",
      "The new name will be Gas-electric-human powered\n",
      "----------------------------------------------------\n",
      "----------------------------------------------------\n",
      "Slashes / are not allowed in dataset names\n",
      "Replacing / with - in dataset name House/apartment/condo\n",
      "The new name will be House-apartment-condo\n",
      "----------------------------------------------------\n",
      "Metadata added\n"
     ]
    }
   ],
   "source": [
    "\n",
    "datapath = os.path.join('/', 'home', 'nfranz', 'research', 'hepfile', 'docs', 'examples', 'example_nb', '*.csv')\n",
    "files = glob.glob(datapath)\n",
    "common_key = 'Household ID'\n",
    "group_names = ['Residences', 'People', 'Vehicles']\n",
    "awk = hf.csv_tools.csv_to_hepfile(files, common_key, outfile='test-csv.h5', group_names=group_names)"
   ]
  },
  {
   "cell_type": "code",
   "execution_count": 8,
   "id": "ff2132ac-809e-4e9e-828c-2cd62b9e2758",
   "metadata": {},
   "outputs": [
    {
     "name": "stdout",
     "output_type": "stream",
     "text": [
      "Building the indices...\n",
      "\n",
      "Built the indices!\n",
      "Data is read in and input file is closed.\n"
     ]
    },
    {
     "data": {
      "text/html": [
       "<pre>[{&#x27;Household ID&#x27;: 0, People: {...}, Residences: {...}, Vehicles: {...}},\n",
       " {&#x27;Household ID&#x27;: 1, People: {...}, Residences: {...}, Vehicles: {...}},\n",
       " {&#x27;Household ID&#x27;: 2, People: {...}, Residences: {...}, Vehicles: {...}},\n",
       " {&#x27;Household ID&#x27;: 3, People: {...}, Residences: {...}, Vehicles: {...}}]\n",
       "------------------------------------------------------------------------\n",
       "type: 4 * {\n",
       "    &quot;Household ID&quot;: int64,\n",
       "    People: {\n",
       "        &quot;# of riders&quot;: var * int64,\n",
       "        Cost: var * int64,\n",
       "        &quot;Gas-electric-human powered&quot;: var * string,\n",
       "        &quot;Type of vehicle&quot;: var * string,\n",
       "        Year: var * int64\n",
       "    },\n",
       "    Residences: {\n",
       "        Age: var * int64,\n",
       "        &quot;First name&quot;: var * string,\n",
       "        &quot;Gender ID&quot;: var * string,\n",
       "        Height: var * int64,\n",
       "        &quot;Highest degree-grade&quot;: var * string,\n",
       "        &quot;Last name&quot;: var * string,\n",
       "        &quot;Yearly income&quot;: var * int64\n",
       "    },\n",
       "    Vehicles: {\n",
       "        &quot;# of bathrooms&quot;: var * float64,\n",
       "        &quot;# of bedrooms&quot;: var * int64,\n",
       "        Estimate: var * int64,\n",
       "        &quot;House-apartment-condo&quot;: var * string,\n",
       "        &quot;Square footage&quot;: var * int64,\n",
       "        &quot;Year built&quot;: var * int64\n",
       "    }\n",
       "}</pre>"
      ],
      "text/plain": [
       "<Array [{'Household ID': 0, ...}, ..., {...}] type='4 * {\"Household ID\": in...'>"
      ]
     },
     "execution_count": 8,
     "metadata": {},
     "output_type": "execute_result"
    }
   ],
   "source": [
    "data, _ = hf.load('test-csv.h5', return_awkward=True)\n",
    "\n",
    "data"
   ]
  },
  {
   "cell_type": "code",
   "execution_count": null,
   "id": "8230676f-529f-49cc-a8f3-4999259a2da4",
   "metadata": {},
   "outputs": [],
   "source": []
  }
 ],
 "metadata": {
  "kernelspec": {
   "display_name": "Python 3 (ipykernel)",
   "language": "python",
   "name": "python3"
  },
  "language_info": {
   "codemirror_mode": {
    "name": "ipython",
    "version": 3
   },
   "file_extension": ".py",
   "mimetype": "text/x-python",
   "name": "python",
   "nbconvert_exporter": "python",
   "pygments_lexer": "ipython3",
   "version": "3.9.16"
  }
 },
 "nbformat": 4,
 "nbformat_minor": 5
}
