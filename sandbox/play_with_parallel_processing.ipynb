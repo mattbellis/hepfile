{
 "cells": [
  {
   "cell_type": "code",
   "execution_count": null,
   "id": "165a532a",
   "metadata": {},
   "outputs": [],
   "source": [
    "%load_ext autoreload\n",
    "%autoreload 2\n",
    "\n",
    "import h5py as h5\n",
    "import hepfile as hf\n",
    "from hepfile import dict_tools, awkward_tools\n",
    "\n",
    "import numpy as np\n",
    "import os\n",
    "\n",
    "import multiprocessing\n",
    "\n",
    "import time"
   ]
  },
  {
   "cell_type": "markdown",
   "id": "c790d1a0",
   "metadata": {},
   "source": [
    "# Make the file and add some data"
   ]
  },
  {
   "cell_type": "code",
   "execution_count": null,
   "id": "6e56a524",
   "metadata": {},
   "outputs": [],
   "source": [
    "data = hf.initialize()\n",
    "\n",
    "hf.create_group(data, 'obj', counter='nobj')\n",
    "hf.create_dataset(data, ['myfloat'], group='obj', dtype=float)\n",
    "hf.create_dataset(data, ['myint'], group='obj', dtype=int)\n",
    "hf.create_dataset(data, ['mystr'], group='obj', dtype=str)\n",
    "\n",
    "bucket = hf.create_single_bucket(data)\n",
    "\n",
    "# Normal packing test\n",
    "\n",
    "nevents = 100000\n",
    "for n in range(nevents):\n",
    "    nobj = np.random.randint(0,10)\n",
    "    for i in range(nobj):\n",
    "        bucket['obj/myfloat'].append(np.random.random())\n",
    "        bucket['obj/myint'].append(np.random.randint(5,10))\n",
    "        bucket['obj/mystr'].append(str(np.random.random()))\n",
    "    bucket['obj/nobj'] = nobj\n",
    "    test = hf.pack(data, bucket)\n",
    "\n",
    "hdfile = hf.write_to_file(\"FOR_TESTS.hdf5\", data, comp_type=\"gzip\", comp_opts=9)\n",
    "\n"
   ]
  },
  {
   "cell_type": "code",
   "execution_count": null,
   "id": "77bf4bfc-91a5-4be3-a72e-50b617f05e61",
   "metadata": {},
   "outputs": [],
   "source": [
    "# Read all the data\n",
    "\n",
    "data,bucket = hf.load('FOR_TESTS.hdf5')\n",
    "\n",
    "nevents = hf.get_nbuckets_in_data(data)\n",
    "print(nevents)"
   ]
  },
  {
   "cell_type": "code",
   "execution_count": null,
   "id": "236ff3e2-1a74-459e-a3a7-7f1adb3c7597",
   "metadata": {},
   "outputs": [],
   "source": [
    "# Read some of the data\n",
    "\n",
    "data,bucket = hf.load('FOR_TESTS.hdf5',subset=(250,300))\n",
    "print(data['obj/myfloat'][0])\n",
    "\n",
    "nevents = hf.get_nbuckets_in_data(data)\n",
    "print(nevents)"
   ]
  },
  {
   "cell_type": "code",
   "execution_count": null,
   "id": "0708dae5",
   "metadata": {},
   "outputs": [],
   "source": [
    "print(\"Number of cpu : \", multiprocessing.cpu_count())\n"
   ]
  },
  {
   "cell_type": "markdown",
   "id": "aa9f1e13",
   "metadata": {},
   "source": [
    "https://www.digitalocean.com/community/tutorials/python-multiprocessing-example"
   ]
  },
  {
   "cell_type": "code",
   "execution_count": null,
   "id": "f55278fb",
   "metadata": {},
   "outputs": [],
   "source": [
    "from multiprocessing import Process\n",
    "\n",
    "\n",
    "def print_func(continent='Asia'):\n",
    "    print('The name of continent is : ', continent)\n",
    "\n",
    "if __name__ == \"__main__\":  # confirms that the code is under main function\n",
    "    names = ['America', 'Europe', 'Africa']\n",
    "    procs = []\n",
    "    proc = Process(target=print_func)  # instantiating without any argument\n",
    "    procs.append(proc)\n",
    "    proc.start()\n",
    "\n",
    "    # instantiating process with arguments\n",
    "    for name in names:\n",
    "        # print(name)\n",
    "        proc = Process(target=print_func, args=(name,))\n",
    "        procs.append(proc)\n",
    "        proc.start()\n",
    "\n",
    "    # complete the processes\n",
    "    for proc in procs:\n",
    "        proc.join()"
   ]
  },
  {
   "cell_type": "markdown",
   "id": "0732915f",
   "metadata": {},
   "source": [
    "https://docs.python.org/3/library/multiprocessing.html"
   ]
  },
  {
   "cell_type": "code",
   "execution_count": null,
   "id": "982e0983",
   "metadata": {},
   "outputs": [],
   "source": [
    "from multiprocessing import Pool\n",
    "\n",
    "def f(x):\n",
    "    return x*x\n",
    "\n",
    "if __name__ == '__main__':\n",
    "    with Pool(5) as p:\n",
    "        print(p.map(f, [1, 2, 3]))"
   ]
  },
  {
   "cell_type": "code",
   "execution_count": null,
   "id": "cdf569f3",
   "metadata": {},
   "outputs": [],
   "source": [
    "from multiprocessing import Process, Lock\n",
    "\n",
    "def f(l, i):\n",
    "    l.acquire()\n",
    "    try:\n",
    "        print('hello world ', i)\n",
    "    finally:\n",
    "        l.release()\n",
    "\n",
    "if __name__ == '__main__':\n",
    "    lock = Lock()\n",
    "\n",
    "    for num in range(10):\n",
    "        Process(target=f, args=(lock, num)).start()"
   ]
  },
  {
   "cell_type": "markdown",
   "id": "25c04548",
   "metadata": {},
   "source": [
    "What does lock do? Is it just making everything run in series?"
   ]
  },
  {
   "cell_type": "code",
   "execution_count": null,
   "id": "85a5de1a",
   "metadata": {},
   "outputs": [],
   "source": [
    "from multiprocessing import Process, Lock\n",
    "\n",
    "def f(l, i):\n",
    "    l.acquire()\n",
    "    try:\n",
    "        data,bucket = hf.load('FOR_TESTS.hdf5',subset=(i*100,(i+1)*100), verbose=False)\n",
    "        print(i, data['obj/myfloat'][0], np.sum(data['obj/myfloat']))\n",
    "    finally:\n",
    "        l.release()\n",
    "\n",
    "if __name__ == '__main__':\n",
    "    lock = Lock()\n",
    "\n",
    "    for num in range(7):\n",
    "        Process(target=f, args=(lock, num)).start()"
   ]
  },
  {
   "cell_type": "code",
   "execution_count": null,
   "id": "bbef2330",
   "metadata": {},
   "outputs": [],
   "source": [
    "from multiprocessing import Pool\n",
    "\n",
    "def my_function(x):\n",
    "    return x * x\n",
    "\n",
    "if __name__ == \"__main__\":\n",
    "  # Create a pool of 4 processes\n",
    "  pool = Pool(4)\n",
    "\n",
    "  # Map the function to the list of arguments\n",
    "  results = pool.map(my_function, [1, 2, 3, 4])\n",
    "\n",
    "  # Print the results\n",
    "  for result in results:\n",
    "    print(result)\n",
    "\n"
   ]
  },
  {
   "cell_type": "code",
   "execution_count": null,
   "id": "81d5d3d7",
   "metadata": {},
   "outputs": [],
   "source": [
    "lo,hi = 0,70000\n",
    "\n",
    "start = time.time()\n",
    "data,bucket = hf.load('FOR_TESTS.hdf5',subset=(lo,hi), verbose=False)\n",
    "total = np.sum(np.cos(np.sin(np.log(data['obj/myfloat'])**5)))\n",
    "print(i, data['obj/myfloat'][0], total)\n",
    "\n",
    "print(f\"time to run: {time.time()-start}\")"
   ]
  },
  {
   "cell_type": "code",
   "execution_count": null,
   "id": "a30003a2",
   "metadata": {},
   "outputs": [],
   "source": [
    "from multiprocessing import Pool\n",
    "\n",
    "lock = Lock()\n",
    "\n",
    "def my_function(i):\n",
    "    lock.acquire()\n",
    "    total = 0\n",
    "    try:\n",
    "        data,bucket = hf.load('FOR_TESTS.hdf5',subset=(i*10000,(i+1)*10000), verbose=False)\n",
    "        #total = np.sum(np.log(data['obj/myfloat'])**5)\n",
    "        total = np.sum(np.cos(np.sin(np.log(data['obj/myfloat'])**5)))\n",
    "        print(i, data['obj/myfloat'][0], total)\n",
    "    finally:\n",
    "        lock.release()\n",
    "        \n",
    "    return total\n",
    "\n",
    "if __name__ == \"__main__\":\n",
    "    \n",
    "    nprocesses = 7\n",
    "    \n",
    "    start = time.time()\n",
    "    # Create a pool of nprocesses\n",
    "    pool = Pool(nprocesses)\n",
    "    #lock = Lock()\n",
    "\n",
    "    # Map the function to the list of arguments\n",
    "    results = pool.map(my_function, np.arange(nprocesses))\n",
    "\n",
    "    # Print the results\n",
    "    for result in results:\n",
    "        print(result)\n",
    "    print(sum(results))\n",
    "        \n",
    "    print(f\"time to run: {time.time()-start}\")\n",
    "\n"
   ]
  },
  {
   "cell_type": "code",
   "execution_count": null,
   "id": "791181ef",
   "metadata": {},
   "outputs": [],
   "source": []
  }
 ],
 "metadata": {
  "kernelspec": {
   "display_name": "Python 3 (ipykernel)",
   "language": "python",
   "name": "python3"
  },
  "language_info": {
   "codemirror_mode": {
    "name": "ipython",
    "version": 3
   },
   "file_extension": ".py",
   "mimetype": "text/x-python",
   "name": "python",
   "nbconvert_exporter": "python",
   "pygments_lexer": "ipython3",
   "version": "3.9.17"
  }
 },
 "nbformat": 4,
 "nbformat_minor": 5
}
