{
 "cells": [
  {
   "cell_type": "code",
   "execution_count": 1,
   "id": "4f5f076b",
   "metadata": {},
   "outputs": [
    {
     "name": "stdout",
     "output_type": "stream",
     "text": [
      "2.3.1\n",
      "5.0.10\n"
     ]
    }
   ],
   "source": [
    "import awkward as ak\n",
    "import numpy as np\n",
    "\n",
    "import hepfile\n",
    "\n",
    "import uproot\n",
    "\n",
    "import time\n",
    "\n",
    "print(ak.__version__)\n",
    "print(uproot.__version__)"
   ]
  },
  {
   "cell_type": "code",
   "execution_count": 2,
   "id": "fc76bb5d",
   "metadata": {},
   "outputs": [
    {
     "name": "stdout",
     "output_type": "stream",
     "text": [
      "  % Total    % Received % Xferd  Average Speed   Time    Time     Time  Current\n",
      "                                 Dload  Upload   Total   Spent    Left  Speed\n",
      "100 40.4M  100 40.4M    0     0  1619k      0  0:00:25  0:00:25 --:--:-- 1619k\n"
     ]
    }
   ],
   "source": [
    "# Down load a file for us to play with\n",
    "!curl http://opendata.cern.ch/record/12361/files/SMHiggsToZZTo4L.root --output SMHiggsToZZTo4L.root"
   ]
  },
  {
   "cell_type": "code",
   "execution_count": 3,
   "id": "57c0b407",
   "metadata": {},
   "outputs": [
    {
     "data": {
      "text/plain": [
       "<TTree 'Events' (32 branches) at 0x7f490ac760d0>"
      ]
     },
     "execution_count": 3,
     "metadata": {},
     "output_type": "execute_result"
    }
   ],
   "source": [
    "# This is all for demonstration purposes, to show people how this type of\n",
    "# writing could be done. \n",
    "# But of course people could just create their own awkward arrays.\n",
    "\n",
    "f = uproot.open('SMHiggsToZZTo4L.root')\n",
    "\n",
    "events = f['Events']\n",
    "\n",
    "events"
   ]
  },
  {
   "cell_type": "code",
   "execution_count": 4,
   "id": "9da27f4a",
   "metadata": {},
   "outputs": [
    {
     "data": {
      "text/plain": [
       "['run',\n",
       " 'luminosityBlock',\n",
       " 'event',\n",
       " 'PV_npvs',\n",
       " 'PV_x',\n",
       " 'PV_y',\n",
       " 'PV_z',\n",
       " 'nMuon',\n",
       " 'Muon_pt',\n",
       " 'Muon_eta',\n",
       " 'Muon_phi',\n",
       " 'Muon_mass',\n",
       " 'Muon_charge',\n",
       " 'Muon_pfRelIso03_all',\n",
       " 'Muon_pfRelIso04_all',\n",
       " 'Muon_dxy',\n",
       " 'Muon_dxyErr',\n",
       " 'Muon_dz',\n",
       " 'Muon_dzErr',\n",
       " 'nElectron',\n",
       " 'Electron_pt',\n",
       " 'Electron_eta',\n",
       " 'Electron_phi',\n",
       " 'Electron_mass',\n",
       " 'Electron_charge',\n",
       " 'Electron_pfRelIso03_all',\n",
       " 'Electron_dxy',\n",
       " 'Electron_dxyErr',\n",
       " 'Electron_dz',\n",
       " 'Electron_dzErr',\n",
       " 'MET_pt',\n",
       " 'MET_phi']"
      ]
     },
     "execution_count": 4,
     "metadata": {},
     "output_type": "execute_result"
    }
   ],
   "source": [
    "# What's in this file? \n",
    "events.keys()"
   ]
  },
  {
   "cell_type": "code",
   "execution_count": 5,
   "id": "f052e21d",
   "metadata": {},
   "outputs": [
    {
     "name": "stdout",
     "output_type": "stream",
     "text": [
      "<class 'awkward.highlevel.Array'>\n",
      "\n",
      "299973\n",
      "[3, 0, 0, 7, 0, 2, 1, 0, 0, 0, 1, 2, 0, ..., 0, 0, 0, 2, 2, 2, 0, 2, 2, 4, 0, 0]\n",
      "441394\n"
     ]
    }
   ],
   "source": [
    "# Let's check out these types and their sizes\n",
    "\n",
    "print(type(events['Muon_pt'].array()))\n",
    "print()\n",
    "\n",
    "# Number of events\n",
    "print(ak.num(events['Muon_pt'].array(),axis=0))\n",
    "\n",
    "# Number of muons in each event\n",
    "print(ak.num(events['Muon_pt'].array(),axis=1))\n",
    "\n",
    "# Number of muons in total\n",
    "print(ak.sum(ak.num(events['Muon_pt'].array(),axis=1)))"
   ]
  },
  {
   "cell_type": "code",
   "execution_count": 6,
   "id": "9d7c86f6",
   "metadata": {},
   "outputs": [
    {
     "name": "stdout",
     "output_type": "stream",
     "text": [
      "{'PV': [['PV_npvs', 'npvs'], ['PV_x', 'x'], ['PV_y', 'y'], ['PV_z', 'z']], 'Muon': [['Muon_pt', 'pt'], ['Muon_eta', 'eta'], ['Muon_phi', 'phi'], ['Muon_mass', 'mass'], ['Muon_charge', 'charge'], ['Muon_pfRelIso03_all', 'pfRelIso03_all'], ['Muon_pfRelIso04_all', 'pfRelIso04_all'], ['Muon_dxy', 'dxy'], ['Muon_dxyErr', 'dxyErr'], ['Muon_dz', 'dz'], ['Muon_dzErr', 'dzErr']], 'Electron': [['Electron_pt', 'pt'], ['Electron_eta', 'eta'], ['Electron_phi', 'phi'], ['Electron_mass', 'mass'], ['Electron_charge', 'charge'], ['Electron_pfRelIso03_all', 'pfRelIso03_all'], ['Electron_dxy', 'dxy'], ['Electron_dxyErr', 'dxyErr'], ['Electron_dz', 'dz'], ['Electron_dzErr', 'dzErr']], 'MET': [['MET_pt', 'pt'], ['MET_phi', 'phi']]}\n",
      "\n",
      "[['Muon_pt', 'pt'], ['Muon_eta', 'eta'], ['Muon_phi', 'phi'], ['Muon_mass', 'mass'], ['Muon_charge', 'charge'], ['Muon_pfRelIso03_all', 'pfRelIso03_all'], ['Muon_pfRelIso04_all', 'pfRelIso04_all'], ['Muon_dxy', 'dxy'], ['Muon_dxyErr', 'dxyErr'], ['Muon_dz', 'dz'], ['Muon_dzErr', 'dzErr']]\n"
     ]
    }
   ],
   "source": [
    "# While not all the entries in the ROOT file naturally lend themselves to \n",
    "# group/dataset breakdowns, some do. Let's find those \"automatically\", \n",
    "# just to make it easier to write them to the hepfile.\n",
    "\n",
    "# Find groups\n",
    "def make_groups_and_datasets(fields):\n",
    "    \n",
    "    groups = {}\n",
    "    \n",
    "    for field in fields:\n",
    "        if field.find('_')>=0:\n",
    "            \n",
    "            # Do this in case there is more than one underscore\n",
    "            idx = field.find('_')\n",
    "            \n",
    "            #print(field)\n",
    "            grp = field[0:idx]\n",
    "            dset = field[idx+1:]\n",
    "            \n",
    "            if grp not in groups.keys():\n",
    "                groups[grp] = [[field,dset]]\n",
    "            else:\n",
    "                groups[grp].append([field,dset])\n",
    "    \n",
    "    return groups\n",
    "\n",
    "\n",
    "############################################################\n",
    "\n",
    "groupings = make_groups_and_datasets(events.keys())\n",
    "\n",
    "# Groupings gives us a nice mapping of the names from the ROOT file\n",
    "# to how we're going to store them in our hepfile as \n",
    "# group/datasets\n",
    "\n",
    "print(groupings)\n",
    "print()\n",
    "print(groupings['Muon'])"
   ]
  },
  {
   "cell_type": "code",
   "execution_count": 7,
   "id": "8fce9e1a",
   "metadata": {},
   "outputs": [
    {
     "name": "stdout",
     "output_type": "stream",
     "text": [
      "[1, 1, 1, 1, 1, 1, 1, 1, 1, 1, 1, 1, 1, ..., 1, 1, 1, 1, 1, 1, 1, 1, 1, 1, 1, 1]\n",
      "[156, 156, 156, 156, 156, 156, 156, 156, ..., 996, 996, 996, 996, 996, 996, 996]\n",
      "[46501, 46502, 46503, 46504, 46505, ..., 298796, 298797, 298798, 298799, 298800]\n"
     ]
    }
   ],
   "source": [
    "# There are some others. THese will be SINGLETONS that we pass in separately.\n",
    "'run',\n",
    "'luminosityBlock',\n",
    "'event',\n",
    "\n",
    "print(events['run'].array())\n",
    "print(events['luminosityBlock'].array())\n",
    "print(events['event'].array())"
   ]
  },
  {
   "cell_type": "code",
   "execution_count": 8,
   "id": "843b057d-8669-43bf-9b3c-b470b7fa5fff",
   "metadata": {},
   "outputs": [
    {
     "name": "stdout",
     "output_type": "stream",
     "text": [
      "float32\n",
      "float32\n",
      "int32\n"
     ]
    }
   ],
   "source": [
    "def _get_awkward_type(ak_array: ak.Record) -> type:\n",
    "    try:\n",
    "        if isinstance(ak_array[0], (ak.Record, ak.Array)):\n",
    "            arr = ak_array\n",
    "            type_str = ak_array.type.content            \n",
    "            \n",
    "            if isinstance(type_str, ak.types.NumpyType):\n",
    "                dtype = type_str.primitive\n",
    "            else:\n",
    "                dtype = str(type_str).rsplit(\"*\", maxsplit=1)[-1].strip()\n",
    "            \n",
    "        else:\n",
    "            arr = np.array(ak_array)\n",
    "            dtype = arr.dtype\n",
    "\n",
    "        if dtype == \"string\":\n",
    "            dtype = np.dtype(\"<U1\")\n",
    "    \n",
    "        np_dtype = np.dtype(dtype)\n",
    "        if np_dtype.char == \"U\":\n",
    "            np_dtype = str\n",
    "\n",
    "    except Exception as exc:\n",
    "        raise IOError(\"Cannot convert input value to a numpy data type!\") from exc\n",
    "\n",
    "    return np_dtype\n",
    "\n",
    "# Try it out\n",
    "print(_get_awkward_type(events['Muon_pt'].array()))\n",
    "print(_get_awkward_type(events['MET_pt'].array()))\n",
    "print(_get_awkward_type(events['run'].array()))"
   ]
  },
  {
   "cell_type": "code",
   "execution_count": 9,
   "id": "349f06b0-d0f1-4b17-9bd1-d33e85bde100",
   "metadata": {},
   "outputs": [],
   "source": [
    "# This is the function to pack a single awkward array\n",
    "\n",
    "def pack_single_awkward_array(d, arr, dset_name, group_name=None, counter=None):\n",
    "    '''\n",
    "    Packs a 1D awkward array as a dataset/singleton depending on if group_name is given\n",
    "    \n",
    "    Args:\n",
    "        d [dict]: data dictionary created by hepfile.initialize()\n",
    "        arr [ak.Array]: 1D awkward array to pack as either a dataset or a group. If group_name is None\n",
    "                        the arr is packed as a singleton\n",
    "        dset_name [str]: Full path to the dataset.\n",
    "        group_name [str]: name of the group to pack the arr under, default is None\n",
    "        counter [str]: name of the counter in the hepfile for this dataset\n",
    "    '''   \n",
    "    counter_in_hepfile = False\n",
    "    if group_name is not None:\n",
    "\n",
    "        if counter is None:\n",
    "            counter = f\"{group_name}/n{group_name}\"\n",
    "        \n",
    "        # add the counter to the groups dictionary if it is not already in it\n",
    "        if group_name not in d['_GROUPS_']:\n",
    "            d['_GROUPS_'][group_name] = [counter.split('/')[1]]\n",
    "\n",
    "            # We will use this name for the counter later\n",
    "            d['_MAP_DATASETS_TO_DATA_TYPES_'][counter] = int\n",
    "\n",
    "            d['_MAP_DATASETS_TO_COUNTERS_'][group_name] = counter\n",
    "            d['_LIST_OF_COUNTERS_'].append(counter)\n",
    "\n",
    "    else:\n",
    "        counter = '_SINGLETONS_GROUP_/COUNTER'\n",
    "\n",
    "    # Tells us if this is jagged or not\n",
    "    if arr.ndim == 1:\n",
    "        \n",
    "        # Get the datatpe before we flatten it\n",
    "        dtype = _get_awkward_type(arr)\n",
    "        \n",
    "        num = np.ones(len(arr),dtype=int)\n",
    "        \n",
    "        x = ak.to_numpy(arr)\n",
    "\n",
    "    else:\n",
    "\n",
    "        # Get the datatpe before we flatten it\n",
    "        dtype = _get_awkward_type(arr)\n",
    "\n",
    "        # This saves the counter as int64, taking up a bit more space\n",
    "        # Probably minimal though. \n",
    "        #num = ak.num(x)\n",
    "        # This saves the counter as int32\n",
    "        num = ak.to_numpy(ak.num(arr)).astype(np.int32)\n",
    "\n",
    "        x = ak.flatten(arr).to_numpy()\n",
    "\n",
    "    d[dset_name] = x\n",
    "\n",
    "    # Not a SINGLETON, the user has passed in a groupname\n",
    "    if group_name is not None:\n",
    "        d['_MAP_DATASETS_TO_DATA_TYPES_'][dset_name] = dtype\n",
    "        d['_MAP_DATASETS_TO_COUNTERS_'][dset_name] = counter\n",
    "        d['_GROUPS_'][group_name].append(dset_name.split('/')[1])\n",
    "        if counter not in d:\n",
    "            d[counter] = num\n",
    "        \n",
    "    # If it is a SINGLETON\n",
    "    else:\n",
    "        d['_MAP_DATASETS_TO_DATA_TYPES_'][dset_name] = dtype\n",
    "        d['_MAP_DATASETS_TO_COUNTERS_'][dset_name] = '_SINGLETONS_GROUP_/COUNTER'\n",
    "        d['_GROUPS_']['_SINGLETONS_GROUP_'].append(dset_name)\n",
    "        if len(d[counter]) == 0:\n",
    "            d[counter] = num"
   ]
  },
  {
   "cell_type": "code",
   "execution_count": 10,
   "id": "fce6647b",
   "metadata": {},
   "outputs": [],
   "source": [
    "# I changed the name of this function to pack multiple awkward arrays.\n",
    "# I agree with you that we should probably also have a function that packs\n",
    "# single awkward arrays that gets called by this function.\n",
    "\n",
    "# d = data dictionary, maybe we have a version of this that automatically\n",
    "# creates the dictionary and returns it?\n",
    "\n",
    "# arr = dictionary of awkward arrays and keys to use as names for the dataset\n",
    "\n",
    "# group_name = group the dataset will belong to\n",
    "\n",
    "# Right now, I am creating a counter \"n{group_name}\", is that what we want?\n",
    "# Or should we allow the user to pass in the counter name, like when\n",
    "# create_group is called?\n",
    "#\n",
    "# Right now, it creates the group each time this function is called\n",
    "# We should have it check to see if the group is already there and if so, \n",
    "# don't add it again.\n",
    "\n",
    "import warnings\n",
    "\n",
    "def pack_multiple_awkward_arrays(d, arr, group_name=None, group_counter_name=None):\n",
    "    '''\n",
    "    Pack an awkward array of arrays into group_name or the singletons group\n",
    "    \n",
    "    Args:\n",
    "        d [dict]: hepfile data dictionary that is returned from hepfile.initialize()\n",
    "        arr [ak.Array]: Awkward array of the group in a set of data\n",
    "        group_name [str]: Name of the group to pack arr into, if None (default) it is \n",
    "                          packed into the signletons group\n",
    "    '''\n",
    "    \n",
    "    # If the user passed in a group, then the datasets will \n",
    "    # be under that group\n",
    "    \n",
    "    # check that arr is an awkward array\n",
    "    if not isinstance(arr, (ak.Array, ak.Record)):\n",
    "        try:\n",
    "            arr = ak.Array(arr)\n",
    "        except Exception as exc:\n",
    "            raise IOError() from exc\n",
    "    \n",
    "    if len(arr.fields) == 0:\n",
    "        raise IOError('The input awkward array must have at least one field value! '+\n",
    "                      'If this is a singleton just provide the name of the singleton as the field')\n",
    "    # Loop over the dictionary that is passed in        \n",
    "    for field in arr.fields:\n",
    "        \n",
    "        # build a name for the hepfile entry\n",
    "        if group_name is None:\n",
    "            # these are singletons\n",
    "            dataset_name = field\n",
    "        else:\n",
    "            # these are regular groups with datasets\n",
    "            dataset_name = f\"{group_name}/{field}\"\n",
    "            \n",
    "        pack_single_awkward_array(d, arr[field], dataset_name, group_name=group_name, counter=group_counter_name)\n",
    "\n",
    "    # We don't need to return the dictionary because in python\n",
    "    # dictionaries are mutable. The dictionary in the function points to \n",
    "    # the same object outside of the function.\n",
    "###############################################################################\n",
    "    "
   ]
  },
  {
   "cell_type": "code",
   "execution_count": 11,
   "id": "3e300647-5c51-4d97-ba0e-2a3de78eb078",
   "metadata": {},
   "outputs": [],
   "source": [
    "# Here's how we call it. Though maybe we have an option to have\n",
    "# the data dictionary created inside the function? \n",
    "\n",
    "# Initialize the data dictionary\n",
    "data = hepfile.initialize()\n",
    "\n",
    "# Pack these groups of awkward arrays\n",
    "\n",
    "# This is what it would look like \"by hand\"\n",
    "# A dictionary with the name of the dataset as it is to appear inside the hepfile\n",
    "# and then the actual awkward array (not just the Branch object returned by uproot)\n",
    "#ak_arrays = {'pt': events['Muon_pt'].array(), 'eta': events['Muon_eta'].array(), 'phi':events['Muon_phi'].array(), }\n",
    "\n",
    "# Here I'm packing all the data that are groups/datasets\n",
    "for groups_to_write in ['Muon', 'Electron', 'MET', 'PV']:\n",
    "    ak_arrays = {}\n",
    "    for grouping in groupings[groups_to_write]:\n",
    "        ak_arrays[grouping[1]] = events[grouping[0]].array()\n",
    "    \n",
    "    pack_multiple_awkward_arrays(data, ak_arrays, group_name=groups_to_write)\n",
    "\n",
    "# Now the SINGLETONS\n",
    "ak_arrays = {\"run\":events['run'].array(), \\\n",
    "             \"luminosityBlock\":events['luminosityBlock'].array(), \\\n",
    "             \"event\":events['event'].array()}\n",
    "\n",
    "# Note that there is no group name passed in. \n",
    "pack_multiple_awkward_arrays(data, ak_arrays)"
   ]
  },
  {
   "cell_type": "code",
   "execution_count": 12,
   "id": "1b561381-4ae7-46eb-9cd5-91e1d5d37a45",
   "metadata": {},
   "outputs": [
    {
     "data": {
      "text/plain": [
       "299973"
      ]
     },
     "execution_count": 12,
     "metadata": {},
     "output_type": "execute_result"
    }
   ],
   "source": [
    "len(data['_SINGLETONS_GROUP_/COUNTER'])"
   ]
  },
  {
   "cell_type": "code",
   "execution_count": 13,
   "id": "0262260d-e47d-4d6a-a96d-2dd7120cb0b5",
   "metadata": {},
   "outputs": [
    {
     "data": {
      "text/plain": [
       "299973"
      ]
     },
     "execution_count": 13,
     "metadata": {},
     "output_type": "execute_result"
    }
   ],
   "source": [
    "len(data['Electron/nElectron'])"
   ]
  },
  {
   "cell_type": "code",
   "execution_count": 14,
   "id": "cd3cd52e",
   "metadata": {},
   "outputs": [
    {
     "name": "stdout",
     "output_type": "stream",
     "text": [
      "['COUNTER', 'run', 'luminosityBlock', 'event']\n",
      "\n",
      "{'_SINGLETONS_GROUP_': '_SINGLETONS_GROUP_/COUNTER', 'Muon': 'Muon/nMuon', 'Muon/pt': 'Muon/nMuon', 'Muon/eta': 'Muon/nMuon', 'Muon/phi': 'Muon/nMuon', 'Muon/mass': 'Muon/nMuon', 'Muon/charge': 'Muon/nMuon', 'Muon/pfRelIso03_all': 'Muon/nMuon', 'Muon/pfRelIso04_all': 'Muon/nMuon', 'Muon/dxy': 'Muon/nMuon', 'Muon/dxyErr': 'Muon/nMuon', 'Muon/dz': 'Muon/nMuon', 'Muon/dzErr': 'Muon/nMuon', 'Electron': 'Electron/nElectron', 'Electron/pt': 'Electron/nElectron', 'Electron/eta': 'Electron/nElectron', 'Electron/phi': 'Electron/nElectron', 'Electron/mass': 'Electron/nElectron', 'Electron/charge': 'Electron/nElectron', 'Electron/pfRelIso03_all': 'Electron/nElectron', 'Electron/dxy': 'Electron/nElectron', 'Electron/dxyErr': 'Electron/nElectron', 'Electron/dz': 'Electron/nElectron', 'Electron/dzErr': 'Electron/nElectron', 'MET': 'MET/nMET', 'MET/pt': 'MET/nMET', 'MET/phi': 'MET/nMET', 'PV': 'PV/nPV', 'PV/npvs': 'PV/nPV', 'PV/x': 'PV/nPV', 'PV/y': 'PV/nPV', 'PV/z': 'PV/nPV', 'run': '_SINGLETONS_GROUP_/COUNTER', 'luminosityBlock': '_SINGLETONS_GROUP_/COUNTER', 'event': '_SINGLETONS_GROUP_/COUNTER'}\n",
      "\n"
     ]
    },
    {
     "data": {
      "text/plain": [
       "dict_keys(['_GROUPS_', '_MAP_DATASETS_TO_COUNTERS_', '_LIST_OF_COUNTERS_', '_SINGLETONS_GROUP_/COUNTER', '_MAP_DATASETS_TO_DATA_TYPES_', '_META_', 'Muon/pt', 'Muon/nMuon', 'Muon/eta', 'Muon/phi', 'Muon/mass', 'Muon/charge', 'Muon/pfRelIso03_all', 'Muon/pfRelIso04_all', 'Muon/dxy', 'Muon/dxyErr', 'Muon/dz', 'Muon/dzErr', 'Electron/pt', 'Electron/nElectron', 'Electron/eta', 'Electron/phi', 'Electron/mass', 'Electron/charge', 'Electron/pfRelIso03_all', 'Electron/dxy', 'Electron/dxyErr', 'Electron/dz', 'Electron/dzErr', 'MET/pt', 'MET/nMET', 'MET/phi', 'PV/npvs', 'PV/nPV', 'PV/x', 'PV/y', 'PV/z', 'run', 'luminosityBlock', 'event'])"
      ]
     },
     "execution_count": 14,
     "metadata": {},
     "output_type": "execute_result"
    }
   ],
   "source": [
    "# Uncomment if you want to see what the data dictionary looks like\n",
    "#data\n",
    "\n",
    "print(data['_GROUPS_']['_SINGLETONS_GROUP_'])\n",
    "print()\n",
    "\n",
    "print(data['_MAP_DATASETS_TO_COUNTERS_'])\n",
    "print()\n",
    "\n",
    "data.keys()"
   ]
  },
  {
   "cell_type": "code",
   "execution_count": 15,
   "id": "ba272902",
   "metadata": {},
   "outputs": [
    {
     "name": "stdout",
     "output_type": "stream",
     "text": [
      "\n",
      "\n",
      "Time to write uncompressed: 0.04241776466369629\n",
      "Time to write   compressed: 4.404450416564941\n",
      "\n",
      "\n",
      "-rw-r--r-- 1 nfranz nfranz 42400229 Jul 18 09:33 SMHiggsToZZTo4L.root\n",
      "-rw-r--r-- 1 nfranz nfranz 60385968 Jul 18 09:33 awkward_write_test.h5\n",
      "-rw-r--r-- 1 nfranz nfranz 33736637 Jul 18 09:33 awkward_write_test_COMP_gzip_OPT_9.h5\n"
     ]
    }
   ],
   "source": [
    "# Write it!\n",
    "\n",
    "# Try it with no compression\n",
    "start = time.time()\n",
    "hepfile.write_to_file('awkward_write_test.h5', data, verbose=False)\n",
    "dt_no_compression = time.time() - start\n",
    "\n",
    "# Try it with compression!\n",
    "start = time.time()\n",
    "hepfile.write_to_file('awkward_write_test_COMP_gzip_OPT_9.h5', data, verbose=False, comp_type=\"gzip\", comp_opts=9)\n",
    "dt_with_compression = time.time() - start\n",
    "\n",
    "print()\n",
    "print()\n",
    "print(f\"Time to write uncompressed: {dt_no_compression}\")\n",
    "print(f\"Time to write   compressed: {dt_with_compression}\")\n",
    "\n",
    "print()\n",
    "print()\n",
    "\n",
    "# Check out the sizes of the files!\n",
    "\n",
    "!ls -ltr SMHiggsToZZTo4L.root\n",
    "!ls -ltr awkward_write_test.h5\n",
    "!ls -ltr awkward_write_test_COMP_gzip_OPT_9.h5"
   ]
  },
  {
   "cell_type": "code",
   "execution_count": 16,
   "id": "b912b5cd",
   "metadata": {},
   "outputs": [],
   "source": [
    "data,bucket = hepfile.load('awkward_write_test_COMP_gzip_OPT_9.h5', verbose=False)\n",
    "\n",
    "#data,bucket = hepfile.load('awkward_write_test.h5')"
   ]
  },
  {
   "cell_type": "code",
   "execution_count": 17,
   "id": "3c2213c0",
   "metadata": {},
   "outputs": [
    {
     "data": {
      "text/plain": [
       "array([0, 4, 2, ..., 0, 2, 2])"
      ]
     },
     "execution_count": 17,
     "metadata": {},
     "output_type": "execute_result"
    }
   ],
   "source": [
    "data['Electron/nElectron']"
   ]
  },
  {
   "cell_type": "code",
   "execution_count": 18,
   "id": "6adfa207",
   "metadata": {},
   "outputs": [
    {
     "name": "stdout",
     "output_type": "stream",
     "text": [
      "<class 'numpy.ndarray'>\n",
      "<class 'numpy.float32'>\n"
     ]
    }
   ],
   "source": [
    "print(type(data['Muon/pt']))\n",
    "print(type(data['Muon/pt'][0]))"
   ]
  },
  {
   "cell_type": "code",
   "execution_count": 19,
   "id": "16e39a5f",
   "metadata": {},
   "outputs": [
    {
     "data": {
      "text/plain": [
       "numpy.float32"
      ]
     },
     "execution_count": 19,
     "metadata": {},
     "output_type": "execute_result"
    }
   ],
   "source": [
    "type(data['Muon/pt'].astype(np.float32)[0])"
   ]
  },
  {
   "cell_type": "code",
   "execution_count": 20,
   "id": "cccef665",
   "metadata": {},
   "outputs": [
    {
     "data": {
      "text/plain": [
       "array([1, 1, 1, ..., 1, 1, 1], dtype=int32)"
      ]
     },
     "execution_count": 20,
     "metadata": {},
     "output_type": "execute_result"
    }
   ],
   "source": [
    "data['run']"
   ]
  },
  {
   "cell_type": "code",
   "execution_count": 21,
   "id": "095ddcaf",
   "metadata": {},
   "outputs": [
    {
     "data": {
      "text/plain": [
       "{'Electron/charge': dtype('int32'),\n",
       " 'Electron/dxy': dtype('float32'),\n",
       " 'Electron/dxyErr': dtype('float32'),\n",
       " 'Electron/dz': dtype('float32'),\n",
       " 'Electron/dzErr': dtype('float32'),\n",
       " 'Electron/eta': dtype('float32'),\n",
       " 'Electron/mass': dtype('float32'),\n",
       " 'Electron/nElectron': dtype('int64'),\n",
       " 'Electron/pfRelIso03_all': dtype('float32'),\n",
       " 'Electron/phi': dtype('float32'),\n",
       " 'Electron/pt': dtype('float32'),\n",
       " 'MET/nMET': dtype('int64'),\n",
       " 'MET/phi': dtype('float32'),\n",
       " 'MET/pt': dtype('float32'),\n",
       " 'Muon/charge': dtype('int32'),\n",
       " 'Muon/dxy': dtype('float32'),\n",
       " 'Muon/dxyErr': dtype('float32'),\n",
       " 'Muon/dz': dtype('float32'),\n",
       " 'Muon/dzErr': dtype('float32'),\n",
       " 'Muon/eta': dtype('float32'),\n",
       " 'Muon/mass': dtype('float32'),\n",
       " 'Muon/nMuon': dtype('int64'),\n",
       " 'Muon/pfRelIso03_all': dtype('float32'),\n",
       " 'Muon/pfRelIso04_all': dtype('float32'),\n",
       " 'Muon/phi': dtype('float32'),\n",
       " 'Muon/pt': dtype('float32'),\n",
       " 'PV/nPV': dtype('int64'),\n",
       " 'PV/npvs': dtype('int32'),\n",
       " 'PV/x': dtype('float32'),\n",
       " 'PV/y': dtype('float32'),\n",
       " 'PV/z': dtype('float32'),\n",
       " '_SINGLETONS_GROUP_': dtype('<U15'),\n",
       " '_SINGLETONS_GROUP_/COUNTER': dtype('int64'),\n",
       " 'event': dtype('uint64'),\n",
       " 'luminosityBlock': dtype('uint32'),\n",
       " 'run': dtype('int32')}"
      ]
     },
     "execution_count": 21,
     "metadata": {},
     "output_type": "execute_result"
    }
   ],
   "source": [
    "data['_MAP_DATASETS_TO_DATA_TYPES_']"
   ]
  },
  {
   "cell_type": "code",
   "execution_count": 22,
   "id": "6b6645da",
   "metadata": {},
   "outputs": [
    {
     "data": {
      "text/plain": [
       "{'_SINGLETONS_GROUP_': ['run', 'luminosityBlock', 'event'],\n",
       " 'Electron': ['charge',\n",
       "  'dxy',\n",
       "  'dxyErr',\n",
       "  'dz',\n",
       "  'dzErr',\n",
       "  'eta',\n",
       "  'mass',\n",
       "  'nElectron',\n",
       "  'pfRelIso03_all',\n",
       "  'phi',\n",
       "  'pt'],\n",
       " 'MET': ['nMET', 'phi', 'pt'],\n",
       " 'Muon': ['charge',\n",
       "  'dxy',\n",
       "  'dxyErr',\n",
       "  'dz',\n",
       "  'dzErr',\n",
       "  'eta',\n",
       "  'mass',\n",
       "  'nMuon',\n",
       "  'pfRelIso03_all',\n",
       "  'pfRelIso04_all',\n",
       "  'phi',\n",
       "  'pt'],\n",
       " 'PV': ['nPV', 'npvs', 'x', 'y', 'z']}"
      ]
     },
     "execution_count": 22,
     "metadata": {},
     "output_type": "execute_result"
    }
   ],
   "source": [
    "data['_GROUPS_']"
   ]
  },
  {
   "cell_type": "code",
   "execution_count": 23,
   "id": "6cb217dd",
   "metadata": {},
   "outputs": [
    {
     "data": {
      "text/plain": [
       "dict_keys(['_MAP_DATASETS_TO_COUNTERS_', '_MAP_DATASETS_TO_INDEX_', '_LIST_OF_COUNTERS_', '_LIST_OF_DATASETS_', '_META_', '_NUMBER_OF_BUCKETS_', '_SINGLETONS_GROUP_', '_SINGLETONS_GROUP_/COUNTER', 'Electron/nElectron', 'Electron/nElectron_INDEX', 'MET/nMET', 'MET/nMET_INDEX', 'Muon/nMuon', 'Muon/nMuon_INDEX', 'PV/nPV', 'PV/nPV_INDEX', '_SINGLETONS_GROUP_/COUNTER_INDEX', 'Electron/charge', 'Electron/dxy', 'Electron/dxyErr', 'Electron/dz', 'Electron/dzErr', 'Electron/eta', 'Electron/mass', 'Electron/pfRelIso03_all', 'Electron/phi', 'Electron/pt', 'MET/phi', 'MET/pt', 'Muon/charge', 'Muon/dxy', 'Muon/dxyErr', 'Muon/dz', 'Muon/dzErr', 'Muon/eta', 'Muon/mass', 'Muon/pfRelIso03_all', 'Muon/pfRelIso04_all', 'Muon/phi', 'Muon/pt', 'PV/npvs', 'PV/x', 'PV/y', 'PV/z', 'event', 'luminosityBlock', 'run', '_GROUPS_', '_MAP_DATASETS_TO_DATA_TYPES_', '_PROTECTED_NAMES_'])"
      ]
     },
     "execution_count": 23,
     "metadata": {},
     "output_type": "execute_result"
    }
   ],
   "source": [
    "data.keys()"
   ]
  },
  {
   "cell_type": "code",
   "execution_count": 24,
   "id": "1b36234c",
   "metadata": {},
   "outputs": [
    {
     "data": {
      "text/plain": [
       "numpy.float32"
      ]
     },
     "execution_count": 24,
     "metadata": {},
     "output_type": "execute_result"
    }
   ],
   "source": [
    "x = ak.to_numpy(ak.flatten(events['Muon_pt'].array()))\n",
    "\n",
    "type(x)\n",
    "type(x[0])"
   ]
  },
  {
   "cell_type": "code",
   "execution_count": 25,
   "id": "287f3ef4",
   "metadata": {},
   "outputs": [
    {
     "name": "stdout",
     "output_type": "stream",
     "text": [
      "<class 'awkward.highlevel.Array'>\n",
      "<class 'numpy.int64'>\n",
      "[3, 0, 0, 7, 0, 2, 1, 0, 0, 0, 1, 2, 0, ..., 0, 0, 0, 2, 2, 2, 0, 2, 2, 4, 0, 0]\n",
      "3\n",
      "<class 'numpy.int64'>\n",
      "<class 'numpy.int32'>\n"
     ]
    }
   ],
   "source": [
    "x = events['Muon_pt'].array()\n",
    "\n",
    "xnum = ak.num(x)\n",
    "\n",
    "print(type(xnum))\n",
    "print(type(xnum[0]))\n",
    "\n",
    "print(xnum)\n",
    "\n",
    "print(xnum[0])\n",
    "\n",
    "print(type(ak.to_numpy(xnum)[0]))\n",
    "print(type(ak.to_numpy(xnum).astype(np.int32)[0]))"
   ]
  },
  {
   "cell_type": "code",
   "execution_count": 26,
   "id": "970b3384-02d4-4aaa-967b-833cdcf83e82",
   "metadata": {
    "tags": []
   },
   "outputs": [
    {
     "name": "stdout",
     "output_type": "stream",
     "text": [
      "Electron Electron/charge\n",
      "Electron Electron/dxy\n",
      "Electron Electron/dxyErr\n",
      "Electron Electron/dz\n",
      "Electron Electron/dzErr\n",
      "Electron Electron/eta\n",
      "Electron Electron/mass\n",
      "Electron Electron/pfRelIso03_all\n",
      "Electron Electron/phi\n",
      "Electron Electron/pt\n",
      "MET MET/phi\n",
      "MET MET/pt\n",
      "Muon Muon/charge\n",
      "Muon Muon/dxy\n",
      "Muon Muon/dxyErr\n",
      "Muon Muon/dz\n",
      "Muon Muon/dzErr\n",
      "Muon Muon/eta\n",
      "Muon Muon/mass\n",
      "Muon Muon/pfRelIso03_all\n",
      "Muon Muon/pfRelIso04_all\n",
      "Muon Muon/phi\n",
      "Muon Muon/pt\n",
      "PV PV/npvs\n",
      "PV PV/x\n",
      "PV PV/y\n",
      "PV PV/z\n",
      "Time to convert the arrays is 0.03474855422973633 sectonds\n",
      "[1, 1, 1, 1, 1, 1, 1, 1, 1, 1, 1, 1, 1, ..., 1, 1, 1, 1, 1, 1, 1, 1, 1, 1, 1, 1]\n",
      "[156, 156, 156, 156, 156, 156, 156, 156, ..., 996, 996, 996, 996, 996, 996, 996]\n",
      "[46501, 46502, 46503, 46504, 46505, ..., 298796, 298797, 298798, 298799, 298800]\n",
      "[{charge: [], dxy: [], dxyErr: [], dz: [], dzErr: [], eta: [], ...}, ..., {...}]\n",
      "\t [[], [1, 1, -1, -1], [-1, 1], [-1], [-1, ...], ..., [1], [], [-1, 1], [-1, 1]]\n",
      "\t [[], [-0.000513, 0.00165, -0.00116, -0.00177], ..., [3.34e-05, -0.000658]]\n",
      "\t [[], [0.00237, 0.00292, 0.00252, 0.00552], [...], ..., [...], [0.0022, 0.00821]]\n",
      "\t [[], [-0.00306, 0.00278, 0.00213, 0.00294], ..., [...], [-0.0022, 0.00558]]\n",
      "\t [[], [0.00256, 0.00339, 0.00306, 0.00437], ..., [...], [0.00241, 0.00558]]\n",
      "\t [[], [-0.702, -0.98, -0.934, -1.36], [...], ..., [], [2.2, 2.16], [0.532, 1.4]]\n",
      "\t [[], [0.00544, 0.00867, 0.0185, 0.00816], ..., [-0.0171, ...], [0.0127, 0.0185]]\n",
      "\t [[], [0.153, 0.0733, 0.0297, 0.0744], ..., [0.0488, ...], [0.0842, 0.0222]]\n",
      "\t [[], [0.134, -1.86, -2.21, -0.622], [...], ..., [-1.12, 1.84], [-1.61, 0.972]]\n",
      "\t [[], [21.9, 42.6, 78, 23.8], [11.6, 6.69], ..., [], [17.9, 23.2], [48.1, 38.7]]\n",
      "[{phi: [-2.73], pt: [21.9]}, {phi: [2.87], ...}, ..., {phi: [1.65], pt: [12.9]}]\n",
      "\t [[-2.73], [2.87], [-2.17], [-1.6], ..., [-1.86], [1.89], [-1.97], [1.65]]\n",
      "\t [[21.9], [17], [19.1], [30.9], [14.4], ..., [33], [18.3], [17.7], [24], [12.9]]\n",
      "[{charge: [1, -1, 1], dxy: [-0.00479, ...], dxyErr: [...], dz: [...], ...}, ...]\n",
      "\t [[1, -1, 1], [], [], [1, -1, -1, 1, -1, -1, 1], ..., [1, -1, 1, 1], [], []]\n",
      "\t [[-0.00479, 0.000575, -0.00232], [], [], ..., [0.227, -999, ..., -999], [], []]\n",
      "\t [[0.00608, 0.0013, 0.00434], [], [], ..., [0.0158, -999, ..., -999], [], []]\n",
      "\t [[0.0901, -0.00323, -0.00516], [], [], ..., [-2.39, -999, ..., -999], [], []]\n",
      "\t [[0.0446, 0.00302, 0.00419], [], [], ..., [0.0709, -999, ..., -999], [], []]\n",
      "\t [[-0.719, -0.879, -0.321], [], [], ..., [-2.09, -2.15, ..., -2.02], [], []]\n",
      "\t [[0.106, 0.106, 0.106], [], [], ..., [0.106, 0.106, 0.106, 0.106], [], []]\n",
      "\t [[0, 0, 0], [], [], [0.168, ..., -999], ..., [1.86, -999, -999, -999], [], []]\n",
      "\t [[0, 0, 0.18], [], [], [0.334, ...], ..., [3.45, -999, -999, -999], [], []]\n",
      "\t [[2.97, -1.03, 1.04], [], [], [...], ..., [0.988, 0.434, 1.01, 1.08], [], []]\n",
      "\t [[63, 38.1, 4.05], [], [], [54.3, ...], ..., [4.32, 4.36, 5.63, 4.75], [], []]\n",
      "[{npvs: [15], x: [0.244], y: [0.394], z: [1.45]}, {...}, ..., {npvs: [13], ...}]\n",
      "\t [[15], [13], [11], [22], [18], [5], ..., [30], [15], [18], [9], [15], [13]]\n",
      "\t [[0.244], [0.244], [0.242], [0.243], ..., [0.243], [0.245], [0.243], [0.247]]\n",
      "\t [[0.394], [0.395], [0.395], [0.393], ..., [0.393], [0.391], [0.389], [0.392]]\n",
      "\t [[1.45], [-2.88], [1.87], [-7.88], [7.06], ..., [-2.25], [2.06], [5.05], [6.52]]\n",
      "Time to pack everything into a bigger awkward array is 0.00788569450378418 sectonds\n"
     ]
    },
    {
     "data": {
      "text/html": [
       "<pre>[{run: 1, luminosityBlock: 156, event: 46501, Electron: {...}, MET: {...}, ...},\n",
       " {run: 1, luminosityBlock: 156, event: 46502, Electron: {...}, MET: {...}, ...},\n",
       " {run: 1, luminosityBlock: 156, event: 46503, Electron: {...}, MET: {...}, ...},\n",
       " {run: 1, luminosityBlock: 156, event: 46504, Electron: {...}, MET: {...}, ...},\n",
       " {run: 1, luminosityBlock: 156, event: 46505, Electron: {...}, MET: {...}, ...},\n",
       " {run: 1, luminosityBlock: 156, event: 46506, Electron: {...}, MET: {...}, ...},\n",
       " {run: 1, luminosityBlock: 156, event: 46507, Electron: {...}, MET: {...}, ...},\n",
       " {run: 1, luminosityBlock: 156, event: 46508, Electron: {...}, MET: {...}, ...},\n",
       " {run: 1, luminosityBlock: 156, event: 46509, Electron: {...}, MET: {...}, ...},\n",
       " {run: 1, luminosityBlock: 156, event: 46510, Electron: {...}, MET: {...}, ...},\n",
       " ...,\n",
       " {run: 1, luminosityBlock: 996, event: 298792, Electron: {...}, MET: ..., ...},\n",
       " {run: 1, luminosityBlock: 996, event: 298793, Electron: {...}, MET: ..., ...},\n",
       " {run: 1, luminosityBlock: 996, event: 298794, Electron: {...}, MET: ..., ...},\n",
       " {run: 1, luminosityBlock: 996, event: 298795, Electron: {...}, MET: ..., ...},\n",
       " {run: 1, luminosityBlock: 996, event: 298796, Electron: {...}, MET: ..., ...},\n",
       " {run: 1, luminosityBlock: 996, event: 298797, Electron: {...}, MET: ..., ...},\n",
       " {run: 1, luminosityBlock: 996, event: 298798, Electron: {...}, MET: ..., ...},\n",
       " {run: 1, luminosityBlock: 996, event: 298799, Electron: {...}, MET: ..., ...},\n",
       " {run: 1, luminosityBlock: 996, event: 298800, Electron: {...}, MET: ..., ...}]\n",
       "--------------------------------------------------------------------------------\n",
       "type: 299973 * {\n",
       "    run: int32,\n",
       "    luminosityBlock: uint32,\n",
       "    event: uint64,\n",
       "    Electron: {\n",
       "        charge: var * int32,\n",
       "        dxy: var * float32,\n",
       "        dxyErr: var * float32,\n",
       "        dz: var * float32,\n",
       "        dzErr: var * float32,\n",
       "        eta: var * float32,\n",
       "        mass: var * float32,\n",
       "        pfRelIso03_all: var * float32,\n",
       "        phi: var * float32,\n",
       "        pt: var * float32\n",
       "    },\n",
       "    MET: {\n",
       "        phi: var * float32,\n",
       "        pt: var * float32\n",
       "    },\n",
       "    Muon: {\n",
       "        charge: var * int32,\n",
       "        dxy: var * float32,\n",
       "        dxyErr: var * float32,\n",
       "        dz: var * float32,\n",
       "        dzErr: var * float32,\n",
       "        eta: var * float32,\n",
       "        mass: var * float32,\n",
       "        pfRelIso03_all: var * float32,\n",
       "        pfRelIso04_all: var * float32,\n",
       "        phi: var * float32,\n",
       "        pt: var * float32\n",
       "    },\n",
       "    PV: {\n",
       "        npvs: var * int32,\n",
       "        x: var * float32,\n",
       "        y: var * float32,\n",
       "        z: var * float32\n",
       "    }\n",
       "}</pre>"
      ],
      "text/plain": [
       "<Array [{run: 1, ...}, ..., {run: 1, ...}] type='299973 * {run: int32, lumi...'>"
      ]
     },
     "execution_count": 26,
     "metadata": {},
     "output_type": "execute_result"
    }
   ],
   "source": [
    "# test loading the hepfile into the awkward array\n",
    "awk, bucket = hepfile.load('awkward_write_test_COMP_gzip_OPT_9.h5', return_type='awkward')\n",
    "awk"
   ]
  },
  {
   "cell_type": "code",
   "execution_count": 27,
   "id": "9bf32d45-9c3e-42ea-a076-fc1b2f426189",
   "metadata": {},
   "outputs": [],
   "source": [
    "def awkward_to_hepfile(ak_array, outfile=None, write_hepfile=True, **kwargs):\n",
    "    '''\n",
    "    Write an awkward array with depth <= 2 to a hepfile\n",
    "    \n",
    "    Args:\n",
    "        ak_array [ak.Array]: awkward array with fields of groups/singletons. Under the group fields\n",
    "                             are the dataset fields.\n",
    "        outfile [str]: path to where the hepfile should be written. Default is None and can only be\n",
    "                       None if write_hepfile=False.\n",
    "        write_hepfile [bool]: if True, write the hepfile and return the data dictionary. If False, \n",
    "                              just return the data dictionary without returning. Default is True.\n",
    "        **kwargs: passed to `hepfile.write_to_file`\n",
    "                              \n",
    "    Returns:\n",
    "        Data dictionary in the hepfile\n",
    "    '''\n",
    "    \n",
    "    # _is_valid_awkward(ak_array) # uncomment when in actual software and not in testing\n",
    "    \n",
    "    if write_hepfile is True and outfile is None:\n",
    "        raise IOError('Please provide an outfile path if write_hepfile=True!')\n",
    "        \n",
    "    if write_hepfile is False and outfile is not None:\n",
    "        warnings.warn(\n",
    "            \"You set write_hepfile to False but provided an output file path. \\\n",
    "            This output file path will not be used!\"\n",
    "        )\n",
    "    \n",
    "    data = hepfile.initialize()\n",
    "    for group in ak_array.fields:\n",
    "        \n",
    "        if len(ak_array[group].fields) == 0:\n",
    "            # this is a singleton\n",
    "            pack_multiple_awkward_arrays(data, {group: ak_array[group]})\n",
    "        else:\n",
    "            # these are datasets under group\n",
    "            pack_multiple_awkward_arrays(data, ak_array[group], group_name=group)\n",
    "            \n",
    "    if write_hepfile:\n",
    "        hepfile.write_to_file(outfile, data)\n",
    "    \n",
    "    return data\n",
    "    "
   ]
  },
  {
   "cell_type": "code",
   "execution_count": 28,
   "id": "b5c5ce80-286d-418e-a094-82e0cbe6cc32",
   "metadata": {
    "tags": []
   },
   "outputs": [],
   "source": [
    "# test awkward_to_hepfile\n",
    "\n",
    "d2 = awkward_to_hepfile(awk, write_hepfile=False)"
   ]
  },
  {
   "cell_type": "code",
   "execution_count": 29,
   "id": "34971479-2ad4-4bf3-9070-a2bd2c79ea59",
   "metadata": {},
   "outputs": [
    {
     "name": "stdout",
     "output_type": "stream",
     "text": [
      "Electron Electron/charge\n",
      "Electron Electron/dxy\n",
      "Electron Electron/dxyErr\n",
      "Electron Electron/dz\n",
      "Electron Electron/dzErr\n",
      "Electron Electron/eta\n",
      "Electron Electron/mass\n",
      "Electron Electron/pfRelIso03_all\n",
      "Electron Electron/phi\n",
      "Electron Electron/pt\n",
      "MET MET/phi\n",
      "MET MET/pt\n",
      "Muon Muon/charge\n",
      "Muon Muon/dxy\n",
      "Muon Muon/dxyErr\n",
      "Muon Muon/dz\n",
      "Muon Muon/dzErr\n",
      "Muon Muon/eta\n",
      "Muon Muon/mass\n",
      "Muon Muon/pfRelIso03_all\n",
      "Muon Muon/pfRelIso04_all\n",
      "Muon Muon/phi\n",
      "Muon Muon/pt\n",
      "PV PV/npvs\n",
      "PV PV/x\n",
      "PV PV/y\n",
      "PV PV/z\n",
      "Time to convert the arrays is 0.03745150566101074 sectonds\n",
      "[1, 1, 1, 1, 1, 1, 1, 1, 1, 1, 1, 1, 1, ..., 1, 1, 1, 1, 1, 1, 1, 1, 1, 1, 1, 1]\n",
      "[156, 156, 156, 156, 156, 156, 156, 156, ..., 996, 996, 996, 996, 996, 996, 996]\n",
      "[46501, 46502, 46503, 46504, 46505, ..., 298796, 298797, 298798, 298799, 298800]\n",
      "[{charge: [], dxy: [], dxyErr: [], dz: [], dzErr: [], eta: [], ...}, ..., {...}]\n",
      "\t [[], [1, 1, -1, -1], [-1, 1], [-1], [-1, ...], ..., [1], [], [-1, 1], [-1, 1]]\n",
      "\t [[], [-0.000513, 0.00165, -0.00116, -0.00177], ..., [3.34e-05, -0.000658]]\n",
      "\t [[], [0.00237, 0.00292, 0.00252, 0.00552], [...], ..., [...], [0.0022, 0.00821]]\n",
      "\t [[], [-0.00306, 0.00278, 0.00213, 0.00294], ..., [...], [-0.0022, 0.00558]]\n",
      "\t [[], [0.00256, 0.00339, 0.00306, 0.00437], ..., [...], [0.00241, 0.00558]]\n",
      "\t [[], [-0.702, -0.98, -0.934, -1.36], [...], ..., [], [2.2, 2.16], [0.532, 1.4]]\n",
      "\t [[], [0.00544, 0.00867, 0.0185, 0.00816], ..., [-0.0171, ...], [0.0127, 0.0185]]\n",
      "\t [[], [0.153, 0.0733, 0.0297, 0.0744], ..., [0.0488, ...], [0.0842, 0.0222]]\n",
      "\t [[], [0.134, -1.86, -2.21, -0.622], [...], ..., [-1.12, 1.84], [-1.61, 0.972]]\n",
      "\t [[], [21.9, 42.6, 78, 23.8], [11.6, 6.69], ..., [], [17.9, 23.2], [48.1, 38.7]]\n",
      "[{phi: [-2.73], pt: [21.9]}, {phi: [2.87], ...}, ..., {phi: [1.65], pt: [12.9]}]\n",
      "\t [[-2.73], [2.87], [-2.17], [-1.6], ..., [-1.86], [1.89], [-1.97], [1.65]]\n",
      "\t [[21.9], [17], [19.1], [30.9], [14.4], ..., [33], [18.3], [17.7], [24], [12.9]]\n",
      "[{charge: [1, -1, 1], dxy: [-0.00479, ...], dxyErr: [...], dz: [...], ...}, ...]\n",
      "\t [[1, -1, 1], [], [], [1, -1, -1, 1, -1, -1, 1], ..., [1, -1, 1, 1], [], []]\n",
      "\t [[-0.00479, 0.000575, -0.00232], [], [], ..., [0.227, -999, ..., -999], [], []]\n",
      "\t [[0.00608, 0.0013, 0.00434], [], [], ..., [0.0158, -999, ..., -999], [], []]\n",
      "\t [[0.0901, -0.00323, -0.00516], [], [], ..., [-2.39, -999, ..., -999], [], []]\n",
      "\t [[0.0446, 0.00302, 0.00419], [], [], ..., [0.0709, -999, ..., -999], [], []]\n",
      "\t [[-0.719, -0.879, -0.321], [], [], ..., [-2.09, -2.15, ..., -2.02], [], []]\n",
      "\t [[0.106, 0.106, 0.106], [], [], ..., [0.106, 0.106, 0.106, 0.106], [], []]\n",
      "\t [[0, 0, 0], [], [], [0.168, ..., -999], ..., [1.86, -999, -999, -999], [], []]\n",
      "\t [[0, 0, 0.18], [], [], [0.334, ...], ..., [3.45, -999, -999, -999], [], []]\n",
      "\t [[2.97, -1.03, 1.04], [], [], [...], ..., [0.988, 0.434, 1.01, 1.08], [], []]\n",
      "\t [[63, 38.1, 4.05], [], [], [54.3, ...], ..., [4.32, 4.36, 5.63, 4.75], [], []]\n",
      "[{npvs: [15], x: [0.244], y: [0.394], z: [1.45]}, {...}, ..., {npvs: [13], ...}]\n",
      "\t [[15], [13], [11], [22], [18], [5], ..., [30], [15], [18], [9], [15], [13]]\n",
      "\t [[0.244], [0.244], [0.242], [0.243], ..., [0.243], [0.245], [0.243], [0.247]]\n",
      "\t [[0.394], [0.395], [0.395], [0.393], ..., [0.393], [0.391], [0.389], [0.392]]\n",
      "\t [[1.45], [-2.88], [1.87], [-7.88], [7.06], ..., [-2.25], [2.06], [5.05], [6.52]]\n",
      "Time to pack everything into a bigger awkward array is 0.022222518920898438 sectonds\n",
      "         83502 function calls (80666 primitive calls) in 0.060 seconds\n",
      "\n",
      "   Ordered by: standard name\n",
      "\n",
      "   ncalls  tottime  percall  cumtime  percall filename:lineno(function)\n",
      "       27    0.000    0.000    0.028    0.001 <__array_function__ internals>:177(cumsum)\n",
      "       27    0.000    0.000    0.000    0.000 <__array_function__ internals>:177(reshape)\n",
      "       27    0.000    0.000    0.000    0.000 <__array_function__ internals>:177(searchsorted)\n",
      "      506    0.000    0.000    0.000    0.000 <frozen importlib._bootstrap>:1033(_handle_fromlist)\n",
      "       27    0.000    0.000    0.000    0.000 __init__.py:14(to_nplike)\n",
      "      430    0.000    0.000    0.000    0.000 _behavior.py:12(overlay_behavior)\n",
      "       57    0.000    0.000    0.000    0.000 _behavior.py:132(behavior_of)\n",
      "      417    0.001    0.000    0.001    0.000 _behavior.py:25(get_array_class)\n",
      "       13    0.000    0.000    0.000    0.000 _behavior.py:42(get_record_class)\n",
      "   141/30    0.000    0.000    0.036    0.001 _dispatch.py:16(dispatch)\n",
      "       60    0.000    0.000    0.000    0.000 _errors.py:186(any_backend_is_delayed)\n",
      "      141    0.000    0.000    0.001    0.000 _errors.py:210(__init__)\n",
      "      540    0.000    0.000    0.000    0.000 _errors.py:27(__init__)\n",
      "      129    0.001    0.000    0.003    0.000 _errors.py:290(__init__)\n",
      "      387    0.000    0.000    0.002    0.000 _errors.py:295(<genexpr>)\n",
      "      810    0.000    0.000    0.000    0.000 _errors.py:45(primary)\n",
      "      270    0.000    0.000    0.000    0.000 _errors.py:49(__init__)\n",
      "      270    0.000    0.000    0.000    0.000 _errors.py:52(__enter__)\n",
      "      270    0.000    0.000    0.000    0.000 _errors.py:59(__exit__)\n",
      "      449    0.001    0.000    0.006    0.000 _layout.py:19(wrap_layout)\n",
      "       57    0.000    0.000    0.002    0.000 _layout.py:39(from_arraylib)\n",
      "       57    0.000    0.000    0.001    0.000 _layout.py:53(recurse)\n",
      "      136    0.000    0.000    0.000    0.000 _prettyprint.py:13(half)\n",
      "      584    0.000    0.000    0.000    0.000 _prettyprint.py:17(alternate)\n",
      "       34    0.000    0.000    0.014    0.000 _prettyprint.py:231(valuestr)\n",
      "      543    0.001    0.000    0.008    0.000 _prettyprint.py:42(get_at)\n",
      "       20    0.000    0.000    0.001    0.000 _prettyprint.py:56(get_field)\n",
      "      468    0.000    0.000    0.001    0.000 _prettyprint.py:70(custom_str)\n",
      "   597/34    0.002    0.000    0.014    0.000 _prettyprint.py:93(valuestr_horiz)\n",
      "      162    0.000    0.000    0.000    0.000 _regularize.py:25(is_integer)\n",
      "      156    0.000    0.000    0.000    0.000 _regularize.py:29(is_array_like)\n",
      "      156    0.000    0.000    0.001    0.000 _regularize.py:33(is_integer_like)\n",
      "       27    0.000    0.000    0.000    0.000 _regularize.py:53(regularize_axis)\n",
      "      327    0.000    0.000    0.000    0.000 _singleton.py:12(instance)\n",
      "     3548    0.001    0.000    0.002    0.000 abc.py:117(__instancecheck__)\n",
      "     1345    0.000    0.000    0.000    0.000 abc.py:121(__subclasscheck__)\n",
      "       57    0.000    0.000    0.002    0.000 ak_from_numpy.py:7(from_numpy)\n",
      "      114    0.000    0.000    0.003    0.000 ak_to_layout.py:20(to_layout)\n",
      "       57    0.000    0.000    0.003    0.000 ak_to_layout.py:51(_impl)\n",
      "       27    0.001    0.000    0.002    0.000 ak_unflatten.py:129(unflatten_this_layout)\n",
      "       54    0.000    0.000    0.035    0.001 ak_unflatten.py:15(unflatten)\n",
      "       27    0.000    0.000    0.035    0.001 ak_unflatten.py:86(_impl)\n",
      "       27    0.000    0.000    0.000    0.000 array_module.py:125(searchsorted)\n",
      "       27    0.000    0.000    0.000    0.000 array_module.py:144(reshape)\n",
      "       54    0.000    0.000    0.000    0.000 array_module.py:160(shape_item_as_index)\n",
      "      388    0.000    0.000    0.001    0.000 array_module.py:27(asarray)\n",
      "       27    0.000    0.000    0.028    0.001 array_module.py:437(cumsum)\n",
      "      949    0.000    0.000    0.001    0.000 array_module.py:472(is_own_array)\n",
      "       27    0.000    0.000    0.000    0.000 array_module.py:49(ascontiguousarray)\n",
      "       27    0.000    0.000    0.000    0.000 array_module.py:72(empty)\n",
      "        1    0.001    0.001    0.060    0.060 awkward_tools.py:29(hepfile_to_awkward)\n",
      "        1    0.000    0.000    0.022    0.022 awkward_tools.py:377(_awkward_depth_check)\n",
      "        1    0.000    0.000    0.022    0.022 awkward_tools.py:389(_is_valid_awkward)\n",
      "        1    0.000    0.000    0.000    0.000 cProfile.py:41(print_stats)\n",
      "        1    0.000    0.000    0.000    0.000 cProfile.py:51(create_stats)\n",
      "    57/30    0.000    0.000    0.000    0.000 content.py:1000(fields)\n",
      "       27    0.000    0.000    0.000    0.000 content.py:1078(to_backend_array)\n",
      "      132    0.000    0.000    0.000    0.000 content.py:1316(find_content_backend)\n",
      "      662    0.000    0.000    0.000    0.000 content.py:176(parameter)\n",
      "      548    0.000    0.000    0.000    0.000 content.py:187(backend)\n",
      "      129    0.000    0.000    0.001    0.000 content.py:524(__getitem__)\n",
      "      129    0.000    0.000    0.001    0.000 content.py:527(_getitem)\n",
      "      417    0.000    0.000    0.001    0.000 content.py:929(purelist_parameter)\n",
      " 1063/847    0.000    0.000    0.001    0.000 content.py:939(purelist_parameters)\n",
      "      339    0.000    0.000    0.001    0.000 content.py:95(_init)\n",
      "      578    0.000    0.000    0.000    0.000 cupy.py:151(is_own_array_type)\n",
      "      375    0.000    0.000    0.002    0.000 dispatch.py:101(<listcomp>)\n",
      "      750    0.000    0.000    0.002    0.000 dispatch.py:102(<genexpr>)\n",
      "       84    0.000    0.000    0.000    0.000 dispatch.py:22(nplike_of)\n",
      "      114    0.000    0.000    0.000    0.000 dispatch.py:33(lookup)\n",
      "      528    0.000    0.000    0.001    0.000 dispatch.py:36(lookup_factory)\n",
      "      243    0.000    0.000    0.000    0.000 dispatch.py:49(common_backend)\n",
      "      375    0.000    0.000    0.002    0.000 dispatch.py:72(_backend_of)\n",
      "      375    0.000    0.000    0.002    0.000 dispatch.py:91(backend_of)\n",
      "      417    0.000    0.000    0.000    0.000 form.py:379(purelist_parameter)\n",
      "       27    0.000    0.000    0.000    0.000 fromnumeric.py:1315(_searchsorted_dispatcher)\n",
      "       27    0.000    0.000    0.000    0.000 fromnumeric.py:1319(searchsorted)\n",
      "       27    0.000    0.000    0.000    0.000 fromnumeric.py:193(_reshape_dispatcher)\n",
      "       27    0.000    0.000    0.000    0.000 fromnumeric.py:198(reshape)\n",
      "       27    0.000    0.000    0.000    0.000 fromnumeric.py:2493(_cumsum_dispatcher)\n",
      "       27    0.000    0.000    0.028    0.001 fromnumeric.py:2497(cumsum)\n",
      "       81    0.000    0.000    0.028    0.000 fromnumeric.py:51(_wrapfunc)\n",
      "2919/1251    0.001    0.000    0.004    0.000 highlevel.py:1110(__setattr__)\n",
      "       34    0.000    0.000    0.014    0.000 highlevel.py:1162(__str__)\n",
      "       13    0.000    0.000    0.000    0.000 highlevel.py:1505(__init__)\n",
      "       26    0.000    0.000    0.000    0.000 highlevel.py:1567(layout)\n",
      "       13    0.000    0.000    0.000    0.000 highlevel.py:1604(layout)\n",
      "       13    0.000    0.000    0.000    0.000 highlevel.py:1631(behavior)\n",
      "       13    0.000    0.000    0.000    0.000 highlevel.py:1666(fields)\n",
      "    78/26    0.000    0.000    0.000    0.000 highlevel.py:1853(__setattr__)\n",
      "  417/383    0.001    0.000    0.005    0.000 highlevel.py:196(__init__)\n",
      "      454    0.000    0.000    0.000    0.000 highlevel.py:265(layout)\n",
      "      132    0.000    0.000    0.000    0.000 highlevel.py:2768(find_highlevel_backend)\n",
      "      129    0.000    0.000    0.000    0.000 highlevel.py:2772(finder)\n",
      "      132    0.000    0.000    0.000    0.000 highlevel.py:2784(find_lowlevel_backend)\n",
      "      417    0.000    0.000    0.001    0.000 highlevel.py:308(layout)\n",
      "       30    0.000    0.000    0.000    0.000 highlevel.py:316(behavior)\n",
      "      417    0.000    0.000    0.002    0.000 highlevel.py:335(behavior)\n",
      "      129    0.000    0.000    0.000    0.000 highlevel.py:38(prepare_layout)\n",
      "       36    0.000    0.000    0.000    0.000 highlevel.py:419(fields)\n",
      "      655    0.000    0.000    0.000    0.000 highlevel.py:470(__len__)\n",
      "      129    0.000    0.000    0.007    0.000 highlevel.py:515(__getitem__)\n",
      "       27    0.000    0.000    0.000    0.000 index.py:104(nplike)\n",
      "      837    0.000    0.000    0.000    0.000 index.py:122(length)\n",
      "      446    0.000    0.000    0.001    0.000 index.py:188(__getitem__)\n",
      "       27    0.000    0.000    0.000    0.000 index.py:41(__init__)\n",
      "      141    0.000    0.000    0.000    0.000 inspect.py:209(isgenerator)\n",
      "        1    0.000    0.000    0.000    0.000 iostream.py:202(schedule)\n",
      "      234    0.000    0.000    0.000    0.000 iostream.py:437(_is_master_process)\n",
      "      234    0.000    0.000    0.000    0.000 iostream.py:456(_schedule_flush)\n",
      "      234    0.000    0.000    0.001    0.000 iostream.py:526(write)\n",
      "        1    0.000    0.000    0.000    0.000 iostream.py:90(_event_pipe)\n",
      "      578    0.000    0.000    0.001    0.000 jax.py:38(is_own_array_type)\n",
      "      578    0.000    0.000    0.000    0.000 jax.py:49(is_array_type)\n",
      "      635    0.000    0.000    0.000    0.000 jax.py:61(is_tracer_type)\n",
      "       27    0.000    0.000    0.000    0.000 listoffsetarray.py:101(__init__)\n",
      "      783    0.000    0.000    0.000    0.000 listoffsetarray.py:226(length)\n",
      "      223    0.000    0.000    0.005    0.000 listoffsetarray.py:295(_getitem_at)\n",
      "       27    0.000    0.000    0.000    0.000 listoffsetform.py:132(fields)\n",
      "      216    0.000    0.000    0.000    0.000 listoffsetform.py:93(purelist_parameters)\n",
      "      240    0.000    0.000    0.000    0.000 numerictypes.py:282(issubclass_)\n",
      "      120    0.000    0.000    0.000    0.000 numerictypes.py:356(issubdtype)\n",
      "       57    0.000    0.000    0.000    0.000 numpy.py:22(ma)\n",
      "     1686    0.000    0.000    0.000    0.000 numpy.py:23(nplike)\n",
      "      189    0.000    0.000    0.000    0.000 numpy.py:27(index_nplike)\n",
      "      189    0.000    0.000    0.000    0.000 numpy.py:34(is_own_array_type)\n",
      "       27    0.000    0.000    0.000    0.000 numpy.py:45(is_c_contiguous)\n",
      "      307    0.001    0.000    0.003    0.000 numpyarray.py:100(__init__)\n",
      "       27    0.000    0.000    0.000    0.000 numpyarray.py:1218(_to_backend_array)\n",
      "       27    0.000    0.000    0.000    0.000 numpyarray.py:126(data)\n",
      "       27    0.000    0.000    0.001    0.000 numpyarray.py:1274(to_packed)\n",
      "      666    0.000    0.000    0.000    0.000 numpyarray.py:216(length)\n",
      "       27    0.000    0.000    0.001    0.000 numpyarray.py:257(to_RegularArray)\n",
      "      327    0.000    0.000    0.000    0.000 numpyarray.py:290(_getitem_at)\n",
      "      223    0.000    0.000    0.002    0.000 numpyarray.py:305(_getitem_range)\n",
      "       27    0.000    0.000    0.000    0.000 numpyarray.py:534(to_contiguous)\n",
      "       27    0.000    0.000    0.000    0.000 numpyarray.py:544(is_contiguous)\n",
      "      692    0.000    0.000    0.000    0.000 numpyform.py:173(purelist_parameters)\n",
      "       30    0.000    0.000    0.000    0.000 numpyform.py:200(fields)\n",
      "      120    0.000    0.000    0.000    0.000 numpylike.py:210(issubdtype)\n",
      "      307    0.000    0.000    0.000    0.000 numpytype.py:44(dtype_to_primitive)\n",
      "        1    0.000    0.000    0.000    0.000 pstats.py:107(__init__)\n",
      "        1    0.000    0.000    0.000    0.000 pstats.py:117(init)\n",
      "        1    0.000    0.000    0.000    0.000 pstats.py:136(load_stats)\n",
      "       13    0.000    0.000    0.000    0.000 record.py:106(parameter)\n",
      "       13    0.000    0.000    0.000    0.000 record.py:109(purelist_parameter)\n",
      "       20    0.000    0.000    0.001    0.000 record.py:189(_getitem_field)\n",
      "      132    0.000    0.000    0.000    0.000 record.py:255(find_record_backend)\n",
      "       13    0.000    0.000    0.000    0.000 record.py:40(__init__)\n",
      "       13    0.000    0.000    0.000    0.000 record.py:53(array)\n",
      "       13    0.000    0.000    0.000    0.000 record.py:57(backend)\n",
      "       13    0.000    0.000    0.000    0.000 record.py:69(is_tuple)\n",
      "        5    0.000    0.000    0.000    0.000 recordarray.py:139(__init__)\n",
      "       39    0.000    0.000    0.000    0.000 recordarray.py:232(<genexpr>)\n",
      "       19    0.000    0.000    0.000    0.000 recordarray.py:260(fields)\n",
      "       13    0.000    0.000    0.000    0.000 recordarray.py:308(is_tuple)\n",
      "      186    0.000    0.000    0.000    0.000 recordarray.py:367(length)\n",
      "      149    0.000    0.000    0.000    0.000 recordarray.py:405(field_to_index)\n",
      "      149    0.000    0.000    0.001    0.000 recordarray.py:411(content)\n",
      "       13    0.000    0.000    0.000    0.000 recordarray.py:436(_getitem_at)\n",
      "      149    0.000    0.000    0.001    0.000 recordarray.py:469(_getitem_field)\n",
      "      149    0.000    0.000    0.000    0.000 recordform.py:106(field_to_index)\n",
      "      149    0.000    0.000    0.000    0.000 recordform.py:139(content)\n",
      "      155    0.000    0.000    0.000    0.000 recordform.py:193(purelist_parameters)\n",
      "        1    0.000    0.000    0.000    0.000 socket.py:621(send)\n",
      "        1    0.000    0.000    0.000    0.000 threading.py:1066(_wait_for_tstate_lock)\n",
      "        1    0.000    0.000    0.000    0.000 threading.py:1133(is_alive)\n",
      "        1    0.000    0.000    0.000    0.000 threading.py:536(is_set)\n",
      "      132    0.000    0.000    0.000    0.000 typetracer.py:1369(is_own_array_type)\n",
      "      473    0.000    0.000    0.001    0.000 typetracer.py:37(is_unknown_scalar)\n",
      "      132    0.000    0.000    0.000    0.000 typing_extensions.py:574(__subclasscheck__)\n",
      "     1723    0.001    0.000    0.002    0.000 typing_extensions.py:593(__instancecheck__)\n",
      "      673    0.000    0.000    0.000    0.000 typing_extensions.py:622(__eq__)\n",
      "     3548    0.001    0.000    0.001    0.000 {built-in method _abc._abc_instancecheck}\n",
      "     1345    0.000    0.000    0.000    0.000 {built-in method _abc._abc_subclasscheck}\n",
      "      134    0.000    0.000    0.002    0.000 {built-in method builtins.all}\n",
      "     1936    0.000    0.000    0.000    0.000 {built-in method builtins.getattr}\n",
      "     2830    0.000    0.000    0.000    0.000 {built-in method builtins.hasattr}\n",
      "    12414    0.002    0.000    0.004    0.000 {built-in method builtins.isinstance}\n",
      "     3240    0.001    0.000    0.001    0.000 {built-in method builtins.issubclass}\n",
      "      475    0.000    0.000    0.000    0.000 {built-in method builtins.iter}\n",
      "     3017    0.000    0.000    0.001    0.000 {built-in method builtins.len}\n",
      "       29    0.000    0.000    0.000    0.000 {built-in method builtins.min}\n",
      "  969/804    0.000    0.000    0.036    0.000 {built-in method builtins.next}\n",
      "       63    0.000    0.000    0.015    0.000 {built-in method builtins.print}\n",
      "      136    0.000    0.000    0.000    0.000 {built-in method math.ceil}\n",
      "      388    0.000    0.000    0.000    0.000 {built-in method numpy.asarray}\n",
      "       27    0.000    0.000    0.000    0.000 {built-in method numpy.ascontiguousarray}\n",
      "       81    0.000    0.000    0.028    0.000 {built-in method numpy.core._multiarray_umath.implement_array_function}\n",
      "       27    0.000    0.000    0.000    0.000 {built-in method numpy.empty}\n",
      "      234    0.000    0.000    0.000    0.000 {built-in method posix.getpid}\n",
      "        4    0.000    0.000    0.000    0.000 {built-in method time.time}\n",
      "      234    0.000    0.000    0.000    0.000 {method '__exit__' of '_thread.RLock' objects}\n",
      "        1    0.000    0.000    0.000    0.000 {method 'acquire' of '_thread.lock' objects}\n",
      "        1    0.000    0.000    0.000    0.000 {method 'append' of 'collections.deque' objects}\n",
      "      349    0.000    0.000    0.000    0.000 {method 'append' of 'list' objects}\n",
      "      588    0.000    0.000    0.000    0.000 {method 'clear' of 'dict' objects}\n",
      "       27    0.028    0.001    0.028    0.001 {method 'cumsum' of 'numpy.ndarray' objects}\n",
      "        1    0.000    0.000    0.000    0.000 {method 'disable' of '_lsprof.Profiler' objects}\n",
      "      238    0.000    0.000    0.000    0.000 {method 'extend' of 'list' objects}\n",
      "     1174    0.000    0.000    0.000    0.000 {method 'get' of 'dict' objects}\n",
      "      149    0.000    0.000    0.000    0.000 {method 'index' of 'list' objects}\n",
      "      179    0.000    0.000    0.000    0.000 {method 'insert' of 'list' objects}\n",
      "        5    0.000    0.000    0.000    0.000 {method 'items' of 'dict' objects}\n",
      "       34    0.000    0.000    0.000    0.000 {method 'join' of 'str' objects}\n",
      "       34    0.000    0.000    0.000    0.000 {method 'keys' of 'dict' objects}\n",
      "       30    0.000    0.000    0.000    0.000 {method 'match' of 're.Pattern' objects}\n",
      "     1791    0.000    0.000    0.000    0.000 {method 'partition' of 'str' objects}\n",
      "       27    0.000    0.000    0.000    0.000 {method 'reshape' of 'numpy.ndarray' objects}\n",
      "       27    0.000    0.000    0.000    0.000 {method 'searchsorted' of 'numpy.ndarray' objects}\n",
      "     2997    0.000    0.000    0.000    0.000 {method 'startswith' of 'str' objects}\n",
      "      159    0.000    0.000    0.000    0.000 {method 'update' of 'dict' objects}\n",
      "      307    0.000    0.000    0.000    0.000 {method 'upper' of 'str' objects}\n",
      "       30    0.000    0.000    0.000    0.000 {method 'values' of 'dict' objects}\n",
      "      234    0.000    0.000    0.000    0.000 {method 'write' of '_io.StringIO' objects}\n",
      "\n",
      "\n"
     ]
    }
   ],
   "source": [
    "import cProfile\n",
    "with cProfile.Profile() as profile:\n",
    "    hepfile.awkward_tools.hepfile_to_awkward(data)\n",
    "    profile.print_stats()"
   ]
  },
  {
   "cell_type": "markdown",
   "id": "f5c90f74",
   "metadata": {},
   "source": [
    "# Scratch code\n",
    "\n",
    "Just a bunch of test code when I was trying to figure this all out. "
   ]
  },
  {
   "cell_type": "code",
   "execution_count": 30,
   "id": "04a75c70",
   "metadata": {},
   "outputs": [
    {
     "ename": "AttributeError",
     "evalue": "'Model_TTree_v20' object has no attribute 'fields'",
     "output_type": "error",
     "traceback": [
      "\u001b[0;31m---------------------------------------------------------------------------\u001b[0m",
      "\u001b[0;31mAttributeError\u001b[0m                            Traceback (most recent call last)",
      "Cell \u001b[0;32mIn[30], line 6\u001b[0m\n\u001b[1;32m      2\u001b[0m groups_to_datasets \u001b[38;5;241m=\u001b[39m {}\n\u001b[1;32m      4\u001b[0m counters \u001b[38;5;241m=\u001b[39m []\n\u001b[0;32m----> 6\u001b[0m \u001b[38;5;28;01mfor\u001b[39;00m field \u001b[38;5;129;01min\u001b[39;00m \u001b[43mevents\u001b[49m\u001b[38;5;241;43m.\u001b[39;49m\u001b[43mfields\u001b[49m:\n\u001b[1;32m      8\u001b[0m     \u001b[38;5;28mprint\u001b[39m(field)\n\u001b[1;32m     10\u001b[0m     d[field] \u001b[38;5;241m=\u001b[39m []\n",
      "\u001b[0;31mAttributeError\u001b[0m: 'Model_TTree_v20' object has no attribute 'fields'"
     ]
    }
   ],
   "source": [
    "d = {}\n",
    "groups_to_datasets = {}\n",
    "\n",
    "counters = []\n",
    "\n",
    "for field in events.fields:\n",
    "    \n",
    "    print(field)\n",
    "    \n",
    "    d[field] = []\n",
    "    groups_to_datasets[field] = []\n",
    "    \n",
    "    counters.append(f'n{field}')\n",
    "    \n",
    "    for v in events[field].fields:\n",
    "        groups_to_datasets[field].append(v)\n",
    "        \n",
    "        key = f\"{field}/{v}\"\n",
    "        \n",
    "        x = events[field][v]\n",
    "        \n",
    "        #print(v)\n",
    "        \n",
    "        print(f\"\\t{v}   {x.ndim}\")\n",
    "        \n",
    "        if x.ndim==1:\n",
    "            dtype = x.layout.format\n",
    "            x = ak.to_numpy(x)\n",
    "\n",
    "        else:\n",
    "            dtype = x.layout.content.format\n",
    "            x = ak.flatten(x).to_numpy()\n",
    "\n",
    "\n",
    "        d[key] = x"
   ]
  },
  {
   "cell_type": "code",
   "execution_count": null,
   "id": "e7ed3b8a",
   "metadata": {},
   "outputs": [],
   "source": [
    "!ls -ltr"
   ]
  },
  {
   "cell_type": "code",
   "execution_count": null,
   "id": "f7c90f4d",
   "metadata": {},
   "outputs": [],
   "source": [
    "ak.num(events['Muon']['pt'])"
   ]
  },
  {
   "cell_type": "code",
   "execution_count": null,
   "id": "eab7e768",
   "metadata": {},
   "outputs": [],
   "source": [
    "events.luminosityBlock"
   ]
  },
  {
   "cell_type": "code",
   "execution_count": null,
   "id": "2766bfc5",
   "metadata": {},
   "outputs": [],
   "source": [
    "d"
   ]
  },
  {
   "cell_type": "code",
   "execution_count": null,
   "id": "b2afa89d",
   "metadata": {},
   "outputs": [],
   "source": []
  },
  {
   "cell_type": "code",
   "execution_count": null,
   "id": "da6be6d5",
   "metadata": {},
   "outputs": [],
   "source": [
    "x = events['MET']['pt']\n",
    "\n",
    "print(x.ndim)\n",
    "print(events['Muon']['pt'].ndim)\n",
    "print(events['MET']['pt'].ndim)"
   ]
  },
  {
   "cell_type": "code",
   "execution_count": null,
   "id": "b81a4e32",
   "metadata": {},
   "outputs": [],
   "source": [
    "#x.layout\n",
    "layout = events['Electron']['pt'].layout"
   ]
  },
  {
   "cell_type": "code",
   "execution_count": null,
   "id": "1943fe0b",
   "metadata": {},
   "outputs": [],
   "source": [
    "layout.content.format"
   ]
  },
  {
   "cell_type": "code",
   "execution_count": null,
   "id": "14af5009",
   "metadata": {},
   "outputs": [],
   "source": [
    "x = events['MET']['pt']\n",
    "\n",
    "x.layout.format"
   ]
  },
  {
   "cell_type": "code",
   "execution_count": null,
   "id": "db6a7753",
   "metadata": {},
   "outputs": [],
   "source": [
    "x = events['MET']['pt']\n",
    "\n",
    "x.layout"
   ]
  },
  {
   "cell_type": "code",
   "execution_count": null,
   "id": "f22837e0",
   "metadata": {},
   "outputs": [],
   "source": [
    "x = events['MET']['pt']\n",
    "\n",
    "try:\n",
    "    x = ak.flatten(x)\n",
    "except:\n",
    "    1\n",
    "x = ak.to_numpy(x)\n",
    "\n",
    "print(type(x))"
   ]
  },
  {
   "cell_type": "markdown",
   "id": "a08038a5",
   "metadata": {},
   "source": [
    "# Testing out the loop way"
   ]
  },
  {
   "cell_type": "code",
   "execution_count": null,
   "id": "919ed315",
   "metadata": {},
   "outputs": [],
   "source": [
    "data = hepfile.initialize()\n",
    "data"
   ]
  },
  {
   "cell_type": "code",
   "execution_count": null,
   "id": "6ba0e159",
   "metadata": {},
   "outputs": [],
   "source": [
    "hepfile.create_group(data,group_name='muon',counter='nmuon')\n",
    "hepfile.create_dataset(data,group='muon',dset_name=['px','py','pz'],dtype=float)\n",
    "\n",
    "hepfile.create_dataset(data,dset_name=['luminosity_block'],dtype=int)\n",
    "\n",
    "bucket = hepfile.create_single_bucket(data)"
   ]
  },
  {
   "cell_type": "code",
   "execution_count": null,
   "id": "3b7698db",
   "metadata": {},
   "outputs": [],
   "source": [
    "data"
   ]
  },
  {
   "cell_type": "code",
   "execution_count": null,
   "id": "81775b77",
   "metadata": {
    "scrolled": true
   },
   "outputs": [],
   "source": [
    "nevents = 100\n",
    "\n",
    "for i in range(nevents):\n",
    "    nmuon = np.random.randint(0,5)\n",
    "    bucket['muon/nmuon'] = nmuon\n",
    "    bucket['muon/px'] = np.random.random(nmuon).tolist()\n",
    "    bucket['muon/py'] = np.random.random(nmuon).tolist()\n",
    "    bucket['muon/pz'] = np.random.random(nmuon).tolist()\n",
    "    \n",
    "    bucket['luminosity_block'] = np.random.randint(100,10000)\n",
    "    \n",
    "    hepfile.pack(data,bucket)\n",
    "\n",
    "hepfile.write_to_file('awkward_write_test_LOOP_FILL.h5', data, verbose=True)\n",
    " "
   ]
  },
  {
   "cell_type": "code",
   "execution_count": null,
   "id": "a8640bdf",
   "metadata": {},
   "outputs": [],
   "source": [
    "data,bucket = hepfile.load('awkward_write_test_LOOP_FILL.h5')"
   ]
  },
  {
   "cell_type": "code",
   "execution_count": null,
   "id": "6900fec5",
   "metadata": {},
   "outputs": [],
   "source": [
    "data['luminosity_block']"
   ]
  },
  {
   "cell_type": "code",
   "execution_count": null,
   "id": "4b6b50fd",
   "metadata": {},
   "outputs": [],
   "source": []
  }
 ],
 "metadata": {
  "kernelspec": {
   "display_name": "Python 3 (ipykernel)",
   "language": "python",
   "name": "python3"
  },
  "language_info": {
   "codemirror_mode": {
    "name": "ipython",
    "version": 3
   },
   "file_extension": ".py",
   "mimetype": "text/x-python",
   "name": "python",
   "nbconvert_exporter": "python",
   "pygments_lexer": "ipython3",
   "version": "3.9.17"
  }
 },
 "nbformat": 4,
 "nbformat_minor": 5
}
