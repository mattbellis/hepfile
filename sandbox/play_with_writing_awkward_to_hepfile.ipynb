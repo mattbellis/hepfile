{
 "cells": [
  {
   "cell_type": "code",
   "execution_count": null,
   "id": "4f5f076b",
   "metadata": {},
   "outputs": [],
   "source": [
    "import awkward as ak\n",
    "import numpy as np\n",
    "\n",
    "import hepfile\n",
    "\n",
    "import uproot\n"
   ]
  },
  {
   "cell_type": "code",
   "execution_count": null,
   "id": "fc76bb5d",
   "metadata": {},
   "outputs": [],
   "source": [
    "# Down load a file for us to play with\n",
    "!curl http://opendata.cern.ch/record/12361/files/SMHiggsToZZTo4L.root --output SMHiggsToZZTo4L.root\n"
   ]
  },
  {
   "cell_type": "code",
   "execution_count": null,
   "id": "57c0b407",
   "metadata": {},
   "outputs": [],
   "source": [
    "# We could use uproot to open it directly if we wanted. \n",
    "# But we're going to take advantage of a tool which makes\n",
    "# awkward arrays that are more like what we expect others to work with\n",
    "f = uproot.open('SMHiggsToZZTo4L.root')\n",
    "\n",
    "events = f['Events']\n",
    "\n",
    "events"
   ]
  },
  {
   "cell_type": "code",
   "execution_count": null,
   "id": "9da27f4a",
   "metadata": {},
   "outputs": [],
   "source": [
    "events.keys()"
   ]
  },
  {
   "cell_type": "code",
   "execution_count": null,
   "id": "f052e21d",
   "metadata": {},
   "outputs": [],
   "source": [
    "# Let's check out these types and their sizes\n",
    "\n",
    "print(type(events['Muon_pt'].array()))\n",
    "print()\n",
    "\n",
    "# Number of events\n",
    "print(ak.num(events['Muon_pt'].array(),axis=0))\n",
    "\n",
    "# Number of muons in each event\n",
    "print(ak.num(events['Muon_pt'].array(),axis=1))\n",
    "\n",
    "# Number of muons in total\n",
    "print(ak.sum(ak.num(events['Muon_pt'].array(),axis=1)))"
   ]
  },
  {
   "cell_type": "code",
   "execution_count": null,
   "id": "fce6647b",
   "metadata": {
    "scrolled": false
   },
   "outputs": [],
   "source": [
    "# This is expecting something like the Muon group from events\n",
    "# But we could change it to perhaps be a list of awkward arrays\n",
    "\n",
    "def pack_awkward_array(d, arr, group_name):\n",
    "    \n",
    "    # To turn what is returned by awkward into what we store\n",
    "    # Not sure if the string part is correct\n",
    "    dtype_dict = {'f':float, 'i':int, 's':str}\n",
    "    \n",
    "    # d is our data dictionary that was already initialized\n",
    "    counter = f\"n{group_name}\"\n",
    "    d['_GROUPS_'][group_name] = [counter]\n",
    "    \n",
    "    # We will use this name for the counter later\n",
    "    counter = f\"{group_name}/n{group_name}\"\n",
    "    d['_MAP_DATASETS_TO_DATA_TYPES_'][counter] = int\n",
    "\n",
    "    d['_MAP_DATASETS_TO_COUNTERS_'][group_name] = counter\n",
    "    d['_LIST_OF_COUNTERS_'].append(counter)\n",
    "    \n",
    "    #for field in arr.fields:\n",
    "    for field in arr.keys():\n",
    "        # build a name for the hepfile entry\n",
    "        dataset_name = f\"{group_name}/{field}\"\n",
    "        #print(field)\n",
    "        print(dataset_name)\n",
    "        \n",
    "        # Get the values\n",
    "        x = arr[field]\n",
    "        \n",
    "        # For debugging\n",
    "        #print(f\"\\t{v}   {x.ndim}\")\n",
    "        \n",
    "        # Tells us if this is jagged or not\n",
    "        if x.ndim==1:\n",
    "            dtype = float#x.layout.format\n",
    "            x = ak.to_numpy(x)\n",
    "            num = np.ones(len(x),dtype=int) # This is repeated, should we only do it once?\n",
    "\n",
    "        else:\n",
    "            dtype = float#x.layout.content.format\n",
    "            num = ak.num(x)\n",
    "            x = ak.flatten(x).to_numpy()\n",
    "            \n",
    "        d[dataset_name] = x\n",
    "        \n",
    "        #print(dtype_dict[dtype])\n",
    "        d['_MAP_DATASETS_TO_DATA_TYPES_'][dataset_name] = dtype\n",
    "        \n",
    "        d['_MAP_DATASETS_TO_COUNTERS_'][dataset_name] = counter\n",
    "        d['_GROUPS_'][group_name].append(field)\n",
    "\n",
    "    d[counter] = num\n",
    "    # We don't need to return the dictionary because in python\n",
    "    # dictionaries are mutable\n",
    "\n",
    "\n",
    "# Initialize the data dictionary\n",
    "data = hepfile.initialize()\n",
    "\n",
    "# Pack these groups of awkward arrays\n",
    "# The data dictionary is modified inside of the function\n",
    "\n",
    "ak_arrays = {'pt': events['Muon_pt'].array(), 'eta': events['Muon_eta'].array(), 'phi':events['Muon_phi'].array(), }\n",
    "\n",
    "pack_awkward_array(data, ak_arrays,group_name='muon')\n",
    "\n",
    "#pack_awkward_array(data,events['Electron'],group_name='electron')\n",
    "#pack_awkward_array(data,events['MET'],group_name='MET')\n"
   ]
  },
  {
   "cell_type": "code",
   "execution_count": null,
   "id": "cd3cd52e",
   "metadata": {},
   "outputs": [],
   "source": [
    "# Uncomment if you want to see what the data dictionary looks like\n",
    "data"
   ]
  },
  {
   "cell_type": "code",
   "execution_count": null,
   "id": "ba272902",
   "metadata": {
    "scrolled": false
   },
   "outputs": [],
   "source": [
    "# Write it!\n",
    "hepfile.write_to_file('awkward_write_test.h5', data, verbose=True, comp_type=\"gzip\", comp_opts=9)"
   ]
  },
  {
   "cell_type": "markdown",
   "id": "f5c90f74",
   "metadata": {},
   "source": [
    "# Scratch code\n",
    "\n",
    "Just a bunch of test code when I was trying to figure this all out. "
   ]
  },
  {
   "cell_type": "code",
   "execution_count": null,
   "id": "04a75c70",
   "metadata": {},
   "outputs": [],
   "source": [
    "d = {}\n",
    "groups_to_datasets = {}\n",
    "\n",
    "counters = []\n",
    "\n",
    "for field in events.fields:\n",
    "    \n",
    "    print(field)\n",
    "    \n",
    "    d[field] = []\n",
    "    groups_to_datasets[field] = []\n",
    "    \n",
    "    counters.append(f'n{field}')\n",
    "    \n",
    "    for v in events[field].fields:\n",
    "        groups_to_datasets[field].append(v)\n",
    "        \n",
    "        key = f\"{field}/{v}\"\n",
    "        \n",
    "        x = events[field][v]\n",
    "        \n",
    "        #print(v)\n",
    "        \n",
    "        print(f\"\\t{v}   {x.ndim}\")\n",
    "        \n",
    "        if x.ndim==1:\n",
    "            dtype = x.layout.format\n",
    "            x = ak.to_numpy(x)\n",
    "\n",
    "        else:\n",
    "            dtype = x.layout.content.format\n",
    "            x = ak.flatten(x).to_numpy()\n",
    "\n",
    "\n",
    "        d[key] = x"
   ]
  },
  {
   "cell_type": "code",
   "execution_count": null,
   "id": "e7ed3b8a",
   "metadata": {},
   "outputs": [],
   "source": [
    "!ls -ltr"
   ]
  },
  {
   "cell_type": "code",
   "execution_count": null,
   "id": "f7c90f4d",
   "metadata": {},
   "outputs": [],
   "source": [
    "ak.num(events['Muon']['pt'])"
   ]
  },
  {
   "cell_type": "code",
   "execution_count": null,
   "id": "eab7e768",
   "metadata": {},
   "outputs": [],
   "source": [
    "events.luminosityBlock"
   ]
  },
  {
   "cell_type": "code",
   "execution_count": null,
   "id": "2766bfc5",
   "metadata": {},
   "outputs": [],
   "source": [
    "d"
   ]
  },
  {
   "cell_type": "code",
   "execution_count": null,
   "id": "b2afa89d",
   "metadata": {},
   "outputs": [],
   "source": []
  },
  {
   "cell_type": "code",
   "execution_count": null,
   "id": "da6be6d5",
   "metadata": {},
   "outputs": [],
   "source": [
    "x = events['MET']['pt']\n",
    "\n",
    "print(x.ndim)\n",
    "print(events['Muon']['pt'].ndim)\n",
    "print(events['MET']['pt'].ndim)"
   ]
  },
  {
   "cell_type": "code",
   "execution_count": null,
   "id": "b81a4e32",
   "metadata": {},
   "outputs": [],
   "source": [
    "#x.layout\n",
    "layout = events['Electron']['pt'].layout"
   ]
  },
  {
   "cell_type": "code",
   "execution_count": null,
   "id": "1943fe0b",
   "metadata": {},
   "outputs": [],
   "source": [
    "layout.content.format"
   ]
  },
  {
   "cell_type": "code",
   "execution_count": null,
   "id": "14af5009",
   "metadata": {},
   "outputs": [],
   "source": [
    "x = events['MET']['pt']\n",
    "\n",
    "x.layout.format"
   ]
  },
  {
   "cell_type": "code",
   "execution_count": null,
   "id": "db6a7753",
   "metadata": {},
   "outputs": [],
   "source": [
    "x = events['MET']['pt']\n",
    "\n",
    "x.layout"
   ]
  },
  {
   "cell_type": "code",
   "execution_count": null,
   "id": "f22837e0",
   "metadata": {},
   "outputs": [],
   "source": [
    "x = events['MET']['pt']\n",
    "\n",
    "try:\n",
    "    x = ak.flatten(x)\n",
    "except:\n",
    "    1\n",
    "x = ak.to_numpy(x)\n",
    "\n",
    "print(type(x))"
   ]
  },
  {
   "cell_type": "code",
   "execution_count": null,
   "id": "919ed315",
   "metadata": {},
   "outputs": [],
   "source": [
    "data = hepfile.initialize()\n",
    "data"
   ]
  },
  {
   "cell_type": "code",
   "execution_count": null,
   "id": "6ba0e159",
   "metadata": {},
   "outputs": [],
   "source": [
    "hepfile.create_group(data,group_name='muon',counter='nmuon')\n",
    "hepfile.create_dataset(data,group='muon',datasets=['px','py','pz'],dtype=float)\n",
    "\n",
    "hepfile.create_dataset(data,datasets=['luminosity_block'],dtype=int)"
   ]
  },
  {
   "cell_type": "code",
   "execution_count": null,
   "id": "3b7698db",
   "metadata": {},
   "outputs": [],
   "source": [
    "data"
   ]
  },
  {
   "cell_type": "code",
   "execution_count": null,
   "id": "1b1af988",
   "metadata": {},
   "outputs": [],
   "source": [
    "#d.keys()\n",
    "for key in d.keys():\n",
    "    print(f'{key}')"
   ]
  },
  {
   "cell_type": "code",
   "execution_count": null,
   "id": "0c664927",
   "metadata": {},
   "outputs": [],
   "source": [
    "data['_GROUPS_']"
   ]
  },
  {
   "cell_type": "code",
   "execution_count": null,
   "id": "86d12551",
   "metadata": {},
   "outputs": [],
   "source": [
    "data = hepfile.initialize()\n",
    "data"
   ]
  },
  {
   "cell_type": "code",
   "execution_count": null,
   "id": "81775b77",
   "metadata": {
    "scrolled": true
   },
   "outputs": [],
   "source": [
    "hepfile.create_group(data,group_name='muon',counter='nmuon')\n",
    "hepfile.create_dataset(data,group='muon',datasets=['px','py','pz'],dtype=float)\n",
    "\n",
    "hepfile.create_dataset(data,datasets=['luminosity_block'],dtype=int)\n",
    "\n",
    "for key in data.keys():\n",
    "    print(key)\n",
    "    print(data[key])\n",
    "    print()"
   ]
  },
  {
   "cell_type": "code",
   "execution_count": null,
   "id": "a8640bdf",
   "metadata": {},
   "outputs": [],
   "source": []
  }
 ],
 "metadata": {
  "kernelspec": {
   "display_name": "Python 3 (ipykernel)",
   "language": "python",
   "name": "python3"
  },
  "language_info": {
   "codemirror_mode": {
    "name": "ipython",
    "version": 3
   },
   "file_extension": ".py",
   "mimetype": "text/x-python",
   "name": "python",
   "nbconvert_exporter": "python",
   "pygments_lexer": "ipython3",
   "version": "3.9.12"
  }
 },
 "nbformat": 4,
 "nbformat_minor": 5
}
