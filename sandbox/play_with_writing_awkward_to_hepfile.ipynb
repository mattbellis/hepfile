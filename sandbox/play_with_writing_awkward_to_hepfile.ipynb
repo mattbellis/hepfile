{
 "cells": [
  {
   "cell_type": "code",
   "execution_count": 1,
   "id": "4f5f076b",
   "metadata": {},
   "outputs": [
    {
     "name": "stdout",
     "output_type": "stream",
     "text": [
      "2.3.1\n",
      "5.0.10\n"
     ]
    }
   ],
   "source": [
    "import awkward as ak\n",
    "import numpy as np\n",
    "\n",
    "import hepfile\n",
    "\n",
    "import uproot\n",
    "\n",
    "import time\n",
    "\n",
    "print(ak.__version__)\n",
    "print(uproot.__version__)"
   ]
  },
  {
   "cell_type": "code",
   "execution_count": 2,
   "id": "fc76bb5d",
   "metadata": {},
   "outputs": [
    {
     "name": "stdout",
     "output_type": "stream",
     "text": [
      "  % Total    % Received % Xferd  Average Speed   Time    Time     Time  Current\n",
      "                                 Dload  Upload   Total   Spent    Left  Speed\n",
      "100 40.4M  100 40.4M    0     0  13.9M      0  0:00:02  0:00:02 --:--:-- 13.9M\n"
     ]
    }
   ],
   "source": [
    "# Down load a file for us to play with\n",
    "!curl http://opendata.cern.ch/record/12361/files/SMHiggsToZZTo4L.root --output SMHiggsToZZTo4L.root"
   ]
  },
  {
   "cell_type": "code",
   "execution_count": 3,
   "id": "57c0b407",
   "metadata": {},
   "outputs": [
    {
     "data": {
      "text/plain": [
       "<TTree 'Events' (32 branches) at 0x7f7a9c04d460>"
      ]
     },
     "execution_count": 3,
     "metadata": {},
     "output_type": "execute_result"
    }
   ],
   "source": [
    "# This is all for demonstration purposes, to show people how this type of\n",
    "# writing could be done. \n",
    "# But of course people could just create their own awkward arrays.\n",
    "\n",
    "f = uproot.open('SMHiggsToZZTo4L.root')\n",
    "\n",
    "events = f['Events']\n",
    "\n",
    "events"
   ]
  },
  {
   "cell_type": "code",
   "execution_count": 4,
   "id": "9da27f4a",
   "metadata": {},
   "outputs": [
    {
     "data": {
      "text/plain": [
       "['run',\n",
       " 'luminosityBlock',\n",
       " 'event',\n",
       " 'PV_npvs',\n",
       " 'PV_x',\n",
       " 'PV_y',\n",
       " 'PV_z',\n",
       " 'nMuon',\n",
       " 'Muon_pt',\n",
       " 'Muon_eta',\n",
       " 'Muon_phi',\n",
       " 'Muon_mass',\n",
       " 'Muon_charge',\n",
       " 'Muon_pfRelIso03_all',\n",
       " 'Muon_pfRelIso04_all',\n",
       " 'Muon_dxy',\n",
       " 'Muon_dxyErr',\n",
       " 'Muon_dz',\n",
       " 'Muon_dzErr',\n",
       " 'nElectron',\n",
       " 'Electron_pt',\n",
       " 'Electron_eta',\n",
       " 'Electron_phi',\n",
       " 'Electron_mass',\n",
       " 'Electron_charge',\n",
       " 'Electron_pfRelIso03_all',\n",
       " 'Electron_dxy',\n",
       " 'Electron_dxyErr',\n",
       " 'Electron_dz',\n",
       " 'Electron_dzErr',\n",
       " 'MET_pt',\n",
       " 'MET_phi']"
      ]
     },
     "execution_count": 4,
     "metadata": {},
     "output_type": "execute_result"
    }
   ],
   "source": [
    "# What's in this file? \n",
    "events.keys()"
   ]
  },
  {
   "cell_type": "code",
   "execution_count": 5,
   "id": "f052e21d",
   "metadata": {},
   "outputs": [
    {
     "name": "stdout",
     "output_type": "stream",
     "text": [
      "<class 'awkward.highlevel.Array'>\n",
      "\n",
      "299973\n",
      "[3, 0, 0, 7, 0, 2, 1, 0, 0, 0, 1, 2, 0, ..., 0, 0, 0, 2, 2, 2, 0, 2, 2, 4, 0, 0]\n",
      "441394\n"
     ]
    }
   ],
   "source": [
    "# Let's check out these types and their sizes\n",
    "\n",
    "print(type(events['Muon_pt'].array()))\n",
    "print()\n",
    "\n",
    "# Number of events\n",
    "print(ak.num(events['Muon_pt'].array(),axis=0))\n",
    "\n",
    "# Number of muons in each event\n",
    "print(ak.num(events['Muon_pt'].array(),axis=1))\n",
    "\n",
    "# Number of muons in total\n",
    "print(ak.sum(ak.num(events['Muon_pt'].array(),axis=1)))"
   ]
  },
  {
   "cell_type": "code",
   "execution_count": 6,
   "id": "9d7c86f6",
   "metadata": {},
   "outputs": [
    {
     "name": "stdout",
     "output_type": "stream",
     "text": [
      "{'PV': [['PV_npvs', 'npvs'], ['PV_x', 'x'], ['PV_y', 'y'], ['PV_z', 'z']], 'Muon': [['Muon_pt', 'pt'], ['Muon_eta', 'eta'], ['Muon_phi', 'phi'], ['Muon_mass', 'mass'], ['Muon_charge', 'charge'], ['Muon_pfRelIso03_all', 'pfRelIso03_all'], ['Muon_pfRelIso04_all', 'pfRelIso04_all'], ['Muon_dxy', 'dxy'], ['Muon_dxyErr', 'dxyErr'], ['Muon_dz', 'dz'], ['Muon_dzErr', 'dzErr']], 'Electron': [['Electron_pt', 'pt'], ['Electron_eta', 'eta'], ['Electron_phi', 'phi'], ['Electron_mass', 'mass'], ['Electron_charge', 'charge'], ['Electron_pfRelIso03_all', 'pfRelIso03_all'], ['Electron_dxy', 'dxy'], ['Electron_dxyErr', 'dxyErr'], ['Electron_dz', 'dz'], ['Electron_dzErr', 'dzErr']], 'MET': [['MET_pt', 'pt'], ['MET_phi', 'phi']]}\n",
      "\n",
      "[['Muon_pt', 'pt'], ['Muon_eta', 'eta'], ['Muon_phi', 'phi'], ['Muon_mass', 'mass'], ['Muon_charge', 'charge'], ['Muon_pfRelIso03_all', 'pfRelIso03_all'], ['Muon_pfRelIso04_all', 'pfRelIso04_all'], ['Muon_dxy', 'dxy'], ['Muon_dxyErr', 'dxyErr'], ['Muon_dz', 'dz'], ['Muon_dzErr', 'dzErr']]\n"
     ]
    }
   ],
   "source": [
    "# While not all the entries in the ROOT file naturally lend themselves to \n",
    "# group/dataset breakdowns, some do. Let's find those \"automatically\", \n",
    "# just to make it easier to write them to the hepfile.\n",
    "\n",
    "# Find groups\n",
    "def make_groups_and_datasets(fields):\n",
    "    \n",
    "    groups = {}\n",
    "    \n",
    "    for field in fields:\n",
    "        if field.find('_')>=0:\n",
    "            \n",
    "            # Do this in case there is more than one underscore\n",
    "            idx = field.find('_')\n",
    "            \n",
    "            #print(field)\n",
    "            grp = field[0:idx]\n",
    "            dset = field[idx+1:]\n",
    "            \n",
    "            if grp not in groups.keys():\n",
    "                groups[grp] = [[field,dset]]\n",
    "            else:\n",
    "                groups[grp].append([field,dset])\n",
    "    \n",
    "    return groups\n",
    "\n",
    "\n",
    "############################################################\n",
    "\n",
    "groupings = make_groups_and_datasets(events.keys())\n",
    "\n",
    "# Groupings gives us a nice mapping of the names from the ROOT file\n",
    "# to how we're going to store them in our hepfile as \n",
    "# group/datasets\n",
    "\n",
    "print(groupings)\n",
    "print()\n",
    "print(groupings['Muon'])"
   ]
  },
  {
   "cell_type": "code",
   "execution_count": 7,
   "id": "8fce9e1a",
   "metadata": {},
   "outputs": [
    {
     "name": "stdout",
     "output_type": "stream",
     "text": [
      "[1, 1, 1, 1, 1, 1, 1, 1, 1, 1, 1, 1, 1, ..., 1, 1, 1, 1, 1, 1, 1, 1, 1, 1, 1, 1]\n",
      "[156, 156, 156, 156, 156, 156, 156, 156, ..., 996, 996, 996, 996, 996, 996, 996]\n",
      "[46501, 46502, 46503, 46504, 46505, ..., 298796, 298797, 298798, 298799, 298800]\n"
     ]
    }
   ],
   "source": [
    "# There are some others. THese will be SINGLETONS that we pass in separately.\n",
    "'run',\n",
    "'luminosityBlock',\n",
    "'event',\n",
    "\n",
    "print(events['run'].array())\n",
    "print(events['luminosityBlock'].array())\n",
    "print(events['event'].array())"
   ]
  },
  {
   "cell_type": "code",
   "execution_count": 8,
   "id": "843b057d-8669-43bf-9b3c-b470b7fa5fff",
   "metadata": {},
   "outputs": [
    {
     "name": "stdout",
     "output_type": "stream",
     "text": [
      "float32\n",
      "float32\n",
      "int32\n"
     ]
    }
   ],
   "source": [
    "def _get_awkward_type(ak_array: ak.Record) -> type:\n",
    "    try:\n",
    "        if isinstance(ak_array[0], (ak.Record, ak.Array)):\n",
    "            arr = ak_array\n",
    "            type_str = ak_array.type.content            \n",
    "            \n",
    "            if isinstance(type_str, ak.types.NumpyType):\n",
    "                dtype = type_str.primitive\n",
    "            else:\n",
    "                dtype = str(type_str).rsplit(\"*\", maxsplit=1)[-1].strip()\n",
    "            \n",
    "        else:\n",
    "            arr = np.array(ak_array)\n",
    "            dtype = arr.dtype\n",
    "\n",
    "        if dtype == \"string\":\n",
    "            dtype = np.dtype(\"<U1\")\n",
    "    \n",
    "        np_dtype = np.dtype(dtype)\n",
    "        if np_dtype.char == \"U\":\n",
    "            np_dtype = str\n",
    "\n",
    "    except Exception as exc:\n",
    "        raise IOError(\"Cannot convert input value to a numpy data type!\") from exc\n",
    "\n",
    "    return np_dtype\n",
    "\n",
    "# Try it out\n",
    "print(_get_awkward_type(events['Muon_pt'].array()))\n",
    "print(_get_awkward_type(events['MET_pt'].array()))\n",
    "print(_get_awkward_type(events['run'].array()))"
   ]
  },
  {
   "cell_type": "code",
   "execution_count": 66,
   "id": "349f06b0-d0f1-4b17-9bd1-d33e85bde100",
   "metadata": {},
   "outputs": [],
   "source": [
    "# This is the function to pack a single awkward array\n",
    "\n",
    "def pack_single_awkward_array(d, arr, dset_name, group_name=None, counter=None):\n",
    "    '''\n",
    "    Packs a 1D awkward array as a dataset/singleton depending on if group_name is given\n",
    "    \n",
    "    Args:\n",
    "        d [dict]: data dictionary created by hepfile.initialize()\n",
    "        arr [ak.Array]: 1D awkward array to pack as either a dataset or a group. If group_name is None\n",
    "                        the arr is packed as a singleton\n",
    "        dset_name [str]: Full path to the dataset.\n",
    "        group_name [str]: name of the group to pack the arr under, default is None\n",
    "        counter [str]: name of the counter in the hepfile for this dataset\n",
    "    '''   \n",
    "    counter_in_hepfile = False\n",
    "    if group_name is not None:\n",
    "\n",
    "        if counter is None:\n",
    "            counter = f\"{group_name}/n{group_name}\"\n",
    "        \n",
    "        # add the counter to the groups dictionary if it is not already in it\n",
    "        if group_name not in d['_GROUPS_']:\n",
    "            d['_GROUPS_'][group_name] = [counter.split('/')[1]]\n",
    "\n",
    "            # We will use this name for the counter later\n",
    "            d['_MAP_DATASETS_TO_DATA_TYPES_'][counter] = int\n",
    "\n",
    "            d['_MAP_DATASETS_TO_COUNTERS_'][group_name] = counter\n",
    "            d['_LIST_OF_COUNTERS_'].append(counter)\n",
    "\n",
    "    else:\n",
    "        counter = '_SINGLETONS_GROUP_/COUNTER'\n",
    "\n",
    "    # Tells us if this is jagged or not\n",
    "    if arr.ndim == 1:\n",
    "        \n",
    "        # Get the datatpe before we flatten it\n",
    "        dtype = _get_awkward_type(arr)\n",
    "        \n",
    "        num = np.ones(len(arr),dtype=int)\n",
    "        \n",
    "        x = ak.to_numpy(arr)\n",
    "\n",
    "    else:\n",
    "\n",
    "        # Get the datatpe before we flatten it\n",
    "        dtype = _get_awkward_type(arr)\n",
    "\n",
    "        # This saves the counter as int64, taking up a bit more space\n",
    "        # Probably minimal though. \n",
    "        #num = ak.num(x)\n",
    "        # This saves the counter as int32\n",
    "        num = ak.to_numpy(ak.num(arr)).astype(np.int32)\n",
    "\n",
    "        x = ak.flatten(arr).to_numpy()\n",
    "\n",
    "    d[dset_name] = x\n",
    "\n",
    "    # Not a SINGLETON, the user has passed in a groupname\n",
    "    if group_name is not None:\n",
    "        d['_MAP_DATASETS_TO_DATA_TYPES_'][dset_name] = dtype\n",
    "        d['_MAP_DATASETS_TO_COUNTERS_'][dset_name] = counter\n",
    "        d['_GROUPS_'][group_name].append(dset_name.split('/')[1])\n",
    "        if counter not in d:\n",
    "            d[counter] = num\n",
    "        \n",
    "    # If it is a SINGLETON\n",
    "    else:\n",
    "        d['_MAP_DATASETS_TO_DATA_TYPES_'][dset_name] = dtype\n",
    "        d['_MAP_DATASETS_TO_COUNTERS_'][dset_name] = '_SINGLETONS_GROUP_/COUNTER'\n",
    "        d['_GROUPS_']['_SINGLETONS_GROUP_'].append(dset_name)\n",
    "        if len(d[counter]) == 0:\n",
    "            d[counter] = num"
   ]
  },
  {
   "cell_type": "code",
   "execution_count": 99,
   "id": "fce6647b",
   "metadata": {},
   "outputs": [],
   "source": [
    "# I changed the name of this function to pack multiple awkward arrays.\n",
    "# I agree with you that we should probably also have a function that packs\n",
    "# single awkward arrays that gets called by this function.\n",
    "\n",
    "# d = data dictionary, maybe we have a version of this that automatically\n",
    "# creates the dictionary and returns it?\n",
    "\n",
    "# arr = dictionary of awkward arrays and keys to use as names for the dataset\n",
    "\n",
    "# group_name = group the dataset will belong to\n",
    "\n",
    "# Right now, I am creating a counter \"n{group_name}\", is that what we want?\n",
    "# Or should we allow the user to pass in the counter name, like when\n",
    "# create_group is called?\n",
    "#\n",
    "# Right now, it creates the group each time this function is called\n",
    "# We should have it check to see if the group is already there and if so, \n",
    "# don't add it again.\n",
    "\n",
    "import warnings\n",
    "\n",
    "def pack_multiple_awkward_arrays(d, arr, group_name=None, group_counter_name=None):\n",
    "    '''\n",
    "    Pack an awkward array of arrays into group_name or the singletons group\n",
    "    \n",
    "    Args:\n",
    "        d [dict]: hepfile data dictionary that is returned from hepfile.initialize()\n",
    "        arr [ak.Array]: Awkward array of the group in a set of data\n",
    "        group_name [str]: Name of the group to pack arr into, if None (default) it is \n",
    "                          packed into the signletons group\n",
    "    '''\n",
    "    \n",
    "    # If the user passed in a group, then the datasets will \n",
    "    # be under that group\n",
    "    \n",
    "    # check that arr is an awkward array\n",
    "    if not isinstance(arr, (ak.Array, ak.Record)):\n",
    "        try:\n",
    "            arr = ak.Array(arr)\n",
    "        except Exception as exc:\n",
    "            raise IOError() from exc\n",
    "    \n",
    "    if len(arr.fields) == 0:\n",
    "        raise IOError('The input awkward array must have at least one field value! '+\n",
    "                      'If this is a singleton just provide the name of the singleton as the field')\n",
    "    # Loop over the dictionary that is passed in        \n",
    "    for field in arr.fields:\n",
    "        \n",
    "        # build a name for the hepfile entry\n",
    "        if group_name is None:\n",
    "            # these are singletons\n",
    "            dataset_name = field\n",
    "        else:\n",
    "            # these are regular groups with datasets\n",
    "            dataset_name = f\"{group_name}/{field}\"\n",
    "            \n",
    "        pack_single_awkward_array(d, arr[field], dataset_name, group_name=group_name, counter=group_counter_name)\n",
    "\n",
    "    # We don't need to return the dictionary because in python\n",
    "    # dictionaries are mutable. The dictionary in the function points to \n",
    "    # the same object outside of the function.\n",
    "###############################################################################\n",
    "    "
   ]
  },
  {
   "cell_type": "code",
   "execution_count": 100,
   "id": "3e300647-5c51-4d97-ba0e-2a3de78eb078",
   "metadata": {},
   "outputs": [],
   "source": [
    "# Here's how we call it. Though maybe we have an option to have\n",
    "# the data dictionary created inside the function? \n",
    "\n",
    "# Initialize the data dictionary\n",
    "data = hepfile.initialize()\n",
    "\n",
    "# Pack these groups of awkward arrays\n",
    "\n",
    "# This is what it would look like \"by hand\"\n",
    "# A dictionary with the name of the dataset as it is to appear inside the hepfile\n",
    "# and then the actual awkward array (not just the Branch object returned by uproot)\n",
    "#ak_arrays = {'pt': events['Muon_pt'].array(), 'eta': events['Muon_eta'].array(), 'phi':events['Muon_phi'].array(), }\n",
    "\n",
    "# Here I'm packing all the data that are groups/datasets\n",
    "for groups_to_write in ['Muon', 'Electron', 'MET', 'PV']:\n",
    "    ak_arrays = {}\n",
    "    for grouping in groupings[groups_to_write]:\n",
    "        ak_arrays[grouping[1]] = events[grouping[0]].array()\n",
    "    \n",
    "    pack_multiple_awkward_arrays(data, ak_arrays, group_name=groups_to_write)\n",
    "\n",
    "# Now the SINGLETONS\n",
    "ak_arrays = {\"run\":events['run'].array(), \\\n",
    "             \"luminosityBlock\":events['luminosityBlock'].array(), \\\n",
    "             \"event\":events['event'].array()}\n",
    "\n",
    "# Note that there is no group name passed in. \n",
    "pack_multiple_awkward_arrays(data, ak_arrays)"
   ]
  },
  {
   "cell_type": "code",
   "execution_count": 101,
   "id": "1b561381-4ae7-46eb-9cd5-91e1d5d37a45",
   "metadata": {},
   "outputs": [
    {
     "data": {
      "text/plain": [
       "299973"
      ]
     },
     "execution_count": 101,
     "metadata": {},
     "output_type": "execute_result"
    }
   ],
   "source": [
    "len(data['_SINGLETONS_GROUP_/COUNTER'])"
   ]
  },
  {
   "cell_type": "code",
   "execution_count": 102,
   "id": "0262260d-e47d-4d6a-a96d-2dd7120cb0b5",
   "metadata": {},
   "outputs": [
    {
     "data": {
      "text/plain": [
       "299973"
      ]
     },
     "execution_count": 102,
     "metadata": {},
     "output_type": "execute_result"
    }
   ],
   "source": [
    "len(data['Electron/nElectron'])"
   ]
  },
  {
   "cell_type": "code",
   "execution_count": 103,
   "id": "cd3cd52e",
   "metadata": {},
   "outputs": [
    {
     "name": "stdout",
     "output_type": "stream",
     "text": [
      "['COUNTER', 'run', 'luminosityBlock', 'event']\n",
      "\n",
      "{'_SINGLETONS_GROUP_': '_SINGLETONS_GROUP_/COUNTER', 'Muon': 'Muon/nMuon', 'Muon/pt': 'Muon/nMuon', 'Muon/eta': 'Muon/nMuon', 'Muon/phi': 'Muon/nMuon', 'Muon/mass': 'Muon/nMuon', 'Muon/charge': 'Muon/nMuon', 'Muon/pfRelIso03_all': 'Muon/nMuon', 'Muon/pfRelIso04_all': 'Muon/nMuon', 'Muon/dxy': 'Muon/nMuon', 'Muon/dxyErr': 'Muon/nMuon', 'Muon/dz': 'Muon/nMuon', 'Muon/dzErr': 'Muon/nMuon', 'Electron': 'Electron/nElectron', 'Electron/pt': 'Electron/nElectron', 'Electron/eta': 'Electron/nElectron', 'Electron/phi': 'Electron/nElectron', 'Electron/mass': 'Electron/nElectron', 'Electron/charge': 'Electron/nElectron', 'Electron/pfRelIso03_all': 'Electron/nElectron', 'Electron/dxy': 'Electron/nElectron', 'Electron/dxyErr': 'Electron/nElectron', 'Electron/dz': 'Electron/nElectron', 'Electron/dzErr': 'Electron/nElectron', 'MET': 'MET/nMET', 'MET/pt': 'MET/nMET', 'MET/phi': 'MET/nMET', 'PV': 'PV/nPV', 'PV/npvs': 'PV/nPV', 'PV/x': 'PV/nPV', 'PV/y': 'PV/nPV', 'PV/z': 'PV/nPV', 'run': '_SINGLETONS_GROUP_/COUNTER', 'luminosityBlock': '_SINGLETONS_GROUP_/COUNTER', 'event': '_SINGLETONS_GROUP_/COUNTER'}\n",
      "\n"
     ]
    },
    {
     "data": {
      "text/plain": [
       "dict_keys(['_GROUPS_', '_MAP_DATASETS_TO_COUNTERS_', '_LIST_OF_COUNTERS_', '_SINGLETONS_GROUP_/COUNTER', '_MAP_DATASETS_TO_DATA_TYPES_', '_META_', 'Muon/pt', 'Muon/nMuon', 'Muon/eta', 'Muon/phi', 'Muon/mass', 'Muon/charge', 'Muon/pfRelIso03_all', 'Muon/pfRelIso04_all', 'Muon/dxy', 'Muon/dxyErr', 'Muon/dz', 'Muon/dzErr', 'Electron/pt', 'Electron/nElectron', 'Electron/eta', 'Electron/phi', 'Electron/mass', 'Electron/charge', 'Electron/pfRelIso03_all', 'Electron/dxy', 'Electron/dxyErr', 'Electron/dz', 'Electron/dzErr', 'MET/pt', 'MET/nMET', 'MET/phi', 'PV/npvs', 'PV/nPV', 'PV/x', 'PV/y', 'PV/z', 'run', 'luminosityBlock', 'event'])"
      ]
     },
     "execution_count": 103,
     "metadata": {},
     "output_type": "execute_result"
    }
   ],
   "source": [
    "# Uncomment if you want to see what the data dictionary looks like\n",
    "#data\n",
    "\n",
    "print(data['_GROUPS_']['_SINGLETONS_GROUP_'])\n",
    "print()\n",
    "\n",
    "print(data['_MAP_DATASETS_TO_COUNTERS_'])\n",
    "print()\n",
    "\n",
    "data.keys()"
   ]
  },
  {
   "cell_type": "code",
   "execution_count": 104,
   "id": "ba272902",
   "metadata": {},
   "outputs": [
    {
     "name": "stdout",
     "output_type": "stream",
     "text": [
      "\n",
      "\n",
      "Time to write uncompressed: 0.05812954902648926\n",
      "Time to write   compressed: 3.9766011238098145\n",
      "\n",
      "\n",
      "-rw-r--r-- 1 nfranz nfranz 42400229 Jul 17 13:35 SMHiggsToZZTo4L.root\n",
      "-rw-r--r-- 1 nfranz nfranz 60385968 Jul 17 14:12 awkward_write_test.h5\n",
      "-rw-r--r-- 1 nfranz nfranz 33736637 Jul 17 14:12 awkward_write_test_COMP_gzip_OPT_9.h5\n"
     ]
    }
   ],
   "source": [
    "# Write it!\n",
    "\n",
    "# Try it with no compression\n",
    "start = time.time()\n",
    "hepfile.write_to_file('awkward_write_test.h5', data, verbose=False)\n",
    "dt_no_compression = time.time() - start\n",
    "\n",
    "# Try it with compression!\n",
    "start = time.time()\n",
    "hepfile.write_to_file('awkward_write_test_COMP_gzip_OPT_9.h5', data, verbose=False, comp_type=\"gzip\", comp_opts=9)\n",
    "dt_with_compression = time.time() - start\n",
    "\n",
    "print()\n",
    "print()\n",
    "print(f\"Time to write uncompressed: {dt_no_compression}\")\n",
    "print(f\"Time to write   compressed: {dt_with_compression}\")\n",
    "\n",
    "print()\n",
    "print()\n",
    "\n",
    "# Check out the sizes of the files!\n",
    "\n",
    "!ls -ltr SMHiggsToZZTo4L.root\n",
    "!ls -ltr awkward_write_test.h5\n",
    "!ls -ltr awkward_write_test_COMP_gzip_OPT_9.h5"
   ]
  },
  {
   "cell_type": "code",
   "execution_count": 105,
   "id": "b912b5cd",
   "metadata": {},
   "outputs": [],
   "source": [
    "data,bucket = hepfile.load('awkward_write_test_COMP_gzip_OPT_9.h5', verbose=False)\n",
    "\n",
    "#data,bucket = hepfile.load('awkward_write_test.h5')"
   ]
  },
  {
   "cell_type": "code",
   "execution_count": 106,
   "id": "3c2213c0",
   "metadata": {},
   "outputs": [
    {
     "data": {
      "text/plain": [
       "array([0, 4, 2, ..., 0, 2, 2])"
      ]
     },
     "execution_count": 106,
     "metadata": {},
     "output_type": "execute_result"
    }
   ],
   "source": [
    "data['Electron/nElectron']"
   ]
  },
  {
   "cell_type": "code",
   "execution_count": 107,
   "id": "6adfa207",
   "metadata": {},
   "outputs": [
    {
     "name": "stdout",
     "output_type": "stream",
     "text": [
      "<class 'numpy.ndarray'>\n",
      "<class 'numpy.float32'>\n"
     ]
    }
   ],
   "source": [
    "print(type(data['Muon/pt']))\n",
    "print(type(data['Muon/pt'][0]))"
   ]
  },
  {
   "cell_type": "code",
   "execution_count": 108,
   "id": "16e39a5f",
   "metadata": {},
   "outputs": [
    {
     "data": {
      "text/plain": [
       "numpy.float32"
      ]
     },
     "execution_count": 108,
     "metadata": {},
     "output_type": "execute_result"
    }
   ],
   "source": [
    "type(data['Muon/pt'].astype(np.float32)[0])"
   ]
  },
  {
   "cell_type": "code",
   "execution_count": 109,
   "id": "cccef665",
   "metadata": {},
   "outputs": [
    {
     "data": {
      "text/plain": [
       "array([1, 1, 1, ..., 1, 1, 1], dtype=int32)"
      ]
     },
     "execution_count": 109,
     "metadata": {},
     "output_type": "execute_result"
    }
   ],
   "source": [
    "data['run']"
   ]
  },
  {
   "cell_type": "code",
   "execution_count": 110,
   "id": "095ddcaf",
   "metadata": {},
   "outputs": [
    {
     "data": {
      "text/plain": [
       "{'Electron/charge': dtype('int32'),\n",
       " 'Electron/dxy': dtype('float32'),\n",
       " 'Electron/dxyErr': dtype('float32'),\n",
       " 'Electron/dz': dtype('float32'),\n",
       " 'Electron/dzErr': dtype('float32'),\n",
       " 'Electron/eta': dtype('float32'),\n",
       " 'Electron/mass': dtype('float32'),\n",
       " 'Electron/nElectron': dtype('int64'),\n",
       " 'Electron/pfRelIso03_all': dtype('float32'),\n",
       " 'Electron/phi': dtype('float32'),\n",
       " 'Electron/pt': dtype('float32'),\n",
       " 'MET/nMET': dtype('int64'),\n",
       " 'MET/phi': dtype('float32'),\n",
       " 'MET/pt': dtype('float32'),\n",
       " 'Muon/charge': dtype('int32'),\n",
       " 'Muon/dxy': dtype('float32'),\n",
       " 'Muon/dxyErr': dtype('float32'),\n",
       " 'Muon/dz': dtype('float32'),\n",
       " 'Muon/dzErr': dtype('float32'),\n",
       " 'Muon/eta': dtype('float32'),\n",
       " 'Muon/mass': dtype('float32'),\n",
       " 'Muon/nMuon': dtype('int64'),\n",
       " 'Muon/pfRelIso03_all': dtype('float32'),\n",
       " 'Muon/pfRelIso04_all': dtype('float32'),\n",
       " 'Muon/phi': dtype('float32'),\n",
       " 'Muon/pt': dtype('float32'),\n",
       " 'PV/nPV': dtype('int64'),\n",
       " 'PV/npvs': dtype('int32'),\n",
       " 'PV/x': dtype('float32'),\n",
       " 'PV/y': dtype('float32'),\n",
       " 'PV/z': dtype('float32'),\n",
       " '_SINGLETONS_GROUP_': dtype('<U15'),\n",
       " '_SINGLETONS_GROUP_/COUNTER': dtype('int64'),\n",
       " 'event': dtype('uint64'),\n",
       " 'luminosityBlock': dtype('uint32'),\n",
       " 'run': dtype('int32')}"
      ]
     },
     "execution_count": 110,
     "metadata": {},
     "output_type": "execute_result"
    }
   ],
   "source": [
    "data['_MAP_DATASETS_TO_DATA_TYPES_']"
   ]
  },
  {
   "cell_type": "code",
   "execution_count": 111,
   "id": "6b6645da",
   "metadata": {},
   "outputs": [
    {
     "data": {
      "text/plain": [
       "{'_SINGLETONS_GROUP_': ['run', 'luminosityBlock', 'event'],\n",
       " 'Electron': ['charge',\n",
       "  'dxy',\n",
       "  'dxyErr',\n",
       "  'dz',\n",
       "  'dzErr',\n",
       "  'eta',\n",
       "  'mass',\n",
       "  'nElectron',\n",
       "  'pfRelIso03_all',\n",
       "  'phi',\n",
       "  'pt'],\n",
       " 'MET': ['nMET', 'phi', 'pt'],\n",
       " 'Muon': ['charge',\n",
       "  'dxy',\n",
       "  'dxyErr',\n",
       "  'dz',\n",
       "  'dzErr',\n",
       "  'eta',\n",
       "  'mass',\n",
       "  'nMuon',\n",
       "  'pfRelIso03_all',\n",
       "  'pfRelIso04_all',\n",
       "  'phi',\n",
       "  'pt'],\n",
       " 'PV': ['nPV', 'npvs', 'x', 'y', 'z']}"
      ]
     },
     "execution_count": 111,
     "metadata": {},
     "output_type": "execute_result"
    }
   ],
   "source": [
    "data['_GROUPS_']"
   ]
  },
  {
   "cell_type": "code",
   "execution_count": 112,
   "id": "6cb217dd",
   "metadata": {},
   "outputs": [
    {
     "data": {
      "text/plain": [
       "dict_keys(['_MAP_DATASETS_TO_COUNTERS_', '_MAP_DATASETS_TO_INDEX_', '_LIST_OF_COUNTERS_', '_LIST_OF_DATASETS_', '_META_', '_NUMBER_OF_BUCKETS_', '_SINGLETONS_GROUP_', '_SINGLETONS_GROUP_/COUNTER', 'Electron/nElectron', 'Electron/nElectron_INDEX', 'MET/nMET', 'MET/nMET_INDEX', 'Muon/nMuon', 'Muon/nMuon_INDEX', 'PV/nPV', 'PV/nPV_INDEX', '_SINGLETONS_GROUP_/COUNTER_INDEX', 'Electron/charge', 'Electron/dxy', 'Electron/dxyErr', 'Electron/dz', 'Electron/dzErr', 'Electron/eta', 'Electron/mass', 'Electron/pfRelIso03_all', 'Electron/phi', 'Electron/pt', 'MET/phi', 'MET/pt', 'Muon/charge', 'Muon/dxy', 'Muon/dxyErr', 'Muon/dz', 'Muon/dzErr', 'Muon/eta', 'Muon/mass', 'Muon/pfRelIso03_all', 'Muon/pfRelIso04_all', 'Muon/phi', 'Muon/pt', 'PV/npvs', 'PV/x', 'PV/y', 'PV/z', 'event', 'luminosityBlock', 'run', '_GROUPS_', '_MAP_DATASETS_TO_DATA_TYPES_', '_PROTECTED_NAMES_'])"
      ]
     },
     "execution_count": 112,
     "metadata": {},
     "output_type": "execute_result"
    }
   ],
   "source": [
    "data.keys()"
   ]
  },
  {
   "cell_type": "code",
   "execution_count": 81,
   "id": "1b36234c",
   "metadata": {},
   "outputs": [
    {
     "data": {
      "text/plain": [
       "numpy.float32"
      ]
     },
     "execution_count": 81,
     "metadata": {},
     "output_type": "execute_result"
    }
   ],
   "source": [
    "x = ak.to_numpy(ak.flatten(events['Muon_pt'].array()))\n",
    "\n",
    "type(x)\n",
    "type(x[0])"
   ]
  },
  {
   "cell_type": "code",
   "execution_count": 82,
   "id": "287f3ef4",
   "metadata": {},
   "outputs": [
    {
     "name": "stdout",
     "output_type": "stream",
     "text": [
      "<class 'awkward.highlevel.Array'>\n",
      "<class 'numpy.int64'>\n",
      "[3, 0, 0, 7, 0, 2, 1, 0, 0, 0, 1, 2, 0, ..., 0, 0, 0, 2, 2, 2, 0, 2, 2, 4, 0, 0]\n",
      "3\n",
      "<class 'numpy.int64'>\n",
      "<class 'numpy.int32'>\n"
     ]
    }
   ],
   "source": [
    "x = events['Muon_pt'].array()\n",
    "\n",
    "xnum = ak.num(x)\n",
    "\n",
    "print(type(xnum))\n",
    "print(type(xnum[0]))\n",
    "\n",
    "print(xnum)\n",
    "\n",
    "print(xnum[0])\n",
    "\n",
    "print(type(ak.to_numpy(xnum)[0]))\n",
    "print(type(ak.to_numpy(xnum).astype(np.int32)[0]))"
   ]
  },
  {
   "cell_type": "code",
   "execution_count": 83,
   "id": "970b3384-02d4-4aaa-967b-833cdcf83e82",
   "metadata": {
    "tags": []
   },
   "outputs": [
    {
     "data": {
      "text/html": [
       "<pre>[{run: 1, luminosityBlock: 156, event: 46501, Electron: {...}, MET: {...}, ...},\n",
       " {run: 1, luminosityBlock: 156, event: 46502, Electron: {...}, MET: {...}, ...},\n",
       " {run: 1, luminosityBlock: 156, event: 46503, Electron: {...}, MET: {...}, ...},\n",
       " {run: 1, luminosityBlock: 156, event: 46504, Electron: {...}, MET: {...}, ...},\n",
       " {run: 1, luminosityBlock: 156, event: 46505, Electron: {...}, MET: {...}, ...},\n",
       " {run: 1, luminosityBlock: 156, event: 46506, Electron: {...}, MET: {...}, ...},\n",
       " {run: 1, luminosityBlock: 156, event: 46507, Electron: {...}, MET: {...}, ...},\n",
       " {run: 1, luminosityBlock: 156, event: 46508, Electron: {...}, MET: {...}, ...},\n",
       " {run: 1, luminosityBlock: 156, event: 46509, Electron: {...}, MET: {...}, ...},\n",
       " {run: 1, luminosityBlock: 156, event: 46510, Electron: {...}, MET: {...}, ...},\n",
       " ...,\n",
       " {run: 1, luminosityBlock: 996, event: 298792, Electron: {...}, MET: ..., ...},\n",
       " {run: 1, luminosityBlock: 996, event: 298793, Electron: {...}, MET: ..., ...},\n",
       " {run: 1, luminosityBlock: 996, event: 298794, Electron: {...}, MET: ..., ...},\n",
       " {run: 1, luminosityBlock: 996, event: 298795, Electron: {...}, MET: ..., ...},\n",
       " {run: 1, luminosityBlock: 996, event: 298796, Electron: {...}, MET: ..., ...},\n",
       " {run: 1, luminosityBlock: 996, event: 298797, Electron: {...}, MET: ..., ...},\n",
       " {run: 1, luminosityBlock: 996, event: 298798, Electron: {...}, MET: ..., ...},\n",
       " {run: 1, luminosityBlock: 996, event: 298799, Electron: {...}, MET: ..., ...},\n",
       " {run: 1, luminosityBlock: 996, event: 298800, Electron: {...}, MET: ..., ...}]\n",
       "--------------------------------------------------------------------------------\n",
       "type: 299973 * {\n",
       "    run: int32,\n",
       "    luminosityBlock: uint32,\n",
       "    event: uint64,\n",
       "    Electron: {\n",
       "        charge: var * int64,\n",
       "        dxy: var * float64,\n",
       "        dxyErr: var * float64,\n",
       "        dz: var * float64,\n",
       "        dzErr: var * float64,\n",
       "        eta: var * float64,\n",
       "        mass: var * float64,\n",
       "        pfRelIso03_all: var * float64,\n",
       "        phi: var * float64,\n",
       "        pt: var * float64\n",
       "    },\n",
       "    MET: {\n",
       "        phi: var * float64,\n",
       "        pt: var * float64\n",
       "    },\n",
       "    Muon: {\n",
       "        charge: var * int64,\n",
       "        dxy: var * float64,\n",
       "        dxyErr: var * float64,\n",
       "        dz: var * float64,\n",
       "        dzErr: var * float64,\n",
       "        eta: var * float64,\n",
       "        mass: var * float64,\n",
       "        pfRelIso03_all: var * float64,\n",
       "        pfRelIso04_all: var * float64,\n",
       "        phi: var * float64,\n",
       "        pt: var * float64\n",
       "    },\n",
       "    PV: {\n",
       "        npvs: var * int64,\n",
       "        x: var * float64,\n",
       "        y: var * float64,\n",
       "        z: var * float64\n",
       "    }\n",
       "}</pre>"
      ],
      "text/plain": [
       "<Array [{run: 1, ...}, ..., {run: 1, ...}] type='299973 * {run: int32, lumi...'>"
      ]
     },
     "execution_count": 83,
     "metadata": {},
     "output_type": "execute_result"
    }
   ],
   "source": [
    "# test loading the hepfile into the awkward array\n",
    "awk, bucket = hepfile.load('awkward_write_test_COMP_gzip_OPT_9.h5', return_type='awkward')\n",
    "awk"
   ]
  },
  {
   "cell_type": "code",
   "execution_count": 115,
   "id": "9bf32d45-9c3e-42ea-a076-fc1b2f426189",
   "metadata": {},
   "outputs": [],
   "source": [
    "def awkward_to_hepfile(ak_array, outfile=None, write_hepfile=True, **kwargs):\n",
    "    '''\n",
    "    Write an awkward array with depth <= 2 to a hepfile\n",
    "    \n",
    "    Args:\n",
    "        ak_array [ak.Array]: awkward array with fields of groups/singletons. Under the group fields\n",
    "                             are the dataset fields.\n",
    "        outfile [str]: path to where the hepfile should be written. Default is None and can only be\n",
    "                       None if write_hepfile=False.\n",
    "        write_hepfile [bool]: if True, write the hepfile and return the data dictionary. If False, \n",
    "                              just return the data dictionary without returning. Default is True.\n",
    "        **kwargs: passed to `hepfile.write_to_file`\n",
    "                              \n",
    "    Returns:\n",
    "        Data dictionary in the hepfile\n",
    "    '''\n",
    "    \n",
    "    # _is_valid_awkward(ak_array) # uncomment when in actual software and not in testing\n",
    "    \n",
    "    if write_hepfile is True and outfile is None:\n",
    "        raise IOError('Please provide an outfile path if write_hepfile=True!')\n",
    "        \n",
    "    if write_hepfile is False and outfile is not None:\n",
    "        warnings.warn(\n",
    "            \"You set write_hepfile to False but provided an output file path. \\\n",
    "            This output file path will not be used!\"\n",
    "        )\n",
    "    \n",
    "    data = hepfile.initialize()\n",
    "    for group in ak_array.fields:\n",
    "        \n",
    "        if len(ak_array[group].fields) == 0:\n",
    "            # this is a singleton\n",
    "            pack_multiple_awkward_arrays(data, {group: ak_array[group]})\n",
    "        else:\n",
    "            # these are datasets under group\n",
    "            pack_multiple_awkward_arrays(data, ak_array[group], group_name=group)\n",
    "            \n",
    "    if write_hepfile:\n",
    "        hepfile.write_to_file(outfile, data)\n",
    "    \n",
    "    return data\n",
    "    "
   ]
  },
  {
   "cell_type": "code",
   "execution_count": 116,
   "id": "b5c5ce80-286d-418e-a094-82e0cbe6cc32",
   "metadata": {
    "collapsed": true,
    "jupyter": {
     "outputs_hidden": true
    },
    "tags": []
   },
   "outputs": [
    {
     "data": {
      "text/plain": [
       "{'_GROUPS_': {'_SINGLETONS_GROUP_': ['COUNTER',\n",
       "   'run',\n",
       "   'luminosityBlock',\n",
       "   'event'],\n",
       "  'Electron': ['nElectron',\n",
       "   'charge',\n",
       "   'dxy',\n",
       "   'dxyErr',\n",
       "   'dz',\n",
       "   'dzErr',\n",
       "   'eta',\n",
       "   'mass',\n",
       "   'pfRelIso03_all',\n",
       "   'phi',\n",
       "   'pt'],\n",
       "  'MET': ['nMET', 'phi', 'pt'],\n",
       "  'Muon': ['nMuon',\n",
       "   'charge',\n",
       "   'dxy',\n",
       "   'dxyErr',\n",
       "   'dz',\n",
       "   'dzErr',\n",
       "   'eta',\n",
       "   'mass',\n",
       "   'pfRelIso03_all',\n",
       "   'pfRelIso04_all',\n",
       "   'phi',\n",
       "   'pt'],\n",
       "  'PV': ['nPV', 'npvs', 'x', 'y', 'z']},\n",
       " '_MAP_DATASETS_TO_COUNTERS_': {'_SINGLETONS_GROUP_': '_SINGLETONS_GROUP_/COUNTER',\n",
       "  'run': '_SINGLETONS_GROUP_/COUNTER',\n",
       "  'luminosityBlock': '_SINGLETONS_GROUP_/COUNTER',\n",
       "  'event': '_SINGLETONS_GROUP_/COUNTER',\n",
       "  'Electron': 'Electron/nElectron',\n",
       "  'Electron/charge': 'Electron/nElectron',\n",
       "  'Electron/dxy': 'Electron/nElectron',\n",
       "  'Electron/dxyErr': 'Electron/nElectron',\n",
       "  'Electron/dz': 'Electron/nElectron',\n",
       "  'Electron/dzErr': 'Electron/nElectron',\n",
       "  'Electron/eta': 'Electron/nElectron',\n",
       "  'Electron/mass': 'Electron/nElectron',\n",
       "  'Electron/pfRelIso03_all': 'Electron/nElectron',\n",
       "  'Electron/phi': 'Electron/nElectron',\n",
       "  'Electron/pt': 'Electron/nElectron',\n",
       "  'MET': 'MET/nMET',\n",
       "  'MET/phi': 'MET/nMET',\n",
       "  'MET/pt': 'MET/nMET',\n",
       "  'Muon': 'Muon/nMuon',\n",
       "  'Muon/charge': 'Muon/nMuon',\n",
       "  'Muon/dxy': 'Muon/nMuon',\n",
       "  'Muon/dxyErr': 'Muon/nMuon',\n",
       "  'Muon/dz': 'Muon/nMuon',\n",
       "  'Muon/dzErr': 'Muon/nMuon',\n",
       "  'Muon/eta': 'Muon/nMuon',\n",
       "  'Muon/mass': 'Muon/nMuon',\n",
       "  'Muon/pfRelIso03_all': 'Muon/nMuon',\n",
       "  'Muon/pfRelIso04_all': 'Muon/nMuon',\n",
       "  'Muon/phi': 'Muon/nMuon',\n",
       "  'Muon/pt': 'Muon/nMuon',\n",
       "  'PV': 'PV/nPV',\n",
       "  'PV/npvs': 'PV/nPV',\n",
       "  'PV/x': 'PV/nPV',\n",
       "  'PV/y': 'PV/nPV',\n",
       "  'PV/z': 'PV/nPV'},\n",
       " '_LIST_OF_COUNTERS_': ['_SINGLETONS_GROUP_/COUNTER',\n",
       "  'Electron/nElectron',\n",
       "  'MET/nMET',\n",
       "  'Muon/nMuon',\n",
       "  'PV/nPV'],\n",
       " '_SINGLETONS_GROUP_/COUNTER': array([1, 1, 1, ..., 1, 1, 1]),\n",
       " '_MAP_DATASETS_TO_DATA_TYPES_': {'_SINGLETONS_GROUP_/COUNTER': int,\n",
       "  'run': dtype('int32'),\n",
       "  'luminosityBlock': dtype('uint32'),\n",
       "  'event': dtype('uint64'),\n",
       "  'Electron/nElectron': int,\n",
       "  'Electron/charge': dtype('int64'),\n",
       "  'Electron/dxy': dtype('float64'),\n",
       "  'Electron/dxyErr': dtype('float64'),\n",
       "  'Electron/dz': dtype('float64'),\n",
       "  'Electron/dzErr': dtype('float64'),\n",
       "  'Electron/eta': dtype('float64'),\n",
       "  'Electron/mass': dtype('float64'),\n",
       "  'Electron/pfRelIso03_all': dtype('float64'),\n",
       "  'Electron/phi': dtype('float64'),\n",
       "  'Electron/pt': dtype('float64'),\n",
       "  'MET/nMET': int,\n",
       "  'MET/phi': dtype('float64'),\n",
       "  'MET/pt': dtype('float64'),\n",
       "  'Muon/nMuon': int,\n",
       "  'Muon/charge': dtype('int64'),\n",
       "  'Muon/dxy': dtype('float64'),\n",
       "  'Muon/dxyErr': dtype('float64'),\n",
       "  'Muon/dz': dtype('float64'),\n",
       "  'Muon/dzErr': dtype('float64'),\n",
       "  'Muon/eta': dtype('float64'),\n",
       "  'Muon/mass': dtype('float64'),\n",
       "  'Muon/pfRelIso03_all': dtype('float64'),\n",
       "  'Muon/pfRelIso04_all': dtype('float64'),\n",
       "  'Muon/phi': dtype('float64'),\n",
       "  'Muon/pt': dtype('float64'),\n",
       "  'PV/nPV': int,\n",
       "  'PV/npvs': dtype('int64'),\n",
       "  'PV/x': dtype('float64'),\n",
       "  'PV/y': dtype('float64'),\n",
       "  'PV/z': dtype('float64')},\n",
       " '_META_': {},\n",
       " 'run': array([1, 1, 1, ..., 1, 1, 1], dtype=int32),\n",
       " 'luminosityBlock': array([156, 156, 156, ..., 996, 996, 996], dtype=uint32),\n",
       " 'event': array([ 46501,  46502,  46503, ..., 298798, 298799, 298800], dtype=uint64),\n",
       " 'Electron/charge': array([ 1,  1, -1, ...,  1, -1,  1]),\n",
       " 'Electron/nElectron': array([0, 4, 2, ..., 0, 2, 2], dtype=int32),\n",
       " 'Electron/dxy': array([-5.13491337e-04,  1.64759019e-03, -1.16001046e-03, ...,\n",
       "         1.01510470e-03,  3.34285869e-05, -6.58288482e-04]),\n",
       " 'Electron/dxyErr': array([0.00237457, 0.0029195 , 0.00252068, ..., 0.00500648, 0.002196  ,\n",
       "        0.00820568]),\n",
       " 'Electron/dz': array([-0.00306109,  0.00277758,  0.00212562, ...,  0.00552351,\n",
       "        -0.00220065,  0.00557538]),\n",
       " 'Electron/dzErr': array([0.00256128, 0.00339299, 0.00305503, ..., 0.00983993, 0.00240978,\n",
       "        0.00557774]),\n",
       " 'Electron/eta': array([-0.70218867, -0.97968054, -0.93385279, ...,  2.15979981,\n",
       "         0.53210974,  1.40340161]),\n",
       " 'Electron/mass': array([0.00543835, 0.00866742, 0.01852704, ..., 0.01436445, 0.01266618,\n",
       "        0.01853429]),\n",
       " 'Electron/pfRelIso03_all': array([0.15310849, 0.07332896, 0.02972797, ..., 0.05159524, 0.08423026,\n",
       "        0.02215174]),\n",
       " 'Electron/phi': array([ 0.13399617, -1.86340475, -2.20783257, ...,  1.83629465,\n",
       "        -1.60763943,  0.97172904]),\n",
       " 'Electron/pt': array([21.90267944, 42.6329689 , 78.01239014, ..., 23.22617912,\n",
       "        48.07146835, 38.71315002]),\n",
       " 'MET/phi': array([-2.73012233,  2.86694622, -2.16646314, ...,  1.88894832,\n",
       "        -1.97348797,  1.65124309]),\n",
       " 'MET/nMET': array([1, 1, 1, ..., 1, 1, 1], dtype=int32),\n",
       " 'MET/pt': array([21.92992973, 16.97213364, 19.06146431, ..., 17.67170143,\n",
       "        23.99908257, 12.94377899]),\n",
       " 'Muon/charge': array([ 1, -1,  1, ..., -1,  1,  1]),\n",
       " 'Muon/nMuon': array([3, 0, 0, ..., 4, 0, 0], dtype=int32),\n",
       " 'Muon/dxy': array([-4.78516007e-03,  5.74680860e-04, -2.32272083e-03, ...,\n",
       "        -9.99000000e+02, -9.99000000e+02, -9.99000000e+02]),\n",
       " 'Muon/dxyErr': array([ 6.07642159e-03,  1.30406872e-03,  4.34329081e-03, ...,\n",
       "        -9.99000000e+02, -9.99000000e+02, -9.99000000e+02]),\n",
       " 'Muon/dz': array([ 9.00598541e-02, -3.22901132e-03, -5.16284304e-03, ...,\n",
       "        -9.99000000e+02, -9.99000000e+02, -9.99000000e+02]),\n",
       " 'Muon/dzErr': array([ 4.45720516e-02,  3.02326959e-03,  4.19004308e-03, ...,\n",
       "        -9.99000000e+02, -9.99000000e+02, -9.99000000e+02]),\n",
       " 'Muon/eta': array([-0.71868223, -0.879457  , -0.32076442, ..., -2.14723349,\n",
       "        -2.13616705, -2.01891732]),\n",
       " 'Muon/mass': array([0.10565837, 0.10565837, 0.10565837, ..., 0.10565837, 0.10565837,\n",
       "        0.10565837]),\n",
       " 'Muon/pfRelIso03_all': array([   0.,    0.,    0., ..., -999., -999., -999.]),\n",
       " 'Muon/pfRelIso04_all': array([ 0.00000000e+00,  0.00000000e+00,  1.79979652e-01, ...,\n",
       "        -9.99000000e+02, -9.99000000e+02, -9.99000000e+02]),\n",
       " 'Muon/phi': array([ 2.9680059 , -1.03247499,  1.03850353, ...,  0.43416628,\n",
       "         1.00520837,  1.07624733]),\n",
       " 'Muon/pt': array([63.04386902, 38.12034607,  4.04868746, ...,  4.35876656,\n",
       "         5.63266706,  4.75077963]),\n",
       " 'PV/npvs': array([15, 13, 11, ...,  9, 15, 13]),\n",
       " 'PV/nPV': array([1, 1, 1, ..., 1, 1, 1], dtype=int32),\n",
       " 'PV/x': array([0.24369881, 0.24427825, 0.24243677, ..., 0.24491556, 0.2429356 ,\n",
       "        0.24703199]),\n",
       " 'PV/y': array([0.39369902, 0.39526224, 0.3950969 , ..., 0.39122048, 0.38943422,\n",
       "        0.39193258]),\n",
       " 'PV/z': array([ 1.45130777, -2.8797791 ,  1.86826301, ...,  2.06025529,\n",
       "         5.04869986,  6.51833868])}"
      ]
     },
     "execution_count": 116,
     "metadata": {},
     "output_type": "execute_result"
    }
   ],
   "source": [
    "# test awkward_to_hepfile\n",
    "\n",
    "d2 = awkward_to_hepfile(awk, write_hepfile=False)\n",
    "d2"
   ]
  },
  {
   "cell_type": "markdown",
   "id": "f5c90f74",
   "metadata": {},
   "source": [
    "# Scratch code\n",
    "\n",
    "Just a bunch of test code when I was trying to figure this all out. "
   ]
  },
  {
   "cell_type": "code",
   "execution_count": 27,
   "id": "04a75c70",
   "metadata": {},
   "outputs": [
    {
     "ename": "AttributeError",
     "evalue": "'Model_TTree_v20' object has no attribute 'fields'",
     "output_type": "error",
     "traceback": [
      "\u001b[0;31m---------------------------------------------------------------------------\u001b[0m",
      "\u001b[0;31mAttributeError\u001b[0m                            Traceback (most recent call last)",
      "Cell \u001b[0;32mIn[27], line 6\u001b[0m\n\u001b[1;32m      2\u001b[0m groups_to_datasets \u001b[38;5;241m=\u001b[39m {}\n\u001b[1;32m      4\u001b[0m counters \u001b[38;5;241m=\u001b[39m []\n\u001b[0;32m----> 6\u001b[0m \u001b[38;5;28;01mfor\u001b[39;00m field \u001b[38;5;129;01min\u001b[39;00m \u001b[43mevents\u001b[49m\u001b[38;5;241;43m.\u001b[39;49m\u001b[43mfields\u001b[49m:\n\u001b[1;32m      8\u001b[0m     \u001b[38;5;28mprint\u001b[39m(field)\n\u001b[1;32m     10\u001b[0m     d[field] \u001b[38;5;241m=\u001b[39m []\n",
      "\u001b[0;31mAttributeError\u001b[0m: 'Model_TTree_v20' object has no attribute 'fields'"
     ]
    }
   ],
   "source": [
    "d = {}\n",
    "groups_to_datasets = {}\n",
    "\n",
    "counters = []\n",
    "\n",
    "for field in events.fields:\n",
    "    \n",
    "    print(field)\n",
    "    \n",
    "    d[field] = []\n",
    "    groups_to_datasets[field] = []\n",
    "    \n",
    "    counters.append(f'n{field}')\n",
    "    \n",
    "    for v in events[field].fields:\n",
    "        groups_to_datasets[field].append(v)\n",
    "        \n",
    "        key = f\"{field}/{v}\"\n",
    "        \n",
    "        x = events[field][v]\n",
    "        \n",
    "        #print(v)\n",
    "        \n",
    "        print(f\"\\t{v}   {x.ndim}\")\n",
    "        \n",
    "        if x.ndim==1:\n",
    "            dtype = x.layout.format\n",
    "            x = ak.to_numpy(x)\n",
    "\n",
    "        else:\n",
    "            dtype = x.layout.content.format\n",
    "            x = ak.flatten(x).to_numpy()\n",
    "\n",
    "\n",
    "        d[key] = x"
   ]
  },
  {
   "cell_type": "code",
   "execution_count": null,
   "id": "e7ed3b8a",
   "metadata": {},
   "outputs": [],
   "source": [
    "!ls -ltr"
   ]
  },
  {
   "cell_type": "code",
   "execution_count": null,
   "id": "f7c90f4d",
   "metadata": {},
   "outputs": [],
   "source": [
    "ak.num(events['Muon']['pt'])"
   ]
  },
  {
   "cell_type": "code",
   "execution_count": null,
   "id": "eab7e768",
   "metadata": {},
   "outputs": [],
   "source": [
    "events.luminosityBlock"
   ]
  },
  {
   "cell_type": "code",
   "execution_count": null,
   "id": "2766bfc5",
   "metadata": {},
   "outputs": [],
   "source": [
    "d"
   ]
  },
  {
   "cell_type": "code",
   "execution_count": null,
   "id": "b2afa89d",
   "metadata": {},
   "outputs": [],
   "source": []
  },
  {
   "cell_type": "code",
   "execution_count": null,
   "id": "da6be6d5",
   "metadata": {},
   "outputs": [],
   "source": [
    "x = events['MET']['pt']\n",
    "\n",
    "print(x.ndim)\n",
    "print(events['Muon']['pt'].ndim)\n",
    "print(events['MET']['pt'].ndim)"
   ]
  },
  {
   "cell_type": "code",
   "execution_count": null,
   "id": "b81a4e32",
   "metadata": {},
   "outputs": [],
   "source": [
    "#x.layout\n",
    "layout = events['Electron']['pt'].layout"
   ]
  },
  {
   "cell_type": "code",
   "execution_count": null,
   "id": "1943fe0b",
   "metadata": {},
   "outputs": [],
   "source": [
    "layout.content.format"
   ]
  },
  {
   "cell_type": "code",
   "execution_count": null,
   "id": "14af5009",
   "metadata": {},
   "outputs": [],
   "source": [
    "x = events['MET']['pt']\n",
    "\n",
    "x.layout.format"
   ]
  },
  {
   "cell_type": "code",
   "execution_count": null,
   "id": "db6a7753",
   "metadata": {},
   "outputs": [],
   "source": [
    "x = events['MET']['pt']\n",
    "\n",
    "x.layout"
   ]
  },
  {
   "cell_type": "code",
   "execution_count": null,
   "id": "f22837e0",
   "metadata": {},
   "outputs": [],
   "source": [
    "x = events['MET']['pt']\n",
    "\n",
    "try:\n",
    "    x = ak.flatten(x)\n",
    "except:\n",
    "    1\n",
    "x = ak.to_numpy(x)\n",
    "\n",
    "print(type(x))"
   ]
  },
  {
   "cell_type": "markdown",
   "id": "a08038a5",
   "metadata": {},
   "source": [
    "# Testing out the loop way"
   ]
  },
  {
   "cell_type": "code",
   "execution_count": null,
   "id": "919ed315",
   "metadata": {},
   "outputs": [],
   "source": [
    "data = hepfile.initialize()\n",
    "data"
   ]
  },
  {
   "cell_type": "code",
   "execution_count": null,
   "id": "6ba0e159",
   "metadata": {},
   "outputs": [],
   "source": [
    "hepfile.create_group(data,group_name='muon',counter='nmuon')\n",
    "hepfile.create_dataset(data,group='muon',dset_name=['px','py','pz'],dtype=float)\n",
    "\n",
    "hepfile.create_dataset(data,dset_name=['luminosity_block'],dtype=int)\n",
    "\n",
    "bucket = hepfile.create_single_bucket(data)"
   ]
  },
  {
   "cell_type": "code",
   "execution_count": null,
   "id": "3b7698db",
   "metadata": {},
   "outputs": [],
   "source": [
    "data"
   ]
  },
  {
   "cell_type": "code",
   "execution_count": null,
   "id": "81775b77",
   "metadata": {
    "scrolled": true
   },
   "outputs": [],
   "source": [
    "nevents = 100\n",
    "\n",
    "for i in range(nevents):\n",
    "    nmuon = np.random.randint(0,5)\n",
    "    bucket['muon/nmuon'] = nmuon\n",
    "    bucket['muon/px'] = np.random.random(nmuon).tolist()\n",
    "    bucket['muon/py'] = np.random.random(nmuon).tolist()\n",
    "    bucket['muon/pz'] = np.random.random(nmuon).tolist()\n",
    "    \n",
    "    bucket['luminosity_block'] = np.random.randint(100,10000)\n",
    "    \n",
    "    hepfile.pack(data,bucket)\n",
    "\n",
    "hepfile.write_to_file('awkward_write_test_LOOP_FILL.h5', data, verbose=True)\n",
    " "
   ]
  },
  {
   "cell_type": "code",
   "execution_count": null,
   "id": "a8640bdf",
   "metadata": {},
   "outputs": [],
   "source": [
    "data,bucket = hepfile.load('awkward_write_test_LOOP_FILL.h5')"
   ]
  },
  {
   "cell_type": "code",
   "execution_count": null,
   "id": "6900fec5",
   "metadata": {},
   "outputs": [],
   "source": [
    "data['luminosity_block']"
   ]
  },
  {
   "cell_type": "code",
   "execution_count": null,
   "id": "4b6b50fd",
   "metadata": {},
   "outputs": [],
   "source": []
  }
 ],
 "metadata": {
  "kernelspec": {
   "display_name": "Python 3 (ipykernel)",
   "language": "python",
   "name": "python3"
  },
  "language_info": {
   "codemirror_mode": {
    "name": "ipython",
    "version": 3
   },
   "file_extension": ".py",
   "mimetype": "text/x-python",
   "name": "python",
   "nbconvert_exporter": "python",
   "pygments_lexer": "ipython3",
   "version": "3.9.17"
  }
 },
 "nbformat": 4,
 "nbformat_minor": 5
}
