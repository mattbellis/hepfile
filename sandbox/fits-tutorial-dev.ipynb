{
 "cells": [
  {
   "cell_type": "markdown",
   "id": "ef30e3b4-6862-4fc2-8709-ce23a74a7387",
   "metadata": {},
   "source": [
    "# FITS to hepfile\n"
   ]
  },
  {
   "cell_type": "code",
   "execution_count": null,
   "id": "c74b4836-7028-49b2-bc26-f6927415635b",
   "metadata": {},
   "outputs": [],
   "source": [
    "# first pip install astropy\n",
    "!pip install astropy"
   ]
  },
  {
   "cell_type": "code",
   "execution_count": null,
   "id": "e373a51a-9dbe-47ad-813b-1fcf6992c788",
   "metadata": {},
   "outputs": [],
   "source": [
    "# imports\n",
    "import os, glob\n",
    "import hepfile as hf\n",
    "import numpy as np\n",
    "import matplotlib.pyplot as plt\n",
    "from astropy.io import fits\n",
    "from astropy.table import Table"
   ]
  },
  {
   "cell_type": "code",
   "execution_count": null,
   "id": "58b20d95-fa02-45dd-a313-7a7ee1c3afb7",
   "metadata": {},
   "outputs": [],
   "source": [
    "# download some \"small\" public fits images, unzip them, and clean up the directory\n",
    "# this downloads three fits files from noirlab with observations of the eagle nebula at 3 different wavelengths\n",
    "!wget 'https://noirlab.edu/public/media/archives/education/zip/edu008.zip'\n",
    "!unzip -o 'edu008.zip'\n",
    "!unzip -o '*.zip'\n",
    "!rm -rf '__MACOSX'\n",
    "!rm *.zip\n",
    "!rm *.psd"
   ]
  },
  {
   "cell_type": "code",
   "execution_count": null,
   "id": "edcd1a9b-510c-479b-a7fe-15bcbaeb1ce1",
   "metadata": {},
   "outputs": [],
   "source": [
    "# let's open the files\n",
    "fitsfiles = glob.glob(os.path.join(os.getcwd(), '*.fits'))\n",
    "\n",
    "fitsdata = []\n",
    "for f in fitsfiles:\n",
    "    hdu_list = fits.open(f)\n",
    "    print(hdu_list.info()) # this shows all the info\n",
    "    print()\n",
    "    fitsdata.append(hdu_list)"
   ]
  },
  {
   "cell_type": "code",
   "execution_count": null,
   "id": "a2c01013-cf85-44b7-b6d3-2e601513d607",
   "metadata": {},
   "outputs": [],
   "source": [
    "allinfo = []\n",
    "imgs = []\n",
    "for d in fitsdata:\n",
    "    img = np.array(d[0].data)\n",
    "    info = Table(d[1].data)\n",
    "\n",
    "    print(info)\n",
    "    plt.figure()\n",
    "    plt.imshow(img.T, cmap='Greys_r')\n",
    "    \n",
    "    allinfo.append(info)\n",
    "    imgs.append(img)"
   ]
  },
  {
   "cell_type": "code",
   "execution_count": null,
   "id": "0108247a-c533-47b1-a4bc-3b9527178922",
   "metadata": {
    "tags": []
   },
   "outputs": [],
   "source": [
    "# we can think of each of these images as \"events\" and create a dictionary from them\n",
    "\n",
    "events = []\n",
    "for img, meta in zip(imgs, allinfo):\n",
    "    \n",
    "    event_dict = {}\n",
    "    for key in meta.keys():\n",
    "        # these are all the singleton values\n",
    "        event_dict[key] = meta[key].value[0]\n",
    "        \n",
    "    event_dict['data'] = {} # initialize a subdict for the image data\n",
    "    for i, row in enumerate(img):\n",
    "        event_dict['data'][f'row_{i}'] = row\n",
    "    \n",
    "    events.append(event_dict)"
   ]
  },
  {
   "cell_type": "code",
   "execution_count": null,
   "id": "b21d92d4-fe70-421b-ba00-c6c0742f3d4c",
   "metadata": {
    "tags": []
   },
   "outputs": [],
   "source": [
    "# put this data in a hepfile\n",
    "data = hf.dict_tools.dictlike_to_hepfile(events, 'eagle-nebula.h5', write_hepfile=True)"
   ]
  },
  {
   "cell_type": "code",
   "execution_count": null,
   "id": "b64c9cd0-0215-4b32-af9f-7d15477899ab",
   "metadata": {},
   "outputs": [],
   "source": [
    "key = \"_SINGLETONSGROUPFORSTORAGE_\"\n",
    "datalist = ['COUNTER', 'CRVAL1', 'CRVAL2', 'CRPIX1', 'CRPIX2', 'CD1_1', 'CD1_2', 'CD2_1', 'CD2_2', 'DATAMIN', 'DATAMAX', 'MIR_REVR', 'ORIENTAT', 'FILLCNT', 'ERRCNT', 'FPKTTIME', 'LPKTTIME', 'CTYPE1', 'CTYPE2', 'DETECTOR', 'DEZERO', 'BIASEVEN', 'BIASODD', 'GOODMIN', 'GOODMAX', 'DATAMEAN', 'GPIXELS', 'SOFTERRS', 'CALIBDEF', 'STATICD', 'ATODSAT', 'DATALOST', 'BADPIXEL', 'OVERLAP', 'PHOTMODE', 'PHOTFLAM', 'PHOTZPT', 'PHOTPLAM', 'PHOTBW', 'MEDIAN', 'MEDSHADO', 'HISTWIDE', 'SKEWNESS', 'MEANC10', 'MEANC25', 'MEANC50', 'MEANC100', 'MEANC200', 'MEANC300', 'BACKGRND']\n",
    "stra = np.string_(key)\n",
    "\n",
    "mydataset = []\n",
    "strb = np.string_(\"\")\n",
    "nvals = len(datalist)\n",
    "for i, val in enumerate(datalist):\n",
    "    strb += np.string_(val)\n",
    "    if i < nvals - 1:\n",
    "        strb += np.string_(\"__:__\")\n",
    "mydataset.append([stra, strb])\n",
    "mydataset"
   ]
  },
  {
   "cell_type": "code",
   "execution_count": null,
   "id": "a235a517-b505-4fd1-aabb-e620b0041893",
   "metadata": {},
   "outputs": [],
   "source": [
    "hepfile_data, bucket = hf.load('eagle-nebula.h5')"
   ]
  },
  {
   "cell_type": "code",
   "execution_count": null,
   "id": "fe68e733-5b67-499c-b5c6-85842f5d6346",
   "metadata": {
    "tags": []
   },
   "outputs": [],
   "source": [
    "hepfile_data['_GROUPS_']"
   ]
  },
  {
   "cell_type": "code",
   "execution_count": null,
   "id": "8ea7356c-1a01-4804-a866-703f6acc3af5",
   "metadata": {
    "tags": []
   },
   "outputs": [],
   "source": [
    "hf.awkward_tools.hepfile_to_awkward(hepfile_data)"
   ]
  },
  {
   "cell_type": "code",
   "execution_count": null,
   "id": "0430c120-8483-4e94-8386-4c656c19fc54",
   "metadata": {},
   "outputs": [],
   "source": [
    "meta"
   ]
  },
  {
   "cell_type": "code",
   "execution_count": null,
   "id": "7d9035e4-d887-4009-8683-4e7557a87f30",
   "metadata": {
    "tags": []
   },
   "outputs": [],
   "source": [
    "hepfile_data['_GROUPS_']"
   ]
  },
  {
   "cell_type": "code",
   "execution_count": null,
   "id": "2394fe79-4113-4984-82df-5c45733f5e52",
   "metadata": {
    "tags": []
   },
   "outputs": [],
   "source": [
    "events[0]"
   ]
  },
  {
   "cell_type": "code",
   "execution_count": null,
   "id": "dc9595aa-d41d-429b-bb29-e8d3abff2c2e",
   "metadata": {},
   "outputs": [],
   "source": []
  }
 ],
 "metadata": {
  "kernelspec": {
   "display_name": "Python 3 (ipykernel)",
   "language": "python",
   "name": "python3"
  },
  "language_info": {
   "codemirror_mode": {
    "name": "ipython",
    "version": 3
   },
   "file_extension": ".py",
   "mimetype": "text/x-python",
   "name": "python",
   "nbconvert_exporter": "python",
   "pygments_lexer": "ipython3",
   "version": "3.9.17"
  }
 },
 "nbformat": 4,
 "nbformat_minor": 5
}
