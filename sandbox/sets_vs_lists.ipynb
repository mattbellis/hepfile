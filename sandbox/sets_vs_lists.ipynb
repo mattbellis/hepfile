{
 "cells": [
  {
   "cell_type": "markdown",
   "id": "6e2b3317-6b09-41cb-bb14-8fb7e4e4e354",
   "metadata": {},
   "source": [
    "# Sets vs Lists\n",
    "This notebook shows the difference in search time between sets and lists"
   ]
  },
  {
   "cell_type": "code",
   "execution_count": null,
   "id": "ca112fda-7e6d-4dbc-803f-c0f7445ff681",
   "metadata": {},
   "outputs": [],
   "source": [
    "import time"
   ]
  },
  {
   "cell_type": "code",
   "execution_count": null,
   "id": "79cb6a9d-5ef3-484c-8877-591aadb78364",
   "metadata": {},
   "outputs": [],
   "source": [
    "# create a dataset of all zeros except the last value\n",
    "# this way we're getting worst case timing\n",
    "x = [0]*int(1e8) \n",
    "x.append(1)"
   ]
  },
  {
   "cell_type": "code",
   "execution_count": null,
   "id": "bddc8b84-8c75-4d58-827b-e1e7a7e194dc",
   "metadata": {},
   "outputs": [],
   "source": [
    "# time how long it takes to search the list for 1\n",
    "s = time.time()\n",
    "1 in x\n",
    "print(f'Time it took to search the list {time.time()-s}s')"
   ]
  },
  {
   "cell_type": "code",
   "execution_count": null,
   "id": "aaf52a5d-dea3-4e01-81b4-41f6b7822fc5",
   "metadata": {},
   "outputs": [],
   "source": [
    "# turn the list into a set and time it\n",
    "y = set(x)\n",
    "s = time.time()\n",
    "1 in y\n",
    "print(f'Time it took to search the set {time.time()-s}s')"
   ]
  },
  {
   "cell_type": "code",
   "execution_count": null,
   "id": "36c7bb74-c415-49db-a43e-83b195188f4a",
   "metadata": {},
   "outputs": [],
   "source": [
    "# TAKE NOTE! This is only really worth it if you are performing the search multiple times\n",
    "# the time it takes to make the set from the list and then search it for 1 is comparable to just searching\n",
    "# the list\n",
    "s = time.time()\n",
    "z = set(x)\n",
    "1 in z\n",
    "print(f'Time it took to search the set {time.time()-s}s')"
   ]
  },
  {
   "cell_type": "code",
   "execution_count": null,
   "id": "f9672b97-cb33-4764-bc5d-8e05d2c40654",
   "metadata": {},
   "outputs": [],
   "source": [
    "# but if we are looping over this action, there is a huge advantage!\n",
    "s = time.time()\n",
    "for i in range(10):\n",
    "    1 in x\n",
    "print(f'Time it took to search the list 10 times {time.time()-s}s')\n",
    "\n",
    "s = time.time()\n",
    "y = set(x)\n",
    "for i in range(10):\n",
    "    1 in y\n",
    "print(f'Time it took to search the set 10 times {time.time()-s}s')"
   ]
  },
  {
   "cell_type": "code",
   "execution_count": null,
   "id": "cf285378-fd25-4a3e-a6d5-09c42890ebdd",
   "metadata": {},
   "outputs": [],
   "source": []
  }
 ],
 "metadata": {
  "kernelspec": {
   "display_name": "Python 3 (ipykernel)",
   "language": "python",
   "name": "python3"
  },
  "language_info": {
   "codemirror_mode": {
    "name": "ipython",
    "version": 3
   },
   "file_extension": ".py",
   "mimetype": "text/x-python",
   "name": "python",
   "nbconvert_exporter": "python",
   "pygments_lexer": "ipython3",
   "version": "3.9.17"
  }
 },
 "nbformat": 4,
 "nbformat_minor": 5
}
