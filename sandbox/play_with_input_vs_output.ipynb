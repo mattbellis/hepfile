{
 "cells": [
  {
   "cell_type": "markdown",
   "id": "14008e44-a070-4b22-b6ed-ee41756bb4e0",
   "metadata": {},
   "source": [
    "# Writing hepfiles from Dictionaries"
   ]
  },
  {
   "cell_type": "code",
   "execution_count": 1,
   "id": "0a308265-8e23-42aa-b2df-13eae4b373a4",
   "metadata": {},
   "outputs": [],
   "source": [
    "# imports\n",
    "import hepfile as hf"
   ]
  },
  {
   "cell_type": "markdown",
   "id": "40f5b5c8-a4bb-4976-b521-0a7fa532ca01",
   "metadata": {},
   "source": [
    "Say that we have two events in a particle physics experiment and we measured the x and y momentum for both the jets and muons for each as well as the number of particles emitted. Each event can be represented as a nested dictionary:"
   ]
  },
  {
   "cell_type": "code",
   "execution_count": 2,
   "id": "b1e3b610-9650-4088-991a-b9baef7f3e40",
   "metadata": {},
   "outputs": [],
   "source": [
    "event1 = {\n",
    "    'jet': {\n",
    "        'px': [1,2,3],\n",
    "        'py': [1,2,3]\n",
    "     },\n",
    "    'muons': {\n",
    "        'px': [1,2,3],\n",
    "        'py': [1,2,3]\n",
    "     },\n",
    "    'nParticles': 3\n",
    "    }\n",
    "\n",
    "event2 = {\n",
    "    'jet': {\n",
    "        'px': [3,4,6,7],\n",
    "        'py': [3,4,6,7]\n",
    "     },\n",
    "    'muons': {\n",
    "        'px': [3,4,6,7],\n",
    "        'py': [3,4,6,7],\n",
    "        },\n",
    "    'nParticles': 4\n",
    "    }"
   ]
  },
  {
   "cell_type": "markdown",
   "id": "ef5dd101-8eae-477d-b8d6-ef21a08ecc49",
   "metadata": {},
   "source": [
    "Note how these events do not have the same number of particles emitted and therefore could not be stored in a typical \"homogeneous\" data structure. This is where hepfile becomes useful! \n",
    "\n",
    "To easily create a hepfile from these events we can store them in a list:"
   ]
  },
  {
   "cell_type": "code",
   "execution_count": 3,
   "id": "4c0972b5-c83e-4aa3-bba3-e120352b7cf7",
   "metadata": {},
   "outputs": [],
   "source": [
    "to_write_to_hepfile = [event1, event2]"
   ]
  },
  {
   "cell_type": "markdown",
   "id": "a8002c25-e0a2-4c7e-9ed2-d8d28667ea89",
   "metadata": {},
   "source": [
    "Then, to write this out to a hepfile, we simply need to use the `dict_tools` module of `hepfile`."
   ]
  },
  {
   "cell_type": "code",
   "execution_count": 4,
   "id": "ecc1536e-0b42-4207-9d49-92254aef1362",
   "metadata": {},
   "outputs": [
    {
     "name": "stdout",
     "output_type": "stream",
     "text": [
      "Adding group \u001b[1mjet\u001b[0m\n",
      "Adding a counter for \u001b[1mjet\u001b[0m as \u001b[1mnjet\u001b[0m\n",
      "Adding dataset \u001b[1mpx\u001b[0m to the dictionary under group \u001b[1mjet\u001b[0m.\n",
      "Adding dataset \u001b[1mpy\u001b[0m to the dictionary under group \u001b[1mjet\u001b[0m.\n",
      "Adding group \u001b[1mmuons\u001b[0m\n",
      "Adding a counter for \u001b[1mmuons\u001b[0m as \u001b[1mnmuons\u001b[0m\n",
      "Adding dataset \u001b[1mpx\u001b[0m to the dictionary under group \u001b[1mmuons\u001b[0m.\n",
      "Adding dataset \u001b[1mpy\u001b[0m to the dictionary under group \u001b[1mmuons\u001b[0m.\n",
      "Adding dataset \u001b[1mnParticles\u001b[0m to the dictionary as a SINGLETON.\n",
      "Writing the hdf5 file from the awkward array...\n",
      "_SINGLETONS_GROUP_ COUNTER\n",
      "_SINGLETONS_GROUP_ nParticles\n",
      "jet njet\n",
      "jet px\n",
      "jet py\n",
      "muons nmuons\n",
      "muons px\n",
      "muons py\n",
      "_SINGLETONS_GROUP_/COUNTER       has 2            entries\n",
      "jet/njet                         has 2            entries\n",
      "muons/nmuons                     has 2            entries\n",
      "Metadata added\n",
      "[{jet: {px: [1, ..., 3], py: [...]}, muons: {px: ..., ...}, ...},\n",
      " {jet: {px: [3, ..., 7], py: [...]}, muons: {px: ..., ...}, ...}]\n"
     ]
    }
   ],
   "source": [
    "out_filename = 'output_from_dict.hdf5'\n",
    "data = hf.dict_tools.dictlike_to_hepfile(to_write_to_hepfile, out_filename)\n",
    "data.show()"
   ]
  },
  {
   "cell_type": "code",
   "execution_count": 5,
   "id": "27f60e5f-45e0-4aa2-9611-34534e0c5408",
   "metadata": {},
   "outputs": [
    {
     "name": "stdout",
     "output_type": "stream",
     "text": [
      "Adding group \u001b[1mjet\u001b[0m\n",
      "Adding a counter for \u001b[1mjet\u001b[0m as \u001b[1mnjet\u001b[0m\n",
      "Adding dataset \u001b[1mpx\u001b[0m to the dictionary under group \u001b[1mjet\u001b[0m.\n",
      "Adding dataset \u001b[1mpy\u001b[0m to the dictionary under group \u001b[1mjet\u001b[0m.\n",
      "Adding group \u001b[1mmuons\u001b[0m\n",
      "Adding a counter for \u001b[1mmuons\u001b[0m as \u001b[1mnmuons\u001b[0m\n",
      "Adding dataset \u001b[1mpx\u001b[0m to the dictionary under group \u001b[1mmuons\u001b[0m.\n",
      "Adding dataset \u001b[1mpy\u001b[0m to the dictionary under group \u001b[1mmuons\u001b[0m.\n",
      "Adding dataset \u001b[1mnParticles\u001b[0m to the dictionary as a SINGLETON.\n"
     ]
    }
   ],
   "source": [
    "d = hf.awkward_tools.awkward_to_hepfile(data, write_hepfile=False)\n",
    "ds = set(d.keys())"
   ]
  },
  {
   "cell_type": "code",
   "execution_count": 6,
   "id": "f7fe0224-32da-4271-a08e-e0759d6a48a0",
   "metadata": {},
   "outputs": [
    {
     "name": "stdout",
     "output_type": "stream",
     "text": [
      "Building the indices...\n",
      "\n",
      "Built the indices!\n",
      "Data is read in and input file is closed.\n"
     ]
    }
   ],
   "source": [
    "x, _ = hf.load(out_filename)\n",
    "xs = set(x.keys())"
   ]
  },
  {
   "cell_type": "code",
   "execution_count": 7,
   "id": "8c5b9a2c-08f9-4dc6-bfcc-3f0a4c5d0bfb",
   "metadata": {},
   "outputs": [
    {
     "data": {
      "text/plain": [
       "{'_PROTECTED_NAMES_'}"
      ]
     },
     "execution_count": 7,
     "metadata": {},
     "output_type": "execute_result"
    }
   ],
   "source": [
    "# in input to write but not in output of load\n",
    "ds - xs"
   ]
  },
  {
   "cell_type": "code",
   "execution_count": 8,
   "id": "b623f990-7b10-4cf6-b62c-fc10aace9115",
   "metadata": {},
   "outputs": [
    {
     "data": {
      "text/plain": [
       "{'_LIST_OF_DATASETS_',\n",
       " '_MAP_DATASETS_TO_INDEX_',\n",
       " '_NUMBER_OF_BUCKETS_',\n",
       " '_SINGLETONS_GROUP_',\n",
       " '_SINGLETONS_GROUP_/COUNTER_INDEX',\n",
       " 'jet/njet_INDEX',\n",
       " 'muons/nmuons_INDEX'}"
      ]
     },
     "execution_count": 8,
     "metadata": {},
     "output_type": "execute_result"
    }
   ],
   "source": [
    "# in output of load but not in input to write\n",
    "xs - ds"
   ]
  },
  {
   "cell_type": "code",
   "execution_count": 9,
   "id": "50cae1f4-f5fa-4018-8f7b-4e79e81d5802",
   "metadata": {},
   "outputs": [
    {
     "data": {
      "text/plain": [
       "{'_MAP_DATASETS_TO_COUNTERS_': {'_SINGLETONS_GROUP_': '_SINGLETONS_GROUP_/COUNTER',\n",
       "  'jet': 'jet/njet',\n",
       "  'jet/px': 'jet/njet',\n",
       "  'jet/py': 'jet/njet',\n",
       "  'muons': 'muons/nmuons',\n",
       "  'muons/px': 'muons/nmuons',\n",
       "  'muons/py': 'muons/nmuons',\n",
       "  'nParticles': '_SINGLETONS_GROUP_/COUNTER'},\n",
       " '_MAP_DATASETS_TO_INDEX_': {'_SINGLETONS_GROUP_': '_SINGLETONS_GROUP_/COUNTER_INDEX',\n",
       "  'jet': 'jet/njet_INDEX',\n",
       "  'jet/px': 'jet/njet_INDEX',\n",
       "  'jet/py': 'jet/njet_INDEX',\n",
       "  'muons': 'muons/nmuons_INDEX',\n",
       "  'muons/px': 'muons/nmuons_INDEX',\n",
       "  'muons/py': 'muons/nmuons_INDEX',\n",
       "  'nParticles': '_SINGLETONS_GROUP_/COUNTER_INDEX'},\n",
       " '_LIST_OF_COUNTERS_': ['_SINGLETONS_GROUP_/COUNTER',\n",
       "  'jet/njet',\n",
       "  'muons/nmuons'],\n",
       " '_LIST_OF_DATASETS_': ['_SINGLETONS_GROUP_',\n",
       "  '_SINGLETONS_GROUP_/COUNTER',\n",
       "  'jet',\n",
       "  'jet/njet',\n",
       "  'jet/px',\n",
       "  'jet/py',\n",
       "  'muons',\n",
       "  'muons/nmuons',\n",
       "  'muons/px',\n",
       "  'muons/py',\n",
       "  'nParticles'],\n",
       " '_NUMBER_OF_BUCKETS_': 2,\n",
       " '_SINGLETONS_GROUP_': array(['nParticles', 'COUNTER'], dtype='<U10'),\n",
       " '_SINGLETONS_GROUP_/COUNTER': array([1, 1]),\n",
       " '_SINGLETONS_GROUP_/COUNTER_INDEX': array([0, 1]),\n",
       " 'jet/njet': array([3, 4]),\n",
       " 'jet/njet_INDEX': array([0, 3]),\n",
       " 'muons/nmuons': array([3, 4]),\n",
       " 'muons/nmuons_INDEX': array([0, 3]),\n",
       " 'jet/px': array([1, 2, 3, 3, 4, 6, 7]),\n",
       " 'jet/py': array([1, 2, 3, 3, 4, 6, 7]),\n",
       " 'muons/px': array([1, 2, 3, 3, 4, 6, 7]),\n",
       " 'muons/py': array([1, 2, 3, 3, 4, 6, 7]),\n",
       " 'nParticles': array([3, 4]),\n",
       " '_GROUPS_': {'_SINGLETONS_GROUP_': ['nParticles', 'COUNTER'],\n",
       "  'jet': ['njet', 'px', 'py'],\n",
       "  'muons': ['nmuons', 'px', 'py']},\n",
       " '_MAP_DATASETS_TO_DATA_TYPES_': {'_SINGLETONS_GROUP_': dtype('<U10'),\n",
       "  '_SINGLETONS_GROUP_/COUNTER': dtype('int64'),\n",
       "  'jet/njet': dtype('int64'),\n",
       "  'jet/px': dtype('int64'),\n",
       "  'jet/py': dtype('int64'),\n",
       "  'muons/nmuons': dtype('int64'),\n",
       "  'muons/px': dtype('int64'),\n",
       "  'muons/py': dtype('int64'),\n",
       "  'nParticles': dtype('int64')}}"
      ]
     },
     "execution_count": 9,
     "metadata": {},
     "output_type": "execute_result"
    }
   ],
   "source": [
    "x"
   ]
  },
  {
   "cell_type": "code",
   "execution_count": 10,
   "id": "6c9164d7-fa32-4423-8047-6da50f4ea3cc",
   "metadata": {},
   "outputs": [
    {
     "data": {
      "text/plain": [
       "{'_GROUPS_': {'_SINGLETONS_GROUP_': ['COUNTER', 'nParticles'],\n",
       "  'jet': ['njet', 'px', 'py'],\n",
       "  'muons': ['nmuons', 'px', 'py']},\n",
       " '_MAP_DATASETS_TO_COUNTERS_': {'_SINGLETONS_GROUP_': '_SINGLETONS_GROUP_/COUNTER',\n",
       "  'jet': 'jet/njet',\n",
       "  'jet/px': 'jet/njet',\n",
       "  'jet/py': 'jet/njet',\n",
       "  'muons': 'muons/nmuons',\n",
       "  'muons/px': 'muons/nmuons',\n",
       "  'muons/py': 'muons/nmuons',\n",
       "  'nParticles': '_SINGLETONS_GROUP_/COUNTER'},\n",
       " '_LIST_OF_COUNTERS_': ['_SINGLETONS_GROUP_/COUNTER',\n",
       "  'jet/njet',\n",
       "  'muons/nmuons'],\n",
       " '_SINGLETONS_GROUP_/COUNTER': [1, 1],\n",
       " '_MAP_DATASETS_TO_DATA_TYPES_': {'_SINGLETONS_GROUP_/COUNTER': int,\n",
       "  'jet/njet': int,\n",
       "  'jet/px': numpy.int64,\n",
       "  'jet/py': numpy.int64,\n",
       "  'muons/nmuons': int,\n",
       "  'muons/px': numpy.int64,\n",
       "  'muons/py': numpy.int64,\n",
       "  'nParticles': numpy.int64},\n",
       " '_PROTECTED_NAMES_': ['_PROTECTED_NAMES_',\n",
       "  '_GROUPS_',\n",
       "  '_MAP_DATASETS_TO_COUNTERS_',\n",
       "  '_MAP_DATASETS_TO_DATA_TYPES__LIST_OF_COUNTERS_',\n",
       "  '_SINGLETONS_GROUP_',\n",
       "  '_SINGLETONS_GROUP_/COUNTER'],\n",
       " 'jet/njet': <Array [3, 4] type='2 * int64'>,\n",
       " 'jet/px': <Array [1, 2, 3, 3, 4, 6, 7] type='7 * int64'>,\n",
       " 'jet/py': <Array [1, 2, 3, 3, 4, 6, 7] type='7 * int64'>,\n",
       " 'muons/nmuons': <Array [3, 4] type='2 * int64'>,\n",
       " 'muons/px': <Array [1, 2, 3, 3, 4, 6, 7] type='7 * int64'>,\n",
       " 'muons/py': <Array [1, 2, 3, 3, 4, 6, 7] type='7 * int64'>,\n",
       " 'nParticles': <Array [3, 4] type='2 * int64'>}"
      ]
     },
     "execution_count": 10,
     "metadata": {},
     "output_type": "execute_result"
    }
   ],
   "source": [
    "d"
   ]
  },
  {
   "cell_type": "code",
   "execution_count": 11,
   "id": "4594b629-740f-4182-8faf-6e0901845896",
   "metadata": {},
   "outputs": [
    {
     "name": "stdout",
     "output_type": "stream",
     "text": [
      "_SINGLETONS_GROUP_ nParticles\n",
      "Writing nParticles to file\n",
      "\tWriting to file...\n",
      "Writing to file nParticles as type int64\n",
      "_SINGLETONS_GROUP_ COUNTER\n",
      "Writing _SINGLETONS_GROUP_/COUNTER to file\n",
      "\tWriting to file...\n",
      "Writing to file _SINGLETONS_GROUP_/COUNTER as type int64\n",
      "jet njet\n",
      "Writing jet/njet to file\n",
      "\tWriting to file...\n",
      "Writing to file jet/njet as type int64\n",
      "jet px\n",
      "Writing jet/px to file\n",
      "\tWriting to file...\n",
      "Writing to file jet/px as type int64\n",
      "jet py\n",
      "Writing jet/py to file\n",
      "\tWriting to file...\n",
      "Writing to file jet/py as type int64\n",
      "muons nmuons\n",
      "Writing muons/nmuons to file\n",
      "\tWriting to file...\n",
      "Writing to file muons/nmuons as type int64\n",
      "muons px\n",
      "Writing muons/px to file\n",
      "\tWriting to file...\n",
      "Writing to file muons/px as type int64\n",
      "muons py\n",
      "Writing muons/py to file\n",
      "\tWriting to file...\n",
      "Writing to file muons/py as type int64\n",
      "_SINGLETONS_GROUP_/COUNTER       has 2            entries\n",
      "jet/njet                         has 2            entries\n",
      "muons/nmuons                     has 2            entries\n",
      "Metadata added\n"
     ]
    },
    {
     "data": {
      "text/plain": [
       "<Closed HDF5 file>"
      ]
     },
     "execution_count": 11,
     "metadata": {},
     "output_type": "execute_result"
    }
   ],
   "source": [
    "hf.write_to_file('test2.h5', x, verbose=True)"
   ]
  },
  {
   "cell_type": "code",
   "execution_count": null,
   "id": "631e3530-9d9a-419c-b75c-0cf81f03edd7",
   "metadata": {},
   "outputs": [],
   "source": []
  }
 ],
 "metadata": {
  "kernelspec": {
   "display_name": "Python 3 (ipykernel)",
   "language": "python",
   "name": "python3"
  },
  "language_info": {
   "codemirror_mode": {
    "name": "ipython",
    "version": 3
   },
   "file_extension": ".py",
   "mimetype": "text/x-python",
   "name": "python",
   "nbconvert_exporter": "python",
   "pygments_lexer": "ipython3",
   "version": "3.9.16"
  }
 },
 "nbformat": 4,
 "nbformat_minor": 5
}
