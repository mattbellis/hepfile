{
 "cells": [
  {
   "cell_type": "markdown",
   "id": "31a5fc94-b970-4eb8-b3f6-9b7d96d05467",
   "metadata": {},
   "source": [
    "# Storing Histograms in Hepfiles\n",
    "A great example of the use of hepfiles is storing information about many histograms with varying numbers of bins in a hepfile. This tutorial walks through this process."
   ]
  },
  {
   "cell_type": "code",
   "execution_count": null,
   "id": "cf8fcca2-82f9-4b9b-99a1-512d20dd2be4",
   "metadata": {},
   "outputs": [],
   "source": [
    "import numpy as np\n",
    "import matplotlib.pyplot as plt\n",
    "import hepfile as hf"
   ]
  },
  {
   "cell_type": "markdown",
   "id": "d567d925-e16a-4fef-b182-822006947b85",
   "metadata": {},
   "source": [
    "## Generating a Dataset\n",
    "We first generate 5 random datasets with varying length. If you are planning to do this, you probably already have your dataset, this is just for an example."
   ]
  },
  {
   "cell_type": "code",
   "execution_count": null,
   "id": "b4c72f26-c4ae-4548-84b5-3abbf426f28e",
   "metadata": {},
   "outputs": [],
   "source": [
    "# generate some random normally distributed datasets\n",
    "datasets = []\n",
    "for i in range(1,6):\n",
    "    rand = np.random.normal(size=10**i)\n",
    "    datasets.append(rand)"
   ]
  },
  {
   "cell_type": "markdown",
   "id": "0927ad40-c2cf-4213-91cf-1085aa9f97da",
   "metadata": {},
   "source": [
    "## Preparing the Dataset\n",
    "Then, we can calculate/create the following information about each dataset:\n",
    "* bins and edge information from numpy histogram\n",
    "* x-label\n",
    "* y-label\n",
    "* title\n",
    "\n",
    "You can imagine that each histogram is like an \"event\" which allows us to pack the bins and edge information in a group called `histogram` and the rest of the information as singletons. To easily pack the data into a hepfile, we can store all of this information in a list of dictionaries. This will allow us to call `hepfile.dict_tools.dictlike_to_hepfile` easily. \n",
    "\n",
    "We also plot the histogram data we calculate so that you can see what the datasets look like and how they differ!"
   ]
  },
  {
   "cell_type": "code",
   "execution_count": null,
   "id": "9f89c501-6dff-4387-bd98-53053cbe73fe",
   "metadata": {},
   "outputs": [],
   "source": [
    "data_dicts = []\n",
    "\n",
    "for rand in datasets:\n",
    "    \n",
    "    i = int(np.log10(len(rand)))\n",
    "    \n",
    "    # append an empty dictionary to store the data about this histogram in\n",
    "    data_dicts.append({}) \n",
    "    \n",
    "    # generate random data and then the histogram bins and edges using numpy\n",
    "    # vary the number of bins because that's what hepfile is good at!\n",
    "    bins, edges = np.histogram(rand, bins=int(4**i)) \n",
    "    \n",
    "    # plot this data\n",
    "    plt.figure()\n",
    "    plt.bar(edges[:-1], bins, align='edge', width=edges[1]-edges[0])\n",
    "    \n",
    "    ylabel = f'y-label {i}'\n",
    "    plt.ylabel(ylabel)\n",
    "    data_dicts[-1]['ylabel'] = ylabel # store the ylabel in the recently appended dict\n",
    "    \n",
    "    xlabel = f'x-label {i}'\n",
    "    plt.xlabel(xlabel)\n",
    "    data_dicts[-1]['xlabel'] = xlabel # store the xlabel in the recently appended dict\n",
    "    \n",
    "    title = f'Histogram with 10^{i} values'\n",
    "    plt.title(title)\n",
    "    data_dicts[-1]['title'] = title # store the title in the recently appended dict\n",
    "    \n",
    "    # store the bin and edge information in a sub dictionary\n",
    "    data_dicts[-1]['histogram'] = {}\n",
    "    data_dicts[-1]['histogram']['bins'] = bins\n",
    "    data_dicts[-1]['histogram']['edges'] = edges"
   ]
  },
  {
   "cell_type": "markdown",
   "id": "d965d1cc-28c9-4862-b935-f3ebec888af7",
   "metadata": {},
   "source": [
    "Below is the list of data dictionaries that we plan to store in the hepfile. Notice how it is heterogeneous and the lengths of the bins and edges arrays vary between histograms!"
   ]
  },
  {
   "cell_type": "code",
   "execution_count": null,
   "id": "6426fc0c-55fe-42e9-9e4d-7116e27e67c8",
   "metadata": {},
   "outputs": [],
   "source": [
    "print(data_dicts)"
   ]
  },
  {
   "cell_type": "markdown",
   "id": "0868f577-1085-4bf0-a3fe-f41e405e83c1",
   "metadata": {},
   "source": [
    "## Writing the hepfile\n",
    "\n",
    "Now that we have a list of dictionaries, we can easily write this to a hepfile using `hepfile.dict_tools.dictlike_to_hepfile`:"
   ]
  },
  {
   "cell_type": "code",
   "execution_count": null,
   "id": "affadd9f-9f04-42f8-9acc-eb31bfdb05e2",
   "metadata": {},
   "outputs": [],
   "source": [
    "# data_dicts is in a format we can easily save to a hepfile!\n",
    "filename = 'histogram-hepfile.h5'\n",
    "data = hf.dict_tools.dictlike_to_hepfile(data_dicts, filename)"
   ]
  },
  {
   "cell_type": "markdown",
   "id": "bc6c43c8-165d-4ca8-91c6-edda4c7e8465",
   "metadata": {},
   "source": [
    "Then we can view the data from the awkward array that is returned! Also note that data has been saved as a hepfile called `histogram-hepfile.h5` that can be read in using `hepfile.load` if you wish."
   ]
  },
  {
   "cell_type": "code",
   "execution_count": null,
   "id": "bb571dc8-422e-4716-b410-221ff5d075cd",
   "metadata": {},
   "outputs": [],
   "source": [
    "data.histogram.bins"
   ]
  }
 ],
 "metadata": {
  "kernelspec": {
   "display_name": "Python 3 (ipykernel)",
   "language": "python",
   "name": "python3"
  },
  "language_info": {
   "codemirror_mode": {
    "name": "ipython",
    "version": 3
   },
   "file_extension": ".py",
   "mimetype": "text/x-python",
   "name": "python",
   "nbconvert_exporter": "python",
   "pygments_lexer": "ipython3",
   "version": "3.9.17"
  }
 },
 "nbformat": 4,
 "nbformat_minor": 5
}
