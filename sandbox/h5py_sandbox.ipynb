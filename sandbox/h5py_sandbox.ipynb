{
 "cells": [
  {
   "cell_type": "code",
   "execution_count": 1,
   "id": "df8e0006-b455-4178-aabc-496fb600ad4c",
   "metadata": {},
   "outputs": [],
   "source": [
    "import h5py\n",
    "import numpy as np\n",
    "\n",
    "import time\n",
    "import os\n",
    "import string\n",
    "\n",
    "import sys\n",
    "\n",
    "import matplotlib.pylab as plt"
   ]
  },
  {
   "cell_type": "markdown",
   "id": "9476925c-ec0a-4e82-95f2-19b22b97c941",
   "metadata": {},
   "source": [
    "# Writing strings to a file"
   ]
  },
  {
   "cell_type": "code",
   "execution_count": 2,
   "id": "baa50762-425f-43b3-a63b-04da3504df3a",
   "metadata": {},
   "outputs": [
    {
     "name": "stdout",
     "output_type": "stream",
     "text": [
      "40000\n",
      "longest_word= 8\n",
      "(40000,) object\n"
     ]
    }
   ],
   "source": [
    "sentence=['this','is','a','sentence']\n",
    "data = []\n",
    "\n",
    "for i in range(10000):\n",
    "    data += sentence\n",
    "print(len(data))\n",
    "longest_word=len(max(data, key=len))\n",
    "print('longest_word=',longest_word)\n",
    "\n",
    "dt = h5py.special_dtype(vlen=str)\n",
    "\n",
    "arr = np.array(data,dtype='S'+str(longest_word))\n",
    "\n",
    "with h5py.File('outfile.h5','w') as h5File:\n",
    "    dset = h5File.create_dataset('words',data=arr,dtype=dt, compression='gzip',compression_opts=9)\n",
    "    print(dset.shape, dset.dtype)\n",
    "\n",
    "    h5File.flush()\n",
    "    h5File.close()"
   ]
  },
  {
   "cell_type": "markdown",
   "id": "7b7ba5f1-6bc0-4dae-81e0-387d600b17c4",
   "metadata": {},
   "source": [
    "# Another shot at writing and reading strings"
   ]
  },
  {
   "cell_type": "code",
   "execution_count": 3,
   "id": "d98b3dca-f72f-4c83-8018-baa4729db411",
   "metadata": {},
   "outputs": [
    {
     "name": "stdout",
     "output_type": "stream",
     "text": [
      "['strings']\n",
      "<HDF5 dataset \"strings\": shape (3, 1), type \"|O\">\n",
      "[b'asas']\n",
      "[b'asas']\n",
      "[b'asas']\n"
     ]
    }
   ],
   "source": [
    "h5File=h5py.File('xxx.h5','w')\n",
    "\n",
    "strList=['asas','asas','asas']\n",
    "\n",
    "#dt = h5py.special_dtype(vlen=str)\n",
    "dt = h5py.string_dtype(encoding='utf-8')\n",
    "\n",
    "dset = h5File.create_dataset('strings',(len(strList),1),dtype=dt)\n",
    "for i,s in enumerate(strList):\n",
    "    dset[i] = s\n",
    "\n",
    "h5File.flush()\n",
    "h5File.close()\n",
    "\n",
    "\n",
    "\n",
    "#################\n",
    "\n",
    "f = h5py.File('xxx.h5', 'r')\n",
    "\n",
    "print(list(f.keys()))\n",
    "\n",
    "print(f['strings'])\n",
    "x = f['strings']\n",
    "\n",
    "for a in x:\n",
    "    print(a)"
   ]
  },
  {
   "cell_type": "markdown",
   "id": "d3bbdfdc-e480-4dd4-b6f8-2200949806b9",
   "metadata": {},
   "source": [
    "# Writing groups under groups"
   ]
  },
  {
   "cell_type": "code",
   "execution_count": 4,
   "id": "865d4f69-91fb-4d5c-a951-4e1da4847c1c",
   "metadata": {},
   "outputs": [
    {
     "name": "stdout",
     "output_type": "stream",
     "text": [
      "foo.h5 file does not exist\n",
      "/\n",
      "/bar/baz\n"
     ]
    }
   ],
   "source": [
    "outfilename = 'foo.h5'\n",
    "\n",
    "if os.path.exists(outfilename):\n",
    "  os.remove(outfilename)\n",
    "else:\n",
    "  print(f\"{outfilename} file does not exist\")\n",
    "\n",
    "\n",
    "f = h5py.File(outfilename,'w')\n",
    "print(f.name)\n",
    "\n",
    "grp = f.create_group(\"bar\")\n",
    "subgrp = grp.create_group(\"baz\")\n",
    "\n",
    "print(subgrp.name)"
   ]
  },
  {
   "cell_type": "markdown",
   "id": "80598462-713b-4447-84cd-a9c31e0762b2",
   "metadata": {},
   "source": [
    "# Timing tests for large writes"
   ]
  },
  {
   "cell_type": "code",
   "execution_count": 5,
   "id": "4d9c6392-7648-404f-99b8-be990e45a448",
   "metadata": {},
   "outputs": [
    {
     "name": "stdout",
     "output_type": "stream",
     "text": [
      "data_TEST.h5 file does not exist\n"
     ]
    }
   ],
   "source": [
    "outfilename = 'data_TEST.h5'\n",
    "\n",
    "if os.path.exists(outfilename):\n",
    "  os.remove(outfilename)\n",
    "else:\n",
    "  print(f\"{outfilename} file does not exist\")\n",
    "\n",
    "f = h5py.File(outfilename,'a')"
   ]
  },
  {
   "cell_type": "code",
   "execution_count": 6,
   "id": "868f7ca8-5944-4709-b568-800d2906d65a",
   "metadata": {},
   "outputs": [],
   "source": [
    "#list(string.ascii_lowercase)"
   ]
  },
  {
   "cell_type": "code",
   "execution_count": 7,
   "id": "6f3246d0-f557-4e51-919b-8eddf8fd95f0",
   "metadata": {},
   "outputs": [
    {
     "name": "stdout",
     "output_type": "stream",
     "text": [
      "rpfwk\n"
     ]
    }
   ],
   "source": [
    "print(''.join(np.random.choice(list(string.ascii_lowercase), size=5)))"
   ]
  },
  {
   "cell_type": "code",
   "execution_count": 8,
   "id": "a0da1b04-0187-4d05-83f8-c4a5564558d5",
   "metadata": {},
   "outputs": [],
   "source": [
    "ngroups = 10\n",
    "nchars_in_name = 5\n",
    "\n",
    "ndatasets_in_group = 20\n",
    "\n",
    "data = {}\n",
    "\n",
    "# Make the groups\n",
    "for n in range(ngroups):\n",
    "    name = ''.join(np.random.choice(list(string.ascii_lowercase), size=nchars_in_name))\n",
    "    \n",
    "    # Keep track of our data\n",
    "    data[name] = {}\n",
    "    \n",
    "    group_names = list(f.keys())\n",
    "    \n",
    "    if name not in group_names:\n",
    "        grp = f.create_group(name)\n",
    "        \n",
    "        # Make the datasets in each group\n",
    "        for nd in range(ndatasets_in_group):\n",
    "            dname = ''.join(np.random.choice(list(string.ascii_lowercase), size=nchars_in_name))\n",
    "\n",
    "            data[name][dname] = []\n",
    "            # Create this at write time\n",
    "            #dset = grp.create_dataset(dname, dtype='f')\n",
    "            "
   ]
  },
  {
   "cell_type": "code",
   "execution_count": 9,
   "id": "886533d6-fcab-4a14-95c2-50fd80b854ae",
   "metadata": {},
   "outputs": [
    {
     "name": "stdout",
     "output_type": "stream",
     "text": [
      "['mfuxe', 'mkyqi', 'mztfe', 'nhfoq', 'nqlmn', 'qtsjm', 'sbfht', 'silhm', 'xhmgw', 'yyerz']\n"
     ]
    }
   ],
   "source": [
    "\n",
    "print(list(f.keys()))"
   ]
  },
  {
   "cell_type": "code",
   "execution_count": 10,
   "id": "cbc68040-a9b4-45ab-ab31-d62edb18a4b6",
   "metadata": {},
   "outputs": [],
   "source": [
    "def printname(name):\n",
    "    print(name)\n",
    "#f.visit(printname)"
   ]
  },
  {
   "cell_type": "code",
   "execution_count": 11,
   "id": "4213c6bd-cd99-4f72-8372-b2ecde7df4d8",
   "metadata": {},
   "outputs": [
    {
     "name": "stdout",
     "output_type": "stream",
     "text": [
      "xhmgw: 2000000\n",
      "mkyqi: 400000\n",
      "nqlmn: 800000\n",
      "mfuxe: 3200000\n",
      "mztfe: 1200000\n",
      "yyerz: 400000\n",
      "nhfoq: 2400000\n",
      "sbfht: 800000\n",
      "silhm: 3200000\n",
      "qtsjm: 2800000\n"
     ]
    }
   ],
   "source": [
    "\n",
    "# Fill the data\n",
    "nevents = 400000\n",
    "nentries_per_group = (1, 10)\n",
    "\n",
    "for group in data.keys():\n",
    "    nentries = nevents*np.random.randint(nentries_per_group[0],nentries_per_group[1])\n",
    "    print(f\"{group}: {nentries}\")\n",
    "    for dset in data[group].keys():\n",
    "        data[group][dset] = np.random.random(nentries)"
   ]
  },
  {
   "cell_type": "code",
   "execution_count": 12,
   "id": "209c917e-a1b1-4e50-9150-5a70f23695be",
   "metadata": {},
   "outputs": [
    {
     "data": {
      "text/plain": [
       "1687199886.708814"
      ]
     },
     "execution_count": 12,
     "metadata": {},
     "output_type": "execute_result"
    }
   ],
   "source": [
    "#data\n",
    "time.time()"
   ]
  },
  {
   "cell_type": "code",
   "execution_count": 13,
   "id": "e3da585b-6076-4085-91d8-aedb1f88fe47",
   "metadata": {},
   "outputs": [
    {
     "name": "stdout",
     "output_type": "stream",
     "text": [
      "Starting to fill file with 400000 events at 1687199895.512604\n",
      "Writing xhmgw and 20 datasets\n",
      "Writing mkyqi and 20 datasets\n",
      "Writing nqlmn and 20 datasets\n",
      "Writing mfuxe and 20 datasets\n",
      "Writing mztfe and 20 datasets\n",
      "Writing yyerz and 20 datasets\n",
      "Writing nhfoq and 20 datasets\n",
      "Writing sbfht and 20 datasets\n",
      "Writing silhm and 20 datasets\n",
      "Writing qtsjm and 20 datasets\n",
      "Finished filling file with 400000 events at 1687199951.1364374\n",
      "Time to fill: 55.62 seconds\n"
     ]
    }
   ],
   "source": [
    "# Fill the data\n",
    "\n",
    "start = time.time()\n",
    "print(f\"Starting to fill file with {nevents} events at {start}\")\n",
    "\n",
    "for group in data.keys():\n",
    "    grp = f[group]\n",
    "    print(f\"Writing {group} and {len(data[group].keys())} datasets\")\n",
    "    for dname in data[group].keys():\n",
    "        #print(list(f[group].keys()))\n",
    "        if dname in f[group].keys():\n",
    "            fullname = f\"{group}/{dname}\"\n",
    "            del f[fullname]\n",
    "        else:\n",
    "            fullname = f\"{group}/{dname}\"\n",
    "            #print(f\"\\t{fullname}\")\n",
    "            dset = grp.create_dataset(dname, data=data[group][dname],compression=\"gzip\", compression_opts=9)\n",
    "\n",
    "\n",
    "stop = time.time()\n",
    "print(f\"Finished filling file with {nevents} events at {stop}\")\n",
    "print(f\"Time to fill: {stop-start:0.2f} seconds\")"
   ]
  },
  {
   "cell_type": "code",
   "execution_count": 14,
   "id": "f7de7336-70f6-4ff5-9c43-94a9bf8525c9",
   "metadata": {},
   "outputs": [],
   "source": [
    "\n",
    "f.close()"
   ]
  },
  {
   "cell_type": "markdown",
   "id": "80661447-89b4-4050-9871-61f3ec49577b",
   "metadata": {},
   "source": [
    "# Try opening the file"
   ]
  },
  {
   "cell_type": "code",
   "execution_count": 15,
   "id": "3d67d23e-0a78-4109-a8a5-02253e3258ca",
   "metadata": {},
   "outputs": [],
   "source": [
    "f = h5py.File(outfilename,'r')"
   ]
  },
  {
   "cell_type": "code",
   "execution_count": 16,
   "id": "a4f1db40-8dff-4079-a805-64da454d8c2f",
   "metadata": {
    "collapsed": true,
    "jupyter": {
     "outputs_hidden": true
    },
    "tags": []
   },
   "outputs": [
    {
     "name": "stdout",
     "output_type": "stream",
     "text": [
      "mfuxe\n",
      "mfuxe/anvtk\n",
      "mfuxe/awurg\n",
      "mfuxe/bpswr\n",
      "mfuxe/ccjnc\n",
      "mfuxe/ckmbd\n",
      "mfuxe/ebjrs\n",
      "mfuxe/gpsum\n",
      "mfuxe/ixgba\n",
      "mfuxe/jyode\n",
      "mfuxe/lfcpn\n",
      "mfuxe/owkxi\n",
      "mfuxe/ozgby\n",
      "mfuxe/qxjah\n",
      "mfuxe/rgpuv\n",
      "mfuxe/tvhnq\n",
      "mfuxe/uliek\n",
      "mfuxe/unnhf\n",
      "mfuxe/xcohi\n",
      "mfuxe/ysdao\n",
      "mfuxe/zhfrw\n",
      "mkyqi\n",
      "mkyqi/bbcne\n",
      "mkyqi/cftcw\n",
      "mkyqi/dcwgq\n",
      "mkyqi/dinqk\n",
      "mkyqi/fdzvu\n",
      "mkyqi/kedzr\n",
      "mkyqi/khnpw\n",
      "mkyqi/krxgv\n",
      "mkyqi/lfsoq\n",
      "mkyqi/ohtgm\n",
      "mkyqi/pyjwv\n",
      "mkyqi/sfsgm\n",
      "mkyqi/twbpw\n",
      "mkyqi/uzwpp\n",
      "mkyqi/vzmmb\n",
      "mkyqi/wkwim\n",
      "mkyqi/yxsbb\n",
      "mkyqi/zbswy\n",
      "mkyqi/zjwzq\n",
      "mkyqi/zkopt\n",
      "mztfe\n",
      "mztfe/cwbwt\n",
      "mztfe/egfxp\n",
      "mztfe/fejlt\n",
      "mztfe/fpxvo\n",
      "mztfe/goxgw\n",
      "mztfe/jrdfz\n",
      "mztfe/jrhoc\n",
      "mztfe/khryq\n",
      "mztfe/lyhif\n",
      "mztfe/myuvw\n",
      "mztfe/njxtu\n",
      "mztfe/oqkqa\n",
      "mztfe/quehr\n",
      "mztfe/rtzzp\n",
      "mztfe/thixs\n",
      "mztfe/ttlmc\n",
      "mztfe/unsfu\n",
      "mztfe/vcltv\n",
      "mztfe/zjzit\n",
      "mztfe/zoneg\n",
      "nhfoq\n",
      "nhfoq/bcthh\n",
      "nhfoq/bhuec\n",
      "nhfoq/cbmvj\n",
      "nhfoq/ecjnt\n",
      "nhfoq/ekjqm\n",
      "nhfoq/emfke\n",
      "nhfoq/erbvy\n",
      "nhfoq/foqss\n",
      "nhfoq/mnwtu\n",
      "nhfoq/nbrwj\n",
      "nhfoq/ncarw\n",
      "nhfoq/ngwts\n",
      "nhfoq/onwak\n",
      "nhfoq/ppomq\n",
      "nhfoq/qchkv\n",
      "nhfoq/qiinr\n",
      "nhfoq/uuqqn\n",
      "nhfoq/vzgso\n",
      "nhfoq/xjlgn\n",
      "nhfoq/ywqiw\n",
      "nqlmn\n",
      "nqlmn/brheu\n",
      "nqlmn/dgbgx\n",
      "nqlmn/dpldw\n",
      "nqlmn/dwjwu\n",
      "nqlmn/ezfoi\n",
      "nqlmn/jvgnj\n",
      "nqlmn/ljuse\n",
      "nqlmn/lrlre\n",
      "nqlmn/mdjfu\n",
      "nqlmn/ouwft\n",
      "nqlmn/paxuk\n",
      "nqlmn/plgja\n",
      "nqlmn/qpdfg\n",
      "nqlmn/srtdv\n",
      "nqlmn/txqim\n",
      "nqlmn/vxlke\n",
      "nqlmn/wqmty\n",
      "nqlmn/wuyfx\n",
      "nqlmn/yhmic\n",
      "nqlmn/yyhsj\n",
      "qtsjm\n",
      "qtsjm/cibxw\n",
      "qtsjm/fqbhn\n",
      "qtsjm/jypyt\n",
      "qtsjm/knvhk\n",
      "qtsjm/kwbdh\n",
      "qtsjm/lnhay\n",
      "qtsjm/mihoe\n",
      "qtsjm/mjvai\n",
      "qtsjm/mtiyp\n",
      "qtsjm/myynq\n",
      "qtsjm/nours\n",
      "qtsjm/osfay\n",
      "qtsjm/perjw\n",
      "qtsjm/skkzq\n",
      "qtsjm/uklhe\n",
      "qtsjm/voddr\n",
      "qtsjm/vyanb\n",
      "qtsjm/wcmnr\n",
      "qtsjm/xqqso\n",
      "qtsjm/yfglw\n",
      "sbfht\n",
      "sbfht/ebbjd\n",
      "sbfht/epsny\n",
      "sbfht/fuxrh\n",
      "sbfht/fxmeo\n",
      "sbfht/gfdid\n",
      "sbfht/gzmjc\n",
      "sbfht/lchgr\n",
      "sbfht/lqqyc\n",
      "sbfht/nbnhz\n",
      "sbfht/njira\n",
      "sbfht/ovaqz\n",
      "sbfht/qjhvt\n",
      "sbfht/sishf\n",
      "sbfht/tafax\n",
      "sbfht/uuczi\n",
      "sbfht/wedmm\n",
      "sbfht/wmvbt\n",
      "sbfht/wtwnm\n",
      "sbfht/xahhh\n",
      "sbfht/yrabv\n",
      "silhm\n",
      "silhm/atvtl\n",
      "silhm/eefne\n",
      "silhm/glsil\n",
      "silhm/hibqk\n",
      "silhm/ieflj\n",
      "silhm/khzrk\n",
      "silhm/kiubz\n",
      "silhm/kzzfb\n",
      "silhm/njbtl\n",
      "silhm/pfbhl\n",
      "silhm/quzdq\n",
      "silhm/rbxso\n",
      "silhm/ssoyr\n",
      "silhm/tbgtq\n",
      "silhm/tztfj\n",
      "silhm/whddn\n",
      "silhm/xzeme\n",
      "silhm/yhscp\n",
      "silhm/yrplu\n",
      "silhm/zclbk\n",
      "xhmgw\n",
      "xhmgw/ccyxx\n",
      "xhmgw/dpkie\n",
      "xhmgw/dxrvx\n",
      "xhmgw/ewkcf\n",
      "xhmgw/fcyzb\n",
      "xhmgw/iavkr\n",
      "xhmgw/jswkb\n",
      "xhmgw/knikz\n",
      "xhmgw/krhzu\n",
      "xhmgw/leuxm\n",
      "xhmgw/nlyho\n",
      "xhmgw/ojcmf\n",
      "xhmgw/rptvj\n",
      "xhmgw/rsuiv\n",
      "xhmgw/utxxm\n",
      "xhmgw/vfhps\n",
      "xhmgw/wesuy\n",
      "xhmgw/xeosb\n",
      "xhmgw/xzvkv\n",
      "xhmgw/zxtkq\n",
      "yyerz\n",
      "yyerz/afetq\n",
      "yyerz/agaiu\n",
      "yyerz/avjgi\n",
      "yyerz/dvblh\n",
      "yyerz/enqnq\n",
      "yyerz/espkd\n",
      "yyerz/fbxjb\n",
      "yyerz/gkurw\n",
      "yyerz/iaddm\n",
      "yyerz/iownc\n",
      "yyerz/movmh\n",
      "yyerz/oyztm\n",
      "yyerz/qowaw\n",
      "yyerz/ttiob\n",
      "yyerz/tvkav\n",
      "yyerz/unxhd\n",
      "yyerz/uxspi\n",
      "yyerz/vozse\n",
      "yyerz/wzzpb\n",
      "yyerz/znwax\n"
     ]
    }
   ],
   "source": [
    "\n",
    "def printname(name):\n",
    "    print(name)\n",
    "f.visit(printname)"
   ]
  },
  {
   "cell_type": "code",
   "execution_count": 17,
   "id": "38da9016-9fe0-4d20-9366-0373d358e6f2",
   "metadata": {},
   "outputs": [
    {
     "name": "stdout",
     "output_type": "stream",
     "text": [
      "<class 'numpy.ndarray'>\n",
      "[0.14067974 0.66736235 0.77736154 ... 0.13661319 0.34258128 0.72149612]\n",
      "3200000\n"
     ]
    }
   ],
   "source": [
    "k0 = list(f.keys())[0]\n",
    "k1 = list(f[k0].keys())[0]\n",
    "\n",
    "x = f[f'{k0}/{k1}'][()] # This last bit returns a numpy array\n",
    "\n",
    "print(type(x))\n",
    "print(x)\n",
    "\n",
    "#x.values\n",
    "\n",
    "print(len(x))"
   ]
  },
  {
   "cell_type": "code",
   "execution_count": 18,
   "id": "6250b8a0-10b5-4c1d-b8f1-8b6cfcddd3a2",
   "metadata": {},
   "outputs": [
    {
     "data": {
      "image/png": "[encoded data removed]",
      "text/plain": [
       "<Figure size 640x480 with 1 Axes>"
      ]
     },
     "metadata": {},
     "output_type": "display_data"
    }
   ],
   "source": [
    "plt.hist(x,bins=100);"
   ]
  },
  {
   "cell_type": "code",
   "execution_count": 19,
   "id": "4bba44f9-fe7c-45b8-aba9-51431de6ddc4",
   "metadata": {},
   "outputs": [
    {
     "data": {
      "image/png": "[encoded data removed]",
      "text/plain": [
       "<Figure size 640x480 with 1 Axes>"
      ]
     },
     "metadata": {},
     "output_type": "display_data"
    }
   ],
   "source": [
    "plt.hist(np.random.random(len(x)),bins=100);"
   ]
  },
  {
   "cell_type": "code",
   "execution_count": 20,
   "id": "1128ca47-4d40-49bb-bf0a-3e9c90c2c992",
   "metadata": {},
   "outputs": [
    {
     "name": "stdout",
     "output_type": "stream",
     "text": [
      "<HDF5 group \"/mfuxe\" (20 members)>\n"
     ]
    }
   ],
   "source": [
    "grp = f[k0]\n",
    "print(grp)"
   ]
  },
  {
   "cell_type": "code",
   "execution_count": 21,
   "id": "bf90504c-18fc-4831-b6ed-6cb1f57b15ca",
   "metadata": {},
   "outputs": [],
   "source": [
    "x = grp[k1][()]"
   ]
  },
  {
   "cell_type": "code",
   "execution_count": 22,
   "id": "d94911f4-e5e6-427b-b747-006f06d43684",
   "metadata": {},
   "outputs": [
    {
     "data": {
      "image/png": "[encoded data removed]",
      "text/plain": [
       "<Figure size 640x480 with 1 Axes>"
      ]
     },
     "metadata": {},
     "output_type": "display_data"
    }
   ],
   "source": [
    "len(x)\n",
    "plt.hist(x,bins=1000);"
   ]
  },
  {
   "cell_type": "code",
   "execution_count": 23,
   "id": "cf6ea126-45fb-45ce-9829-e514cb6a63ce",
   "metadata": {},
   "outputs": [
    {
     "name": "stdout",
     "output_type": "stream",
     "text": [
      "mfuxe\n",
      "mkyqi\n",
      "mztfe\n",
      "nhfoq\n",
      "nqlmn\n",
      "qtsjm\n",
      "sbfht\n",
      "silhm\n",
      "xhmgw\n",
      "yyerz\n"
     ]
    }
   ],
   "source": [
    "for group in f.keys():\n",
    "    grp = f[group]\n",
    "    print(group)\n",
    "    for i,dname in enumerate(f[group].keys()):\n",
    "        fullname = f\"{group}/{dname}\"\n",
    "        #print(f[fullname])\n",
    "        #if i == 0:\n",
    "        #    plt.figure()\n",
    "        #    plt.hist(f[fullname],bins=100)"
   ]
  },
  {
   "cell_type": "code",
   "execution_count": 24,
   "id": "f0f6c302-6a71-4780-9f75-0e5b39a13e37",
   "metadata": {},
   "outputs": [],
   "source": [
    "\n",
    "f.close()"
   ]
  },
  {
   "cell_type": "code",
   "execution_count": null,
   "id": "ef84a5d2-50ca-494f-8cb0-e45da074abb0",
   "metadata": {},
   "outputs": [],
   "source": []
  }
 ],
 "metadata": {
  "kernelspec": {
   "display_name": "Python 3 (ipykernel)",
   "language": "python",
   "name": "python3"
  },
  "language_info": {
   "codemirror_mode": {
    "name": "ipython",
    "version": 3
   },
   "file_extension": ".py",
   "mimetype": "text/x-python",
   "name": "python",
   "nbconvert_exporter": "python",
   "pygments_lexer": "ipython3",
   "version": "3.9.16"
  }
 },
 "nbformat": 4,
 "nbformat_minor": 5
}
