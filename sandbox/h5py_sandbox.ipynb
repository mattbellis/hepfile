{
 "cells": [
  {
   "cell_type": "code",
   "execution_count": null,
   "id": "ee6d7e6e",
   "metadata": {},
   "outputs": [],
   "source": [
    "import h5py\n",
    "import numpy as np\n",
    "\n",
    "import time\n",
    "import os\n",
    "import string\n",
    "\n",
    "import sys\n",
    "\n",
    "import matplotlib.pylab as plt"
   ]
  },
  {
   "cell_type": "markdown",
   "id": "ebf68d68",
   "metadata": {
    "tags": []
   },
   "source": [
    "# Writing strings to a file"
   ]
  },
  {
   "cell_type": "code",
   "execution_count": null,
   "id": "e3297fe2",
   "metadata": {},
   "outputs": [],
   "source": [
    "sentence=['this','is','a','sentence']\n",
    "data = []\n",
    "\n",
    "for i in range(10000):\n",
    "    data += sentence\n",
    "print(len(data))\n",
    "longest_word=len(max(data, key=len))\n",
    "print('longest_word=',longest_word)\n",
    "\n",
    "dt = h5py.special_dtype(vlen=str)\n",
    "\n",
    "arr = np.array(data,dtype='S'+str(longest_word))\n",
    "\n",
    "with h5py.File('outfile.h5','w') as h5File:\n",
    "    dset = h5File.create_dataset('words',data=arr,dtype=dt, compression='gzip',compression_opts=9)\n",
    "    print(dset.shape, dset.dtype)\n",
    "\n",
    "    h5File.flush()\n",
    "    h5File.close()\n"
   ]
  },
  {
   "cell_type": "markdown",
   "id": "0c8526e6",
   "metadata": {},
   "source": [
    "# Another shot at writing and reading strings"
   ]
  },
  {
   "cell_type": "code",
   "execution_count": null,
   "id": "fa2658f4",
   "metadata": {},
   "outputs": [],
   "source": [
    "h5File=h5py.File('xxx.h5','w')\n",
    "\n",
    "strList=['asas','asas','asas']\n",
    "\n",
    "#dt = h5py.special_dtype(vlen=str)\n",
    "dt = h5py.string_dtype(encoding='utf-8')\n",
    "\n",
    "dset = h5File.create_dataset('strings',(len(strList),1),dtype=dt)\n",
    "for i,s in enumerate(strList):\n",
    "    dset[i] = s\n",
    "\n",
    "h5File.flush()\n",
    "h5File.close()\n",
    "\n",
    "\n",
    "\n",
    "#################\n",
    "\n",
    "f = h5py.File('xxx.h5', 'r')\n",
    "\n",
    "print(list(f.keys()))\n",
    "\n",
    "print(f['strings'])\n",
    "x = f['strings']\n",
    "\n",
    "for a in x:\n",
    "    print(a)\n"
   ]
  },
  {
   "cell_type": "markdown",
   "id": "1c8fb62c",
   "metadata": {},
   "source": [
    "# Writing groups under groups"
   ]
  },
  {
   "cell_type": "code",
   "execution_count": null,
   "id": "fc8f89d9",
   "metadata": {},
   "outputs": [],
   "source": [
    "outfilename = 'foo.h5'\n",
    "\n",
    "if os.path.exists(outfilename):\n",
    "  os.remove(outfilename)\n",
    "else:\n",
    "  print(f\"{outfilename} file does not exist\")\n",
    "\n",
    "\n",
    "f = h5py.File(outfilename,'w')\n",
    "print(f.name)\n",
    "\n",
    "grp = f.create_group(\"bar\")\n",
    "subgrp = grp.create_group(\"baz\")\n",
    "\n",
    "print(subgrp.name)\n"
   ]
  },
  {
   "cell_type": "markdown",
   "id": "feba4693",
   "metadata": {},
   "source": [
    "# Timing tests for large writes"
   ]
  },
  {
   "cell_type": "code",
   "execution_count": null,
   "id": "a01934d3",
   "metadata": {},
   "outputs": [],
   "source": [
    "outfilename = 'data_TEST.h5'\n",
    "\n",
    "if os.path.exists(outfilename):\n",
    "  os.remove(outfilename)\n",
    "else:\n",
    "  print(f\"{outfilename} file does not exist\")\n",
    "\n",
    "f = h5py.File(outfilename,'a')\n",
    "\n"
   ]
  },
  {
   "cell_type": "code",
   "execution_count": null,
   "id": "645da0fb",
   "metadata": {},
   "outputs": [],
   "source": [
    "#list(string.ascii_lowercase)"
   ]
  },
  {
   "cell_type": "code",
   "execution_count": null,
   "id": "499aa545",
   "metadata": {},
   "outputs": [],
   "source": [
    "print(''.join(np.random.choice(list(string.ascii_lowercase), size=5)))"
   ]
  },
  {
   "cell_type": "code",
   "execution_count": null,
   "id": "f3567ac7",
   "metadata": {
    "tags": []
   },
   "outputs": [],
   "source": [
    "ngroups = 10\n",
    "nchars_in_name = 5\n",
    "\n",
    "ndatasets_in_group = 20\n",
    "\n",
    "data = {}\n",
    "\n",
    "# Make the groups\n",
    "for n in range(ngroups):\n",
    "    name = ''.join(np.random.choice(list(string.ascii_lowercase), size=nchars_in_name))\n",
    "    \n",
    "    # Keep track of our data\n",
    "    data[name] = {}\n",
    "    \n",
    "    group_names = list(f.keys())\n",
    "    \n",
    "    if name not in group_names:\n",
    "        grp = f.create_group(name)\n",
    "        \n",
    "        # Make the datasets in each group\n",
    "        for nd in range(ndatasets_in_group):\n",
    "            dname = ''.join(np.random.choice(list(string.ascii_lowercase), size=nchars_in_name))\n",
    "\n",
    "            data[name][dname] = []\n",
    "            # Create this at write time\n",
    "            #dset = grp.create_dataset(dname, dtype='f')\n",
    "            "
   ]
  },
  {
   "cell_type": "code",
   "execution_count": null,
   "id": "0a2fec42",
   "metadata": {},
   "outputs": [],
   "source": [
    "print(list(f.keys()))"
   ]
  },
  {
   "cell_type": "code",
   "execution_count": null,
   "id": "e54cb3bd",
   "metadata": {},
   "outputs": [],
   "source": [
    "def printname(name):\n",
    "    print(name)\n",
    "#f.visit(printname)"
   ]
  },
  {
   "cell_type": "code",
   "execution_count": null,
   "id": "e457da7a",
   "metadata": {},
   "outputs": [],
   "source": [
    "#data"
   ]
  },
  {
   "cell_type": "code",
   "execution_count": null,
   "id": "b9658dff",
   "metadata": {},
   "outputs": [],
   "source": [
    "# Fill the data\n",
    "nevents = 400000\n",
    "nentries_per_group = (1, 10)\n",
    "\n",
    "for group in data.keys():\n",
    "    nentries = nevents*np.random.randint(nentries_per_group[0],nentries_per_group[1])\n",
    "    print(f\"{group}: {nentries}\")\n",
    "    for dset in data[group].keys():\n",
    "        data[group][dset] = np.random.random(nentries)"
   ]
  },
  {
   "cell_type": "code",
   "execution_count": null,
   "id": "d53789c7",
   "metadata": {},
   "outputs": [],
   "source": [
    "f"
   ]
  },
  {
   "cell_type": "code",
   "execution_count": null,
   "id": "e7e7c8d5",
   "metadata": {},
   "outputs": [],
   "source": [
    "#data\n",
    "time.time()"
   ]
  },
  {
   "cell_type": "code",
   "execution_count": null,
   "id": "def1a79f",
   "metadata": {
    "scrolled": true
   },
   "outputs": [],
   "source": [
    "# Fill the data\n",
    "\n",
    "start = time.time()\n",
    "print(f\"Starting to fill file with {nevents} events at {start}\")\n",
    "\n",
    "for group in data.keys():\n",
    "    grp = f[group]\n",
    "    print(f\"Writing {group} and {len(data[group].keys())} datasets\")\n",
    "    for dname in data[group].keys():\n",
    "        #print(list(f[group].keys()))\n",
    "        if dname in f[group].keys():\n",
    "            fullname = f\"{group}/{dname}\"\n",
    "            del f[fullname]\n",
    "        else:\n",
    "            fullname = f\"{group}/{dname}\"\n",
    "            #print(f\"\\t{fullname}\")\n",
    "            dset = grp.create_dataset(dname, data=data[group][dname],compression=\"gzip\", compression_opts=9)\n",
    "\n",
    "\n",
    "stop = time.time()\n",
    "print(f\"Finished filling file with {nevents} events at {stop}\")\n",
    "print(f\"Time to fill: {stop-start:0.2f} seconds\")\n",
    "\n",
    "#f.close()"
   ]
  },
  {
   "cell_type": "code",
   "execution_count": null,
   "id": "d7e7bcd0",
   "metadata": {},
   "outputs": [],
   "source": [
    "f.close()"
   ]
  },
  {
   "cell_type": "code",
   "execution_count": null,
   "id": "2dae9629",
   "metadata": {},
   "outputs": [],
   "source": []
  },
  {
   "cell_type": "code",
   "execution_count": null,
   "id": "db20e3c9",
   "metadata": {},
   "outputs": [],
   "source": []
  },
  {
   "cell_type": "code",
   "execution_count": null,
   "id": "8dbd123f",
   "metadata": {},
   "outputs": [],
   "source": [
    "#sys.getsizeof(data['qlxnz']['oyipv'])"
   ]
  },
  {
   "cell_type": "code",
   "execution_count": null,
   "id": "337a57ec",
   "metadata": {},
   "outputs": [],
   "source": [
    "#sys.getsizeof(data['qlxnz'])"
   ]
  },
  {
   "cell_type": "markdown",
   "id": "2f803886",
   "metadata": {},
   "source": [
    "### Try opening the file"
   ]
  },
  {
   "cell_type": "code",
   "execution_count": null,
   "id": "438ac09b",
   "metadata": {},
   "outputs": [],
   "source": [
    "f = h5py.File(outfilename,'r')"
   ]
  },
  {
   "cell_type": "code",
   "execution_count": null,
   "id": "d695914b",
   "metadata": {},
   "outputs": [],
   "source": [
    "def printname(name):\n",
    "    print(name)\n",
    "f.visit(printname)"
   ]
  },
  {
   "cell_type": "code",
   "execution_count": null,
   "id": "1851d697",
   "metadata": {},
   "outputs": [],
   "source": [
    "k0 = list(f.keys())[0]\n",
    "k1 = list(f[k0].keys())[0]\n",
    "\n",
    "x = f[f'{k0}/{k1}'][()] # This last bit returns a numpy array\n",
    "\n",
    "print(type(x))\n",
    "print(x)\n",
    "\n",
    "#x.values\n",
    "\n",
    "print(len(x))"
   ]
  },
  {
   "cell_type": "code",
   "execution_count": null,
   "id": "ad1b5547",
   "metadata": {},
   "outputs": [],
   "source": [
    "plt.hist(x,bins=100);"
   ]
  },
  {
   "cell_type": "code",
   "execution_count": null,
   "id": "873d6dba",
   "metadata": {},
   "outputs": [],
   "source": [
    "plt.hist(np.random.random(len(x)),bins=100);"
   ]
  },
  {
   "cell_type": "code",
   "execution_count": null,
   "id": "570f8c3c",
   "metadata": {},
   "outputs": [],
   "source": [
    "grp = f[k0]\n",
    "print(grp)"
   ]
  },
  {
   "cell_type": "code",
   "execution_count": null,
   "id": "7390c072",
   "metadata": {},
   "outputs": [],
   "source": [
    "x = grp[k1][()]"
   ]
  },
  {
   "cell_type": "code",
   "execution_count": null,
   "id": "44f1a7a0",
   "metadata": {},
   "outputs": [],
   "source": [
    "len(x)\n",
    "plt.hist(x,bins=1000);"
   ]
  },
  {
   "cell_type": "code",
   "execution_count": null,
   "id": "472f1f42",
   "metadata": {
    "scrolled": true
   },
   "outputs": [],
   "source": [
    "for group in f.keys():\n",
    "    grp = f[group]\n",
    "    print(group)\n",
    "    for i,dname in enumerate(f[group].keys()):\n",
    "        fullname = f\"{group}/{dname}\"\n",
    "        #print(f[fullname])\n",
    "        #if i == 0:\n",
    "        #    plt.figure()\n",
    "        #    plt.hist(f[fullname],bins=100)"
   ]
  },
  {
   "cell_type": "code",
   "execution_count": null,
   "id": "1bf7a126",
   "metadata": {},
   "outputs": [],
   "source": [
    "f.close()"
   ]
  },
  {
   "cell_type": "code",
   "execution_count": null,
   "id": "7fced7b3",
   "metadata": {},
   "outputs": [],
   "source": []
  }
 ],
 "metadata": {
  "kernelspec": {
   "display_name": "Python 3 (ipykernel)",
   "language": "python",
   "name": "python3"
  },
  "language_info": {
   "codemirror_mode": {
    "name": "ipython",
    "version": 3
   },
   "file_extension": ".py",
   "mimetype": "text/x-python",
   "name": "python",
   "nbconvert_exporter": "python",
   "pygments_lexer": "ipython3",
   "version": "3.9.16"
  }
 },
 "nbformat": 4,
 "nbformat_minor": 5
}
