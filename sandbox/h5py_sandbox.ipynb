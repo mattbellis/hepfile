{
 "cells": [
  {
   "cell_type": "code",
   "execution_count": 1,
   "id": "ee6d7e6e",
   "metadata": {},
   "outputs": [],
   "source": [
    "import h5py\n",
    "import numpy as np\n",
    "\n",
    "import time\n",
    "import os\n",
    "import string\n",
    "\n",
    "import sys\n",
    "\n",
    "import matplotlib.pylab as plt"
   ]
  },
  {
   "cell_type": "markdown",
   "id": "ebf68d68",
   "metadata": {
    "tags": []
   },
   "source": [
    "# Writing strings to a file"
   ]
  },
  {
   "cell_type": "code",
   "execution_count": 2,
   "id": "e3297fe2",
   "metadata": {},
   "outputs": [
    {
     "name": "stdout",
     "output_type": "stream",
     "text": [
      "40000\n",
      "longest_word= 8\n",
      "(40000,) object\n"
     ]
    }
   ],
   "source": [
    "sentence=['this','is','a','sentence']\n",
    "data = []\n",
    "\n",
    "for i in range(10000):\n",
    "    data += sentence\n",
    "print(len(data))\n",
    "longest_word=len(max(data, key=len))\n",
    "print('longest_word=',longest_word)\n",
    "\n",
    "dt = h5py.special_dtype(vlen=str)\n",
    "\n",
    "arr = np.array(data,dtype='S'+str(longest_word))\n",
    "\n",
    "with h5py.File('outfile.h5','w') as h5File:\n",
    "    dset = h5File.create_dataset('words',data=arr,dtype=dt, compression='gzip',compression_opts=9)\n",
    "    print(dset.shape, dset.dtype)\n",
    "\n",
    "    h5File.flush()\n",
    "    h5File.close()\n"
   ]
  },
  {
   "cell_type": "markdown",
   "id": "0c8526e6",
   "metadata": {},
   "source": [
    "# Another shot at writing and reading strings"
   ]
  },
  {
   "cell_type": "code",
   "execution_count": 3,
   "id": "fa2658f4",
   "metadata": {},
   "outputs": [
    {
     "name": "stdout",
     "output_type": "stream",
     "text": [
      "['strings']\n",
      "<HDF5 dataset \"strings\": shape (3, 1), type \"|O\">\n",
      "[b'asas']\n",
      "[b'asas']\n",
      "[b'asas']\n"
     ]
    }
   ],
   "source": [
    "h5File=h5py.File('xxx.h5','w')\n",
    "\n",
    "strList=['asas','asas','asas']\n",
    "\n",
    "#dt = h5py.special_dtype(vlen=str)\n",
    "dt = h5py.string_dtype(encoding='utf-8')\n",
    "\n",
    "dset = h5File.create_dataset('strings',(len(strList),1),dtype=dt)\n",
    "for i,s in enumerate(strList):\n",
    "    dset[i] = s\n",
    "\n",
    "h5File.flush()\n",
    "h5File.close()\n",
    "\n",
    "\n",
    "\n",
    "#################\n",
    "\n",
    "f = h5py.File('xxx.h5', 'r')\n",
    "\n",
    "print(list(f.keys()))\n",
    "\n",
    "print(f['strings'])\n",
    "x = f['strings']\n",
    "\n",
    "for a in x:\n",
    "    print(a)\n"
   ]
  },
  {
   "cell_type": "markdown",
   "id": "1c8fb62c",
   "metadata": {},
   "source": [
    "# Writing groups under groups"
   ]
  },
  {
   "cell_type": "code",
   "execution_count": 4,
   "id": "fc8f89d9",
   "metadata": {},
   "outputs": [
    {
     "name": "stdout",
     "output_type": "stream",
     "text": [
      "foo.h5 file does not exist\n",
      "/\n",
      "/bar/baz\n"
     ]
    }
   ],
   "source": [
    "outfilename = 'foo.h5'\n",
    "\n",
    "if os.path.exists(outfilename):\n",
    "  os.remove(outfilename)\n",
    "else:\n",
    "  print(f\"{outfilename} file does not exist\")\n",
    "\n",
    "\n",
    "f = h5py.File(outfilename,'w')\n",
    "print(f.name)\n",
    "\n",
    "grp = f.create_group(\"bar\")\n",
    "subgrp = grp.create_group(\"baz\")\n",
    "\n",
    "print(subgrp.name)\n"
   ]
  },
  {
   "cell_type": "markdown",
   "id": "feba4693",
   "metadata": {},
   "source": [
    "# Timing tests for large writes"
   ]
  },
  {
   "cell_type": "code",
   "execution_count": 5,
   "id": "a01934d3",
   "metadata": {},
   "outputs": [
    {
     "name": "stdout",
     "output_type": "stream",
     "text": [
      "data_TEST.h5 file does not exist\n"
     ]
    }
   ],
   "source": [
    "outfilename = 'data_TEST.h5'\n",
    "\n",
    "if os.path.exists(outfilename):\n",
    "  os.remove(outfilename)\n",
    "else:\n",
    "  print(f\"{outfilename} file does not exist\")\n",
    "\n",
    "f = h5py.File(outfilename,'a')\n",
    "\n"
   ]
  },
  {
   "cell_type": "code",
   "execution_count": null,
   "id": "645da0fb",
   "metadata": {},
   "outputs": [],
   "source": [
    "#list(string.ascii_lowercase)"
   ]
  },
  {
   "cell_type": "code",
   "execution_count": 6,
   "id": "499aa545",
   "metadata": {},
   "outputs": [
    {
     "name": "stdout",
     "output_type": "stream",
     "text": [
      "vbvcz\n"
     ]
    }
   ],
   "source": [
    "print(''.join(np.random.choice(list(string.ascii_lowercase), size=5)))"
   ]
  },
  {
   "cell_type": "code",
   "execution_count": 7,
   "id": "f3567ac7",
   "metadata": {
    "tags": []
   },
   "outputs": [],
   "source": [
    "ngroups = 10\n",
    "nchars_in_name = 5\n",
    "\n",
    "ndatasets_in_group = 20\n",
    "\n",
    "data = {}\n",
    "\n",
    "# Make the groups\n",
    "for n in range(ngroups):\n",
    "    name = ''.join(np.random.choice(list(string.ascii_lowercase), size=nchars_in_name))\n",
    "    \n",
    "    # Keep track of our data\n",
    "    data[name] = {}\n",
    "    \n",
    "    group_names = list(f.keys())\n",
    "    \n",
    "    if name not in group_names:\n",
    "        grp = f.create_group(name)\n",
    "        \n",
    "        # Make the datasets in each group\n",
    "        for nd in range(ndatasets_in_group):\n",
    "            dname = ''.join(np.random.choice(list(string.ascii_lowercase), size=nchars_in_name))\n",
    "\n",
    "            data[name][dname] = []\n",
    "            # Create this at write time\n",
    "            #dset = grp.create_dataset(dname, dtype='f')\n",
    "            "
   ]
  },
  {
   "cell_type": "code",
   "execution_count": 8,
   "id": "0a2fec42",
   "metadata": {},
   "outputs": [
    {
     "name": "stdout",
     "output_type": "stream",
     "text": [
      "['camti', 'hqogn', 'lwwsj', 'otkto', 'otrux', 'sxylt', 'vjpty', 'vsmcx', 'yzxlm', 'zqqck']\n"
     ]
    }
   ],
   "source": [
    "print(list(f.keys()))"
   ]
  },
  {
   "cell_type": "code",
   "execution_count": 10,
   "id": "e54cb3bd",
   "metadata": {},
   "outputs": [],
   "source": [
    "def printname(name):\n",
    "    print(name)\n",
    "#f.visit(printname)"
   ]
  },
  {
   "cell_type": "code",
   "execution_count": 11,
   "id": "e457da7a",
   "metadata": {},
   "outputs": [],
   "source": [
    "#data"
   ]
  },
  {
   "cell_type": "code",
   "execution_count": 12,
   "id": "b9658dff",
   "metadata": {},
   "outputs": [
    {
     "name": "stdout",
     "output_type": "stream",
     "text": [
      "vjpty: 400000\n",
      "yzxlm: 1600000\n",
      "otrux: 1200000\n",
      "zqqck: 2400000\n",
      "lwwsj: 800000\n",
      "hqogn: 3600000\n",
      "vsmcx: 2000000\n",
      "camti: 2000000\n",
      "otkto: 400000\n",
      "sxylt: 800000\n"
     ]
    }
   ],
   "source": [
    "# Fill the data\n",
    "nevents = 400000\n",
    "nentries_per_group = (1, 10)\n",
    "\n",
    "for group in data.keys():\n",
    "    nentries = nevents*np.random.randint(nentries_per_group[0],nentries_per_group[1])\n",
    "    print(f\"{group}: {nentries}\")\n",
    "    for dset in data[group].keys():\n",
    "        data[group][dset] = np.random.random(nentries)"
   ]
  },
  {
   "cell_type": "code",
   "execution_count": 13,
   "id": "d53789c7",
   "metadata": {},
   "outputs": [
    {
     "data": {
      "text/plain": [
       "<HDF5 file \"data_TEST.h5\" (mode r+)>"
      ]
     },
     "execution_count": 13,
     "metadata": {},
     "output_type": "execute_result"
    }
   ],
   "source": [
    "f"
   ]
  },
  {
   "cell_type": "code",
   "execution_count": 14,
   "id": "e7e7c8d5",
   "metadata": {},
   "outputs": [
    {
     "data": {
      "text/plain": [
       "1686176972.1678097"
      ]
     },
     "execution_count": 14,
     "metadata": {},
     "output_type": "execute_result"
    }
   ],
   "source": [
    "#data\n",
    "time.time()"
   ]
  },
  {
   "cell_type": "code",
   "execution_count": 15,
   "id": "def1a79f",
   "metadata": {
    "scrolled": true
   },
   "outputs": [
    {
     "name": "stdout",
     "output_type": "stream",
     "text": [
      "Starting to fill file with 400000 events at 1686176976.6532223\n",
      "Writing vjpty and 20 datasets\n",
      "Writing yzxlm and 20 datasets\n",
      "Writing otrux and 20 datasets\n",
      "Writing zqqck and 20 datasets\n",
      "Writing lwwsj and 20 datasets\n",
      "Writing hqogn and 20 datasets\n",
      "Writing vsmcx and 20 datasets\n",
      "Writing camti and 20 datasets\n",
      "Writing otkto and 20 datasets\n",
      "Writing sxylt and 20 datasets\n",
      "Finished filling file with 400000 events at 1686177025.5412707\n",
      "Time to fill: 48.89 seconds\n"
     ]
    }
   ],
   "source": [
    "# Fill the data\n",
    "\n",
    "start = time.time()\n",
    "print(f\"Starting to fill file with {nevents} events at {start}\")\n",
    "\n",
    "for group in data.keys():\n",
    "    grp = f[group]\n",
    "    print(f\"Writing {group} and {len(data[group].keys())} datasets\")\n",
    "    for dname in data[group].keys():\n",
    "        #print(list(f[group].keys()))\n",
    "        if dname in f[group].keys():\n",
    "            fullname = f\"{group}/{dname}\"\n",
    "            del f[fullname]\n",
    "        else:\n",
    "            fullname = f\"{group}/{dname}\"\n",
    "            #print(f\"\\t{fullname}\")\n",
    "            dset = grp.create_dataset(dname, data=data[group][dname],compression=\"gzip\", compression_opts=9)\n",
    "\n",
    "\n",
    "stop = time.time()\n",
    "print(f\"Finished filling file with {nevents} events at {stop}\")\n",
    "print(f\"Time to fill: {stop-start:0.2f} seconds\")\n",
    "\n",
    "#f.close()"
   ]
  },
  {
   "cell_type": "code",
   "execution_count": 16,
   "id": "d7e7bcd0",
   "metadata": {},
   "outputs": [],
   "source": [
    "f.close()"
   ]
  },
  {
   "cell_type": "code",
   "execution_count": null,
   "id": "2dae9629",
   "metadata": {},
   "outputs": [],
   "source": []
  },
  {
   "cell_type": "code",
   "execution_count": null,
   "id": "db20e3c9",
   "metadata": {},
   "outputs": [],
   "source": []
  },
  {
   "cell_type": "code",
   "execution_count": 17,
   "id": "8dbd123f",
   "metadata": {},
   "outputs": [],
   "source": [
    "#sys.getsizeof(data['qlxnz']['oyipv'])"
   ]
  },
  {
   "cell_type": "code",
   "execution_count": 18,
   "id": "337a57ec",
   "metadata": {},
   "outputs": [],
   "source": [
    "#sys.getsizeof(data['qlxnz'])"
   ]
  },
  {
   "cell_type": "markdown",
   "id": "2f803886",
   "metadata": {},
   "source": [
    "### Try opening the file"
   ]
  },
  {
   "cell_type": "code",
   "execution_count": 19,
   "id": "438ac09b",
   "metadata": {},
   "outputs": [],
   "source": [
    "f = h5py.File(outfilename,'r')"
   ]
  },
  {
   "cell_type": "code",
   "execution_count": 20,
   "id": "d695914b",
   "metadata": {},
   "outputs": [
    {
     "name": "stdout",
     "output_type": "stream",
     "text": [
      "camti\n",
      "camti/bdhlx\n",
      "camti/cnpgh\n",
      "camti/efkez\n",
      "camti/hfinl\n",
      "camti/htdgd\n",
      "camti/krvhe\n",
      "camti/nonni\n",
      "camti/ocwpq\n",
      "camti/odboe\n",
      "camti/pkvmz\n",
      "camti/psbqt\n",
      "camti/qcink\n",
      "camti/qzvvh\n",
      "camti/rlumw\n",
      "camti/rmxod\n",
      "camti/uglqr\n",
      "camti/waegz\n",
      "camti/wnhpc\n",
      "camti/xlswi\n",
      "camti/xsuzm\n",
      "hqogn\n",
      "hqogn/edvzu\n",
      "hqogn/iycbx\n",
      "hqogn/jdhij\n",
      "hqogn/jkinm\n",
      "hqogn/jrkuw\n",
      "hqogn/lpgik\n",
      "hqogn/lzout\n",
      "hqogn/ndcqq\n",
      "hqogn/nowmd\n",
      "hqogn/pkgce\n",
      "hqogn/qscaa\n",
      "hqogn/skrhy\n",
      "hqogn/somvv\n",
      "hqogn/subik\n",
      "hqogn/uhxyy\n",
      "hqogn/vlgjm\n",
      "hqogn/wtoqu\n",
      "hqogn/xhmrd\n",
      "hqogn/xvjaw\n",
      "hqogn/zsvjg\n",
      "lwwsj\n",
      "lwwsj/avmwu\n",
      "lwwsj/bhfwy\n",
      "lwwsj/dvjlx\n",
      "lwwsj/dyyti\n",
      "lwwsj/edycz\n",
      "lwwsj/evzrx\n",
      "lwwsj/fikgk\n",
      "lwwsj/kmeyf\n",
      "lwwsj/kmydd\n",
      "lwwsj/malpa\n",
      "lwwsj/pmhkb\n",
      "lwwsj/rewmy\n",
      "lwwsj/rzlam\n",
      "lwwsj/uddam\n",
      "lwwsj/uffkn\n",
      "lwwsj/uryet\n",
      "lwwsj/vcgoi\n",
      "lwwsj/vwzob\n",
      "lwwsj/zezrm\n",
      "lwwsj/zzukw\n",
      "otkto\n",
      "otkto/ansns\n",
      "otkto/aouwf\n",
      "otkto/efsvs\n",
      "otkto/enzii\n",
      "otkto/fvhbr\n",
      "otkto/gvmch\n",
      "otkto/hknsw\n",
      "otkto/iikkt\n",
      "otkto/jgohp\n",
      "otkto/kvgdp\n",
      "otkto/lceua\n",
      "otkto/mwjpc\n",
      "otkto/nfrkf\n",
      "otkto/ofqqa\n",
      "otkto/qakkb\n",
      "otkto/rgufk\n",
      "otkto/rzisx\n",
      "otkto/tdibo\n",
      "otkto/umqzy\n",
      "otkto/wagoo\n",
      "otrux\n",
      "otrux/cbhgh\n",
      "otrux/dwyfu\n",
      "otrux/exiqx\n",
      "otrux/gsmcq\n",
      "otrux/hztfa\n",
      "otrux/jethb\n",
      "otrux/jvkbc\n",
      "otrux/kezce\n",
      "otrux/lbjow\n",
      "otrux/ltshx\n",
      "otrux/lxgkv\n",
      "otrux/nehox\n",
      "otrux/olado\n",
      "otrux/ribxi\n",
      "otrux/tforq\n",
      "otrux/tistq\n",
      "otrux/ulnep\n",
      "otrux/vorzr\n",
      "otrux/zfpns\n",
      "otrux/zltrr\n",
      "sxylt\n",
      "sxylt/bshls\n",
      "sxylt/cxmha\n",
      "sxylt/efidq\n",
      "sxylt/fnwhy\n",
      "sxylt/fuwsq\n",
      "sxylt/hbgge\n",
      "sxylt/hbrct\n",
      "sxylt/itiis\n",
      "sxylt/jbljj\n",
      "sxylt/kijln\n",
      "sxylt/lnspf\n",
      "sxylt/lvheh\n",
      "sxylt/muyvn\n",
      "sxylt/peufu\n",
      "sxylt/qoijp\n",
      "sxylt/ryosg\n",
      "sxylt/tbizp\n",
      "sxylt/xadoc\n",
      "sxylt/zbtrl\n",
      "sxylt/zotrt\n",
      "vjpty\n",
      "vjpty/ayikz\n",
      "vjpty/crdas\n",
      "vjpty/fjkcr\n",
      "vjpty/iexgt\n",
      "vjpty/khsxw\n",
      "vjpty/kijzb\n",
      "vjpty/locqa\n",
      "vjpty/mcixc\n",
      "vjpty/mevha\n",
      "vjpty/ncrnh\n",
      "vjpty/odxus\n",
      "vjpty/opxsh\n",
      "vjpty/qfncw\n",
      "vjpty/rzvaf\n",
      "vjpty/sfggb\n",
      "vjpty/ulimc\n",
      "vjpty/vkijp\n",
      "vjpty/xbkhp\n",
      "vjpty/yvjee\n",
      "vjpty/zvluv\n",
      "vsmcx\n",
      "vsmcx/ansmq\n",
      "vsmcx/bvaca\n",
      "vsmcx/dscus\n",
      "vsmcx/ghdjg\n",
      "vsmcx/icjcr\n",
      "vsmcx/karjz\n",
      "vsmcx/leyvq\n",
      "vsmcx/lnnpl\n",
      "vsmcx/oezpv\n",
      "vsmcx/phxhn\n",
      "vsmcx/powys\n",
      "vsmcx/rwerh\n",
      "vsmcx/toloy\n",
      "vsmcx/twfft\n",
      "vsmcx/vupjc\n",
      "vsmcx/vytmb\n",
      "vsmcx/wcyrz\n",
      "vsmcx/wqdxy\n",
      "vsmcx/xajac\n",
      "vsmcx/xwdwd\n",
      "yzxlm\n",
      "yzxlm/aszed\n",
      "yzxlm/dxnvy\n",
      "yzxlm/fqlhq\n",
      "yzxlm/gndts\n",
      "yzxlm/gtror\n",
      "yzxlm/huxtl\n",
      "yzxlm/javoj\n",
      "yzxlm/ldeqv\n",
      "yzxlm/nohds\n",
      "yzxlm/npbnn\n",
      "yzxlm/qauow\n",
      "yzxlm/rmtzl\n",
      "yzxlm/rqjqc\n",
      "yzxlm/sagfs\n",
      "yzxlm/uiuyo\n",
      "yzxlm/uucrt\n",
      "yzxlm/wiwpm\n",
      "yzxlm/xdgua\n",
      "yzxlm/xzzsp\n",
      "yzxlm/zotwp\n",
      "zqqck\n",
      "zqqck/cqmsq\n",
      "zqqck/dfoip\n",
      "zqqck/dglvw\n",
      "zqqck/dgmrv\n",
      "zqqck/dqvig\n",
      "zqqck/eqnga\n",
      "zqqck/hdgkn\n",
      "zqqck/iwgsw\n",
      "zqqck/jpxvu\n",
      "zqqck/kpppc\n",
      "zqqck/kqmdk\n",
      "zqqck/ldtbv\n",
      "zqqck/lrddi\n",
      "zqqck/rfnhd\n",
      "zqqck/rlakh\n",
      "zqqck/trqsx\n",
      "zqqck/twuxo\n",
      "zqqck/ubnfb\n",
      "zqqck/vysma\n",
      "zqqck/wijji\n"
     ]
    }
   ],
   "source": [
    "def printname(name):\n",
    "    print(name)\n",
    "f.visit(printname)"
   ]
  },
  {
   "cell_type": "code",
   "execution_count": 23,
   "id": "1851d697",
   "metadata": {},
   "outputs": [
    {
     "name": "stdout",
     "output_type": "stream",
     "text": [
      "<class 'numpy.ndarray'>\n",
      "[0.74392151 0.38308485 0.11881756 ... 0.14232058 0.59179996 0.34157213]\n",
      "2000000\n"
     ]
    }
   ],
   "source": [
    "k0 = list(f.keys())[0]\n",
    "k1 = list(f[k0].keys())[0]\n",
    "\n",
    "x = f[f'{k0}/{k1}'][()] # This last bit returns a numpy array\n",
    "\n",
    "print(type(x))\n",
    "print(x)\n",
    "\n",
    "#x.values\n",
    "\n",
    "print(len(x))"
   ]
  },
  {
   "cell_type": "code",
   "execution_count": 22,
   "id": "ad1b5547",
   "metadata": {},
   "outputs": [
    {
     "data": {
      "image/png": "[encoded data removed]",
      "text/plain": [
       "<Figure size 640x480 with 1 Axes>"
      ]
     },
     "metadata": {},
     "output_type": "display_data"
    }
   ],
   "source": [
    "plt.hist(x,bins=100);"
   ]
  },
  {
   "cell_type": "code",
   "execution_count": 24,
   "id": "873d6dba",
   "metadata": {},
   "outputs": [
    {
     "data": {
      "image/png": "[encoded data removed]",
      "text/plain": [
       "<Figure size 640x480 with 1 Axes>"
      ]
     },
     "metadata": {},
     "output_type": "display_data"
    }
   ],
   "source": [
    "plt.hist(np.random.random(len(x)),bins=100);"
   ]
  },
  {
   "cell_type": "code",
   "execution_count": 25,
   "id": "570f8c3c",
   "metadata": {},
   "outputs": [
    {
     "name": "stdout",
     "output_type": "stream",
     "text": [
      "<HDF5 group \"/camti\" (20 members)>\n"
     ]
    }
   ],
   "source": [
    "grp = f[k0]\n",
    "print(grp)"
   ]
  },
  {
   "cell_type": "code",
   "execution_count": 26,
   "id": "7390c072",
   "metadata": {},
   "outputs": [],
   "source": [
    "x = grp[k1][()]"
   ]
  },
  {
   "cell_type": "code",
   "execution_count": 27,
   "id": "44f1a7a0",
   "metadata": {},
   "outputs": [
    {
     "data": {
      "image/png": "[encoded data removed]",
      "text/plain": [
       "<Figure size 640x480 with 1 Axes>"
      ]
     },
     "metadata": {},
     "output_type": "display_data"
    }
   ],
   "source": [
    "len(x)\n",
    "plt.hist(x,bins=1000);"
   ]
  },
  {
   "cell_type": "code",
   "execution_count": 28,
   "id": "472f1f42",
   "metadata": {
    "scrolled": true
   },
   "outputs": [
    {
     "name": "stdout",
     "output_type": "stream",
     "text": [
      "camti\n",
      "hqogn\n",
      "lwwsj\n",
      "otkto\n",
      "otrux\n",
      "sxylt\n",
      "vjpty\n",
      "vsmcx\n",
      "yzxlm\n",
      "zqqck\n"
     ]
    }
   ],
   "source": [
    "for group in f.keys():\n",
    "    grp = f[group]\n",
    "    print(group)\n",
    "    for i,dname in enumerate(f[group].keys()):\n",
    "        fullname = f\"{group}/{dname}\"\n",
    "        #print(f[fullname])\n",
    "        #if i == 0:\n",
    "        #    plt.figure()\n",
    "        #    plt.hist(f[fullname],bins=100)"
   ]
  },
  {
   "cell_type": "code",
   "execution_count": 29,
   "id": "1bf7a126",
   "metadata": {},
   "outputs": [],
   "source": [
    "f.close()"
   ]
  },
  {
   "cell_type": "code",
   "execution_count": null,
   "id": "7fced7b3",
   "metadata": {},
   "outputs": [],
   "source": []
  }
 ],
 "metadata": {
  "kernelspec": {
   "display_name": "Python 3 (ipykernel)",
   "language": "python",
   "name": "python3"
  },
  "language_info": {
   "codemirror_mode": {
    "name": "ipython",
    "version": 3
   },
   "file_extension": ".py",
   "mimetype": "text/x-python",
   "name": "python",
   "nbconvert_exporter": "python",
   "pygments_lexer": "ipython3",
   "version": "3.9.16"
  }
 },
 "nbformat": 4,
 "nbformat_minor": 5
}
