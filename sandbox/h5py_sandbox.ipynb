{
 "cells": [
  {
   "cell_type": "code",
   "execution_count": 1,
   "id": "df8e0006-b455-4178-aabc-496fb600ad4c",
   "metadata": {},
   "outputs": [],
   "source": [
    "import h5py\n",
    "import numpy as np\n",
    "\n",
    "import time\n",
    "import os\n",
    "import string\n",
    "\n",
    "import sys\n",
    "\n",
    "import matplotlib.pylab as plt\n",
    "\n",
    "import pandas as pd"
   ]
  },
  {
   "cell_type": "markdown",
   "id": "9476925c-ec0a-4e82-95f2-19b22b97c941",
   "metadata": {},
   "source": [
    "# Writing strings to a file"
   ]
  },
  {
   "cell_type": "code",
   "execution_count": 2,
   "id": "baa50762-425f-43b3-a63b-04da3504df3a",
   "metadata": {},
   "outputs": [
    {
     "name": "stdout",
     "output_type": "stream",
     "text": [
      "40000\n",
      "longest_word= 8\n",
      "(40000,) object\n"
     ]
    }
   ],
   "source": [
    "sentence=['this','is','a','sentence']\n",
    "data = []\n",
    "\n",
    "for i in range(10000):\n",
    "    data += sentence\n",
    "print(len(data))\n",
    "longest_word=len(max(data, key=len))\n",
    "print('longest_word=',longest_word)\n",
    "\n",
    "dt = h5py.special_dtype(vlen=str)\n",
    "\n",
    "arr = np.array(data,dtype='S'+str(longest_word))\n",
    "\n",
    "with h5py.File('outfile.h5','w') as h5File:\n",
    "    dset = h5File.create_dataset('words',data=arr,dtype=dt, compression='gzip',compression_opts=9)\n",
    "    print(dset.shape, dset.dtype)\n",
    "\n",
    "    h5File.flush()\n",
    "    h5File.close()"
   ]
  },
  {
   "cell_type": "markdown",
   "id": "7b7ba5f1-6bc0-4dae-81e0-387d600b17c4",
   "metadata": {},
   "source": [
    "# Another shot at writing and reading strings"
   ]
  },
  {
   "cell_type": "code",
   "execution_count": 3,
   "id": "d98b3dca-f72f-4c83-8018-baa4729db411",
   "metadata": {},
   "outputs": [
    {
     "name": "stdout",
     "output_type": "stream",
     "text": [
      "['strings']\n",
      "<HDF5 dataset \"strings\": shape (3, 1), type \"|O\">\n",
      "[b'asas']\n",
      "[b'asas']\n",
      "[b'asas']\n"
     ]
    }
   ],
   "source": [
    "h5File=h5py.File('xxx.h5','w')\n",
    "\n",
    "strList=['asas','asas','asas']\n",
    "\n",
    "#dt = h5py.special_dtype(vlen=str)\n",
    "dt = h5py.string_dtype(encoding='utf-8')\n",
    "\n",
    "dset = h5File.create_dataset('strings',(len(strList),1),dtype=dt)\n",
    "for i,s in enumerate(strList):\n",
    "    dset[i] = s\n",
    "\n",
    "h5File.flush()\n",
    "h5File.close()\n",
    "\n",
    "\n",
    "\n",
    "#################\n",
    "\n",
    "f = h5py.File('xxx.h5', 'r')\n",
    "\n",
    "print(list(f.keys()))\n",
    "\n",
    "print(f['strings'])\n",
    "x = f['strings']\n",
    "\n",
    "for a in x:\n",
    "    print(a)"
   ]
  },
  {
   "cell_type": "markdown",
   "id": "d3bbdfdc-e480-4dd4-b6f8-2200949806b9",
   "metadata": {},
   "source": [
    "# Writing groups under groups"
   ]
  },
  {
   "cell_type": "code",
   "execution_count": 4,
   "id": "865d4f69-91fb-4d5c-a951-4e1da4847c1c",
   "metadata": {},
   "outputs": [
    {
     "name": "stdout",
     "output_type": "stream",
     "text": [
      "/\n",
      "/bar/baz\n"
     ]
    }
   ],
   "source": [
    "outfilename = 'foo.h5'\n",
    "\n",
    "if os.path.exists(outfilename):\n",
    "  os.remove(outfilename)\n",
    "else:\n",
    "  print(f\"{outfilename} file does not exist\")\n",
    "\n",
    "\n",
    "f = h5py.File(outfilename,'w')\n",
    "print(f.name)\n",
    "\n",
    "grp = f.create_group(\"bar\")\n",
    "subgrp = grp.create_group(\"baz\")\n",
    "\n",
    "print(subgrp.name)"
   ]
  },
  {
   "cell_type": "markdown",
   "id": "80598462-713b-4447-84cd-a9c31e0762b2",
   "metadata": {},
   "source": [
    "# Timing tests for large writes"
   ]
  },
  {
   "cell_type": "code",
   "execution_count": 5,
   "id": "4d9c6392-7648-404f-99b8-be990e45a448",
   "metadata": {},
   "outputs": [],
   "source": [
    "outfilename = 'data_TEST.h5'\n",
    "\n",
    "if os.path.exists(outfilename):\n",
    "  os.remove(outfilename)\n",
    "else:\n",
    "  print(f\"{outfilename} file does not exist\")\n",
    "\n",
    "f = h5py.File(outfilename,'a')"
   ]
  },
  {
   "cell_type": "code",
   "execution_count": 6,
   "id": "868f7ca8-5944-4709-b568-800d2906d65a",
   "metadata": {},
   "outputs": [],
   "source": [
    "#list(string.ascii_lowercase)"
   ]
  },
  {
   "cell_type": "code",
   "execution_count": 7,
   "id": "6f3246d0-f557-4e51-919b-8eddf8fd95f0",
   "metadata": {},
   "outputs": [
    {
     "name": "stdout",
     "output_type": "stream",
     "text": [
      "goidh\n"
     ]
    }
   ],
   "source": [
    "print(''.join(np.random.choice(list(string.ascii_lowercase), size=5)))"
   ]
  },
  {
   "cell_type": "code",
   "execution_count": 8,
   "id": "a0da1b04-0187-4d05-83f8-c4a5564558d5",
   "metadata": {},
   "outputs": [],
   "source": [
    "ngroups = 10\n",
    "nchars_in_name = 5\n",
    "\n",
    "ndatasets_in_group = 20\n",
    "\n",
    "data = {}\n",
    "\n",
    "# Make the groups\n",
    "for n in range(ngroups):\n",
    "    name = ''.join(np.random.choice(list(string.ascii_lowercase), size=nchars_in_name))\n",
    "    \n",
    "    # Keep track of our data\n",
    "    data[name] = {}\n",
    "    \n",
    "    group_names = list(f.keys())\n",
    "    \n",
    "    if name not in group_names:\n",
    "        grp = f.create_group(name)\n",
    "        \n",
    "        # Make the datasets in each group\n",
    "        for nd in range(ndatasets_in_group):\n",
    "            dname = ''.join(np.random.choice(list(string.ascii_lowercase), size=nchars_in_name))\n",
    "\n",
    "            data[name][dname] = []\n",
    "            # Create this at write time\n",
    "            #dset = grp.create_dataset(dname, dtype='f')\n",
    "            "
   ]
  },
  {
   "cell_type": "code",
   "execution_count": 9,
   "id": "886533d6-fcab-4a14-95c2-50fd80b854ae",
   "metadata": {},
   "outputs": [
    {
     "name": "stdout",
     "output_type": "stream",
     "text": [
      "['byypd', 'dcuhp', 'gytoj', 'jnwos', 'ljdqo', 'ljhby', 'moznc', 'mzuuo', 'qllkl', 'xemyd']\n"
     ]
    }
   ],
   "source": [
    "\n",
    "print(list(f.keys()))"
   ]
  },
  {
   "cell_type": "code",
   "execution_count": 10,
   "id": "cbc68040-a9b4-45ab-ab31-d62edb18a4b6",
   "metadata": {},
   "outputs": [],
   "source": [
    "def printname(name):\n",
    "    print(name)\n",
    "#f.visit(printname)"
   ]
  },
  {
   "cell_type": "code",
   "execution_count": 11,
   "id": "4213c6bd-cd99-4f72-8372-b2ecde7df4d8",
   "metadata": {},
   "outputs": [
    {
     "name": "stdout",
     "output_type": "stream",
     "text": [
      "gytoj: 2000000\n",
      "ljdqo: 1600000\n",
      "jnwos: 3200000\n",
      "dcuhp: 800000\n",
      "moznc: 2000000\n",
      "xemyd: 800000\n",
      "ljhby: 1200000\n",
      "qllkl: 2000000\n",
      "mzuuo: 1600000\n",
      "byypd: 3600000\n"
     ]
    }
   ],
   "source": [
    "\n",
    "# Fill the data\n",
    "nevents = 400000\n",
    "nentries_per_group = (1, 10)\n",
    "\n",
    "for group in data.keys():\n",
    "    nentries = nevents*np.random.randint(nentries_per_group[0],nentries_per_group[1])\n",
    "    print(f\"{group}: {nentries}\")\n",
    "    for dset in data[group].keys():\n",
    "        data[group][dset] = np.random.random(nentries)"
   ]
  },
  {
   "cell_type": "code",
   "execution_count": 12,
   "id": "209c917e-a1b1-4e50-9150-5a70f23695be",
   "metadata": {},
   "outputs": [
    {
     "data": {
      "text/plain": [
       "1687201498.800463"
      ]
     },
     "execution_count": 12,
     "metadata": {},
     "output_type": "execute_result"
    }
   ],
   "source": [
    "#data\n",
    "time.time()"
   ]
  },
  {
   "cell_type": "code",
   "execution_count": 13,
   "id": "e3da585b-6076-4085-91d8-aedb1f88fe47",
   "metadata": {},
   "outputs": [
    {
     "name": "stdout",
     "output_type": "stream",
     "text": [
      "Starting to fill file with 400000 events at 1687201498.8093183\n",
      "Writing gytoj and 20 datasets\n",
      "Writing ljdqo and 20 datasets\n",
      "Writing jnwos and 20 datasets\n",
      "Writing dcuhp and 20 datasets\n",
      "Writing moznc and 20 datasets\n",
      "Writing xemyd and 20 datasets\n",
      "Writing ljhby and 20 datasets\n",
      "Writing qllkl and 20 datasets\n",
      "Writing mzuuo and 20 datasets\n",
      "Writing byypd and 20 datasets\n",
      "Finished filling file with 400000 events at 1687201562.5952883\n",
      "Time to fill: 63.79 seconds\n"
     ]
    }
   ],
   "source": [
    "# Fill the data\n",
    "\n",
    "start = time.time()\n",
    "print(f\"Starting to fill file with {nevents} events at {start}\")\n",
    "\n",
    "for group in data.keys():\n",
    "    grp = f[group]\n",
    "    print(f\"Writing {group} and {len(data[group].keys())} datasets\")\n",
    "    for dname in data[group].keys():\n",
    "        #print(list(f[group].keys()))\n",
    "        if dname in f[group].keys():\n",
    "            fullname = f\"{group}/{dname}\"\n",
    "            del f[fullname]\n",
    "        else:\n",
    "            fullname = f\"{group}/{dname}\"\n",
    "            #print(f\"\\t{fullname}\")\n",
    "            dset = grp.create_dataset(dname, data=data[group][dname],compression=\"gzip\", compression_opts=9)\n",
    "\n",
    "\n",
    "stop = time.time()\n",
    "print(f\"Finished filling file with {nevents} events at {stop}\")\n",
    "print(f\"Time to fill: {stop-start:0.2f} seconds\")"
   ]
  },
  {
   "cell_type": "code",
   "execution_count": 14,
   "id": "f7de7336-70f6-4ff5-9c43-94a9bf8525c9",
   "metadata": {},
   "outputs": [],
   "source": [
    "\n",
    "f.close()"
   ]
  },
  {
   "cell_type": "markdown",
   "id": "80661447-89b4-4050-9871-61f3ec49577b",
   "metadata": {},
   "source": [
    "# Try opening the file"
   ]
  },
  {
   "cell_type": "code",
   "execution_count": 15,
   "id": "3d67d23e-0a78-4109-a8a5-02253e3258ca",
   "metadata": {},
   "outputs": [],
   "source": [
    "f = h5py.File(outfilename,'r')"
   ]
  },
  {
   "cell_type": "code",
   "execution_count": 16,
   "id": "a4f1db40-8dff-4079-a805-64da454d8c2f",
   "metadata": {
    "collapsed": true,
    "jupyter": {
     "outputs_hidden": true
    },
    "tags": []
   },
   "outputs": [
    {
     "name": "stdout",
     "output_type": "stream",
     "text": [
      "byypd\n",
      "byypd/cagks\n",
      "byypd/cneko\n",
      "byypd/ddbgi\n",
      "byypd/ejhiu\n",
      "byypd/fkiek\n",
      "byypd/fqdac\n",
      "byypd/frnam\n",
      "byypd/hwmmj\n",
      "byypd/kenfv\n",
      "byypd/ldzmx\n",
      "byypd/lwuqw\n",
      "byypd/nuhii\n",
      "byypd/pamzb\n",
      "byypd/qbpxc\n",
      "byypd/svcvg\n",
      "byypd/uqtic\n",
      "byypd/vyuwu\n",
      "byypd/whqmp\n",
      "byypd/xdatp\n",
      "byypd/zxfti\n",
      "dcuhp\n",
      "dcuhp/bypxc\n",
      "dcuhp/byqdt\n",
      "dcuhp/ctryv\n",
      "dcuhp/dgzti\n",
      "dcuhp/eglfd\n",
      "dcuhp/eieon\n",
      "dcuhp/fipbh\n",
      "dcuhp/ikxab\n",
      "dcuhp/iulwa\n",
      "dcuhp/kkcqk\n",
      "dcuhp/lcapf\n",
      "dcuhp/obwmq\n",
      "dcuhp/oljct\n",
      "dcuhp/pdmwa\n",
      "dcuhp/qnnqj\n",
      "dcuhp/udsbs\n",
      "dcuhp/werke\n",
      "dcuhp/wpunr\n",
      "dcuhp/xvtfs\n",
      "dcuhp/zrkmb\n",
      "gytoj\n",
      "gytoj/dahff\n",
      "gytoj/dnomq\n",
      "gytoj/fryih\n",
      "gytoj/gawul\n",
      "gytoj/hmzwt\n",
      "gytoj/ibted\n",
      "gytoj/jtgki\n",
      "gytoj/jzyjz\n",
      "gytoj/llhdv\n",
      "gytoj/mavqg\n",
      "gytoj/msecv\n",
      "gytoj/rbyyr\n",
      "gytoj/rtsbr\n",
      "gytoj/tdbaa\n",
      "gytoj/vnmij\n",
      "gytoj/wpdhp\n",
      "gytoj/xadrw\n",
      "gytoj/xkfvl\n",
      "gytoj/ybqvr\n",
      "gytoj/ydaqc\n",
      "jnwos\n",
      "jnwos/aobhw\n",
      "jnwos/blucr\n",
      "jnwos/brqih\n",
      "jnwos/dpccf\n",
      "jnwos/dzypa\n",
      "jnwos/efzsa\n",
      "jnwos/etnuf\n",
      "jnwos/flxyk\n",
      "jnwos/ixayz\n",
      "jnwos/kjyby\n",
      "jnwos/kzdve\n",
      "jnwos/mdnfg\n",
      "jnwos/mnznh\n",
      "jnwos/pvjug\n",
      "jnwos/qhdkn\n",
      "jnwos/qprmf\n",
      "jnwos/tbsim\n",
      "jnwos/tdgoh\n",
      "jnwos/uqqoh\n",
      "jnwos/xhxrh\n",
      "ljdqo\n",
      "ljdqo/aoddx\n",
      "ljdqo/bacgk\n",
      "ljdqo/bpygy\n",
      "ljdqo/dydqg\n",
      "ljdqo/ehjgi\n",
      "ljdqo/ewwxb\n",
      "ljdqo/gxxmz\n",
      "ljdqo/hqtau\n",
      "ljdqo/hrvvf\n",
      "ljdqo/iqnnf\n",
      "ljdqo/jgotc\n",
      "ljdqo/kdnqb\n",
      "ljdqo/mljqd\n",
      "ljdqo/mvuno\n",
      "ljdqo/mxngf\n",
      "ljdqo/skeys\n",
      "ljdqo/tmkaa\n",
      "ljdqo/uymml\n",
      "ljdqo/vtqng\n",
      "ljdqo/xwmaa\n",
      "ljhby\n",
      "ljhby/bamwc\n",
      "ljhby/cnvqq\n",
      "ljhby/dxhoh\n",
      "ljhby/esajp\n",
      "ljhby/ihqfj\n",
      "ljhby/jauji\n",
      "ljhby/mmmmy\n",
      "ljhby/nmvyn\n",
      "ljhby/qbtrq\n",
      "ljhby/qgwmw\n",
      "ljhby/rdyzg\n",
      "ljhby/srvgc\n",
      "ljhby/timth\n",
      "ljhby/tmkwu\n",
      "ljhby/vsqvm\n",
      "ljhby/ytaut\n",
      "ljhby/yvzra\n",
      "ljhby/zbvub\n",
      "ljhby/zjfhi\n",
      "ljhby/znvmw\n",
      "moznc\n",
      "moznc/afeid\n",
      "moznc/dizjh\n",
      "moznc/esjlr\n",
      "moznc/fnpfm\n",
      "moznc/htizy\n",
      "moznc/iwycz\n",
      "moznc/izuoy\n",
      "moznc/jbhks\n",
      "moznc/lzfcc\n",
      "moznc/mfyao\n",
      "moznc/mxtsk\n",
      "moznc/nmxjm\n",
      "moznc/plfxu\n",
      "moznc/ppwue\n",
      "moznc/qxzcm\n",
      "moznc/rouce\n",
      "moznc/ucmqm\n",
      "moznc/uoehu\n",
      "moznc/vbchk\n",
      "moznc/vkowz\n",
      "mzuuo\n",
      "mzuuo/aewhd\n",
      "mzuuo/awyko\n",
      "mzuuo/bhwlq\n",
      "mzuuo/crtiu\n",
      "mzuuo/eqaay\n",
      "mzuuo/fjnkd\n",
      "mzuuo/gdfeq\n",
      "mzuuo/gnaxt\n",
      "mzuuo/ixdtj\n",
      "mzuuo/jeyex\n",
      "mzuuo/mqsnq\n",
      "mzuuo/mspza\n",
      "mzuuo/qfwmf\n",
      "mzuuo/qznvf\n",
      "mzuuo/rtclm\n",
      "mzuuo/snhkj\n",
      "mzuuo/tbeox\n",
      "mzuuo/uoeba\n",
      "mzuuo/vyobo\n",
      "mzuuo/vzaft\n",
      "qllkl\n",
      "qllkl/aciww\n",
      "qllkl/afhbl\n",
      "qllkl/allyu\n",
      "qllkl/bcrws\n",
      "qllkl/bkxkd\n",
      "qllkl/fikvn\n",
      "qllkl/hlrjl\n",
      "qllkl/mqjfp\n",
      "qllkl/mxlxh\n",
      "qllkl/ockih\n",
      "qllkl/pypmz\n",
      "qllkl/qbhcx\n",
      "qllkl/qbtjv\n",
      "qllkl/qnaea\n",
      "qllkl/qvwtb\n",
      "qllkl/sddqo\n",
      "qllkl/uerkv\n",
      "qllkl/vmzmq\n",
      "qllkl/xrqbr\n",
      "qllkl/zaypj\n",
      "xemyd\n",
      "xemyd/adntt\n",
      "xemyd/aypok\n",
      "xemyd/cduls\n",
      "xemyd/ftrdr\n",
      "xemyd/jgkkh\n",
      "xemyd/kvxgv\n",
      "xemyd/lstay\n",
      "xemyd/lwgxe\n",
      "xemyd/nxfgi\n",
      "xemyd/oqhul\n",
      "xemyd/pqbsz\n",
      "xemyd/qkbad\n",
      "xemyd/qoxza\n",
      "xemyd/rtiad\n",
      "xemyd/rvfly\n",
      "xemyd/sopyy\n",
      "xemyd/tcmni\n",
      "xemyd/xmfik\n",
      "xemyd/xubcs\n",
      "xemyd/xwyme\n"
     ]
    }
   ],
   "source": [
    "\n",
    "def printname(name):\n",
    "    print(name)\n",
    "f.visit(printname)"
   ]
  },
  {
   "cell_type": "code",
   "execution_count": 17,
   "id": "38da9016-9fe0-4d20-9366-0373d358e6f2",
   "metadata": {},
   "outputs": [
    {
     "name": "stdout",
     "output_type": "stream",
     "text": [
      "<class 'numpy.ndarray'>\n",
      "[0.20661127 0.48365812 0.02610665 ... 0.47626454 0.24923755 0.51743188]\n",
      "3600000\n"
     ]
    }
   ],
   "source": [
    "k0 = list(f.keys())[0]\n",
    "k1 = list(f[k0].keys())[0]\n",
    "\n",
    "x = f[f'{k0}/{k1}'][()] # This last bit returns a numpy array\n",
    "\n",
    "print(type(x))\n",
    "print(x)\n",
    "\n",
    "#x.values\n",
    "\n",
    "print(len(x))"
   ]
  },
  {
   "cell_type": "code",
   "execution_count": 18,
   "id": "6250b8a0-10b5-4c1d-b8f1-8b6cfcddd3a2",
   "metadata": {},
   "outputs": [
    {
     "data": {
      "image/png": "[encoded data removed]",
      "text/plain": [
       "<Figure size 640x480 with 1 Axes>"
      ]
     },
     "metadata": {},
     "output_type": "display_data"
    }
   ],
   "source": [
    "plt.hist(x,bins=100);"
   ]
  },
  {
   "cell_type": "code",
   "execution_count": 19,
   "id": "4bba44f9-fe7c-45b8-aba9-51431de6ddc4",
   "metadata": {},
   "outputs": [
    {
     "data": {
      "image/png": "[encoded data removed]",
      "text/plain": [
       "<Figure size 640x480 with 1 Axes>"
      ]
     },
     "metadata": {},
     "output_type": "display_data"
    }
   ],
   "source": [
    "plt.hist(np.random.random(len(x)),bins=100);"
   ]
  },
  {
   "cell_type": "code",
   "execution_count": 20,
   "id": "1128ca47-4d40-49bb-bf0a-3e9c90c2c992",
   "metadata": {},
   "outputs": [
    {
     "name": "stdout",
     "output_type": "stream",
     "text": [
      "<HDF5 group \"/byypd\" (20 members)>\n"
     ]
    }
   ],
   "source": [
    "grp = f[k0]\n",
    "print(grp)"
   ]
  },
  {
   "cell_type": "code",
   "execution_count": 21,
   "id": "bf90504c-18fc-4831-b6ed-6cb1f57b15ca",
   "metadata": {},
   "outputs": [],
   "source": [
    "x = grp[k1][()]"
   ]
  },
  {
   "cell_type": "code",
   "execution_count": 22,
   "id": "d94911f4-e5e6-427b-b747-006f06d43684",
   "metadata": {},
   "outputs": [
    {
     "data": {
      "image/png": "[encoded data removed]",
      "text/plain": [
       "<Figure size 640x480 with 1 Axes>"
      ]
     },
     "metadata": {},
     "output_type": "display_data"
    }
   ],
   "source": [
    "len(x)\n",
    "plt.hist(x,bins=1000);"
   ]
  },
  {
   "cell_type": "code",
   "execution_count": 23,
   "id": "cf6ea126-45fb-45ce-9829-e514cb6a63ce",
   "metadata": {},
   "outputs": [
    {
     "name": "stdout",
     "output_type": "stream",
     "text": [
      "byypd\n",
      "dcuhp\n",
      "gytoj\n",
      "jnwos\n",
      "ljdqo\n",
      "ljhby\n",
      "moznc\n",
      "mzuuo\n",
      "qllkl\n",
      "xemyd\n"
     ]
    }
   ],
   "source": [
    "for group in f.keys():\n",
    "    grp = f[group]\n",
    "    print(group)\n",
    "    for i,dname in enumerate(f[group].keys()):\n",
    "        fullname = f\"{group}/{dname}\"\n",
    "        #print(f[fullname])\n",
    "        #if i == 0:\n",
    "        #    plt.figure()\n",
    "        #    plt.hist(f[fullname],bins=100)"
   ]
  },
  {
   "cell_type": "code",
   "execution_count": 24,
   "id": "f0f6c302-6a71-4780-9f75-0e5b39a13e37",
   "metadata": {},
   "outputs": [],
   "source": [
    "\n",
    "f.close()"
   ]
  },
  {
   "cell_type": "markdown",
   "id": "23b75988",
   "metadata": {},
   "source": [
    "# Writing a header"
   ]
  },
  {
   "cell_type": "code",
   "execution_count": 25,
   "id": "903ae4af",
   "metadata": {},
   "outputs": [
    {
     "name": "stdout",
     "output_type": "stream",
     "text": [
      "['strings']\n",
      "<HDF5 dataset \"strings\": shape (3, 1), type \"|O\">\n",
      "[b'asas']\n",
      "[b'asas']\n",
      "[b'asas']\n"
     ]
    }
   ],
   "source": [
    "# Just writing strings\n",
    "\n",
    "h5File=h5py.File('xxx.h5','w')\n",
    "\n",
    "strList=['asas','asas','asas']\n",
    "\n",
    "#dt = h5py.special_dtype(vlen=str)\n",
    "dt = h5py.string_dtype(encoding='utf-8')\n",
    "\n",
    "dset = h5File.create_dataset('strings',(len(strList),1),dtype=dt)\n",
    "for i,s in enumerate(strList):\n",
    "    dset[i] = s\n",
    "\n",
    "h5File.flush()\n",
    "h5File.close()\n",
    "\n",
    "\n",
    "\n",
    "#################\n",
    "\n",
    "f = h5py.File('xxx.h5', 'r')\n",
    "\n",
    "print(list(f.keys()))\n",
    "\n",
    "print(f['strings'])\n",
    "x = f['strings']\n",
    "\n",
    "for a in x:\n",
    "    print(a)"
   ]
  },
  {
   "cell_type": "code",
   "execution_count": 26,
   "id": "860fb881",
   "metadata": {},
   "outputs": [
    {
     "name": "stdout",
     "output_type": "stream",
     "text": [
      "The file does not exist\n",
      "21\n",
      "<HDF5 dataset \"lines\": shape (21, 1), type \"|O\">\n",
      "#*********************************************************************)\n",
      "# Tag name for the run (one word)                                    *\n",
      "#*********************************************************************\n",
      "  tag_1 = run_tag ! name of the run\n",
      "#*********************************************************************\n",
      "# Number of events and rnd seed                                      *\n",
      "# Warning: Do not generate more than 1M events in a single run       *\n",
      "# If you want to run Pythia, avoid more than 50k events in a run.    *\n",
      "#*********************************************************************\n",
      "  1000  = nevents ! Number of unweighted events requested)\n",
      " 66 = iseed ! rnd seed (0=assigned automatically=default))\n",
      "#*********************************************************************\n",
      "# Collider type and energy                                           *\n",
      "# lpp: 0=No PDF, 1=proton, -1=antiproton, 2=photon from proton,      *\n",
      "#                                         3=photon from electron     *\n",
      "#*********************************************************************\n",
      "  1 = lpp1 ! beam 1 type\n",
      "  1 = lpp2 ! beam 2 type\n",
      "  6500.0    = ebeam1 ! beam 1 total energy in GeV\n",
      "  6500.0    = ebeam2 ! beam 2 total energy in GeV\n",
      "\n",
      "['header']\n",
      "<HDF5 group \"/header\" (1 members)>\n",
      "#*********************************************************************)\n",
      "# Tag name for the run (one word)                                    *\n",
      "#*********************************************************************\n",
      "  tag_1 = run_tag ! name of the run\n",
      "#*********************************************************************\n",
      "# Number of events and rnd seed                                      *\n",
      "# Warning: Do not generate more than 1M events in a single run       *\n",
      "# If you want to run Pythia, avoid more than 50k events in a run.    *\n",
      "#*********************************************************************\n",
      "  1000  = nevents ! Number of unweighted events requested)\n",
      " 66 = iseed ! rnd seed (0=assigned automatically=default))\n",
      "#*********************************************************************\n",
      "# Collider type and energy                                           *\n",
      "# lpp: 0=No PDF, 1=proton, -1=antiproton, 2=photon from proton,      *\n",
      "#                                         3=photon from electron     *\n",
      "#*********************************************************************\n",
      "  1 = lpp1 ! beam 1 type\n",
      "  1 = lpp2 ! beam 2 type\n",
      "  6500.0    = ebeam1 ! beam 1 total energy in GeV\n",
      "  6500.0    = ebeam2 ! beam 2 total energy in GeV\n",
      "\n"
     ]
    }
   ],
   "source": [
    "# Writing a header\n",
    "\n",
    "filename = 'header_test.h5'\n",
    "\n",
    "if os.path.exists(filename):\n",
    "    os.remove(filename)\n",
    "else:\n",
    "    print(\"The file does not exist\")\n",
    "\n",
    "\n",
    "h5File=h5py.File(filename,'w')\n",
    "\n",
    "header_group_name = 'header'\n",
    "\n",
    "header_strings = []\n",
    "header_strings.append('#*********************************************************************)')\n",
    "header_strings.append('# Tag name for the run (one word)                                    *')\n",
    "header_strings.append('#*********************************************************************')\n",
    "header_strings.append('  tag_1 = run_tag ! name of the run')\n",
    "header_strings.append('#*********************************************************************')\n",
    "header_strings.append('# Number of events and rnd seed                                      *')\n",
    "header_strings.append('# Warning: Do not generate more than 1M events in a single run       *')\n",
    "header_strings.append('# If you want to run Pythia, avoid more than 50k events in a run.    *')\n",
    "header_strings.append('#*********************************************************************')\n",
    "header_strings.append('  1000  = nevents ! Number of unweighted events requested)')\n",
    "header_strings.append(' 66 = iseed ! rnd seed (0=assigned automatically=default))')\n",
    "header_strings.append('#*********************************************************************')\n",
    "header_strings.append('# Collider type and energy                                           *')\n",
    "header_strings.append('# lpp: 0=No PDF, 1=proton, -1=antiproton, 2=photon from proton,      *')\n",
    "header_strings.append('#                                         3=photon from electron     *')\n",
    "header_strings.append('#*********************************************************************')\n",
    "header_strings.append('  1 = lpp1 ! beam 1 type')\n",
    "header_strings.append('  1 = lpp2 ! beam 2 type')\n",
    "header_strings.append('  6500.0    = ebeam1 ! beam 1 total energy in GeV')\n",
    "header_strings.append('  6500.0    = ebeam2 ! beam 2 total energy in GeV')\n",
    "header_strings.append('')\n",
    "\n",
    "\n",
    "#strList=['asas','asas','asas']\n",
    "\n",
    "dt = h5py.string_dtype(encoding='utf-8')\n",
    "\n",
    "grp = h5File.create_group(header_group_name)\n",
    "dset = grp.create_dataset('lines',(len(header_strings),1),dtype=dt)\n",
    "\n",
    "print(len(header_strings))\n",
    "print(dset)\n",
    "\n",
    "for i,s in enumerate(header_strings):\n",
    "    print(s)\n",
    "    dset[i] = s\n",
    "\n",
    "h5File.flush()\n",
    "h5File.close()\n",
    "\n",
    "\n",
    "\n",
    "#################\n",
    "\n",
    "f = h5py.File(filename, 'r')\n",
    "\n",
    "print(list(f.keys()))\n",
    "\n",
    "print(f[header_group_name])\n",
    "grp = f[header_group_name]\n",
    "\n",
    "for line in grp['lines']:\n",
    "    print(line[0].decode()) # Need the .decode because these are stored as binary"
   ]
  },
  {
   "cell_type": "code",
   "execution_count": 27,
   "id": "4429edf4",
   "metadata": {},
   "outputs": [
    {
     "name": "stdout",
     "output_type": "stream",
     "text": [
      "float\n",
      "int\n",
      "str\n"
     ]
    }
   ],
   "source": [
    "# https://pythonhow.com/how/check-if-a-string-is-a-float/#:~:text=To%20check%20if%20a%20string%20is%20a%20number%20(float)%20in,casted%20to%20float%20or%20not.\n",
    "\n",
    "def is_float(string):\n",
    "    try:\n",
    "        float(string)\n",
    "        return True\n",
    "    except ValueError:\n",
    "        return False\n",
    "\n",
    "def is_int(string):\n",
    "    try:\n",
    "        int(string)\n",
    "        return True\n",
    "    except ValueError:\n",
    "        return False\n",
    "\n",
    "\n",
    "def check_data_type_of_string(string):\n",
    "    # First, check float\n",
    "    if is_int(string):\n",
    "        return 'int'\n",
    "    \n",
    "    # Check float has to come after check int\n",
    "    elif is_float(string):\n",
    "        return 'float'\n",
    "    \n",
    "    else:\n",
    "        return 'str'\n",
    "\n",
    "    \n",
    "print(check_data_type_of_string('10.0'))\n",
    "print(check_data_type_of_string('10'))\n",
    "print(check_data_type_of_string('ten eight'))"
   ]
  },
  {
   "cell_type": "code",
   "execution_count": 40,
   "id": "1d15c8c2",
   "metadata": {},
   "outputs": [
    {
     "name": "stdout",
     "output_type": "stream",
     "text": [
      "tag_1 run_tag name of the run\n",
      "1000 nevents Number of unweighted events requested\n",
      "66 iseed rnd seed (0=assigned automatically=default)\n",
      "1 lpp1 beam 1 type\n",
      "1 lpp2 beam 2 type\n",
      "6500.0 ebeam1 beam 1 total energy in GeV\n",
      "6500.0 ebeam2 beam 2 total energy in GeV\n",
      "['tag_1', '1000', '66', '1', '1', '6500.0', '6500.0']\n",
      "['run_tag', 'nevents', 'iseed', 'lpp1', 'lpp2', 'ebeam1', 'ebeam2']\n",
      "['name of the run', 'Number of unweighted events requested', 'rnd seed (0=assigned automatically=default)', 'beam 1 type', 'beam 2 type', 'beam 1 total energy in GeV', 'beam 2 total energy in GeV']\n",
      "['str', 'int', 'int', 'int', 'int', 'float', 'float']\n",
      "7\n",
      "<Closed HDF5 dataset>\n",
      "['header_values']\n",
      "<HDF5 group \"/header_values\" (4 members)>\n",
      "-----------\n",
      "comments\n",
      "[b'name of the run']\n",
      "[b'Number of unweighted events requested']\n",
      "[b'rnd seed (0=assigned automatically=default)']\n",
      "[b'beam 1 type']\n",
      "[b'beam 2 type']\n",
      "[b'beam 1 total energy in GeV']\n",
      "[b'beam 2 total energy in GeV']\n",
      "-----------\n",
      "datatypes\n",
      "[b'str']\n",
      "[b'int']\n",
      "[b'int']\n",
      "[b'int']\n",
      "[b'int']\n",
      "[b'float']\n",
      "[b'float']\n",
      "-----------\n",
      "parameters\n",
      "[b'run_tag']\n",
      "[b'nevents']\n",
      "[b'iseed']\n",
      "[b'lpp1']\n",
      "[b'lpp2']\n",
      "[b'ebeam1']\n",
      "[b'ebeam2']\n",
      "-----------\n",
      "values\n",
      "[b'tag_1']\n",
      "[b'1000']\n",
      "[b'66']\n",
      "[b'1']\n",
      "[b'1']\n",
      "[b'6500.0']\n",
      "[b'6500.0']\n"
     ]
    }
   ],
   "source": [
    "# Writing a header\n",
    "\n",
    "filename = 'header_test_values.h5'\n",
    "\n",
    "if os.path.exists(filename):\n",
    "    os.remove(filename)\n",
    "else:\n",
    "    print(\"The file does not exist\")\n",
    "\n",
    "\n",
    "h5File=h5py.File(filename,'w')\n",
    "\n",
    "header_group_name = 'header_values'\n",
    "\n",
    "\n",
    "# header_strings = []\n",
    "# header_strings.append('#*********************************************************************)')\n",
    "# header_strings.append('# Tag name for the run (one word)                                    *')\n",
    "# header_strings.append('#*********************************************************************')\n",
    "# header_strings.append('  tag_1 = run_tag ! name of the run')\n",
    "# header_strings.append('#*********************************************************************')\n",
    "# header_strings.append('# Number of events and rnd seed                                      *')\n",
    "# header_strings.append('# Warning: Do not generate more than 1M events in a single run       *')\n",
    "# header_strings.append('# If you want to run Pythia, avoid more than 50k events in a run.    *')\n",
    "# header_strings.append('#*********************************************************************')\n",
    "# header_strings.append('  1000  = nevents ! Number of unweighted events requested)')\n",
    "# header_strings.append(' 66 = iseed ! rnd seed (0=assigned automatically=default))')\n",
    "# header_strings.append('#*********************************************************************')\n",
    "# header_strings.append('# Collider type and energy                                           *')\n",
    "# header_strings.append('# lpp: 0=No PDF, 1=proton, -1=antiproton, 2=photon from proton,      *')\n",
    "# header_strings.append('#                                         3=photon from electron     *')\n",
    "# header_strings.append('#*********************************************************************')\n",
    "# header_strings.append('  1 = lpp1 ! beam 1 type')\n",
    "# header_strings.append('  1 = lpp2 ! beam 2 type')\n",
    "# header_strings.append('  6500.0    = ebeam1 ! beam 1 total energy in GeV')\n",
    "# header_strings.append('  6500.0    = ebeam2 ! beam 2 total energy in GeV')\n",
    "# header_strings.append('')\n",
    "\n",
    "\n",
    "header_strings = '''\n",
    "#*********************************************************************\n",
    "# Tag name for the run (one word)                                    *\n",
    "#*********************************************************************\n",
    "  tag_1 = run_tag ! name of the run\n",
    "# Number of events and rnd seed                                      *\n",
    "# Warning: Do not generate more than 1M events in a single run       *\n",
    "# If you want to run Pythia, avoid more than 50k events in a run.    *\n",
    "#*********************************************************************\n",
    "  1000  = nevents ! Number of unweighted events requested\n",
    "  66 = iseed ! rnd seed (0=assigned automatically=default)\n",
    "#*********************************************************************\n",
    "# Collider type and energy                                           *\n",
    "# lpp: 0=No PDF, 1=proton, -1=antiproton, 2=photon from proton,      *\n",
    "#                                         3=photon from electron     *\n",
    "#*********************************************************************\n",
    "  1 = lpp1 ! beam 1 type\n",
    "  1 = lpp2 ! beam 2 type\n",
    "  6500.0    = ebeam1 ! beam 1 total energy in GeV\n",
    "  6500.0    = ebeam2 ! beam 2 total energy in GeV\n",
    "'''\n",
    "\n",
    "if isinstance(header_strings, str):\n",
    "    # turn it into a list\n",
    "    strings = header_strings.split('\\n')\n",
    "    if strings[0] == '':\n",
    "        del strings[0]\n",
    "    if strings[-1] == '':\n",
    "        del strings[-1]\n",
    "    \n",
    "    header_strings = strings\n",
    "    \n",
    "\n",
    "# Parse the file\n",
    "\n",
    "values = []\n",
    "parameters = []\n",
    "comments = []\n",
    "datatypes = []\n",
    "\n",
    "for h in header_strings:\n",
    "    #print(h)\n",
    "    if len(h)>0 and h[0] != '#':\n",
    "        a = h.split('=')[0].strip()\n",
    "        b = h.split('=')[1].split('!')[0].strip()\n",
    "        c = h.split('!')[1].strip()\n",
    "        \n",
    "        print(a,b,c)\n",
    "\n",
    "        values.append(a)\n",
    "        parameters.append(b)\n",
    "        comments.append(c)\n",
    "        datatypes.append(check_data_type_of_string(a))\n",
    "\n",
    "print(values)\n",
    "print(parameters)\n",
    "print(comments)\n",
    "print(datatypes)\n",
    "####################################################################\n",
    "        \n",
    "        \n",
    "# Write to h5py\n",
    "dt = h5py.string_dtype(encoding='utf-8')\n",
    "\n",
    "grp = h5File.create_group(header_group_name)\n",
    "dset1 = grp.create_dataset('values',(len(values),1),dtype=dt)\n",
    "dset2 = grp.create_dataset('parameters',(len(parameters),1),dtype=dt)\n",
    "dset3 = grp.create_dataset('comments',(len(comments),1),dtype=dt)\n",
    "dset4 = grp.create_dataset('datatypes',(len(datatypes),1),dtype=dt)\n",
    "\n",
    "print(len(values))\n",
    "print(dset)\n",
    "\n",
    "for i in range(len(values)):\n",
    "    dset1[i] = values[i]\n",
    "    dset2[i] = parameters[i]\n",
    "    dset3[i] = comments[i]\n",
    "    dset4[i] = datatypes[i]\n",
    "\n",
    "h5File.flush()\n",
    "h5File.close()\n",
    "\n",
    "\n",
    "\n",
    "#################\n",
    "\n",
    "f = h5py.File(filename, 'r')\n",
    "\n",
    "print(list(f.keys()))\n",
    "\n",
    "print(f[header_group_name])\n",
    "group = f[header_group_name]\n",
    "\n",
    "\n",
    "# Why is each entry a list of one val? Is it because we do the (len(values),1) above?\n",
    "\n",
    "for a in group:\n",
    "    print(\"-----------\")\n",
    "    print(a)\n",
    "    for values in group[a]:\n",
    "        print(values)"
   ]
  },
  {
   "cell_type": "code",
   "execution_count": 29,
   "id": "51fefa69",
   "metadata": {},
   "outputs": [
    {
     "name": "stdout",
     "output_type": "stream",
     "text": [
      "[b'name of the run']\n"
     ]
    }
   ],
   "source": [
    "x = f['header_values/comments']\n",
    "\n",
    "print(x[0])"
   ]
  },
  {
   "cell_type": "code",
   "execution_count": 30,
   "id": "9c807d4e",
   "metadata": {},
   "outputs": [
    {
     "name": "stdout",
     "output_type": "stream",
     "text": [
      "['header_values']\n",
      "<HDF5 group \"/header_values\" (4 members)>\n",
      "[b'run_tag']\n",
      "7\n",
      "run_tag {'value': 'tag_1', 'comments': 'name of the run'}\n",
      "nevents {'value': 1000, 'comments': 'Number of unweighted events requested)'}\n",
      "iseed {'value': 66, 'comments': 'rnd seed (0=assigned automatically=default))'}\n",
      "lpp1 {'value': 1, 'comments': 'beam 1 type'}\n",
      "lpp2 {'value': 1, 'comments': 'beam 2 type'}\n",
      "ebeam1 {'value': 6500.0, 'comments': 'beam 1 total energy in GeV'}\n",
      "ebeam2 {'value': 6500.0, 'comments': 'beam 2 total energy in GeV'}\n",
      "\n"
     ]
    }
   ],
   "source": [
    "# Build a dictionary\n",
    "\n",
    "#################\n",
    "\n",
    "d = {}\n",
    "\n",
    "f = h5py.File(filename, 'r')\n",
    "\n",
    "print(list(f.keys()))\n",
    "\n",
    "print(f[header_group_name])\n",
    "group = f[header_group_name]\n",
    "\n",
    "comments = group['comments']\n",
    "parameters = group['parameters']\n",
    "values = group['values']\n",
    "datatypes = group['datatypes']\n",
    "\n",
    "print(parameters[0])\n",
    "\n",
    "nvals = len(comments)\n",
    "print(nvals)\n",
    "\n",
    "for i in range(nvals):\n",
    "    value = values[i][0].decode()\n",
    "    datatype = datatypes[i][0].decode()\n",
    "    if datatype=='float':\n",
    "        value = float(value)\n",
    "    elif datatype=='int':\n",
    "        value = int(value)\n",
    "    d[parameters[i][0].decode()] = {'value':value , 'comments': comments[i][0].decode()}\n",
    "\n",
    "      \n",
    "#print(d)\n",
    "for key in d.keys():\n",
    "    print(key, d[key])\n",
    "print()\n",
    "    "
   ]
  },
  {
   "cell_type": "code",
   "execution_count": 31,
   "id": "98ebd23f",
   "metadata": {},
   "outputs": [
    {
     "data": {
      "text/plain": [
       "array([['run_tag'],\n",
       "       ['nevents'],\n",
       "       ['iseed'],\n",
       "       ['lpp1'],\n",
       "       ['lpp2'],\n",
       "       ['ebeam1'],\n",
       "       ['ebeam2']], dtype='<U7')"
      ]
     },
     "execution_count": 31,
     "metadata": {},
     "output_type": "execute_result"
    }
   ],
   "source": [
    "np.array(parameters).astype(str)"
   ]
  },
  {
   "cell_type": "code",
   "execution_count": 32,
   "id": "079a32de",
   "metadata": {},
   "outputs": [
    {
     "name": "stdout",
     "output_type": "stream",
     "text": [
      "['header_values']\n",
      "<HDF5 group \"/header_values\" (4 members)>\n",
      "[b'run_tag']\n",
      "7\n",
      "parameters ['run_tag', 'nevents', 'iseed', 'lpp1', 'lpp2', 'ebeam1', 'ebeam2']\n",
      "values ['tag_1', '1000', '66', '1', '1', '6500.0', '6500.0']\n",
      "comments ['name of the run', 'Number of unweighted events requested)', 'rnd seed (0=assigned automatically=default))', 'beam 1 type', 'beam 2 type', 'beam 1 total energy in GeV', 'beam 2 total energy in GeV']\n",
      "dtypes ['str', 'int', 'int', 'int', 'int', 'float', 'float']\n",
      "\n"
     ]
    },
    {
     "data": {
      "text/html": [
       "<div>\n",
       "<style scoped>\n",
       "    .dataframe tbody tr th:only-of-type {\n",
       "        vertical-align: middle;\n",
       "    }\n",
       "\n",
       "    .dataframe tbody tr th {\n",
       "        vertical-align: top;\n",
       "    }\n",
       "\n",
       "    .dataframe thead th {\n",
       "        text-align: right;\n",
       "    }\n",
       "</style>\n",
       "<table border=\"1\" class=\"dataframe\">\n",
       "  <thead>\n",
       "    <tr style=\"text-align: right;\">\n",
       "      <th></th>\n",
       "      <th>parameters</th>\n",
       "      <th>values</th>\n",
       "      <th>comments</th>\n",
       "      <th>dtypes</th>\n",
       "    </tr>\n",
       "  </thead>\n",
       "  <tbody>\n",
       "    <tr>\n",
       "      <th>0</th>\n",
       "      <td>run_tag</td>\n",
       "      <td>tag_1</td>\n",
       "      <td>name of the run</td>\n",
       "      <td>str</td>\n",
       "    </tr>\n",
       "    <tr>\n",
       "      <th>1</th>\n",
       "      <td>nevents</td>\n",
       "      <td>1000</td>\n",
       "      <td>Number of unweighted events requested)</td>\n",
       "      <td>int</td>\n",
       "    </tr>\n",
       "    <tr>\n",
       "      <th>2</th>\n",
       "      <td>iseed</td>\n",
       "      <td>66</td>\n",
       "      <td>rnd seed (0=assigned automatically=default))</td>\n",
       "      <td>int</td>\n",
       "    </tr>\n",
       "    <tr>\n",
       "      <th>3</th>\n",
       "      <td>lpp1</td>\n",
       "      <td>1</td>\n",
       "      <td>beam 1 type</td>\n",
       "      <td>int</td>\n",
       "    </tr>\n",
       "    <tr>\n",
       "      <th>4</th>\n",
       "      <td>lpp2</td>\n",
       "      <td>1</td>\n",
       "      <td>beam 2 type</td>\n",
       "      <td>int</td>\n",
       "    </tr>\n",
       "    <tr>\n",
       "      <th>5</th>\n",
       "      <td>ebeam1</td>\n",
       "      <td>6500.0</td>\n",
       "      <td>beam 1 total energy in GeV</td>\n",
       "      <td>float</td>\n",
       "    </tr>\n",
       "    <tr>\n",
       "      <th>6</th>\n",
       "      <td>ebeam2</td>\n",
       "      <td>6500.0</td>\n",
       "      <td>beam 2 total energy in GeV</td>\n",
       "      <td>float</td>\n",
       "    </tr>\n",
       "  </tbody>\n",
       "</table>\n",
       "</div>"
      ],
      "text/plain": [
       "  parameters  values                                      comments dtypes\n",
       "0    run_tag   tag_1                               name of the run    str\n",
       "1    nevents    1000        Number of unweighted events requested)    int\n",
       "2      iseed      66  rnd seed (0=assigned automatically=default))    int\n",
       "3       lpp1       1                                   beam 1 type    int\n",
       "4       lpp2       1                                   beam 2 type    int\n",
       "5     ebeam1  6500.0                    beam 1 total energy in GeV  float\n",
       "6     ebeam2  6500.0                    beam 2 total energy in GeV  float"
      ]
     },
     "execution_count": 32,
     "metadata": {},
     "output_type": "execute_result"
    }
   ],
   "source": [
    "# Build a dataframe\n",
    "\n",
    "#################\n",
    "\n",
    "d = {'parameters':[], 'values':[], 'comments':[], 'dtypes':[]}\n",
    "f = h5py.File(filename, 'r')\n",
    "\n",
    "print(list(f.keys()))\n",
    "print(f[header_group_name])\n",
    "\n",
    "group = f[header_group_name]\n",
    "comments = group['comments']\n",
    "parameters = group['parameters']\n",
    "values = group['values']\n",
    "datatypes = group['datatypes']\n",
    "\n",
    "print(parameters[0])\n",
    "\n",
    "nvals = len(comments)\n",
    "print(nvals)\n",
    "\n",
    "for i in range(nvals):\n",
    "    d['parameters'].append(parameters[i][0].decode())\n",
    "    d['values'].append(values[i][0].decode())\n",
    "    d['dtypes'].append(datatypes[i][0].decode())\n",
    "    d['comments'].append(comments[i][0].decode())\n",
    "\n",
    "for key in d.keys():\n",
    "    print(key, d[key])\n",
    "print()\n",
    "\n",
    "df = pd.DataFrame.from_dict(d)\n",
    "\n",
    "df"
   ]
  },
  {
   "cell_type": "code",
   "execution_count": null,
   "id": "d706ca8d",
   "metadata": {},
   "outputs": [],
   "source": []
  }
 ],
 "metadata": {
  "kernelspec": {
   "display_name": "Python 3 (ipykernel)",
   "language": "python",
   "name": "python3"
  },
  "language_info": {
   "codemirror_mode": {
    "name": "ipython",
    "version": 3
   },
   "file_extension": ".py",
   "mimetype": "text/x-python",
   "name": "python",
   "nbconvert_exporter": "python",
   "pygments_lexer": "ipython3",
   "version": "3.9.16"
  }
 },
 "nbformat": 4,
 "nbformat_minor": 5
}
