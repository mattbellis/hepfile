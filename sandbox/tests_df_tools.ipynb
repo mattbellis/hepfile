{
 "cells": [
  {
   "cell_type": "code",
   "execution_count": null,
   "id": "903ba88e-e61c-4689-bcdf-b8996fb436bb",
   "metadata": {},
   "outputs": [],
   "source": [
    "import hepfile as hf"
   ]
  },
  {
   "cell_type": "markdown",
   "id": "3209ed39-119a-4bc6-a26b-e445d5ddbabf",
   "metadata": {},
   "source": [
    "# Testing `hepfile_to_df`"
   ]
  },
  {
   "cell_type": "code",
   "execution_count": null,
   "id": "fb210d01-9a68-4703-b1f2-55f51cd016fd",
   "metadata": {},
   "outputs": [],
   "source": [
    "# load in a sample hepfile\n",
    "sample = 'test-csv.h5'\n",
    "data, bucket = hf.load(sample)"
   ]
  },
  {
   "cell_type": "code",
   "execution_count": null,
   "id": "0c9a2b29-8bed-48f0-8b12-7bd075937da4",
   "metadata": {},
   "outputs": [],
   "source": [
    "dfs = hf.df_tools.hepfile_to_df(data)\n",
    "dfs['Residences']"
   ]
  },
  {
   "cell_type": "code",
   "execution_count": null,
   "id": "e3e83b00-237a-466d-a42e-2634a36673cf",
   "metadata": {},
   "outputs": [],
   "source": [
    "dfs = hf.df_tools.hepfile_to_df(data, groups=['Residences', '_SINGLETONS_GROUP_'], events=0)\n",
    "dfs"
   ]
  },
  {
   "cell_type": "markdown",
   "id": "a884b23c-8799-4741-be1b-0cc304797e00",
   "metadata": {},
   "source": [
    "# Test `awkward_to_df`"
   ]
  },
  {
   "cell_type": "code",
   "execution_count": null,
   "id": "aa456bc6-2ed1-49ad-ac39-d5f1c642087d",
   "metadata": {},
   "outputs": [],
   "source": [
    "sample = 'test-csv.h5'\n",
    "awk, bucket = hf.load(sample, return_awkward=True)"
   ]
  },
  {
   "cell_type": "code",
   "execution_count": null,
   "id": "ec029f17-4fe1-404a-a34d-ea588c2922a2",
   "metadata": {},
   "outputs": [],
   "source": [
    "dfs2 = hf.df_tools.awkward_to_df(awk)\n",
    "dfs2['People']"
   ]
  },
  {
   "cell_type": "code",
   "execution_count": null,
   "id": "89ea16b6-4e19-441c-bd5e-8d157d668b86",
   "metadata": {},
   "outputs": [],
   "source": [
    "dfs2 = hf.df_tools.awkward_to_df(awk, groups='Residences', events=[0,1])\n",
    "dfs2"
   ]
  },
  {
   "cell_type": "markdown",
   "id": "6a87cfb1-746e-4608-8e15-b81f99387445",
   "metadata": {},
   "source": [
    "# test `df_to_hepfile`"
   ]
  },
  {
   "cell_type": "code",
   "execution_count": null,
   "id": "9ad008d7-e5dc-48ac-983d-6c8c3ffe2695",
   "metadata": {},
   "outputs": [],
   "source": [
    "dfs = hf.df_tools.hepfile_to_df(data)\n",
    "x = hf.df_tools.df_to_hepfile(dfs, write_hepfile=False)\n",
    "x"
   ]
  },
  {
   "cell_type": "code",
   "execution_count": null,
   "id": "2af5b592-dfe9-4df9-b4d1-109ec781343c",
   "metadata": {},
   "outputs": [],
   "source": [
    "y = hf.df_tools.groupDF_to_eventDF(dfs)\n",
    "y[0]"
   ]
  },
  {
   "cell_type": "code",
   "execution_count": null,
   "id": "95e4df8e-8425-4235-b2df-d9b6730ef4bf",
   "metadata": {},
   "outputs": [],
   "source": []
  }
 ],
 "metadata": {
  "kernelspec": {
   "display_name": "Python 3 (ipykernel)",
   "language": "python",
   "name": "python3"
  },
  "language_info": {
   "codemirror_mode": {
    "name": "ipython",
    "version": 3
   },
   "file_extension": ".py",
   "mimetype": "text/x-python",
   "name": "python",
   "nbconvert_exporter": "python",
   "pygments_lexer": "ipython3",
   "version": "3.9.12"
  }
 },
 "nbformat": 4,
 "nbformat_minor": 5
}
