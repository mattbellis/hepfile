{
 "cells": [
  {
   "cell_type": "code",
   "execution_count": null,
   "id": "575e2751",
   "metadata": {},
   "outputs": [],
   "source": [
    "import hepfile\n",
    "\n",
    "import uproot\n",
    "\n",
    "import awkward as ak\n",
    "\n",
    "import numpy as np\n",
    "\n",
    "import pandas as pd"
   ]
  },
  {
   "cell_type": "code",
   "execution_count": null,
   "id": "7c00fbdb",
   "metadata": {},
   "outputs": [],
   "source": [
    "print(uproot.__version__)\n",
    "print(ak.__version__)"
   ]
  },
  {
   "cell_type": "markdown",
   "id": "c0b87790",
   "metadata": {},
   "source": [
    "# Load in a hepfile as dictionaries"
   ]
  },
  {
   "cell_type": "code",
   "execution_count": null,
   "id": "87ddb2ac",
   "metadata": {},
   "outputs": [],
   "source": [
    "\n",
    "# This assumes that the file \"awkward_write...\" was created by running the\n",
    "# play_with_writing_awkward_to_hepfile.ipynb notebook\n",
    "\n",
    "data,bucket = hepfile.load('awkward_write_test_COMP_gzip_OPT_9.h5', verbose=False)\n"
   ]
  },
  {
   "cell_type": "markdown",
   "id": "60b990a9",
   "metadata": {},
   "source": [
    "# Convert the `data` dictionary to some dataframes"
   ]
  },
  {
   "cell_type": "code",
   "execution_count": null,
   "id": "89bf6619",
   "metadata": {},
   "outputs": [],
   "source": [
    "dfs = hepfile.df_tools.hepfile_to_df(data)"
   ]
  },
  {
   "cell_type": "code",
   "execution_count": null,
   "id": "ba8c1495",
   "metadata": {},
   "outputs": [],
   "source": [
    "dfs.keys()"
   ]
  },
  {
   "cell_type": "code",
   "execution_count": null,
   "id": "de4f57d4",
   "metadata": {},
   "outputs": [],
   "source": [
    "dfs['Muon']"
   ]
  },
  {
   "cell_type": "markdown",
   "id": "bbf3d6f3",
   "metadata": {},
   "source": [
    "Select out a single event"
   ]
  },
  {
   "cell_type": "code",
   "execution_count": null,
   "id": "65ee5d32",
   "metadata": {},
   "outputs": [],
   "source": [
    "dfs['Muon'][dfs['Muon']['event_num']==3]"
   ]
  },
  {
   "cell_type": "code",
   "execution_count": null,
   "id": "9c94d013",
   "metadata": {},
   "outputs": [],
   "source": [
    "dfs['Electron'][dfs['Electron']['event_num']==3]"
   ]
  },
  {
   "cell_type": "markdown",
   "id": "1ecc3bec",
   "metadata": {},
   "source": [
    "# Convert the `data` dictionary to just some events"
   ]
  },
  {
   "cell_type": "code",
   "execution_count": null,
   "id": "e80e106e",
   "metadata": {},
   "outputs": [],
   "source": [
    "dfs = hepfile.df_tools.hepfile_to_df(data, events=3)"
   ]
  },
  {
   "cell_type": "code",
   "execution_count": null,
   "id": "2c24e2fa",
   "metadata": {},
   "outputs": [],
   "source": [
    "dfs['Electron']"
   ]
  },
  {
   "cell_type": "code",
   "execution_count": null,
   "id": "4a4c1268",
   "metadata": {},
   "outputs": [],
   "source": [
    "dfs = hepfile.df_tools.hepfile_to_df(data, events=[3,20,56])\n",
    "dfs['Electron']"
   ]
  },
  {
   "cell_type": "code",
   "execution_count": null,
   "id": "8a35fb6e",
   "metadata": {},
   "outputs": [],
   "source": [
    "dfs['Muon']"
   ]
  },
  {
   "cell_type": "markdown",
   "id": "2878d95c",
   "metadata": {},
   "source": [
    "# Load in the `hepfile` as `awkward` arrays"
   ]
  },
  {
   "cell_type": "code",
   "execution_count": null,
   "id": "037eb189",
   "metadata": {},
   "outputs": [],
   "source": [
    "data,bucket = hepfile.load('awkward_write_test_COMP_gzip_OPT_9.h5', verbose=False)\n",
    "\n",
    "events = hepfile.awkward_tools.hepfile_to_awkward(data)"
   ]
  },
  {
   "cell_type": "code",
   "execution_count": null,
   "id": "ab6d586c",
   "metadata": {},
   "outputs": [],
   "source": [
    "events[0]"
   ]
  },
  {
   "cell_type": "code",
   "execution_count": null,
   "id": "0ccfae11",
   "metadata": {},
   "outputs": [],
   "source": [
    "events['Muon']"
   ]
  },
  {
   "cell_type": "code",
   "execution_count": null,
   "id": "3f5fee3a",
   "metadata": {},
   "outputs": [],
   "source": [
    "events['Muon']['pt']"
   ]
  },
  {
   "cell_type": "code",
   "execution_count": null,
   "id": "e629a878",
   "metadata": {},
   "outputs": [],
   "source": [
    "dfs = hepfile.df_tools.awkward_to_df(events, groups='Muon')\n"
   ]
  },
  {
   "cell_type": "code",
   "execution_count": null,
   "id": "8512c40a",
   "metadata": {
    "scrolled": false
   },
   "outputs": [],
   "source": [
    "import cProfile\n",
    "\n",
    "with cProfile.Profile() as p:\n",
    "    \n",
    "    dfs = hepfile.df_tools.awkward_to_df(events, groups='Muon')\n",
    "    \n",
    "    p.print_stats()"
   ]
  },
  {
   "cell_type": "code",
   "execution_count": null,
   "id": "3519d342",
   "metadata": {},
   "outputs": [],
   "source": [
    "dfs"
   ]
  },
  {
   "cell_type": "code",
   "execution_count": null,
   "id": "0f908ce7",
   "metadata": {},
   "outputs": [],
   "source": [
    "x = events.Muon\n",
    "\n",
    "type(x)"
   ]
  },
  {
   "cell_type": "code",
   "execution_count": null,
   "id": "8413541f",
   "metadata": {},
   "outputs": [],
   "source": [
    "group_df = ak.to_dataframe(events.Muon)"
   ]
  },
  {
   "cell_type": "code",
   "execution_count": null,
   "id": "7243d2fa",
   "metadata": {},
   "outputs": [],
   "source": [
    "len(x[x.fields[0]])"
   ]
  },
  {
   "cell_type": "code",
   "execution_count": null,
   "id": "6bb9c86c",
   "metadata": {},
   "outputs": [],
   "source": []
  }
 ],
 "metadata": {
  "kernelspec": {
   "display_name": "Python 3 (ipykernel)",
   "language": "python",
   "name": "python3"
  },
  "language_info": {
   "codemirror_mode": {
    "name": "ipython",
    "version": 3
   },
   "file_extension": ".py",
   "mimetype": "text/x-python",
   "name": "python",
   "nbconvert_exporter": "python",
   "pygments_lexer": "ipython3",
   "version": "3.9.12"
  }
 },
 "nbformat": 4,
 "nbformat_minor": 5
}
