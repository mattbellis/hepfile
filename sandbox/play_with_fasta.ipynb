{
 "cells": [
  {
   "cell_type": "markdown",
   "id": "6279494b-0a8b-40f9-a940-97db0e8a3a0f",
   "metadata": {},
   "source": [
    "# Play with FASTA Files and Hepfiles"
   ]
  },
  {
   "cell_type": "code",
   "execution_count": 1,
   "id": "e5e86404-8f40-48ea-b657-0ad75353408b",
   "metadata": {},
   "outputs": [],
   "source": [
    "import hepfile as hf"
   ]
  },
  {
   "cell_type": "code",
   "execution_count": 2,
   "id": "953b6dba-fa12-4249-86bf-4225ee93025b",
   "metadata": {},
   "outputs": [],
   "source": [
    "def read_fasta(filepath:str) -> list[str]:\n",
    "    '''\n",
    "    Function to read in a fasta file and return a list of the nucleotide sequences\n",
    "    \n",
    "    Args:\n",
    "        filepath [str]: path to the fasta file\n",
    "        \n",
    "    Returns:\n",
    "        list of nucleotide sequences to be parsed\n",
    "    '''\n",
    "    \n",
    "    with open(filepath, 'r') as f:\n",
    "        lines = [line.replace('\\n', '').strip() for line in f.readlines()]\n",
    "        idxs = [idx for idx, line in enumerate(lines) if line[0] == '>']\n",
    "                \n",
    "    split_fasta = []\n",
    "    for ii in range(len(idxs)):\n",
    "        idx1 = idxs[ii]\n",
    "        if ii == len(idxs)-1:\n",
    "            idx2 = -1\n",
    "        else:\n",
    "            idx2 = idxs[ii+1]\n",
    "        \n",
    "        split_fasta.append(lines[idx1:idx2])\n",
    "        \n",
    "    return split_fasta\n",
    "\n",
    "def parse_sequence(seq:str) -> dict:\n",
    "    '''\n",
    "    Parses a sequence and returns a dictionary of the information\n",
    "    \n",
    "    Args:\n",
    "        seq (str): sequence in fasta format\n",
    "    \n",
    "    Returns:\n",
    "        dictionary of sequence\n",
    "    '''\n",
    "    \n",
    "    # first deal with the metadata\n",
    "    meta = seq[0].split()\n",
    "    name = meta[0][1:]\n",
    "    descr = meta[1:]\n",
    "    \n",
    "    # then concatenate the rest of the data\n",
    "    data = ''.join(seq[1:])\n",
    "    \n",
    "    # pack this all into a dictionary\n",
    "    all_data = {'name': name, 'meta':descr, 'data':list(data)}\n",
    "    return all_data"
   ]
  },
  {
   "cell_type": "code",
   "execution_count": 3,
   "id": "9bd52602-57e7-49c8-a2ee-389f76ef24ad",
   "metadata": {},
   "outputs": [],
   "source": [
    "filepath = '/home/nfranz/research/hepfile/docs/example_nb/test.fasta'\n",
    "split = read_fasta(filepath)"
   ]
  },
  {
   "cell_type": "markdown",
   "id": "a668d0f4-8378-48a3-bf59-74ec808fc51b",
   "metadata": {
    "tags": []
   },
   "source": [
    "## Entering the data as singletons"
   ]
  },
  {
   "cell_type": "code",
   "execution_count": 4,
   "id": "5a90f17e-457b-457b-9ff5-1a7504381771",
   "metadata": {},
   "outputs": [
    {
     "name": "stdout",
     "output_type": "stream",
     "text": [
      "[{'name': 'crab_anapl', 'meta': ['ALPHA', 'CRYSTALLIN', 'B', 'CHAIN', '(ALPHA(B)-CRYSTALLIN).'], 'data': ['M', 'D', 'I', 'T', 'I', 'H', 'N', 'P', 'L', 'I', 'R', 'R', 'P', 'L', 'F', 'S', 'W', 'L', 'A', 'P', 'S', 'R', 'I', 'F', 'D', 'Q', 'I', 'F', 'G', 'E', 'H', 'L', 'Q', 'E', 'S', 'E', 'L', 'L', 'P', 'A', 'S', 'P', 'S', 'L', 'S', 'P', 'F', 'L', 'M', 'R', 'S', 'P', 'I', 'F', 'R', 'M', 'P', 'S', 'W', 'L', 'E', 'T', 'G', 'L', 'S', 'E', 'M', 'R', 'L', 'E', 'K', 'D', 'K', 'F', 'S', 'V', 'N', 'L', 'D', 'V', 'K', 'H', 'F', 'S', 'P', 'E', 'E', 'L', 'K', 'V', 'K', 'V', 'L', 'G', 'D', 'M', 'V', 'E', 'I', 'H', 'G', 'K', 'H', 'E', 'E', 'R', 'Q', 'D', 'E', 'H', 'G', 'F', 'I', 'A', 'R', 'E', 'F', 'N', 'R', 'K', 'Y', 'R', 'I', 'P', 'A', 'D', 'V', 'D', 'P', 'L', 'T', 'I', 'T', 'S', 'S', 'L', 'S', 'L', 'D', 'G', 'V', 'L', 'T', 'V', 'S', 'A', 'P', 'R', 'K', 'Q', 'S', 'D', 'V', 'P', 'E', 'R', 'S', 'I', 'P', 'I', 'T', 'R', 'E', 'E', 'K', 'P', 'A', 'I', 'A', 'G', 'A', 'Q', 'R', 'K']}, {'name': 'crab_bovin', 'meta': ['ALPHA', 'CRYSTALLIN', 'B', 'CHAIN', '(ALPHA(B)-CRYSTALLIN).'], 'data': ['M', 'D', 'I', 'A', 'I', 'H', 'H', 'P', 'W', 'I', 'R', 'R', 'P', 'F', 'F', 'P', 'F', 'H', 'S', 'P', 'S', 'R', 'L', 'F', 'D', 'Q', 'F', 'F', 'G', 'E', 'H', 'L', 'L', 'E', 'S', 'D', 'L', 'F', 'P', 'A', 'S', 'T', 'S', 'L', 'S', 'P', 'F', 'Y', 'L', 'R', 'P', 'P', 'S', 'F', 'L', 'R', 'A', 'P', 'S', 'W', 'I', 'D', 'T', 'G', 'L', 'S', 'E', 'M', 'R', 'L', 'E', 'K', 'D', 'R', 'F', 'S', 'V', 'N', 'L', 'D', 'V', 'K', 'H', 'F', 'S', 'P', 'E', 'E', 'L', 'K', 'V', 'K', 'V', 'L', 'G', 'D', 'V', 'I', 'E', 'V', 'H', 'G', 'K', 'H', 'E', 'E', 'R', 'Q', 'D', 'E', 'H', 'G', 'F', 'I', 'S', 'R', 'E', 'F', 'H', 'R', 'K', 'Y', 'R', 'I', 'P', 'A', 'D', 'V', 'D', 'P', 'L', 'A', 'I', 'T', 'S', 'S', 'L', 'S', 'S', 'D', 'G', 'V', 'L', 'T', 'V', 'N', 'G', 'P', 'R', 'K', 'Q', 'A', 'S', 'G', 'P', 'E', 'R', 'T', 'I', 'P', 'I', 'T', 'R', 'E', 'E', 'K', 'P', 'A', 'V', 'T', 'A', 'A', 'P', 'K', 'K']}, {'name': 'crab_chick', 'meta': ['ALPHA', 'CRYSTALLIN', 'B', 'CHAIN', '(ALPHA(B)-CRYSTALLIN).'], 'data': ['M', 'D', 'I', 'T', 'I', 'H', 'N', 'P', 'L', 'V', 'R', 'R', 'P', 'L', 'F', 'S', 'W', 'L', 'T', 'P', 'S', 'R', 'I', 'F', 'D', 'Q', 'I', 'F', 'G', 'E', 'H', 'L', 'Q', 'E', 'S', 'E', 'L', 'L', 'P', 'T', 'S', 'P', 'S', 'L', 'S', 'P', 'F', 'L', 'M', 'R', 'S', 'P', 'F', 'F', 'R', 'M', 'P', 'S', 'W', 'L', 'E', 'T', 'G', 'L', 'S', 'E', 'M', 'R', 'L', 'E', 'K', 'D', 'K', 'F', 'S', 'V', 'N', 'L', 'D', 'V', 'K', 'H', 'F', 'S', 'P', 'E', 'E', 'L', 'K', 'V', 'K', 'V', 'L', 'G', 'D', 'M', 'I', 'E', 'I', 'H', 'G', 'K', 'H', 'E', 'E', 'R', 'Q', 'D', 'E', 'H', 'G', 'F', 'I', 'A', 'R', 'E', 'F', 'S', 'R', 'K', 'Y', 'R', 'I', 'P', 'A', 'D', 'V', 'D', 'P', 'L', 'T', 'I', 'T', 'S', 'S', 'L', 'S', 'L', 'D', 'G', 'V', 'L', 'T', 'V', 'S', 'A', 'P', 'R', 'K', 'Q', 'S', 'D', 'V', 'P', 'E', 'R', 'S', 'I', 'P', 'I', 'T', 'R', 'E', 'E', 'K', 'P', 'A', 'I', 'A', 'G', 'S', 'Q', 'R', 'K']}, {'name': 'crab_human', 'meta': ['ALPHA', 'CRYSTALLIN', 'B', 'CHAIN', '(ALPHA(B)-CRYSTALLIN).'], 'data': ['M', 'D', 'I', 'A', 'I', 'H', 'H', 'P', 'W', 'I', 'R', 'R', 'P', 'F', 'F', 'P', 'F', 'H', 'S', 'P', 'S', 'R', 'L', 'F', 'D', 'Q', 'F', 'F', 'G', 'E', 'H', 'L', 'L', 'E', 'S', 'D', 'L', 'F', 'P', 'T', 'S', 'T', 'S', 'L', 'S', 'P', 'F', 'Y', 'L', 'R', 'P', 'P', 'S', 'F', 'L', 'R', 'A', 'P', 'S', 'W', 'F', 'D', 'T', 'G', 'L', 'S', 'E', 'M', 'R', 'L', 'E', 'K', 'D', 'R', 'F', 'S', 'V', 'N', 'L', 'D', 'V', 'K', 'H', 'F', 'S', 'P', 'E', 'E', 'L', 'K', 'V', 'K', 'V', 'L', 'G', 'D', 'V', 'I', 'E', 'V', 'H', 'G', 'K', 'H', 'E', 'E', 'R', 'Q', 'D', 'E', 'H', 'G', 'F', 'I', 'S', 'R', 'E', 'F', 'H', 'R', 'K', 'Y', 'R', 'I', 'P', 'A', 'D', 'V', 'D', 'P', 'L', 'T', 'I', 'T', 'S', 'S', 'L', 'S', 'S', 'D', 'G', 'V', 'L', 'T', 'V', 'N', 'G', 'P', 'R', 'K', 'Q', 'V', 'S', 'G', 'P', 'E', 'R', 'T', 'I', 'P', 'I', 'T', 'R', 'E', 'E', 'K', 'P', 'A', 'V', 'T', 'A', 'A', 'P', 'K', 'K']}, {'name': 'crab_mesau', 'meta': ['ALPHA', 'CRYSTALLIN', 'B', 'CHAIN', '(ALPHA(B)-CRYSTALLIN).'], 'data': ['M', 'D', 'I', 'A', 'I', 'H', 'H', 'P', 'W', 'I', 'R', 'R', 'P', 'F', 'F', 'P', 'F', 'H', 'S', 'P', 'S', 'R', 'L', 'F', 'D', 'Q', 'F', 'F', 'G', 'E', 'H', 'L', 'L', 'E', 'S', 'D', 'L', 'F', 'S', 'T', 'A', 'T', 'S', 'L', 'S', 'P', 'F', 'Y', 'L', 'R', 'P', 'P', 'S', 'F', 'L', 'R', 'A', 'P', 'S', 'W', 'I', 'D', 'T', 'G', 'L', 'S', 'E', 'M', 'R', 'M', 'E', 'K', 'D', 'R', 'F', 'S', 'V', 'N', 'L', 'D', 'V', 'K', 'H', 'F', 'S', 'P', 'E', 'E', 'L', 'K', 'V', 'K', 'V', 'L', 'G', 'D', 'V', 'V', 'E', 'V', 'H', 'G', 'K', 'H', 'E', 'E', 'R', 'Q', 'D', 'E', 'H', 'G', 'F', 'I', 'S', 'R', 'E', 'F', 'H', 'R', 'K', 'Y', 'R', 'I', 'P', 'A', 'D', 'V', 'D', 'P', 'L', 'T', 'I', 'T', 'S', 'S', 'L', 'S', 'S', 'D', 'G', 'V', 'L', 'T', 'V', 'N', 'G', 'P', 'R', 'K', 'Q', 'A', 'S', 'G', 'P', 'E', 'R', 'T', 'I', 'P', 'I', 'T', 'R', 'E', 'E', 'K', 'P', 'A', 'V', 'T', 'A', 'A', 'P', 'K', 'K']}, {'name': 'crab_mouse', 'meta': ['ALPHA', 'CRYSTALLIN', 'B', 'CHAIN', '(ALPHA(B)-CRYSTALLIN)', '(P23).'], 'data': ['M', 'D', 'I', 'A', 'I', 'H', 'H', 'P', 'W', 'I', 'R', 'R', 'P', 'F', 'F', 'P', 'F', 'H', 'S', 'P', 'S', 'R', 'L', 'F', 'D', 'Q', 'F', 'F', 'G', 'E', 'H', 'L', 'L', 'E', 'S', 'D', 'L', 'F', 'S', 'T', 'A', 'T', 'S', 'L', 'S', 'P', 'F', 'Y', 'L', 'R', 'P', 'P', 'S', 'F', 'L', 'R', 'A', 'P', 'S', 'W', 'I', 'D', 'T', 'G', 'L', 'S', 'E', 'M', 'R', 'L', 'E', 'K', 'D', 'R', 'F', 'S', 'V', 'N', 'L', 'D', 'V', 'K', 'H', 'F', 'S', 'P', 'E', 'E', 'L', 'K', 'V', 'K', 'V', 'L', 'G', 'D', 'V', 'I', 'E', 'V', 'H', 'G', 'K', 'H', 'E', 'E', 'R', 'Q', 'D', 'E', 'H', 'G', 'F', 'I', 'S', 'R', 'E', 'F', 'H', 'R', 'K', 'Y', 'R', 'I', 'P', 'A', 'D', 'V', 'D', 'P', 'L', 'A', 'I', 'T', 'S', 'S', 'L', 'S', 'S', 'D', 'G', 'V', 'L', 'T', 'V', 'N', 'G', 'P', 'R', 'K', 'Q', 'V', 'S', 'G', 'P', 'E', 'R', 'T', 'I', 'P', 'I', 'T', 'R', 'E', 'E', 'K', 'P', 'A', 'V', 'A', 'A', 'A', 'P', 'K', 'K']}, {'name': 'crab_rabit', 'meta': ['ALPHA', 'CRYSTALLIN', 'B', 'CHAIN', '(ALPHA(B)-CRYSTALLIN).'], 'data': ['M', 'D', 'I', 'A', 'I', 'H', 'H', 'P', 'W', 'I', 'R', 'R', 'P', 'F', 'F', 'P', 'F', 'H', 'S', 'P', 'S', 'R', 'L', 'F', 'D', 'Q', 'F', 'F', 'G', 'E', 'H', 'L', 'L', 'E', 'S', 'D', 'L', 'F', 'P', 'T', 'S', 'T', 'S', 'L', 'S', 'P', 'F', 'Y', 'L', 'R', 'P', 'P', 'S', 'F', 'L', 'R', 'A', 'P', 'S', 'W', 'I', 'D', 'T', 'G', 'L', 'S', 'E', 'M', 'R', 'L', 'E', 'K', 'D', 'R', 'F', 'S', 'V', 'N', 'L', 'D', 'V', 'K', 'H', 'F', 'S', 'P', 'E', 'E', 'L', 'K', 'V', 'K', 'V', 'L', 'G', 'D', 'V', 'I', 'E', 'V', 'H', 'G', 'K', 'H', 'E', 'E', 'R', 'Q', 'D', 'E', 'H', 'G', 'F', 'I', 'S', 'R', 'E', 'F', 'H', 'R', 'K', 'Y', 'R', 'I', 'P', 'A', 'D', 'V', 'D', 'P', 'L', 'T', 'I', 'T', 'S', 'S', 'L', 'S', 'S', 'D', 'G', 'V', 'L', 'T', 'V', 'N', 'G', 'P', 'R', 'K', 'Q', 'A', 'P', 'G', 'P', 'E', 'R', 'T', 'I', 'P', 'I', 'T', 'R', 'E', 'E', 'K', 'P', 'A', 'V', 'T', 'A', 'A', 'P', 'K', 'K']}, {'name': 'crab_rat', 'meta': ['ALPHA', 'CRYSTALLIN', 'B', 'CHAIN', '(ALPHA(B)-CRYSTALLIN).'], 'data': ['M', 'D', 'I', 'A', 'I', 'H', 'H', 'P', 'W', 'I', 'R', 'R', 'P', 'F', 'F', 'P', 'F', 'H', 'S', 'P', 'S', 'R', 'L', 'F', 'D', 'Q', 'F', 'F', 'G', 'E', 'H', 'L', 'L', 'E', 'S', 'D', 'L', 'F', 'S', 'T', 'A', 'T', 'S', 'L', 'S', 'P', 'F', 'Y', 'L', 'R', 'P', 'P', 'S', 'F', 'L', 'R', 'A', 'P', 'S', 'W', 'I', 'D', 'T', 'G', 'L', 'S', 'E', 'M', 'R', 'M', 'E', 'K', 'D', 'R', 'F', 'S', 'V', 'N', 'L', 'D', 'V', 'K', 'H', 'F', 'S', 'P', 'E', 'E', 'L', 'K', 'V', 'K', 'V', 'L', 'G', 'D', 'V', 'I', 'E', 'V', 'H', 'G', 'K', 'H', 'E', 'E', 'R', 'Q', 'D', 'E', 'H', 'G', 'F', 'I', 'S', 'R', 'E', 'F', 'H', 'R', 'K', 'Y', 'R', 'I', 'P', 'A', 'D', 'V', 'D', 'P', 'L', 'T', 'I', 'T', 'S', 'S', 'L', 'S', 'S', 'D', 'G', 'V', 'L', 'T', 'V', 'N', 'G', 'P', 'R', 'K', 'Q', 'A', 'S', 'G', 'P', 'E', 'R', 'T', 'I', 'P', 'I', 'T', 'R', 'E', 'E', 'K', 'P', 'A', 'V', 'T', 'A', 'A', 'P', 'K', 'K']}, {'name': 'crab_squac', 'meta': ['ALPHA', 'CRYSTALLIN', 'B', 'CHAIN', '(ALPHA(B)-CRYSTALLIN).'], 'data': ['M', 'D', 'I', 'A', 'I', 'Q', 'H', 'P', 'W', 'L', 'R', 'R', 'P', 'L', 'F', 'P', 'S', 'S', 'I', 'F', 'P', 'S', 'R', 'I', 'F', 'D', 'Q', 'N', 'F', 'G', 'E', 'H', 'F', 'D', 'P', 'D', 'L', 'F', 'P', 'S', 'F', 'S', 'S', 'M', 'L', 'S', 'P', 'F', 'Y', 'W', 'R', 'M', 'G', 'A', 'P', 'M', 'A', 'R', 'M', 'P', 'S', 'W', 'A', 'Q', 'T', 'G', 'L', 'S', 'E', 'L', 'R', 'L', 'D', 'K', 'D', 'K', 'F', 'A', 'I', 'H', 'L', 'D', 'V', 'K', 'H', 'F', 'T', 'P', 'E', 'E', 'L', 'R', 'V', 'K', 'I', 'L', 'G', 'D', 'F', 'I', 'E', 'V', 'Q', 'A', 'Q', 'H', 'E', 'E', 'R', 'Q', 'D', 'E', 'H', 'G', 'Y', 'V', 'S', 'R', 'E', 'F', 'H', 'R', 'K', 'Y', 'K', 'V', 'P', 'A', 'G', 'V', 'D', 'P', 'L', 'V', 'I', 'T', 'C', 'S', 'L', 'S', 'A', 'D', 'G', 'V', 'L', 'T', 'I', 'T', 'G', 'P']}]\n"
     ]
    }
   ],
   "source": [
    "data = []\n",
    "for seq in split:\n",
    "    data.append(parse_sequence(seq))\n",
    "    \n",
    "print(data)"
   ]
  },
  {
   "cell_type": "code",
   "execution_count": 5,
   "id": "5b5ea07b-6dca-42f3-af0c-50621d329e57",
   "metadata": {},
   "outputs": [
    {
     "name": "stdout",
     "output_type": "stream",
     "text": [
      "Adding dataset \u001b[1mname\u001b[0m to the dictionary as a SINGLETON.\n",
      "Adding dataset \u001b[1mmeta\u001b[0m to the dictionary as a SINGLETON.\n",
      "Adding dataset \u001b[1mdata\u001b[0m to the dictionary as a SINGLETON.\n"
     ]
    },
    {
     "name": "stderr",
     "output_type": "stream",
     "text": [
      "/home/nfranz/research/hepfile/src/hepfile/awkward_tools.py:93: UserWarning: You set write_hepfile to False but provided an output file path. This output file path will not be used!\n",
      "  warnings.warn('You set write_hepfile to False but provided an output file path. This output file path will not be used!')\n"
     ]
    }
   ],
   "source": [
    "awk = hf.dict_tools.dictlike_to_hepfile(data, 'out-fasta.h5', write_hepfile=False)"
   ]
  },
  {
   "cell_type": "markdown",
   "id": "e03e8a66-1359-4370-afdc-bc7c2b4e3ee0",
   "metadata": {
    "tags": []
   },
   "source": [
    "## Examples using the hepfile structure"
   ]
  },
  {
   "cell_type": "code",
   "execution_count": 6,
   "id": "050e4be7-64b1-4280-a9be-bf08bee477d0",
   "metadata": {},
   "outputs": [
    {
     "data": {
      "text/html": [
       "<pre>[&#x27;crab_anapl&#x27;,\n",
       " &#x27;crab_bovin&#x27;,\n",
       " &#x27;crab_chick&#x27;,\n",
       " &#x27;crab_human&#x27;,\n",
       " &#x27;crab_mesau&#x27;,\n",
       " &#x27;crab_mouse&#x27;,\n",
       " &#x27;crab_rabit&#x27;,\n",
       " &#x27;crab_rat&#x27;,\n",
       " &#x27;crab_squac&#x27;]\n",
       "----------------\n",
       "type: 9 * string</pre>"
      ],
      "text/plain": [
       "<Array ['crab_anapl', 'crab_bovin', ..., 'crab_squac'] type='9 * string'>"
      ]
     },
     "execution_count": 6,
     "metadata": {},
     "output_type": "execute_result"
    }
   ],
   "source": [
    "# get all of the data names\n",
    "awk.name"
   ]
  },
  {
   "cell_type": "code",
   "execution_count": 7,
   "id": "53e35e97-30c4-4812-b303-430fa3b2640f",
   "metadata": {},
   "outputs": [
    {
     "data": {
      "text/html": [
       "<pre>[&#x27;M&#x27;,\n",
       " &#x27;D&#x27;,\n",
       " &#x27;I&#x27;,\n",
       " &#x27;T&#x27;,\n",
       " &#x27;I&#x27;,\n",
       " &#x27;H&#x27;,\n",
       " &#x27;N&#x27;,\n",
       " &#x27;P&#x27;,\n",
       " &#x27;L&#x27;,\n",
       " &#x27;I&#x27;,\n",
       " ...,\n",
       " &#x27;D&#x27;,\n",
       " &#x27;G&#x27;,\n",
       " &#x27;V&#x27;,\n",
       " &#x27;L&#x27;,\n",
       " &#x27;T&#x27;,\n",
       " &#x27;I&#x27;,\n",
       " &#x27;T&#x27;,\n",
       " &#x27;G&#x27;,\n",
       " &#x27;P&#x27;]\n",
       "-------------------\n",
       "type: 1548 * string</pre>"
      ],
      "text/plain": [
       "<Array ['M', 'D', 'I', 'T', 'I', ..., 'I', 'T', 'G', 'P'] type='1548 * string'>"
      ]
     },
     "execution_count": 7,
     "metadata": {},
     "output_type": "execute_result"
    }
   ],
   "source": [
    "# get all of the data flattened\n",
    "import awkward as ak\n",
    "ak.flatten(awk.data)"
   ]
  },
  {
   "cell_type": "code",
   "execution_count": 8,
   "id": "a0cd0fad-3f78-4f21-8f55-1a8f5211b928",
   "metadata": {},
   "outputs": [
    {
     "name": "stdout",
     "output_type": "stream",
     "text": [
      "[{name: 'crab_anapl', meta: ['ALPHA', ...], data: ['M', ...]}]\n"
     ]
    }
   ],
   "source": [
    "# get information corresponding to 'crab_anapl'\n",
    "anapl = awk[awk.name == 'crab_anapl']\n",
    "anapl.show()"
   ]
  },
  {
   "cell_type": "code",
   "execution_count": 9,
   "id": "7bc012f2-b103-45a4-8253-82ca57bf1790",
   "metadata": {},
   "outputs": [
    {
     "data": {
      "text/html": [
       "<pre>[[&#x27;M&#x27;, &#x27;D&#x27;, &#x27;I&#x27;, &#x27;T&#x27;, &#x27;I&#x27;, &#x27;H&#x27;, &#x27;N&#x27;, ..., &#x27;I&#x27;, &#x27;A&#x27;, &#x27;G&#x27;, &#x27;A&#x27;, &#x27;Q&#x27;, &#x27;R&#x27;, &#x27;K&#x27;]]\n",
       "-----------------------------------------------------------------------------\n",
       "type: 1 * var * string</pre>"
      ],
      "text/plain": [
       "<Array [['M', 'D', 'I', 'T', ..., 'A', 'Q', 'R', 'K']] type='1 * var * string'>"
      ]
     },
     "execution_count": 9,
     "metadata": {},
     "output_type": "execute_result"
    }
   ],
   "source": [
    "# get just the crab_anapl data\n",
    "anapl.data"
   ]
  },
  {
   "cell_type": "code",
   "execution_count": 10,
   "id": "f6a22320-ca4f-4f30-9ba1-f8ded3d54225",
   "metadata": {},
   "outputs": [
    {
     "data": {
      "text/html": [
       "<pre>[[&#x27;ALPHA&#x27;, &#x27;CRYSTALLIN&#x27;, &#x27;B&#x27;, &#x27;CHAIN&#x27;, &#x27;(ALPHA(B)-CRYSTALLIN).&#x27;]]\n",
       "-----------------------------------------------------------------\n",
       "type: 1 * var * string</pre>"
      ],
      "text/plain": [
       "<Array [['ALPHA', ..., '(ALPHA(B)-CRYSTALLIN).']] type='1 * var * string'>"
      ]
     },
     "execution_count": 10,
     "metadata": {},
     "output_type": "execute_result"
    }
   ],
   "source": [
    "# get just the crab_anapl metadata\n",
    "anapl.meta"
   ]
  },
  {
   "cell_type": "markdown",
   "id": "fb920e06-feb3-4abd-9429-95acdb0ce2a3",
   "metadata": {},
   "source": [
    "## Entering the data using groups and datasets"
   ]
  },
  {
   "cell_type": "code",
   "execution_count": 11,
   "id": "2e0eae36-6957-45e1-8f8f-870d611caaae",
   "metadata": {
    "tags": []
   },
   "outputs": [
    {
     "name": "stdout",
     "output_type": "stream",
     "text": [
      "Adding group \u001b[1mcrab_anapl\u001b[0m\n",
      "Adding a counter for \u001b[1mcrab_anapl\u001b[0m as \u001b[1mn_crab_anapl\u001b[0m\n",
      "Adding dataset \u001b[1msequence\u001b[0m to the dictionary under group \u001b[1mcrab_anapl\u001b[0m.\n",
      "Adding group \u001b[1mcrab_bovin\u001b[0m\n",
      "Adding a counter for \u001b[1mcrab_bovin\u001b[0m as \u001b[1mn_crab_bovin\u001b[0m\n",
      "Adding dataset \u001b[1msequence\u001b[0m to the dictionary under group \u001b[1mcrab_bovin\u001b[0m.\n",
      "Adding group \u001b[1mcrab_chick\u001b[0m\n",
      "Adding a counter for \u001b[1mcrab_chick\u001b[0m as \u001b[1mn_crab_chick\u001b[0m\n",
      "Adding dataset \u001b[1msequence\u001b[0m to the dictionary under group \u001b[1mcrab_chick\u001b[0m.\n",
      "Adding group \u001b[1mcrab_human\u001b[0m\n",
      "Adding a counter for \u001b[1mcrab_human\u001b[0m as \u001b[1mn_crab_human\u001b[0m\n",
      "Adding dataset \u001b[1msequence\u001b[0m to the dictionary under group \u001b[1mcrab_human\u001b[0m.\n",
      "Adding group \u001b[1mcrab_mesau\u001b[0m\n",
      "Adding a counter for \u001b[1mcrab_mesau\u001b[0m as \u001b[1mn_crab_mesau\u001b[0m\n",
      "Adding dataset \u001b[1msequence\u001b[0m to the dictionary under group \u001b[1mcrab_mesau\u001b[0m.\n",
      "Adding group \u001b[1mcrab_mouse\u001b[0m\n",
      "Adding a counter for \u001b[1mcrab_mouse\u001b[0m as \u001b[1mn_crab_mouse\u001b[0m\n",
      "Adding dataset \u001b[1msequence\u001b[0m to the dictionary under group \u001b[1mcrab_mouse\u001b[0m.\n",
      "Adding group \u001b[1mcrab_rabit\u001b[0m\n",
      "Adding a counter for \u001b[1mcrab_rabit\u001b[0m as \u001b[1mn_crab_rabit\u001b[0m\n",
      "Adding dataset \u001b[1msequence\u001b[0m to the dictionary under group \u001b[1mcrab_rabit\u001b[0m.\n",
      "Adding group \u001b[1mcrab_rat\u001b[0m\n",
      "Adding a counter for \u001b[1mcrab_rat\u001b[0m as \u001b[1mn_crab_rat\u001b[0m\n",
      "Adding dataset \u001b[1msequence\u001b[0m to the dictionary under group \u001b[1mcrab_rat\u001b[0m.\n",
      "Adding group \u001b[1mcrab_squac\u001b[0m\n",
      "Adding a counter for \u001b[1mcrab_squac\u001b[0m as \u001b[1mn_crab_squac\u001b[0m\n",
      "Adding dataset \u001b[1msequence\u001b[0m to the dictionary under group \u001b[1mcrab_squac\u001b[0m.\n"
     ]
    }
   ],
   "source": [
    "hepfile = hf.initialize()\n",
    "\n",
    "for_hepfile = []\n",
    "for seq in split:\n",
    "    for_hepfile.append(parse_sequence(seq))\n",
    "\n",
    "for d in for_hepfile:\n",
    "    \n",
    "    group = d['name']\n",
    "    \n",
    "    # create the group and add metadata for that group\n",
    "    hf.create_group(hepfile, group, counter=f'n_{group}')\n",
    "    hf.add_group_meta(hepfile, group, d['meta'])\n",
    "    \n",
    "    # create a dataset underneath that group\n",
    "    hf.create_dataset(hepfile, 'sequence', group=group, dtype=str)\n",
    "    \n",
    "bucket = hf.create_single_bucket(hepfile)\n",
    "for group in hepfile['_GROUPS_'].keys():\n",
    "    if group == '_SINGLETONS_GROUP_': continue\n",
    "    bucket[f'{group}/sequence'] = d['data']\n",
    "\n",
    "return_value = hf.pack(hepfile,bucket,STRICT_CHECKING=True,verbose=False)  "
   ]
  },
  {
   "cell_type": "code",
   "execution_count": 12,
   "id": "eb61d88c-aad3-43a7-a157-c12167e78e68",
   "metadata": {},
   "outputs": [
    {
     "name": "stdout",
     "output_type": "stream",
     "text": [
      "_SINGLETONS_GROUP_/COUNTER       has 1            entries\n",
      "crab_anapl/n_crab_anapl          has 1            entries\n",
      "crab_bovin/n_crab_bovin          has 1            entries\n",
      "crab_chick/n_crab_chick          has 1            entries\n",
      "crab_human/n_crab_human          has 1            entries\n",
      "crab_mesau/n_crab_mesau          has 1            entries\n",
      "crab_mouse/n_crab_mouse          has 1            entries\n",
      "crab_rabit/n_crab_rabit          has 1            entries\n",
      "crab_rat/n_crab_rat              has 1            entries\n",
      "crab_squac/n_crab_squac          has 1            entries\n",
      "Metadata added\n"
     ]
    },
    {
     "data": {
      "text/plain": [
       "<Closed HDF5 file>"
      ]
     },
     "execution_count": 12,
     "metadata": {},
     "output_type": "execute_result"
    }
   ],
   "source": [
    "filepath = 'test-fasta-out.h5'\n",
    "hf.write_to_file(filepath, hepfile)"
   ]
  },
  {
   "cell_type": "code",
   "execution_count": 13,
   "id": "f2d2edb7-2e95-4612-b703-2b95c6d04ecc",
   "metadata": {},
   "outputs": [
    {
     "data": {
      "text/plain": [
       "{'_SINGLETONS_GROUP_': ['COUNTER'],\n",
       " 'crab_anapl': ['n_crab_anapl', 'sequence'],\n",
       " 'crab_bovin': ['n_crab_bovin', 'sequence'],\n",
       " 'crab_chick': ['n_crab_chick', 'sequence'],\n",
       " 'crab_human': ['n_crab_human', 'sequence'],\n",
       " 'crab_mesau': ['n_crab_mesau', 'sequence'],\n",
       " 'crab_mouse': ['n_crab_mouse', 'sequence'],\n",
       " 'crab_rabit': ['n_crab_rabit', 'sequence'],\n",
       " 'crab_rat': ['n_crab_rat', 'sequence'],\n",
       " 'crab_squac': ['n_crab_squac', 'sequence']}"
      ]
     },
     "execution_count": 13,
     "metadata": {},
     "output_type": "execute_result"
    }
   ],
   "source": [
    "hepfile['_GROUPS_']"
   ]
  },
  {
   "cell_type": "code",
   "execution_count": 14,
   "id": "9345e52b-36aa-430a-b164-38b7aa1647f0",
   "metadata": {},
   "outputs": [
    {
     "name": "stdout",
     "output_type": "stream",
     "text": [
      "Building the indices...\n",
      "\n",
      "Built the indices!\n"
     ]
    },
    {
     "ename": "KeyError",
     "evalue": "\"Can't open attribute (can't locate attribute: 'crab_anapl')\"",
     "output_type": "error",
     "traceback": [
      "\u001b[0;31m---------------------------------------------------------------------------\u001b[0m",
      "\u001b[0;31mKeyError\u001b[0m                                  Traceback (most recent call last)",
      "Cell \u001b[0;32mIn[14], line 1\u001b[0m\n\u001b[0;32m----> 1\u001b[0m data, meta, bucket \u001b[38;5;241m=\u001b[39m \u001b[43mhf\u001b[49m\u001b[38;5;241;43m.\u001b[39;49m\u001b[43mload\u001b[49m\u001b[43m(\u001b[49m\u001b[43mfilepath\u001b[49m\u001b[43m)\u001b[49m\n",
      "File \u001b[0;32m~/research/hepfile/src/hepfile/read.py:286\u001b[0m, in \u001b[0;36mload\u001b[0;34m(filename, verbose, desired_groups, subset, return_awkward)\u001b[0m\n\u001b[1;32m    284\u001b[0m         \u001b[38;5;28;01melse\u001b[39;00m: \u001b[38;5;66;03m# if it is a group instead, write the metadata for that group\u001b[39;00m\n\u001b[1;32m    285\u001b[0m             \u001b[38;5;28;01mif\u001b[39;00m name \u001b[38;5;129;01mnot\u001b[39;00m \u001b[38;5;129;01min\u001b[39;00m constants\u001b[38;5;241m.\u001b[39mprotected_names:\n\u001b[0;32m--> 286\u001b[0m                 data[\u001b[38;5;124m'\u001b[39m\u001b[38;5;124m_META_\u001b[39m\u001b[38;5;124m'\u001b[39m][name] \u001b[38;5;241m=\u001b[39m \u001b[43mdataset\u001b[49m\u001b[38;5;241;43m.\u001b[39;49m\u001b[43mattrs\u001b[49m\u001b[43m[\u001b[49m\u001b[43mname\u001b[49m\u001b[43m]\u001b[49m\n\u001b[1;32m    288\u001b[0m \u001b[38;5;28mprint\u001b[39m(\u001b[38;5;124m\"\u001b[39m\u001b[38;5;124mData is read in and input file is closed.\u001b[39m\u001b[38;5;124m\"\u001b[39m)\n\u001b[1;32m    290\u001b[0m \u001b[38;5;66;03m# edit data so it matches the format of the data dict that was saved to the file\u001b[39;00m\n\u001b[1;32m    291\u001b[0m \u001b[38;5;66;03m# this makes it so that data can be directly passed to write_to_file\u001b[39;00m\n\u001b[1;32m    292\u001b[0m \u001b[38;5;66;03m# 1) add back in _GROUP_\u001b[39;00m\n",
      "File \u001b[0;32mh5py/_objects.pyx:54\u001b[0m, in \u001b[0;36mh5py._objects.with_phil.wrapper\u001b[0;34m()\u001b[0m\n",
      "File \u001b[0;32mh5py/_objects.pyx:55\u001b[0m, in \u001b[0;36mh5py._objects.with_phil.wrapper\u001b[0;34m()\u001b[0m\n",
      "File \u001b[0;32m~/anaconda3/lib/python3.9/site-packages/h5py/_hl/attrs.py:56\u001b[0m, in \u001b[0;36mAttributeManager.__getitem__\u001b[0;34m(self, name)\u001b[0m\n\u001b[1;32m     52\u001b[0m \u001b[38;5;129m@with_phil\u001b[39m\n\u001b[1;32m     53\u001b[0m \u001b[38;5;28;01mdef\u001b[39;00m \u001b[38;5;21m__getitem__\u001b[39m(\u001b[38;5;28mself\u001b[39m, name):\n\u001b[1;32m     54\u001b[0m     \u001b[38;5;124;03m\"\"\" Read the value of an attribute.\u001b[39;00m\n\u001b[1;32m     55\u001b[0m \u001b[38;5;124;03m    \"\"\"\u001b[39;00m\n\u001b[0;32m---> 56\u001b[0m     attr \u001b[38;5;241m=\u001b[39m \u001b[43mh5a\u001b[49m\u001b[38;5;241;43m.\u001b[39;49m\u001b[43mopen\u001b[49m\u001b[43m(\u001b[49m\u001b[38;5;28;43mself\u001b[39;49m\u001b[38;5;241;43m.\u001b[39;49m\u001b[43m_id\u001b[49m\u001b[43m,\u001b[49m\u001b[43m \u001b[49m\u001b[38;5;28;43mself\u001b[39;49m\u001b[38;5;241;43m.\u001b[39;49m\u001b[43m_e\u001b[49m\u001b[43m(\u001b[49m\u001b[43mname\u001b[49m\u001b[43m)\u001b[49m\u001b[43m)\u001b[49m\n\u001b[1;32m     58\u001b[0m     \u001b[38;5;28;01mif\u001b[39;00m is_empty_dataspace(attr):\n\u001b[1;32m     59\u001b[0m         \u001b[38;5;28;01mreturn\u001b[39;00m Empty(attr\u001b[38;5;241m.\u001b[39mdtype)\n",
      "File \u001b[0;32mh5py/_objects.pyx:54\u001b[0m, in \u001b[0;36mh5py._objects.with_phil.wrapper\u001b[0;34m()\u001b[0m\n",
      "File \u001b[0;32mh5py/_objects.pyx:55\u001b[0m, in \u001b[0;36mh5py._objects.with_phil.wrapper\u001b[0;34m()\u001b[0m\n",
      "File \u001b[0;32mh5py/h5a.pyx:80\u001b[0m, in \u001b[0;36mh5py.h5a.open\u001b[0;34m()\u001b[0m\n",
      "\u001b[0;31mKeyError\u001b[0m: \"Can't open attribute (can't locate attribute: 'crab_anapl')\""
     ]
    }
   ],
   "source": [
    "data, meta, bucket = hf.load(filepath)"
   ]
  },
  {
   "cell_type": "code",
   "execution_count": null,
   "id": "03c06a7f-55e5-4b0c-8969-91feea234f99",
   "metadata": {
    "tags": []
   },
   "outputs": [],
   "source": [
    "data"
   ]
  },
  {
   "cell_type": "code",
   "execution_count": null,
   "id": "4f617d62-df1b-4ccf-a668-92f4e80dea54",
   "metadata": {},
   "outputs": [],
   "source": [
    "meta"
   ]
  },
  {
   "cell_type": "code",
   "execution_count": null,
   "id": "d4960db3-d48e-41a0-8b3d-97e428d52a44",
   "metadata": {},
   "outputs": [],
   "source": []
  }
 ],
 "metadata": {
  "kernelspec": {
   "display_name": "Python 3 (ipykernel)",
   "language": "python",
   "name": "python3"
  },
  "language_info": {
   "codemirror_mode": {
    "name": "ipython",
    "version": 3
   },
   "file_extension": ".py",
   "mimetype": "text/x-python",
   "name": "python",
   "nbconvert_exporter": "python",
   "pygments_lexer": "ipython3",
   "version": "3.9.16"
  }
 },
 "nbformat": 4,
 "nbformat_minor": 5
}
