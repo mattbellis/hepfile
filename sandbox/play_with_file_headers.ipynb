{
 "cells": [
  {
   "cell_type": "code",
   "execution_count": 1,
   "id": "165a532a",
   "metadata": {},
   "outputs": [],
   "source": [
    "%load_ext autoreload\n",
    "%autoreload 2\n",
    "\n",
    "import h5py as h5\n",
    "import hepfile as hf\n",
    "from hepfile import dict_tools, awkward_tools\n",
    "\n",
    "import numpy as np\n",
    "import os"
   ]
  },
  {
   "cell_type": "markdown",
   "id": "c790d1a0",
   "metadata": {},
   "source": [
    "# Make the file and add some data"
   ]
  },
  {
   "cell_type": "code",
   "execution_count": 2,
   "id": "6e56a524",
   "metadata": {},
   "outputs": [
    {
     "name": "stdout",
     "output_type": "stream",
     "text": [
      "Writing the hdf5 file from the awkward array...\n",
      "Metadata added\n",
      "[{jet: {px: [1, ..., 3], py: [...]}, muons: {px: ..., ...}, ...},\n",
      " {jet: {px: [3, ..., 7], py: [...]}, muons: {px: ..., ...}, ...}]\n"
     ]
    }
   ],
   "source": [
    "# Write some data to a file\n",
    "\n",
    "event1 = {\n",
    "    'jet': {\n",
    "        'px': [1,2,3],\n",
    "        'py': [1,2,3]\n",
    "     },\n",
    "    'muons': {\n",
    "        'px': [1,2,3],\n",
    "        'py': [1,2,3]\n",
    "     },\n",
    "    'nParticles': 3\n",
    "    }\n",
    "\n",
    "event2 = {\n",
    "    'jet': {\n",
    "        'px': [3,4,6,7],\n",
    "        'py': [3,4,6,7]\n",
    "     },\n",
    "    'muons': {\n",
    "        'px': [3,4,6,7],\n",
    "        'py': [3,4,6,7],\n",
    "        },\n",
    "    'nParticles': 4\n",
    "    }\n",
    "\n",
    "to_write_to_hepfile = [event1, event2]\n",
    "\n",
    "out_filename = 'output_from_dict.hdf5'\n",
    "data = dict_tools.dictlike_to_hepfile(to_write_to_hepfile, out_filename)\n",
    "data.show()\n",
    "\n"
   ]
  },
  {
   "cell_type": "code",
   "execution_count": 3,
   "id": "5da264ef",
   "metadata": {},
   "outputs": [
    {
     "name": "stdout",
     "output_type": "stream",
     "text": [
      "Building the indices...\n",
      "\n",
      "Built the indices!\n",
      "Data is read in and input file is closed.\n"
     ]
    }
   ],
   "source": [
    "d = awkward_tools.awkward_to_hepfile(data, write_hepfile=False)\n",
    "ds = set(d.keys())\n",
    "\n",
    "x, _ = hf.load(out_filename)\n",
    "xs = set(x.keys())"
   ]
  },
  {
   "cell_type": "code",
   "execution_count": 4,
   "id": "4aab5d19",
   "metadata": {},
   "outputs": [
    {
     "name": "stdout",
     "output_type": "stream",
     "text": [
      "Writing nParticles to file\n",
      "\tWriting to file...\n",
      "Writing to file nParticles as type int64\n",
      "Writing jet/njet to file\n",
      "\tWriting to file...\n",
      "Writing to file jet/njet as type int64\n",
      "Writing jet/px to file\n",
      "\tWriting to file...\n",
      "Writing to file jet/px as type int64\n",
      "Writing jet/py to file\n",
      "\tWriting to file...\n",
      "Writing to file jet/py as type int64\n",
      "Writing muons/nmuons to file\n",
      "\tWriting to file...\n",
      "Writing to file muons/nmuons as type int64\n",
      "Writing muons/px to file\n",
      "\tWriting to file...\n",
      "Writing to file muons/px as type int64\n",
      "Writing muons/py to file\n",
      "\tWriting to file...\n",
      "Writing to file muons/py as type int64\n",
      "_SINGLETONS_GROUP_/COUNTER       has 2            entries\n",
      "jet/njet                         has 2            entries\n",
      "muons/nmuons                     has 2            entries\n",
      "Metadata added\n"
     ]
    },
    {
     "data": {
      "text/plain": [
       "<Closed HDF5 file>"
      ]
     },
     "execution_count": 4,
     "metadata": {},
     "output_type": "execute_result"
    }
   ],
   "source": [
    "filename = 'test2.h5'\n",
    "\n",
    "if os.path.exists(filename):\n",
    "    os.remove(filename)\n",
    "else:\n",
    "    print(\"The file does not exist\")\n",
    "\n",
    "hf.write_to_file(filename, x, verbose=True)"
   ]
  },
  {
   "cell_type": "markdown",
   "id": "95796029",
   "metadata": {},
   "source": [
    "# Add a header"
   ]
  },
  {
   "cell_type": "code",
   "execution_count": 5,
   "id": "7c5ac270",
   "metadata": {},
   "outputs": [
    {
     "name": "stdout",
     "output_type": "stream",
     "text": [
      "Header data added\n"
     ]
    },
    {
     "data": {
      "text/plain": [
       "<Closed HDF5 file>"
      ]
     },
     "execution_count": 5,
     "metadata": {},
     "output_type": "execute_result"
    }
   ],
   "source": [
    "header_dict = {}\n",
    "header_dict['text'] = []\n",
    "header_dict['text'].append('These are some words for the header')\n",
    "header_dict['text'].append('These are more words')\n",
    "header_dict['text'].append('These are very important words')\n",
    "\n",
    "mydict = header_dict\n",
    "\n",
    "hdoutfile = h5.File(filename,'a')\n",
    "\n",
    "hf.write_file_header(filename, header_dict)"
   ]
  },
  {
   "cell_type": "markdown",
   "id": "565c0f8c",
   "metadata": {},
   "source": [
    "# Read the header two different ways"
   ]
  },
  {
   "cell_type": "code",
   "execution_count": 6,
   "id": "e6768f9f",
   "metadata": {},
   "outputs": [
    {
     "name": "stdout",
     "output_type": "stream",
     "text": [
      "text ['These are some words for the header' 'These are more words'\n",
      " 'These are very important words']\n"
     ]
    },
    {
     "data": {
      "text/html": [
       "<div>\n",
       "<style scoped>\n",
       "    .dataframe tbody tr th:only-of-type {\n",
       "        vertical-align: middle;\n",
       "    }\n",
       "\n",
       "    .dataframe tbody tr th {\n",
       "        vertical-align: top;\n",
       "    }\n",
       "\n",
       "    .dataframe thead th {\n",
       "        text-align: right;\n",
       "    }\n",
       "</style>\n",
       "<table border=\"1\" class=\"dataframe\">\n",
       "  <thead>\n",
       "    <tr style=\"text-align: right;\">\n",
       "      <th></th>\n",
       "      <th>text</th>\n",
       "    </tr>\n",
       "  </thead>\n",
       "  <tbody>\n",
       "    <tr>\n",
       "      <th>0</th>\n",
       "      <td>These are some words for the header</td>\n",
       "    </tr>\n",
       "    <tr>\n",
       "      <th>1</th>\n",
       "      <td>These are more words</td>\n",
       "    </tr>\n",
       "    <tr>\n",
       "      <th>2</th>\n",
       "      <td>These are very important words</td>\n",
       "    </tr>\n",
       "  </tbody>\n",
       "</table>\n",
       "</div>"
      ],
      "text/plain": [
       "                                  text\n",
       "0  These are some words for the header\n",
       "1                 These are more words\n",
       "2       These are very important words"
      ]
     },
     "execution_count": 6,
     "metadata": {},
     "output_type": "execute_result"
    }
   ],
   "source": [
    "header = hf.get_file_header(filename)\n",
    "\n",
    "# Print the header \n",
    "for key in header.keys():\n",
    "    print(key,header[key])\n",
    "\n",
    "\n",
    "# Now do it for a dataframe    \n",
    "header = hf.get_file_header(filename, return_type='df')\n",
    "\n",
    "header\n"
   ]
  },
  {
   "cell_type": "code",
   "execution_count": 7,
   "id": "b82bc802-d963-45be-a0dc-6872b00f8dfb",
   "metadata": {},
   "outputs": [
    {
     "name": "stdout",
     "output_type": "stream",
     "text": [
      "################################################################\n",
      "###                      Hepfile Header                      ###\n",
      "################################################################\n",
      "################################################################\n",
      "text:\t\t\tThese are some words for the header\n",
      "\t\t\tThese are more words\n",
      "\t\t\tThese are very important words\n",
      "\n"
     ]
    }
   ],
   "source": [
    "s = hf.print_file_header(filename)"
   ]
  },
  {
   "cell_type": "markdown",
   "id": "bccc9999",
   "metadata": {},
   "source": [
    "# Add a header with a different structure"
   ]
  },
  {
   "cell_type": "code",
   "execution_count": 8,
   "id": "0af2c30e",
   "metadata": {},
   "outputs": [
    {
     "name": "stdout",
     "output_type": "stream",
     "text": [
      "Header data added\n"
     ]
    },
    {
     "data": {
      "text/plain": [
       "<Closed HDF5 file>"
      ]
     },
     "execution_count": 8,
     "metadata": {},
     "output_type": "execute_result"
    }
   ],
   "source": [
    "# Or a different approach\n",
    "\n",
    "header_dict = {}\n",
    "header_dict['field'] = ['Name', 'beam energy', 'Date', 'beam type']\n",
    "header_dict['values'] = ['Oppenheimer', 13, '1/5/2023', 'protons']\n",
    "header_dict['comments'] = ['Name of person creating this file', 'Beam energy in TeV', 'Date of data collection', 'Particle used in beams']\n",
    "header_dict['dtype'] = ['str', 'float', 'str', 'str']\n",
    "\n",
    "hdoutfile = h5.File(filename,'a')\n",
    "\n",
    "hf.write_file_header(filename, header_dict)"
   ]
  },
  {
   "cell_type": "markdown",
   "id": "1a873c80",
   "metadata": {},
   "source": [
    "# Read that header"
   ]
  },
  {
   "cell_type": "code",
   "execution_count": 9,
   "id": "e5165863",
   "metadata": {},
   "outputs": [
    {
     "name": "stdout",
     "output_type": "stream",
     "text": [
      "comments ['Name of person creating this file' 'Beam energy in TeV'\n",
      " 'Date of data collection' 'Particle used in beams']\n",
      "dtype ['str' 'float' 'str' 'str']\n",
      "field ['Name' 'beam energy' 'Date' 'beam type']\n",
      "values ['Oppenheimer' '13' '1/5/2023' 'protons']\n"
     ]
    },
    {
     "data": {
      "text/html": [
       "<div>\n",
       "<style scoped>\n",
       "    .dataframe tbody tr th:only-of-type {\n",
       "        vertical-align: middle;\n",
       "    }\n",
       "\n",
       "    .dataframe tbody tr th {\n",
       "        vertical-align: top;\n",
       "    }\n",
       "\n",
       "    .dataframe thead th {\n",
       "        text-align: right;\n",
       "    }\n",
       "</style>\n",
       "<table border=\"1\" class=\"dataframe\">\n",
       "  <thead>\n",
       "    <tr style=\"text-align: right;\">\n",
       "      <th></th>\n",
       "      <th>comments</th>\n",
       "      <th>dtype</th>\n",
       "      <th>field</th>\n",
       "      <th>values</th>\n",
       "    </tr>\n",
       "  </thead>\n",
       "  <tbody>\n",
       "    <tr>\n",
       "      <th>0</th>\n",
       "      <td>Name of person creating this file</td>\n",
       "      <td>str</td>\n",
       "      <td>Name</td>\n",
       "      <td>Oppenheimer</td>\n",
       "    </tr>\n",
       "    <tr>\n",
       "      <th>1</th>\n",
       "      <td>Beam energy in TeV</td>\n",
       "      <td>float</td>\n",
       "      <td>beam energy</td>\n",
       "      <td>13</td>\n",
       "    </tr>\n",
       "    <tr>\n",
       "      <th>2</th>\n",
       "      <td>Date of data collection</td>\n",
       "      <td>str</td>\n",
       "      <td>Date</td>\n",
       "      <td>1/5/2023</td>\n",
       "    </tr>\n",
       "    <tr>\n",
       "      <th>3</th>\n",
       "      <td>Particle used in beams</td>\n",
       "      <td>str</td>\n",
       "      <td>beam type</td>\n",
       "      <td>protons</td>\n",
       "    </tr>\n",
       "  </tbody>\n",
       "</table>\n",
       "</div>"
      ],
      "text/plain": [
       "                            comments  dtype        field       values\n",
       "0  Name of person creating this file    str         Name  Oppenheimer\n",
       "1                 Beam energy in TeV  float  beam energy           13\n",
       "2            Date of data collection    str         Date     1/5/2023\n",
       "3             Particle used in beams    str    beam type      protons"
      ]
     },
     "execution_count": 9,
     "metadata": {},
     "output_type": "execute_result"
    }
   ],
   "source": [
    "header = hf.get_file_header(filename)\n",
    "\n",
    "# Print the header \n",
    "for key in header.keys():\n",
    "    print(key,header[key])\n",
    "\n",
    "\n",
    "# Now do it for a dataframe    \n",
    "header = hf.get_file_header(filename, return_type='df')\n",
    "\n",
    "header\n"
   ]
  },
  {
   "cell_type": "code",
   "execution_count": 10,
   "id": "6e08a82a",
   "metadata": {},
   "outputs": [
    {
     "name": "stdout",
     "output_type": "stream",
     "text": [
      "################################################################\n",
      "###                      Hepfile Header                      ###\n",
      "################################################################\n",
      "################################################################\n",
      "comments:\t\t\tName of person creating this file\n",
      "\t\t\tBeam energy in TeV\n",
      "\t\t\tDate of data collection\n",
      "\t\t\tParticle used in beams\n",
      "dtype:\t\t\tstr\n",
      "\t\t\tfloat\n",
      "\t\t\tstr\n",
      "\t\t\tstr\n",
      "field:\t\t\tName\n",
      "\t\t\tbeam energy\n",
      "\t\t\tDate\n",
      "\t\t\tbeam type\n",
      "values:\t\t\tOppenheimer\n",
      "\t\t\t13\n",
      "\t\t\t1/5/2023\n",
      "\t\t\tprotons\n",
      "\n"
     ]
    }
   ],
   "source": [
    "s = hf.print_file_header(filename)"
   ]
  },
  {
   "cell_type": "code",
   "execution_count": 11,
   "id": "77bf4bfc-91a5-4be3-a72e-50b617f05e61",
   "metadata": {},
   "outputs": [
    {
     "data": {
      "text/plain": [
       "'################################################################\\n###                      Hepfile Header                      ###\\n################################################################\\n################################################################\\ncomments:\\t\\t\\tName of person creating this file\\n\\t\\t\\tBeam energy in TeV\\n\\t\\t\\tDate of data collection\\n\\t\\t\\tParticle used in beams\\ndtype:\\t\\t\\tstr\\n\\t\\t\\tfloat\\n\\t\\t\\tstr\\n\\t\\t\\tstr\\nfield:\\t\\t\\tName\\n\\t\\t\\tbeam energy\\n\\t\\t\\tDate\\n\\t\\t\\tbeam type\\nvalues:\\t\\t\\tOppenheimer\\n\\t\\t\\t13\\n\\t\\t\\t1/5/2023\\n\\t\\t\\tprotons\\n'"
      ]
     },
     "execution_count": 11,
     "metadata": {},
     "output_type": "execute_result"
    }
   ],
   "source": [
    "s"
   ]
  },
  {
   "cell_type": "code",
   "execution_count": null,
   "id": "236ff3e2-1a74-459e-a3a7-7f1adb3c7597",
   "metadata": {},
   "outputs": [],
   "source": []
  }
 ],
 "metadata": {
  "kernelspec": {
   "display_name": "Python 3 (ipykernel)",
   "language": "python",
   "name": "python3"
  },
  "language_info": {
   "codemirror_mode": {
    "name": "ipython",
    "version": 3
   },
   "file_extension": ".py",
   "mimetype": "text/x-python",
   "name": "python",
   "nbconvert_exporter": "python",
   "pygments_lexer": "ipython3",
   "version": "3.9.16"
  }
 },
 "nbformat": 4,
 "nbformat_minor": 5
}
