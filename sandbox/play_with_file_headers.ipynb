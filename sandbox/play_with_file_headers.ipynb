{
 "cells": [
  {
   "cell_type": "code",
   "execution_count": null,
   "id": "165a532a",
   "metadata": {},
   "outputs": [],
   "source": [
    "%load_ext autoreload\n",
    "%autoreload 2\n",
    "\n",
    "import h5py as h5\n",
    "import hepfile as hf\n",
    "from hepfile import dict_tools, awkward_tools\n",
    "\n",
    "import numpy as np\n",
    "import os"
   ]
  },
  {
   "cell_type": "markdown",
   "id": "c790d1a0",
   "metadata": {},
   "source": [
    "# Make the file and add some data"
   ]
  },
  {
   "cell_type": "code",
   "execution_count": null,
   "id": "6e56a524",
   "metadata": {},
   "outputs": [],
   "source": [
    "# Write some data to a file\n",
    "\n",
    "event1 = {\n",
    "    'jet': {\n",
    "        'px': [1,2,3],\n",
    "        'py': [1,2,3]\n",
    "     },\n",
    "    'muons': {\n",
    "        'px': [1,2,3],\n",
    "        'py': [1,2,3]\n",
    "     },\n",
    "    'nParticles': 3\n",
    "    }\n",
    "\n",
    "event2 = {\n",
    "    'jet': {\n",
    "        'px': [3,4,6,7],\n",
    "        'py': [3,4,6,7]\n",
    "     },\n",
    "    'muons': {\n",
    "        'px': [3,4,6,7],\n",
    "        'py': [3,4,6,7],\n",
    "        },\n",
    "    'nParticles': 4\n",
    "    }\n",
    "\n",
    "to_write_to_hepfile = [event1, event2]\n",
    "\n",
    "out_filename = 'output_from_dict.hdf5'\n",
    "data = dict_tools.dictlike_to_hepfile(to_write_to_hepfile, out_filename)\n",
    "data.show()\n",
    "\n"
   ]
  },
  {
   "cell_type": "code",
   "execution_count": null,
   "id": "5da264ef",
   "metadata": {},
   "outputs": [],
   "source": [
    "d = awkward_tools.awkward_to_hepfile(data, write_hepfile=False)\n",
    "ds = set(d.keys())\n",
    "\n",
    "x, _ = hf.load(out_filename)\n",
    "xs = set(x.keys())"
   ]
  },
  {
   "cell_type": "code",
   "execution_count": null,
   "id": "4aab5d19",
   "metadata": {},
   "outputs": [],
   "source": [
    "filename = 'test2.h5'\n",
    "\n",
    "if os.path.exists(filename):\n",
    "    os.remove(filename)\n",
    "else:\n",
    "    print(\"The file does not exist\")\n",
    "\n",
    "hf.write_to_file(filename, x, verbose=True)"
   ]
  },
  {
   "cell_type": "markdown",
   "id": "95796029",
   "metadata": {},
   "source": [
    "# Add a header"
   ]
  },
  {
   "cell_type": "code",
   "execution_count": null,
   "id": "7c5ac270",
   "metadata": {},
   "outputs": [],
   "source": [
    "header_dict = {}\n",
    "header_dict['text'] = []\n",
    "header_dict['text'].append('These are some words for the header')\n",
    "header_dict['text'].append('These are more words')\n",
    "header_dict['text'].append('These are very important words')\n",
    "\n",
    "mydict = header_dict\n",
    "\n",
    "hdoutfile = h5.File(filename,'a')\n",
    "\n",
    "hf.write_file_header(filename, header_dict)"
   ]
  },
  {
   "cell_type": "markdown",
   "id": "565c0f8c",
   "metadata": {},
   "source": [
    "# Read the header two different ways"
   ]
  },
  {
   "cell_type": "code",
   "execution_count": null,
   "id": "e6768f9f",
   "metadata": {},
   "outputs": [],
   "source": [
    "header = hf.get_file_header(filename)\n",
    "\n",
    "# Print the header \n",
    "for key in header.keys():\n",
    "    print(key,header[key])\n",
    "\n",
    "\n",
    "# Now do it for a dataframe    \n",
    "header = hf.get_file_header(filename, return_type='df')\n",
    "\n",
    "header\n"
   ]
  },
  {
   "cell_type": "markdown",
   "id": "bccc9999",
   "metadata": {},
   "source": [
    "# Add a header with a different structure"
   ]
  },
  {
   "cell_type": "code",
   "execution_count": null,
   "id": "0af2c30e",
   "metadata": {},
   "outputs": [],
   "source": [
    "# Or a different approach\n",
    "\n",
    "header_dict = {}\n",
    "header_dict['field'] = ['Name', 'beam energy', 'Date', 'beam type']\n",
    "header_dict['values'] = ['Oppenheimer', 13, '1/5/2023', 'protons']\n",
    "header_dict['comments'] = ['Name of person creating this file', 'Beam energy in TeV', 'Date of data collection', 'Particle used in beams']\n",
    "header_dict['dtype'] = ['str', 'float', 'str', 'str']\n",
    "\n",
    "hdoutfile = h5.File(filename,'a')\n",
    "\n",
    "hf.write_file_header(filename, header_dict)"
   ]
  },
  {
   "cell_type": "markdown",
   "id": "1a873c80",
   "metadata": {},
   "source": [
    "# Read that header"
   ]
  },
  {
   "cell_type": "code",
   "execution_count": null,
   "id": "e5165863",
   "metadata": {},
   "outputs": [],
   "source": [
    "header = hf.get_file_header(filename)\n",
    "\n",
    "# Print the header \n",
    "for key in header.keys():\n",
    "    print(key,header[key])\n",
    "\n",
    "\n",
    "# Now do it for a dataframe    \n",
    "header = hf.get_file_header(filename, return_type='df')\n",
    "\n",
    "header\n"
   ]
  },
  {
   "cell_type": "code",
   "execution_count": null,
   "id": "6e08a82a",
   "metadata": {},
   "outputs": [],
   "source": []
  }
 ],
 "metadata": {
  "kernelspec": {
   "display_name": "Python 3 (ipykernel)",
   "language": "python",
   "name": "python3"
  },
  "language_info": {
   "codemirror_mode": {
    "name": "ipython",
    "version": 3
   },
   "file_extension": ".py",
   "mimetype": "text/x-python",
   "name": "python",
   "nbconvert_exporter": "python",
   "pygments_lexer": "ipython3",
   "version": "3.9.12"
  }
 },
 "nbformat": 4,
 "nbformat_minor": 5
}
