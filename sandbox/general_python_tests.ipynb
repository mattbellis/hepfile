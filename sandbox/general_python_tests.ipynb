{
 "cells": [
  {
   "cell_type": "markdown",
   "id": "df2b949c",
   "metadata": {},
   "source": [
    "# Making copies of dictionaries"
   ]
  },
  {
   "cell_type": "code",
   "execution_count": null,
   "id": "606cf559",
   "metadata": {},
   "outputs": [],
   "source": [
    "import time"
   ]
  },
  {
   "cell_type": "code",
   "execution_count": null,
   "id": "8f3ed941",
   "metadata": {},
   "outputs": [],
   "source": [
    "d = {}\n",
    "\n",
    "nkeys = 100000\n",
    "\n",
    "for i in range(nkeys):\n",
    "    key = f\"{i:06d}\"\n",
    "    d[key] = []\n",
    "    \n",
    "d"
   ]
  },
  {
   "cell_type": "code",
   "execution_count": null,
   "id": "3eade03b",
   "metadata": {},
   "outputs": [],
   "source": [
    "dnew = {}\n",
    "\n",
    "for key in d.keys():\n",
    "    if key not in [dnew.keys()]:\n",
    "        dnew[key] = []"
   ]
  },
  {
   "cell_type": "code",
   "execution_count": null,
   "id": "dc13ff7d",
   "metadata": {},
   "outputs": [],
   "source": []
  }
 ],
 "metadata": {
  "kernelspec": {
   "display_name": "Python 3 (ipykernel)",
   "language": "python",
   "name": "python3"
  },
  "language_info": {
   "codemirror_mode": {
    "name": "ipython",
    "version": 3
   },
   "file_extension": ".py",
   "mimetype": "text/x-python",
   "name": "python",
   "nbconvert_exporter": "python",
   "pygments_lexer": "ipython3",
   "version": "3.9.17"
  }
 },
 "nbformat": 4,
 "nbformat_minor": 5
}
