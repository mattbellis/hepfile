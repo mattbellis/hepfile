{
 "cells": [
  {
   "cell_type": "markdown",
   "id": "272c2415-ca0b-4857-bf94-fe20fe745a40",
   "metadata": {},
   "source": [
    "# do some timing tests with a large input dictionary of events"
   ]
  },
  {
   "cell_type": "code",
   "execution_count": 1,
   "id": "20f96d36-cbe8-4c81-aa2a-79e86ba79abb",
   "metadata": {},
   "outputs": [],
   "source": [
    "import numpy as np\n",
    "import hepfile as hf\n",
    "import cProfile"
   ]
  },
  {
   "cell_type": "code",
   "execution_count": 2,
   "id": "605747d4-dad3-4e73-9df5-ba40f57695f5",
   "metadata": {},
   "outputs": [],
   "source": [
    "# first construct a HUGE dictionary with a lot of keys and a lot of entries\n",
    "\n",
    "nKeys = 10 #int(1e6)\n",
    "nDatasets = 100 # number of datasets in each group\n",
    "nEvents = 50\n",
    "\n",
    "lengths = np.array([100, int(1e3), int(1e4), 10])\n",
    "\n",
    "dictlist = []\n",
    "\n",
    "for _ in range(nEvents):\n",
    "    \n",
    "    d = {}\n",
    "    \n",
    "    for i in range(nKeys):\n",
    "        key = f'key{i}'\n",
    "        subdict = {}\n",
    "        # add datasets with random number of values\n",
    "        num = np.random.choice(lengths)\n",
    "        for j in range(nDatasets):\n",
    "            subkey = f'{key}_{j}'\n",
    "            subdict[subkey] = np.random.randn(num)\n",
    "        \n",
    "        # add singletons\n",
    "        for j in range(10):\n",
    "            s = f'singleton_{j}'\n",
    "            d[s] = np.random.randn()\n",
    "            \n",
    "        d[key] = subdict\n",
    "        \n",
    "    dictlist.append(d)"
   ]
  },
  {
   "cell_type": "code",
   "execution_count": 3,
   "id": "3b1ff9e6-4874-4b7d-8974-8459b62eed7e",
   "metadata": {},
   "outputs": [
    {
     "name": "stdout",
     "output_type": "stream",
     "text": [
      "         1082184 function calls (980084 primitive calls) in 10.962 seconds\n",
      "\n",
      "   Ordered by: standard name\n",
      "\n",
      "   ncalls  tottime  percall  cumtime  percall filename:lineno(function)\n",
      "    51050    0.022    0.000    6.110    0.000 <__array_function__ internals>:177(append)\n",
      "    51050    0.028    0.000    2.995    0.000 <__array_function__ internals>:177(concatenate)\n",
      "    51050    0.017    0.000    3.009    0.000 <__array_function__ internals>:177(ravel)\n",
      "        1    0.000    0.000    0.000    0.000 cProfile.py:41(print_stats)\n",
      "        1    0.000    0.000    0.000    0.000 cProfile.py:51(create_stats)\n",
      "     1010    0.000    0.000    0.000    0.000 dict_tools.py:201(_get_dtype)\n",
      "        1    0.000    0.000   10.961   10.961 dict_tools.py:25(dictlike_to_hepfile)\n",
      "        1    3.872    3.872   10.961   10.961 dict_tools.py:84(_classic)\n",
      "    51050    0.005    0.000    0.005    0.000 fromnumeric.py:1751(_ravel_dispatcher)\n",
      "    51050    0.030    0.000    2.973    0.000 fromnumeric.py:1755(ravel)\n",
      "    51050    0.006    0.000    0.006    0.000 function_base.py:5385(_append_dispatcher)\n",
      "    51050    0.048    0.000    6.056    0.000 function_base.py:5389(append)\n",
      "    51050    0.005    0.000    0.005    0.000 multiarray.py:148(concatenate)\n",
      "        1    0.000    0.000    0.000    0.000 pstats.py:107(__init__)\n",
      "        1    0.000    0.000    0.000    0.000 pstats.py:117(init)\n",
      "        1    0.000    0.000    0.000    0.000 pstats.py:136(load_stats)\n",
      "       10    0.000    0.000    0.000    0.000 write.py:106(create_group)\n",
      "        1    0.000    0.000    0.000    0.000 write.py:20(initialize)\n",
      "     1010    0.002    0.000    0.003    0.000 write.py:216(create_dataset)\n",
      "       50    0.100    0.002    7.082    0.142 write.py:355(pack)\n",
      "       50    0.027    0.001    0.854    0.017 write.py:51(clear_bucket)\n",
      "        1    0.000    0.000    0.001    0.001 write.py:83(create_single_bucket)\n",
      "        1    0.000    0.000    0.001    0.001 write.py:95(<dictcomp>)\n",
      "        1    0.000    0.000    0.000    0.000 {built-in method builtins.hasattr}\n",
      "   210052    0.018    0.000    0.018    0.000 {built-in method builtins.isinstance}\n",
      "    50501    0.005    0.000    0.005    0.000 {built-in method builtins.len}\n",
      "       10    0.000    0.000    0.000    0.000 {built-in method numpy.array}\n",
      "   102100    2.934    0.000    2.934    0.000 {built-in method numpy.asanyarray}\n",
      "153150/51050    3.001    0.000    6.083    0.000 {built-in method numpy.core._multiarray_umath.implement_array_function}\n",
      "     1031    0.000    0.000    0.000    0.000 {method 'append' of 'list' objects}\n",
      "      550    0.001    0.000    0.001    0.000 {method 'astype' of 'numpy.ndarray' objects}\n",
      "    50000    0.824    0.000    0.824    0.000 {method 'clear' of 'list' objects}\n",
      "        4    0.000    0.000    0.000    0.000 {method 'copy' of 'dict' objects}\n",
      "     1022    0.000    0.000    0.000    0.000 {method 'copy' of 'list' objects}\n",
      "        1    0.000    0.000    0.000    0.000 {method 'disable' of '_lsprof.Profiler' objects}\n",
      "     1172    0.000    0.000    0.000    0.000 {method 'keys' of 'dict' objects}\n",
      "    51050    0.011    0.000    0.011    0.000 {method 'ravel' of 'numpy.ndarray' objects}\n",
      "    51000    0.004    0.000    0.004    0.000 {method 'replace' of 'str' objects}\n",
      "\n",
      "\n"
     ]
    }
   ],
   "source": [
    "outfile = 'dict-time-test.h5'\n",
    "with cProfile.Profile() as p:\n",
    "    data = hf.dict_tools.dictlike_to_hepfile(dictlist, outfile, write_hepfile=False)\n",
    "    p.print_stats()"
   ]
  },
  {
   "cell_type": "code",
   "execution_count": 6,
   "id": "3f6f72ac-72a8-464f-ae27-f64961faccbb",
   "metadata": {},
   "outputs": [
    {
     "data": {
      "text/plain": [
       "array([-0.96192359, -2.4591357 ,  0.26281371,  0.05946111,  1.82021894,\n",
       "       -0.11099926,  2.09295916, -0.19002159, -2.06970775, -0.25566582,\n",
       "       -1.4202846 , -0.45650447, -0.81421407,  0.24448263, -0.85675477,\n",
       "       -0.80520389,  0.03045792, -0.42823741, -2.90865473,  0.40459474,\n",
       "       -2.32842869, -2.27280707, -1.12248668,  0.98277495,  0.84029583,\n",
       "       -0.50844967, -1.73398583, -1.26129256, -0.65769473,  0.81304347,\n",
       "       -0.27647831, -0.38201542, -0.29904988,  0.06380268,  1.40876373,\n",
       "       -0.9023871 ,  0.74338229, -0.39209027,  0.01848231, -0.80334902,\n",
       "        0.63735249,  0.05475002, -1.4807117 ,  1.54655681, -1.78022351,\n",
       "        1.14018735,  0.67025687,  0.11143643, -0.67829612,  0.82063902])"
      ]
     },
     "execution_count": 6,
     "metadata": {},
     "output_type": "execute_result"
    }
   ],
   "source": [
    "b = hf.create_single_bucket(data)\n",
    "np.append(b['singleton_0'], 'foo')\n",
    "data['singleton_0']"
   ]
  },
  {
   "cell_type": "code",
   "execution_count": 7,
   "id": "2db64af5-18eb-4ec7-b53a-d0609027c6ac",
   "metadata": {},
   "outputs": [
    {
     "data": {
      "text/plain": [
       "dict_keys(['_GROUPS_', '_MAP_DATASETS_TO_COUNTERS_', '_LIST_OF_COUNTERS_', '_SINGLETONS_GROUP_/COUNTER', '_MAP_DATASETS_TO_DATA_TYPES_', '_META_', 'singleton_0', 'singleton_1', 'singleton_2', 'singleton_3', 'singleton_4', 'singleton_5', 'singleton_6', 'singleton_7', 'singleton_8', 'singleton_9', 'key0/nkey0', 'key0/key0_0', 'key0/key0_1', 'key0/key0_2', 'key0/key0_3', 'key0/key0_4', 'key0/key0_5', 'key0/key0_6', 'key0/key0_7', 'key0/key0_8', 'key0/key0_9', 'key0/key0_10', 'key0/key0_11', 'key0/key0_12', 'key0/key0_13', 'key0/key0_14', 'key0/key0_15', 'key0/key0_16', 'key0/key0_17', 'key0/key0_18', 'key0/key0_19', 'key0/key0_20', 'key0/key0_21', 'key0/key0_22', 'key0/key0_23', 'key0/key0_24', 'key0/key0_25', 'key0/key0_26', 'key0/key0_27', 'key0/key0_28', 'key0/key0_29', 'key0/key0_30', 'key0/key0_31', 'key0/key0_32', 'key0/key0_33', 'key0/key0_34', 'key0/key0_35', 'key0/key0_36', 'key0/key0_37', 'key0/key0_38', 'key0/key0_39', 'key0/key0_40', 'key0/key0_41', 'key0/key0_42', 'key0/key0_43', 'key0/key0_44', 'key0/key0_45', 'key0/key0_46', 'key0/key0_47', 'key0/key0_48', 'key0/key0_49', 'key0/key0_50', 'key0/key0_51', 'key0/key0_52', 'key0/key0_53', 'key0/key0_54', 'key0/key0_55', 'key0/key0_56', 'key0/key0_57', 'key0/key0_58', 'key0/key0_59', 'key0/key0_60', 'key0/key0_61', 'key0/key0_62', 'key0/key0_63', 'key0/key0_64', 'key0/key0_65', 'key0/key0_66', 'key0/key0_67', 'key0/key0_68', 'key0/key0_69', 'key0/key0_70', 'key0/key0_71', 'key0/key0_72', 'key0/key0_73', 'key0/key0_74', 'key0/key0_75', 'key0/key0_76', 'key0/key0_77', 'key0/key0_78', 'key0/key0_79', 'key0/key0_80', 'key0/key0_81', 'key0/key0_82', 'key0/key0_83', 'key0/key0_84', 'key0/key0_85', 'key0/key0_86', 'key0/key0_87', 'key0/key0_88', 'key0/key0_89', 'key0/key0_90', 'key0/key0_91', 'key0/key0_92', 'key0/key0_93', 'key0/key0_94', 'key0/key0_95', 'key0/key0_96', 'key0/key0_97', 'key0/key0_98', 'key0/key0_99', 'key1/nkey1', 'key1/key1_0', 'key1/key1_1', 'key1/key1_2', 'key1/key1_3', 'key1/key1_4', 'key1/key1_5', 'key1/key1_6', 'key1/key1_7', 'key1/key1_8', 'key1/key1_9', 'key1/key1_10', 'key1/key1_11', 'key1/key1_12', 'key1/key1_13', 'key1/key1_14', 'key1/key1_15', 'key1/key1_16', 'key1/key1_17', 'key1/key1_18', 'key1/key1_19', 'key1/key1_20', 'key1/key1_21', 'key1/key1_22', 'key1/key1_23', 'key1/key1_24', 'key1/key1_25', 'key1/key1_26', 'key1/key1_27', 'key1/key1_28', 'key1/key1_29', 'key1/key1_30', 'key1/key1_31', 'key1/key1_32', 'key1/key1_33', 'key1/key1_34', 'key1/key1_35', 'key1/key1_36', 'key1/key1_37', 'key1/key1_38', 'key1/key1_39', 'key1/key1_40', 'key1/key1_41', 'key1/key1_42', 'key1/key1_43', 'key1/key1_44', 'key1/key1_45', 'key1/key1_46', 'key1/key1_47', 'key1/key1_48', 'key1/key1_49', 'key1/key1_50', 'key1/key1_51', 'key1/key1_52', 'key1/key1_53', 'key1/key1_54', 'key1/key1_55', 'key1/key1_56', 'key1/key1_57', 'key1/key1_58', 'key1/key1_59', 'key1/key1_60', 'key1/key1_61', 'key1/key1_62', 'key1/key1_63', 'key1/key1_64', 'key1/key1_65', 'key1/key1_66', 'key1/key1_67', 'key1/key1_68', 'key1/key1_69', 'key1/key1_70', 'key1/key1_71', 'key1/key1_72', 'key1/key1_73', 'key1/key1_74', 'key1/key1_75', 'key1/key1_76', 'key1/key1_77', 'key1/key1_78', 'key1/key1_79', 'key1/key1_80', 'key1/key1_81', 'key1/key1_82', 'key1/key1_83', 'key1/key1_84', 'key1/key1_85', 'key1/key1_86', 'key1/key1_87', 'key1/key1_88', 'key1/key1_89', 'key1/key1_90', 'key1/key1_91', 'key1/key1_92', 'key1/key1_93', 'key1/key1_94', 'key1/key1_95', 'key1/key1_96', 'key1/key1_97', 'key1/key1_98', 'key1/key1_99', 'key2/nkey2', 'key2/key2_0', 'key2/key2_1', 'key2/key2_2', 'key2/key2_3', 'key2/key2_4', 'key2/key2_5', 'key2/key2_6', 'key2/key2_7', 'key2/key2_8', 'key2/key2_9', 'key2/key2_10', 'key2/key2_11', 'key2/key2_12', 'key2/key2_13', 'key2/key2_14', 'key2/key2_15', 'key2/key2_16', 'key2/key2_17', 'key2/key2_18', 'key2/key2_19', 'key2/key2_20', 'key2/key2_21', 'key2/key2_22', 'key2/key2_23', 'key2/key2_24', 'key2/key2_25', 'key2/key2_26', 'key2/key2_27', 'key2/key2_28', 'key2/key2_29', 'key2/key2_30', 'key2/key2_31', 'key2/key2_32', 'key2/key2_33', 'key2/key2_34', 'key2/key2_35', 'key2/key2_36', 'key2/key2_37', 'key2/key2_38', 'key2/key2_39', 'key2/key2_40', 'key2/key2_41', 'key2/key2_42', 'key2/key2_43', 'key2/key2_44', 'key2/key2_45', 'key2/key2_46', 'key2/key2_47', 'key2/key2_48', 'key2/key2_49', 'key2/key2_50', 'key2/key2_51', 'key2/key2_52', 'key2/key2_53', 'key2/key2_54', 'key2/key2_55', 'key2/key2_56', 'key2/key2_57', 'key2/key2_58', 'key2/key2_59', 'key2/key2_60', 'key2/key2_61', 'key2/key2_62', 'key2/key2_63', 'key2/key2_64', 'key2/key2_65', 'key2/key2_66', 'key2/key2_67', 'key2/key2_68', 'key2/key2_69', 'key2/key2_70', 'key2/key2_71', 'key2/key2_72', 'key2/key2_73', 'key2/key2_74', 'key2/key2_75', 'key2/key2_76', 'key2/key2_77', 'key2/key2_78', 'key2/key2_79', 'key2/key2_80', 'key2/key2_81', 'key2/key2_82', 'key2/key2_83', 'key2/key2_84', 'key2/key2_85', 'key2/key2_86', 'key2/key2_87', 'key2/key2_88', 'key2/key2_89', 'key2/key2_90', 'key2/key2_91', 'key2/key2_92', 'key2/key2_93', 'key2/key2_94', 'key2/key2_95', 'key2/key2_96', 'key2/key2_97', 'key2/key2_98', 'key2/key2_99', 'key3/nkey3', 'key3/key3_0', 'key3/key3_1', 'key3/key3_2', 'key3/key3_3', 'key3/key3_4', 'key3/key3_5', 'key3/key3_6', 'key3/key3_7', 'key3/key3_8', 'key3/key3_9', 'key3/key3_10', 'key3/key3_11', 'key3/key3_12', 'key3/key3_13', 'key3/key3_14', 'key3/key3_15', 'key3/key3_16', 'key3/key3_17', 'key3/key3_18', 'key3/key3_19', 'key3/key3_20', 'key3/key3_21', 'key3/key3_22', 'key3/key3_23', 'key3/key3_24', 'key3/key3_25', 'key3/key3_26', 'key3/key3_27', 'key3/key3_28', 'key3/key3_29', 'key3/key3_30', 'key3/key3_31', 'key3/key3_32', 'key3/key3_33', 'key3/key3_34', 'key3/key3_35', 'key3/key3_36', 'key3/key3_37', 'key3/key3_38', 'key3/key3_39', 'key3/key3_40', 'key3/key3_41', 'key3/key3_42', 'key3/key3_43', 'key3/key3_44', 'key3/key3_45', 'key3/key3_46', 'key3/key3_47', 'key3/key3_48', 'key3/key3_49', 'key3/key3_50', 'key3/key3_51', 'key3/key3_52', 'key3/key3_53', 'key3/key3_54', 'key3/key3_55', 'key3/key3_56', 'key3/key3_57', 'key3/key3_58', 'key3/key3_59', 'key3/key3_60', 'key3/key3_61', 'key3/key3_62', 'key3/key3_63', 'key3/key3_64', 'key3/key3_65', 'key3/key3_66', 'key3/key3_67', 'key3/key3_68', 'key3/key3_69', 'key3/key3_70', 'key3/key3_71', 'key3/key3_72', 'key3/key3_73', 'key3/key3_74', 'key3/key3_75', 'key3/key3_76', 'key3/key3_77', 'key3/key3_78', 'key3/key3_79', 'key3/key3_80', 'key3/key3_81', 'key3/key3_82', 'key3/key3_83', 'key3/key3_84', 'key3/key3_85', 'key3/key3_86', 'key3/key3_87', 'key3/key3_88', 'key3/key3_89', 'key3/key3_90', 'key3/key3_91', 'key3/key3_92', 'key3/key3_93', 'key3/key3_94', 'key3/key3_95', 'key3/key3_96', 'key3/key3_97', 'key3/key3_98', 'key3/key3_99', 'key4/nkey4', 'key4/key4_0', 'key4/key4_1', 'key4/key4_2', 'key4/key4_3', 'key4/key4_4', 'key4/key4_5', 'key4/key4_6', 'key4/key4_7', 'key4/key4_8', 'key4/key4_9', 'key4/key4_10', 'key4/key4_11', 'key4/key4_12', 'key4/key4_13', 'key4/key4_14', 'key4/key4_15', 'key4/key4_16', 'key4/key4_17', 'key4/key4_18', 'key4/key4_19', 'key4/key4_20', 'key4/key4_21', 'key4/key4_22', 'key4/key4_23', 'key4/key4_24', 'key4/key4_25', 'key4/key4_26', 'key4/key4_27', 'key4/key4_28', 'key4/key4_29', 'key4/key4_30', 'key4/key4_31', 'key4/key4_32', 'key4/key4_33', 'key4/key4_34', 'key4/key4_35', 'key4/key4_36', 'key4/key4_37', 'key4/key4_38', 'key4/key4_39', 'key4/key4_40', 'key4/key4_41', 'key4/key4_42', 'key4/key4_43', 'key4/key4_44', 'key4/key4_45', 'key4/key4_46', 'key4/key4_47', 'key4/key4_48', 'key4/key4_49', 'key4/key4_50', 'key4/key4_51', 'key4/key4_52', 'key4/key4_53', 'key4/key4_54', 'key4/key4_55', 'key4/key4_56', 'key4/key4_57', 'key4/key4_58', 'key4/key4_59', 'key4/key4_60', 'key4/key4_61', 'key4/key4_62', 'key4/key4_63', 'key4/key4_64', 'key4/key4_65', 'key4/key4_66', 'key4/key4_67', 'key4/key4_68', 'key4/key4_69', 'key4/key4_70', 'key4/key4_71', 'key4/key4_72', 'key4/key4_73', 'key4/key4_74', 'key4/key4_75', 'key4/key4_76', 'key4/key4_77', 'key4/key4_78', 'key4/key4_79', 'key4/key4_80', 'key4/key4_81', 'key4/key4_82', 'key4/key4_83', 'key4/key4_84', 'key4/key4_85', 'key4/key4_86', 'key4/key4_87', 'key4/key4_88', 'key4/key4_89', 'key4/key4_90', 'key4/key4_91', 'key4/key4_92', 'key4/key4_93', 'key4/key4_94', 'key4/key4_95', 'key4/key4_96', 'key4/key4_97', 'key4/key4_98', 'key4/key4_99', 'key5/nkey5', 'key5/key5_0', 'key5/key5_1', 'key5/key5_2', 'key5/key5_3', 'key5/key5_4', 'key5/key5_5', 'key5/key5_6', 'key5/key5_7', 'key5/key5_8', 'key5/key5_9', 'key5/key5_10', 'key5/key5_11', 'key5/key5_12', 'key5/key5_13', 'key5/key5_14', 'key5/key5_15', 'key5/key5_16', 'key5/key5_17', 'key5/key5_18', 'key5/key5_19', 'key5/key5_20', 'key5/key5_21', 'key5/key5_22', 'key5/key5_23', 'key5/key5_24', 'key5/key5_25', 'key5/key5_26', 'key5/key5_27', 'key5/key5_28', 'key5/key5_29', 'key5/key5_30', 'key5/key5_31', 'key5/key5_32', 'key5/key5_33', 'key5/key5_34', 'key5/key5_35', 'key5/key5_36', 'key5/key5_37', 'key5/key5_38', 'key5/key5_39', 'key5/key5_40', 'key5/key5_41', 'key5/key5_42', 'key5/key5_43', 'key5/key5_44', 'key5/key5_45', 'key5/key5_46', 'key5/key5_47', 'key5/key5_48', 'key5/key5_49', 'key5/key5_50', 'key5/key5_51', 'key5/key5_52', 'key5/key5_53', 'key5/key5_54', 'key5/key5_55', 'key5/key5_56', 'key5/key5_57', 'key5/key5_58', 'key5/key5_59', 'key5/key5_60', 'key5/key5_61', 'key5/key5_62', 'key5/key5_63', 'key5/key5_64', 'key5/key5_65', 'key5/key5_66', 'key5/key5_67', 'key5/key5_68', 'key5/key5_69', 'key5/key5_70', 'key5/key5_71', 'key5/key5_72', 'key5/key5_73', 'key5/key5_74', 'key5/key5_75', 'key5/key5_76', 'key5/key5_77', 'key5/key5_78', 'key5/key5_79', 'key5/key5_80', 'key5/key5_81', 'key5/key5_82', 'key5/key5_83', 'key5/key5_84', 'key5/key5_85', 'key5/key5_86', 'key5/key5_87', 'key5/key5_88', 'key5/key5_89', 'key5/key5_90', 'key5/key5_91', 'key5/key5_92', 'key5/key5_93', 'key5/key5_94', 'key5/key5_95', 'key5/key5_96', 'key5/key5_97', 'key5/key5_98', 'key5/key5_99', 'key6/nkey6', 'key6/key6_0', 'key6/key6_1', 'key6/key6_2', 'key6/key6_3', 'key6/key6_4', 'key6/key6_5', 'key6/key6_6', 'key6/key6_7', 'key6/key6_8', 'key6/key6_9', 'key6/key6_10', 'key6/key6_11', 'key6/key6_12', 'key6/key6_13', 'key6/key6_14', 'key6/key6_15', 'key6/key6_16', 'key6/key6_17', 'key6/key6_18', 'key6/key6_19', 'key6/key6_20', 'key6/key6_21', 'key6/key6_22', 'key6/key6_23', 'key6/key6_24', 'key6/key6_25', 'key6/key6_26', 'key6/key6_27', 'key6/key6_28', 'key6/key6_29', 'key6/key6_30', 'key6/key6_31', 'key6/key6_32', 'key6/key6_33', 'key6/key6_34', 'key6/key6_35', 'key6/key6_36', 'key6/key6_37', 'key6/key6_38', 'key6/key6_39', 'key6/key6_40', 'key6/key6_41', 'key6/key6_42', 'key6/key6_43', 'key6/key6_44', 'key6/key6_45', 'key6/key6_46', 'key6/key6_47', 'key6/key6_48', 'key6/key6_49', 'key6/key6_50', 'key6/key6_51', 'key6/key6_52', 'key6/key6_53', 'key6/key6_54', 'key6/key6_55', 'key6/key6_56', 'key6/key6_57', 'key6/key6_58', 'key6/key6_59', 'key6/key6_60', 'key6/key6_61', 'key6/key6_62', 'key6/key6_63', 'key6/key6_64', 'key6/key6_65', 'key6/key6_66', 'key6/key6_67', 'key6/key6_68', 'key6/key6_69', 'key6/key6_70', 'key6/key6_71', 'key6/key6_72', 'key6/key6_73', 'key6/key6_74', 'key6/key6_75', 'key6/key6_76', 'key6/key6_77', 'key6/key6_78', 'key6/key6_79', 'key6/key6_80', 'key6/key6_81', 'key6/key6_82', 'key6/key6_83', 'key6/key6_84', 'key6/key6_85', 'key6/key6_86', 'key6/key6_87', 'key6/key6_88', 'key6/key6_89', 'key6/key6_90', 'key6/key6_91', 'key6/key6_92', 'key6/key6_93', 'key6/key6_94', 'key6/key6_95', 'key6/key6_96', 'key6/key6_97', 'key6/key6_98', 'key6/key6_99', 'key7/nkey7', 'key7/key7_0', 'key7/key7_1', 'key7/key7_2', 'key7/key7_3', 'key7/key7_4', 'key7/key7_5', 'key7/key7_6', 'key7/key7_7', 'key7/key7_8', 'key7/key7_9', 'key7/key7_10', 'key7/key7_11', 'key7/key7_12', 'key7/key7_13', 'key7/key7_14', 'key7/key7_15', 'key7/key7_16', 'key7/key7_17', 'key7/key7_18', 'key7/key7_19', 'key7/key7_20', 'key7/key7_21', 'key7/key7_22', 'key7/key7_23', 'key7/key7_24', 'key7/key7_25', 'key7/key7_26', 'key7/key7_27', 'key7/key7_28', 'key7/key7_29', 'key7/key7_30', 'key7/key7_31', 'key7/key7_32', 'key7/key7_33', 'key7/key7_34', 'key7/key7_35', 'key7/key7_36', 'key7/key7_37', 'key7/key7_38', 'key7/key7_39', 'key7/key7_40', 'key7/key7_41', 'key7/key7_42', 'key7/key7_43', 'key7/key7_44', 'key7/key7_45', 'key7/key7_46', 'key7/key7_47', 'key7/key7_48', 'key7/key7_49', 'key7/key7_50', 'key7/key7_51', 'key7/key7_52', 'key7/key7_53', 'key7/key7_54', 'key7/key7_55', 'key7/key7_56', 'key7/key7_57', 'key7/key7_58', 'key7/key7_59', 'key7/key7_60', 'key7/key7_61', 'key7/key7_62', 'key7/key7_63', 'key7/key7_64', 'key7/key7_65', 'key7/key7_66', 'key7/key7_67', 'key7/key7_68', 'key7/key7_69', 'key7/key7_70', 'key7/key7_71', 'key7/key7_72', 'key7/key7_73', 'key7/key7_74', 'key7/key7_75', 'key7/key7_76', 'key7/key7_77', 'key7/key7_78', 'key7/key7_79', 'key7/key7_80', 'key7/key7_81', 'key7/key7_82', 'key7/key7_83', 'key7/key7_84', 'key7/key7_85', 'key7/key7_86', 'key7/key7_87', 'key7/key7_88', 'key7/key7_89', 'key7/key7_90', 'key7/key7_91', 'key7/key7_92', 'key7/key7_93', 'key7/key7_94', 'key7/key7_95', 'key7/key7_96', 'key7/key7_97', 'key7/key7_98', 'key7/key7_99', 'key8/nkey8', 'key8/key8_0', 'key8/key8_1', 'key8/key8_2', 'key8/key8_3', 'key8/key8_4', 'key8/key8_5', 'key8/key8_6', 'key8/key8_7', 'key8/key8_8', 'key8/key8_9', 'key8/key8_10', 'key8/key8_11', 'key8/key8_12', 'key8/key8_13', 'key8/key8_14', 'key8/key8_15', 'key8/key8_16', 'key8/key8_17', 'key8/key8_18', 'key8/key8_19', 'key8/key8_20', 'key8/key8_21', 'key8/key8_22', 'key8/key8_23', 'key8/key8_24', 'key8/key8_25', 'key8/key8_26', 'key8/key8_27', 'key8/key8_28', 'key8/key8_29', 'key8/key8_30', 'key8/key8_31', 'key8/key8_32', 'key8/key8_33', 'key8/key8_34', 'key8/key8_35', 'key8/key8_36', 'key8/key8_37', 'key8/key8_38', 'key8/key8_39', 'key8/key8_40', 'key8/key8_41', 'key8/key8_42', 'key8/key8_43', 'key8/key8_44', 'key8/key8_45', 'key8/key8_46', 'key8/key8_47', 'key8/key8_48', 'key8/key8_49', 'key8/key8_50', 'key8/key8_51', 'key8/key8_52', 'key8/key8_53', 'key8/key8_54', 'key8/key8_55', 'key8/key8_56', 'key8/key8_57', 'key8/key8_58', 'key8/key8_59', 'key8/key8_60', 'key8/key8_61', 'key8/key8_62', 'key8/key8_63', 'key8/key8_64', 'key8/key8_65', 'key8/key8_66', 'key8/key8_67', 'key8/key8_68', 'key8/key8_69', 'key8/key8_70', 'key8/key8_71', 'key8/key8_72', 'key8/key8_73', 'key8/key8_74', 'key8/key8_75', 'key8/key8_76', 'key8/key8_77', 'key8/key8_78', 'key8/key8_79', 'key8/key8_80', 'key8/key8_81', 'key8/key8_82', 'key8/key8_83', 'key8/key8_84', 'key8/key8_85', 'key8/key8_86', 'key8/key8_87', 'key8/key8_88', 'key8/key8_89', 'key8/key8_90', 'key8/key8_91', 'key8/key8_92', 'key8/key8_93', 'key8/key8_94', 'key8/key8_95', 'key8/key8_96', 'key8/key8_97', 'key8/key8_98', 'key8/key8_99', 'key9/nkey9', 'key9/key9_0', 'key9/key9_1', 'key9/key9_2', 'key9/key9_3', 'key9/key9_4', 'key9/key9_5', 'key9/key9_6', 'key9/key9_7', 'key9/key9_8', 'key9/key9_9', 'key9/key9_10', 'key9/key9_11', 'key9/key9_12', 'key9/key9_13', 'key9/key9_14', 'key9/key9_15', 'key9/key9_16', 'key9/key9_17', 'key9/key9_18', 'key9/key9_19', 'key9/key9_20', 'key9/key9_21', 'key9/key9_22', 'key9/key9_23', 'key9/key9_24', 'key9/key9_25', 'key9/key9_26', 'key9/key9_27', 'key9/key9_28', 'key9/key9_29', 'key9/key9_30', 'key9/key9_31', 'key9/key9_32', 'key9/key9_33', 'key9/key9_34', 'key9/key9_35', 'key9/key9_36', 'key9/key9_37', 'key9/key9_38', 'key9/key9_39', 'key9/key9_40', 'key9/key9_41', 'key9/key9_42', 'key9/key9_43', 'key9/key9_44', 'key9/key9_45', 'key9/key9_46', 'key9/key9_47', 'key9/key9_48', 'key9/key9_49', 'key9/key9_50', 'key9/key9_51', 'key9/key9_52', 'key9/key9_53', 'key9/key9_54', 'key9/key9_55', 'key9/key9_56', 'key9/key9_57', 'key9/key9_58', 'key9/key9_59', 'key9/key9_60', 'key9/key9_61', 'key9/key9_62', 'key9/key9_63', 'key9/key9_64', 'key9/key9_65', 'key9/key9_66', 'key9/key9_67', 'key9/key9_68', 'key9/key9_69', 'key9/key9_70', 'key9/key9_71', 'key9/key9_72', 'key9/key9_73', 'key9/key9_74', 'key9/key9_75', 'key9/key9_76', 'key9/key9_77', 'key9/key9_78', 'key9/key9_79', 'key9/key9_80', 'key9/key9_81', 'key9/key9_82', 'key9/key9_83', 'key9/key9_84', 'key9/key9_85', 'key9/key9_86', 'key9/key9_87', 'key9/key9_88', 'key9/key9_89', 'key9/key9_90', 'key9/key9_91', 'key9/key9_92', 'key9/key9_93', 'key9/key9_94', 'key9/key9_95', 'key9/key9_96', 'key9/key9_97', 'key9/key9_98', 'key9/key9_99'])"
      ]
     },
     "execution_count": 7,
     "metadata": {},
     "output_type": "execute_result"
    }
   ],
   "source": [
    "data.keys()"
   ]
  },
  {
   "cell_type": "code",
   "execution_count": null,
   "id": "0269b2e9-aa17-4339-a6ca-29938e9d5262",
   "metadata": {},
   "outputs": [],
   "source": []
  }
 ],
 "metadata": {
  "kernelspec": {
   "display_name": "Python 3 (ipykernel)",
   "language": "python",
   "name": "python3"
  },
  "language_info": {
   "codemirror_mode": {
    "name": "ipython",
    "version": 3
   },
   "file_extension": ".py",
   "mimetype": "text/x-python",
   "name": "python",
   "nbconvert_exporter": "python",
   "pygments_lexer": "ipython3",
   "version": "3.9.17"
  }
 },
 "nbformat": 4,
 "nbformat_minor": 5
}
