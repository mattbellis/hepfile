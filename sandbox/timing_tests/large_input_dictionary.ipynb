{
 "cells": [
  {
   "cell_type": "markdown",
   "id": "272c2415-ca0b-4857-bf94-fe20fe745a40",
   "metadata": {},
   "source": [
    "# do some timing tests with a large input dictionary of events"
   ]
  },
  {
   "cell_type": "code",
   "execution_count": null,
   "id": "20f96d36-cbe8-4c81-aa2a-79e86ba79abb",
   "metadata": {},
   "outputs": [],
   "source": [
    "import numpy as np"
   ]
  },
  {
   "cell_type": "code",
   "execution_count": null,
   "id": "605747d4-dad3-4e73-9df5-ba40f57695f5",
   "metadata": {},
   "outputs": [],
   "source": [
    "# first construct a HUGE dictionary with a lot of keys and a lot of entries\n",
    "\n",
    "nKeys = int(1e6)\n",
    "nDatasets = int(1e4) # number of datasets in each group\n",
    "nEvents = 10\n",
    "\n",
    "lengths = np.array([100, int(1e7), int(1e4), 1])\n",
    "\n",
    "dictlist = []\n",
    "\n",
    "for _ in range(nEvents):\n",
    "    \n",
    "    d = {}\n",
    "    \n",
    "    for i in range(nKeys):\n",
    "        key = f'key{i}'\n",
    "        subdict = {}\n",
    "        # add datasets with random number of values\n",
    "        num = np.random.choice(lengths)\n",
    "        for j in range(nDatasets):\n",
    "            subkey = f'{key}_{j}'\n",
    "            d[subkey] = np.random.randn(num)\n",
    "        \n",
    "        # add singletons\n",
    "        for j in range(10):\n",
    "            s = f'singleton_{i}'\n",
    "            subdict[s] = np.random.randn()\n",
    "            \n",
    "        d[key] = subdict\n",
    "        \n",
    "    dictlist.append(d)"
   ]
  },
  {
   "cell_type": "code",
   "execution_count": null,
   "id": "70c83aa0-2d02-48a5-8eea-c9d6a88a66ff",
   "metadata": {},
   "outputs": [],
   "source": []
  }
 ],
 "metadata": {
  "kernelspec": {
   "display_name": "Python 3 (ipykernel)",
   "language": "python",
   "name": "python3"
  },
  "language_info": {
   "codemirror_mode": {
    "name": "ipython",
    "version": 3
   },
   "file_extension": ".py",
   "mimetype": "text/x-python",
   "name": "python",
   "nbconvert_exporter": "python",
   "pygments_lexer": "ipython3",
   "version": "3.9.17"
  }
 },
 "nbformat": 4,
 "nbformat_minor": 5
}
