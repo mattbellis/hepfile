{
 "cells": [
  {
   "cell_type": "markdown",
   "id": "272c2415-ca0b-4857-bf94-fe20fe745a40",
   "metadata": {},
   "source": [
    "# do some timing tests with a large input dictionary of events"
   ]
  },
  {
   "cell_type": "code",
   "execution_count": null,
   "id": "20f96d36-cbe8-4c81-aa2a-79e86ba79abb",
   "metadata": {},
   "outputs": [],
   "source": [
    "import numpy as np\n",
    "import hepfile as hf\n",
    "import cProfile"
   ]
  },
  {
   "cell_type": "code",
   "execution_count": null,
   "id": "605747d4-dad3-4e73-9df5-ba40f57695f5",
   "metadata": {},
   "outputs": [],
   "source": [
    "# first construct a HUGE dictionary with a lot of keys and a lot of entries\n",
    "\n",
    "nKeys = 10 #int(1e6)\n",
    "nDatasets = 100 # number of datasets in each group\n",
    "nEvents = 50\n",
    "\n",
    "lengths = np.array([100, int(1e3), int(1e4), 10])\n",
    "\n",
    "dictlist = []\n",
    "\n",
    "for _ in range(nEvents):\n",
    "    \n",
    "    d = {}\n",
    "    \n",
    "    for i in range(nKeys):\n",
    "        key = f'key{i}'\n",
    "        subdict = {}\n",
    "        # add datasets with random number of values\n",
    "        num = np.random.choice(lengths)\n",
    "        for j in range(nDatasets):\n",
    "            subkey = f'{key}_{j}'\n",
    "            subdict[subkey] = np.random.randn(num)\n",
    "        \n",
    "        # add singletons\n",
    "        for j in range(10):\n",
    "            s = f'singleton_{j}'\n",
    "            d[s] = np.random.randn()\n",
    "            \n",
    "        d[key] = subdict\n",
    "        \n",
    "    dictlist.append(d)"
   ]
  },
  {
   "cell_type": "code",
   "execution_count": null,
   "id": "3b1ff9e6-4874-4b7d-8974-8459b62eed7e",
   "metadata": {},
   "outputs": [],
   "source": [
    "outfile = 'dict-time-test.h5'\n",
    "with cProfile.Profile() as p:\n",
    "    data = hf.dict_tools.dictlike_to_hepfile(dictlist, outfile, write_hepfile=False)\n",
    "    p.print_stats()"
   ]
  },
  {
   "cell_type": "code",
   "execution_count": null,
   "id": "3f6f72ac-72a8-464f-ae27-f64961faccbb",
   "metadata": {},
   "outputs": [],
   "source": [
    "b = hf.create_single_bucket(data)\n",
    "np.append(b['singleton_0'], 'foo')\n",
    "data['singleton_0']"
   ]
  },
  {
   "cell_type": "code",
   "execution_count": null,
   "id": "2db64af5-18eb-4ec7-b53a-d0609027c6ac",
   "metadata": {},
   "outputs": [],
   "source": [
    "data.keys()"
   ]
  },
  {
   "cell_type": "code",
   "execution_count": null,
   "id": "0269b2e9-aa17-4339-a6ca-29938e9d5262",
   "metadata": {},
   "outputs": [],
   "source": []
  }
 ],
 "metadata": {
  "kernelspec": {
   "display_name": "Python 3 (ipykernel)",
   "language": "python",
   "name": "python3"
  },
  "language_info": {
   "codemirror_mode": {
    "name": "ipython",
    "version": 3
   },
   "file_extension": ".py",
   "mimetype": "text/x-python",
   "name": "python",
   "nbconvert_exporter": "python",
   "pygments_lexer": "ipython3",
   "version": "3.9.17"
  }
 },
 "nbformat": 4,
 "nbformat_minor": 5
}
