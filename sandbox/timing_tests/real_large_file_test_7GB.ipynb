{
 "cells": [
  {
   "cell_type": "markdown",
   "id": "f760ee20-a594-4c41-b312-a452e9998e21",
   "metadata": {},
   "source": [
    "# Work with Large ARGO File"
   ]
  },
  {
   "cell_type": "code",
   "execution_count": null,
   "id": "63d2cb1d-188b-4412-9392-f9ecca4678d5",
   "metadata": {},
   "outputs": [],
   "source": [
    "# Download dataset\n",
    "!wget -nc 'https://pivarski-princeton.s3.amazonaws.com/argo-floats-expert.parquet'"
   ]
  },
  {
   "cell_type": "code",
   "execution_count": null,
   "id": "3446be9f-15d1-46fa-a055-38ecd33f14b7",
   "metadata": {},
   "outputs": [],
   "source": [
    "# imports\n",
    "import awkward as ak\n",
    "import hepfile as hf"
   ]
  },
  {
   "cell_type": "code",
   "execution_count": null,
   "id": "571b45d3-9bb7-4b17-a1f4-e40972c96de9",
   "metadata": {},
   "outputs": [],
   "source": [
    "# read in the parquet file with awkward\n",
    "imax = 200\n",
    "awk = ak.from_parquet('argo-floats-expert.parquet', row_groups=[0,imax])"
   ]
  },
  {
   "cell_type": "code",
   "execution_count": null,
   "id": "d103d37c-6201-4e07-a482-d62adad0e55a",
   "metadata": {},
   "outputs": [],
   "source": [
    "awk.fields"
   ]
  },
  {
   "cell_type": "code",
   "execution_count": null,
   "id": "8a2db661-9543-4673-8454-adbf22633cbf",
   "metadata": {},
   "outputs": [],
   "source": [
    "hepfile_from_awkward = 'argo-awkward-to-hepfile.h5'\n",
    "hf.awkward_tools.awkward_to_hepfile(awk, hepfile_from_awkward)"
   ]
  },
  {
   "cell_type": "code",
   "execution_count": null,
   "id": "2291d5f5-1f1c-4478-9461-180bc56731bd",
   "metadata": {},
   "outputs": [],
   "source": []
  }
 ],
 "metadata": {
  "kernelspec": {
   "display_name": "Python 3 (ipykernel)",
   "language": "python",
   "name": "python3"
  },
  "language_info": {
   "codemirror_mode": {
    "name": "ipython",
    "version": 3
   },
   "file_extension": ".py",
   "mimetype": "text/x-python",
   "name": "python",
   "nbconvert_exporter": "python",
   "pygments_lexer": "ipython3",
   "version": "3.9.17"
  }
 },
 "nbformat": 4,
 "nbformat_minor": 5
}
