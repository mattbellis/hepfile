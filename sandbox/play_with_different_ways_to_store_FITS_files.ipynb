{
 "cells": [
  {
   "cell_type": "code",
   "execution_count": null,
   "id": "579e6b6f",
   "metadata": {},
   "outputs": [],
   "source": [
    "import hepfile\n",
    "import matplotlib.pylab as plt\n",
    "\n",
    "import numpy as np"
   ]
  },
  {
   "cell_type": "code",
   "execution_count": null,
   "id": "fd4f0e86",
   "metadata": {},
   "outputs": [],
   "source": [
    "images = hepfile.initialize()\n",
    "\n",
    "hepfile.create_group(images, 'pixels', counter = 'n_pixels')\n",
    "hepfile.create_dataset(images, ['x','y','intensity'], group='pixels', dtype = int)\n",
    "hepfile.create_dataset(images, ['nx','ny'], dtype = int)\n",
    "\n",
    "\n",
    "bucket = hepfile.create_single_bucket(images)\n",
    "                                                "
   ]
  },
  {
   "cell_type": "code",
   "execution_count": null,
   "id": "5f9c0047",
   "metadata": {},
   "outputs": [],
   "source": [
    "n_images = 4\n",
    "\n",
    "nx = [20, 200, 49, 728]\n",
    "ny = [20, 200, 50, 17]\n",
    "\n",
    "for i in range(n_images):\n",
    "    image = np.random.randint(1,255,size=(nx[i],ny[i]))\n",
    "    plt.figure()\n",
    "    plt.imshow(image)\n",
    "    \n",
    "    for ix in range(nx[i]):\n",
    "            for iy in range(ny[i]):\n",
    "                val = image[ix][iy]\n",
    "                bucket['pixels/x'].append(ix)\n",
    "                bucket['pixels/y'].append(iy)\n",
    "                bucket['pixels/intensity'].append(val)\n",
    "                \n",
    "    bucket['pixels/n_pixels'] = nx[i] * ny[i]\n",
    "    bucket['nx'] = nx[i]\n",
    "    bucket['ny'] = ny[i]\n",
    "\n",
    "                \n",
    "    hepfile.pack(images, bucket)"
   ]
  },
  {
   "cell_type": "code",
   "execution_count": null,
   "id": "0277e573",
   "metadata": {},
   "outputs": [],
   "source": [
    "images"
   ]
  },
  {
   "cell_type": "code",
   "execution_count": null,
   "id": "e552843a",
   "metadata": {},
   "outputs": [],
   "source": [
    "images['pixels/n_pixels']"
   ]
  },
  {
   "cell_type": "code",
   "execution_count": null,
   "id": "531e3ec6",
   "metadata": {},
   "outputs": [],
   "source": [
    "images['nx']"
   ]
  },
  {
   "cell_type": "code",
   "execution_count": null,
   "id": "5cde69de",
   "metadata": {},
   "outputs": [],
   "source": [
    "images['ny']"
   ]
  },
  {
   "cell_type": "code",
   "execution_count": null,
   "id": "82d8b287",
   "metadata": {},
   "outputs": [],
   "source": []
  }
 ],
 "metadata": {
  "kernelspec": {
   "display_name": "Python 3 (ipykernel)",
   "language": "python",
   "name": "python3"
  },
  "language_info": {
   "codemirror_mode": {
    "name": "ipython",
    "version": 3
   },
   "file_extension": ".py",
   "mimetype": "text/x-python",
   "name": "python",
   "nbconvert_exporter": "python",
   "pygments_lexer": "ipython3",
   "version": "3.9.17"
  }
 },
 "nbformat": 4,
 "nbformat_minor": 5
}
