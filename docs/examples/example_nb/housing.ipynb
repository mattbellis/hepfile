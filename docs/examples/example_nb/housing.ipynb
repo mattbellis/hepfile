{
 "cells": [
  {
   "cell_type": "markdown",
   "id": "a83fa5d6-703e-4e84-a5e3-a235949d09e2",
   "metadata": {},
   "source": [
    "# Real Example: Housing Data\n",
    "\n",
    "This is a real example using Housing Data and demonstrates the `hepfile.csv_tools` module!"
   ]
  },
  {
   "cell_type": "code",
   "execution_count": 1,
   "id": "74b8bd79-d86d-4003-a478-2b9cc4701e97",
   "metadata": {},
   "outputs": [],
   "source": [
    "import hepfile as hf\n",
    "import pandas as pd"
   ]
  },
  {
   "cell_type": "markdown",
   "id": "ea6d9b3b-0e36-4342-a14c-bd9f50cfaaac",
   "metadata": {},
   "source": [
    "Before moving on with the tutorial, make sure you have downloaded the following datasets using the wget command. This only needs to be run once.\n",
    "\n",
    "Also, make sure you review the following link on the hepfile readthedocs page to get some context: https://hepfile.readthedocs.io/en/latest/fundamentals.html"
   ]
  },
  {
   "cell_type": "code",
   "execution_count": 2,
   "id": "83b00656-6b33-41d3-8388-9c930a9604e6",
   "metadata": {},
   "outputs": [
    {
     "name": "stdout",
     "output_type": "stream",
     "text": [
      "File ‘People.csv’ already there; not retrieving.\n",
      "File ‘Vehicles.csv’ already there; not retrieving.\n",
      "File ‘Residences.csv’ already there; not retrieving.\n"
     ]
    }
   ],
   "source": [
    "!wget -nc -O 'People.csv' 'https://raw.githubusercontent.com/mattbellis/hepfile/main/docs/example_nb/People.csv'\n",
    "!wget -nc -O 'Vehicles.csv' 'https://raw.githubusercontent.com/mattbellis/hepfile/main/docs/example_nb/Vehicles.csv'\n",
    "!wget -nc -O 'Residences.csv' 'https://raw.githubusercontent.com/mattbellis/hepfile/main/docs/example_nb/Residences.csv'"
   ]
  },
  {
   "cell_type": "markdown",
   "id": "9846c559-c954-4176-a875-b788d4a502e8",
   "metadata": {},
   "source": [
    "The next step is to define a list of all of these filepaths"
   ]
  },
  {
   "cell_type": "code",
   "execution_count": 3,
   "id": "825b76d2-64a2-45ba-9de3-d7e55b9d4b5c",
   "metadata": {},
   "outputs": [],
   "source": [
    "filepaths = ['People.csv', 'Vehicles.csv', 'Residences.csv']"
   ]
  },
  {
   "cell_type": "markdown",
   "id": "a7fe2f6d-14ed-49bb-84f6-b3561b103d63",
   "metadata": {},
   "source": [
    "For the sake of completeness, let's take a look at these datasets"
   ]
  },
  {
   "cell_type": "code",
   "execution_count": 4,
   "id": "f9c12d94-2084-4263-a38e-edd0b1a92d2e",
   "metadata": {},
   "outputs": [
    {
     "name": "stdout",
     "output_type": "stream",
     "text": [
      "People.csv:\n",
      "\n",
      "|    |   Household ID | First name   | Last name   | Gender ID   |   Age |   Height |   Yearly income | Highest degree/grade   |\n",
      "|---:|---------------:|:-------------|:------------|:------------|------:|---------:|----------------:|:-----------------------|\n",
      "|  0 |              0 | blah         | blah        | M           |    54 |      159 |           75000 | BS                     |\n",
      "|  1 |              0 | blah         | blah        | F           |    52 |      140 |           80000 | MS                     |\n",
      "|  2 |              0 | blah         | blah        | NB          |    18 |      168 |               0 | 12                     |\n",
      "|  3 |              0 | blah         | blah        | F           |    14 |      150 |               0 | 9                      |\n",
      "|  4 |              1 | blah         | blah        | M           |    32 |      159 |           49000 | BS                     |\n",
      "|  5 |              1 | blah         | blah        | M           |    27 |      140 |           40000 | BS                     |\n",
      "|  6 |              2 | blah         | blah        | F           |    65 |      140 |           40000 | BS                     |\n",
      "|  7 |              3 | blah         | blah        | M           |    54 |      159 |           75000 | BS                     |\n",
      "|  8 |              3 | blah         | blah        | F           |    52 |      140 |           80000 | MS                     |\n",
      "|  9 |              3 | blah         | blah        | NB          |    18 |      168 |               0 | 12                     |\n",
      "| 10 |              3 | blah         | blah        | F           |    14 |      150 |               0 | 9                      |\n",
      "| 11 |              3 | blah         | blah        | M           |    12 |      159 |               0 | 8                      |\n",
      "| 12 |              3 | blah         | blah        | M           |    11 |      140 |               0 | 7                      |\n",
      "| 13 |              3 | blah         | blah        | F           |    65 |      140 |               0 | 12                     |\n",
      "\n",
      "Vehicles.csv:\n",
      "\n",
      "|    |   Household ID | Type of vehicle   |   # of riders | Gas/electric/human powered   |   Year |   Cost |\n",
      "|---:|---------------:|:------------------|--------------:|:-----------------------------|-------:|-------:|\n",
      "|  0 |              0 | Car               |             4 | Gas                          |   2005 |  25000 |\n",
      "|  1 |              0 | Car               |             5 | Electric                     |   2018 |  40000 |\n",
      "|  2 |              0 | Bike              |             1 | Human                        |   2015 |    500 |\n",
      "|  3 |              0 | Bike              |             1 | Human                        |   2015 |    500 |\n",
      "|  4 |              0 | Bike              |             1 | Human                        |   2015 |    500 |\n",
      "|  5 |              0 | Bike              |             1 | Human                        |   2015 |    500 |\n",
      "|  6 |              2 | Car               |             7 | Gas                          |   2012 |  45000 |\n",
      "|  7 |              3 | Car               |             2 | Gas                          |   2005 |  25000 |\n",
      "|  8 |              3 | Car               |             7 | Gas                          |   2018 |  40000 |\n",
      "\n",
      "Residences.csv:\n",
      "\n",
      "|    |   Household ID | House/apartment/condo   |   # of bedrooms |   # of bathrooms |   Square footage |   Year built |   Estimate |\n",
      "|---:|---------------:|:------------------------|----------------:|-----------------:|-----------------:|-------------:|-----------:|\n",
      "|  0 |              0 | House                   |               4 |              2.5 |             1500 |         1955 |     250000 |\n",
      "|  1 |              1 | Apartment               |               2 |              2   |             1200 |         2002 |       1400 |\n",
      "|  2 |              2 | Condo                   |               2 |              1   |             1000 |         2014 |     325000 |\n",
      "|  3 |              3 | House                   |               6 |              4.5 |             4500 |         1998 |     500000 |\n",
      "\n"
     ]
    }
   ],
   "source": [
    "import pandas as pd\n",
    "for f in filepaths:\n",
    "    print(f + ':\\n')\n",
    "    print(pd.read_csv(f).to_markdown())\n",
    "    print()"
   ]
  },
  {
   "cell_type": "markdown",
   "id": "e084cc31-08c9-42eb-87ce-045a03c85a7d",
   "metadata": {},
   "source": [
    "So there is a lot of different columns in these three csvs but it looks like they are all connected by the common key `Household ID`. This is similar to a database structure where each csv has a different length but are connected by a common ID. This makes these files perfect for being stored in a hepfile!"
   ]
  },
  {
   "cell_type": "markdown",
   "id": "d4fcfcf4-ad7d-4261-846f-81417753ddb1",
   "metadata": {},
   "source": [
    "First, to view these csvs as one awkward array in the structure of a hepfile, you can use the `hepfile.csv_tools.csv_to_awkward` method. All we have to do is provide it the csv filepaths and the common key."
   ]
  },
  {
   "cell_type": "code",
   "execution_count": 5,
   "id": "50bd1479-d374-4e12-aece-5676420939b9",
   "metadata": {},
   "outputs": [
    {
     "name": "stdout",
     "output_type": "stream",
     "text": [
      "{'People.csv': [{'Household ID': [0, 0, 0, 0], 'First name': [...], ...}, ...],\n",
      " 'Vehicles.csv': [{'Household ID': [0, 0, ..., 0], ...}, {...}, {...}],\n",
      " 'Residences.csv': [{'Household ID': [0], ...}, {...}, {...}, {...}]}\n"
     ]
    }
   ],
   "source": [
    "awk = hf.csv_tools.csv_to_awkward(filepaths, common_key='Household ID')\n",
    "awk.show()"
   ]
  },
  {
   "cell_type": "markdown",
   "id": "eea695e7-f632-4dec-a8c8-07467c277bae",
   "metadata": {},
   "source": [
    "Note how the groups are simply named after the file names that we used to create the awkward array. This is the default nature of the `csv_to_awkward` method but usually this isn't preferrable. To fix this, we can use the `group_names` flag in the method call."
   ]
  },
  {
   "cell_type": "code",
   "execution_count": 6,
   "id": "f09bb6e8-e486-4a17-a530-6dd6b2b9acd7",
   "metadata": {},
   "outputs": [
    {
     "name": "stdout",
     "output_type": "stream",
     "text": [
      "{People: [{'Household ID': [0, 0, 0, 0], 'First name': [...], ...}, ..., {...}],\n",
      " Vehicles: [{'Household ID': [0, 0, ..., 0, 0], ...}, {...}, {...}],\n",
      " Residences: [{'Household ID': [0], 'House/apartment/condo': ..., ...}, ...]}\n"
     ]
    }
   ],
   "source": [
    "awk = hf.csv_tools.csv_to_awkward(filepaths, common_key='Household ID', group_names=['People', 'Vehicles', 'Residences'])\n",
    "awk.show()"
   ]
  },
  {
   "cell_type": "markdown",
   "id": "0ff53305-576e-44bb-b3c8-72ba66055796",
   "metadata": {},
   "source": [
    "If we want to go straight to writing a hepfile instead of just creating an awkward array of the data, we can use the `hepfile.csv_tools.csv_to_hepfile` method. This takes many of the same options as the `csv_to_awkward` method."
   ]
  },
  {
   "cell_type": "code",
   "execution_count": 7,
   "id": "8768e120-1743-4d0a-b1fc-981660300b4b",
   "metadata": {},
   "outputs": [
    {
     "name": "stdout",
     "output_type": "stream",
     "text": [
      "----------------------------------------------------\n",
      "Slashes / are not allowed in dataset names\n",
      "Replacing / with - in dataset name Highest degree/grade\n",
      "The new name will be Highest degree-grade\n",
      "----------------------------------------------------\n",
      "----------------------------------------------------\n",
      "Slashes / are not allowed in dataset names\n",
      "Replacing / with - in dataset name Gas/electric/human powered\n",
      "The new name will be Gas-electric-human powered\n",
      "----------------------------------------------------\n",
      "----------------------------------------------------\n",
      "Slashes / are not allowed in dataset names\n",
      "Replacing / with - in dataset name House/apartment/condo\n",
      "The new name will be House-apartment-condo\n",
      "----------------------------------------------------\n",
      "Writing the hdf5 file from the awkward array...\n",
      "Metadata added\n",
      "\n",
      "#########################################\n",
      "Output File Name: People.h5\n"
     ]
    },
    {
     "name": "stderr",
     "output_type": "stream",
     "text": [
      "/home/nfranz/research/hepfile/src/hepfile/write.py:787: UserWarning: People/nPeople and _SINGLETONS_GROUP_/COUNTER have differing numbers of entries!\n",
      "  warnings.warn(\n",
      "/home/nfranz/research/hepfile/src/hepfile/write.py:787: UserWarning: Vehicles/nVehicles and People/nPeople have differing numbers of entries!\n",
      "  warnings.warn(\n"
     ]
    }
   ],
   "source": [
    "outfilename, hepfile = hf.csv_tools.csv_to_hepfile(filepaths, common_key='Household ID', group_names=['People', 'Vehicles', 'Residences'])\n",
    "print()\n",
    "print('#########################################')\n",
    "print(f'Output File Name: {outfilename}')"
   ]
  },
  {
   "cell_type": "markdown",
   "id": "269d2797-d918-4409-8662-b678fb36328f",
   "metadata": {},
   "source": [
    "Notice how the outfile name is the name of the first csv file with csv replaced with h5. Sometimes, this works but other times you may want to provide a more specific output file name. Use the `outfile` flag to do this."
   ]
  },
  {
   "cell_type": "code",
   "execution_count": 8,
   "id": "75f5cc9e-1577-4781-8970-9d51e35ad00f",
   "metadata": {},
   "outputs": [
    {
     "name": "stdout",
     "output_type": "stream",
     "text": [
      "----------------------------------------------------\n",
      "Slashes / are not allowed in dataset names\n",
      "Replacing / with - in dataset name Highest degree/grade\n",
      "The new name will be Highest degree-grade\n",
      "----------------------------------------------------\n",
      "----------------------------------------------------\n",
      "Slashes / are not allowed in dataset names\n",
      "Replacing / with - in dataset name Gas/electric/human powered\n",
      "The new name will be Gas-electric-human powered\n",
      "----------------------------------------------------\n",
      "----------------------------------------------------\n",
      "Slashes / are not allowed in dataset names\n",
      "Replacing / with - in dataset name House/apartment/condo\n",
      "The new name will be House-apartment-condo\n",
      "----------------------------------------------------\n",
      "Writing the hdf5 file from the awkward array...\n",
      "Metadata added\n",
      "\n",
      "#########################################\n",
      "Output File Name: test.h5\n"
     ]
    },
    {
     "name": "stderr",
     "output_type": "stream",
     "text": [
      "/home/nfranz/research/hepfile/src/hepfile/write.py:787: UserWarning: People/nPeople and _SINGLETONS_GROUP_/COUNTER have differing numbers of entries!\n",
      "  warnings.warn(\n",
      "/home/nfranz/research/hepfile/src/hepfile/write.py:787: UserWarning: Vehicles/nVehicles and People/nPeople have differing numbers of entries!\n",
      "  warnings.warn(\n"
     ]
    }
   ],
   "source": [
    "outfilename, hepfile = hf.csv_tools.csv_to_hepfile(filepaths, common_key='Household ID', outfile='test.h5', group_names=['People', 'Vehicles', 'Residences'])\n",
    "print()\n",
    "print('#########################################')\n",
    "print(f'Output File Name: {outfilename}')"
   ]
  }
 ],
 "metadata": {
  "kernelspec": {
   "display_name": "Python 3 (ipykernel)",
   "language": "python",
   "name": "python3"
  },
  "language_info": {
   "codemirror_mode": {
    "name": "ipython",
    "version": 3
   },
   "file_extension": ".py",
   "mimetype": "text/x-python",
   "name": "python",
   "nbconvert_exporter": "python",
   "pygments_lexer": "ipython3",
   "version": "3.9.16"
  }
 },
 "nbformat": 4,
 "nbformat_minor": 5
}
