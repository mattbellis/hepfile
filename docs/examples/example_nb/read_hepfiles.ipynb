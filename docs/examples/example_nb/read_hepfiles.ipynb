{
 "cells": [
  {
   "cell_type": "markdown",
   "id": "4595ec12-49ac-435d-9e7e-ec757b6a813a",
   "metadata": {
    "tags": []
   },
   "source": [
    "# Reading hepfiles"
   ]
  },
  {
   "cell_type": "markdown",
   "id": "c8e3f71d-2999-4c71-9d6e-f2ef14770ec5",
   "metadata": {},
   "source": [
    "*Note*: If you have not run through the `write_hepfile` do that first to generate the output file from that. That output file will be used as the input here!"
   ]
  },
  {
   "cell_type": "markdown",
   "id": "b81d91cd-b170-48bf-ab28-f3ef1fe9828f",
   "metadata": {},
   "source": [
    "## Reading the Entire File"
   ]
  },
  {
   "cell_type": "code",
   "execution_count": 1,
   "id": "c08da23c-4699-4dba-88e1-503b1b1d3cf7",
   "metadata": {},
   "outputs": [],
   "source": [
    "# import the load function\n",
    "from hepfile import load"
   ]
  },
  {
   "cell_type": "markdown",
   "id": "13dcf91f-053c-40b4-aee8-7ecc9579eb9f",
   "metadata": {},
   "source": [
    "We begin with a file, and load it into an empty data dictionary:"
   ]
  },
  {
   "cell_type": "code",
   "execution_count": 2,
   "id": "61e11c69-ede9-4b96-b67a-f47c50369167",
   "metadata": {},
   "outputs": [
    {
     "name": "stdout",
     "output_type": "stream",
     "text": [
      "Building the indices...\n",
      "\n",
      "Built the indices!\n",
      "Data is read in and input file is closed.\n"
     ]
    }
   ],
   "source": [
    "infile = 'output_from_scratch.hdf5'\n",
    "data, event = load(infile)"
   ]
  },
  {
   "cell_type": "markdown",
   "id": "0f056a93-4a69-42aa-9034-7e8dc0f78f92",
   "metadata": {},
   "source": [
    "data is a dictionary containing counters, indices, and data for all the features we care about. event is an empty dictionary waiting to be filled by data from some new event."
   ]
  },
  {
   "cell_type": "code",
   "execution_count": 3,
   "id": "6571b4d9-b317-450f-83cd-597c7b565c45",
   "metadata": {},
   "outputs": [
    {
     "name": "stdout",
     "output_type": "stream",
     "text": [
      "{'_MAP_DATASETS_TO_COUNTERS_': {'_SINGLETONS_GROUP_': '_SINGLETONS_GROUP_/COUNTER', 'jet': 'jet/njet', 'muons': 'muons/nmuon', 'jet/e': 'jet/njet', 'jet/px': 'jet/njet', 'jet/py': 'jet/njet', 'jet/pz': 'jet/njet', 'jet/algorithm': 'jet/njet', 'jet/words': 'jet/njet', 'muons/e': 'muons/nmuon', 'muons/px': 'muons/nmuon', 'muons/py': 'muons/nmuon', 'muons/pz': 'muons/nmuon', 'METpx': '_SINGLETONS_GROUP_/COUNTER', 'METpy': '_SINGLETONS_GROUP_/COUNTER'}, '_MAP_DATASETS_TO_INDEX_': {'_SINGLETONS_GROUP_': '_SINGLETONS_GROUP_/COUNTER_INDEX', 'jet': 'jet/njet_INDEX', 'muons': 'muons/nmuon_INDEX', 'jet/e': 'jet/njet_INDEX', 'jet/px': 'jet/njet_INDEX', 'jet/py': 'jet/njet_INDEX', 'jet/pz': 'jet/njet_INDEX', 'jet/algorithm': 'jet/njet_INDEX', 'jet/words': 'jet/njet_INDEX', 'muons/e': 'muons/nmuon_INDEX', 'muons/px': 'muons/nmuon_INDEX', 'muons/py': 'muons/nmuon_INDEX', 'muons/pz': 'muons/nmuon_INDEX', 'METpx': '_SINGLETONS_GROUP_/COUNTER_INDEX', 'METpy': '_SINGLETONS_GROUP_/COUNTER_INDEX'}, '_LIST_OF_COUNTERS_': ['_SINGLETONS_GROUP_/COUNTER', 'jet/njet', 'muons/nmuon'], '_LIST_OF_DATASETS_': ['METpx', 'METpy', '_SINGLETONS_GROUP_', '_SINGLETONS_GROUP_/COUNTER', 'jet', 'jet/algorithm', 'jet/e', 'jet/njet', 'jet/px', 'jet/py', 'jet/pz', 'jet/words', 'muons', 'muons/e', 'muons/nmuon', 'muons/px', 'muons/py', 'muons/pz'], '_META_': {}, '_NUMBER_OF_BUCKETS_': 10000, '_SINGLETONS_GROUP_': array(['METpx', 'METpy'], dtype='<U5'), '_SINGLETONS_GROUP_/COUNTER': array([1, 1, 1, ..., 1, 1, 1]), '_SINGLETONS_GROUP_/COUNTER_INDEX': array([   0,    1,    2, ..., 9997, 9998, 9999]), 'jet/njet': array([17, 17, 17, ..., 17, 17, 17]), 'jet/njet_INDEX': array([     0,     17,     34, ..., 169949, 169966, 169983]), 'muons/nmuon': array([0, 0, 0, ..., 0, 0, 0]), 'muons/nmuon_INDEX': array([0, 0, 0, ..., 0, 0, 0]), 'METpx': array([0.9516797 , 0.40195033, 0.00742743, ..., 0.34253684, 0.48496932,\n",
      "       0.05837443], dtype=float32), 'METpy': array([0.95590645, 0.5730432 , 0.37858006, ..., 0.08631316, 0.5305665 ,\n",
      "       0.3883465 ], dtype=float32), 'jet/algorithm': array([ 0,  0,  0, ...,  0,  0, -1]), 'jet/e': array([0.5557165 , 0.25830156, 0.610211  , ..., 0.7112442 , 0.32158807,\n",
      "       0.9212938 ], dtype=float32), 'jet/px': array([0.631193  , 0.7223415 , 0.94338226, ..., 0.20511775, 0.43437967,\n",
      "       0.32513338], dtype=float32), 'jet/py': array([0.405146  , 0.73208547, 0.5737794 , ..., 0.5085875 , 0.9630112 ,\n",
      "       0.78477347], dtype=float32), 'jet/pz': array([0.42579263, 0.10391893, 0.19107991, ..., 0.2962092 , 0.06730943,\n",
      "       0.22053982], dtype=float32), 'jet/words': array([b'aloha', b'ciao', b'aloha', ..., b'ciao', b'ciao', b'aloha'],\n",
      "      dtype=object), 'muons/e': array([], dtype=float32), 'muons/px': array([], dtype=float32), 'muons/py': array([], dtype=float32), 'muons/pz': array([], dtype=float32), '_GROUPS_': {'_SINGLETONS_GROUP_': ['METpx', 'METpy'], 'jet': ['algorithm', 'e', 'njet', 'px', 'py', 'pz', 'words'], 'muons': ['e', 'nmuon', 'px', 'py', 'pz']}, '_MAP_DATASETS_TO_DATA_TYPES_': {'METpx': dtype('float32'), 'METpy': dtype('float32'), '_SINGLETONS_GROUP_': dtype('<U5'), '_SINGLETONS_GROUP_/COUNTER': dtype('int64'), 'jet/algorithm': dtype('int64'), 'jet/e': dtype('float32'), 'jet/njet': dtype('int64'), 'jet/px': dtype('float32'), 'jet/py': dtype('float32'), 'jet/pz': dtype('float32'), 'jet/words': dtype('O'), 'muons/e': dtype('float32'), 'muons/nmuon': dtype('int64'), 'muons/px': dtype('float32'), 'muons/py': dtype('float32'), 'muons/pz': dtype('float32')}, '_PROTECTED_NAMES_': {'_GROUPS_', '_MAP_DATASETS_TO_COUNTERS_', '_SINGLETONS_GROUP_', '_MAP_DATASETS_TO_DATA_TYPES__LIST_OF_COUNTERS_', '_PROTECTED_NAMES_', '_META_', '_SINGLETONS_GROUP_/COUNTER', '_SINGLETONSGROUPFORSTORAGE_'}}\n"
     ]
    }
   ],
   "source": [
    "print(data)"
   ]
  },
  {
   "cell_type": "code",
   "execution_count": 4,
   "id": "60dd0c02-f9f8-4382-a5b5-b19a113f588f",
   "metadata": {},
   "outputs": [
    {
     "name": "stdout",
     "output_type": "stream",
     "text": [
      "{'METpx': None, 'METpy': None, '_SINGLETONS_GROUP_/COUNTER': None, 'jet/algorithm': None, 'jet/e': None, 'jet/njet': None, 'jet/px': None, 'jet/py': None, 'jet/pz': None, 'jet/words': None, 'muons/e': None, 'muons/nmuon': None, 'muons/px': None, 'muons/py': None, 'muons/pz': None}\n"
     ]
    }
   ],
   "source": [
    "print(event)"
   ]
  },
  {
   "cell_type": "markdown",
   "id": "4e334677-e2a4-4ee5-ae40-0fb7d9e304f8",
   "metadata": {},
   "source": [
    "## Reading Part of a File\n",
    "\n",
    "If you only want to read part of a file, you can load only certain groups. This is especially useful for very large datasets.\n",
    "\n",
    "To do this, you can use the `desired_groups` and `subset` arguments to load:"
   ]
  },
  {
   "cell_type": "code",
   "execution_count": 5,
   "id": "51637433-f6cb-4806-af2e-cfa211f4e36e",
   "metadata": {},
   "outputs": [
    {
     "name": "stdout",
     "output_type": "stream",
     "text": [
      "Will read in a subset of the file!\n",
      "From bucket 5 (inclusive) through bucket 9 (inclusive)\n",
      "Bucket 10 is not read in\n",
      "Reading in 5 buckets\n",
      "\n",
      "Not reading out muons/pz from the file....\n",
      "Not reading out muons/py from the file....\n",
      "Not reading out muons/px from the file....\n",
      "Not reading out muons/nmuon from the file....\n",
      "Not reading out muons/e from the file....\n",
      "Not reading out muons from the file....\n",
      "Not reading out _SINGLETONS_GROUP_/COUNTER from the file....\n",
      "Not reading out _SINGLETONS_GROUP_ from the file....\n",
      "Not reading out METpy from the file....\n",
      "Not reading out METpx from the file....\n",
      "Building the indices...\n",
      "\n",
      "Built the indices!\n",
      "Data is read in and input file is closed.\n"
     ]
    }
   ],
   "source": [
    "data,event = load(infile,desired_groups=['jet'],subset=(5,10))"
   ]
  },
  {
   "cell_type": "code",
   "execution_count": 6,
   "id": "ac2c12de-2924-4bd1-baf5-008e52876ec4",
   "metadata": {},
   "outputs": [
    {
     "name": "stdout",
     "output_type": "stream",
     "text": [
      "dict_keys(['_MAP_DATASETS_TO_COUNTERS_', '_MAP_DATASETS_TO_INDEX_', '_LIST_OF_COUNTERS_', '_LIST_OF_DATASETS_', '_META_', '_NUMBER_OF_BUCKETS_', '_SINGLETONS_GROUP_', '_SINGLETONS_GROUP_/COUNTER', '_SINGLETONS_GROUP_/COUNTER_INDEX', 'jet/njet', 'jet/njet_INDEX', 'muons/nmuon', 'muons/nmuon_INDEX', 'jet/algorithm', 'jet/e', 'jet/px', 'jet/py', 'jet/pz', 'jet/words', '_GROUPS_', '_MAP_DATASETS_TO_DATA_TYPES_', '_PROTECTED_NAMES_'])\n"
     ]
    }
   ],
   "source": [
    "print(data.keys())"
   ]
  },
  {
   "cell_type": "markdown",
   "id": "a893926b-3652-4555-a91b-0120cbc2b8e1",
   "metadata": {},
   "source": [
    "## Reading into Awkward Arrays\n",
    "\n",
    "Awkward arrays are a very fast datatype for heterogeneous datasets. It is relatively easy to read hepfiles into them, all you need to do is add the flag `return_awkward=True` to `load`. Note: the event return will still just be a simple dictionary."
   ]
  },
  {
   "cell_type": "code",
   "execution_count": 7,
   "id": "2e251991-8528-4a2e-9a28-de507014d7a8",
   "metadata": {},
   "outputs": [
    {
     "name": "stdout",
     "output_type": "stream",
     "text": [
      "Building the indices...\n",
      "\n",
      "Built the indices!\n",
      "Data is read in and input file is closed.\n"
     ]
    }
   ],
   "source": [
    "data,event = load(infile, return_awkward=True)"
   ]
  },
  {
   "cell_type": "code",
   "execution_count": 8,
   "id": "9657b98d-f225-4eea-9e75-1a2973590fce",
   "metadata": {},
   "outputs": [
    {
     "name": "stdout",
     "output_type": "stream",
     "text": [
      "[{jet: {algorithm: [0, ...], ...}, muons: {e: [], ...}},\n",
      " {jet: {algorithm: [...], e: [...], ...}, muons: {...}},\n",
      " {jet: {algorithm: [0, ...], ...}, muons: {e: [], ...}},\n",
      " {jet: {algorithm: [...], e: [...], ...}, muons: {...}},\n",
      " {jet: {algorithm: [...], e: [...], ...}, muons: {...}},\n",
      " {jet: {algorithm: [...], e: [...], ...}, muons: {...}},\n",
      " {jet: {algorithm: [0, ...], ...}, muons: {e: [], ...}},\n",
      " {jet: {algorithm: [0, ...], ...}, muons: {e: [], ...}},\n",
      " {jet: {algorithm: [...], e: [...], ...}, muons: {...}},\n",
      " {jet: {algorithm: [...], e: [...], ...}, muons: {...}},\n",
      " ...,\n",
      " {jet: {algorithm: [0, ...], ...}, muons: {e: [], ...}},\n",
      " {jet: {algorithm: [0, ...], ...}, muons: {e: [], ...}},\n",
      " {jet: {algorithm: [...], e: [...], ...}, muons: {...}},\n",
      " {jet: {algorithm: [...], e: [...], ...}, muons: {...}},\n",
      " {jet: {algorithm: [0, ...], ...}, muons: {e: [], ...}},\n",
      " {jet: {algorithm: [0, ...], ...}, muons: {e: [], ...}},\n",
      " {jet: {algorithm: [...], e: [...], ...}, muons: {...}},\n",
      " {jet: {algorithm: [...], e: [...], ...}, muons: {...}},\n",
      " {jet: {algorithm: [...], e: [...], ...}, muons: {...}}]\n",
      "\n",
      "[{algorithm: [0, 0, 0, -1, ..., 0, -1, 0], e: [0.556, ...], px: [...], ...},\n",
      " {algorithm: [-1, -1, 0, 0, ..., -1, -1, 0], e: [0.0637, ...], px: [...], ...},\n",
      " {algorithm: [0, -1, -1, ..., 0, -1, -1], e: [0.673, ...], px: [...], ...},\n",
      " {algorithm: [-1, 0, -1, 0, ..., 0, -1, 0], e: [0.505, ...], px: [...], ...},\n",
      " {algorithm: [-1, 0, -1, 0, ..., -1, 0, 0], e: [0.682, ...], px: [...], ...},\n",
      " {algorithm: [-1, 0, 0, 0, ..., 0, 0, 0], e: [0.382, ...], px: [...], ...},\n",
      " {algorithm: [0, -1, -1, -1, ..., 0, -1, 0], e: [0.822, ...], px: [...], ...},\n",
      " {algorithm: [0, -1, 0, 0, ..., 0, -1, 0], e: [0.0903, ...], px: [...], ...},\n",
      " {algorithm: [-1, 0, 0, 0, ..., -1, 0, 0], e: [0.582, ...], px: [...], ...},\n",
      " {algorithm: [-1, 0, 0, -1, ..., 0, -1, -1], e: [0.268, ...], px: [...], ...},\n",
      " ...,\n",
      " {algorithm: [0, 0, 0, 0, ..., 0, -1, -1], e: [0.315, ...], px: [...], ...},\n",
      " {algorithm: [0, 0, 0, -1, ..., 0, -1, 0], e: [0.506, ...], px: [...], ...},\n",
      " {algorithm: [-1, -1, 0, 0, ..., 0, -1, 0], e: [0.442, ...], px: [...], ...},\n",
      " {algorithm: [-1, 0, -1, 0, ..., -1, 0, 0], e: [0.581, ...], px: [...], ...},\n",
      " {algorithm: [0, -1, -1, ..., -1, -1, 0], e: [0.499, ...], px: [...], ...},\n",
      " {algorithm: [0, -1, -1, 0, ..., 0, -1, 0], e: [0.776, ...], px: [...], ...},\n",
      " {algorithm: [-1, 0, 0, 0, ..., 0, 0, -1], e: [0.0321, ...], px: [...], ...},\n",
      " {algorithm: [-1, 0, 0, -1, ..., -1, 0, 0], e: [0.216, ...], px: [...], ...},\n",
      " {algorithm: [-1, -1, -1, ..., 0, 0, -1], e: [0.88, ...], px: [...], ...}]\n",
      "\n",
      "[[0.631, 0.722, 0.943, 0.491, 0.0148, ..., 0.0238, 0.765, 0.97, 0.332, 0.607],\n",
      " [0.629, 0.571, 0.64, 0.447, 0.547, ..., 0.974, 0.991, 0.878, 0.759, 0.965],\n",
      " [0.748, 0.0907, 0.894, 0.768, 0.601, ..., 0.872, 0.488, 0.0181, 0.00497],\n",
      " [0.824, 0.712, 0.222, 0.816, 0.815, ..., 0.202, 0.504, 0.274, 0.324, 0.193],\n",
      " [0.502, 0.822, 0.186, 0.178, 0.0295, ..., 0.813, 0.171, 0.536, 0.897, 0.458],\n",
      " [0.1, 0.908, 0.241, 0.972, 0.641, ..., 0.997, 0.422, 0.387, 0.427, 0.476],\n",
      " [0.212, 0.329, 0.897, 0.172, 0.471, ..., 0.57, 0.377, 0.612, 0.968, 0.912],\n",
      " [0.15, 0.273, 0.845, 0.473, 0.254, ..., 0.585, 0.179, 0.226, 0.992, 0.623],\n",
      " [0.105, 0.688, 0.227, 0.369, 0.0833, ..., 0.412, 0.985, 0.206, 0.155, 0.116],\n",
      " [0.0502, 0.945, 0.709, 0.131, 0.315, ..., 0.309, 0.108, 0.21, 0.026, 0.164],\n",
      " ...,\n",
      " [0.604, 0.666, 0.794, 0.114, 0.0272, ..., 0.835, 0.372, 0.442, 0.812, 0.816],\n",
      " [0.552, 0.095, 0.723, 0.882, 0.521, ..., 0.808, 0.369, 0.71, 0.12, 0.554],\n",
      " [0.333, 0.664, 0.7, 0.658, 0.256, ..., 0.948, 0.404, 0.558, 0.119, 0.973],\n",
      " [0.94, 0.256, 0.585, 0.843, 0.465, ..., 0.852, 0.185, 0.659, 0.418, 0.923],\n",
      " [0.905, 0.447, 0.707, 0.0406, 0.15, ..., 0.282, 0.419, 0.557, 0.227, 0.832],\n",
      " [0.563, 0.529, 0.732, 0.694, 0.729, ..., 0.509, 0.177, 0.459, 0.867, 0.569],\n",
      " [0.585, 0.0701, 0.275, 0.0377, 0.74, ..., 0.585, 0.166, 0.339, 0.404, 0.579],\n",
      " [0.734, 0.721, 0.505, 0.915, 0.568, ..., 0.935, 0.778, 0.132, 0.117, 0.827],\n",
      " [0.283, 0.616, 0.191, 0.221, 0.151, ..., 0.638, 0.498, 0.205, 0.434, 0.325]]\n"
     ]
    }
   ],
   "source": [
    "data.show() # display data\n",
    "print()\n",
    "data['jet'].show() # display just the jet data\n",
    "print()\n",
    "data.jet.px.show() # display the px data from the jet dataset"
   ]
  },
  {
   "cell_type": "code",
   "execution_count": 9,
   "id": "f9d05ff6-bb75-44f1-b849-8ce367bf3e0c",
   "metadata": {},
   "outputs": [
    {
     "data": {
      "text/plain": [
       "{'METpx': None,\n",
       " 'METpy': None,\n",
       " '_SINGLETONS_GROUP_/COUNTER': None,\n",
       " 'jet/algorithm': None,\n",
       " 'jet/e': None,\n",
       " 'jet/njet': None,\n",
       " 'jet/px': None,\n",
       " 'jet/py': None,\n",
       " 'jet/pz': None,\n",
       " 'jet/words': None,\n",
       " 'muons/e': None,\n",
       " 'muons/nmuon': None,\n",
       " 'muons/px': None,\n",
       " 'muons/py': None,\n",
       " 'muons/pz': None}"
      ]
     },
     "execution_count": 9,
     "metadata": {},
     "output_type": "execute_result"
    }
   ],
   "source": [
    "event"
   ]
  },
  {
   "cell_type": "markdown",
   "id": "f6960aa6-06d5-4f63-9518-0c044acb0d4f",
   "metadata": {},
   "source": [
    "With the `return_awkward=True` flag, you can still select a subset of the data in the same way!"
   ]
  },
  {
   "cell_type": "code",
   "execution_count": 10,
   "id": "4991f724-cdde-41a8-85bd-f3017226339d",
   "metadata": {},
   "outputs": [
    {
     "name": "stdout",
     "output_type": "stream",
     "text": [
      "Will read in a subset of the file!\n",
      "From bucket 5 (inclusive) through bucket 9 (inclusive)\n",
      "Bucket 10 is not read in\n",
      "Reading in 5 buckets\n",
      "\n",
      "Not reading out muons/pz from the file....\n",
      "Not reading out muons/py from the file....\n",
      "Not reading out muons/px from the file....\n",
      "Not reading out muons/nmuon from the file....\n",
      "Not reading out muons/e from the file....\n",
      "Not reading out muons from the file....\n",
      "Not reading out _SINGLETONS_GROUP_/COUNTER from the file....\n",
      "Not reading out _SINGLETONS_GROUP_ from the file....\n",
      "Not reading out METpy from the file....\n",
      "Not reading out METpx from the file....\n",
      "Building the indices...\n",
      "\n",
      "Built the indices!\n",
      "Data is read in and input file is closed.\n"
     ]
    }
   ],
   "source": [
    "data,event = load(infile, return_awkward=True, desired_groups=['jet'], subset=(5,10))"
   ]
  },
  {
   "cell_type": "code",
   "execution_count": 11,
   "id": "f38bdccd-79d0-4323-b929-adc0579dce35",
   "metadata": {},
   "outputs": [
    {
     "name": "stdout",
     "output_type": "stream",
     "text": [
      "[{jet: {algorithm: [-1, 0, 0, ..., 0, 0, 0], e: [...], px: [...], ...}},\n",
      " {jet: {algorithm: [0, -1, -1, ..., -1, 0], e: [...], px: [...], ...}},\n",
      " {jet: {algorithm: [0, -1, 0, ..., -1, 0], e: [...], px: [...], ...}},\n",
      " {jet: {algorithm: [-1, 0, 0, ..., 0, 0], e: [...], px: [...], ...}},\n",
      " {jet: {algorithm: [-1, 0, 0, ..., -1, -1], e: [...], px: [...], ...}}]\n",
      "\n",
      "[{algorithm: [-1, 0, 0, 0, ..., 0, 0, 0], e: [0.382, ...], px: [...], ...},\n",
      " {algorithm: [0, -1, -1, -1, ..., 0, -1, 0], e: [0.822, ...], px: [...], ...},\n",
      " {algorithm: [0, -1, 0, 0, ..., 0, -1, 0], e: [0.0903, ...], px: [...], ...},\n",
      " {algorithm: [-1, 0, 0, 0, ..., -1, 0, 0], e: [0.582, ...], px: [...], ...},\n",
      " {algorithm: [-1, 0, 0, -1, ..., 0, -1, -1], e: [0.268, ...], px: [...], ...}]\n",
      "\n",
      "[[0.1, 0.908, 0.241, 0.972, 0.641, ..., 0.997, 0.422, 0.387, 0.427, 0.476],\n",
      " [0.212, 0.329, 0.897, 0.172, 0.471, ..., 0.57, 0.377, 0.612, 0.968, 0.912],\n",
      " [0.15, 0.273, 0.845, 0.473, 0.254, ..., 0.585, 0.179, 0.226, 0.992, 0.623],\n",
      " [0.105, 0.688, 0.227, 0.369, 0.0833, ..., 0.412, 0.985, 0.206, 0.155, 0.116],\n",
      " [0.0502, 0.945, 0.709, 0.131, 0.315, ..., 0.309, 0.108, 0.21, 0.026, 0.164]]\n"
     ]
    }
   ],
   "source": [
    "data.show() # display data\n",
    "print()\n",
    "data['jet'].show() # display just the jet data\n",
    "print()\n",
    "data.jet.px.show() # display the px data from the jet dataset"
   ]
  },
  {
   "cell_type": "code",
   "execution_count": 12,
   "id": "94d9e693-d498-4ce1-82f0-1f4993e2499d",
   "metadata": {},
   "outputs": [
    {
     "data": {
      "text/plain": [
       "{'jet/algorithm': None,\n",
       " 'jet/e': None,\n",
       " 'jet/njet': None,\n",
       " 'jet/px': None,\n",
       " 'jet/py': None,\n",
       " 'jet/pz': None,\n",
       " 'jet/words': None}"
      ]
     },
     "execution_count": 12,
     "metadata": {},
     "output_type": "execute_result"
    }
   ],
   "source": [
    "event"
   ]
  },
  {
   "cell_type": "code",
   "execution_count": null,
   "id": "4755f9a7-202c-479f-a45e-0b90a1edd4c9",
   "metadata": {},
   "outputs": [],
   "source": []
  }
 ],
 "metadata": {
  "kernelspec": {
   "display_name": "Python 3 (ipykernel)",
   "language": "python",
   "name": "python3"
  },
  "language_info": {
   "codemirror_mode": {
    "name": "ipython",
    "version": 3
   },
   "file_extension": ".py",
   "mimetype": "text/x-python",
   "name": "python",
   "nbconvert_exporter": "python",
   "pygments_lexer": "ipython3",
   "version": "3.9.16"
  }
 },
 "nbformat": 4,
 "nbformat_minor": 5
}
