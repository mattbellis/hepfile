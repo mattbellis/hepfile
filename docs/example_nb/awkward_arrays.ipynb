{
 "cells": [
  {
   "cell_type": "markdown",
   "id": "a6bbc2cf-d287-4e66-83eb-89fc3c2aa993",
   "metadata": {},
   "source": [
    "# Working with Awkward Arrays\n",
    "\n",
    "Awkward arrays are existing python software that allows for different length arrays to be stored in a single array. This can be very useful for those working with \"heterogeneous\" data."
   ]
  },
  {
   "cell_type": "code",
   "execution_count": 1,
   "id": "740a3354-ac72-4e0d-b4bb-70ad8d6e97dd",
   "metadata": {},
   "outputs": [],
   "source": [
    "# imports\n",
    "import awkward as ak\n",
    "import hepfile as hf"
   ]
  },
  {
   "cell_type": "markdown",
   "id": "7d4ec938-04a8-4a2a-8ac9-b0ab32492757",
   "metadata": {},
   "source": [
    "## Introduction to Awkward Arrays\n",
    "\n",
    "This is a general overview, see https://awkward-array.org/doc/main/index.html for more details.\n",
    "\n",
    "Say we have an array, `list1`, that is made up of lists of lists that are different lengths. "
   ]
  },
  {
   "cell_type": "code",
   "execution_count": 2,
   "id": "3d944230-5040-4896-8002-c66a57d0c2f2",
   "metadata": {},
   "outputs": [],
   "source": [
    "list1 = [[1,2,3],\n",
    "        [4,5],\n",
    "        [6]]"
   ]
  },
  {
   "cell_type": "markdown",
   "id": "05dadd3a-66d8-49aa-a6c9-eafa68d8666e",
   "metadata": {},
   "source": [
    "Sadly, NumPy doesn't allow for easy manipulations/calculations with such \"ragged\" arrays. That is where the `awkward` package becomes very useful. We can create an awkward array from `list1` with the following code:"
   ]
  },
  {
   "cell_type": "code",
   "execution_count": 3,
   "id": "717d60f2-d32e-4793-88cc-785b967f02cd",
   "metadata": {},
   "outputs": [
    {
     "name": "stdout",
     "output_type": "stream",
     "text": [
      "[[1, 2, 3], [4, 5], [6]]\n",
      "<class 'awkward.highlevel.Array'>\n"
     ]
    }
   ],
   "source": [
    "awk = ak.Array(list1)\n",
    "print(awk)\n",
    "print(type(awk))"
   ]
  },
  {
   "cell_type": "markdown",
   "id": "cd2104b9-3466-4d92-87f5-e06732b9f973",
   "metadata": {},
   "source": [
    "Then, we can do many similar calculations that we normally could do with NumPy"
   ]
  },
  {
   "cell_type": "code",
   "execution_count": 4,
   "id": "c830e571-532a-42b7-959b-27cf065bea90",
   "metadata": {},
   "outputs": [
    {
     "name": "stdout",
     "output_type": "stream",
     "text": [
      "Total Sum = 21\n",
      "Sum of columns = [11, 7, 3]\n",
      "Sum of rows = [6, 9, 6]\n"
     ]
    }
   ],
   "source": [
    "# sum along different axis\n",
    "print(f'Total Sum = {ak.sum(awk)}')\n",
    "print(f'Sum of columns = {ak.sum(awk, axis=0)}')\n",
    "print(f'Sum of rows = {ak.sum(awk, axis=1)}')"
   ]
  },
  {
   "cell_type": "markdown",
   "id": "153c59e9-3b6b-43fe-9055-d805a450a19b",
   "metadata": {},
   "source": [
    "## Converting hepfiles to awkward arrays\n",
    "\n",
    "All of the awkward tools for hepfile are in `hepfile.awkward_tools`.\n",
    "\n",
    "We have built in an easy method to go from the output of the `hepfile.read.load` method to an awkward array called `hepfile_to_awkward`\n",
    "\n",
    "**Note:** This section of this tutorial assumes you have completed the *writing_hepfiles_from_dicts* tutorial!"
   ]
  },
  {
   "cell_type": "code",
   "execution_count": 5,
   "id": "f61aec19-ea2d-4208-94df-a345279780ac",
   "metadata": {},
   "outputs": [
    {
     "name": "stdout",
     "output_type": "stream",
     "text": [
      "{'_MAP_DATASETS_TO_COUNTERS_': {'_SINGLETONS_GROUP_': '_SINGLETONS_GROUP_/COUNTER', 'jet': 'jet/njet', 'jet/px': 'jet/njet', 'jet/py': 'jet/njet', 'muons': 'muons/nmuons', 'muons/px': 'muons/nmuons', 'muons/py': 'muons/nmuons', 'nParticles': '_SINGLETONS_GROUP_/COUNTER'}, '_MAP_DATASETS_TO_INDEX_': {'_SINGLETONS_GROUP_': '_SINGLETONS_GROUP_/COUNTER_INDEX', 'jet': 'jet/njet_INDEX', 'jet/px': 'jet/njet_INDEX', 'jet/py': 'jet/njet_INDEX', 'muons': 'muons/nmuons_INDEX', 'muons/px': 'muons/nmuons_INDEX', 'muons/py': 'muons/nmuons_INDEX', 'nParticles': '_SINGLETONS_GROUP_/COUNTER_INDEX'}, '_LIST_OF_COUNTERS_': ['_SINGLETONS_GROUP_/COUNTER', 'jet/njet', 'muons/nmuons'], '_LIST_OF_DATASETS_': ['_SINGLETONS_GROUP_', '_SINGLETONS_GROUP_/COUNTER', 'jet', 'jet/njet', 'jet/px', 'jet/py', 'muons', 'muons/nmuons', 'muons/px', 'muons/py', 'nParticles'], '_META_': {}, '_NUMBER_OF_BUCKETS_': 2, '_SINGLETONS_GROUP_': array(['nParticles'], dtype='<U10'), '_SINGLETONS_GROUP_/COUNTER': array([1, 1]), '_SINGLETONS_GROUP_/COUNTER_INDEX': array([0, 1]), 'jet/njet': array([3, 4]), 'jet/njet_INDEX': array([0, 3]), 'muons/nmuons': array([3, 4]), 'muons/nmuons_INDEX': array([0, 3]), 'jet/px': array([1, 2, 3, 3, 4, 6, 7]), 'jet/py': array([1, 2, 3, 3, 4, 6, 7]), 'muons/px': array([1, 2, 3, 3, 4, 6, 7]), 'muons/py': array([1, 2, 3, 3, 4, 6, 7]), 'nParticles': array([3, 4]), '_GROUPS_': {'_SINGLETONS_GROUP_': ['nParticles'], 'jet': ['njet', 'px', 'py'], 'muons': ['nmuons', 'px', 'py']}, '_MAP_DATASETS_TO_DATA_TYPES_': {'_SINGLETONS_GROUP_': dtype('<U10'), '_SINGLETONS_GROUP_/COUNTER': dtype('int64'), 'jet/njet': dtype('int64'), 'jet/px': dtype('int64'), 'jet/py': dtype('int64'), 'muons/nmuons': dtype('int64'), 'muons/px': dtype('int64'), 'muons/py': dtype('int64'), 'nParticles': dtype('int64')}, '_PROTECTED_NAMES_': {'_MAP_DATASETS_TO_COUNTERS_', '_META_', '_PROTECTED_NAMES_', '_LIST_OF_COUNTERS_', '_SINGLETONS_GROUP_/COUNTER', '_GROUPS_', '_SINGLETONSGROUPFORSTORAGE_', '_SINGLETONS_GROUP_', '_MAP_DATASETS_TO_DATA_TYPES_', '_HEADER_'}}\n",
      "\n",
      "Awkward Array:\n",
      "\n",
      "[{nParticles: 3, jet: {px: [1, ...], ...}, muons: {...}},\n",
      " {nParticles: 4, jet: {px: [3, ...], ...}, muons: {...}}]\n"
     ]
    }
   ],
   "source": [
    "infile = 'output_from_dict.hdf5'\n",
    "\n",
    "# read in the hepfile data\n",
    "data, _ = hf.load(infile)\n",
    "print(data)\n",
    "# convert it to an awkward array\n",
    "dataAwk = hf.awkward_tools.hepfile_to_awkward(data)\n",
    "print()\n",
    "print('Awkward Array:\\n')\n",
    "dataAwk.show()"
   ]
  },
  {
   "cell_type": "markdown",
   "id": "fb24d558-c1e8-452b-8462-8b6f27fd4016",
   "metadata": {},
   "source": [
    "Such a structure may be more intuitive to some and may make some analysis easier."
   ]
  },
  {
   "cell_type": "markdown",
   "id": "8e56e351-9fdd-44bf-96ea-39dbda7ba062",
   "metadata": {},
   "source": [
    "# Appending to this awkward array\n",
    "\n",
    "Now say that we want to add some new event to this awkward array. This can either be to continue to work with the awkward array or to add data to the hepfile.\n",
    "\n",
    "Let's say we want to add the following dictionary:"
   ]
  },
  {
   "cell_type": "code",
   "execution_count": 6,
   "id": "a671e7ab-bb0b-460f-844b-6748f6864781",
   "metadata": {},
   "outputs": [],
   "source": [
    "new_dict = {'jet': {'px': [10, 100], 'py': [0, 0]},\n",
    "            'muons': {'px': [5, 1000], 'py': [0, -1]},\n",
    "            'nParticles': 2\n",
    "            }"
   ]
  },
  {
   "cell_type": "markdown",
   "id": "6eeef7ef-fd37-4d26-aa3a-348f1f20a47a",
   "metadata": {},
   "source": [
    "We can add this to the existing awkward array using the `hepfile.dict_tools.append` function. To call this function, we pass in first the existing awkward array and second the new dictionary."
   ]
  },
  {
   "cell_type": "code",
   "execution_count": 7,
   "id": "e5d1e39d-8e4c-467f-a539-c232e9d5eeb1",
   "metadata": {},
   "outputs": [
    {
     "name": "stdout",
     "output_type": "stream",
     "text": [
      "[{nParticles: 3, jet: {px: [1, ...], ...}, muons: {...}},\n",
      " {nParticles: 4, jet: {px: [3, ...], ...}, muons: {...}},\n",
      " {nParticles: 2, jet: {px: [...], py: ..., ...}, muons: {...}}]\n"
     ]
    }
   ],
   "source": [
    "newAwkData = hf.dict_tools.append(dataAwk, new_dict)\n",
    "\n",
    "newAwkData.show()"
   ]
  },
  {
   "cell_type": "markdown",
   "id": "6ce40ddf-49f1-408d-a107-13073541a1ed",
   "metadata": {},
   "source": [
    "# Rewriting the awkward data as a hepfile\n",
    "\n",
    "Now that we have modified our awkward data array we can rewrite it as a hepfile. \n",
    "\n",
    "To do this, all we need to do is define an output file name and call `hepfile.awkward_tools.awkward_to_hepfile`"
   ]
  },
  {
   "cell_type": "code",
   "execution_count": 8,
   "id": "61d2ba38-db17-4f95-a4d3-b4e0a46a7def",
   "metadata": {},
   "outputs": [
    {
     "name": "stdout",
     "output_type": "stream",
     "text": [
      "Writing the hdf5 file from the awkward array...\n"
     ]
    },
    {
     "data": {
      "text/plain": [
       "{'_GROUPS_': {'_SINGLETONS_GROUP_': ['COUNTER', 'nParticles'],\n",
       "  'jet': ['njet', 'px', 'py'],\n",
       "  'muons': ['nmuons', 'px', 'py']},\n",
       " '_MAP_DATASETS_TO_COUNTERS_': {'_SINGLETONS_GROUP_': '_SINGLETONS_GROUP_/COUNTER',\n",
       "  'nParticles': '_SINGLETONS_GROUP_/COUNTER',\n",
       "  'jet': 'jet/njet',\n",
       "  'jet/px': 'jet/njet',\n",
       "  'jet/py': 'jet/njet',\n",
       "  'muons': 'muons/nmuons',\n",
       "  'muons/px': 'muons/nmuons',\n",
       "  'muons/py': 'muons/nmuons'},\n",
       " '_LIST_OF_COUNTERS_': ['_SINGLETONS_GROUP_/COUNTER',\n",
       "  'jet/njet',\n",
       "  'muons/nmuons'],\n",
       " '_SINGLETONS_GROUP_/COUNTER': [1, 1, 1],\n",
       " '_MAP_DATASETS_TO_DATA_TYPES_': {'_SINGLETONS_GROUP_/COUNTER': int,\n",
       "  'nParticles': dtype('int64'),\n",
       "  'jet/njet': int,\n",
       "  'jet/px': dtype('int64'),\n",
       "  'jet/py': dtype('int64'),\n",
       "  'muons/nmuons': int,\n",
       "  'muons/px': dtype('int64'),\n",
       "  'muons/py': dtype('int64')},\n",
       " '_META_': {},\n",
       " 'nParticles': [3, 4, 2],\n",
       " 'jet/njet': [3, 4, 2],\n",
       " 'jet/px': [1, 2, 3, 3, 4, 6, 7, 10, 100],\n",
       " 'jet/py': [1, 2, 3, 3, 4, 6, 7, 0, 0],\n",
       " 'muons/nmuons': [3, 4, 2],\n",
       " 'muons/px': [1, 2, 3, 3, 4, 6, 7, 5, 1000],\n",
       " 'muons/py': [1, 2, 3, 3, 4, 6, 7, 0, -1]}"
      ]
     },
     "execution_count": 8,
     "metadata": {},
     "output_type": "execute_result"
    }
   ],
   "source": [
    "outfile = 'updated-awkward-array.h5'\n",
    "hf.awkward_tools.awkward_to_hepfile(newAwkData, outfile)"
   ]
  },
  {
   "cell_type": "code",
   "execution_count": null,
   "id": "0ce28128-29c3-4a34-969d-de7678e0a971",
   "metadata": {},
   "outputs": [],
   "source": []
  }
 ],
 "metadata": {
  "kernelspec": {
   "display_name": "Python 3 (ipykernel)",
   "language": "python",
   "name": "python3"
  },
  "language_info": {
   "codemirror_mode": {
    "name": "ipython",
    "version": 3
   },
   "file_extension": ".py",
   "mimetype": "text/x-python",
   "name": "python",
   "nbconvert_exporter": "python",
   "pygments_lexer": "ipython3",
   "version": "3.9.17"
  }
 },
 "nbformat": 4,
 "nbformat_minor": 5
}
