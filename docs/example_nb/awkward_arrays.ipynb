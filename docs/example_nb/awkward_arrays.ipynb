{
 "cells": [
  {
   "cell_type": "markdown",
   "id": "a6bbc2cf-d287-4e66-83eb-89fc3c2aa993",
   "metadata": {},
   "source": [
    "# Working with Awkward Arrays\n",
    "\n",
    "Awkward arrays are existing python software that allows for different length arrays to be stored in a single array. This can be very useful for those working with \"heterogeneous\" data."
   ]
  },
  {
   "cell_type": "code",
   "execution_count": 1,
   "id": "740a3354-ac72-4e0d-b4bb-70ad8d6e97dd",
   "metadata": {},
   "outputs": [],
   "source": [
    "# imports\n",
    "import awkward as ak\n",
    "import hepfile as hf"
   ]
  },
  {
   "cell_type": "markdown",
   "id": "7d4ec938-04a8-4a2a-8ac9-b0ab32492757",
   "metadata": {},
   "source": [
    "## Introduction to Awkward Arrays\n",
    "\n",
    "This is a general overview, see https://awkward-array.org/doc/main/index.html for more details.\n",
    "\n",
    "Say we have an array, `list1`, that is made up of lists of lists that are different lengths. "
   ]
  },
  {
   "cell_type": "code",
   "execution_count": 2,
   "id": "3d944230-5040-4896-8002-c66a57d0c2f2",
   "metadata": {},
   "outputs": [],
   "source": [
    "list1 = [[1,2,3],\n",
    "        [4,5],\n",
    "        [6]]"
   ]
  },
  {
   "cell_type": "markdown",
   "id": "05dadd3a-66d8-49aa-a6c9-eafa68d8666e",
   "metadata": {},
   "source": [
    "Sadly, NumPy doesn't allow for easy manipulations/calculations with such \"ragged\" arrays. That is where the `awkward` package becomes very useful. We can create an awkward array from `list1` with the following code:"
   ]
  },
  {
   "cell_type": "code",
   "execution_count": 3,
   "id": "717d60f2-d32e-4793-88cc-785b967f02cd",
   "metadata": {},
   "outputs": [
    {
     "name": "stdout",
     "output_type": "stream",
     "text": [
      "[[1, 2, 3], [4, 5], [6]]\n",
      "<class 'awkward.highlevel.Array'>\n"
     ]
    }
   ],
   "source": [
    "awk = ak.Array(list1)\n",
    "print(awk)\n",
    "print(type(awk))"
   ]
  },
  {
   "cell_type": "markdown",
   "id": "cd2104b9-3466-4d92-87f5-e06732b9f973",
   "metadata": {},
   "source": [
    "Then, we can do many similar calculations that we normally could do with NumPy"
   ]
  },
  {
   "cell_type": "code",
   "execution_count": 4,
   "id": "c830e571-532a-42b7-959b-27cf065bea90",
   "metadata": {},
   "outputs": [
    {
     "name": "stdout",
     "output_type": "stream",
     "text": [
      "Total Sum = 21\n",
      "Sum of columns = [11, 7, 3]\n",
      "Sum of rows = [6, 9, 6]\n"
     ]
    }
   ],
   "source": [
    "# sum along different axis\n",
    "print(f'Total Sum = {ak.sum(awk)}')\n",
    "print(f'Sum of columns = {ak.sum(awk, axis=0)}')\n",
    "print(f'Sum of rows = {ak.sum(awk, axis=1)}')"
   ]
  },
  {
   "cell_type": "markdown",
   "id": "153c59e9-3b6b-43fe-9055-d805a450a19b",
   "metadata": {},
   "source": [
    "## Converting hepfiles to awkward arrays\n",
    "\n",
    "All of the awkward tools for hepfile are in `hepfile.awkward_tools`.\n",
    "\n",
    "We have built in an easy method to go from the output of the `hepfile.read.load` method to an awkward array called `hepfile_to_awkward`\n",
    "\n",
    "**Note:** This section of this tutorial assumes you have completed the *writing_hepfiles_from_dicts* tutorial!"
   ]
  },
  {
   "cell_type": "code",
   "execution_count": 5,
   "id": "f61aec19-ea2d-4208-94df-a345279780ac",
   "metadata": {},
   "outputs": [
    {
     "name": "stdout",
     "output_type": "stream",
     "text": [
      "Building the indices...\n",
      "\n",
      "Built the indices!\n",
      "Data is read in and input file is closed.\n",
      "['jet' 'muons' 'nParticles'] ['_SINGLETONS_GROUP_', '_SINGLETONS_GROUP_/COUNTER', 'jet', 'jet/njet', 'jet/px', 'jet/py', 'muons', 'muons/nmuons', 'muons/px', 'muons/py', 'nParticles']\n",
      "\n",
      "Awkward Array:\n",
      "\n",
      "{jet: [{px: [1, 2, 3], py: [1, 2, 3]}, {px: [3, ..., 7], py: [...]}],\n",
      " muons: [{px: [1, 2, 3], py: [1, 2, 3]}, {px: [3, ..., 7], py: ..., ...}],\n",
      " nParticles: [3, 4]}\n"
     ]
    }
   ],
   "source": [
    "infile = 'output_from_dict.hdf5'\n",
    "\n",
    "# read in the hepfile data\n",
    "data, _ = hf.load(infile)\n",
    "\n",
    "# convert it to an awkward array\n",
    "dataAwk = hf.awkward_tools.hepfile_to_awkward(data)\n",
    "print()\n",
    "print('Awkward Array:\\n')\n",
    "dataAwk.show()"
   ]
  },
  {
   "cell_type": "markdown",
   "id": "fb24d558-c1e8-452b-8462-8b6f27fd4016",
   "metadata": {},
   "source": [
    "Such a structure may be more intuitive to some and may make some analysis easier.\n",
    "\n",
    "As a side note, `hepfile.awkward_tools.awkward_to_hepfile` does also exist. But, this method is meant to be called from the `hepfile.dict_tools.dictlike_to_hepfile` method. It could be used by a user but the better practice is to use the `dict_tools` wrapper method."
   ]
  }
 ],
 "metadata": {
  "kernelspec": {
   "display_name": "Python 3 (ipykernel)",
   "language": "python",
   "name": "python3"
  },
  "language_info": {
   "codemirror_mode": {
    "name": "ipython",
    "version": 3
   },
   "file_extension": ".py",
   "mimetype": "text/x-python",
   "name": "python",
   "nbconvert_exporter": "python",
   "pygments_lexer": "ipython3",
   "version": "3.9.16"
  }
 },
 "nbformat": 4,
 "nbformat_minor": 5
}
