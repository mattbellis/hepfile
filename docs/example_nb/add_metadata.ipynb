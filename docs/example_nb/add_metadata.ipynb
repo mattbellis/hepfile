{
 "cells": [
  {
   "cell_type": "markdown",
   "id": "811254cc-c7b2-43de-966a-2e08ac09454f",
   "metadata": {},
   "source": [
    "# Adding Metadata to a hepfile"
   ]
  },
  {
   "cell_type": "code",
   "execution_count": null,
   "id": "8ee4cc79-6dea-46b6-8ecc-7624acb08130",
   "metadata": {},
   "outputs": [],
   "source": []
  }
 ],
 "metadata": {
  "kernelspec": {
   "display_name": "Python 3 (ipykernel)",
   "language": "python",
   "name": "python3"
  },
  "language_info": {
   "codemirror_mode": {
    "name": "ipython",
    "version": 3
   },
   "file_extension": ".py",
   "mimetype": "text/x-python",
   "name": "python",
   "nbconvert_exporter": "python",
   "pygments_lexer": "ipython3",
   "version": "3.9.16"
  }
 },
 "nbformat": 4,
 "nbformat_minor": 5
}
