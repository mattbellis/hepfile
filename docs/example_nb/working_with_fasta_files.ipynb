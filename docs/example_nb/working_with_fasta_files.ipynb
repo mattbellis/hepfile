{
 "cells": [
  {
   "cell_type": "markdown",
   "id": "420653d9-b964-48f8-bcb1-b4010a1495b1",
   "metadata": {},
   "source": [
    "# Working with FASTA Files\n",
    "\n",
    "A FASTA file is a file structure commonly used in biology for storing nucleotide sequencing data. For more information see: https://en.wikipedia.org/wiki/FASTA_format. This tutorial may be useful for those who want to store FASTA files as hepfiles and then read them in quickly and easily. Once they are read in as hepfiles, it should be easy to use awkward arrays to work with them directly!"
   ]
  },
  {
   "cell_type": "code",
   "execution_count": 1,
   "id": "953a03cd-9982-41f4-9652-95018287c53b",
   "metadata": {},
   "outputs": [],
   "source": [
    "# imports\n",
    "import hepfile as hf"
   ]
  },
  {
   "cell_type": "code",
   "execution_count": null,
   "id": "c69c47b2-d0ed-4ede-b6f0-39323467cffd",
   "metadata": {},
   "outputs": [],
   "source": []
  }
 ],
 "metadata": {
  "kernelspec": {
   "display_name": "Python 3 (ipykernel)",
   "language": "python",
   "name": "python3"
  },
  "language_info": {
   "codemirror_mode": {
    "name": "ipython",
    "version": 3
   },
   "file_extension": ".py",
   "mimetype": "text/x-python",
   "name": "python",
   "nbconvert_exporter": "python",
   "pygments_lexer": "ipython3",
   "version": "3.9.16"
  }
 },
 "nbformat": 4,
 "nbformat_minor": 5
}
