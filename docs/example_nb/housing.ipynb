{
 "cells": [
  {
   "cell_type": "markdown",
   "id": "a83fa5d6-703e-4e84-a5e3-a235949d09e2",
   "metadata": {},
   "source": [
    "# Real Example: Housing Data\n",
    "\n",
    "This is a real example using Housing Data and demonstrates the `hepfile.csv_tools` module!"
   ]
  },
  {
   "cell_type": "code",
   "execution_count": 1,
   "id": "74b8bd79-d86d-4003-a478-2b9cc4701e97",
   "metadata": {},
   "outputs": [],
   "source": [
    "import hepfile as hf\n",
    "import pandas as pd"
   ]
  },
  {
   "cell_type": "markdown",
   "id": "ea6d9b3b-0e36-4342-a14c-bd9f50cfaaac",
   "metadata": {},
   "source": [
    "Before moving on with the tutorial, make sure you have downloaded the following datasets using the wget command. This only needs to be run once.\n",
    "\n",
    "Also, make sure you review the following link on the hepfile readthedocs page to get some context: https://hepfile.readthedocs.io/en/latest/fundamentals.html"
   ]
  },
  {
   "cell_type": "code",
   "execution_count": 5,
   "id": "83b00656-6b33-41d3-8388-9c930a9604e6",
   "metadata": {},
   "outputs": [
    {
     "name": "stdout",
     "output_type": "stream",
     "text": [
      "--2023-06-12 02:26:18--  https://raw.githubusercontent.com/mattbellis/hepfile/main/docs/example_nb/sheet1.csv\n",
      "Resolving raw.githubusercontent.com (raw.githubusercontent.com)... 185.199.109.133, 185.199.108.133, 185.199.111.133, ...\n",
      "Connecting to raw.githubusercontent.com (raw.githubusercontent.com)|185.199.109.133|:443... connected.\n",
      "HTTP request sent, awaiting response... 200 OK\n",
      "Length: 493 [text/plain]\n",
      "Saving to: ‘People.csv’\n",
      "\n",
      "People.csv          100%[===================>]     493  --.-KB/s    in 0s      \n",
      "\n",
      "2023-06-12 02:26:19 (111 MB/s) - ‘People.csv’ saved [493/493]\n",
      "\n",
      "--2023-06-12 02:26:19--  https://raw.githubusercontent.com/mattbellis/hepfile/main/docs/example_nb/sheet2.csv\n",
      "Resolving raw.githubusercontent.com (raw.githubusercontent.com)... 185.199.109.133, 185.199.108.133, 185.199.111.133, ...\n",
      "Connecting to raw.githubusercontent.com (raw.githubusercontent.com)|185.199.109.133|:443... connected.\n",
      "HTTP request sent, awaiting response... 200 OK\n",
      "Length: 302 [text/plain]\n",
      "Saving to: ‘Vehicles.csv’\n",
      "\n",
      "Vehicles.csv        100%[===================>]     302  --.-KB/s    in 0s      \n",
      "\n",
      "2023-06-12 02:26:19 (17.3 MB/s) - ‘Vehicles.csv’ saved [302/302]\n",
      "\n",
      "--2023-06-12 02:26:19--  https://raw.githubusercontent.com/mattbellis/hepfile/main/docs/example_nb/sheet3.csv\n",
      "Resolving raw.githubusercontent.com (raw.githubusercontent.com)... 185.199.109.133, 185.199.108.133, 185.199.111.133, ...\n",
      "Connecting to raw.githubusercontent.com (raw.githubusercontent.com)|185.199.109.133|:443... connected.\n",
      "HTTP request sent, awaiting response... 200 OK\n",
      "Length: 224 [text/plain]\n",
      "Saving to: ‘Residences.csv’\n",
      "\n",
      "Residences.csv      100%[===================>]     224  --.-KB/s    in 0s      \n",
      "\n",
      "2023-06-12 02:26:19 (42.6 MB/s) - ‘Residences.csv’ saved [224/224]\n",
      "\n"
     ]
    }
   ],
   "source": [
    "!wget -nc -O 'People.csv' 'https://raw.githubusercontent.com/mattbellis/hepfile/main/docs/example_nb/People.csv'\n",
    "!wget -nc -O 'Vehicles.csv' 'https://raw.githubusercontent.com/mattbellis/hepfile/main/docs/example_nb/Vehicles.csv'\n",
    "!wget -nc -O 'Residences.csv' 'https://raw.githubusercontent.com/mattbellis/hepfile/main/docs/example_nb/Residences.csv'"
   ]
  },
  {
   "cell_type": "markdown",
   "id": "9846c559-c954-4176-a875-b788d4a502e8",
   "metadata": {},
   "source": [
    "The next step is to define a list of all of these filepaths"
   ]
  },
  {
   "cell_type": "code",
   "execution_count": 6,
   "id": "825b76d2-64a2-45ba-9de3-d7e55b9d4b5c",
   "metadata": {},
   "outputs": [],
   "source": [
    "filepaths = ['People.csv', 'Vehicles.csv', 'Residences.csv']"
   ]
  },
  {
   "cell_type": "markdown",
   "id": "a7fe2f6d-14ed-49bb-84f6-b3561b103d63",
   "metadata": {},
   "source": [
    "For the sake of completeness, let's take a look at these datasets"
   ]
  },
  {
   "cell_type": "code",
   "execution_count": 10,
   "id": "f9c12d94-2084-4263-a38e-edd0b1a92d2e",
   "metadata": {},
   "outputs": [
    {
     "name": "stdout",
     "output_type": "stream",
     "text": [
      "People.csv:\n",
      "\n",
      "|    |   Household ID | First name   | Last name   | Gender ID   |   Age |   Height |   Yearly income | Highest degree/grade   |\n",
      "|---:|---------------:|:-------------|:------------|:------------|------:|---------:|----------------:|:-----------------------|\n",
      "|  0 |              0 | blah         | blah        | M           |    54 |      159 |           75000 | BS                     |\n",
      "|  1 |              0 | blah         | blah        | F           |    52 |      140 |           80000 | MS                     |\n",
      "|  2 |              0 | blah         | blah        | NB          |    18 |      168 |               0 | 12                     |\n",
      "|  3 |              0 | blah         | blah        | F           |    14 |      150 |               0 | 9                      |\n",
      "|  4 |              1 | blah         | blah        | M           |    32 |      159 |           49000 | BS                     |\n",
      "|  5 |              1 | blah         | blah        | M           |    27 |      140 |           40000 | BS                     |\n",
      "|  6 |              2 | blah         | blah        | F           |    65 |      140 |           40000 | BS                     |\n",
      "|  7 |              3 | blah         | blah        | M           |    54 |      159 |           75000 | BS                     |\n",
      "|  8 |              3 | blah         | blah        | F           |    52 |      140 |           80000 | MS                     |\n",
      "|  9 |              3 | blah         | blah        | NB          |    18 |      168 |               0 | 12                     |\n",
      "| 10 |              3 | blah         | blah        | F           |    14 |      150 |               0 | 9                      |\n",
      "| 11 |              3 | blah         | blah        | M           |    12 |      159 |               0 | 8                      |\n",
      "| 12 |              3 | blah         | blah        | M           |    11 |      140 |               0 | 7                      |\n",
      "| 13 |              3 | blah         | blah        | F           |    65 |      140 |               0 | 12                     |\n",
      "\n",
      "Vehicles.csv:\n",
      "\n",
      "|    |   Household ID | Type of vehicle   |   # of riders | Gas/electric/human powered   |   Year |   Cost |\n",
      "|---:|---------------:|:------------------|--------------:|:-----------------------------|-------:|-------:|\n",
      "|  0 |              0 | Car               |             4 | Gas                          |   2005 |  25000 |\n",
      "|  1 |              0 | Car               |             5 | Electric                     |   2018 |  40000 |\n",
      "|  2 |              0 | Bike              |             1 | Human                        |   2015 |    500 |\n",
      "|  3 |              0 | Bike              |             1 | Human                        |   2015 |    500 |\n",
      "|  4 |              0 | Bike              |             1 | Human                        |   2015 |    500 |\n",
      "|  5 |              0 | Bike              |             1 | Human                        |   2015 |    500 |\n",
      "|  6 |              2 | Car               |             7 | Gas                          |   2012 |  45000 |\n",
      "|  7 |              3 | Car               |             2 | Gas                          |   2005 |  25000 |\n",
      "|  8 |              3 | Car               |             7 | Gas                          |   2018 |  40000 |\n",
      "\n",
      "Residences.csv:\n",
      "\n",
      "|    |   Household ID | House/apartment/condo   |   # of bedrooms |   # of bathrooms |   Square footage |   Year built |   Estimate |\n",
      "|---:|---------------:|:------------------------|----------------:|-----------------:|-----------------:|-------------:|-----------:|\n",
      "|  0 |              0 | House                   |               4 |              2.5 |             1500 |         1955 |     250000 |\n",
      "|  1 |              1 | Apartment               |               2 |              2   |             1200 |         2002 |       1400 |\n",
      "|  2 |              2 | Condo                   |               2 |              1   |             1000 |         2014 |     325000 |\n",
      "|  3 |              3 | House                   |               6 |              4.5 |             4500 |         1998 |     500000 |\n",
      "\n"
     ]
    }
   ],
   "source": [
    "import pandas as pd\n",
    "for f in filepaths:\n",
    "    print(f + ':\\n')\n",
    "    print(pd.read_csv(f).to_markdown())\n",
    "    print()"
   ]
  },
  {
   "cell_type": "markdown",
   "id": "e084cc31-08c9-42eb-87ce-045a03c85a7d",
   "metadata": {},
   "source": [
    "So there is a lot of different columns in these three csvs but it looks like they are all connected by the common key `Household ID`. This is similar to a database structure where each csv has a different length but are connected by a common ID. This makes these files perfect for being stored in a hepfile!"
   ]
  },
  {
   "cell_type": "markdown",
   "id": "d4fcfcf4-ad7d-4261-846f-81417753ddb1",
   "metadata": {},
   "source": [
    "First, to view these csvs as one awkward array in the structure of a hepfile, you can use the `hepfile.csv_tools.csv_to_awkward` method. All we have to do is provide it the csv filepaths and the common key."
   ]
  },
  {
   "cell_type": "code",
   "execution_count": 11,
   "id": "50bd1479-d374-4e12-aece-5676420939b9",
   "metadata": {},
   "outputs": [
    {
     "ename": "TypeError",
     "evalue": "csv_to_awkward() missing 1 required positional argument: 'common_key'",
     "output_type": "error",
     "traceback": [
      "\u001b[0;31m---------------------------------------------------------------------------\u001b[0m",
      "\u001b[0;31mTypeError\u001b[0m                                 Traceback (most recent call last)",
      "Cell \u001b[0;32mIn[11], line 1\u001b[0m\n\u001b[0;32m----> 1\u001b[0m awk \u001b[38;5;241m=\u001b[39m \u001b[43mhf\u001b[49m\u001b[38;5;241;43m.\u001b[39;49m\u001b[43mcsv_tools\u001b[49m\u001b[38;5;241;43m.\u001b[39;49m\u001b[43mcsv_to_awkward\u001b[49m\u001b[43m(\u001b[49m\u001b[43mfilepaths\u001b[49m\u001b[43m)\u001b[49m\n",
      "\u001b[0;31mTypeError\u001b[0m: csv_to_awkward() missing 1 required positional argument: 'common_key'"
     ]
    }
   ],
   "source": [
    "awk = hf.csv_tools.csv_to_awkward(filepaths, common_k)"
   ]
  },
  {
   "cell_type": "code",
   "execution_count": null,
   "id": "a3b327cc-54cf-4245-a93b-b7c66093f357",
   "metadata": {},
   "outputs": [],
   "source": []
  }
 ],
 "metadata": {
  "kernelspec": {
   "display_name": "Python 3 (ipykernel)",
   "language": "python",
   "name": "python3"
  },
  "language_info": {
   "codemirror_mode": {
    "name": "ipython",
    "version": 3
   },
   "file_extension": ".py",
   "mimetype": "text/x-python",
   "name": "python",
   "nbconvert_exporter": "python",
   "pygments_lexer": "ipython3",
   "version": "3.9.16"
  }
 },
 "nbformat": 4,
 "nbformat_minor": 5
}
