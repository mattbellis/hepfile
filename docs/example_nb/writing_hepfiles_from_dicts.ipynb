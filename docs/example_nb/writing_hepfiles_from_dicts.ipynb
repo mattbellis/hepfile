{
 "cells": [
  {
   "cell_type": "markdown",
   "id": "14008e44-a070-4b22-b6ed-ee41756bb4e0",
   "metadata": {},
   "source": [
    "# Writing hepfiles from Dictionaries"
   ]
  },
  {
   "cell_type": "code",
   "execution_count": 1,
   "id": "0a308265-8e23-42aa-b2df-13eae4b373a4",
   "metadata": {},
   "outputs": [],
   "source": [
    "# imports\n",
    "import hepfile as hf"
   ]
  },
  {
   "cell_type": "markdown",
   "id": "40f5b5c8-a4bb-4976-b521-0a7fa532ca01",
   "metadata": {},
   "source": [
    "Say that we have two events in a particle physics experiment and we measured the x and y momentum for both the jets and muons for each as well as the number of particles emitted. Each event can be represented as a nested dictionary:"
   ]
  },
  {
   "cell_type": "code",
   "execution_count": 2,
   "id": "b1e3b610-9650-4088-991a-b9baef7f3e40",
   "metadata": {},
   "outputs": [],
   "source": [
    "event1 = {\n",
    "    'jet': {\n",
    "        'px': [1,2,3],\n",
    "        'py': [1,2,3]\n",
    "     },\n",
    "    'muons': {\n",
    "        'px': [1,2,3],\n",
    "        'py': [1,2,3]\n",
    "     },\n",
    "    'nParticles': 3\n",
    "    }\n",
    "\n",
    "event2 = {\n",
    "    'jet': {\n",
    "        'px': [3,4,6,7],\n",
    "        'py': [3,4,6,7]\n",
    "     },\n",
    "    'muons': {\n",
    "        'px': [3,4,6,7],\n",
    "        'py': [3,4,6,7],\n",
    "        },\n",
    "    'nParticles': 4\n",
    "    }"
   ]
  },
  {
   "cell_type": "markdown",
   "id": "ef5dd101-8eae-477d-b8d6-ef21a08ecc49",
   "metadata": {},
   "source": [
    "Note how these events do not have the same number of particles emitted and therefore could not be stored in a typical \"homogeneous\" data structure. This is where hepfile becomes useful! \n",
    "\n",
    "To easily create a hepfile from these events we can store them in a list:"
   ]
  },
  {
   "cell_type": "code",
   "execution_count": 3,
   "id": "4c0972b5-c83e-4aa3-bba3-e120352b7cf7",
   "metadata": {},
   "outputs": [],
   "source": [
    "to_write_to_hepfile = [event1, event2]"
   ]
  },
  {
   "cell_type": "markdown",
   "id": "a8002c25-e0a2-4c7e-9ed2-d8d28667ea89",
   "metadata": {},
   "source": [
    "Then, to write this out to a hepfile, we simply need to use the `dict_tools` module of `hepfile`."
   ]
  },
  {
   "cell_type": "code",
   "execution_count": 4,
   "id": "ecc1536e-0b42-4207-9d49-92254aef1362",
   "metadata": {},
   "outputs": [
    {
     "name": "stdout",
     "output_type": "stream",
     "text": [
      "Writing the hdf5 file from the awkward array...\n",
      "Metadata added\n",
      "[{jet: {px: [1, ..., 3], py: [...]}, muons: {px: ..., ...}, ...},\n",
      " {jet: {px: [3, ..., 7], py: [...]}, muons: {px: ..., ...}, ...}]\n"
     ]
    }
   ],
   "source": [
    "out_filename = 'output_from_dict.hdf5'\n",
    "data = hf.dict_tools.dictlike_to_hepfile(to_write_to_hepfile, out_filename)\n",
    "data.show()"
   ]
  },
  {
   "cell_type": "code",
   "execution_count": null,
   "id": "8589ad07",
   "metadata": {},
   "outputs": [],
   "source": []
  },
  {
   "cell_type": "code",
   "execution_count": null,
   "id": "89688917",
   "metadata": {},
   "outputs": [],
   "source": []
  }
 ],
 "metadata": {
  "kernelspec": {
   "display_name": "Python 3 (ipykernel)",
   "language": "python",
   "name": "python3"
  },
  "language_info": {
   "codemirror_mode": {
    "name": "ipython",
    "version": 3
   },
   "file_extension": ".py",
   "mimetype": "text/x-python",
   "name": "python",
   "nbconvert_exporter": "python",
   "pygments_lexer": "ipython3",
   "version": "3.9.16"
  }
 },
 "nbformat": 4,
 "nbformat_minor": 5
}
