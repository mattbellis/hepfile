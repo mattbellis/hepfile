{
 "cells": [
  {
   "cell_type": "markdown",
   "id": "0f9c86d8-c594-4503-a447-30ffffeeca46",
   "metadata": {},
   "source": [
    "# Converting JSON Files to Hepfiles\n",
    "\n",
    "As a side note, since there are many different so-called legal JSON file formats, it would be nearly impossible to generate a completely robust JSON file to hepfile converter. So, we have attempted to make it as easy as possible with the existing software. This tutorial works with a specific JSON file format that is especially easy to convert to a hepfile but it should be possible to do it with others as well!"
   ]
  },
  {
   "cell_type": "code",
   "execution_count": 1,
   "id": "ccd419cf-900e-4ae7-bfa6-21e91371ec43",
   "metadata": {},
   "outputs": [],
   "source": [
    "import hepfile as hf\n",
    "import json"
   ]
  },
  {
   "cell_type": "markdown",
   "id": "59749ad2-3bb0-478c-93f1-ab15c802d00c",
   "metadata": {},
   "source": [
    "Say we have the following json text of events with the same sample data from the Writing hepfiles from dictionaries tutorial.\n",
    "\n",
    "```\n",
    "{\n",
    "'event1': {\n",
    "    'jet': {\n",
    "        'px': [1,2,3],\n",
    "        'py': [1,2,3]\n",
    "     },\n",
    "    'muons': {\n",
    "        'px': [1,2,3],\n",
    "        'py': [1,2,3]\n",
    "     },\n",
    "    'nParticles': 3\n",
    "    },\n",
    "'event2': {\n",
    "    'jet': {\n",
    "        'px': [3,4,6,7],\n",
    "        'py': [3,4,6,7]\n",
    "     },\n",
    "    'muons': {\n",
    "        'px': [3,4,6,7],\n",
    "        'py': [3,4,6,7],\n",
    "        },\n",
    "    'nParticles': 4\n",
    "    }\n",
    "}\n",
    "```\n",
    "\n",
    "In python, we can write this to a json file using the following code:"
   ]
  },
  {
   "cell_type": "code",
   "execution_count": 2,
   "id": "c8f01e95-d863-49c0-8bd8-48800ca22454",
   "metadata": {},
   "outputs": [],
   "source": [
    "# define a file path\n",
    "jsonfile = 'json-output.json'\n",
    "\n",
    "# define this json text as a dictionary\n",
    "events = {\n",
    "'event1': {\n",
    "    'jet': {\n",
    "        'px': [1,2,3],\n",
    "        'py': [1,2,3]\n",
    "     },\n",
    "    'muons': {\n",
    "        'px': [1,2,3],\n",
    "        'py': [1,2,3]\n",
    "     },\n",
    "    'nParticles': 3\n",
    "    },\n",
    "'event2': {\n",
    "    'jet': {\n",
    "        'px': [3,4,6,7],\n",
    "        'py': [3,4,6,7]\n",
    "     },\n",
    "    'muons': {\n",
    "        'px': [3,4,6,7],\n",
    "        'py': [3,4,6,7],\n",
    "        },\n",
    "    'nParticles': 4\n",
    "    }\n",
    "}\n",
    "\n",
    "# write it out to a json file\n",
    "with open(jsonfile, 'w') as f:\n",
    "    json.dump(events, f)"
   ]
  },
  {
   "cell_type": "markdown",
   "id": "a483f775-f96b-473f-8741-0949ddc67415",
   "metadata": {},
   "source": [
    "Once we have created our json file, we are at the step that most of you will be at when trying to convert a JSON file to a hepfile. \n",
    "\n",
    "The first step is to read in the json file"
   ]
  },
  {
   "cell_type": "code",
   "execution_count": 3,
   "id": "2a6cc4d1-4180-4296-80ec-430048a48b42",
   "metadata": {},
   "outputs": [
    {
     "name": "stdout",
     "output_type": "stream",
     "text": [
      "<class 'dict'>\n",
      "{'event1': {'jet': {'px': [1, 2, 3], 'py': [1, 2, 3]}, 'muons': {'px': [1, 2, 3], 'py': [1, 2, 3]}, 'nParticles': 3}, 'event2': {'jet': {'px': [3, 4, 6, 7], 'py': [3, 4, 6, 7]}, 'muons': {'px': [3, 4, 6, 7], 'py': [3, 4, 6, 7]}, 'nParticles': 4}}\n"
     ]
    }
   ],
   "source": [
    "with open(jsonfile, 'r') as f:\n",
    "    jsondata = json.load(f)\n",
    "\n",
    "print(type(jsondata))\n",
    "print(jsondata)"
   ]
  },
  {
   "cell_type": "markdown",
   "id": "d18f4087-a8b0-40a5-af5a-32220ab08d61",
   "metadata": {},
   "source": [
    "As you can see, this is the same data as the writing hepfiles from dictionaries tutorial but stored in a dictionary instead of a list. So, the next step is to convert this to a list of dictionaries to write to a hepfile."
   ]
  },
  {
   "cell_type": "code",
   "execution_count": 4,
   "id": "54f998ed-433f-48a9-887e-44fe409dc155",
   "metadata": {},
   "outputs": [
    {
     "name": "stdout",
     "output_type": "stream",
     "text": [
      "[{'jet': {'px': [1, 2, 3], 'py': [1, 2, 3]}, 'muons': {'px': [1, 2, 3], 'py': [1, 2, 3]}, 'nParticles': 3}, {'jet': {'px': [3, 4, 6, 7], 'py': [3, 4, 6, 7]}, 'muons': {'px': [3, 4, 6, 7], 'py': [3, 4, 6, 7]}, 'nParticles': 4}]\n"
     ]
    }
   ],
   "source": [
    "dictlist = []\n",
    "for key in jsondata.keys():\n",
    "    dictlist.append(jsondata[key])\n",
    "    \n",
    "print(dictlist)"
   ]
  },
  {
   "cell_type": "markdown",
   "id": "4df9775e-4771-41e8-a489-7d378689a5b2",
   "metadata": {},
   "source": [
    "So, now we have it in a form that makes it easy to use the existing hepfile software. All we need to do from here is call the `hepfile.dict_tools.dict_to_hepfile` function."
   ]
  },
  {
   "cell_type": "code",
   "execution_count": 5,
   "id": "d2eeb278-c463-4ffd-9757-3443302f15e7",
   "metadata": {},
   "outputs": [
    {
     "data": {
      "text/plain": [
       "{'_GROUPS_': {'_SINGLETONS_GROUP_': ['COUNTER', 'nParticles'],\n",
       "  'jet': ['njet', 'px', 'py'],\n",
       "  'muons': ['nmuons', 'px', 'py']},\n",
       " '_MAP_DATASETS_TO_COUNTERS_': {'_SINGLETONS_GROUP_': '_SINGLETONS_GROUP_/COUNTER',\n",
       "  'jet': 'jet/njet',\n",
       "  'jet/px': 'jet/njet',\n",
       "  'jet/py': 'jet/njet',\n",
       "  'muons': 'muons/nmuons',\n",
       "  'muons/px': 'muons/nmuons',\n",
       "  'muons/py': 'muons/nmuons',\n",
       "  'nParticles': '_SINGLETONS_GROUP_/COUNTER'},\n",
       " '_LIST_OF_COUNTERS_': ['_SINGLETONS_GROUP_/COUNTER',\n",
       "  'jet/njet',\n",
       "  'muons/nmuons'],\n",
       " '_SINGLETONS_GROUP_/COUNTER': [1, 1],\n",
       " '_MAP_DATASETS_TO_DATA_TYPES_': {'_SINGLETONS_GROUP_/COUNTER': int,\n",
       "  'jet/njet': int,\n",
       "  'jet/px': numpy.int64,\n",
       "  'jet/py': numpy.int64,\n",
       "  'muons/nmuons': int,\n",
       "  'muons/px': numpy.int64,\n",
       "  'muons/py': numpy.int64,\n",
       "  'nParticles': numpy.int64},\n",
       " '_META_': {},\n",
       " 'jet/njet': [3, 4],\n",
       " 'jet/px': [1, 2, 3, 3, 4, 6, 7],\n",
       " 'jet/py': [1, 2, 3, 3, 4, 6, 7],\n",
       " 'muons/nmuons': [3, 4],\n",
       " 'muons/px': [1, 2, 3, 3, 4, 6, 7],\n",
       " 'muons/py': [1, 2, 3, 3, 4, 6, 7],\n",
       " 'nParticles': [3, 4]}"
      ]
     },
     "execution_count": 5,
     "metadata": {},
     "output_type": "execute_result"
    }
   ],
   "source": [
    "out_filename = 'output_from_json.h5'\n",
    "data = hf.dict_tools.dictlike_to_hepfile(dictlist, out_filename)\n",
    "data"
   ]
  },
  {
   "cell_type": "markdown",
   "id": "7b7df387-7cd8-476c-9e29-4673867d3f8a",
   "metadata": {},
   "source": [
    "So, while it is difficult to create software to convert every possible JSON file format out there to a hepfile, it is relatively easy and straightforward to implement the existing functions in hepfile to perform this conversion!"
   ]
  }
 ],
 "metadata": {
  "kernelspec": {
   "display_name": "Python 3 (ipykernel)",
   "language": "python",
   "name": "python3"
  },
  "language_info": {
   "codemirror_mode": {
    "name": "ipython",
    "version": 3
   },
   "file_extension": ".py",
   "mimetype": "text/x-python",
   "name": "python",
   "nbconvert_exporter": "python",
   "pygments_lexer": "ipython3",
   "version": "3.9.17"
  }
 },
 "nbformat": 4,
 "nbformat_minor": 5
}
