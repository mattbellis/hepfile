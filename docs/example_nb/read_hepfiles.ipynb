{
 "cells": [
  {
   "cell_type": "markdown",
   "id": "4595ec12-49ac-435d-9e7e-ec757b6a813a",
   "metadata": {
    "tags": []
   },
   "source": [
    "# Reading hepfiles"
   ]
  },
  {
   "cell_type": "markdown",
   "id": "c8e3f71d-2999-4c71-9d6e-f2ef14770ec5",
   "metadata": {},
   "source": [
    "*Note*: If you have not run through the `write_hepfile` do that first to generate the output file from that. That output file will be used as the input here!"
   ]
  },
  {
   "cell_type": "markdown",
   "id": "b81d91cd-b170-48bf-ab28-f3ef1fe9828f",
   "metadata": {},
   "source": [
    "## Reading the Entire File"
   ]
  },
  {
   "cell_type": "code",
   "execution_count": 1,
   "id": "c08da23c-4699-4dba-88e1-503b1b1d3cf7",
   "metadata": {},
   "outputs": [],
   "source": [
    "# import the load function\n",
    "from hepfile import load"
   ]
  },
  {
   "cell_type": "markdown",
   "id": "13dcf91f-053c-40b4-aee8-7ecc9579eb9f",
   "metadata": {},
   "source": [
    "We begin with a file, and load it into an empty data dictionary:"
   ]
  },
  {
   "cell_type": "code",
   "execution_count": 2,
   "id": "61e11c69-ede9-4b96-b67a-f47c50369167",
   "metadata": {},
   "outputs": [],
   "source": [
    "infile = 'output_from_scratch.hdf5'\n",
    "data, event = load(infile)"
   ]
  },
  {
   "cell_type": "markdown",
   "id": "0f056a93-4a69-42aa-9034-7e8dc0f78f92",
   "metadata": {},
   "source": [
    "data is a dictionary containing counters, indices, and data for all the features we care about. event is an empty dictionary waiting to be filled by data from some new event."
   ]
  },
  {
   "cell_type": "code",
   "execution_count": 3,
   "id": "6571b4d9-b317-450f-83cd-597c7b565c45",
   "metadata": {},
   "outputs": [
    {
     "name": "stdout",
     "output_type": "stream",
     "text": [
      "{'_MAP_DATASETS_TO_COUNTERS_': {'_SINGLETONS_GROUP_': '_SINGLETONS_GROUP_/COUNTER', 'jet': 'jet/njet', 'muons': 'muons/nmuon', 'jet/e': 'jet/njet', 'jet/px': 'jet/njet', 'jet/py': 'jet/njet', 'jet/pz': 'jet/njet', 'jet/algorithm': 'jet/njet', 'jet/words': 'jet/njet', 'muons/e': 'muons/nmuon', 'muons/px': 'muons/nmuon', 'muons/py': 'muons/nmuon', 'muons/pz': 'muons/nmuon', 'METpx': '_SINGLETONS_GROUP_/COUNTER', 'METpy': '_SINGLETONS_GROUP_/COUNTER'}, '_MAP_DATASETS_TO_INDEX_': {'_SINGLETONS_GROUP_': '_SINGLETONS_GROUP_/COUNTER_INDEX', 'jet': 'jet/njet_INDEX', 'muons': 'muons/nmuon_INDEX', 'jet/e': 'jet/njet_INDEX', 'jet/px': 'jet/njet_INDEX', 'jet/py': 'jet/njet_INDEX', 'jet/pz': 'jet/njet_INDEX', 'jet/algorithm': 'jet/njet_INDEX', 'jet/words': 'jet/njet_INDEX', 'muons/e': 'muons/nmuon_INDEX', 'muons/px': 'muons/nmuon_INDEX', 'muons/py': 'muons/nmuon_INDEX', 'muons/pz': 'muons/nmuon_INDEX', 'METpx': '_SINGLETONS_GROUP_/COUNTER_INDEX', 'METpy': '_SINGLETONS_GROUP_/COUNTER_INDEX'}, '_LIST_OF_COUNTERS_': ['_SINGLETONS_GROUP_/COUNTER', 'jet/njet', 'muons/nmuon'], '_LIST_OF_DATASETS_': ['METpx', 'METpy', '_SINGLETONS_GROUP_', '_SINGLETONS_GROUP_/COUNTER', 'jet', 'jet/algorithm', 'jet/e', 'jet/njet', 'jet/px', 'jet/py', 'jet/pz', 'jet/words', 'muons', 'muons/e', 'muons/nmuon', 'muons/px', 'muons/py', 'muons/pz'], '_META_': {}, '_NUMBER_OF_BUCKETS_': 10000, '_SINGLETONS_GROUP_': array(['METpx', 'METpy'], dtype='<U5'), '_SINGLETONS_GROUP_/COUNTER': array([1, 1, 1, ..., 1, 1, 1]), '_SINGLETONS_GROUP_/COUNTER_INDEX': array([   0,    1,    2, ..., 9997, 9998, 9999]), 'jet/njet': array([17, 17, 17, ..., 17, 17, 17]), 'jet/njet_INDEX': array([     0,     17,     34, ..., 169949, 169966, 169983]), 'muons/nmuon': array([0, 0, 0, ..., 0, 0, 0]), 'muons/nmuon_INDEX': array([0, 0, 0, ..., 0, 0, 0]), 'METpx': array([0.3857817 , 0.12295702, 0.86312515, ..., 0.03597181, 0.16764084,\n",
      "       0.02867685], dtype=float32), 'METpy': array([0.21301576, 0.92661446, 0.17768492, ..., 0.05196636, 0.3594888 ,\n",
      "       0.80965936], dtype=float32), 'jet/algorithm': array([-1,  0,  0, ...,  0,  0, -1]), 'jet/e': array([0.51882523, 0.06649859, 0.8128549 , ..., 0.27712795, 0.40421703,\n",
      "       0.99385214], dtype=float32), 'jet/px': array([0.72576076, 0.16795638, 0.55153126, ..., 0.49512222, 0.76267385,\n",
      "       0.88863903], dtype=float32), 'jet/py': array([0.13361722, 0.6626456 , 0.12324467, ..., 0.7238448 , 0.06445312,\n",
      "       0.40084764], dtype=float32), 'jet/pz': array([0.4981057 , 0.4544982 , 0.05688357, ..., 0.48145318, 0.6470511 ,\n",
      "       0.5942736 ], dtype=float32), 'jet/words': array([b'aloha', b'hi', b'ciao', ..., b'bye', b'bye', b'bye'],\n",
      "      dtype=object), 'muons/e': array([], dtype=float32), 'muons/px': array([], dtype=float32), 'muons/py': array([], dtype=float32), 'muons/pz': array([], dtype=float32), '_GROUPS_': {'_SINGLETONS_GROUP_': ['METpx', 'METpy'], 'jet': ['algorithm', 'e', 'njet', 'px', 'py', 'pz', 'words'], 'muons': ['e', 'nmuon', 'px', 'py', 'pz']}, '_MAP_DATASETS_TO_DATA_TYPES_': {'METpx': dtype('float32'), 'METpy': dtype('float32'), '_SINGLETONS_GROUP_': dtype('<U5'), '_SINGLETONS_GROUP_/COUNTER': dtype('int64'), 'jet/algorithm': dtype('int64'), 'jet/e': dtype('float32'), 'jet/njet': dtype('int64'), 'jet/px': dtype('float32'), 'jet/py': dtype('float32'), 'jet/pz': dtype('float32'), 'jet/words': dtype('O'), 'muons/e': dtype('float32'), 'muons/nmuon': dtype('int64'), 'muons/px': dtype('float32'), 'muons/py': dtype('float32'), 'muons/pz': dtype('float32')}, '_PROTECTED_NAMES_': {'_SINGLETONS_GROUP_/COUNTER', '_MAP_DATASETS_TO_COUNTERS_', '_HEADER_', '_GROUPS_', '_LIST_OF_COUNTERS_', '_SINGLETONS_GROUP_', '_MAP_DATASETS_TO_DATA_TYPES_', '_META_', '_PROTECTED_NAMES_', '_SINGLETONSGROUPFORSTORAGE_'}}\n"
     ]
    }
   ],
   "source": [
    "print(data)"
   ]
  },
  {
   "cell_type": "code",
   "execution_count": 4,
   "id": "60dd0c02-f9f8-4382-a5b5-b19a113f588f",
   "metadata": {},
   "outputs": [
    {
     "name": "stdout",
     "output_type": "stream",
     "text": [
      "{'METpx': None, 'METpy': None, '_SINGLETONS_GROUP_/COUNTER': None, 'jet/algorithm': None, 'jet/e': None, 'jet/njet': None, 'jet/px': None, 'jet/py': None, 'jet/pz': None, 'jet/words': None, 'muons/e': None, 'muons/nmuon': None, 'muons/px': None, 'muons/py': None, 'muons/pz': None}\n"
     ]
    }
   ],
   "source": [
    "print(event)"
   ]
  },
  {
   "cell_type": "markdown",
   "id": "4e334677-e2a4-4ee5-ae40-0fb7d9e304f8",
   "metadata": {},
   "source": [
    "## Reading Part of a File\n",
    "\n",
    "If you only want to read part of a file, you can load only certain groups. This is especially useful for very large datasets.\n",
    "\n",
    "To do this, you can use the `desired_groups` and `subset` arguments to load:"
   ]
  },
  {
   "cell_type": "code",
   "execution_count": 5,
   "id": "51637433-f6cb-4806-af2e-cfa211f4e36e",
   "metadata": {},
   "outputs": [],
   "source": [
    "data,event = load(infile,desired_groups=['jet'],subset=(5,10))"
   ]
  },
  {
   "cell_type": "code",
   "execution_count": 6,
   "id": "ac2c12de-2924-4bd1-baf5-008e52876ec4",
   "metadata": {},
   "outputs": [
    {
     "name": "stdout",
     "output_type": "stream",
     "text": [
      "dict_keys(['_MAP_DATASETS_TO_COUNTERS_', '_MAP_DATASETS_TO_INDEX_', '_LIST_OF_COUNTERS_', '_LIST_OF_DATASETS_', '_META_', '_NUMBER_OF_BUCKETS_', '_SINGLETONS_GROUP_', '_SINGLETONS_GROUP_/COUNTER', '_SINGLETONS_GROUP_/COUNTER_INDEX', 'jet/njet', 'jet/njet_INDEX', 'muons/nmuon', 'muons/nmuon_INDEX', 'jet/algorithm', 'jet/e', 'jet/px', 'jet/py', 'jet/pz', 'jet/words', '_GROUPS_', '_MAP_DATASETS_TO_DATA_TYPES_', '_PROTECTED_NAMES_'])\n"
     ]
    }
   ],
   "source": [
    "print(data.keys())"
   ]
  },
  {
   "cell_type": "markdown",
   "id": "a893926b-3652-4555-a91b-0120cbc2b8e1",
   "metadata": {},
   "source": [
    "## Reading into Awkward Arrays\n",
    "\n",
    "Awkward arrays are a very fast datatype for heterogeneous datasets. It is relatively easy to read hepfiles into them, all you need to do is add the flag `return_type='awkward'` to `load`. Note: the event return will still just be a simple dictionary."
   ]
  },
  {
   "cell_type": "code",
   "execution_count": 7,
   "id": "2e251991-8528-4a2e-9a28-de507014d7a8",
   "metadata": {},
   "outputs": [],
   "source": [
    "data,event = load(infile, return_type='awkward')"
   ]
  },
  {
   "cell_type": "code",
   "execution_count": 8,
   "id": "9657b98d-f225-4eea-9e75-1a2973590fce",
   "metadata": {},
   "outputs": [
    {
     "name": "stdout",
     "output_type": "stream",
     "text": [
      "[{METpx: 0.386, METpy: 0.213, jet: {...}, muons: {...}},\n",
      " {METpx: 0.123, METpy: 0.927, jet: {...}, muons: {...}},\n",
      " {METpx: 0.863, METpy: 0.178, jet: {...}, muons: {...}},\n",
      " {METpx: 0.0628, METpy: 0.754, jet: {...}, muons: {...}},\n",
      " {METpx: 0.161, METpy: 0.408, jet: {...}, muons: {...}},\n",
      " {METpx: 0.217, METpy: 0.853, jet: {...}, muons: {...}},\n",
      " {METpx: 0.539, METpy: 0.761, jet: {...}, muons: {...}},\n",
      " {METpx: 0.631, METpy: 0.723, jet: {...}, muons: {...}},\n",
      " {METpx: 0.376, METpy: 0.846, jet: {...}, muons: {...}},\n",
      " {METpx: 0.091, METpy: 0.517, jet: {...}, muons: {...}},\n",
      " ...,\n",
      " {METpx: 0.0554, METpy: 0.0152, jet: {...}, muons: {...}},\n",
      " {METpx: 0.404, METpy: 0.41, jet: {...}, muons: {e: [], ...}},\n",
      " {METpx: 0.825, METpy: 0.688, jet: {...}, muons: {...}},\n",
      " {METpx: 0.392, METpy: 0.177, jet: {...}, muons: {...}},\n",
      " {METpx: 0.187, METpy: 0.311, jet: {...}, muons: {...}},\n",
      " {METpx: 0.873, METpy: 0.356, jet: {...}, muons: {...}},\n",
      " {METpx: 0.036, METpy: 0.052, jet: {...}, muons: {...}},\n",
      " {METpx: 0.168, METpy: 0.359, jet: {...}, muons: {...}},\n",
      " {METpx: 0.0287, METpy: 0.81, jet: {...}, muons: {...}}]\n",
      "\n",
      "[{algorithm: [-1, 0, 0, -1, ..., 0, -1, 0], e: [0.519, ...], px: [...], ...},\n",
      " {algorithm: [-1, 0, -1, -1, ..., -1, 0, 0], e: [0.214, ...], px: [...], ...},\n",
      " {algorithm: [0, -1, 0, -1, ..., 0, 0, -1], e: [0.0682, ...], px: [...], ...},\n",
      " {algorithm: [0, 0, 0, 0, ..., -1, -1, 0], e: [0.518, ...], px: [...], ...},\n",
      " {algorithm: [-1, -1, 0, 0, ..., 0, 0, 0], e: [0.0882, ...], px: [...], ...},\n",
      " {algorithm: [-1, 0, -1, 0, ..., 0, -1, 0], e: [0.667, ...], px: [...], ...},\n",
      " {algorithm: [0, -1, 0, 0, ..., 0, 0, 0], e: [0.75, ...], px: [...], ...},\n",
      " {algorithm: [0, 0, 0, 0, ..., 0, -1, 0], e: [0.564, ...], px: [...], ...},\n",
      " {algorithm: [0, -1, 0, -1, ..., -1, 0, 0], e: [0.344, ...], px: [...], ...},\n",
      " {algorithm: [0, 0, 0, 0, ..., -1, -1, 0], e: [0.289, ...], px: [...], ...},\n",
      " ...,\n",
      " {algorithm: [0, -1, -1, 0, ..., 0, -1, 0], e: [0.132, ...], px: [...], ...},\n",
      " {algorithm: [-1, -1, -1, 0, ..., 0, -1, 0], e: [0.951, ...], px: [...], ...},\n",
      " {algorithm: [-1, 0, -1, 0, ..., 0, -1, 0], e: [0.124, ...], px: [...], ...},\n",
      " {algorithm: [0, 0, 0, 0, ..., -1, 0, -1], e: [0.935, ...], px: [...], ...},\n",
      " {algorithm: [-1, 0, -1, 0, ..., 0, 0, -1], e: [0.406, ...], px: [...], ...},\n",
      " {algorithm: [-1, 0, 0, 0, ..., 0, -1, 0], e: [0.321, ...], px: [...], ...},\n",
      " {algorithm: [-1, -1, -1, 0, ..., -1, 0, 0], e: [0.946, ...], px: [...], ...},\n",
      " {algorithm: [0, -1, -1, -1, ..., -1, 0, 0], e: [0.766, ...], px: [...], ...},\n",
      " {algorithm: [0, -1, 0, -1, ..., 0, 0, -1], e: [0.453, ...], px: [...], ...}]\n",
      "\n",
      "[[0.726, 0.168, 0.552, 0.459, 0.521, ..., 0.4, 0.597, 0.735, 0.908, 0.135],\n",
      " [0.582, 0.0818, 0.678, 0.416, 0.555, ..., 0.57, 0.233, 0.202, 0.543, 0.586],\n",
      " [0.224, 0.952, 0.747, 0.64, 0.0682, ..., 0.648, 0.796, 0.483, 0.546, 0.558],\n",
      " [0.939, 0.043, 0.0537, 0.326, 0.188, ..., 0.433, 0.829, 0.315, 0.217, 0.967],\n",
      " [0.0541, 0.392, 0.289, 0.738, 0.00133, ..., 0.699, 0.154, 0.552, 0.984, 0.798],\n",
      " [0.891, 0.684, 0.719, 1, 0.843, 0.973, ..., 0.74, 0.663, 0.204, 0.787, 0.666],\n",
      " [0.867, 0.442, 0.319, 0.476, 0.162, ..., 0.285, 0.848, 0.907, 0.99, 0.627],\n",
      " [0.47, 0.867, 0.454, 0.656, 0.66, ..., 0.381, 0.67, 0.232, 0.814, 0.883],\n",
      " [0.769, 0.144, 0.452, 0.582, 0.921, ..., 0.513, 0.978, 0.605, 0.103, 0.788],\n",
      " [0.584, 0.447, 0.955, 0.419, 0.613, ..., 0.688, 0.236, 0.206, 0.87, 0.596],\n",
      " ...,\n",
      " [0.61, 0.415, 0.617, 0.395, 0.282, ..., 0.282, 0.0597, 0.916, 0.809, 0.181],\n",
      " [0.0727, 0.447, 0.205, 0.481, 0.0703, ..., 0.735, 0.507, 0.891, 0.665, 0.753],\n",
      " [0.932, 0.0572, 0.802, 0.535, 0.87, ..., 0.682, 0.424, 0.708, 0.168, 0.122],\n",
      " [0.184, 0.374, 0.975, 0.0478, 0.616, ..., 0.55, 0.737, 0.537, 0.585, 0.989],\n",
      " [0.924, 0.544, 0.229, 0.996, 0.531, ..., 0.917, 0.961, 0.642, 0.081, 0.0539],\n",
      " [0.352, 0.569, 0.966, 0.96, 0.986, ..., 0.673, 0.964, 0.839, 0.187, 0.715],\n",
      " [0.732, 0.823, 0.751, 0.523, 0.934, ..., 0.339, 0.706, 0.499, 0.0917, 0.904],\n",
      " [0.605, 0.777, 0.791, 0.568, 0.073, ..., 0.0806, 0.614, 0.808, 0.152, 0.00686],\n",
      " [0.833, 0.473, 0.0947, 0.419, 0.0112, ..., 0.863, 0.846, 0.495, 0.763, 0.889]]\n"
     ]
    }
   ],
   "source": [
    "data.show() # display data\n",
    "print()\n",
    "data['jet'].show() # display just the jet data\n",
    "print()\n",
    "data.jet.px.show() # display the px data from the jet dataset"
   ]
  },
  {
   "cell_type": "code",
   "execution_count": 9,
   "id": "f9d05ff6-bb75-44f1-b849-8ce367bf3e0c",
   "metadata": {},
   "outputs": [
    {
     "data": {
      "text/plain": [
       "{'METpx': None,\n",
       " 'METpy': None,\n",
       " '_SINGLETONS_GROUP_/COUNTER': None,\n",
       " 'jet/algorithm': None,\n",
       " 'jet/e': None,\n",
       " 'jet/njet': None,\n",
       " 'jet/px': None,\n",
       " 'jet/py': None,\n",
       " 'jet/pz': None,\n",
       " 'jet/words': None,\n",
       " 'muons/e': None,\n",
       " 'muons/nmuon': None,\n",
       " 'muons/px': None,\n",
       " 'muons/py': None,\n",
       " 'muons/pz': None}"
      ]
     },
     "execution_count": 9,
     "metadata": {},
     "output_type": "execute_result"
    }
   ],
   "source": [
    "event"
   ]
  },
  {
   "cell_type": "markdown",
   "id": "f6960aa6-06d5-4f63-9518-0c044acb0d4f",
   "metadata": {},
   "source": [
    "With the `return_type=awkward` flag, you can still select a subset of the data in the same way!"
   ]
  },
  {
   "cell_type": "code",
   "execution_count": 10,
   "id": "4991f724-cdde-41a8-85bd-f3017226339d",
   "metadata": {},
   "outputs": [],
   "source": [
    "data,event = load(infile, return_type='awkward', desired_groups=['jet'], subset=(5,10))"
   ]
  },
  {
   "cell_type": "code",
   "execution_count": 11,
   "id": "f38bdccd-79d0-4323-b929-adc0579dce35",
   "metadata": {},
   "outputs": [
    {
     "name": "stdout",
     "output_type": "stream",
     "text": [
      "[{jet: {algorithm: [-1, 0, -1, ..., -1, 0], e: [...], px: [...], ...}},\n",
      " {jet: {algorithm: [0, -1, 0, ..., 0, 0, 0], e: [...], px: [...], ...}},\n",
      " {jet: {algorithm: [0, 0, 0, ..., 0, -1, 0], e: [...], px: [...], ...}},\n",
      " {jet: {algorithm: [0, -1, 0, ..., 0, 0], e: [...], px: [...], ...}},\n",
      " {jet: {algorithm: [0, 0, 0, ..., -1, 0], e: [...], px: [...], ...}}]\n",
      "\n",
      "[{algorithm: [-1, 0, -1, 0, ..., 0, -1, 0], e: [0.667, ...], px: [...], ...},\n",
      " {algorithm: [0, -1, 0, 0, ..., 0, 0, 0], e: [0.75, ...], px: [...], ...},\n",
      " {algorithm: [0, 0, 0, 0, ..., 0, -1, 0], e: [0.564, ...], px: [...], ...},\n",
      " {algorithm: [0, -1, 0, -1, ..., -1, 0, 0], e: [0.344, ...], px: [...], ...},\n",
      " {algorithm: [0, 0, 0, 0, ..., -1, -1, 0], e: [0.289, ...], px: [...], ...}]\n",
      "\n",
      "[[0.891, 0.684, 0.719, 1, 0.843, 0.973, ..., 0.74, 0.663, 0.204, 0.787, 0.666],\n",
      " [0.867, 0.442, 0.319, 0.476, 0.162, ..., 0.285, 0.848, 0.907, 0.99, 0.627],\n",
      " [0.47, 0.867, 0.454, 0.656, 0.66, ..., 0.381, 0.67, 0.232, 0.814, 0.883],\n",
      " [0.769, 0.144, 0.452, 0.582, 0.921, ..., 0.513, 0.978, 0.605, 0.103, 0.788],\n",
      " [0.584, 0.447, 0.955, 0.419, 0.613, ..., 0.688, 0.236, 0.206, 0.87, 0.596]]\n"
     ]
    }
   ],
   "source": [
    "data.show() # display data\n",
    "print()\n",
    "data['jet'].show() # display just the jet data\n",
    "print()\n",
    "data.jet.px.show() # display the px data from the jet dataset"
   ]
  },
  {
   "cell_type": "code",
   "execution_count": 12,
   "id": "94d9e693-d498-4ce1-82f0-1f4993e2499d",
   "metadata": {},
   "outputs": [
    {
     "data": {
      "text/plain": [
       "{'jet/algorithm': None,\n",
       " 'jet/e': None,\n",
       " 'jet/njet': None,\n",
       " 'jet/px': None,\n",
       " 'jet/py': None,\n",
       " 'jet/pz': None,\n",
       " 'jet/words': None}"
      ]
     },
     "execution_count": 12,
     "metadata": {},
     "output_type": "execute_result"
    }
   ],
   "source": [
    "event"
   ]
  },
  {
   "cell_type": "markdown",
   "id": "a681d169-5fe6-46cd-8328-20377f09c690",
   "metadata": {},
   "source": [
    "## Reading into a Dictionary of Pandas DataFrames\n",
    "\n",
    "To read into a dictionary of pandas dataframes where each dataframe represents data on a different group all we need to do is provide `return_type='pandas'` to `load`."
   ]
  },
  {
   "cell_type": "code",
   "execution_count": 13,
   "id": "a7eb01a1-d4aa-42cb-8670-b84d5f974ed4",
   "metadata": {},
   "outputs": [],
   "source": [
    "data, event = load(infile, return_type='pandas')"
   ]
  },
  {
   "cell_type": "code",
   "execution_count": 14,
   "id": "cba85763-c58f-475c-8776-d292fae8b888",
   "metadata": {},
   "outputs": [
    {
     "name": "stdout",
     "output_type": "stream",
     "text": [
      "Group Names: dict_keys(['_SINGLETONS_GROUP_', 'jet', 'muons'])\n"
     ]
    }
   ],
   "source": [
    "print(f'Group Names: {data.keys()}')"
   ]
  },
  {
   "cell_type": "code",
   "execution_count": 15,
   "id": "a780cb6f-2859-409a-a273-2c9614f187f7",
   "metadata": {},
   "outputs": [
    {
     "name": "stdout",
     "output_type": "stream",
     "text": [
      "jet information:\n"
     ]
    },
    {
     "data": {
      "text/html": [
       "<div>\n",
       "<style scoped>\n",
       "    .dataframe tbody tr th:only-of-type {\n",
       "        vertical-align: middle;\n",
       "    }\n",
       "\n",
       "    .dataframe tbody tr th {\n",
       "        vertical-align: top;\n",
       "    }\n",
       "\n",
       "    .dataframe thead th {\n",
       "        text-align: right;\n",
       "    }\n",
       "</style>\n",
       "<table border=\"1\" class=\"dataframe\">\n",
       "  <thead>\n",
       "    <tr style=\"text-align: right;\">\n",
       "      <th></th>\n",
       "      <th>algorithm</th>\n",
       "      <th>e</th>\n",
       "      <th>px</th>\n",
       "      <th>py</th>\n",
       "      <th>pz</th>\n",
       "      <th>words</th>\n",
       "      <th>event_num</th>\n",
       "    </tr>\n",
       "  </thead>\n",
       "  <tbody>\n",
       "    <tr>\n",
       "      <th>0</th>\n",
       "      <td>-1</td>\n",
       "      <td>0.518825</td>\n",
       "      <td>0.725761</td>\n",
       "      <td>0.133617</td>\n",
       "      <td>0.498106</td>\n",
       "      <td>b'aloha'</td>\n",
       "      <td>0</td>\n",
       "    </tr>\n",
       "    <tr>\n",
       "      <th>1</th>\n",
       "      <td>0</td>\n",
       "      <td>0.066499</td>\n",
       "      <td>0.167956</td>\n",
       "      <td>0.662646</td>\n",
       "      <td>0.454498</td>\n",
       "      <td>b'hi'</td>\n",
       "      <td>0</td>\n",
       "    </tr>\n",
       "    <tr>\n",
       "      <th>2</th>\n",
       "      <td>0</td>\n",
       "      <td>0.812855</td>\n",
       "      <td>0.551531</td>\n",
       "      <td>0.123245</td>\n",
       "      <td>0.056884</td>\n",
       "      <td>b'ciao'</td>\n",
       "      <td>0</td>\n",
       "    </tr>\n",
       "    <tr>\n",
       "      <th>3</th>\n",
       "      <td>-1</td>\n",
       "      <td>0.292169</td>\n",
       "      <td>0.459002</td>\n",
       "      <td>0.758781</td>\n",
       "      <td>0.953022</td>\n",
       "      <td>b'ciao'</td>\n",
       "      <td>0</td>\n",
       "    </tr>\n",
       "    <tr>\n",
       "      <th>4</th>\n",
       "      <td>0</td>\n",
       "      <td>0.512365</td>\n",
       "      <td>0.520725</td>\n",
       "      <td>0.240334</td>\n",
       "      <td>0.485343</td>\n",
       "      <td>b'bye'</td>\n",
       "      <td>0</td>\n",
       "    </tr>\n",
       "    <tr>\n",
       "      <th>...</th>\n",
       "      <td>...</td>\n",
       "      <td>...</td>\n",
       "      <td>...</td>\n",
       "      <td>...</td>\n",
       "      <td>...</td>\n",
       "      <td>...</td>\n",
       "      <td>...</td>\n",
       "    </tr>\n",
       "    <tr>\n",
       "      <th>169995</th>\n",
       "      <td>0</td>\n",
       "      <td>0.625886</td>\n",
       "      <td>0.863305</td>\n",
       "      <td>0.751234</td>\n",
       "      <td>0.550784</td>\n",
       "      <td>b'aloha'</td>\n",
       "      <td>9999</td>\n",
       "    </tr>\n",
       "    <tr>\n",
       "      <th>169996</th>\n",
       "      <td>0</td>\n",
       "      <td>0.069708</td>\n",
       "      <td>0.845667</td>\n",
       "      <td>0.879986</td>\n",
       "      <td>0.359886</td>\n",
       "      <td>b'bye'</td>\n",
       "      <td>9999</td>\n",
       "    </tr>\n",
       "    <tr>\n",
       "      <th>169997</th>\n",
       "      <td>0</td>\n",
       "      <td>0.277128</td>\n",
       "      <td>0.495122</td>\n",
       "      <td>0.723845</td>\n",
       "      <td>0.481453</td>\n",
       "      <td>b'bye'</td>\n",
       "      <td>9999</td>\n",
       "    </tr>\n",
       "    <tr>\n",
       "      <th>169998</th>\n",
       "      <td>0</td>\n",
       "      <td>0.404217</td>\n",
       "      <td>0.762674</td>\n",
       "      <td>0.064453</td>\n",
       "      <td>0.647051</td>\n",
       "      <td>b'bye'</td>\n",
       "      <td>9999</td>\n",
       "    </tr>\n",
       "    <tr>\n",
       "      <th>169999</th>\n",
       "      <td>-1</td>\n",
       "      <td>0.993852</td>\n",
       "      <td>0.888639</td>\n",
       "      <td>0.400848</td>\n",
       "      <td>0.594274</td>\n",
       "      <td>b'bye'</td>\n",
       "      <td>9999</td>\n",
       "    </tr>\n",
       "  </tbody>\n",
       "</table>\n",
       "<p>170000 rows × 7 columns</p>\n",
       "</div>"
      ],
      "text/plain": [
       "        algorithm         e        px        py        pz     words  event_num\n",
       "0              -1  0.518825  0.725761  0.133617  0.498106  b'aloha'          0\n",
       "1               0  0.066499  0.167956  0.662646  0.454498     b'hi'          0\n",
       "2               0  0.812855  0.551531  0.123245  0.056884   b'ciao'          0\n",
       "3              -1  0.292169  0.459002  0.758781  0.953022   b'ciao'          0\n",
       "4               0  0.512365  0.520725  0.240334  0.485343    b'bye'          0\n",
       "...           ...       ...       ...       ...       ...       ...        ...\n",
       "169995          0  0.625886  0.863305  0.751234  0.550784  b'aloha'       9999\n",
       "169996          0  0.069708  0.845667  0.879986  0.359886    b'bye'       9999\n",
       "169997          0  0.277128  0.495122  0.723845  0.481453    b'bye'       9999\n",
       "169998          0  0.404217  0.762674  0.064453  0.647051    b'bye'       9999\n",
       "169999         -1  0.993852  0.888639  0.400848  0.594274    b'bye'       9999\n",
       "\n",
       "[170000 rows x 7 columns]"
      ]
     },
     "execution_count": 15,
     "metadata": {},
     "output_type": "execute_result"
    }
   ],
   "source": [
    "print('jet information:')\n",
    "data['jet']"
   ]
  },
  {
   "cell_type": "markdown",
   "id": "62cc833c-31b0-4078-9cf7-d3cbcea8ce28",
   "metadata": {},
   "source": [
    "Once again, we can use a subset of the data with specific groups. However, note how the event numbers get reset to 0-4 when we use a subset with 5 rows. If this is a problem, you should look at converting the default output of `load` to a dictionary of pandas dataframes by hand using the `hf.df_tools.hepfile_to_df` method. "
   ]
  },
  {
   "cell_type": "code",
   "execution_count": 16,
   "id": "ae954337-1984-4c68-8e64-7632e9ba49c5",
   "metadata": {},
   "outputs": [],
   "source": [
    "data,event = load(infile, return_type='pandas', desired_groups=['jet'], subset=(5,10))"
   ]
  },
  {
   "cell_type": "code",
   "execution_count": 17,
   "id": "c1812989-9e39-4016-bf6e-56c1c5543221",
   "metadata": {},
   "outputs": [
    {
     "data": {
      "text/html": [
       "<div>\n",
       "<style scoped>\n",
       "    .dataframe tbody tr th:only-of-type {\n",
       "        vertical-align: middle;\n",
       "    }\n",
       "\n",
       "    .dataframe tbody tr th {\n",
       "        vertical-align: top;\n",
       "    }\n",
       "\n",
       "    .dataframe thead th {\n",
       "        text-align: right;\n",
       "    }\n",
       "</style>\n",
       "<table border=\"1\" class=\"dataframe\">\n",
       "  <thead>\n",
       "    <tr style=\"text-align: right;\">\n",
       "      <th></th>\n",
       "      <th>algorithm</th>\n",
       "      <th>e</th>\n",
       "      <th>px</th>\n",
       "      <th>py</th>\n",
       "      <th>pz</th>\n",
       "      <th>words</th>\n",
       "      <th>event_num</th>\n",
       "    </tr>\n",
       "  </thead>\n",
       "  <tbody>\n",
       "    <tr>\n",
       "      <th>0</th>\n",
       "      <td>-1</td>\n",
       "      <td>0.667102</td>\n",
       "      <td>0.891190</td>\n",
       "      <td>0.718513</td>\n",
       "      <td>0.768162</td>\n",
       "      <td>b'bye'</td>\n",
       "      <td>0</td>\n",
       "    </tr>\n",
       "    <tr>\n",
       "      <th>1</th>\n",
       "      <td>0</td>\n",
       "      <td>0.146582</td>\n",
       "      <td>0.683707</td>\n",
       "      <td>0.756508</td>\n",
       "      <td>0.472253</td>\n",
       "      <td>b'ciao'</td>\n",
       "      <td>0</td>\n",
       "    </tr>\n",
       "    <tr>\n",
       "      <th>2</th>\n",
       "      <td>-1</td>\n",
       "      <td>0.865275</td>\n",
       "      <td>0.718874</td>\n",
       "      <td>0.927169</td>\n",
       "      <td>0.794849</td>\n",
       "      <td>b'hi'</td>\n",
       "      <td>0</td>\n",
       "    </tr>\n",
       "    <tr>\n",
       "      <th>3</th>\n",
       "      <td>0</td>\n",
       "      <td>0.776318</td>\n",
       "      <td>0.999773</td>\n",
       "      <td>0.350176</td>\n",
       "      <td>0.440168</td>\n",
       "      <td>b'hi'</td>\n",
       "      <td>0</td>\n",
       "    </tr>\n",
       "    <tr>\n",
       "      <th>4</th>\n",
       "      <td>0</td>\n",
       "      <td>0.462614</td>\n",
       "      <td>0.843460</td>\n",
       "      <td>0.351398</td>\n",
       "      <td>0.929219</td>\n",
       "      <td>b'hi'</td>\n",
       "      <td>0</td>\n",
       "    </tr>\n",
       "    <tr>\n",
       "      <th>...</th>\n",
       "      <td>...</td>\n",
       "      <td>...</td>\n",
       "      <td>...</td>\n",
       "      <td>...</td>\n",
       "      <td>...</td>\n",
       "      <td>...</td>\n",
       "      <td>...</td>\n",
       "    </tr>\n",
       "    <tr>\n",
       "      <th>80</th>\n",
       "      <td>-1</td>\n",
       "      <td>0.544807</td>\n",
       "      <td>0.688257</td>\n",
       "      <td>0.273543</td>\n",
       "      <td>0.637789</td>\n",
       "      <td>b'ciao'</td>\n",
       "      <td>4</td>\n",
       "    </tr>\n",
       "    <tr>\n",
       "      <th>81</th>\n",
       "      <td>-1</td>\n",
       "      <td>0.239300</td>\n",
       "      <td>0.235639</td>\n",
       "      <td>0.579898</td>\n",
       "      <td>0.609811</td>\n",
       "      <td>b'bye'</td>\n",
       "      <td>4</td>\n",
       "    </tr>\n",
       "    <tr>\n",
       "      <th>82</th>\n",
       "      <td>-1</td>\n",
       "      <td>0.971387</td>\n",
       "      <td>0.206133</td>\n",
       "      <td>0.797268</td>\n",
       "      <td>0.155473</td>\n",
       "      <td>b'aloha'</td>\n",
       "      <td>4</td>\n",
       "    </tr>\n",
       "    <tr>\n",
       "      <th>83</th>\n",
       "      <td>-1</td>\n",
       "      <td>0.576240</td>\n",
       "      <td>0.870437</td>\n",
       "      <td>0.513300</td>\n",
       "      <td>0.039285</td>\n",
       "      <td>b'bye'</td>\n",
       "      <td>4</td>\n",
       "    </tr>\n",
       "    <tr>\n",
       "      <th>84</th>\n",
       "      <td>0</td>\n",
       "      <td>0.126184</td>\n",
       "      <td>0.596369</td>\n",
       "      <td>0.360929</td>\n",
       "      <td>0.931362</td>\n",
       "      <td>b'bye'</td>\n",
       "      <td>4</td>\n",
       "    </tr>\n",
       "  </tbody>\n",
       "</table>\n",
       "<p>85 rows × 7 columns</p>\n",
       "</div>"
      ],
      "text/plain": [
       "    algorithm         e        px        py        pz     words  event_num\n",
       "0          -1  0.667102  0.891190  0.718513  0.768162    b'bye'          0\n",
       "1           0  0.146582  0.683707  0.756508  0.472253   b'ciao'          0\n",
       "2          -1  0.865275  0.718874  0.927169  0.794849     b'hi'          0\n",
       "3           0  0.776318  0.999773  0.350176  0.440168     b'hi'          0\n",
       "4           0  0.462614  0.843460  0.351398  0.929219     b'hi'          0\n",
       "..        ...       ...       ...       ...       ...       ...        ...\n",
       "80         -1  0.544807  0.688257  0.273543  0.637789   b'ciao'          4\n",
       "81         -1  0.239300  0.235639  0.579898  0.609811    b'bye'          4\n",
       "82         -1  0.971387  0.206133  0.797268  0.155473  b'aloha'          4\n",
       "83         -1  0.576240  0.870437  0.513300  0.039285    b'bye'          4\n",
       "84          0  0.126184  0.596369  0.360929  0.931362    b'bye'          4\n",
       "\n",
       "[85 rows x 7 columns]"
      ]
     },
     "execution_count": 17,
     "metadata": {},
     "output_type": "execute_result"
    }
   ],
   "source": [
    "data['jet']"
   ]
  }
 ],
 "metadata": {
  "kernelspec": {
   "display_name": "Python 3 (ipykernel)",
   "language": "python",
   "name": "python3"
  },
  "language_info": {
   "codemirror_mode": {
    "name": "ipython",
    "version": 3
   },
   "file_extension": ".py",
   "mimetype": "text/x-python",
   "name": "python",
   "nbconvert_exporter": "python",
   "pygments_lexer": "ipython3",
   "version": "3.9.17"
  }
 },
 "nbformat": 4,
 "nbformat_minor": 5
}
