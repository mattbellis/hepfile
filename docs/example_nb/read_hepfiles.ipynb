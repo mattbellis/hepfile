{
 "cells": [
  {
   "cell_type": "markdown",
   "id": "4595ec12-49ac-435d-9e7e-ec757b6a813a",
   "metadata": {
    "tags": []
   },
   "source": [
    "# Reading hepfiles"
   ]
  },
  {
   "cell_type": "markdown",
   "id": "c8e3f71d-2999-4c71-9d6e-f2ef14770ec5",
   "metadata": {},
   "source": [
    "*Note*: If you have not run through the `write_hepfile_from_scratch.ipynb` do that first to generate the output file from that. That output file will be used as the input here!"
   ]
  },
  {
   "cell_type": "markdown",
   "id": "b81d91cd-b170-48bf-ab28-f3ef1fe9828f",
   "metadata": {},
   "source": [
    "## Reading the Entire File"
   ]
  },
  {
   "cell_type": "code",
   "execution_count": 1,
   "id": "c08da23c-4699-4dba-88e1-503b1b1d3cf7",
   "metadata": {},
   "outputs": [],
   "source": [
    "# import the load function\n",
    "import os\n",
    "from hepfile import load"
   ]
  },
  {
   "cell_type": "markdown",
   "id": "13dcf91f-053c-40b4-aee8-7ecc9579eb9f",
   "metadata": {},
   "source": [
    "We begin with a file, and load it into an empty data dictionary:"
   ]
  },
  {
   "cell_type": "code",
   "execution_count": 2,
   "id": "61e11c69-ede9-4b96-b67a-f47c50369167",
   "metadata": {},
   "outputs": [],
   "source": [
    "infile = 'output_from_scratch.hdf5'\n",
    "if not os.path.exists(infile):\n",
    "    raise FileNotFoundError('Make sure you ran through `write_hepfile_from_scratch.ipynb` before this tutorial!')\n",
    "else:\n",
    "    data, event = load(infile)"
   ]
  },
  {
   "cell_type": "markdown",
   "id": "0f056a93-4a69-42aa-9034-7e8dc0f78f92",
   "metadata": {},
   "source": [
    "data is a dictionary containing counters, indices, and data for all the features we care about. event is an empty dictionary waiting to be filled by data from some new event."
   ]
  },
  {
   "cell_type": "code",
   "execution_count": 3,
   "id": "6571b4d9-b317-450f-83cd-597c7b565c45",
   "metadata": {},
   "outputs": [
    {
     "name": "stdout",
     "output_type": "stream",
     "text": [
      "dict_keys(['_MAP_DATASETS_TO_COUNTERS_', '_MAP_DATASETS_TO_INDEX_', '_LIST_OF_COUNTERS_', '_LIST_OF_DATASETS_', '_META_', '_NUMBER_OF_BUCKETS_', '_SINGLETONS_GROUP_', '_SINGLETONS_GROUP_/COUNTER', '_SINGLETONS_GROUP_/COUNTER_INDEX', 'jet/njet', 'jet/njet_INDEX', 'muons/nmuon', 'muons/nmuon_INDEX', 'METpx', 'METpy', 'jet/algorithm', 'jet/e', 'jet/px', 'jet/py', 'jet/pz', 'jet/words', 'muons/e', 'muons/px', 'muons/py', 'muons/pz', '_GROUPS_', '_MAP_DATASETS_TO_DATA_TYPES_', '_PROTECTED_NAMES_'])\n"
     ]
    }
   ],
   "source": [
    "print(data.keys())"
   ]
  },
  {
   "cell_type": "code",
   "execution_count": 4,
   "id": "60dd0c02-f9f8-4382-a5b5-b19a113f588f",
   "metadata": {},
   "outputs": [
    {
     "name": "stdout",
     "output_type": "stream",
     "text": [
      "{'METpx': None, 'METpy': None, '_SINGLETONS_GROUP_/COUNTER': None, 'jet/algorithm': None, 'jet/e': None, 'jet/njet': None, 'jet/px': None, 'jet/py': None, 'jet/pz': None, 'jet/words': None, 'muons/e': None, 'muons/nmuon': None, 'muons/px': None, 'muons/py': None, 'muons/pz': None}\n"
     ]
    }
   ],
   "source": [
    "print(event)"
   ]
  },
  {
   "cell_type": "markdown",
   "id": "4e334677-e2a4-4ee5-ae40-0fb7d9e304f8",
   "metadata": {},
   "source": [
    "## Reading Part of a File\n",
    "\n",
    "If you only want to read part of a file, you can load only certain groups. This is especially useful for very large datasets.\n",
    "\n",
    "To do this, you can use the `desired_groups` and `subset` arguments to load:"
   ]
  },
  {
   "cell_type": "code",
   "execution_count": 5,
   "id": "51637433-f6cb-4806-af2e-cfa211f4e36e",
   "metadata": {},
   "outputs": [],
   "source": [
    "data,event = load(infile,desired_groups=['jet'],subset=(5,10))"
   ]
  },
  {
   "cell_type": "code",
   "execution_count": 6,
   "id": "ac2c12de-2924-4bd1-baf5-008e52876ec4",
   "metadata": {},
   "outputs": [
    {
     "name": "stdout",
     "output_type": "stream",
     "text": [
      "dict_keys(['_MAP_DATASETS_TO_COUNTERS_', '_MAP_DATASETS_TO_INDEX_', '_LIST_OF_COUNTERS_', '_LIST_OF_DATASETS_', '_META_', '_NUMBER_OF_BUCKETS_', '_SINGLETONS_GROUP_', '_SINGLETONS_GROUP_/COUNTER', '_SINGLETONS_GROUP_/COUNTER_INDEX', 'jet/njet', 'jet/njet_INDEX', 'muons/nmuon', 'muons/nmuon_INDEX', 'jet/algorithm', 'jet/e', 'jet/px', 'jet/py', 'jet/pz', 'jet/words', '_GROUPS_', '_MAP_DATASETS_TO_DATA_TYPES_', '_PROTECTED_NAMES_'])\n"
     ]
    }
   ],
   "source": [
    "print(data.keys())"
   ]
  },
  {
   "cell_type": "markdown",
   "id": "a893926b-3652-4555-a91b-0120cbc2b8e1",
   "metadata": {},
   "source": [
    "## Reading into Awkward Arrays\n",
    "\n",
    "Awkward arrays are a very fast datatype for heterogeneous datasets. It is relatively easy to read hepfiles into them, all you need to do is add the flag `return_type='awkward'` to `load`. Note: the event return will still just be a simple dictionary."
   ]
  },
  {
   "cell_type": "code",
   "execution_count": 7,
   "id": "2e251991-8528-4a2e-9a28-de507014d7a8",
   "metadata": {},
   "outputs": [],
   "source": [
    "data,event = load(infile, return_type='awkward')"
   ]
  },
  {
   "cell_type": "code",
   "execution_count": 8,
   "id": "9657b98d-f225-4eea-9e75-1a2973590fce",
   "metadata": {},
   "outputs": [
    {
     "name": "stdout",
     "output_type": "stream",
     "text": [
      "[{METpx: 0.797, METpy: 0.286, jet: {...}, muons: {...}},\n",
      " {METpx: 0.92, METpy: 0.322, jet: {...}, muons: {e: [], ...}},\n",
      " {METpx: 0.97, METpy: 0.428, jet: {...}, muons: {e: [], ...}},\n",
      " {METpx: 0.67, METpy: 0.554, jet: {...}, muons: {e: [], ...}},\n",
      " {METpx: 0.537, METpy: 0.124, jet: {...}, muons: {...}},\n",
      " {METpx: 0.967, METpy: 0.903, jet: {...}, muons: {...}},\n",
      " {METpx: 0.0275, METpy: 0.594, jet: {...}, muons: {...}},\n",
      " {METpx: 0.0261, METpy: 0.937, jet: {...}, muons: {...}},\n",
      " {METpx: 0.0508, METpy: 0.457, jet: {...}, muons: {...}},\n",
      " {METpx: 0.239, METpy: 0.157, jet: {...}, muons: {...}},\n",
      " ...,\n",
      " {METpx: 0.366, METpy: 0.548, jet: {...}, muons: {...}},\n",
      " {METpx: 0.551, METpy: 0.106, jet: {...}, muons: {...}},\n",
      " {METpx: 0.303, METpy: 0.00645, jet: {...}, muons: {...}},\n",
      " {METpx: 0.678, METpy: 0.283, jet: {...}, muons: {...}},\n",
      " {METpx: 0.462, METpy: 0.882, jet: {...}, muons: {...}},\n",
      " {METpx: 0.389, METpy: 0.819, jet: {...}, muons: {...}},\n",
      " {METpx: 0.747, METpy: 0.134, jet: {...}, muons: {...}},\n",
      " {METpx: 0.869, METpy: 0.257, jet: {...}, muons: {...}},\n",
      " {METpx: 0.286, METpy: 0.957, jet: {...}, muons: {...}}]\n",
      "\n",
      "[{algorithm: [-1, 0, -1, -1, ..., -1, 0, 0], e: [0.235, ...], px: [...], ...},\n",
      " {algorithm: [0, -1, 0, 0, ..., 0, -1, -1], e: [0.776, ...], px: [...], ...},\n",
      " {algorithm: [-1, 0, 0, 0, ..., 0, 0, -1], e: [0.753, ...], px: [...], ...},\n",
      " {algorithm: [-1, 0, 0, -1, ..., 0, 0, -1], e: [0.812, ...], px: [...], ...},\n",
      " {algorithm: [0, 0, -1, -1, ..., 0, -1, 0], e: [0.73, ...], px: [...], ...},\n",
      " {algorithm: [-1, 0, -1, 0, ..., 0, 0, 0], e: [0.715, ...], px: [...], ...},\n",
      " {algorithm: [0, -1, -1, -1, ..., 0, 0, -1], e: [0.57, ...], px: [...], ...},\n",
      " {algorithm: [-1, 0, -1, ..., 0, -1, -1], e: [0.833, ...], px: [...], ...},\n",
      " {algorithm: [0, -1, 0, 0, ..., 0, -1, -1], e: [0.986, ...], px: [...], ...},\n",
      " {algorithm: [-1, -1, -1, ..., 0, -1, -1], e: [0.551, ...], px: [...], ...},\n",
      " ...,\n",
      " {algorithm: [0, 0, 0, 0, ..., 0, 0, -1], e: [0.668, ...], px: [...], ...},\n",
      " {algorithm: [-1, 0, 0, 0, ..., 0, 0, 0, 0], e: [0.89, ...], px: [...], ...},\n",
      " {algorithm: [0, -1, -1, 0, ..., 0, -1, 0], e: [0.0858, ...], px: [...], ...},\n",
      " {algorithm: [0, 0, 0, -1, ..., 0, -1, 0], e: [0.56, ...], px: [...], ...},\n",
      " {algorithm: [0, 0, -1, 0, ..., 0, 0, 0], e: [0.201, ...], px: [...], ...},\n",
      " {algorithm: [0, -1, 0, 0, ..., -1, -1, 0], e: [0.059, ...], px: [...], ...},\n",
      " {algorithm: [0, 0, -1, 0, ..., -1, 0, 0], e: [0.0394, ...], px: [...], ...},\n",
      " {algorithm: [0, -1, 0, 0, ..., 0, -1, 0], e: [0.133, ...], px: [...], ...},\n",
      " {algorithm: [-1, -1, -1, ..., -1, 0, 0], e: [0.072, ...], px: [...], ...}]\n",
      "\n",
      "[[0.377, 0.354, 0.385, 0.837, 0.67, ..., 0.827, 0.47, 0.606, 0.91, 0.481],\n",
      " [0.807, 0.348, 0.685, 0.589, 0.867, ..., 0.1, 0.985, 0.949, 0.194, 0.213],\n",
      " [0.501, 0.205, 0.792, 0.203, 0.547, ..., 0.82, 0.0124, 0.496, 0.259, 0.796],\n",
      " [0.85, 0.0258, 0.724, 0.578, 0.539, ..., 0.829, 0.411, 0.652, 0.463, 0.279],\n",
      " [0.635, 0.627, 0.266, 0.875, 0.808, ..., 0.569, 0.518, 0.407, 0.678, 0.829],\n",
      " [0.368, 0.133, 0.207, 0.0936, 0.658, ..., 0.735, 0.0749, 0.765, 0.842, 0.42],\n",
      " [0.815, 0.794, 0.473, 0.222, 0.792, ..., 0.785, 0.399, 0.725, 0.267, 0.0654],\n",
      " [0.849, 0.425, 0.171, 0.663, 0.763, ..., 0.395, 0.0242, 0.381, 0.387, 0.347],\n",
      " [0.372, 0.318, 0.906, 0.974, 0.825, ..., 0.78, 0.598, 0.314, 0.56, 0.381],\n",
      " [0.107, 0.629, 0.55, 0.256, 0.361, ..., 0.152, 0.42, 0.795, 0.0826, 0.296],\n",
      " ...,\n",
      " [0.565, 0.268, 0.167, 0.701, 0.676, ..., 0.639, 0.93, 0.873, 0.152, 0.889],\n",
      " [0.548, 0.311, 0.467, 0.0944, 0.0539, ..., 0.434, 0.211, 0.153, 0.833, 0.0633],\n",
      " [0.239, 0.968, 0.263, 0.634, 0.393, ..., 0.0982, 0.772, 0.743, 0.0389, 0.152],\n",
      " [0.68, 0.26, 0.198, 0.655, 0.413, ..., 0.889, 0.29, 0.604, 0.126, 0.869],\n",
      " [0.416, 0.241, 0.838, 0.028, 0.308, ..., 0.748, 0.922, 0.345, 0.0838, 0.449],\n",
      " [0.244, 0.123, 0.146, 0.664, 0.801, ..., 0.244, 0.275, 0.905, 0.868, 0.124],\n",
      " [0.906, 0.0939, 0.99, 0.0212, 0.0361, ..., 0.0558, 0.886, 0.264, 0.687, 0.315],\n",
      " [0.644, 0.296, 0.218, 0.154, 0.575, ..., 0.694, 0.212, 0.55, 0.14, 0.805],\n",
      " [0.613, 0.0443, 0.586, 0.253, 0.319, ..., 0.52, 0.617, 0.412, 0.477, 0.76]]\n"
     ]
    }
   ],
   "source": [
    "data.show() # display data\n",
    "print()\n",
    "data['jet'].show() # display just the jet data\n",
    "print()\n",
    "data.jet.px.show() # display the px data from the jet dataset"
   ]
  },
  {
   "cell_type": "code",
   "execution_count": 9,
   "id": "f9d05ff6-bb75-44f1-b849-8ce367bf3e0c",
   "metadata": {},
   "outputs": [
    {
     "data": {
      "text/plain": [
       "{'METpx': None,\n",
       " 'METpy': None,\n",
       " '_SINGLETONS_GROUP_/COUNTER': None,\n",
       " 'jet/algorithm': None,\n",
       " 'jet/e': None,\n",
       " 'jet/njet': None,\n",
       " 'jet/px': None,\n",
       " 'jet/py': None,\n",
       " 'jet/pz': None,\n",
       " 'jet/words': None,\n",
       " 'muons/e': None,\n",
       " 'muons/nmuon': None,\n",
       " 'muons/px': None,\n",
       " 'muons/py': None,\n",
       " 'muons/pz': None}"
      ]
     },
     "execution_count": 9,
     "metadata": {},
     "output_type": "execute_result"
    }
   ],
   "source": [
    "event"
   ]
  },
  {
   "cell_type": "markdown",
   "id": "f6960aa6-06d5-4f63-9518-0c044acb0d4f",
   "metadata": {},
   "source": [
    "With the `return_type=awkward` flag, you can still select a subset of the data in the same way!"
   ]
  },
  {
   "cell_type": "code",
   "execution_count": 10,
   "id": "4991f724-cdde-41a8-85bd-f3017226339d",
   "metadata": {},
   "outputs": [],
   "source": [
    "data,event = load(infile, return_type='awkward', desired_groups=['jet'], subset=(5,10))"
   ]
  },
  {
   "cell_type": "code",
   "execution_count": 11,
   "id": "f38bdccd-79d0-4323-b929-adc0579dce35",
   "metadata": {},
   "outputs": [
    {
     "name": "stdout",
     "output_type": "stream",
     "text": [
      "[{jet: {algorithm: [-1, 0, -1, ..., 0, 0], e: [...], px: [...], ...}},\n",
      " {jet: {algorithm: [0, -1, -1, ..., 0, -1], e: [...], px: [...], ...}},\n",
      " {jet: {algorithm: [-1, 0, -1, ..., -1, -1], e: [...], px: [...], ...}},\n",
      " {jet: {algorithm: [0, -1, 0, ..., -1, -1], e: [...], px: [...], ...}},\n",
      " {jet: {algorithm: [-1, -1, ..., -1, -1], e: [...], px: [...], ...}}]\n",
      "\n",
      "[{algorithm: [-1, 0, -1, 0, ..., 0, 0, 0], e: [0.715, ...], px: [...], ...},\n",
      " {algorithm: [0, -1, -1, -1, ..., 0, 0, -1], e: [0.57, ...], px: [...], ...},\n",
      " {algorithm: [-1, 0, -1, ..., 0, -1, -1], e: [0.833, ...], px: [...], ...},\n",
      " {algorithm: [0, -1, 0, 0, ..., 0, -1, -1], e: [0.986, ...], px: [...], ...},\n",
      " {algorithm: [-1, -1, -1, ..., 0, -1, -1], e: [0.551, ...], px: [...], ...}]\n",
      "\n",
      "[[0.368, 0.133, 0.207, 0.0936, 0.658, ..., 0.735, 0.0749, 0.765, 0.842, 0.42],\n",
      " [0.815, 0.794, 0.473, 0.222, 0.792, ..., 0.785, 0.399, 0.725, 0.267, 0.0654],\n",
      " [0.849, 0.425, 0.171, 0.663, 0.763, ..., 0.395, 0.0242, 0.381, 0.387, 0.347],\n",
      " [0.372, 0.318, 0.906, 0.974, 0.825, ..., 0.78, 0.598, 0.314, 0.56, 0.381],\n",
      " [0.107, 0.629, 0.55, 0.256, 0.361, ..., 0.152, 0.42, 0.795, 0.0826, 0.296]]\n"
     ]
    }
   ],
   "source": [
    "data.show() # display data\n",
    "print()\n",
    "data['jet'].show() # display just the jet data\n",
    "print()\n",
    "data.jet.px.show() # display the px data from the jet dataset"
   ]
  },
  {
   "cell_type": "code",
   "execution_count": 12,
   "id": "94d9e693-d498-4ce1-82f0-1f4993e2499d",
   "metadata": {},
   "outputs": [
    {
     "data": {
      "text/plain": [
       "{'jet/algorithm': None,\n",
       " 'jet/e': None,\n",
       " 'jet/njet': None,\n",
       " 'jet/px': None,\n",
       " 'jet/py': None,\n",
       " 'jet/pz': None,\n",
       " 'jet/words': None}"
      ]
     },
     "execution_count": 12,
     "metadata": {},
     "output_type": "execute_result"
    }
   ],
   "source": [
    "event"
   ]
  },
  {
   "cell_type": "markdown",
   "id": "a681d169-5fe6-46cd-8328-20377f09c690",
   "metadata": {},
   "source": [
    "## Reading into a Dictionary of Pandas DataFrames\n",
    "\n",
    "To read into a dictionary of pandas dataframes where each dataframe represents data on a different group all we need to do is provide `return_type='pandas'` to `load`."
   ]
  },
  {
   "cell_type": "code",
   "execution_count": 13,
   "id": "a7eb01a1-d4aa-42cb-8670-b84d5f974ed4",
   "metadata": {},
   "outputs": [],
   "source": [
    "data, event = load(infile, return_type='pandas')"
   ]
  },
  {
   "cell_type": "code",
   "execution_count": 14,
   "id": "cba85763-c58f-475c-8776-d292fae8b888",
   "metadata": {},
   "outputs": [
    {
     "name": "stdout",
     "output_type": "stream",
     "text": [
      "Group Names: dict_keys(['_SINGLETONS_GROUP_', 'jet', 'muons'])\n"
     ]
    }
   ],
   "source": [
    "print(f'Group Names: {data.keys()}')"
   ]
  },
  {
   "cell_type": "code",
   "execution_count": 15,
   "id": "a780cb6f-2859-409a-a273-2c9614f187f7",
   "metadata": {},
   "outputs": [
    {
     "name": "stdout",
     "output_type": "stream",
     "text": [
      "jet information:\n"
     ]
    },
    {
     "data": {
      "text/html": [
       "<div>\n",
       "<style scoped>\n",
       "    .dataframe tbody tr th:only-of-type {\n",
       "        vertical-align: middle;\n",
       "    }\n",
       "\n",
       "    .dataframe tbody tr th {\n",
       "        vertical-align: top;\n",
       "    }\n",
       "\n",
       "    .dataframe thead th {\n",
       "        text-align: right;\n",
       "    }\n",
       "</style>\n",
       "<table border=\"1\" class=\"dataframe\">\n",
       "  <thead>\n",
       "    <tr style=\"text-align: right;\">\n",
       "      <th></th>\n",
       "      <th>algorithm</th>\n",
       "      <th>e</th>\n",
       "      <th>px</th>\n",
       "      <th>py</th>\n",
       "      <th>pz</th>\n",
       "      <th>words</th>\n",
       "      <th>event_num</th>\n",
       "    </tr>\n",
       "  </thead>\n",
       "  <tbody>\n",
       "    <tr>\n",
       "      <th>0</th>\n",
       "      <td>-1</td>\n",
       "      <td>0.235265</td>\n",
       "      <td>0.377286</td>\n",
       "      <td>0.013758</td>\n",
       "      <td>0.281951</td>\n",
       "      <td>b'aloha'</td>\n",
       "      <td>0</td>\n",
       "    </tr>\n",
       "    <tr>\n",
       "      <th>1</th>\n",
       "      <td>0</td>\n",
       "      <td>0.716575</td>\n",
       "      <td>0.353589</td>\n",
       "      <td>0.301027</td>\n",
       "      <td>0.192722</td>\n",
       "      <td>b'hi'</td>\n",
       "      <td>0</td>\n",
       "    </tr>\n",
       "    <tr>\n",
       "      <th>2</th>\n",
       "      <td>-1</td>\n",
       "      <td>0.540661</td>\n",
       "      <td>0.384670</td>\n",
       "      <td>0.169350</td>\n",
       "      <td>0.680987</td>\n",
       "      <td>b'ciao'</td>\n",
       "      <td>0</td>\n",
       "    </tr>\n",
       "    <tr>\n",
       "      <th>3</th>\n",
       "      <td>-1</td>\n",
       "      <td>0.565090</td>\n",
       "      <td>0.837155</td>\n",
       "      <td>0.872730</td>\n",
       "      <td>0.316655</td>\n",
       "      <td>b'aloha'</td>\n",
       "      <td>0</td>\n",
       "    </tr>\n",
       "    <tr>\n",
       "      <th>4</th>\n",
       "      <td>0</td>\n",
       "      <td>0.276296</td>\n",
       "      <td>0.669866</td>\n",
       "      <td>0.650584</td>\n",
       "      <td>0.834869</td>\n",
       "      <td>b'aloha'</td>\n",
       "      <td>0</td>\n",
       "    </tr>\n",
       "    <tr>\n",
       "      <th>...</th>\n",
       "      <td>...</td>\n",
       "      <td>...</td>\n",
       "      <td>...</td>\n",
       "      <td>...</td>\n",
       "      <td>...</td>\n",
       "      <td>...</td>\n",
       "      <td>...</td>\n",
       "    </tr>\n",
       "    <tr>\n",
       "      <th>16995</th>\n",
       "      <td>0</td>\n",
       "      <td>0.777277</td>\n",
       "      <td>0.519738</td>\n",
       "      <td>0.584161</td>\n",
       "      <td>0.512100</td>\n",
       "      <td>b'bye'</td>\n",
       "      <td>999</td>\n",
       "    </tr>\n",
       "    <tr>\n",
       "      <th>16996</th>\n",
       "      <td>-1</td>\n",
       "      <td>0.762006</td>\n",
       "      <td>0.616540</td>\n",
       "      <td>0.758635</td>\n",
       "      <td>0.266155</td>\n",
       "      <td>b'aloha'</td>\n",
       "      <td>999</td>\n",
       "    </tr>\n",
       "    <tr>\n",
       "      <th>16997</th>\n",
       "      <td>-1</td>\n",
       "      <td>0.880660</td>\n",
       "      <td>0.411910</td>\n",
       "      <td>0.524687</td>\n",
       "      <td>0.899915</td>\n",
       "      <td>b'bye'</td>\n",
       "      <td>999</td>\n",
       "    </tr>\n",
       "    <tr>\n",
       "      <th>16998</th>\n",
       "      <td>0</td>\n",
       "      <td>0.680288</td>\n",
       "      <td>0.476806</td>\n",
       "      <td>0.177154</td>\n",
       "      <td>0.999250</td>\n",
       "      <td>b'bye'</td>\n",
       "      <td>999</td>\n",
       "    </tr>\n",
       "    <tr>\n",
       "      <th>16999</th>\n",
       "      <td>0</td>\n",
       "      <td>0.785057</td>\n",
       "      <td>0.760136</td>\n",
       "      <td>0.653502</td>\n",
       "      <td>0.202684</td>\n",
       "      <td>b'hi'</td>\n",
       "      <td>999</td>\n",
       "    </tr>\n",
       "  </tbody>\n",
       "</table>\n",
       "<p>17000 rows × 7 columns</p>\n",
       "</div>"
      ],
      "text/plain": [
       "       algorithm         e        px        py        pz     words  event_num\n",
       "0             -1  0.235265  0.377286  0.013758  0.281951  b'aloha'          0\n",
       "1              0  0.716575  0.353589  0.301027  0.192722     b'hi'          0\n",
       "2             -1  0.540661  0.384670  0.169350  0.680987   b'ciao'          0\n",
       "3             -1  0.565090  0.837155  0.872730  0.316655  b'aloha'          0\n",
       "4              0  0.276296  0.669866  0.650584  0.834869  b'aloha'          0\n",
       "...          ...       ...       ...       ...       ...       ...        ...\n",
       "16995          0  0.777277  0.519738  0.584161  0.512100    b'bye'        999\n",
       "16996         -1  0.762006  0.616540  0.758635  0.266155  b'aloha'        999\n",
       "16997         -1  0.880660  0.411910  0.524687  0.899915    b'bye'        999\n",
       "16998          0  0.680288  0.476806  0.177154  0.999250    b'bye'        999\n",
       "16999          0  0.785057  0.760136  0.653502  0.202684     b'hi'        999\n",
       "\n",
       "[17000 rows x 7 columns]"
      ]
     },
     "execution_count": 15,
     "metadata": {},
     "output_type": "execute_result"
    }
   ],
   "source": [
    "print('jet information:')\n",
    "data['jet']"
   ]
  },
  {
   "cell_type": "markdown",
   "id": "62cc833c-31b0-4078-9cf7-d3cbcea8ce28",
   "metadata": {},
   "source": [
    "Once again, we can use a subset of the data with specific groups. However, note how the event numbers get reset to 0-4 when we use a subset with 5 rows. If this is a problem, you should look at converting the default output of `load` to a dictionary of pandas dataframes by hand using the `hf.df_tools.hepfile_to_df` method. "
   ]
  },
  {
   "cell_type": "code",
   "execution_count": 16,
   "id": "ae954337-1984-4c68-8e64-7632e9ba49c5",
   "metadata": {},
   "outputs": [],
   "source": [
    "data,event = load(infile, return_type='pandas', desired_groups=['jet'], subset=(5,10))"
   ]
  },
  {
   "cell_type": "code",
   "execution_count": 17,
   "id": "c1812989-9e39-4016-bf6e-56c1c5543221",
   "metadata": {},
   "outputs": [
    {
     "data": {
      "text/html": [
       "<div>\n",
       "<style scoped>\n",
       "    .dataframe tbody tr th:only-of-type {\n",
       "        vertical-align: middle;\n",
       "    }\n",
       "\n",
       "    .dataframe tbody tr th {\n",
       "        vertical-align: top;\n",
       "    }\n",
       "\n",
       "    .dataframe thead th {\n",
       "        text-align: right;\n",
       "    }\n",
       "</style>\n",
       "<table border=\"1\" class=\"dataframe\">\n",
       "  <thead>\n",
       "    <tr style=\"text-align: right;\">\n",
       "      <th></th>\n",
       "      <th>algorithm</th>\n",
       "      <th>e</th>\n",
       "      <th>px</th>\n",
       "      <th>py</th>\n",
       "      <th>pz</th>\n",
       "      <th>words</th>\n",
       "      <th>event_num</th>\n",
       "    </tr>\n",
       "  </thead>\n",
       "  <tbody>\n",
       "    <tr>\n",
       "      <th>0</th>\n",
       "      <td>-1</td>\n",
       "      <td>0.714961</td>\n",
       "      <td>0.368254</td>\n",
       "      <td>0.305177</td>\n",
       "      <td>0.703897</td>\n",
       "      <td>b'ciao'</td>\n",
       "      <td>0</td>\n",
       "    </tr>\n",
       "    <tr>\n",
       "      <th>1</th>\n",
       "      <td>0</td>\n",
       "      <td>0.905348</td>\n",
       "      <td>0.132723</td>\n",
       "      <td>0.118752</td>\n",
       "      <td>0.267158</td>\n",
       "      <td>b'ciao'</td>\n",
       "      <td>0</td>\n",
       "    </tr>\n",
       "    <tr>\n",
       "      <th>2</th>\n",
       "      <td>-1</td>\n",
       "      <td>0.992758</td>\n",
       "      <td>0.206741</td>\n",
       "      <td>0.666685</td>\n",
       "      <td>0.884588</td>\n",
       "      <td>b'hi'</td>\n",
       "      <td>0</td>\n",
       "    </tr>\n",
       "    <tr>\n",
       "      <th>3</th>\n",
       "      <td>0</td>\n",
       "      <td>0.951870</td>\n",
       "      <td>0.093641</td>\n",
       "      <td>0.923420</td>\n",
       "      <td>0.872557</td>\n",
       "      <td>b'aloha'</td>\n",
       "      <td>0</td>\n",
       "    </tr>\n",
       "    <tr>\n",
       "      <th>4</th>\n",
       "      <td>0</td>\n",
       "      <td>0.620971</td>\n",
       "      <td>0.658409</td>\n",
       "      <td>0.721826</td>\n",
       "      <td>0.350951</td>\n",
       "      <td>b'ciao'</td>\n",
       "      <td>0</td>\n",
       "    </tr>\n",
       "    <tr>\n",
       "      <th>...</th>\n",
       "      <td>...</td>\n",
       "      <td>...</td>\n",
       "      <td>...</td>\n",
       "      <td>...</td>\n",
       "      <td>...</td>\n",
       "      <td>...</td>\n",
       "      <td>...</td>\n",
       "    </tr>\n",
       "    <tr>\n",
       "      <th>80</th>\n",
       "      <td>0</td>\n",
       "      <td>0.051709</td>\n",
       "      <td>0.151747</td>\n",
       "      <td>0.109117</td>\n",
       "      <td>0.555908</td>\n",
       "      <td>b'hi'</td>\n",
       "      <td>4</td>\n",
       "    </tr>\n",
       "    <tr>\n",
       "      <th>81</th>\n",
       "      <td>0</td>\n",
       "      <td>0.874053</td>\n",
       "      <td>0.419595</td>\n",
       "      <td>0.305876</td>\n",
       "      <td>0.975816</td>\n",
       "      <td>b'hi'</td>\n",
       "      <td>4</td>\n",
       "    </tr>\n",
       "    <tr>\n",
       "      <th>82</th>\n",
       "      <td>0</td>\n",
       "      <td>0.446853</td>\n",
       "      <td>0.794686</td>\n",
       "      <td>0.824664</td>\n",
       "      <td>0.775379</td>\n",
       "      <td>b'hi'</td>\n",
       "      <td>4</td>\n",
       "    </tr>\n",
       "    <tr>\n",
       "      <th>83</th>\n",
       "      <td>-1</td>\n",
       "      <td>0.527434</td>\n",
       "      <td>0.082579</td>\n",
       "      <td>0.447411</td>\n",
       "      <td>0.370318</td>\n",
       "      <td>b'aloha'</td>\n",
       "      <td>4</td>\n",
       "    </tr>\n",
       "    <tr>\n",
       "      <th>84</th>\n",
       "      <td>-1</td>\n",
       "      <td>0.597947</td>\n",
       "      <td>0.296388</td>\n",
       "      <td>0.991767</td>\n",
       "      <td>0.248695</td>\n",
       "      <td>b'ciao'</td>\n",
       "      <td>4</td>\n",
       "    </tr>\n",
       "  </tbody>\n",
       "</table>\n",
       "<p>85 rows × 7 columns</p>\n",
       "</div>"
      ],
      "text/plain": [
       "    algorithm         e        px        py        pz     words  event_num\n",
       "0          -1  0.714961  0.368254  0.305177  0.703897   b'ciao'          0\n",
       "1           0  0.905348  0.132723  0.118752  0.267158   b'ciao'          0\n",
       "2          -1  0.992758  0.206741  0.666685  0.884588     b'hi'          0\n",
       "3           0  0.951870  0.093641  0.923420  0.872557  b'aloha'          0\n",
       "4           0  0.620971  0.658409  0.721826  0.350951   b'ciao'          0\n",
       "..        ...       ...       ...       ...       ...       ...        ...\n",
       "80          0  0.051709  0.151747  0.109117  0.555908     b'hi'          4\n",
       "81          0  0.874053  0.419595  0.305876  0.975816     b'hi'          4\n",
       "82          0  0.446853  0.794686  0.824664  0.775379     b'hi'          4\n",
       "83         -1  0.527434  0.082579  0.447411  0.370318  b'aloha'          4\n",
       "84         -1  0.597947  0.296388  0.991767  0.248695   b'ciao'          4\n",
       "\n",
       "[85 rows x 7 columns]"
      ]
     },
     "execution_count": 17,
     "metadata": {},
     "output_type": "execute_result"
    }
   ],
   "source": [
    "data['jet']"
   ]
  }
 ],
 "metadata": {
  "kernelspec": {
   "display_name": "Python 3 (ipykernel)",
   "language": "python",
   "name": "python3"
  },
  "language_info": {
   "codemirror_mode": {
    "name": "ipython",
    "version": 3
   },
   "file_extension": ".py",
   "mimetype": "text/x-python",
   "name": "python",
   "nbconvert_exporter": "python",
   "pygments_lexer": "ipython3",
   "version": "3.9.17"
  }
 },
 "nbformat": 4,
 "nbformat_minor": 5
}
