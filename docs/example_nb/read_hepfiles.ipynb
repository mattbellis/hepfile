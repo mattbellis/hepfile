{
 "cells": [
  {
   "cell_type": "markdown",
   "id": "4595ec12-49ac-435d-9e7e-ec757b6a813a",
   "metadata": {
    "tags": []
   },
   "source": [
    "# Reading hepfiles"
   ]
  },
  {
   "cell_type": "markdown",
   "id": "c8e3f71d-2999-4c71-9d6e-f2ef14770ec5",
   "metadata": {},
   "source": [
    "*Note*: If you have not run through the `write_hepfile` do that first to generate the output file from that. That output file will be used as the input here!"
   ]
  },
  {
   "cell_type": "markdown",
   "id": "b81d91cd-b170-48bf-ab28-f3ef1fe9828f",
   "metadata": {},
   "source": [
    "## Reading the Entire File"
   ]
  },
  {
   "cell_type": "code",
   "execution_count": 1,
   "id": "c08da23c-4699-4dba-88e1-503b1b1d3cf7",
   "metadata": {},
   "outputs": [],
   "source": [
    "# import the load function\n",
    "from hepfile.read import load"
   ]
  },
  {
   "cell_type": "markdown",
   "id": "13dcf91f-053c-40b4-aee8-7ecc9579eb9f",
   "metadata": {},
   "source": [
    "We begin with a file, and load it into an empty data dictionary:"
   ]
  },
  {
   "cell_type": "code",
   "execution_count": 2,
   "id": "61e11c69-ede9-4b96-b67a-f47c50369167",
   "metadata": {},
   "outputs": [
    {
     "name": "stdout",
     "output_type": "stream",
     "text": [
      "Building the indices...\n",
      "\n",
      "Built the indices!\n",
      "Data is read in and input file is closed.\n"
     ]
    }
   ],
   "source": [
    "infile = 'output.hdf5'\n",
    "data, event = load(infile)"
   ]
  },
  {
   "cell_type": "markdown",
   "id": "0f056a93-4a69-42aa-9034-7e8dc0f78f92",
   "metadata": {},
   "source": [
    "data is a dictionary containing counters, indices, and data for all the features we care about. event is an empty dictionary waiting to be filled by data from some new event."
   ]
  },
  {
   "cell_type": "code",
   "execution_count": 3,
   "id": "6571b4d9-b317-450f-83cd-597c7b565c45",
   "metadata": {},
   "outputs": [
    {
     "name": "stdout",
     "output_type": "stream",
     "text": [
      "{'_MAP_DATASETS_TO_COUNTERS_': {'_SINGLETONS_GROUP_': '_SINGLETONS_GROUP_/COUNTER', 'jet': 'jet/njet', 'muons': 'muons/nmuon', 'jet/e': 'jet/njet', 'jet/px': 'jet/njet', 'jet/py': 'jet/njet', 'jet/pz': 'jet/njet', 'jet/algorithm': 'jet/njet', 'jet/words': 'jet/njet', 'muons/e': 'muons/nmuon', 'muons/px': 'muons/nmuon', 'muons/py': 'muons/nmuon', 'muons/pz': 'muons/nmuon', 'METpx': '_SINGLETONS_GROUP_/COUNTER', 'METpy': '_SINGLETONS_GROUP_/COUNTER'}, '_MAP_DATASETS_TO_INDEX_': {'_SINGLETONS_GROUP_': '_SINGLETONS_GROUP_/COUNTER_INDEX', 'jet': 'jet/njet_INDEX', 'muons': 'muons/nmuon_INDEX', 'jet/e': 'jet/njet_INDEX', 'jet/px': 'jet/njet_INDEX', 'jet/py': 'jet/njet_INDEX', 'jet/pz': 'jet/njet_INDEX', 'jet/algorithm': 'jet/njet_INDEX', 'jet/words': 'jet/njet_INDEX', 'muons/e': 'muons/nmuon_INDEX', 'muons/px': 'muons/nmuon_INDEX', 'muons/py': 'muons/nmuon_INDEX', 'muons/pz': 'muons/nmuon_INDEX', 'METpx': '_SINGLETONS_GROUP_/COUNTER_INDEX', 'METpy': '_SINGLETONS_GROUP_/COUNTER_INDEX'}, '_LIST_OF_COUNTERS_': ['_SINGLETONS_GROUP_/COUNTER', 'jet/njet', 'muons/nmuon'], '_LIST_OF_DATASETS_': ['METpx', 'METpy', '_SINGLETONS_GROUP_', '_SINGLETONS_GROUP_/COUNTER', 'jet', 'jet/algorithm', 'jet/e', 'jet/njet', 'jet/px', 'jet/py', 'jet/pz', 'jet/words', 'muons', 'muons/e', 'muons/nmuon', 'muons/px', 'muons/py', 'muons/pz'], '_NUMBER_OF_BUCKETS_': 10000, '_SINGLETONS_GROUP_': ['METpx', 'METpy'], '_SINGLETONS_GROUP_/COUNTER': array([1, 1, 1, ..., 1, 1, 1]), '_SINGLETONS_GROUP_/COUNTER_INDEX': array([   0,    1,    2, ..., 9997, 9998, 9999]), 'jet/njet': array([17, 17, 17, ..., 17, 17, 17]), 'jet/njet_INDEX': array([     0,     17,     34, ..., 169949, 169966, 169983]), 'muons/nmuon': array([0, 0, 0, ..., 0, 0, 0]), 'muons/nmuon_INDEX': array([0, 0, 0, ..., 0, 0, 0]), 'METpx': array([0.90706635, 0.56517583, 0.41157606, ..., 0.82563543, 0.38028094,\n",
      "       0.07688881], dtype=float32), 'METpy': array([0.5408027 , 0.42032194, 0.36227405, ..., 0.7746626 , 0.5743095 ,\n",
      "       0.04650209], dtype=float32), 'jet/algorithm': array([-1,  0,  0, ...,  0,  0, -1]), 'jet/e': array([0.6653624 , 0.09477876, 0.6110457 , ..., 0.21826012, 0.2010133 ,\n",
      "       0.06504543], dtype=float32), 'jet/px': array([0.43242475, 0.6418727 , 0.13031487, ..., 0.3517255 , 0.98296475,\n",
      "       0.5123028 ], dtype=float32), 'jet/py': array([0.11075157, 0.9387773 , 0.8312021 , ..., 0.42062998, 0.9580792 ,\n",
      "       0.15153566], dtype=float32), 'jet/pz': array([0.51955336, 0.90113086, 0.72764975, ..., 0.05976445, 0.6236479 ,\n",
      "       0.82233727], dtype=float32), 'jet/words': array([b'bye', b'ciao', b'ciao', ..., b'hi', b'bye', b'hi'], dtype=object), 'muons/e': array([], dtype=float32), 'muons/px': array([], dtype=float32), 'muons/py': array([], dtype=float32), 'muons/pz': array([], dtype=float32)}\n"
     ]
    }
   ],
   "source": [
    "print(data)"
   ]
  },
  {
   "cell_type": "code",
   "execution_count": 4,
   "id": "60dd0c02-f9f8-4382-a5b5-b19a113f588f",
   "metadata": {},
   "outputs": [
    {
     "name": "stdout",
     "output_type": "stream",
     "text": [
      "{'METpx': None, 'METpy': None, '_SINGLETONS_GROUP_/COUNTER': None, 'jet/algorithm': None, 'jet/e': None, 'jet/njet': None, 'jet/px': None, 'jet/py': None, 'jet/pz': None, 'jet/words': None, 'muons/e': None, 'muons/nmuon': None, 'muons/px': None, 'muons/py': None, 'muons/pz': None}\n"
     ]
    }
   ],
   "source": [
    "print(event)"
   ]
  },
  {
   "cell_type": "markdown",
   "id": "4e334677-e2a4-4ee5-ae40-0fb7d9e304f8",
   "metadata": {},
   "source": [
    "## Reading Part of a File\n",
    "\n",
    "If you only want to read part of a file, you can load only certain groups. This is especially useful for very large datasets.\n",
    "\n",
    "To do this, you can use the `desired_groups` and `subset` arguments to load:"
   ]
  },
  {
   "cell_type": "code",
   "execution_count": 14,
   "id": "51637433-f6cb-4806-af2e-cfa211f4e36e",
   "metadata": {},
   "outputs": [
    {
     "name": "stdout",
     "output_type": "stream",
     "text": [
      "Will read in a subset of the file!\n",
      "From bucket 5 (inclusive) through bucket 9 (inclusive)\n",
      "Bucket 10 is not read in\n",
      "Reading in 5 buckets\n",
      "\n",
      "Not reading out muons/pz from the file....\n",
      "Not reading out muons/py from the file....\n",
      "Not reading out muons/px from the file....\n",
      "Not reading out muons/nmuon from the file....\n",
      "Not reading out muons/e from the file....\n",
      "Not reading out muons from the file....\n",
      "Not reading out _SINGLETONS_GROUP_/COUNTER from the file....\n",
      "Not reading out _SINGLETONS_GROUP_ from the file....\n",
      "Not reading out METpy from the file....\n",
      "Not reading out METpx from the file....\n",
      "Building the indices...\n",
      "\n",
      "Built the indices!\n",
      "Data is read in and input file is closed.\n"
     ]
    }
   ],
   "source": [
    "data,event = load(infile,desired_groups=['jet'],subset=(5,10))"
   ]
  },
  {
   "cell_type": "code",
   "execution_count": 15,
   "id": "ac2c12de-2924-4bd1-baf5-008e52876ec4",
   "metadata": {},
   "outputs": [
    {
     "name": "stdout",
     "output_type": "stream",
     "text": [
      "dict_keys(['_MAP_DATASETS_TO_COUNTERS_', '_MAP_DATASETS_TO_INDEX_', '_LIST_OF_COUNTERS_', '_LIST_OF_DATASETS_', '_NUMBER_OF_BUCKETS_', '_SINGLETONS_GROUP_', '_SINGLETONS_GROUP_/COUNTER', '_SINGLETONS_GROUP_/COUNTER_INDEX', 'jet/njet', 'jet/njet_INDEX', 'muons/nmuon', 'muons/nmuon_INDEX', 'jet/algorithm', 'jet/e', 'jet/px', 'jet/py', 'jet/pz', 'jet/words'])\n"
     ]
    }
   ],
   "source": [
    "print(data.keys())"
   ]
  },
  {
   "cell_type": "markdown",
   "id": "a893926b-3652-4555-a91b-0120cbc2b8e1",
   "metadata": {},
   "source": [
    "## Reading into Awkward Arrays\n",
    "\n",
    "Awkward arrays are a very fast datatype for heterogeneous datasets. It is relatively easy to read hepfiles into them."
   ]
  },
  {
   "cell_type": "code",
   "execution_count": null,
   "id": "2e251991-8528-4a2e-9a28-de507014d7a8",
   "metadata": {},
   "outputs": [],
   "source": []
  }
 ],
 "metadata": {
  "kernelspec": {
   "display_name": "Python 3 (ipykernel)",
   "language": "python",
   "name": "python3"
  },
  "language_info": {
   "codemirror_mode": {
    "name": "ipython",
    "version": 3
   },
   "file_extension": ".py",
   "mimetype": "text/x-python",
   "name": "python",
   "nbconvert_exporter": "python",
   "pygments_lexer": "ipython3",
   "version": "3.9.16"
  }
 },
 "nbformat": 4,
 "nbformat_minor": 5
}
