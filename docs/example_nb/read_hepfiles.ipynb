{
 "cells": [
  {
   "cell_type": "markdown",
   "id": "4595ec12-49ac-435d-9e7e-ec757b6a813a",
   "metadata": {
    "tags": []
   },
   "source": [
    "# Reading hepfiles"
   ]
  },
  {
   "cell_type": "markdown",
   "id": "c8e3f71d-2999-4c71-9d6e-f2ef14770ec5",
   "metadata": {},
   "source": [
    "*Note*: If you have not run through the `write_hepfile` do that first to generate the output file from that. That output file will be used as the input here!"
   ]
  },
  {
   "cell_type": "markdown",
   "id": "b81d91cd-b170-48bf-ab28-f3ef1fe9828f",
   "metadata": {},
   "source": [
    "## Reading the Entire File"
   ]
  },
  {
   "cell_type": "code",
   "execution_count": 1,
   "id": "c08da23c-4699-4dba-88e1-503b1b1d3cf7",
   "metadata": {},
   "outputs": [],
   "source": [
    "# import the load function\n",
    "from hepfile import load"
   ]
  },
  {
   "cell_type": "markdown",
   "id": "13dcf91f-053c-40b4-aee8-7ecc9579eb9f",
   "metadata": {},
   "source": [
    "We begin with a file, and load it into an empty data dictionary:"
   ]
  },
  {
   "cell_type": "code",
   "execution_count": 2,
   "id": "61e11c69-ede9-4b96-b67a-f47c50369167",
   "metadata": {},
   "outputs": [
    {
     "name": "stdout",
     "output_type": "stream",
     "text": [
      "Building the indices...\n",
      "\n",
      "Built the indices!\n",
      "Data is read in and input file is closed.\n"
     ]
    }
   ],
   "source": [
    "infile = 'output_from_scratch.hdf5'\n",
    "data, event = load(infile)"
   ]
  },
  {
   "cell_type": "markdown",
   "id": "0f056a93-4a69-42aa-9034-7e8dc0f78f92",
   "metadata": {},
   "source": [
    "data is a dictionary containing counters, indices, and data for all the features we care about. event is an empty dictionary waiting to be filled by data from some new event."
   ]
  },
  {
   "cell_type": "code",
   "execution_count": 3,
   "id": "6571b4d9-b317-450f-83cd-597c7b565c45",
   "metadata": {},
   "outputs": [
    {
     "name": "stdout",
     "output_type": "stream",
     "text": [
      "{'_MAP_DATASETS_TO_COUNTERS_': {'_SINGLETONS_GROUP_': '_SINGLETONS_GROUP_/COUNTER', 'jet': 'jet/njet', 'muons': 'muons/nmuon', 'jet/e': 'jet/njet', 'jet/px': 'jet/njet', 'jet/py': 'jet/njet', 'jet/pz': 'jet/njet', 'jet/algorithm': 'jet/njet', 'jet/words': 'jet/njet', 'muons/e': 'muons/nmuon', 'muons/px': 'muons/nmuon', 'muons/py': 'muons/nmuon', 'muons/pz': 'muons/nmuon', 'METpx': '_SINGLETONS_GROUP_/COUNTER', 'METpy': '_SINGLETONS_GROUP_/COUNTER'}, '_MAP_DATASETS_TO_INDEX_': {'_SINGLETONS_GROUP_': '_SINGLETONS_GROUP_/COUNTER_INDEX', 'jet': 'jet/njet_INDEX', 'muons': 'muons/nmuon_INDEX', 'jet/e': 'jet/njet_INDEX', 'jet/px': 'jet/njet_INDEX', 'jet/py': 'jet/njet_INDEX', 'jet/pz': 'jet/njet_INDEX', 'jet/algorithm': 'jet/njet_INDEX', 'jet/words': 'jet/njet_INDEX', 'muons/e': 'muons/nmuon_INDEX', 'muons/px': 'muons/nmuon_INDEX', 'muons/py': 'muons/nmuon_INDEX', 'muons/pz': 'muons/nmuon_INDEX', 'METpx': '_SINGLETONS_GROUP_/COUNTER_INDEX', 'METpy': '_SINGLETONS_GROUP_/COUNTER_INDEX'}, '_LIST_OF_COUNTERS_': ['_SINGLETONS_GROUP_/COUNTER', 'jet/njet', 'muons/nmuon'], '_LIST_OF_DATASETS_': ['METpx', 'METpy', '_SINGLETONS_GROUP_', '_SINGLETONS_GROUP_/COUNTER', 'jet', 'jet/algorithm', 'jet/e', 'jet/njet', 'jet/px', 'jet/py', 'jet/pz', 'jet/words', 'muons', 'muons/e', 'muons/nmuon', 'muons/px', 'muons/py', 'muons/pz'], '_META_': {}, '_NUMBER_OF_BUCKETS_': 10000, '_SINGLETONS_GROUP_': array(['METpx', 'METpy'], dtype='<U5'), '_SINGLETONS_GROUP_/COUNTER': array([1, 1, 1, ..., 1, 1, 1]), '_SINGLETONS_GROUP_/COUNTER_INDEX': array([   0,    1,    2, ..., 9997, 9998, 9999]), 'jet/njet': array([17, 17, 17, ..., 17, 17, 17]), 'jet/njet_INDEX': array([     0,     17,     34, ..., 169949, 169966, 169983]), 'muons/nmuon': array([0, 0, 0, ..., 0, 0, 0]), 'muons/nmuon_INDEX': array([0, 0, 0, ..., 0, 0, 0]), 'METpx': array([0.01121101, 0.29455644, 0.9308201 , ..., 0.11112153, 0.18301404,\n",
      "       0.4488755 ], dtype=float32), 'METpy': array([0.7788415 , 0.35331786, 0.6595549 , ..., 0.97332186, 0.72331977,\n",
      "       0.27794182], dtype=float32), 'jet/algorithm': array([-1,  0, -1, ...,  0,  0, -1]), 'jet/e': array([0.1786224 , 0.7619229 , 0.2516542 , ..., 0.14920186, 0.39541376,\n",
      "       0.4853714 ], dtype=float32), 'jet/px': array([0.60040915, 0.40297106, 0.13095045, ..., 0.41985202, 0.69345814,\n",
      "       0.8062854 ], dtype=float32), 'jet/py': array([0.83582973, 0.21014552, 0.09356763, ..., 0.07959607, 0.5947758 ,\n",
      "       0.84037673], dtype=float32), 'jet/pz': array([0.5880822 , 0.8977926 , 0.9186558 , ..., 0.18941784, 0.32909748,\n",
      "       0.45602134], dtype=float32), 'jet/words': array([b'bye', b'aloha', b'aloha', ..., b'aloha', b'aloha', b'ciao'],\n",
      "      dtype=object), 'muons/e': array([], dtype=float32), 'muons/px': array([], dtype=float32), 'muons/py': array([], dtype=float32), 'muons/pz': array([], dtype=float32), '_GROUPS_': {'_SINGLETONS_GROUP_': ['METpx', 'METpy'], 'jet': ['algorithm', 'e', 'njet', 'px', 'py', 'pz', 'words'], 'muons': ['e', 'nmuon', 'px', 'py', 'pz']}, '_MAP_DATASETS_TO_DATA_TYPES_': {'METpx': dtype('float32'), 'METpy': dtype('float32'), '_SINGLETONS_GROUP_': dtype('<U5'), '_SINGLETONS_GROUP_/COUNTER': dtype('int64'), 'jet/algorithm': dtype('int64'), 'jet/e': dtype('float32'), 'jet/njet': dtype('int64'), 'jet/px': dtype('float32'), 'jet/py': dtype('float32'), 'jet/pz': dtype('float32'), 'jet/words': dtype('O'), 'muons/e': dtype('float32'), 'muons/nmuon': dtype('int64'), 'muons/px': dtype('float32'), 'muons/py': dtype('float32'), 'muons/pz': dtype('float32')}, '_PROTECTED_NAMES_': {'_SINGLETONS_GROUP_', '_META_', '_MAP_DATASETS_TO_COUNTERS_', '_SINGLETONSGROUPFORSTORAGE_', '_SINGLETONS_GROUP_/COUNTER', '_MAP_DATASETS_TO_DATA_TYPES_', '_PROTECTED_NAMES_', '_LIST_OF_COUNTERS_', '_HEADER_', '_GROUPS_'}}\n"
     ]
    }
   ],
   "source": [
    "print(data)"
   ]
  },
  {
   "cell_type": "code",
   "execution_count": 4,
   "id": "60dd0c02-f9f8-4382-a5b5-b19a113f588f",
   "metadata": {},
   "outputs": [
    {
     "name": "stdout",
     "output_type": "stream",
     "text": [
      "{'METpx': None, 'METpy': None, '_SINGLETONS_GROUP_/COUNTER': None, 'jet/algorithm': None, 'jet/e': None, 'jet/njet': None, 'jet/px': None, 'jet/py': None, 'jet/pz': None, 'jet/words': None, 'muons/e': None, 'muons/nmuon': None, 'muons/px': None, 'muons/py': None, 'muons/pz': None}\n"
     ]
    }
   ],
   "source": [
    "print(event)"
   ]
  },
  {
   "cell_type": "markdown",
   "id": "4e334677-e2a4-4ee5-ae40-0fb7d9e304f8",
   "metadata": {},
   "source": [
    "## Reading Part of a File\n",
    "\n",
    "If you only want to read part of a file, you can load only certain groups. This is especially useful for very large datasets.\n",
    "\n",
    "To do this, you can use the `desired_groups` and `subset` arguments to load:"
   ]
  },
  {
   "cell_type": "code",
   "execution_count": 5,
   "id": "51637433-f6cb-4806-af2e-cfa211f4e36e",
   "metadata": {},
   "outputs": [
    {
     "name": "stdout",
     "output_type": "stream",
     "text": [
      "Will read in a subset of the file!\n",
      "From bucket 5 (inclusive) through bucket 9 (inclusive)\n",
      "Bucket 10 is not read in\n",
      "Reading in 5 buckets\n",
      "\n",
      "Not reading out muons/pz from the file....\n",
      "Not reading out muons/py from the file....\n",
      "Not reading out muons/px from the file....\n",
      "Not reading out muons/nmuon from the file....\n",
      "Not reading out muons/e from the file....\n",
      "Not reading out muons from the file....\n",
      "Not reading out _SINGLETONS_GROUP_/COUNTER from the file....\n",
      "Not reading out _SINGLETONS_GROUP_ from the file....\n",
      "Not reading out METpy from the file....\n",
      "Not reading out METpx from the file....\n",
      "Building the indices...\n",
      "\n",
      "Built the indices!\n",
      "Data is read in and input file is closed.\n"
     ]
    }
   ],
   "source": [
    "data,event = load(infile,desired_groups=['jet'],subset=(5,10))"
   ]
  },
  {
   "cell_type": "code",
   "execution_count": 6,
   "id": "ac2c12de-2924-4bd1-baf5-008e52876ec4",
   "metadata": {},
   "outputs": [
    {
     "name": "stdout",
     "output_type": "stream",
     "text": [
      "dict_keys(['_MAP_DATASETS_TO_COUNTERS_', '_MAP_DATASETS_TO_INDEX_', '_LIST_OF_COUNTERS_', '_LIST_OF_DATASETS_', '_META_', '_NUMBER_OF_BUCKETS_', '_SINGLETONS_GROUP_', '_SINGLETONS_GROUP_/COUNTER', '_SINGLETONS_GROUP_/COUNTER_INDEX', 'jet/njet', 'jet/njet_INDEX', 'muons/nmuon', 'muons/nmuon_INDEX', 'jet/algorithm', 'jet/e', 'jet/px', 'jet/py', 'jet/pz', 'jet/words', '_GROUPS_', '_MAP_DATASETS_TO_DATA_TYPES_', '_PROTECTED_NAMES_'])\n"
     ]
    }
   ],
   "source": [
    "print(data.keys())"
   ]
  },
  {
   "cell_type": "markdown",
   "id": "a893926b-3652-4555-a91b-0120cbc2b8e1",
   "metadata": {},
   "source": [
    "## Reading into Awkward Arrays\n",
    "\n",
    "Awkward arrays are a very fast datatype for heterogeneous datasets. It is relatively easy to read hepfiles into them, all you need to do is add the flag `return_type='awkward'` to `load`. Note: the event return will still just be a simple dictionary."
   ]
  },
  {
   "cell_type": "code",
   "execution_count": 7,
   "id": "2e251991-8528-4a2e-9a28-de507014d7a8",
   "metadata": {},
   "outputs": [
    {
     "name": "stdout",
     "output_type": "stream",
     "text": [
      "Building the indices...\n",
      "\n",
      "Built the indices!\n",
      "Data is read in and input file is closed.\n"
     ]
    }
   ],
   "source": [
    "data,event = load(infile, return_type='awkward')"
   ]
  },
  {
   "cell_type": "code",
   "execution_count": 8,
   "id": "9657b98d-f225-4eea-9e75-1a2973590fce",
   "metadata": {},
   "outputs": [
    {
     "name": "stdout",
     "output_type": "stream",
     "text": [
      "[{METpx: 0.0112, METpy: 0.779, jet: {...}, muons: {...}},\n",
      " {METpx: 0.295, METpy: 0.353, jet: {...}, muons: {...}},\n",
      " {METpx: 0.931, METpy: 0.66, jet: {...}, muons: {e: [], ...}},\n",
      " {METpx: 0.00724, METpy: 0.558, jet: {...}, muons: {...}},\n",
      " {METpx: 0.993, METpy: 0.491, jet: {...}, muons: {...}},\n",
      " {METpx: 0.744, METpy: 0.211, jet: {...}, muons: {...}},\n",
      " {METpx: 0.838, METpy: 0.773, jet: {...}, muons: {...}},\n",
      " {METpx: 0.763, METpy: 0.254, jet: {...}, muons: {...}},\n",
      " {METpx: 0.4, METpy: 0.443, jet: {...}, muons: {e: [], ...}},\n",
      " {METpx: 0.933, METpy: 0.257, jet: {...}, muons: {...}},\n",
      " ...,\n",
      " {METpx: 0.785, METpy: 0.288, jet: {...}, muons: {...}},\n",
      " {METpx: 0.871, METpy: 0.609, jet: {...}, muons: {...}},\n",
      " {METpx: 0.81, METpy: 0.105, jet: {...}, muons: {e: [], ...}},\n",
      " {METpx: 0.477, METpy: 0.654, jet: {...}, muons: {...}},\n",
      " {METpx: 0.992, METpy: 0.17, jet: {...}, muons: {e: [], ...}},\n",
      " {METpx: 0.0397, METpy: 0.755, jet: {...}, muons: {...}},\n",
      " {METpx: 0.111, METpy: 0.973, jet: {...}, muons: {...}},\n",
      " {METpx: 0.183, METpy: 0.723, jet: {...}, muons: {...}},\n",
      " {METpx: 0.449, METpy: 0.278, jet: {...}, muons: {...}}]\n",
      "\n",
      "[{algorithm: [-1, 0, -1, -1, ..., 0, 0, 0], e: [0.179, ...], px: [...], ...},\n",
      " {algorithm: [-1, 0, -1, 0, ..., 0, 0, -1], e: [0.414, ...], px: [...], ...},\n",
      " {algorithm: [0, -1, -1, ..., -1, 0, -1], e: [0.27, ...], px: [...], ...},\n",
      " {algorithm: [0, -1, 0, 0, ..., 0, -1, 0], e: [0.641, ...], px: [...], ...},\n",
      " {algorithm: [-1, -1, 0, ..., -1, -1, -1], e: [0.295, ...], px: [...], ...},\n",
      " {algorithm: [0, -1, 0, 0, ..., 0, 0, -1], e: [0.759, ...], px: [...], ...},\n",
      " {algorithm: [-1, 0, -1, ..., -1, -1, -1], e: [0.386, ...], px: [...], ...},\n",
      " {algorithm: [0, -1, -1, -1, ..., 0, 0, 0], e: [0.519, ...], px: [...], ...},\n",
      " {algorithm: [-1, 0, 0, 0, ..., -1, 0, 0], e: [0.589, ...], px: [...], ...},\n",
      " {algorithm: [-1, -1, 0, -1, ..., -1, 0, 0], e: [0.0114, ...], px: [...], ...},\n",
      " ...,\n",
      " {algorithm: [0, 0, -1, 0, ..., -1, 0, -1], e: [0.571, ...], px: [...], ...},\n",
      " {algorithm: [0, -1, -1, -1, ..., 0, 0, 0], e: [0.291, ...], px: [...], ...},\n",
      " {algorithm: [0, 0, 0, 0, ..., 0, 0, -1, 0], e: [0.0592, ...], px: [...], ...},\n",
      " {algorithm: [-1, -1, -1, 0, ..., 0, 0, 0], e: [0.289, ...], px: [...], ...},\n",
      " {algorithm: [0, -1, 0, 0, ..., 0, 0, -1], e: [0.556, ...], px: [...], ...},\n",
      " {algorithm: [0, 0, -1, -1, ..., 0, -1, -1], e: [0.741, ...], px: [...], ...},\n",
      " {algorithm: [-1, -1, -1, ..., -1, 0, -1], e: [0.722, ...], px: [...], ...},\n",
      " {algorithm: [0, 0, 0, -1, ..., -1, 0, -1], e: [0.626, ...], px: [...], ...},\n",
      " {algorithm: [0, 0, -1, 0, ..., 0, 0, -1], e: [0.53, ...], px: [...], ...}]\n",
      "\n",
      "[[0.6, 0.403, 0.131, 0.849, 0.181, ..., 0.339, 0.977, 0.786, 0.0225, 0.427],\n",
      " [0.115, 0.387, 0.00619, 0.82, 0.642, ..., 0.612, 0.5, 0.0867, 0.668, 0.249],\n",
      " [0.876, 0.886, 0.735, 0.371, 0.666, ..., 0.038, 0.676, 0.418, 0.0645, 0.727],\n",
      " [0.0196, 0.973, 0.19, 0.792, 0.286, ..., 0.447, 0.401, 0.66, 0.274, 0.747],\n",
      " [0.766, 0.0768, 0.925, 0.992, 0.022, ..., 0.516, 0.622, 0.288, 0.256, 0.0156],\n",
      " [0.86, 0.0234, 0.608, 0.811, 0.844, ..., 0.0332, 0.508, 0.617, 0.692, 0.972],\n",
      " [0.144, 0.981, 0.521, 0.198, 0.159, ..., 0.709, 0.22, 0.316, 0.656, 0.475],\n",
      " [0.391, 0.198, 0.928, 0.754, 0.749, ..., 0.0771, 0.846, 0.152, 0.177, 0.822],\n",
      " [0.661, 0.733, 0.823, 0.8, 0.196, ..., 0.267, 0.0755, 0.428, 0.987, 0.553],\n",
      " [0.941, 0.886, 0.183, 0.0356, 0.54, ..., 0.0618, 0.299, 0.814, 0.684, 0.601],\n",
      " ...,\n",
      " [0.354, 0.442, 0.662, 0.299, 0.315, ..., 0.536, 0.176, 0.496, 0.804, 0.98],\n",
      " [0.25, 0.742, 0.758, 0.489, 0.231, ..., 0.271, 0.364, 0.0326, 0.496, 0.888],\n",
      " [0.336, 0.124, 0.697, 0.79, 0.586, ..., 0.234, 0.0369, 0.105, 0.941, 0.625],\n",
      " [0.728, 0.871, 0.815, 0.378, 0.576, 0.6, ..., 0.428, 0.817, 0.904, 0.196, 0.1],\n",
      " [0.934, 0.816, 0.0325, 0.762, 0.146, ..., 0.359, 0.763, 0.0599, 0.688, 0.505],\n",
      " [0.413, 0.383, 0.305, 0.289, 0.784, ..., 0.183, 0.928, 0.457, 0.99, 0.201],\n",
      " [0.835, 0.54, 0.434, 0.457, 0.667, ..., 0.943, 0.822, 0.323, 0.115, 0.41],\n",
      " [0.658, 0.465, 0.936, 0.73, 0.963, ..., 0.117, 0.627, 0.0858, 0.859, 0.168],\n",
      " [0.0506, 0.484, 0.769, 0.825, 0.158, ..., 0.837, 0.555, 0.42, 0.693, 0.806]]\n"
     ]
    }
   ],
   "source": [
    "data.show() # display data\n",
    "print()\n",
    "data['jet'].show() # display just the jet data\n",
    "print()\n",
    "data.jet.px.show() # display the px data from the jet dataset"
   ]
  },
  {
   "cell_type": "code",
   "execution_count": 9,
   "id": "f9d05ff6-bb75-44f1-b849-8ce367bf3e0c",
   "metadata": {},
   "outputs": [
    {
     "data": {
      "text/plain": [
       "{'METpx': None,\n",
       " 'METpy': None,\n",
       " '_SINGLETONS_GROUP_/COUNTER': None,\n",
       " 'jet/algorithm': None,\n",
       " 'jet/e': None,\n",
       " 'jet/njet': None,\n",
       " 'jet/px': None,\n",
       " 'jet/py': None,\n",
       " 'jet/pz': None,\n",
       " 'jet/words': None,\n",
       " 'muons/e': None,\n",
       " 'muons/nmuon': None,\n",
       " 'muons/px': None,\n",
       " 'muons/py': None,\n",
       " 'muons/pz': None}"
      ]
     },
     "execution_count": 9,
     "metadata": {},
     "output_type": "execute_result"
    }
   ],
   "source": [
    "event"
   ]
  },
  {
   "cell_type": "markdown",
   "id": "f6960aa6-06d5-4f63-9518-0c044acb0d4f",
   "metadata": {},
   "source": [
    "With the `return_type=awkward` flag, you can still select a subset of the data in the same way!"
   ]
  },
  {
   "cell_type": "code",
   "execution_count": 10,
   "id": "4991f724-cdde-41a8-85bd-f3017226339d",
   "metadata": {},
   "outputs": [
    {
     "name": "stdout",
     "output_type": "stream",
     "text": [
      "Will read in a subset of the file!\n",
      "From bucket 5 (inclusive) through bucket 9 (inclusive)\n",
      "Bucket 10 is not read in\n",
      "Reading in 5 buckets\n",
      "\n",
      "Not reading out muons/pz from the file....\n",
      "Not reading out muons/py from the file....\n",
      "Not reading out muons/px from the file....\n",
      "Not reading out muons/nmuon from the file....\n",
      "Not reading out muons/e from the file....\n",
      "Not reading out muons from the file....\n",
      "Not reading out _SINGLETONS_GROUP_/COUNTER from the file....\n",
      "Not reading out _SINGLETONS_GROUP_ from the file....\n",
      "Not reading out METpy from the file....\n",
      "Not reading out METpx from the file....\n",
      "Building the indices...\n",
      "\n",
      "Built the indices!\n",
      "Data is read in and input file is closed.\n"
     ]
    }
   ],
   "source": [
    "data,event = load(infile, return_type='awkward', desired_groups=['jet'], subset=(5,10))"
   ]
  },
  {
   "cell_type": "code",
   "execution_count": 11,
   "id": "f38bdccd-79d0-4323-b929-adc0579dce35",
   "metadata": {},
   "outputs": [
    {
     "name": "stdout",
     "output_type": "stream",
     "text": [
      "[{jet: {algorithm: [0, -1, 0, ..., 0, -1], e: [...], px: [...], ...}},\n",
      " {jet: {algorithm: [-1, 0, -1, ..., -1, -1], e: [...], px: [...], ...}},\n",
      " {jet: {algorithm: [0, -1, -1, ..., 0, 0], e: [...], px: [...], ...}},\n",
      " {jet: {algorithm: [-1, 0, 0, ..., 0, 0], e: [...], px: [...], ...}},\n",
      " {jet: {algorithm: [-1, -1, 0, ..., 0, 0], e: [...], px: [...], ...}}]\n",
      "\n",
      "[{algorithm: [0, -1, 0, 0, ..., 0, 0, -1], e: [0.759, ...], px: [...], ...},\n",
      " {algorithm: [-1, 0, -1, ..., -1, -1, -1], e: [0.386, ...], px: [...], ...},\n",
      " {algorithm: [0, -1, -1, -1, ..., 0, 0, 0], e: [0.519, ...], px: [...], ...},\n",
      " {algorithm: [-1, 0, 0, 0, ..., -1, 0, 0], e: [0.589, ...], px: [...], ...},\n",
      " {algorithm: [-1, -1, 0, -1, ..., -1, 0, 0], e: [0.0114, ...], px: [...], ...}]\n",
      "\n",
      "[[0.86, 0.0234, 0.608, 0.811, 0.844, ..., 0.0332, 0.508, 0.617, 0.692, 0.972],\n",
      " [0.144, 0.981, 0.521, 0.198, 0.159, ..., 0.709, 0.22, 0.316, 0.656, 0.475],\n",
      " [0.391, 0.198, 0.928, 0.754, 0.749, ..., 0.0771, 0.846, 0.152, 0.177, 0.822],\n",
      " [0.661, 0.733, 0.823, 0.8, 0.196, ..., 0.267, 0.0755, 0.428, 0.987, 0.553],\n",
      " [0.941, 0.886, 0.183, 0.0356, 0.54, ..., 0.0618, 0.299, 0.814, 0.684, 0.601]]\n"
     ]
    }
   ],
   "source": [
    "data.show() # display data\n",
    "print()\n",
    "data['jet'].show() # display just the jet data\n",
    "print()\n",
    "data.jet.px.show() # display the px data from the jet dataset"
   ]
  },
  {
   "cell_type": "code",
   "execution_count": 12,
   "id": "94d9e693-d498-4ce1-82f0-1f4993e2499d",
   "metadata": {},
   "outputs": [
    {
     "data": {
      "text/plain": [
       "{'jet/algorithm': None,\n",
       " 'jet/e': None,\n",
       " 'jet/njet': None,\n",
       " 'jet/px': None,\n",
       " 'jet/py': None,\n",
       " 'jet/pz': None,\n",
       " 'jet/words': None}"
      ]
     },
     "execution_count": 12,
     "metadata": {},
     "output_type": "execute_result"
    }
   ],
   "source": [
    "event"
   ]
  },
  {
   "cell_type": "markdown",
   "id": "a681d169-5fe6-46cd-8328-20377f09c690",
   "metadata": {},
   "source": [
    "## Reading into a Dictionary of Pandas DataFrames\n",
    "\n",
    "To read into a dictionary of pandas dataframes where each dataframe represents data on a different group all we need to do is provide `return_type='pandas'` to `load`."
   ]
  },
  {
   "cell_type": "code",
   "execution_count": 13,
   "id": "a7eb01a1-d4aa-42cb-8670-b84d5f974ed4",
   "metadata": {},
   "outputs": [
    {
     "name": "stdout",
     "output_type": "stream",
     "text": [
      "Building the indices...\n",
      "\n",
      "Built the indices!\n",
      "Data is read in and input file is closed.\n"
     ]
    }
   ],
   "source": [
    "data, event = load(infile, return_type='pandas')"
   ]
  },
  {
   "cell_type": "code",
   "execution_count": 14,
   "id": "cba85763-c58f-475c-8776-d292fae8b888",
   "metadata": {},
   "outputs": [
    {
     "name": "stdout",
     "output_type": "stream",
     "text": [
      "Group Names: dict_keys(['_SINGLETONS_GROUP_', 'jet', 'muons'])\n"
     ]
    }
   ],
   "source": [
    "print(f'Group Names: {data.keys()}')"
   ]
  },
  {
   "cell_type": "code",
   "execution_count": 15,
   "id": "a780cb6f-2859-409a-a273-2c9614f187f7",
   "metadata": {},
   "outputs": [
    {
     "name": "stdout",
     "output_type": "stream",
     "text": [
      "jet information:\n"
     ]
    },
    {
     "data": {
      "text/html": [
       "<div>\n",
       "<style scoped>\n",
       "    .dataframe tbody tr th:only-of-type {\n",
       "        vertical-align: middle;\n",
       "    }\n",
       "\n",
       "    .dataframe tbody tr th {\n",
       "        vertical-align: top;\n",
       "    }\n",
       "\n",
       "    .dataframe thead th {\n",
       "        text-align: right;\n",
       "    }\n",
       "</style>\n",
       "<table border=\"1\" class=\"dataframe\">\n",
       "  <thead>\n",
       "    <tr style=\"text-align: right;\">\n",
       "      <th></th>\n",
       "      <th>algorithm</th>\n",
       "      <th>e</th>\n",
       "      <th>px</th>\n",
       "      <th>py</th>\n",
       "      <th>pz</th>\n",
       "      <th>words</th>\n",
       "      <th>event_num</th>\n",
       "    </tr>\n",
       "  </thead>\n",
       "  <tbody>\n",
       "    <tr>\n",
       "      <th>0</th>\n",
       "      <td>-1</td>\n",
       "      <td>0.178622</td>\n",
       "      <td>0.600409</td>\n",
       "      <td>0.835830</td>\n",
       "      <td>0.588082</td>\n",
       "      <td>b'bye'</td>\n",
       "      <td>0</td>\n",
       "    </tr>\n",
       "    <tr>\n",
       "      <th>1</th>\n",
       "      <td>0</td>\n",
       "      <td>0.761923</td>\n",
       "      <td>0.402971</td>\n",
       "      <td>0.210146</td>\n",
       "      <td>0.897793</td>\n",
       "      <td>b'aloha'</td>\n",
       "      <td>0</td>\n",
       "    </tr>\n",
       "    <tr>\n",
       "      <th>2</th>\n",
       "      <td>-1</td>\n",
       "      <td>0.251654</td>\n",
       "      <td>0.130950</td>\n",
       "      <td>0.093568</td>\n",
       "      <td>0.918656</td>\n",
       "      <td>b'aloha'</td>\n",
       "      <td>0</td>\n",
       "    </tr>\n",
       "    <tr>\n",
       "      <th>3</th>\n",
       "      <td>-1</td>\n",
       "      <td>0.869398</td>\n",
       "      <td>0.848791</td>\n",
       "      <td>0.604355</td>\n",
       "      <td>0.957420</td>\n",
       "      <td>b'hi'</td>\n",
       "      <td>0</td>\n",
       "    </tr>\n",
       "    <tr>\n",
       "      <th>4</th>\n",
       "      <td>0</td>\n",
       "      <td>0.206576</td>\n",
       "      <td>0.180672</td>\n",
       "      <td>0.894818</td>\n",
       "      <td>0.835994</td>\n",
       "      <td>b'ciao'</td>\n",
       "      <td>0</td>\n",
       "    </tr>\n",
       "    <tr>\n",
       "      <th>...</th>\n",
       "      <td>...</td>\n",
       "      <td>...</td>\n",
       "      <td>...</td>\n",
       "      <td>...</td>\n",
       "      <td>...</td>\n",
       "      <td>...</td>\n",
       "      <td>...</td>\n",
       "    </tr>\n",
       "    <tr>\n",
       "      <th>169995</th>\n",
       "      <td>0</td>\n",
       "      <td>0.194587</td>\n",
       "      <td>0.837496</td>\n",
       "      <td>0.512124</td>\n",
       "      <td>0.277076</td>\n",
       "      <td>b'aloha'</td>\n",
       "      <td>9999</td>\n",
       "    </tr>\n",
       "    <tr>\n",
       "      <th>169996</th>\n",
       "      <td>0</td>\n",
       "      <td>0.548121</td>\n",
       "      <td>0.555247</td>\n",
       "      <td>0.166261</td>\n",
       "      <td>0.876548</td>\n",
       "      <td>b'ciao'</td>\n",
       "      <td>9999</td>\n",
       "    </tr>\n",
       "    <tr>\n",
       "      <th>169997</th>\n",
       "      <td>0</td>\n",
       "      <td>0.149202</td>\n",
       "      <td>0.419852</td>\n",
       "      <td>0.079596</td>\n",
       "      <td>0.189418</td>\n",
       "      <td>b'aloha'</td>\n",
       "      <td>9999</td>\n",
       "    </tr>\n",
       "    <tr>\n",
       "      <th>169998</th>\n",
       "      <td>0</td>\n",
       "      <td>0.395414</td>\n",
       "      <td>0.693458</td>\n",
       "      <td>0.594776</td>\n",
       "      <td>0.329097</td>\n",
       "      <td>b'aloha'</td>\n",
       "      <td>9999</td>\n",
       "    </tr>\n",
       "    <tr>\n",
       "      <th>169999</th>\n",
       "      <td>-1</td>\n",
       "      <td>0.485371</td>\n",
       "      <td>0.806285</td>\n",
       "      <td>0.840377</td>\n",
       "      <td>0.456021</td>\n",
       "      <td>b'ciao'</td>\n",
       "      <td>9999</td>\n",
       "    </tr>\n",
       "  </tbody>\n",
       "</table>\n",
       "<p>170000 rows × 7 columns</p>\n",
       "</div>"
      ],
      "text/plain": [
       "        algorithm         e        px        py        pz     words  event_num\n",
       "0              -1  0.178622  0.600409  0.835830  0.588082    b'bye'          0\n",
       "1               0  0.761923  0.402971  0.210146  0.897793  b'aloha'          0\n",
       "2              -1  0.251654  0.130950  0.093568  0.918656  b'aloha'          0\n",
       "3              -1  0.869398  0.848791  0.604355  0.957420     b'hi'          0\n",
       "4               0  0.206576  0.180672  0.894818  0.835994   b'ciao'          0\n",
       "...           ...       ...       ...       ...       ...       ...        ...\n",
       "169995          0  0.194587  0.837496  0.512124  0.277076  b'aloha'       9999\n",
       "169996          0  0.548121  0.555247  0.166261  0.876548   b'ciao'       9999\n",
       "169997          0  0.149202  0.419852  0.079596  0.189418  b'aloha'       9999\n",
       "169998          0  0.395414  0.693458  0.594776  0.329097  b'aloha'       9999\n",
       "169999         -1  0.485371  0.806285  0.840377  0.456021   b'ciao'       9999\n",
       "\n",
       "[170000 rows x 7 columns]"
      ]
     },
     "execution_count": 15,
     "metadata": {},
     "output_type": "execute_result"
    }
   ],
   "source": [
    "print('jet information:')\n",
    "data['jet']"
   ]
  },
  {
   "cell_type": "markdown",
   "id": "62cc833c-31b0-4078-9cf7-d3cbcea8ce28",
   "metadata": {},
   "source": [
    "Once again, we can use a subset of the data with specific groups. However, note how the event numbers get reset to 0-4 when we use a subset with 5 rows. If this is a problem, you should look at converting the default output of `load` to a dictionary of pandas dataframes by hand using the `hf.df_tools.hepfile_to_df` method. "
   ]
  },
  {
   "cell_type": "code",
   "execution_count": 16,
   "id": "ae954337-1984-4c68-8e64-7632e9ba49c5",
   "metadata": {},
   "outputs": [
    {
     "name": "stdout",
     "output_type": "stream",
     "text": [
      "Will read in a subset of the file!\n",
      "From bucket 5 (inclusive) through bucket 9 (inclusive)\n",
      "Bucket 10 is not read in\n",
      "Reading in 5 buckets\n",
      "\n",
      "Not reading out muons/pz from the file....\n",
      "Not reading out muons/py from the file....\n",
      "Not reading out muons/px from the file....\n",
      "Not reading out muons/nmuon from the file....\n",
      "Not reading out muons/e from the file....\n",
      "Not reading out muons from the file....\n",
      "Not reading out _SINGLETONS_GROUP_/COUNTER from the file....\n",
      "Not reading out _SINGLETONS_GROUP_ from the file....\n",
      "Not reading out METpy from the file....\n",
      "Not reading out METpx from the file....\n",
      "Building the indices...\n",
      "\n",
      "Built the indices!\n",
      "Data is read in and input file is closed.\n"
     ]
    }
   ],
   "source": [
    "data,event = load(infile, return_type='pandas', desired_groups=['jet'], subset=(5,10))"
   ]
  },
  {
   "cell_type": "code",
   "execution_count": 17,
   "id": "c1812989-9e39-4016-bf6e-56c1c5543221",
   "metadata": {},
   "outputs": [
    {
     "data": {
      "text/html": [
       "<div>\n",
       "<style scoped>\n",
       "    .dataframe tbody tr th:only-of-type {\n",
       "        vertical-align: middle;\n",
       "    }\n",
       "\n",
       "    .dataframe tbody tr th {\n",
       "        vertical-align: top;\n",
       "    }\n",
       "\n",
       "    .dataframe thead th {\n",
       "        text-align: right;\n",
       "    }\n",
       "</style>\n",
       "<table border=\"1\" class=\"dataframe\">\n",
       "  <thead>\n",
       "    <tr style=\"text-align: right;\">\n",
       "      <th></th>\n",
       "      <th>algorithm</th>\n",
       "      <th>e</th>\n",
       "      <th>px</th>\n",
       "      <th>py</th>\n",
       "      <th>pz</th>\n",
       "      <th>words</th>\n",
       "      <th>event_num</th>\n",
       "    </tr>\n",
       "  </thead>\n",
       "  <tbody>\n",
       "    <tr>\n",
       "      <th>0</th>\n",
       "      <td>0</td>\n",
       "      <td>0.758752</td>\n",
       "      <td>0.859935</td>\n",
       "      <td>0.125270</td>\n",
       "      <td>0.438869</td>\n",
       "      <td>b'hi'</td>\n",
       "      <td>0</td>\n",
       "    </tr>\n",
       "    <tr>\n",
       "      <th>1</th>\n",
       "      <td>-1</td>\n",
       "      <td>0.879485</td>\n",
       "      <td>0.023435</td>\n",
       "      <td>0.451097</td>\n",
       "      <td>0.183107</td>\n",
       "      <td>b'hi'</td>\n",
       "      <td>0</td>\n",
       "    </tr>\n",
       "    <tr>\n",
       "      <th>2</th>\n",
       "      <td>0</td>\n",
       "      <td>0.131377</td>\n",
       "      <td>0.608286</td>\n",
       "      <td>0.516602</td>\n",
       "      <td>0.375593</td>\n",
       "      <td>b'hi'</td>\n",
       "      <td>0</td>\n",
       "    </tr>\n",
       "    <tr>\n",
       "      <th>3</th>\n",
       "      <td>0</td>\n",
       "      <td>0.622495</td>\n",
       "      <td>0.811466</td>\n",
       "      <td>0.631376</td>\n",
       "      <td>0.121259</td>\n",
       "      <td>b'aloha'</td>\n",
       "      <td>0</td>\n",
       "    </tr>\n",
       "    <tr>\n",
       "      <th>4</th>\n",
       "      <td>-1</td>\n",
       "      <td>0.594603</td>\n",
       "      <td>0.844051</td>\n",
       "      <td>0.304491</td>\n",
       "      <td>0.176327</td>\n",
       "      <td>b'aloha'</td>\n",
       "      <td>0</td>\n",
       "    </tr>\n",
       "    <tr>\n",
       "      <th>...</th>\n",
       "      <td>...</td>\n",
       "      <td>...</td>\n",
       "      <td>...</td>\n",
       "      <td>...</td>\n",
       "      <td>...</td>\n",
       "      <td>...</td>\n",
       "      <td>...</td>\n",
       "    </tr>\n",
       "    <tr>\n",
       "      <th>80</th>\n",
       "      <td>0</td>\n",
       "      <td>0.870541</td>\n",
       "      <td>0.061788</td>\n",
       "      <td>0.651052</td>\n",
       "      <td>0.488788</td>\n",
       "      <td>b'hi'</td>\n",
       "      <td>4</td>\n",
       "    </tr>\n",
       "    <tr>\n",
       "      <th>81</th>\n",
       "      <td>0</td>\n",
       "      <td>0.238655</td>\n",
       "      <td>0.299215</td>\n",
       "      <td>0.831584</td>\n",
       "      <td>0.526371</td>\n",
       "      <td>b'aloha'</td>\n",
       "      <td>4</td>\n",
       "    </tr>\n",
       "    <tr>\n",
       "      <th>82</th>\n",
       "      <td>-1</td>\n",
       "      <td>0.612054</td>\n",
       "      <td>0.814023</td>\n",
       "      <td>0.239940</td>\n",
       "      <td>0.262937</td>\n",
       "      <td>b'hi'</td>\n",
       "      <td>4</td>\n",
       "    </tr>\n",
       "    <tr>\n",
       "      <th>83</th>\n",
       "      <td>0</td>\n",
       "      <td>0.830777</td>\n",
       "      <td>0.684267</td>\n",
       "      <td>0.012055</td>\n",
       "      <td>0.138162</td>\n",
       "      <td>b'hi'</td>\n",
       "      <td>4</td>\n",
       "    </tr>\n",
       "    <tr>\n",
       "      <th>84</th>\n",
       "      <td>0</td>\n",
       "      <td>0.164005</td>\n",
       "      <td>0.600531</td>\n",
       "      <td>0.208160</td>\n",
       "      <td>0.706040</td>\n",
       "      <td>b'ciao'</td>\n",
       "      <td>4</td>\n",
       "    </tr>\n",
       "  </tbody>\n",
       "</table>\n",
       "<p>85 rows × 7 columns</p>\n",
       "</div>"
      ],
      "text/plain": [
       "    algorithm         e        px        py        pz     words  event_num\n",
       "0           0  0.758752  0.859935  0.125270  0.438869     b'hi'          0\n",
       "1          -1  0.879485  0.023435  0.451097  0.183107     b'hi'          0\n",
       "2           0  0.131377  0.608286  0.516602  0.375593     b'hi'          0\n",
       "3           0  0.622495  0.811466  0.631376  0.121259  b'aloha'          0\n",
       "4          -1  0.594603  0.844051  0.304491  0.176327  b'aloha'          0\n",
       "..        ...       ...       ...       ...       ...       ...        ...\n",
       "80          0  0.870541  0.061788  0.651052  0.488788     b'hi'          4\n",
       "81          0  0.238655  0.299215  0.831584  0.526371  b'aloha'          4\n",
       "82         -1  0.612054  0.814023  0.239940  0.262937     b'hi'          4\n",
       "83          0  0.830777  0.684267  0.012055  0.138162     b'hi'          4\n",
       "84          0  0.164005  0.600531  0.208160  0.706040   b'ciao'          4\n",
       "\n",
       "[85 rows x 7 columns]"
      ]
     },
     "execution_count": 17,
     "metadata": {},
     "output_type": "execute_result"
    }
   ],
   "source": [
    "data['jet']"
   ]
  }
 ],
 "metadata": {
  "kernelspec": {
   "display_name": "Python 3 (ipykernel)",
   "language": "python",
   "name": "python3"
  },
  "language_info": {
   "codemirror_mode": {
    "name": "ipython",
    "version": 3
   },
   "file_extension": ".py",
   "mimetype": "text/x-python",
   "name": "python",
   "nbconvert_exporter": "python",
   "pygments_lexer": "ipython3",
   "version": "3.9.16"
  }
 },
 "nbformat": 4,
 "nbformat_minor": 5
}
