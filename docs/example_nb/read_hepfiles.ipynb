{
 "cells": [
  {
   "cell_type": "markdown",
   "id": "4595ec12-49ac-435d-9e7e-ec757b6a813a",
   "metadata": {
    "tags": []
   },
   "source": [
    "# Reading hepfiles"
   ]
  },
  {
   "cell_type": "markdown",
   "id": "c8e3f71d-2999-4c71-9d6e-f2ef14770ec5",
   "metadata": {},
   "source": [
    "*Note*: If you have not run through the `write_hepfile` do that first to generate the output file from that. That output file will be used as the input here!"
   ]
  },
  {
   "cell_type": "markdown",
   "id": "b81d91cd-b170-48bf-ab28-f3ef1fe9828f",
   "metadata": {},
   "source": [
    "## Reading the Entire File"
   ]
  },
  {
   "cell_type": "code",
   "execution_count": 1,
   "id": "c08da23c-4699-4dba-88e1-503b1b1d3cf7",
   "metadata": {},
   "outputs": [],
   "source": [
    "# import the load function\n",
    "from hepfile import load"
   ]
  },
  {
   "cell_type": "markdown",
   "id": "13dcf91f-053c-40b4-aee8-7ecc9579eb9f",
   "metadata": {},
   "source": [
    "We begin with a file, and load it into an empty data dictionary:"
   ]
  },
  {
   "cell_type": "code",
   "execution_count": 2,
   "id": "61e11c69-ede9-4b96-b67a-f47c50369167",
   "metadata": {},
   "outputs": [
    {
     "name": "stdout",
     "output_type": "stream",
     "text": [
      "Building the indices...\n",
      "\n",
      "Built the indices!\n",
      "Data is read in and input file is closed.\n"
     ]
    }
   ],
   "source": [
    "infile = 'output_from_scratch.hdf5'\n",
    "data, event = load(infile)"
   ]
  },
  {
   "cell_type": "markdown",
   "id": "0f056a93-4a69-42aa-9034-7e8dc0f78f92",
   "metadata": {},
   "source": [
    "data is a dictionary containing counters, indices, and data for all the features we care about. event is an empty dictionary waiting to be filled by data from some new event."
   ]
  },
  {
   "cell_type": "code",
   "execution_count": 3,
   "id": "6571b4d9-b317-450f-83cd-597c7b565c45",
   "metadata": {},
   "outputs": [
    {
     "name": "stdout",
     "output_type": "stream",
     "text": [
      "{'_MAP_DATASETS_TO_COUNTERS_': {'_SINGLETONS_GROUP_': '_SINGLETONS_GROUP_/COUNTER', 'jet': 'jet/njet', 'muons': 'muons/nmuon', 'jet/e': 'jet/njet', 'jet/px': 'jet/njet', 'jet/py': 'jet/njet', 'jet/pz': 'jet/njet', 'jet/algorithm': 'jet/njet', 'jet/words': 'jet/njet', 'muons/e': 'muons/nmuon', 'muons/px': 'muons/nmuon', 'muons/py': 'muons/nmuon', 'muons/pz': 'muons/nmuon', 'METpx': '_SINGLETONS_GROUP_/COUNTER', 'METpy': '_SINGLETONS_GROUP_/COUNTER'}, '_MAP_DATASETS_TO_INDEX_': {'_SINGLETONS_GROUP_': '_SINGLETONS_GROUP_/COUNTER_INDEX', 'jet': 'jet/njet_INDEX', 'muons': 'muons/nmuon_INDEX', 'jet/e': 'jet/njet_INDEX', 'jet/px': 'jet/njet_INDEX', 'jet/py': 'jet/njet_INDEX', 'jet/pz': 'jet/njet_INDEX', 'jet/algorithm': 'jet/njet_INDEX', 'jet/words': 'jet/njet_INDEX', 'muons/e': 'muons/nmuon_INDEX', 'muons/px': 'muons/nmuon_INDEX', 'muons/py': 'muons/nmuon_INDEX', 'muons/pz': 'muons/nmuon_INDEX', 'METpx': '_SINGLETONS_GROUP_/COUNTER_INDEX', 'METpy': '_SINGLETONS_GROUP_/COUNTER_INDEX'}, '_LIST_OF_COUNTERS_': ['_SINGLETONS_GROUP_/COUNTER', 'jet/njet', 'muons/nmuon'], '_LIST_OF_DATASETS_': ['METpx', 'METpy', '_SINGLETONS_GROUP_', '_SINGLETONS_GROUP_/COUNTER', 'jet', 'jet/algorithm', 'jet/e', 'jet/njet', 'jet/px', 'jet/py', 'jet/pz', 'jet/words', 'muons', 'muons/e', 'muons/nmuon', 'muons/px', 'muons/py', 'muons/pz'], '_NUMBER_OF_BUCKETS_': 10000, '_SINGLETONS_GROUP_': ['METpx', 'METpy'], '_SINGLETONS_GROUP_/COUNTER': array([1, 1, 1, ..., 1, 1, 1]), '_SINGLETONS_GROUP_/COUNTER_INDEX': array([   0,    1,    2, ..., 9997, 9998, 9999]), 'jet/njet': array([17, 17, 17, ..., 17, 17, 17]), 'jet/njet_INDEX': array([     0,     17,     34, ..., 169949, 169966, 169983]), 'muons/nmuon': array([0, 0, 0, ..., 0, 0, 0]), 'muons/nmuon_INDEX': array([0, 0, 0, ..., 0, 0, 0]), 'METpx': array([0.4058893 , 0.62839246, 0.61772746, ..., 0.47906914, 0.4403123 ,\n",
      "       0.7590624 ], dtype=float32), 'METpy': array([0.42890933, 0.34126675, 0.36145273, ..., 0.08645324, 0.9961654 ,\n",
      "       0.29602173], dtype=float32), 'jet/algorithm': array([ 0, -1, -1, ..., -1,  0,  0]), 'jet/e': array([0.68059963, 0.33724356, 0.5953098 , ..., 0.04649014, 0.16610783,\n",
      "       0.58380336], dtype=float32), 'jet/px': array([0.559159  , 0.48455223, 0.81322527, ..., 0.549283  , 0.5318173 ,\n",
      "       0.87400806], dtype=float32), 'jet/py': array([0.93095845, 0.5816816 , 0.03081666, ..., 0.36019295, 0.55374163,\n",
      "       0.18262377], dtype=float32), 'jet/pz': array([0.7671537 , 0.8887322 , 0.12758152, ..., 0.30918992, 0.27600202,\n",
      "       0.9879863 ], dtype=float32), 'jet/words': array([b'hi', b'aloha', b'hi', ..., b'hi', b'aloha', b'aloha'],\n",
      "      dtype=object), 'muons/e': array([], dtype=float32), 'muons/px': array([], dtype=float32), 'muons/py': array([], dtype=float32), 'muons/pz': array([], dtype=float32)}\n"
     ]
    }
   ],
   "source": [
    "print(data)"
   ]
  },
  {
   "cell_type": "code",
   "execution_count": 4,
   "id": "60dd0c02-f9f8-4382-a5b5-b19a113f588f",
   "metadata": {},
   "outputs": [
    {
     "name": "stdout",
     "output_type": "stream",
     "text": [
      "{'METpx': None, 'METpy': None, '_SINGLETONS_GROUP_/COUNTER': None, 'jet/algorithm': None, 'jet/e': None, 'jet/njet': None, 'jet/px': None, 'jet/py': None, 'jet/pz': None, 'jet/words': None, 'muons/e': None, 'muons/nmuon': None, 'muons/px': None, 'muons/py': None, 'muons/pz': None}\n"
     ]
    }
   ],
   "source": [
    "print(event)"
   ]
  },
  {
   "cell_type": "markdown",
   "id": "4e334677-e2a4-4ee5-ae40-0fb7d9e304f8",
   "metadata": {},
   "source": [
    "## Reading Part of a File\n",
    "\n",
    "If you only want to read part of a file, you can load only certain groups. This is especially useful for very large datasets.\n",
    "\n",
    "To do this, you can use the `desired_groups` and `subset` arguments to load:"
   ]
  },
  {
   "cell_type": "code",
   "execution_count": 5,
   "id": "51637433-f6cb-4806-af2e-cfa211f4e36e",
   "metadata": {},
   "outputs": [
    {
     "name": "stdout",
     "output_type": "stream",
     "text": [
      "Will read in a subset of the file!\n",
      "From bucket 5 (inclusive) through bucket 9 (inclusive)\n",
      "Bucket 10 is not read in\n",
      "Reading in 5 buckets\n",
      "\n",
      "Not reading out muons/pz from the file....\n",
      "Not reading out muons/py from the file....\n",
      "Not reading out muons/px from the file....\n",
      "Not reading out muons/nmuon from the file....\n",
      "Not reading out muons/e from the file....\n",
      "Not reading out muons from the file....\n",
      "Not reading out _SINGLETONS_GROUP_/COUNTER from the file....\n",
      "Not reading out _SINGLETONS_GROUP_ from the file....\n",
      "Not reading out METpy from the file....\n",
      "Not reading out METpx from the file....\n",
      "Building the indices...\n",
      "\n",
      "Built the indices!\n",
      "Data is read in and input file is closed.\n"
     ]
    }
   ],
   "source": [
    "data,event = load(infile,desired_groups=['jet'],subset=(5,10))"
   ]
  },
  {
   "cell_type": "code",
   "execution_count": 6,
   "id": "ac2c12de-2924-4bd1-baf5-008e52876ec4",
   "metadata": {},
   "outputs": [
    {
     "name": "stdout",
     "output_type": "stream",
     "text": [
      "dict_keys(['_MAP_DATASETS_TO_COUNTERS_', '_MAP_DATASETS_TO_INDEX_', '_LIST_OF_COUNTERS_', '_LIST_OF_DATASETS_', '_NUMBER_OF_BUCKETS_', '_SINGLETONS_GROUP_', '_SINGLETONS_GROUP_/COUNTER', '_SINGLETONS_GROUP_/COUNTER_INDEX', 'jet/njet', 'jet/njet_INDEX', 'muons/nmuon', 'muons/nmuon_INDEX', 'jet/algorithm', 'jet/e', 'jet/px', 'jet/py', 'jet/pz', 'jet/words'])\n"
     ]
    }
   ],
   "source": [
    "print(data.keys())"
   ]
  },
  {
   "cell_type": "markdown",
   "id": "a893926b-3652-4555-a91b-0120cbc2b8e1",
   "metadata": {},
   "source": [
    "## Reading into Awkward Arrays\n",
    "\n",
    "Awkward arrays are a very fast datatype for heterogeneous datasets. It is relatively easy to read hepfiles into them, all you need to do is add the flag `return_awkward=True` to `load`. Note: the event return will still just be a simple dictionary."
   ]
  },
  {
   "cell_type": "code",
   "execution_count": 7,
   "id": "2e251991-8528-4a2e-9a28-de507014d7a8",
   "metadata": {},
   "outputs": [
    {
     "name": "stdout",
     "output_type": "stream",
     "text": [
      "Building the indices...\n",
      "\n",
      "Built the indices!\n",
      "Data is read in and input file is closed.\n",
      "['METpx' 'METpy' 'jet' 'muons'] ['METpx', 'METpy', '_SINGLETONS_GROUP_', '_SINGLETONS_GROUP_/COUNTER', 'jet', 'jet/algorithm', 'jet/e', 'jet/njet', 'jet/px', 'jet/py', 'jet/pz', 'jet/words', 'muons', 'muons/e', 'muons/nmuon', 'muons/px', 'muons/py', 'muons/pz']\n"
     ]
    }
   ],
   "source": [
    "data,event = load(infile, return_awkward=True)"
   ]
  },
  {
   "cell_type": "code",
   "execution_count": 8,
   "id": "9657b98d-f225-4eea-9e75-1a2973590fce",
   "metadata": {},
   "outputs": [
    {
     "name": "stdout",
     "output_type": "stream",
     "text": [
      "{METpx: [0.406, 0.628, 0.618, 0.894, 0.316, ..., 0.405, 0.479, 0.44, 0.759],\n",
      " METpy: [0.429, 0.341, 0.361, 0.225, 0.537, ..., 0.41, 0.0865, 0.996, 0.296],\n",
      " jet: [{algorithm: [0, -1, -1, ..., 0, 0], e: [...], px: [...], ...}, ...],\n",
      " muons: [{e: [], px: [], py: [], pz: []}, ..., {e: [], px: [], py: [], ...}]}\n",
      "\n",
      "[{algorithm: [0, -1, -1, -1, ..., 0, 0, 0], e: [0.681, ...], px: [...], ...},\n",
      " {algorithm: [0, -1, -1, 0, ..., -1, 0, 0], e: [0.6, ...], px: [...], ...},\n",
      " {algorithm: [-1, -1, 0, 0, ..., 0, 0, -1], e: [0.975, ...], px: [...], ...},\n",
      " {algorithm: [-1, 0, -1, 0, ..., 0, -1, 0], e: [0.789, ...], px: [...], ...},\n",
      " {algorithm: [0, 0, 0, -1, ..., -1, 0, -1], e: [0.833, ...], px: [...], ...},\n",
      " {algorithm: [0, -1, -1, 0, ..., 0, -1, 0], e: [0.481, ...], px: [...], ...},\n",
      " {algorithm: [-1, -1, 0, 0, ..., 0, -1, 0], e: [0.305, ...], px: [...], ...},\n",
      " {algorithm: [-1, 0, 0, -1, ..., 0, 0, 0], e: [0.577, ...], px: [...], ...},\n",
      " {algorithm: [-1, -1, 0, 0, ..., 0, -1, -1], e: [0.439, ...], px: [...], ...},\n",
      " {algorithm: [-1, 0, 0, 0, ..., -1, -1, 0], e: [0.519, ...], px: [...], ...},\n",
      " ...,\n",
      " {algorithm: [-1, -1, -1, ..., 0, -1, -1], e: [0.763, ...], px: [...], ...},\n",
      " {algorithm: [0, -1, -1, 0, ..., 0, 0, -1], e: [0.717, ...], px: [...], ...},\n",
      " {algorithm: [-1, -1, 0, ..., -1, 0, -1], e: [0.475, ...], px: [...], ...},\n",
      " {algorithm: [-1, 0, -1, 0, ..., 0, -1, -1], e: [0.627, ...], px: [...], ...},\n",
      " {algorithm: [-1, -1, -1, ..., -1, 0, -1], e: [0.906, ...], px: [...], ...},\n",
      " {algorithm: [-1, 0, 0, 0, ..., -1, -1, -1], e: [0.716, ...], px: [...], ...},\n",
      " {algorithm: [-1, 0, 0, 0, ..., 0, 0, -1], e: [0.597, ...], px: [...], ...},\n",
      " {algorithm: [-1, 0, 0, -1, ..., 0, 0, -1], e: [0.464, ...], px: [...], ...},\n",
      " {algorithm: [0, 0, -1, -1, ..., -1, 0, 0], e: [0.57, ...], px: [...], ...}]\n",
      "\n",
      "[[0.559, 0.485, 0.813, 0.974, 0.292, ..., 0.214, 0.558, 0.464, 0.0952, 0.00507],\n",
      " [0.597, 0.648, 0.929, 0.778, 0.292, ..., 0.73, 0.238, 0.0752, 0.747, 0.666],\n",
      " [0.455, 0.615, 0.14, 0.927, 0.208, ..., 0.182, 0.853, 0.712, 0.641, 0.102],\n",
      " [0.917, 0.347, 0.615, 0.566, 0.955, ..., 0.262, 0.307, 0.947, 0.643, 0.0871],\n",
      " [0.642, 0.799, 0.936, 0.394, 0.677, ..., 0.258, 0.128, 0.363, 0.112, 0.149],\n",
      " [0.517, 0.183, 0.492, 0.766, 0.988, ..., 0.585, 0.641, 0.158, 0.608, 0.778],\n",
      " [0.73, 0.782, 0.727, 0.24, 0.314, 0.75, ..., 0.16, 0.816, 0.797, 0.644, 0.439],\n",
      " [0.147, 0.672, 0.458, 0.144, 0.175, ..., 0.934, 0.319, 0.174, 0.408, 0.244],\n",
      " [0.836, 0.355, 0.0733, 0.955, 0.212, ..., 0.879, 0.447, 0.669, 0.634, 0.66],\n",
      " [0.287, 0.67, 0.37, 0.732, 0.325, ..., 0.911, 0.649, 0.999, 0.635, 0.946],\n",
      " ...,\n",
      " [0.903, 0.143, 0.729, 0.382, 0.0783, ..., 0.784, 0.223, 0.711, 0.718, 0.0271],\n",
      " [0.901, 0.907, 0.645, 0.206, 0.395, ..., 0.854, 0.201, 0.5, 0.407, 0.185],\n",
      " [0.672, 0.248, 0.613, 0.935, 0.618, ..., 0.356, 0.686, 1, 0.198, 0.556],\n",
      " [0.859, 0.946, 0.697, 0.3, 0.211, ..., 0.975, 0.51, 0.00399, 0.926, 0.866],\n",
      " [0.0467, 0.695, 0.259, 0.542, 0.472, ..., 0.92, 0.0112, 0.031, 0.116, 0.515],\n",
      " [0.608, 0.753, 0.042, 0.318, 0.368, ..., 0.456, 0.594, 0.888, 0.466, 0.119],\n",
      " [0.393, 0.687, 0.716, 0.521, 0.653, ..., 0.147, 0.248, 0.385, 0.0591, 0.94],\n",
      " [0.349, 0.515, 0.6, 0.14, 0.313, ..., 0.483, 0.403, 0.624, 0.628, 0.678],\n",
      " [0.347, 0.498, 0.808, 0.961, 0.776, ..., 0.0132, 0.998, 0.549, 0.532, 0.874]]\n"
     ]
    }
   ],
   "source": [
    "data.show() # display data\n",
    "print()\n",
    "data['jet'].show() # display just the jet data\n",
    "print()\n",
    "data.jet.px.show() # display the px data from the jet dataset"
   ]
  },
  {
   "cell_type": "code",
   "execution_count": 9,
   "id": "f9d05ff6-bb75-44f1-b849-8ce367bf3e0c",
   "metadata": {},
   "outputs": [
    {
     "data": {
      "text/plain": [
       "{'METpx': None,\n",
       " 'METpy': None,\n",
       " '_SINGLETONS_GROUP_/COUNTER': None,\n",
       " 'jet/algorithm': None,\n",
       " 'jet/e': None,\n",
       " 'jet/njet': None,\n",
       " 'jet/px': None,\n",
       " 'jet/py': None,\n",
       " 'jet/pz': None,\n",
       " 'jet/words': None,\n",
       " 'muons/e': None,\n",
       " 'muons/nmuon': None,\n",
       " 'muons/px': None,\n",
       " 'muons/py': None,\n",
       " 'muons/pz': None}"
      ]
     },
     "execution_count": 9,
     "metadata": {},
     "output_type": "execute_result"
    }
   ],
   "source": [
    "event"
   ]
  },
  {
   "cell_type": "markdown",
   "id": "f6960aa6-06d5-4f63-9518-0c044acb0d4f",
   "metadata": {},
   "source": [
    "With the `return_awkward=True` flag, you can still select a subset of the data in the same way!"
   ]
  },
  {
   "cell_type": "code",
   "execution_count": 10,
   "id": "4991f724-cdde-41a8-85bd-f3017226339d",
   "metadata": {},
   "outputs": [
    {
     "name": "stdout",
     "output_type": "stream",
     "text": [
      "Will read in a subset of the file!\n",
      "From bucket 5 (inclusive) through bucket 9 (inclusive)\n",
      "Bucket 10 is not read in\n",
      "Reading in 5 buckets\n",
      "\n",
      "Not reading out muons/pz from the file....\n",
      "Not reading out muons/py from the file....\n",
      "Not reading out muons/px from the file....\n",
      "Not reading out muons/nmuon from the file....\n",
      "Not reading out muons/e from the file....\n",
      "Not reading out muons from the file....\n",
      "Not reading out _SINGLETONS_GROUP_/COUNTER from the file....\n",
      "Not reading out _SINGLETONS_GROUP_ from the file....\n",
      "Not reading out METpy from the file....\n",
      "Not reading out METpx from the file....\n",
      "Building the indices...\n",
      "\n",
      "Built the indices!\n",
      "Data is read in and input file is closed.\n",
      "['jet'] ['jet', 'jet/algorithm', 'jet/e', 'jet/njet', 'jet/px', 'jet/py', 'jet/pz', 'jet/words']\n"
     ]
    }
   ],
   "source": [
    "data,event = load(infile, return_awkward=True, desired_groups=['jet'], subset=(5,10))"
   ]
  },
  {
   "cell_type": "code",
   "execution_count": 11,
   "id": "f38bdccd-79d0-4323-b929-adc0579dce35",
   "metadata": {},
   "outputs": [
    {
     "name": "stdout",
     "output_type": "stream",
     "text": [
      "{jet: [{algorithm: [0, -1, -1, ..., -1, 0], e: [...], px: [...], ...}, ...]}\n",
      "\n",
      "[{algorithm: [0, -1, -1, 0, ..., 0, -1, 0], e: [0.481, ...], px: [...], ...},\n",
      " {algorithm: [-1, -1, 0, 0, ..., 0, -1, 0], e: [0.305, ...], px: [...], ...},\n",
      " {algorithm: [-1, 0, 0, -1, ..., 0, 0, 0], e: [0.577, ...], px: [...], ...},\n",
      " {algorithm: [-1, -1, 0, 0, ..., 0, -1, -1], e: [0.439, ...], px: [...], ...},\n",
      " {algorithm: [-1, 0, 0, 0, ..., -1, -1, 0], e: [0.519, ...], px: [...], ...}]\n",
      "\n",
      "[[0.517, 0.183, 0.492, 0.766, 0.988, ..., 0.585, 0.641, 0.158, 0.608, 0.778],\n",
      " [0.73, 0.782, 0.727, 0.24, 0.314, 0.75, ..., 0.16, 0.816, 0.797, 0.644, 0.439],\n",
      " [0.147, 0.672, 0.458, 0.144, 0.175, ..., 0.934, 0.319, 0.174, 0.408, 0.244],\n",
      " [0.836, 0.355, 0.0733, 0.955, 0.212, ..., 0.879, 0.447, 0.669, 0.634, 0.66],\n",
      " [0.287, 0.67, 0.37, 0.732, 0.325, ..., 0.911, 0.649, 0.999, 0.635, 0.946]]\n"
     ]
    }
   ],
   "source": [
    "data.show() # display data\n",
    "print()\n",
    "data['jet'].show() # display just the jet data\n",
    "print()\n",
    "data.jet.px.show() # display the px data from the jet dataset"
   ]
  },
  {
   "cell_type": "code",
   "execution_count": 12,
   "id": "94d9e693-d498-4ce1-82f0-1f4993e2499d",
   "metadata": {},
   "outputs": [
    {
     "data": {
      "text/plain": [
       "{'jet/algorithm': None,\n",
       " 'jet/e': None,\n",
       " 'jet/njet': None,\n",
       " 'jet/px': None,\n",
       " 'jet/py': None,\n",
       " 'jet/pz': None,\n",
       " 'jet/words': None}"
      ]
     },
     "execution_count": 12,
     "metadata": {},
     "output_type": "execute_result"
    }
   ],
   "source": [
    "event"
   ]
  },
  {
   "cell_type": "code",
   "execution_count": null,
   "id": "4755f9a7-202c-479f-a45e-0b90a1edd4c9",
   "metadata": {},
   "outputs": [],
   "source": []
  }
 ],
 "metadata": {
  "kernelspec": {
   "display_name": "Python 3 (ipykernel)",
   "language": "python",
   "name": "python3"
  },
  "language_info": {
   "codemirror_mode": {
    "name": "ipython",
    "version": 3
   },
   "file_extension": ".py",
   "mimetype": "text/x-python",
   "name": "python",
   "nbconvert_exporter": "python",
   "pygments_lexer": "ipython3",
   "version": "3.9.16"
  }
 },
 "nbformat": 4,
 "nbformat_minor": 5
}
